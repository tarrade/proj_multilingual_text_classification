{
 "cells": [
  {
   "cell_type": "markdown",
   "metadata": {
    "Collapsed": "false"
   },
   "source": [
    "# The Stanford Sentiment Treebank \n",
    "The Stanford Sentiment Treebank consists of sentences from movie reviews and human annotations of their sentiment. The task is to predict the sentiment of a given sentence. We use the two-way (positive/negative) class split, and use only sentence-level labels."
   ]
  },
  {
   "cell_type": "code",
   "execution_count": 3,
   "metadata": {
    "Collapsed": "false"
   },
   "outputs": [
    {
     "data": {
      "text/markdown": [
       "Environment variables that need to be defined:   \n",
       "`export DIR_PROJ=your_path_git_repository`  \n",
       "`export PYTHONPATH=$DIR_PROJ/src`  \n",
       "`export PATH_TENSORBOARD=your_path_tensorboard`  \n",
       "`export PATH_DATASETS=your_path_datasets`  \n",
       "`export PROJECT_ID=your_gcp_project_id`  \n",
       "`export BUCKET_NAME=your_gcp_gs_bucket_name`  \n",
       "`export BUCKET_TRANSLATION_NAME=your_gcp_gs_bucket_translation_name`  \n",
       "`export BUCKET_STAGING_NAME=your_gcp_gs_bucket_staging_name` \n",
       "`export REGION=your_region`  \n",
       "`export PATH_SAVE_MODEL=your_path_to_save_model`  \n",
       "`export CLOUDSDK_PYTHON=your_path/conda-env/env_gcp_sdk/bin/python`  \n",
       "`export CLOUDSDK_GSUTIL_PYTHON=your_path/conda-env/env_gcp_sdk/bin/python`  \n",
       "\n",
       "- Use local Jupyter Lab \n",
       "    - you need to have the `jupyter-notebook` Anaconda python environment created [link](local_jupyter_lab_installation.md) \n",
       "    - you need to have the `jupyter-notebook` Anaconda python environment activated [link](local_jupyter_lab_installation.md) \n",
       "    - then define the environment variables above (copy and paste) \n",
       "    - you need to have the `env_multilingual_class` Anaconda python environment created [link](local_jupyter_lab_installation.md)  \n",
       "    - start Jupyter Lab:  `jupyter lab` \n",
       "    - open a Jupyter Lab notebook from `notebook/` \n",
       "     - clone this repositiory: `git clone https://github.com/tarrade/proj_multilingual_text_classification.git`\n",
       "    - choose the proper Anaconda python environment:  `Python [conda env:env_multilingual_class]` [link](conda_env.md) \n",
       "    - clone this repositiory: `git clone https://github.com/tarrade/proj_multilingual_text_classification.git`\n",
       "\n",
       "\n",
       "- Use GCP Jupyter Lab \n",
       "    - Go on GCP\n",
       "    - open a Cloud Shell\n",
       "    - `ssh-keygen -t rsa -b 4096 -C firstName_lastName`\n",
       "    - `cp .ssh/id_rsa.pub .`\n",
       "    - use Cloud Editor to edit this file `id_rsa.pub` and copy the full content\n",
       "    - Go on Compute Engine -> Metadata\n",
       "    - Click SSH Keys\n",
       "    - Click Edit\n",
       "    - Click + Add item, copy the content of `id_rsa.pub`\n",
       "    - You should see firstName_lastName of the left\n",
       "    - Click Save\n",
       "    - you need to start a AI Platform instance \n",
       "    - open a Jupyter Lab terminal and got to `/home/gcp_user_name/`\n",
       "    - clone this repositiory: `git clone https://github.com/tarrade/proj_multilingual_text_classification.git`\n",
       "    - then `cd proj_multilingual_text_classification/`\n",
       "    - create the Anacond Python environment `conda env create -f env/environment.yml`\n",
       "    - create a file `config.sh` in `/home` with the following information: \n",
       "    ```\n",
       "    #!/bin/bash\n",
       "    \n",
       "    echo \"applying some configuration ...\"\n",
       "    git config --global user.email user_email\n",
       "    git config --global user.name user_name\n",
       "    git config --global credential.helper store\n",
       "        \n",
       "    # Add here the enviroment variables from above below\n",
       "    # [EDIT ME]\n",
       "    export DIR_PROJ=your_path_git_repository\n",
       "    export PYTHONPATH=$DIR_PROJ/src\n",
       "  \n",
       "    cd /home/gcp_user_name/\n",
       "    \n",
       "    conda activate env_multilingual_class\n",
       "\n",
       "    export PS1='\\[\\e[91m\\]\\u@:\\[\\e[32m\\]\\w\\[\\e[0m\\]$'\n",
       "    ```\n",
       "    - Got to AI Platform Notebook, select your instance and click \"Reset\".\n",
       "    - Wait and reshreh you Web browser with the Notebook\n"
      ],
      "text/plain": [
       "<IPython.core.display.Markdown object>"
      ]
     },
     "metadata": {},
     "output_type": "display_data"
    }
   ],
   "source": [
    "from IPython.display import display, Markdown\n",
    "with open('../../doc/env_variables_setup.md', 'r') as fh:\n",
    "    content = fh.read()\n",
    "display(Markdown(content))"
   ]
  },
  {
   "cell_type": "markdown",
   "metadata": {
    "Collapsed": "false"
   },
   "source": [
    "## Import Packages"
   ]
  },
  {
   "cell_type": "code",
   "execution_count": 4,
   "metadata": {
    "Collapsed": "false"
   },
   "outputs": [],
   "source": [
    "import tensorflow as tf\n",
    "import tensorflow_datasets\n",
    "\n",
    "from tensorflow.keras.utils import to_categorical\n",
    "\n",
    "from transformers import (\n",
    "    BertConfig,\n",
    "    BertTokenizer,\n",
    "    XLMRobertaTokenizer,\n",
    "    TFBertModel,\n",
    "    TFXLMRobertaModel,\n",
    "    TFBertForSequenceClassification,\n",
    "    glue_convert_examples_to_features,\n",
    "    glue_processors\n",
    ")\n",
    "\n",
    "from sklearn.metrics import confusion_matrix, accuracy_score\n",
    "from sklearn.metrics import classification_report\n",
    "\n",
    "import matplotlib.pyplot as plt\n",
    "\n",
    "from google.cloud import storage\n",
    "\n",
    "import math\n",
    "import numpy as np\n",
    "import os\n",
    "import glob\n",
    "import time\n",
    "from datetime import timedelta\n",
    "import shutil\n",
    "from datetime import datetime\n",
    "import pickle\n",
    "import re\n",
    "import codecs\n",
    "import json\n",
    "\n",
    "from google.api_core.client_options import ClientOptions\n",
    "from googleapiclient import discovery\n",
    "from googleapiclient import errors"
   ]
  },
  {
   "cell_type": "markdown",
   "metadata": {
    "Collapsed": "false"
   },
   "source": [
    "## Check configuration"
   ]
  },
  {
   "cell_type": "code",
   "execution_count": 5,
   "metadata": {
    "Collapsed": "false"
   },
   "outputs": [
    {
     "name": "stdout",
     "output_type": "stream",
     "text": [
      "v2.3.0-rc2-23-gb36436b087 2.3.0\n"
     ]
    }
   ],
   "source": [
    "print(tf.version.GIT_VERSION, tf.version.VERSION)"
   ]
  },
  {
   "cell_type": "code",
   "execution_count": 6,
   "metadata": {
    "Collapsed": "false"
   },
   "outputs": [
    {
     "name": "stdout",
     "output_type": "stream",
     "text": [
      "2.4.0\n"
     ]
    }
   ],
   "source": [
    "print(tf.keras.__version__)"
   ]
  },
  {
   "cell_type": "code",
   "execution_count": 7,
   "metadata": {
    "Collapsed": "false"
   },
   "outputs": [
    {
     "name": "stdout",
     "output_type": "stream",
     "text": [
      "No GPU available !!!!\n"
     ]
    }
   ],
   "source": [
    "gpus = tf.config.list_physical_devices('GPU')\n",
    "if len(gpus)>0:\n",
    "    for gpu in gpus:\n",
    "        print('Name:', gpu.name, '  Type:', gpu.device_type)\n",
    "else:\n",
    "    print('No GPU available !!!!')"
   ]
  },
  {
   "cell_type": "markdown",
   "metadata": {
    "Collapsed": "false"
   },
   "source": [
    "## Define Paths"
   ]
  },
  {
   "cell_type": "code",
   "execution_count": 8,
   "metadata": {
    "Collapsed": "false"
   },
   "outputs": [],
   "source": [
    "try:\n",
    "    data_dir=os.environ['PATH_DATASETS']\n",
    "except KeyError:\n",
    "    print('missing PATH_DATASETS')\n",
    "try:   \n",
    "    tensorboard_dir=os.environ['PATH_TENSORBOARD']\n",
    "except KeyError:\n",
    "    print('missing PATH_TENSORBOARD')\n",
    "try:   \n",
    "    savemodel_dir=os.environ['PATH_SAVE_MODEL']\n",
    "except KeyError:\n",
    "    print('missing PATH_SAVE_MODEL')"
   ]
  },
  {
   "cell_type": "markdown",
   "metadata": {
    "Collapsed": "false"
   },
   "source": [
    "## Import local packages"
   ]
  },
  {
   "cell_type": "code",
   "execution_count": 9,
   "metadata": {
    "Collapsed": "false"
   },
   "outputs": [],
   "source": [
    "import preprocessing.preprocessing as pp\n",
    "import utils.model_metrics as mm\n",
    "import utils.model_utils as mu"
   ]
  },
  {
   "cell_type": "code",
   "execution_count": 10,
   "metadata": {
    "Collapsed": "false"
   },
   "outputs": [],
   "source": [
    "import importlib\n",
    "importlib.reload(pp);\n",
    "importlib.reload(mm);\n",
    "importlib.reload(mu);"
   ]
  },
  {
   "cell_type": "markdown",
   "metadata": {
    "Collapsed": "false"
   },
   "source": [
    "## Check the census model stored on GCP"
   ]
  },
  {
   "cell_type": "markdown",
   "metadata": {
    "Collapsed": "false"
   },
   "source": [
    "The **variables** directory contains a standard training checkpoint (see the guide to training checkpoints).  \n",
    "The **assets** directory contains files used by the TensorFlow graph, for example text files used to initialize vocabulary tables.  \n",
    "The **saved_model.pb** file stores the actual TensorFlow program, or model, and a set of named signatures, each identifying a function that accepts tensor inputs and produces tensor outputs."
   ]
  },
  {
   "cell_type": "code",
   "execution_count": 12,
   "metadata": {
    "Collapsed": "false"
   },
   "outputs": [],
   "source": [
    "# use model trainied with CPU\n",
    "os.environ['MODEL_GCP']='gs://'+os.environ['BUCKET_NAME']+'/census_20200624_101711/keras-job-dir/4/keras_export'"
   ]
  },
  {
   "cell_type": "code",
   "execution_count": 13,
   "metadata": {
    "Collapsed": "false"
   },
   "outputs": [
    {
     "name": "stdout",
     "output_type": "stream",
     "text": [
      "The given SavedModel SignatureDef contains the following input(s):\n",
      "  inputs['dense_input'] tensor_info:\n",
      "      dtype: DT_FLOAT\n",
      "      shape: (-1, 11)\n",
      "      name: serving_default_dense_input:0\n",
      "The given SavedModel SignatureDef contains the following output(s):\n",
      "  outputs['dense_4'] tensor_info:\n",
      "      dtype: DT_FLOAT\n",
      "      shape: (-1, 1)\n",
      "      name: StatefulPartitionedCall:0\n",
      "Method name is: tensorflow/serving/predict\n"
     ]
    }
   ],
   "source": [
    "%%bash\n",
    "saved_model_cli show --dir $MODEL_GCP --tag_set serve --signature_def serving_default"
   ]
  },
  {
   "cell_type": "markdown",
   "metadata": {
    "Collapsed": "false"
   },
   "source": [
    "## Model serving setup"
   ]
  },
  {
   "cell_type": "code",
   "execution_count": 14,
   "metadata": {
    "Collapsed": "false"
   },
   "outputs": [],
   "source": [
    "# Normal VM has a model size of 500 MB \n",
    "# For more you need to use a specific n1-standard-2 VM (2 GB) for online prediction. It is only available in us-central1.\n",
    "\n",
    "region_model = 'us-central1'\n",
    "#region_model = 'europe-west4'\n",
    "#region_model = 'europe-west1'\n",
    "#region_model = 'europe-west6'"
   ]
  },
  {
   "cell_type": "code",
   "execution_count": 15,
   "metadata": {
    "Collapsed": "false"
   },
   "outputs": [
    {
     "name": "stdout",
     "output_type": "stream",
     "text": [
      " Region: us-central1 is a regional endpoint: True\n"
     ]
    }
   ],
   "source": [
    "regional_endpoint=False\n",
    "if region_model=='europe-west4':\n",
    "    regional_endpoint=True\n",
    "elif region_model=='us-central1':\n",
    "    regional_endpoint=True\n",
    "print(' Region: {} is a regional endpoint: {}'.format(region_model, regional_endpoint))"
   ]
  },
  {
   "cell_type": "code",
   "execution_count": 16,
   "metadata": {
    "Collapsed": "false"
   },
   "outputs": [],
   "source": [
    "batch_pred=True\n",
    "if batch_pred:\n",
    "    regional_endpoint=False"
   ]
  },
  {
   "cell_type": "code",
   "execution_count": 17,
   "metadata": {
    "Collapsed": "false"
   },
   "outputs": [
    {
     "name": "stderr",
     "output_type": "stream",
     "text": [
      "/Users/tarrade/anaconda-release/conda-env/env_multilingual_class/lib/python3.7/site-packages/google/auth/_default.py:69: UserWarning: Your application has authenticated using end user credentials from Google Cloud SDK without a quota project. You might receive a \"quota exceeded\" or \"API not enabled\" error. We recommend you rerun `gcloud auth application-default login` and make sure a quota project is added. Or you can use service accounts instead. For more information about service accounts, see https://cloud.google.com/docs/authentication/\n",
      "  warnings.warn(_CLOUD_SDK_CREDENTIALS_WARNING)\n",
      "/Users/tarrade/anaconda-release/conda-env/env_multilingual_class/lib/python3.7/site-packages/google/auth/_default.py:69: UserWarning: Your application has authenticated using end user credentials from Google Cloud SDK without a quota project. You might receive a \"quota exceeded\" or \"API not enabled\" error. We recommend you rerun `gcloud auth application-default login` and make sure a quota project is added. Or you can use service accounts instead. For more information about service accounts, see https://cloud.google.com/docs/authentication/\n",
      "  warnings.warn(_CLOUD_SDK_CREDENTIALS_WARNING)\n"
     ]
    }
   ],
   "source": [
    "project_name = os.environ['PROJECT_ID']\n",
    "project_id = 'projects/{}'.format(project_name)\n",
    "if not regional_endpoint:\n",
    "    ai_platform_serving = discovery.build('ml', 'v1')\n",
    "else:\n",
    "    endpoint = 'https://'+region_model+'-ml.googleapis.com'\n",
    "    client_options = ClientOptions(api_endpoint=endpoint)\n",
    "    ai_platform_serving = discovery.build('ml', 'v1', client_options=client_options)\n",
    "# to list all model\n",
    "ai_platform_serving_global = discovery.build('ml', 'v1')"
   ]
  },
  {
   "cell_type": "markdown",
   "metadata": {
    "Collapsed": "false"
   },
   "source": [
    "### Check models already deployed"
   ]
  },
  {
   "cell_type": "code",
   "execution_count": 18,
   "metadata": {
    "Collapsed": "false"
   },
   "outputs": [],
   "source": [
    "request = ai_platform_serving_global.projects().models().list(parent=project_id)"
   ]
  },
  {
   "cell_type": "code",
   "execution_count": 19,
   "metadata": {
    "Collapsed": "false"
   },
   "outputs": [
    {
     "name": "stdout",
     "output_type": "stream",
     "text": [
      "List of model:\n"
     ]
    }
   ],
   "source": [
    "# Make the call.\n",
    "try:\n",
    "    response = request.execute()\n",
    "    print('List of model:')\n",
    "    if 'models' in response.keys():\n",
    "        for i in response['models']:\n",
    "            print('  Model \\'s name: {}:'.format(i['name'].split('/')[-1]))\n",
    "            print('    descrition: {}'.format(i['description']))\n",
    "            print('    regions: {}'.format(i['regions']))\n",
    "\n",
    "except errors.HttpError as err:\n",
    "    # Something went wrong, print out some information.\n",
    "    print('There was an error creating the model. Check the details:')\n",
    "    print(err._get_reason())"
   ]
  },
  {
   "cell_type": "markdown",
   "metadata": {
    "Collapsed": "false"
   },
   "source": [
    "### Create a new model"
   ]
  },
  {
   "cell_type": "code",
   "execution_count": 25,
   "metadata": {
    "Collapsed": "false"
   },
   "outputs": [],
   "source": [
    "# defining the name of the model for online prediction\n",
    "if batch_pred:\n",
    "    name_model = 'tf_gcp_census_test_batch_'+region_model.replace('-','_')\n",
    "else:\n",
    "    name_model = 'tf_gcp_census_test_'+region_model.replace('-','_')\n",
    "description_model = 'this is a model for test using census gcp code'\n",
    "\n",
    "# Create a dictionary with the fields from the request body.\n",
    "request_dict = {'name': name_model,\n",
    "                'regions': [region_model],\n",
    "                'description': description_model,\n",
    "                'labels': {'region': region_model} }\n",
    "\n",
    "# Create a request to call projects.models.create.\n",
    "request = ai_platform_serving.projects().models().create(parent=project_id, \n",
    "                                                         body=request_dict)"
   ]
  },
  {
   "cell_type": "code",
   "execution_count": 26,
   "metadata": {
    "Collapsed": "false"
   },
   "outputs": [
    {
     "data": {
      "text/plain": [
       "{'name': 'tf_gcp_census_test_batch_us_central1',\n",
       " 'regions': ['us-central1'],\n",
       " 'description': 'this is a model for test using census gcp code',\n",
       " 'labels': {'region': 'us-central1'}}"
      ]
     },
     "execution_count": 26,
     "metadata": {},
     "output_type": "execute_result"
    }
   ],
   "source": [
    "request_dict "
   ]
  },
  {
   "cell_type": "code",
   "execution_count": 27,
   "metadata": {
    "Collapsed": "false"
   },
   "outputs": [
    {
     "name": "stdout",
     "output_type": "stream",
     "text": [
      "Name of the model: tf_gcp_census_test_batch_us_central1:\n",
      "  descrition: this is a model for test using census gcp code\n",
      "  regions: ['us-central1']\n"
     ]
    }
   ],
   "source": [
    "# Make the call.\n",
    "try:\n",
    "    response = request.execute()\n",
    "    print('Name of the model: {}:'.format(response['name'].split('/')[-1]))\n",
    "    print('  descrition: {}'.format(response['description']))\n",
    "    print('  regions: {}'.format(response['regions']))\n",
    "\n",
    "except errors.HttpError as err:\n",
    "    # Something went wrong, print out soFinme information.\n",
    "    print('There was an error creating the model. Check the details:')\n",
    "    print(err._get_reason())"
   ]
  },
  {
   "cell_type": "markdown",
   "metadata": {
    "Collapsed": "false"
   },
   "source": [
    "### Defined all parameters and upload our models"
   ]
  },
  {
   "cell_type": "code",
   "execution_count": 33,
   "metadata": {
    "Collapsed": "false"
   },
   "outputs": [],
   "source": [
    "# defining the name of the model for online prediction\n",
    "parentId = 'projects/{}/models/{}'.format(project_name, name_model)\n",
    "# Normal VM has a model size of 500 MB for more you need to use a specific n1-standard-2 VM (2 GB) for online prediction. It is only available in us-central1.\n",
    "#region_model = 'us-central1'\n",
    "\n",
    "model_binaries = os.environ['MODEL_GCP'] \n",
    "machine_type='mls1-c1-m2'\n",
    "version = 'V1'\n",
    "\n",
    "# Create a dictionary with the fields from the request body.\n",
    "request_dict = {'machineType': machine_type,\n",
    "                'runtimeVersion': '2.1',\n",
    "                'pythonVersion': '3.7',\n",
    "                'framework': 'TENSORFLOW',\n",
    "                'description': description_model,\n",
    "                'deploymentUri': model_binaries,\n",
    "                'name': version\n",
    "               }\n",
    "\n",
    "# Create a request to call projects.models.create.\n",
    "request = ai_platform_serving.projects().models().versions().create(parent=parentId, \n",
    "                                                                    body=request_dict)"
   ]
  },
  {
   "cell_type": "code",
   "execution_count": 64,
   "metadata": {
    "Collapsed": "false"
   },
   "outputs": [],
   "source": [
    "#request_dict"
   ]
  },
  {
   "cell_type": "code",
   "execution_count": 35,
   "metadata": {
    "Collapsed": "false"
   },
   "outputs": [
    {
     "name": "stdout",
     "output_type": "stream",
     "text": [
      "Name of the model: create_tf_gcp_census_test_batch_us_central1_V1-1598361592671:\n",
      "  descrition: this is a model for test using census gcp code\n",
      "  runtimeVersion: 2.1\n",
      "  framework: TENSORFLOW\n",
      "  machineType: mls1-c1-m2\n",
      "  pythonVersion: 3.7\n"
     ]
    }
   ],
   "source": [
    "# Make the call.\n",
    "try:\n",
    "    response = request.execute()\n",
    "    print('Name of the model: {}:'.format(response['name'].split('/')[-1]))\n",
    "    print('  descrition: {}'.format(response['metadata']['version']['description']))\n",
    "    print('  runtimeVersion: {}'.format(response['metadata']['version']['runtimeVersion']))\n",
    "    print('  framework: {}'.format(response['metadata']['version']['framework']))\n",
    "    print('  machineType: {}'.format(response['metadata']['version']['machineType']))\n",
    "    print('  pythonVersion: {}'.format(response['metadata']['version']['pythonVersion']))\n",
    "\n",
    "except errors.HttpError as err:\n",
    "    # Something went wrong, print out soFinme information.\n",
    "    print('There was an error creating the model. Check the details:')\n",
    "    print(err._get_reason())"
   ]
  },
  {
   "cell_type": "markdown",
   "metadata": {
    "Collapsed": "false"
   },
   "source": [
    "### Check that the new modelal was deployed"
   ]
  },
  {
   "cell_type": "code",
   "execution_count": 36,
   "metadata": {
    "Collapsed": "false"
   },
   "outputs": [],
   "source": [
    "request = ai_platform_serving.projects().models().list(parent=project_id)"
   ]
  },
  {
   "cell_type": "code",
   "execution_count": 37,
   "metadata": {
    "Collapsed": "false"
   },
   "outputs": [
    {
     "name": "stdout",
     "output_type": "stream",
     "text": [
      "List of model:\n",
      "  Model 's name: tf_gcp_census_test_batch_us_central1:\n",
      "    descrition: this is a model for test using census gcp code\n",
      "    regions: ['us-central1']\n"
     ]
    }
   ],
   "source": [
    "# Make the call.\n",
    "try:\n",
    "    response = request.execute()\n",
    "    print('List of model:')\n",
    "    for i in response['models']:\n",
    "        print('  Model \\'s name: {}:'.format(i['name'].split('/')[-1]))\n",
    "        print('    descrition: {}'.format(i['description']))\n",
    "        print('    regions: {}'.format(i['regions']))\n",
    "\n",
    "except errors.HttpError as err:\n",
    "    # Something went wrong, print out some information.\n",
    "    print('There was an error creating the model. Check the details:')\n",
    "    print(err._get_reason())"
   ]
  },
  {
   "cell_type": "markdown",
   "metadata": {
    "Collapsed": "false"
   },
   "source": [
    "## Model serving inference"
   ]
  },
  {
   "cell_type": "markdown",
   "metadata": {
    "Collapsed": "false"
   },
   "source": [
    "### Prepare data for online prediction for BERT"
   ]
  },
  {
   "cell_type": "markdown",
   "metadata": {
    "Collapsed": "false"
   },
   "source": [
    "example of format:\n",
    "\n",
    "```\n",
    "{'instances': \n",
    "  [\n",
    "    {'input_ids': [101, 143, 18267, 15470, 90395, ...], \n",
    "     'attention_mask': [1, 1, 1, 1, 1, 1, 1, 1, .....], \n",
    "     'token_type_ids': [0, 0, 0, 0, 0, 0, 0, 0, .....]\n",
    "     }, \n",
    "     {'input_ids': [101, 17664, 143, 30728, .........], \n",
    "      'attention_mask': [1, 1, 1, 1, 1, 1, 1, .......], \n",
    "      'token_type_ids': [0, 0, 0, 0, 0, 0, 0, 0, ....]\n",
    "      }\n",
    "  ]\n",
    "}\n",
    "\n",
    "```"
   ]
  },
  {
   "cell_type": "markdown",
   "metadata": {
    "Collapsed": "false"
   },
   "source": [
    "### Prepare data for online prediction for Census"
   ]
  },
  {
   "cell_type": "code",
   "execution_count": 38,
   "metadata": {
    "Collapsed": "false"
   },
   "outputs": [],
   "source": [
    "# for census\n",
    "data_prediction=[{'dense_input': [25.0, 0, 7, 0, 0, 0, 0, 0, 0, 40, 0]}]"
   ]
  },
  {
   "cell_type": "code",
   "execution_count": 39,
   "metadata": {
    "Collapsed": "false"
   },
   "outputs": [
    {
     "data": {
      "text/plain": [
       "{'dense_input': [25.0, 0, 7, 0, 0, 0, 0, 0, 0, 40, 0]}"
      ]
     },
     "execution_count": 39,
     "metadata": {},
     "output_type": "execute_result"
    }
   ],
   "source": [
    "data_prediction[0]"
   ]
  },
  {
   "cell_type": "markdown",
   "metadata": {
    "Collapsed": "false"
   },
   "source": [
    "### Online prediction"
   ]
  },
  {
   "cell_type": "code",
   "execution_count": 40,
   "metadata": {
    "Collapsed": "false"
   },
   "outputs": [],
   "source": [
    "# model\n",
    "version_name='V1'\n",
    "\n",
    "# use the one above or define it below\n",
    "#name_model='...'\n",
    "\n",
    "# use the one above or define it below, be careful with regional endpoint\n",
    "#ai_platform_serving='...'\n",
    "\n",
    "parent = 'projects/{}/models/{}/versions/{}'.format(project_name, name_model, version_name)\n",
    "\n",
    "# data for prediction\n",
    "request_data = {\"instances\": data_prediction}\n",
    "\n",
    "# Create a request to call projects.models.create.\n",
    "request = ai_platform_serving.projects().predict(body=request_data, \n",
    "                                                 name=parent)"
   ]
  },
  {
   "cell_type": "code",
   "execution_count": 44,
   "metadata": {
    "Collapsed": "false"
   },
   "outputs": [],
   "source": [
    "#parent"
   ]
  },
  {
   "cell_type": "code",
   "execution_count": 65,
   "metadata": {
    "Collapsed": "false"
   },
   "outputs": [],
   "source": [
    "#request_data"
   ]
  },
  {
   "cell_type": "code",
   "execution_count": 43,
   "metadata": {
    "Collapsed": "false"
   },
   "outputs": [
    {
     "name": "stdout",
     "output_type": "stream",
     "text": [
      "predictions:\n",
      "  {'dense_4': [0.2507100999355316]}\n"
     ]
    }
   ],
   "source": [
    "# Make the call.\n",
    "try:\n",
    "    response = request.execute()\n",
    "    print('predictions:')\n",
    "    for i in response['predictions']:\n",
    "        print('  {}'.format(i))\n",
    "\n",
    "except errors.HttpError as err:\n",
    "    # Something went wrong, print out soFinme information.\n",
    "    print('There was an error making prediction. Check the details:')\n",
    "    print(err._get_reason())"
   ]
  },
  {
   "cell_type": "markdown",
   "metadata": {
    "Collapsed": "false"
   },
   "source": [
    "### Batch predictions"
   ]
  },
  {
   "cell_type": "code",
   "execution_count": 48,
   "metadata": {
    "Collapsed": "false"
   },
   "outputs": [],
   "source": [
    "# Regional endpoint only support online prediction and AI explanations\n",
    "#ai_platform_serving = discovery.build('ml', 'v1')\n",
    "#name_model='...'\n",
    "version_name=None\n",
    "input_paths='gs://'+os.environ['BUCKET_NAME']+'/serving/sst2/input_predict_gcloud_census.json'\n",
    "output_path='gs://'+os.environ['BUCKET_NAME']+'/batch_prediction_census_'+datetime.now().strftime(\"%Y_%m_%d_%H%M%S\")\n",
    "data_format='TEXT'\n",
    "max_worker_count=20\n",
    "runtime_version=None\n",
    "\n",
    "not_deployed=False\n",
    "if not_deployed:\n",
    "    runtime_version='2.1'\n",
    "    uri='gs://'+os.environ['BUCKET_NAME']+'/census_20200706_194610/keras-job-dir/4/keras_export'\n",
    "    signatureName='serving_default'"
   ]
  },
  {
   "cell_type": "code",
   "execution_count": 60,
   "metadata": {
    "Collapsed": "false"
   },
   "outputs": [],
   "source": [
    "model_id = '{}/models/{}'.format(project_id, name_model)\n",
    "if version_name is not None:\n",
    "    version_id = '{}/versions/{}'.format(model_id, version_name)\n",
    "\n",
    "# Make a jobName of the format \"model_name_batch_predict_YYYYMMDD_HHMMSS\"\n",
    "timestamp = time.strftime('%Y%m%d_%H%M%S', time.gmtime())\n",
    "\n",
    "job_id = '{}_{}'.format(name_model,timestamp)\n",
    "# Start building the request dictionary with required information.\n",
    "body = {'jobId': job_id,\n",
    "        'predictionInput': {\n",
    "            'dataFormat': data_format,\n",
    "            'inputPaths': [input_paths],\n",
    "            'outputPath': output_path,\n",
    "            'region': region_model}\n",
    "       }\n",
    "\n",
    "# Use the version if present, the model (its default version) if not.\n",
    "if not_deployed:\n",
    "    body['predictionInput']['uri'] = uri\n",
    "    body['predictionInput']['signatureName'] = signatureName\n",
    "else:\n",
    "    if version_name is not None:\n",
    "        body['predictionInput']['versionName'] = version_id\n",
    "    else:\n",
    "        body['predictionInput']['modelName'] = model_id\n",
    "\n",
    "# Only include a maximum number of workers or a runtime version if specified.\n",
    "# Otherwise let the service use its defaults.\n",
    "#if max_worker_count:\n",
    "#    body['predictionInput']['maxWorkerCount'] = max_worker_count\n",
    "\n",
    "if runtime_version:\n",
    "    body['predictionInput']['runtimeVersion'] = runtime_version\n",
    "\n",
    "# Create a request to call projects.models.create.\n",
    "request = ai_platform_serving.projects().jobs().create(parent=project_id,\n",
    "                                                       body=body)"
   ]
  },
  {
   "cell_type": "code",
   "execution_count": 61,
   "metadata": {
    "Collapsed": "false"
   },
   "outputs": [
    {
     "data": {
      "text/plain": [
       "{'jobId': 'tf_gcp_census_test_batch_us_central1_20200825_134940',\n",
       " 'predictionInput': {'dataFormat': 'TEXT',\n",
       "  'inputPaths': ['gs://multilingual_text_classification/serving/sst2/input_predict_gcloud_census.json'],\n",
       "  'outputPath': 'gs://multilingual_text_classification/batch_prediction_census_2020_08_25_153129',\n",
       "  'region': 'us-central1',\n",
       "  'modelName': 'projects/axarevvicnonprod/models/tf_gcp_census_test_batch_us_central1'}}"
      ]
     },
     "execution_count": 61,
     "metadata": {},
     "output_type": "execute_result"
    }
   ],
   "source": [
    "body"
   ]
  },
  {
   "cell_type": "code",
   "execution_count": 63,
   "metadata": {
    "Collapsed": "false"
   },
   "outputs": [
    {
     "name": "stdout",
     "output_type": "stream",
     "text": [
      "job requested.\n",
      "state : QUEUED\n"
     ]
    }
   ],
   "source": [
    "# Make the call.\n",
    "try:\n",
    "    response = request.execute()\n",
    "    print('job requested.')\n",
    "\n",
    "    # The state returned will almost always be QUEUED.\n",
    "    print('state : {}'.format(response['state']))\n",
    "\n",
    "except errors.HttpError as err:\n",
    "    # Something went wrong, print out soFinme information.\n",
    "    print('There was an error making prediction. Check the details:')\n",
    "    print(err._get_reason())"
   ]
  },
  {
   "cell_type": "markdown",
   "metadata": {
    "Collapsed": "false"
   },
   "source": [
    "## Test with gcloud"
   ]
  },
  {
   "cell_type": "code",
   "execution_count": 57,
   "metadata": {
    "Collapsed": "false"
   },
   "outputs": [],
   "source": [
    "# gcloud command test: OK\n",
    "#!gcloud ai-platform jobs submit prediction 'tf_bert_classification_test_batch_us_central1_20200825_test_v1' \\\n",
    "#    --model 'tf_gcp_census_test_batch_us_central1' \\\n",
    "#    --input-paths 'gs://multilingual_text_classification/serving/sst2/input_predict_gcloud_census.json' \\\n",
    "#    --output-path 'gs://multilingual_text_classification/test_v1' \\\n",
    "#    --region 'us-central1' \\\n",
    "#    --data-format 'TEXT'"
   ]
  },
  {
   "cell_type": "code",
   "execution_count": 58,
   "metadata": {
    "Collapsed": "false"
   },
   "outputs": [],
   "source": [
    "#!gcloud ai-platform jobs describe job_name..."
   ]
  },
  {
   "cell_type": "code",
   "execution_count": 59,
   "metadata": {
    "Collapsed": "false"
   },
   "outputs": [],
   "source": [
    "#!gcloud ai-platform jobs stream-logs job_name..."
   ]
  }
 ],
 "metadata": {
  "kernelspec": {
   "display_name": "Python [conda env:env_multilingual_class]",
   "language": "python",
   "name": "conda-env-env_multilingual_class-py"
  },
  "language_info": {
   "codemirror_mode": {
    "name": "ipython",
    "version": 3
   },
   "file_extension": ".py",
   "mimetype": "text/x-python",
   "name": "python",
   "nbconvert_exporter": "python",
   "pygments_lexer": "ipython3",
   "version": "3.7.6"
  }
 },
 "nbformat": 4,
 "nbformat_minor": 4
}
