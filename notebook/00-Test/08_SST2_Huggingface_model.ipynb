{
 "cells": [
  {
   "cell_type": "markdown",
   "metadata": {
    "Collapsed": "false"
   },
   "source": [
    "# The Stanford Sentiment Treebank \n",
    "The Stanford Sentiment Treebank consists of sentences from movie reviews and human annotations of their sentiment. The task is to predict the sentiment of a given sentence. We use the two-way (positive/negative) class split, and use only sentence-level labels."
   ]
  },
  {
   "cell_type": "code",
   "execution_count": 1,
   "metadata": {
    "Collapsed": "false",
    "jupyter": {
     "source_hidden": true
    }
   },
   "outputs": [
    {
     "data": {
      "text/markdown": [
       "Environment variables that need to be defined:   \n",
       "`export DIR_PROJ=your_path_git_repository`  \n",
       "`export PYTHONPATH=$DIR_PROJ/src`  \n",
       "`export PATH_TENSORBOARD=your_path_tensorboard`  \n",
       "`export PATH_DATASETS=your_path_datasets`  \n",
       "`export PROJECT_ID=your_gcp_project_id`  \n",
       "`export BUCKET_NAME=your_gcp_gs_bucket_name`  \n",
       "`export REGION=your_region`  \n",
       "`export PATH_SAVE_MODEL=your_path_to_save_model` \n",
       "\n",
       "- Use local Jupyter Lab \n",
       "    - you need to have the `jupyter-notebook` Anaconda python environment created [link](local_jupyter_lab_installation.md) \n",
       "    - you need to have the `jupyter-notebook` Anaconda python environment activated [link](local_jupyter_lab_installation.md) \n",
       "    - then define the environment variables above (copy and paste) \n",
       "    - you need to have the `env_multilingual_class` Anaconda python environment created [link](local_jupyter_lab_installation.md)  \n",
       "    - start Jupyter Lab:  `jupyter lab` \n",
       "    - open a Jupyter Lab notebook from `notebook/` \n",
       "     - clone this repositiory: `git clone https://github.com/tarrade/proj_multilingual_text_classification.git`\n",
       "    - choose the proper Anaconda python environment:  `Python [conda env:env_multilingual_class]` [link](conda_env.md) \n",
       "    - clone this repositiory: `git clone https://github.com/tarrade/proj_multilingual_text_classification.git`\n",
       "\n",
       "\n",
       "- Use GCP Jupyter Lab \n",
       "    - Go on GCP\n",
       "    - open a Cloud Shell\n",
       "    - `ssh-keygen -t rsa -b 4096 -C firstName_lastName`\n",
       "    - `cp .ssh/id_rsa.pub .`\n",
       "    - use Cloud Editor to edit this file `id_rsa.pub` and copy the full content\n",
       "    - Go on Compute Engine -> Metadata\n",
       "    - Click SSH Keys\n",
       "    - Click Edit\n",
       "    - Click + Add item, copy the content of `id_rsa.pub`\n",
       "    - You should see firstName_lastName of the left\n",
       "    - Click Save\n",
       "    - you need to start a AI Platform instance \n",
       "    - open a Jupyter Lab terminal and got to `/home/gcp_user_name/`\n",
       "    - clone this repositiory: `git clone https://github.com/tarrade/proj_multilingual_text_classification.git`\n",
       "    - then `cd proj_multilingual_text_classification/`\n",
       "    - create the Anacond Python environment `conda env create -f env/environment.yml`\n",
       "    - create a file `config.sh` in `/home` with the following information: \n",
       "    ```\n",
       "    #!/bin/bash\n",
       "    \n",
       "    echo \"applying some configuration ...\"\n",
       "    git config --global user.email user_email\n",
       "    git config --global user.name user_name\n",
       "    git config --global credential.helper store\n",
       "        \n",
       "    # Add here the enviroment variables from above below\n",
       "    # [EDIT ME]\n",
       "    export DIR_PROJ=your_path_git_repository\n",
       "    export PYTHONPATH=$DIR_PROJ/src\n",
       "  \n",
       "    cd /home/gcp_user_name/\n",
       "    \n",
       "    conda activate env_multilingual_class\n",
       "\n",
       "    export PS1='\\[\\e[91m\\]\\u@:\\[\\e[32m\\]\\w\\[\\e[0m\\]$'\n",
       "    ```\n",
       "    - Got to AI Platform Notebook, select your instance and click \"Reset\".\n",
       "    - Wait and reshreh you Web browser with the Notebook\n"
      ],
      "text/plain": [
       "<IPython.core.display.Markdown object>"
      ]
     },
     "metadata": {},
     "output_type": "display_data"
    }
   ],
   "source": [
    "from IPython.display import display, Markdown\n",
    "with open('../../doc/env_variables_setup.md', 'r') as fh:\n",
    "    content = fh.read()\n",
    "display(Markdown(content))"
   ]
  },
  {
   "cell_type": "markdown",
   "metadata": {
    "Collapsed": "false"
   },
   "source": [
    "## Import Packages"
   ]
  },
  {
   "cell_type": "code",
   "execution_count": 2,
   "metadata": {
    "Collapsed": "false"
   },
   "outputs": [],
   "source": [
    "import tensorflow as tf\n",
    "import tensorflow_datasets\n",
    "\n",
    "from tensorflow.keras.utils import to_categorical\n",
    "\n",
    "from transformers import (\n",
    "    BertConfig,\n",
    "    BertTokenizer,\n",
    "    TFBertModel,\n",
    "    TFBertForSequenceClassification,\n",
    "    glue_convert_examples_to_features,\n",
    "    glue_processors\n",
    ")\n",
    "\n",
    "from sklearn.metrics import confusion_matrix, accuracy_score\n",
    "from sklearn.metrics import classification_report\n",
    "\n",
    "import matplotlib.pyplot as plt\n",
    "\n",
    "import math\n",
    "import numpy as np\n",
    "import os\n",
    "import time\n",
    "from datetime import timedelta\n",
    "import shutil\n",
    "from datetime import datetime"
   ]
  },
  {
   "cell_type": "code",
   "execution_count": 3,
   "metadata": {
    "Collapsed": "false"
   },
   "outputs": [
    {
     "name": "stdout",
     "output_type": "stream",
     "text": [
      "v2.2.0-rc1-34-ge6e5d6df2a 2.2.0-rc2\n"
     ]
    }
   ],
   "source": [
    "print(tf.version.GIT_VERSION, tf.version.VERSION)"
   ]
  },
  {
   "cell_type": "code",
   "execution_count": 4,
   "metadata": {
    "Collapsed": "false"
   },
   "outputs": [
    {
     "name": "stdout",
     "output_type": "stream",
     "text": [
      "2.3.0-tf\n"
     ]
    }
   ],
   "source": [
    "print(tf.keras.__version__)"
   ]
  },
  {
   "cell_type": "markdown",
   "metadata": {
    "Collapsed": "false"
   },
   "source": [
    "## Define Paths"
   ]
  },
  {
   "cell_type": "code",
   "execution_count": 5,
   "metadata": {
    "Collapsed": "false"
   },
   "outputs": [],
   "source": [
    "try:\n",
    "    data_dir=os.environ['PATH_DATASETS']\n",
    "except KeyError:\n",
    "    print('missing PATH_DATASETS')\n",
    "try:   \n",
    "    tensorboard_dir=os.environ['PATH_TENSORBOARD']\n",
    "except KeyError:\n",
    "    print('missing PATH_TENSORBOARD')\n",
    "try:   \n",
    "    checkpoint_dir=os.environ['PATH_SAVE_MODEL']\n",
    "except KeyError:\n",
    "    print('missing PATH_SAVE_MODEL')"
   ]
  },
  {
   "cell_type": "markdown",
   "metadata": {
    "Collapsed": "false"
   },
   "source": [
    "## Import local packages"
   ]
  },
  {
   "cell_type": "code",
   "execution_count": 6,
   "metadata": {
    "Collapsed": "false"
   },
   "outputs": [],
   "source": [
    "import preprocessing.preprocessing as pp\n",
    "import utils.model_metrics as mm"
   ]
  },
  {
   "cell_type": "code",
   "execution_count": 7,
   "metadata": {
    "Collapsed": "false"
   },
   "outputs": [],
   "source": [
    "import importlib\n",
    "importlib.reload(pp);\n",
    "importlib.reload(mm);"
   ]
  },
  {
   "cell_type": "markdown",
   "metadata": {
    "Collapsed": "false"
   },
   "source": [
    "## Loading a data from Tensorflow Datasets"
   ]
  },
  {
   "cell_type": "code",
   "execution_count": 8,
   "metadata": {
    "Collapsed": "false"
   },
   "outputs": [
    {
     "name": "stderr",
     "output_type": "stream",
     "text": [
      "INFO:absl:Overwrite dataset info from restored data version.\n",
      "INFO:absl:Reusing dataset glue (/home/fabien_tarrade/data/glue/sst2/1.0.0)\n",
      "INFO:absl:Constructing tf.data.Dataset for split None, from /home/fabien_tarrade/data/glue/sst2/1.0.0\n"
     ]
    }
   ],
   "source": [
    "data, info = tensorflow_datasets.load(name='glue/sst2',\n",
    "                                      data_dir=data_dir,\n",
    "                                      with_info=True)"
   ]
  },
  {
   "cell_type": "markdown",
   "metadata": {
    "Collapsed": "false"
   },
   "source": [
    "### Checking baics info from the metadata"
   ]
  },
  {
   "cell_type": "code",
   "execution_count": 9,
   "metadata": {
    "Collapsed": "false"
   },
   "outputs": [
    {
     "data": {
      "text/plain": [
       "tfds.core.DatasetInfo(\n",
       "    name='glue',\n",
       "    version=1.0.0,\n",
       "    description='GLUE, the General Language Understanding Evaluation benchmark\n",
       "(https://gluebenchmark.com/) is a collection of resources for training,\n",
       "evaluating, and analyzing natural language understanding systems.\n",
       "\n",
       "            The Stanford Sentiment Treebank consists of sentences from movie reviews and\n",
       "            human annotations of their sentiment. The task is to predict the sentiment of a\n",
       "            given sentence. We use the two-way (positive/negative) class split, and use only\n",
       "            sentence-level labels.',\n",
       "    homepage='https://nlp.stanford.edu/sentiment/index.html',\n",
       "    features=FeaturesDict({\n",
       "        'idx': tf.int32,\n",
       "        'label': ClassLabel(shape=(), dtype=tf.int64, num_classes=2),\n",
       "        'sentence': Text(shape=(), dtype=tf.string),\n",
       "    }),\n",
       "    total_num_examples=70042,\n",
       "    splits={\n",
       "        'test': 1821,\n",
       "        'train': 67349,\n",
       "        'validation': 872,\n",
       "    },\n",
       "    supervised_keys=None,\n",
       "    citation=\"\"\"@inproceedings{socher2013recursive,\n",
       "                  title={Recursive deep models for semantic compositionality over a sentiment treebank},\n",
       "                  author={Socher, Richard and Perelygin, Alex and Wu, Jean and Chuang, Jason and Manning, Christopher D and Ng, Andrew and Potts, Christopher},\n",
       "                  booktitle={Proceedings of the 2013 conference on empirical methods in natural language processing},\n",
       "                  pages={1631--1642},\n",
       "                  year={2013}\n",
       "                }\n",
       "    @inproceedings{wang2019glue,\n",
       "      title={{GLUE}: A Multi-Task Benchmark and Analysis Platform for Natural Language Understanding},\n",
       "      author={Wang, Alex and Singh, Amanpreet and Michael, Julian and Hill, Felix and Levy, Omer and Bowman, Samuel R.},\n",
       "      note={In the Proceedings of ICLR.},\n",
       "      year={2019}\n",
       "    }\n",
       "    \n",
       "    Note that each GLUE dataset has its own citation. Please see the source to see\n",
       "    the correct citation for each contained dataset.\"\"\",\n",
       "    redistribution_info=,\n",
       ")"
      ]
     },
     "execution_count": 9,
     "metadata": {},
     "output_type": "execute_result"
    }
   ],
   "source": [
    "info"
   ]
  },
  {
   "cell_type": "code",
   "execution_count": 10,
   "metadata": {
    "Collapsed": "false"
   },
   "outputs": [
    {
     "name": "stdout",
     "output_type": "stream",
     "text": [
      "Labels:\n",
      "      ['negative', 'positive']\n",
      "\n",
      "Number of label:\n",
      "      2\n",
      "\n",
      "Structure of the data:\n",
      "      dict_keys(['sentence', 'label', 'idx'])\n",
      "\n",
      "Number of entries:\n",
      "   Train dataset: 67349\n",
      "   Test dataset:  1821\n",
      "   Valid dataset: 872\n",
      "\n"
     ]
    }
   ],
   "source": [
    "pp.print_info_dataset(info)"
   ]
  },
  {
   "cell_type": "markdown",
   "metadata": {
    "Collapsed": "false"
   },
   "source": [
    "### Checking baics info from the metadata"
   ]
  },
  {
   "cell_type": "code",
   "execution_count": 11,
   "metadata": {
    "Collapsed": "false"
   },
   "outputs": [
    {
     "data": {
      "text/plain": [
       "{'test': <DatasetV1Adapter shapes: {idx: (), label: (), sentence: ()}, types: {idx: tf.int32, label: tf.int64, sentence: tf.string}>,\n",
       " 'train': <DatasetV1Adapter shapes: {idx: (), label: (), sentence: ()}, types: {idx: tf.int32, label: tf.int64, sentence: tf.string}>,\n",
       " 'validation': <DatasetV1Adapter shapes: {idx: (), label: (), sentence: ()}, types: {idx: tf.int32, label: tf.int64, sentence: tf.string}>}"
      ]
     },
     "execution_count": 11,
     "metadata": {},
     "output_type": "execute_result"
    }
   ],
   "source": [
    "data"
   ]
  },
  {
   "cell_type": "code",
   "execution_count": 12,
   "metadata": {
    "Collapsed": "false"
   },
   "outputs": [
    {
     "data": {
      "text/plain": [
       "dict_keys(['test', 'train', 'validation'])"
      ]
     },
     "execution_count": 12,
     "metadata": {},
     "output_type": "execute_result"
    }
   ],
   "source": [
    "data.keys()"
   ]
  },
  {
   "cell_type": "code",
   "execution_count": 13,
   "metadata": {
    "Collapsed": "false"
   },
   "outputs": [
    {
     "name": "stdout",
     "output_type": "stream",
     "text": [
      "# Structure of the data:\n",
      "\n",
      "   <DatasetV1Adapter shapes: {idx: (), label: (), sentence: ()}, types: {idx: tf.int32, label: tf.int64, sentence: tf.string}>\n",
      "\n",
      "# Output shape of one entry:\n",
      "   {'idx': TensorShape([]), 'label': TensorShape([]), 'sentence': TensorShape([])}\n",
      "\n",
      "# Output types of one entry:\n",
      "   {'idx': tf.int32, 'label': tf.int64, 'sentence': tf.string}\n",
      "\n",
      "# Output typesof one entry:\n",
      "   {'idx': <class 'tensorflow.python.framework.ops.Tensor'>, 'label': <class 'tensorflow.python.framework.ops.Tensor'>, 'sentence': <class 'tensorflow.python.framework.ops.Tensor'>}\n",
      " \n",
      "\n",
      "# Shape of the data:\n",
      "\n",
      "   (67349,)\n",
      "   ---> 67349 entries\n",
      "   ---> 1 dim\n",
      "        dict structure\n",
      "           dim: 3\n",
      "           [idx       / label     / sentence ]\n",
      "           [()        / ()        / ()       ]\n",
      "           [int32     / int64     / bytes    ]\n",
      "\n",
      "\n",
      "# Examples of data:\n",
      "{'idx': 16399,\n",
      " 'label': 0,\n",
      " 'sentence': b'for the uninitiated plays better on video with the sound '}\n",
      "{'idx': 1680,\n",
      " 'label': 0,\n",
      " 'sentence': b'like a giant commercial for universal studios , where much of th'\n",
      "             b'e action takes place '}\n",
      "{'idx': 47917,\n",
      " 'label': 1,\n",
      " 'sentence': b'company once again dazzle and delight us '}\n",
      "{'idx': 17307,\n",
      " 'label': 1,\n",
      " 'sentence': b\"'s no surprise that as a director washington demands and receive\"\n",
      "             b's excellent performances , from himself and from newcomer derek '\n",
      "             b'luke '}\n"
     ]
    }
   ],
   "source": [
    "pp.print_info_data(data['train'])"
   ]
  },
  {
   "cell_type": "markdown",
   "metadata": {
    "Collapsed": "false"
   },
   "source": [
    "## Define parameters of the model"
   ]
  },
  {
   "cell_type": "code",
   "execution_count": 14,
   "metadata": {
    "Collapsed": "false"
   },
   "outputs": [
    {
     "name": "stdout",
     "output_type": "stream",
     "text": [
      "Dataset size:           67349/  1821/   872\n",
      "Batch size:                32/    32/    64\n",
      "Step per epoch:          2105/    57/    29\n",
      "Total number of batch:   6315/   171/    87\n"
     ]
    }
   ],
   "source": [
    "# define parameters\n",
    "BATCH_SIZE_TRAIN = 32\n",
    "BATCH_SIZE_TEST = 32\n",
    "BATCH_SIZE_VALID = 64\n",
    "EPOCH = 2\n",
    "\n",
    "# extract parameters\n",
    "size_train_dataset = info.splits['train'].num_examples\n",
    "size_test_dataset = info.splits['test'].num_examples\n",
    "size_valid_dataset = info.splits['validation'].num_examples\n",
    "number_label = info.features[\"label\"].num_classes\n",
    "\n",
    "# computer parameter\n",
    "STEP_EPOCH_TRAIN = math.ceil(size_train_dataset/BATCH_SIZE_TRAIN)\n",
    "STEP_EPOCH_TEST = math.ceil(size_test_dataset/BATCH_SIZE_TEST)\n",
    "STEP_EPOCH_VALID = math.ceil(size_test_dataset/BATCH_SIZE_VALID)\n",
    "\n",
    "\n",
    "print('Dataset size:          {:6}/{:6}/{:6}'.format(size_train_dataset, size_test_dataset, size_valid_dataset))\n",
    "print('Batch size:            {:6}/{:6}/{:6}'.format(BATCH_SIZE_TRAIN, BATCH_SIZE_TEST, BATCH_SIZE_VALID))\n",
    "print('Step per epoch:        {:6}/{:6}/{:6}'.format(STEP_EPOCH_TRAIN, STEP_EPOCH_TEST, STEP_EPOCH_VALID))\n",
    "print('Total number of batch: {:6}/{:6}/{:6}'.format(STEP_EPOCH_TRAIN*(EPOCH+1), STEP_EPOCH_TEST*(EPOCH+1), STEP_EPOCH_VALID*(EPOCH+1)))"
   ]
  },
  {
   "cell_type": "markdown",
   "metadata": {
    "Collapsed": "false"
   },
   "source": [
    "## Tokenizer and prepare data for BERT"
   ]
  },
  {
   "cell_type": "code",
   "execution_count": 15,
   "metadata": {
    "Collapsed": "false"
   },
   "outputs": [],
   "source": [
    "# Load tokenizer\n",
    "tokenizer = BertTokenizer.from_pretrained('bert-base-cased')"
   ]
  },
  {
   "cell_type": "code",
   "execution_count": 16,
   "metadata": {
    "Collapsed": "false"
   },
   "outputs": [
    {
     "name": "stdout",
     "output_type": "stream",
     "text": [
      "<DatasetV1Adapter shapes: {idx: (), label: (), sentence: ()}, types: {idx: tf.int32, label: tf.int64, sentence: tf.string}>\n",
      "tf.Tensor(67349, shape=(), dtype=int64)\n",
      "tf.Tensor(1821, shape=(), dtype=int64)\n",
      "tf.Tensor(872, shape=(), dtype=int64)\n"
     ]
    }
   ],
   "source": [
    "# recap of input dataset\n",
    "print(data['train'])\n",
    "print(tf.data.experimental.cardinality(data['train']))\n",
    "print(tf.data.experimental.cardinality(data['test']))\n",
    "print(tf.data.experimental.cardinality(data['validation']))\n",
    "# super slow since looping over all data\n",
    "#print(len(list(data['train'])))"
   ]
  },
  {
   "cell_type": "code",
   "execution_count": 17,
   "metadata": {
    "Collapsed": "false"
   },
   "outputs": [],
   "source": [
    "# Prepare data for BERT\n",
    "train_dataset = glue_convert_examples_to_features(data['train'], \n",
    "                                                  tokenizer, \n",
    "                                                  max_length=128, \n",
    "                                                  task='sst-2')\n",
    "test_dataset = glue_convert_examples_to_features(data['test'], \n",
    "                                                  tokenizer, \n",
    "                                                  max_length=128, \n",
    "                                                  task='sst-2')\n",
    "valid_dataset = glue_convert_examples_to_features(data['validation'], \n",
    "                                                  tokenizer, \n",
    "                                                  max_length=128, \n",
    "                                                  task='sst-2')"
   ]
  },
  {
   "cell_type": "code",
   "execution_count": 18,
   "metadata": {
    "Collapsed": "false"
   },
   "outputs": [
    {
     "name": "stdout",
     "output_type": "stream",
     "text": [
      "<FlatMapDataset shapes: ({input_ids: (None,), attention_mask: (None,), token_type_ids: (None,)}, ()), types: ({input_ids: tf.int32, attention_mask: tf.int32, token_type_ids: tf.int32}, tf.int64)>\n",
      "tf.Tensor(-2, shape=(), dtype=int64)\n",
      "tf.Tensor(-2, shape=(), dtype=int64)\n",
      "tf.Tensor(-2, shape=(), dtype=int64)\n",
      "67349\n"
     ]
    }
   ],
   "source": [
    "# recap of pre processing dataset\n",
    "print(train_dataset)\n",
    "print(tf.data.experimental.cardinality(train_dataset))\n",
    "print(tf.data.experimental.cardinality(test_dataset))\n",
    "print(tf.data.experimental.cardinality(valid_dataset))\n",
    "# super slow since looping over all data\n",
    "print(len(list(train_dataset)))"
   ]
  },
  {
   "cell_type": "code",
   "execution_count": 19,
   "metadata": {
    "Collapsed": "false"
   },
   "outputs": [],
   "source": [
    "# set shuffle and batch size\n",
    "train_dataset = train_dataset.shuffle(100).batch(BATCH_SIZE_TRAIN).repeat(EPOCH+1)\n",
    "test_dataset = test_dataset.shuffle(100).batch(BATCH_SIZE_TEST).repeat(EPOCH+1)\n",
    "valid_dataset = valid_dataset.batch(BATCH_SIZE_VALID) #.repeat(EPOCH+1)"
   ]
  },
  {
   "cell_type": "markdown",
   "metadata": {
    "Collapsed": "false"
   },
   "source": [
    "## Check the final data"
   ]
  },
  {
   "cell_type": "code",
   "execution_count": 20,
   "metadata": {
    "Collapsed": "false"
   },
   "outputs": [
    {
     "name": "stdout",
     "output_type": "stream",
     "text": [
      "# Structure of the data:\n",
      "\n",
      "   <RepeatDataset shapes: ({input_ids: (None, None), attention_mask: (None, None), token_type_ids: (None, None)}, (None,)), types: ({input_ids: tf.int32, attention_mask: tf.int32, token_type_ids: tf.int32}, tf.int64)>\n",
      "\n",
      "# Output shape of one entry:\n",
      "   ({'input_ids': TensorShape([None, None]), 'attention_mask': TensorShape([None, None]), 'token_type_ids': TensorShape([None, None])}, TensorShape([None]))\n",
      "\n",
      "# Output types of one entry:\n",
      "   ({'input_ids': tf.int32, 'attention_mask': tf.int32, 'token_type_ids': tf.int32}, tf.int64)\n",
      "\n",
      "# Output typesof one entry:\n",
      "   ({'input_ids': <class 'tensorflow.python.framework.ops.Tensor'>, 'attention_mask': <class 'tensorflow.python.framework.ops.Tensor'>, 'token_type_ids': <class 'tensorflow.python.framework.ops.Tensor'>}, <class 'tensorflow.python.framework.ops.Tensor'>)\n",
      " \n",
      "\n",
      "# Shape of the data:\n",
      "\n",
      "   (6315, 2)\n",
      "   ---> 6315 batches\n",
      "   ---> 2 dim\n",
      "        label\n",
      "           shape: (32,)\n",
      "        dict structure\n",
      "           dim: 3\n",
      "           [input_ids       / attention_mask  / token_type_ids ]\n",
      "           [(32, 128)       / (32, 128)       / (32, 128)      ]\n",
      "           [ndarray         / ndarray         / ndarray        ]\n"
     ]
    }
   ],
   "source": [
    "pp.print_info_data(train_dataset,print_example=False)"
   ]
  },
  {
   "cell_type": "code",
   "execution_count": 21,
   "metadata": {
    "Collapsed": "false"
   },
   "outputs": [
    {
     "name": "stdout",
     "output_type": "stream",
     "text": [
      " input_ids     ---->    attention_mask    token_type_ids    modified text                 \n",
      "\n",
      "       101     ---->           1                 1          [ C L S ]                     \n",
      "      1110     ---->           1                 1          i s                           \n",
      "       170     ---->           1                 1          a                             \n",
      "      1376     ---->           1                 1          l i t t l e                   \n",
      "      1315     ---->           1                 1          t o o                         \n",
      "      1107     ---->           1                 1          i n                           \n",
      "      1567     ---->           1                 1          l o v e                       \n",
      "       102     ---->           1                 1          [ S E P ]                     \n",
      "         0     ---->           0                 0          [ P A D ]                     \n",
      "         0     ---->           0                 0          [ P A D ]                     \n",
      "         0     ---->           0                 0          [ P A D ]                     \n",
      "         0     ---->           0                 0          [ P A D ]                     \n",
      "         0     ---->           0                 0          [ P A D ]                     \n",
      "         0     ---->           0                 0          [ P A D ]                     \n",
      "         0     ---->           0                 0          [ P A D ]                     \n",
      "         0     ---->           0                 0          [ P A D ]                     \n",
      "         0     ---->           0                 0          [ P A D ]                     \n",
      "         0     ---->           0                 0          [ P A D ]                     \n",
      "         0     ---->           0                 0          [ P A D ]                     \n",
      "         0     ---->           0                 0          [ P A D ]                     \n",
      "         0     ---->           0                 0          [ P A D ]                     \n",
      "         0     ---->           0                 0          [ P A D ]                     \n"
     ]
    }
   ],
   "source": [
    "pp.print_detail_tokeniser(train_dataset, tokenizer)"
   ]
  },
  {
   "cell_type": "markdown",
   "metadata": {
    "Collapsed": "false"
   },
   "source": [
    "## Building a classification model"
   ]
  },
  {
   "cell_type": "markdown",
   "metadata": {
    "Collapsed": "false"
   },
   "source": [
    "### Define the callbacks"
   ]
  },
  {
   "cell_type": "markdown",
   "metadata": {
    "Collapsed": "false"
   },
   "source": [
    "#### Checkpoints"
   ]
  },
  {
   "cell_type": "code",
   "execution_count": 22,
   "metadata": {
    "Collapsed": "false"
   },
   "outputs": [],
   "source": [
    "# Define the checkpoint directory to store the checkpoints\n",
    "checkpoint_prefix = os.path.join(checkpoint_dir, \"ckpt_{epoch}\")"
   ]
  },
  {
   "cell_type": "code",
   "execution_count": 23,
   "metadata": {
    "Collapsed": "false"
   },
   "outputs": [],
   "source": [
    "checkpoint_callback = tf.keras.callbacks.ModelCheckpoint(filepath=checkpoint_prefix,\n",
    "                                                         save_weights_only=True),"
   ]
  },
  {
   "cell_type": "markdown",
   "metadata": {
    "Collapsed": "false"
   },
   "source": [
    "#### Decaying learning rate"
   ]
  },
  {
   "cell_type": "code",
   "execution_count": 24,
   "metadata": {
    "Collapsed": "false"
   },
   "outputs": [],
   "source": [
    "# Function for decaying the learning rate.\n",
    "def decay(epoch):\n",
    "    if epoch < 3:\n",
    "        return 1e-3\n",
    "    elif epoch >= 3 and epoch < 7:\n",
    "        return 1e-4\n",
    "    else:\n",
    "        return 1e-5"
   ]
  },
  {
   "cell_type": "code",
   "execution_count": 25,
   "metadata": {
    "Collapsed": "false"
   },
   "outputs": [],
   "source": [
    "decay_callback = tf.keras.callbacks.LearningRateScheduler(decay)"
   ]
  },
  {
   "cell_type": "markdown",
   "metadata": {
    "Collapsed": "false"
   },
   "source": [
    "#### Print learning rate at the end of each epoch"
   ]
  },
  {
   "cell_type": "code",
   "execution_count": 26,
   "metadata": {
    "Collapsed": "false"
   },
   "outputs": [],
   "source": [
    "# Callback for printing the LR at the end of each epoch.\n",
    "class PrintLR(tf.keras.callbacks.Callback):\n",
    "    def on_epoch_end(self, epoch, logs=None):\n",
    "        print('\\nLearning rate for epoch {} is {}'.format(epoch + 1, model.optimizer.lr.numpy()))"
   ]
  },
  {
   "cell_type": "markdown",
   "metadata": {
    "Collapsed": "false"
   },
   "source": [
    "#### TensorBoard"
   ]
  },
  {
   "cell_type": "code",
   "execution_count": 27,
   "metadata": {
    "Collapsed": "false"
   },
   "outputs": [
    {
     "name": "stdout",
     "output_type": "stream",
     "text": [
      "20200331-082115\n"
     ]
    }
   ],
   "source": [
    "# checking existing folders\n",
    "for i in os.listdir(tensorboard_dir):\n",
    "    if os.path.isdir(tensorboard_dir+'/'+i):\n",
    "        print(i)"
   ]
  },
  {
   "cell_type": "code",
   "execution_count": 28,
   "metadata": {
    "Collapsed": "false"
   },
   "outputs": [
    {
     "name": "stdout",
     "output_type": "stream",
     "text": [
      "20200331-082115\n"
     ]
    }
   ],
   "source": [
    "# clean old TensorBoard directory \n",
    "for i in os.listdir(tensorboard_dir):\n",
    "        if os.path.isdir(tensorboard_dir+'/'+i):\n",
    "            print(i)\n",
    "            shutil.rmtree(tensorboard_dir+'/'+i, ignore_errors=False)"
   ]
  },
  {
   "cell_type": "code",
   "execution_count": 29,
   "metadata": {
    "Collapsed": "false"
   },
   "outputs": [],
   "source": [
    "log_dir=tensorboard_dir+'/'+datetime.now().strftime(\"%Y%m%d-%H%M%S\")\n",
    "os.mkdir(log_dir)"
   ]
  },
  {
   "cell_type": "code",
   "execution_count": 30,
   "metadata": {
    "Collapsed": "false"
   },
   "outputs": [],
   "source": [
    "tensorboard_callback = tf.keras.callbacks.TensorBoard(log_dir=log_dir, \n",
    "                                                      histogram_freq=1, \n",
    "                                                      embeddings_freq=1,\n",
    "                                                      write_graph=True,\n",
    "                                                      update_freq='batch',\n",
    "                                                      profile_batch=2)"
   ]
  },
  {
   "cell_type": "markdown",
   "metadata": {
    "Collapsed": "false"
   },
   "source": [
    "#### Loss and efficiency per step"
   ]
  },
  {
   "cell_type": "code",
   "execution_count": 31,
   "metadata": {
    "Collapsed": "false"
   },
   "outputs": [],
   "source": [
    "class History_per_step(tf.keras.callbacks.Callback):\n",
    "    \n",
    "    def __init__(self, validation_data, N):\n",
    "        self.validation_data = validation_data\n",
    "        self.N = N\n",
    "        self.batch = 1\n",
    "\n",
    "    def on_train_begin(self, validation_data, logs={}):\n",
    "        self.steps = []\n",
    "        self.losses = []\n",
    "        self.accuracies = []\n",
    "        self.val_steps = []\n",
    "        self.val_losses = []\n",
    "        self.val_accuracies = []\n",
    "\n",
    "    def on_train_batch_end(self, batch, logs={}):\n",
    "        self.losses.append(logs.get('loss'))\n",
    "        self.accuracies.append(logs.get('accuracy'))\n",
    "        self.steps.append(self.batch)\n",
    "        print('\\n training set -> batch:{} loss:{} and acc: {}'.format(self.batch,logs.get('loss'),logs.get('accuracy')))\n",
    "        \n",
    "        if self.batch % self.N == 0:\n",
    "            loss_val, acc_val = self.model.evaluate(self.validation_data, verbose=0)\n",
    "            self.val_losses.append(loss_val)\n",
    "            self.val_accuracies.append(acc_val)\n",
    "            self.val_steps.append(self.batch)\n",
    "            print('\\n validation set -> batch:{} val loss:{} and val acc: {}'.format(self.batch,loss_val, acc_val))\n",
    "\n",
    "        self.batch += 1\n",
    "    \n",
    "    def on_test_batch_end(self, batch, logs={}):    \n",
    "        #print('{}\\n'.format(logs))\n",
    "        return\n",
    "    \n",
    "    def on_epoch_end(self, batch, logs={}): \n",
    "        #print('{}\\n'.format(logs))\n",
    "        return"
   ]
  },
  {
   "cell_type": "markdown",
   "metadata": {
    "Collapsed": "false"
   },
   "source": [
    "### Checks callbacks"
   ]
  },
  {
   "cell_type": "code",
   "execution_count": 32,
   "metadata": {
    "Collapsed": "false"
   },
   "outputs": [
    {
     "name": "stdout",
     "output_type": "stream",
     "text": [
      "ModelCheckpoint need to unpack this tuple by adding *\n"
     ]
    }
   ],
   "source": [
    "list_callback = [tensorboard_callback, checkpoint_callback, decay_callback]\n",
    "for cb in list_callback:\n",
    "    if type(cb).__name__=='tuple':\n",
    "        print(cb[0].__class__.__name__, 'need to unpack this tuple by adding *')"
   ]
  },
  {
   "cell_type": "markdown",
   "metadata": {
    "Collapsed": "false"
   },
   "source": [
    "### Use TFBertForSequenceClassification"
   ]
  },
  {
   "cell_type": "code",
   "execution_count": 33,
   "metadata": {
    "Collapsed": "false"
   },
   "outputs": [
    {
     "name": "stdout",
     "output_type": "stream",
     "text": [
      "WARNING:tensorflow:There are non-GPU devices in `tf.distribute.Strategy`, not using nccl allreduce.\n"
     ]
    },
    {
     "name": "stderr",
     "output_type": "stream",
     "text": [
      "WARNING:tensorflow:There are non-GPU devices in `tf.distribute.Strategy`, not using nccl allreduce.\n"
     ]
    },
    {
     "name": "stdout",
     "output_type": "stream",
     "text": [
      "INFO:tensorflow:Using MirroredStrategy with devices ('/job:localhost/replica:0/task:0/device:CPU:0',)\n"
     ]
    },
    {
     "name": "stderr",
     "output_type": "stream",
     "text": [
      "INFO:tensorflow:Using MirroredStrategy with devices ('/job:localhost/replica:0/task:0/device:CPU:0',)\n"
     ]
    },
    {
     "name": "stdout",
     "output_type": "stream",
     "text": [
      "Number of devices: 1\n"
     ]
    }
   ],
   "source": [
    "# Define some parameters\n",
    "optimizer = tf.keras.optimizers.Adam(learning_rate=3e-5, epsilon=1e-08)\n",
    "# Gradient clipping in the optimizer (by setting clipnorm or clipvalue) is currently unsupported when using a distribution strategy\n",
    "# clipnorm=1.0\n",
    "\n",
    "# loss\n",
    "loss = tf.keras.losses.SparseCategoricalCrossentropy(from_logits=True)\n",
    "\n",
    "# Uses the tf.distribute.MirroredStrategy, which does in-graph replication with synchronous training on many GPUs on one machine\n",
    "strategy_model_1 = tf.distribute.MirroredStrategy()\n",
    "print('Number of devices: {}'.format(strategy_model_1.num_replicas_in_sync))\n",
    "\n",
    "# create and compile the Keras model in the context of strategy.scope\n",
    "with strategy_model_1.scope():\n",
    "    # metric\n",
    "    metric = tf.keras.metrics.SparseCategoricalAccuracy('accuracy')\n",
    "    \n",
    "    # model\n",
    "    model_1 = TFBertForSequenceClassification.from_pretrained('bert-base-cased',num_labels=number_label)\n",
    "    #model.layers[-1].activation = tf.keras.activations.softmax\n",
    "    model_1._name='tf_bert_classification'\n",
    "    model_1.compile(optimizer=optimizer,\n",
    "                    loss=loss, \n",
    "                    metrics=[metric])"
   ]
  },
  {
   "cell_type": "code",
   "execution_count": 34,
   "metadata": {
    "Collapsed": "false"
   },
   "outputs": [
    {
     "name": "stdout",
     "output_type": "stream",
     "text": [
      "Model: \"tf_bert_classification\"\n",
      "_________________________________________________________________\n",
      "Layer (type)                 Output Shape              Param #   \n",
      "=================================================================\n",
      "bert (TFBertMainLayer)       multiple                  108310272 \n",
      "_________________________________________________________________\n",
      "dropout_37 (Dropout)         multiple                  0         \n",
      "_________________________________________________________________\n",
      "classifier (Dense)           multiple                  1538      \n",
      "=================================================================\n",
      "Total params: 108,311,810\n",
      "Trainable params: 108,311,810\n",
      "Non-trainable params: 0\n",
      "_________________________________________________________________\n"
     ]
    }
   ],
   "source": [
    "model_1.summary()"
   ]
  },
  {
   "cell_type": "markdown",
   "metadata": {
    "Collapsed": "false"
   },
   "source": [
    "### Building a custom classification model "
   ]
  },
  {
   "cell_type": "code",
   "execution_count": 35,
   "metadata": {
    "Collapsed": "false"
   },
   "outputs": [],
   "source": [
    "def custom_keras_model(number_classes, bert_model):\n",
    "\n",
    "    # create model\n",
    "    input_layer = tf.keras.Input(shape = (128,), dtype='int64')    \n",
    "    bert_ini = TFBertModel.from_pretrained('bert-base-cased') (input_layer)\n",
    "    # This is because in a bert pretraining progress, there are two tasks: \n",
    "    # masked token prediction and next sentence predition . \n",
    "    # The first needs hidden state of each tokens ( shape: [batch_size, sequence_length, hidden_size]) \n",
    "    # the second needs the embedding of the whole sequence (shape : [batch_size, hidden_size] ) .\n",
    "    bert = bert_ini[1]    \n",
    "    dropout = tf.keras.layers.Dropout(0.1)(bert)\n",
    "    flat = tf.keras.layers.Flatten()(dropout)\n",
    "    classifier = tf.keras.layers.Dense(units=number_classes )(flat) # activation='softmax'               \n",
    "    \n",
    "    model = tf.keras.Model(inputs=input_layer, outputs=classifier, name='custom_tf_bert_classification')\n",
    "\n",
    "    return model, bert_ini"
   ]
  },
  {
   "cell_type": "code",
   "execution_count": 36,
   "metadata": {
    "Collapsed": "false"
   },
   "outputs": [
    {
     "name": "stdout",
     "output_type": "stream",
     "text": [
      "WARNING:tensorflow:There are non-GPU devices in `tf.distribute.Strategy`, not using nccl allreduce.\n"
     ]
    },
    {
     "name": "stderr",
     "output_type": "stream",
     "text": [
      "WARNING:tensorflow:There are non-GPU devices in `tf.distribute.Strategy`, not using nccl allreduce.\n"
     ]
    },
    {
     "name": "stdout",
     "output_type": "stream",
     "text": [
      "INFO:tensorflow:Using MirroredStrategy with devices ('/job:localhost/replica:0/task:0/device:CPU:0',)\n"
     ]
    },
    {
     "name": "stderr",
     "output_type": "stream",
     "text": [
      "INFO:tensorflow:Using MirroredStrategy with devices ('/job:localhost/replica:0/task:0/device:CPU:0',)\n"
     ]
    },
    {
     "name": "stdout",
     "output_type": "stream",
     "text": [
      "Number of devices: 1\n"
     ]
    }
   ],
   "source": [
    "# Define some parameters\n",
    "optimizer = tf.keras.optimizers.Adam(learning_rate=3e-5, epsilon=1e-08)\n",
    "# Gradient clipping in the optimizer (by setting clipnorm or clipvalue) is currently unsupported when using a distribution strategy\n",
    "# clipnorm=1.0\n",
    "\n",
    "# loss\n",
    "loss = tf.keras.losses.SparseCategoricalCrossentropy(from_logits=True)\n",
    "\n",
    "# Uses the tf.distribute.MirroredStrategy, which does in-graph replication with synchronous training on many GPUs on one machine\n",
    "strategy_model_2 = tf.distribute.MirroredStrategy()\n",
    "print('Number of devices: {}'.format(strategy_model_1.num_replicas_in_sync))\n",
    "\n",
    "# create and compile the Keras model in the context of strategy.scope\n",
    "with strategy_model_2.scope():\n",
    "    # metric\n",
    "    metric = tf.keras.metrics.SparseCategoricalAccuracy('accuracy')\n",
    "    \n",
    "    # model\n",
    "    model_2, bert_ini = custom_keras_model(number_label, 'bert-base-cased')\n",
    "    model_2.compile(optimizer=optimizer,\n",
    "                    loss=loss, \n",
    "                    metrics=[metric])"
   ]
  },
  {
   "cell_type": "code",
   "execution_count": 37,
   "metadata": {
    "Collapsed": "false"
   },
   "outputs": [
    {
     "data": {
      "text/plain": [
       "<tf.Tensor 'tf_bert_model/Identity:0' shape=(None, 128, 768) dtype=float32>"
      ]
     },
     "execution_count": 37,
     "metadata": {},
     "output_type": "execute_result"
    }
   ],
   "source": [
    "bert_ini[0]"
   ]
  },
  {
   "cell_type": "code",
   "execution_count": 38,
   "metadata": {
    "Collapsed": "false"
   },
   "outputs": [
    {
     "data": {
      "text/plain": [
       "<tf.Tensor 'tf_bert_model/Identity_1:0' shape=(None, 768) dtype=float32>"
      ]
     },
     "execution_count": 38,
     "metadata": {},
     "output_type": "execute_result"
    }
   ],
   "source": [
    "bert_ini[1]"
   ]
  },
  {
   "cell_type": "code",
   "execution_count": 39,
   "metadata": {
    "Collapsed": "false"
   },
   "outputs": [
    {
     "name": "stdout",
     "output_type": "stream",
     "text": [
      "Model: \"custom_tf_bert_classification\"\n",
      "_________________________________________________________________\n",
      "Layer (type)                 Output Shape              Param #   \n",
      "=================================================================\n",
      "input_1 (InputLayer)         [(None, 128)]             0         \n",
      "_________________________________________________________________\n",
      "tf_bert_model (TFBertModel)  ((None, 128, 768), (None, 108310272 \n",
      "_________________________________________________________________\n",
      "dropout_75 (Dropout)         (None, 768)               0         \n",
      "_________________________________________________________________\n",
      "flatten (Flatten)            (None, 768)               0         \n",
      "_________________________________________________________________\n",
      "dense (Dense)                (None, 2)                 1538      \n",
      "=================================================================\n",
      "Total params: 108,311,810\n",
      "Trainable params: 108,311,810\n",
      "Non-trainable params: 0\n",
      "_________________________________________________________________\n"
     ]
    }
   ],
   "source": [
    "model_2.summary()"
   ]
  },
  {
   "cell_type": "markdown",
   "metadata": {
    "Collapsed": "false"
   },
   "source": [
    "### Choose the model you want to train"
   ]
  },
  {
   "cell_type": "code",
   "execution_count": 40,
   "metadata": {
    "Collapsed": "false"
   },
   "outputs": [
    {
     "name": "stdout",
     "output_type": "stream",
     "text": [
      "model's name: tf_bert_classification\n"
     ]
    }
   ],
   "source": [
    "model=model_1\n",
    "print('model\\'s name: {}'.format(model.name))"
   ]
  },
  {
   "cell_type": "markdown",
   "metadata": {
    "Collapsed": "false"
   },
   "source": [
    "### TensorBoard"
   ]
  },
  {
   "cell_type": "code",
   "execution_count": 41,
   "metadata": {
    "Collapsed": "false"
   },
   "outputs": [
    {
     "data": {
      "text/html": [
       "\n",
       "      <iframe id=\"tensorboard-frame-10870e336525a18a\" width=\"100%\" height=\"800\" frameborder=\"0\">\n",
       "      </iframe>\n",
       "      <script>\n",
       "        (function() {\n",
       "          const frame = document.getElementById(\"tensorboard-frame-10870e336525a18a\");\n",
       "          const url = new URL(\"/\", window.location);\n",
       "          url.port = 6006;\n",
       "          frame.src = url;\n",
       "        })();\n",
       "      </script>\n",
       "  "
      ],
      "text/plain": [
       "<IPython.core.display.HTML object>"
      ]
     },
     "metadata": {},
     "output_type": "display_data"
    }
   ],
   "source": [
    "%load_ext tensorboard\n",
    "#%reload_ext tensorboard\n",
    "%tensorboard  --logdir   {log_dir}"
   ]
  },
  {
   "cell_type": "markdown",
   "metadata": {
    "Collapsed": "false"
   },
   "source": [
    "### Final feature extraction"
   ]
  },
  {
   "cell_type": "code",
   "execution_count": 42,
   "metadata": {
    "Collapsed": "false"
   },
   "outputs": [],
   "source": [
    "def data_feature_extraction(data, name):\n",
    "    if name=='custom_tf_bert_classification':\n",
    "        print('custom model: {}'.format(name))\n",
    "        return data.map(pp.feature_selection)\n",
    "    elif name=='tf_bert_classification':\n",
    "        print('standard model: {}'.format(name))\n",
    "        return data\n",
    "    else:\n",
    "        print('!!! non defined model !!!!')\n",
    "        return data"
   ]
  },
  {
   "cell_type": "markdown",
   "metadata": {
    "Collapsed": "false"
   },
   "source": [
    "### Training the model"
   ]
  },
  {
   "cell_type": "code",
   "execution_count": 43,
   "metadata": {
    "Collapsed": "false"
   },
   "outputs": [
    {
     "name": "stdout",
     "output_type": "stream",
     "text": [
      "standard model: tf_bert_classification\n",
      "standard model: tf_bert_classification\n",
      "Epoch 1/2\n",
      "\n",
      " training set -> batch:1 loss:0.6850024461746216 and acc: 0.5625\n",
      "  1/500 [..............................] - ETA: 0s - loss: 0.6850 - accuracy: 0.5625\n",
      " training set -> batch:2 loss:0.688239336013794 and acc: 0.53125\n",
      "  2/500 [..............................] - ETA: 40:56 - loss: 0.6882 - accuracy: 0.5312\n",
      " training set -> batch:3 loss:0.6732398867607117 and acc: 0.5625\n",
      "  3/500 [..............................] - ETA: 53:20 - loss: 0.6732 - accuracy: 0.5625\n",
      " training set -> batch:4 loss:0.6630906462669373 and acc: 0.5859375\n",
      "  4/500 [..............................] - ETA: 59:25 - loss: 0.6631 - accuracy: 0.5859\n",
      " training set -> batch:5 loss:0.6723388433456421 and acc: 0.581250011920929\n",
      "  5/500 [..............................] - ETA: 1:03:07 - loss: 0.6723 - accuracy: 0.5813\n",
      " training set -> batch:6 loss:0.6761485934257507 and acc: 0.5833333134651184\n",
      "  6/500 [..............................] - ETA: 1:05:25 - loss: 0.6761 - accuracy: 0.5833\n",
      " training set -> batch:7 loss:0.6711565256118774 and acc: 0.5803571343421936\n",
      "  7/500 [..............................] - ETA: 1:07:08 - loss: 0.6712 - accuracy: 0.5804\n",
      " training set -> batch:8 loss:0.6563771367073059 and acc: 0.59765625\n",
      "  8/500 [..............................] - ETA: 1:08:15 - loss: 0.6564 - accuracy: 0.5977\n",
      " training set -> batch:9 loss:0.6466162204742432 and acc: 0.6180555820465088\n",
      "  9/500 [..............................] - ETA: 1:09:15 - loss: 0.6466 - accuracy: 0.6181\n",
      " training set -> batch:10 loss:0.6516114473342896 and acc: 0.621874988079071\n",
      " 10/500 [..............................] - ETA: 1:09:59 - loss: 0.6516 - accuracy: 0.6219\n",
      " training set -> batch:11 loss:0.6465807557106018 and acc: 0.6193181872367859\n",
      " 11/500 [..............................] - ETA: 1:10:27 - loss: 0.6466 - accuracy: 0.6193\n",
      " training set -> batch:12 loss:0.6376188397407532 and acc: 0.6276041865348816\n",
      " 12/500 [..............................] - ETA: 1:10:42 - loss: 0.6376 - accuracy: 0.6276\n",
      " training set -> batch:13 loss:0.6339536905288696 and acc: 0.6394230723381042\n",
      " 13/500 [..............................] - ETA: 1:11:00 - loss: 0.6340 - accuracy: 0.6394\n",
      " training set -> batch:14 loss:0.6276934742927551 and acc: 0.6428571343421936\n",
      " 14/500 [..............................] - ETA: 1:11:20 - loss: 0.6277 - accuracy: 0.6429\n",
      " training set -> batch:15 loss:0.6196587085723877 and acc: 0.6541666388511658\n",
      " 15/500 [..............................] - ETA: 1:11:35 - loss: 0.6197 - accuracy: 0.6542\n",
      " training set -> batch:16 loss:0.6144357323646545 and acc: 0.66015625\n",
      " 16/500 [..............................] - ETA: 1:11:52 - loss: 0.6144 - accuracy: 0.6602\n",
      " training set -> batch:17 loss:0.6084052324295044 and acc: 0.6691176295280457\n",
      " 17/500 [>.............................] - ETA: 1:11:57 - loss: 0.6084 - accuracy: 0.6691\n",
      " training set -> batch:18 loss:0.6065433025360107 and acc: 0.6701388955116272\n",
      " 18/500 [>.............................] - ETA: 1:12:03 - loss: 0.6065 - accuracy: 0.6701\n",
      " training set -> batch:19 loss:0.6008191704750061 and acc: 0.6792762875556946\n",
      " 19/500 [>.............................] - ETA: 1:12:09 - loss: 0.6008 - accuracy: 0.6793\n",
      " training set -> batch:21 loss:0.5879517793655396 and acc: 0.6919642686843872\n",
      " 21/500 [>.............................] - ETA: 1:12:13 - loss: 0.5880 - accuracy: 0.6920\n",
      " training set -> batch:22 loss:0.5802650451660156 and acc: 0.6988636255264282\n",
      " 22/500 [>.............................] - ETA: 1:12:09 - loss: 0.5803 - accuracy: 0.6989\n",
      " training set -> batch:23 loss:0.5735981464385986 and acc: 0.70923912525177\n",
      " 23/500 [>.............................] - ETA: 1:12:06 - loss: 0.5736 - accuracy: 0.7092\n",
      " training set -> batch:24 loss:0.5668488144874573 and acc: 0.7161458134651184\n",
      " 24/500 [>.............................] - ETA: 1:12:02 - loss: 0.5668 - accuracy: 0.7161\n",
      " training set -> batch:25 loss:0.5620158314704895 and acc: 0.7174999713897705\n",
      " 25/500 [>.............................] - ETA: 1:11:59 - loss: 0.5620 - accuracy: 0.7175\n",
      " training set -> batch:26 loss:0.5535673499107361 and acc: 0.7247596383094788\n",
      " 26/500 [>.............................] - ETA: 1:11:56 - loss: 0.5536 - accuracy: 0.7248\n",
      " training set -> batch:27 loss:0.5480915307998657 and acc: 0.7303240895271301\n",
      " 27/500 [>.............................] - ETA: 1:11:59 - loss: 0.5481 - accuracy: 0.7303\n",
      " training set -> batch:28 loss:0.5404731035232544 and acc: 0.7366071343421936\n",
      " 28/500 [>.............................] - ETA: 1:11:54 - loss: 0.5405 - accuracy: 0.7366\n",
      " training set -> batch:29 loss:0.5379288196563721 and acc: 0.7381465435028076\n",
      " 29/500 [>.............................] - ETA: 1:11:50 - loss: 0.5379 - accuracy: 0.7381\n",
      " training set -> batch:30 loss:0.5316609740257263 and acc: 0.7427083253860474\n",
      " 30/500 [>.............................] - ETA: 1:11:47 - loss: 0.5317 - accuracy: 0.7427\n",
      " training set -> batch:31 loss:0.5221133828163147 and acc: 0.7489919066429138\n",
      " 31/500 [>.............................] - ETA: 1:11:42 - loss: 0.5221 - accuracy: 0.7490\n",
      " training set -> batch:32 loss:0.5177145600318909 and acc: 0.7509765625\n",
      " 32/500 [>.............................] - ETA: 1:11:35 - loss: 0.5177 - accuracy: 0.7510\n",
      " training set -> batch:33 loss:0.5132155418395996 and acc: 0.7547348737716675\n",
      " 33/500 [>.............................] - ETA: 1:11:29 - loss: 0.5132 - accuracy: 0.7547\n",
      " training set -> batch:34 loss:0.5123893618583679 and acc: 0.7555146813392639\n",
      " 34/500 [=>............................] - ETA: 1:11:21 - loss: 0.5124 - accuracy: 0.7555\n",
      " training set -> batch:35 loss:0.5061889886856079 and acc: 0.7589285969734192\n",
      " 35/500 [=>............................] - ETA: 1:11:15 - loss: 0.5062 - accuracy: 0.7589\n",
      " training set -> batch:36 loss:0.4985184073448181 and acc: 0.7638888955116272\n",
      " 36/500 [=>............................] - ETA: 1:11:08 - loss: 0.4985 - accuracy: 0.7639\n",
      " training set -> batch:37 loss:0.49475422501564026 and acc: 0.7668918967247009\n",
      " 37/500 [=>............................] - ETA: 1:11:03 - loss: 0.4948 - accuracy: 0.7669\n",
      " training set -> batch:38 loss:0.4918135106563568 and acc: 0.7689144611358643\n",
      " 38/500 [=>............................] - ETA: 1:10:55 - loss: 0.4918 - accuracy: 0.7689\n",
      " training set -> batch:39 loss:0.485189288854599 and acc: 0.7724359035491943\n",
      " 39/500 [=>............................] - ETA: 1:10:46 - loss: 0.4852 - accuracy: 0.7724\n",
      " training set -> batch:40 loss:0.4816367030143738 and acc: 0.774218738079071\n",
      " 40/500 [=>............................] - ETA: 1:10:40 - loss: 0.4816 - accuracy: 0.7742\n",
      " training set -> batch:41 loss:0.47939541935920715 and acc: 0.7766768336296082\n",
      " 41/500 [=>............................] - ETA: 1:10:36 - loss: 0.4794 - accuracy: 0.7767\n",
      " training set -> batch:42 loss:0.4744041860103607 and acc: 0.7805059552192688\n",
      " 42/500 [=>............................] - ETA: 1:10:28 - loss: 0.4744 - accuracy: 0.7805\n",
      " training set -> batch:43 loss:0.4741372764110565 and acc: 0.7805232405662537\n",
      " 43/500 [=>............................] - ETA: 1:10:21 - loss: 0.4741 - accuracy: 0.7805\n",
      " training set -> batch:44 loss:0.4712983965873718 and acc: 0.7826704382896423\n",
      " 44/500 [=>............................] - ETA: 1:10:14 - loss: 0.4713 - accuracy: 0.7827\n",
      " training set -> batch:45 loss:0.4674513638019562 and acc: 0.7847222089767456\n",
      " 45/500 [=>............................] - ETA: 1:10:06 - loss: 0.4675 - accuracy: 0.7847\n",
      " training set -> batch:46 loss:0.4647666811943054 and acc: 0.7866848111152649\n",
      " 46/500 [=>............................] - ETA: 1:10:00 - loss: 0.4648 - accuracy: 0.7867\n",
      " training set -> batch:47 loss:0.4620855748653412 and acc: 0.7885638475418091\n",
      " 47/500 [=>............................] - ETA: 1:09:51 - loss: 0.4621 - accuracy: 0.7886\n",
      " training set -> batch:48 loss:0.457181453704834 and acc: 0.7916666865348816\n",
      " 48/500 [=>............................] - ETA: 1:09:43 - loss: 0.4572 - accuracy: 0.7917\n",
      " training set -> batch:49 loss:0.45545047521591187 and acc: 0.7927296161651611\n",
      " 49/500 [=>............................] - ETA: 1:09:36 - loss: 0.4555 - accuracy: 0.7927\n",
      " training set -> batch:50 loss:0.4555150866508484 and acc: 0.793749988079071\n",
      "\n",
      " validation set -> batch:50 val loss:0.42481932044029236 and val acc: 0.8337156176567078\n",
      " 50/500 [==>...........................] - ETA: 1:23:06 - loss: 0.4555 - accuracy: 0.7937\n",
      " training set -> batch:51 loss:0.42390570044517517 and acc: 0.8351770043373108\n",
      " 51/500 [==>...........................] - ETA: 1:22:40 - loss: 0.4239 - accuracy: 0.8352\n",
      " training set -> batch:52 loss:0.4137708246707916 and acc: 0.8365384340286255\n",
      " 52/500 [==>...........................] - ETA: 1:22:14 - loss: 0.4138 - accuracy: 0.8365\n",
      " training set -> batch:53 loss:0.4291698634624481 and acc: 0.8336777091026306\n",
      " 53/500 [==>...........................] - ETA: 1:21:49 - loss: 0.4292 - accuracy: 0.8337\n",
      " training set -> batch:54 loss:0.41996991634368896 and acc: 0.8360000252723694\n",
      " 54/500 [==>...........................] - ETA: 1:21:24 - loss: 0.4200 - accuracy: 0.8360\n",
      " training set -> batch:55 loss:0.41668328642845154 and acc: 0.838178277015686\n",
      " 55/500 [==>...........................] - ETA: 1:21:01 - loss: 0.4167 - accuracy: 0.8382\n",
      " training set -> batch:56 loss:0.4179333746433258 and acc: 0.8355262875556946\n",
      " 56/500 [==>...........................] - ETA: 1:20:38 - loss: 0.4179 - accuracy: 0.8355\n",
      " training set -> batch:57 loss:0.4133041799068451 and acc: 0.8366788029670715\n",
      " 57/500 [==>...........................] - ETA: 1:20:16 - loss: 0.4133 - accuracy: 0.8367\n",
      " training set -> batch:58 loss:0.4096677899360657 and acc: 0.8359929323196411\n",
      " 58/500 [==>...........................] - ETA: 1:19:53 - loss: 0.4097 - accuracy: 0.8360\n",
      " training set -> batch:59 loss:0.4087136387825012 and acc: 0.8379310369491577\n",
      " 59/500 [==>...........................] - ETA: 1:19:31 - loss: 0.4087 - accuracy: 0.8379\n",
      " training set -> batch:60 loss:0.40106555819511414 and acc: 0.8406040072441101\n",
      " 60/500 [==>...........................] - ETA: 1:19:11 - loss: 0.4011 - accuracy: 0.8406\n",
      " training set -> batch:61 loss:0.39624249935150146 and acc: 0.8423202633857727\n",
      " 61/500 [==>...........................] - ETA: 1:18:50 - loss: 0.3962 - accuracy: 0.8423\n",
      " training set -> batch:62 loss:0.3869484066963196 and acc: 0.8455414175987244\n",
      " 62/500 [==>...........................] - ETA: 1:18:30 - loss: 0.3869 - accuracy: 0.8455\n",
      " training set -> batch:63 loss:0.3809777498245239 and acc: 0.8486024737358093\n",
      " 63/500 [==>...........................] - ETA: 1:18:11 - loss: 0.3810 - accuracy: 0.8486\n",
      " training set -> batch:64 loss:0.377311646938324 and acc: 0.8492424488067627\n",
      " 64/500 [==>...........................] - ETA: 1:17:51 - loss: 0.3773 - accuracy: 0.8492\n",
      " training set -> batch:65 loss:0.37156590819358826 and acc: 0.851331353187561\n",
      " 65/500 [==>...........................] - ETA: 1:17:31 - loss: 0.3716 - accuracy: 0.8513\n",
      " training set -> batch:66 loss:0.37033894658088684 and acc: 0.852601170539856\n",
      " 66/500 [==>...........................] - ETA: 1:17:12 - loss: 0.3703 - accuracy: 0.8526\n",
      " training set -> batch:67 loss:0.36851876974105835 and acc: 0.8524011373519897\n",
      " 67/500 [===>..........................] - ETA: 1:16:52 - loss: 0.3685 - accuracy: 0.8524\n",
      " training set -> batch:68 loss:0.3725232779979706 and acc: 0.8508287072181702\n",
      " 68/500 [===>..........................] - ETA: 1:16:35 - loss: 0.3725 - accuracy: 0.8508\n",
      " training set -> batch:69 loss:0.37255024909973145 and acc: 0.8513513803482056\n",
      " 69/500 [===>..........................] - ETA: 1:16:17 - loss: 0.3726 - accuracy: 0.8514\n",
      " training set -> batch:70 loss:0.37089648842811584 and acc: 0.8505290746688843\n",
      " 70/500 [===>..........................] - ETA: 1:16:00 - loss: 0.3709 - accuracy: 0.8505\n",
      " training set -> batch:71 loss:0.3676437437534332 and acc: 0.8510362505912781\n",
      " 71/500 [===>..........................] - ETA: 1:15:42 - loss: 0.3676 - accuracy: 0.8510\n",
      " training set -> batch:72 loss:0.36490461230278015 and acc: 0.8515228629112244\n",
      " 72/500 [===>..........................] - ETA: 1:15:26 - loss: 0.3649 - accuracy: 0.8515\n",
      " training set -> batch:73 loss:0.36529284715652466 and acc: 0.8513681888580322\n",
      " 73/500 [===>..........................] - ETA: 1:15:09 - loss: 0.3653 - accuracy: 0.8514\n",
      " training set -> batch:74 loss:0.36932793259620667 and acc: 0.8500000238418579\n",
      " 74/500 [===>..........................] - ETA: 1:14:51 - loss: 0.3693 - accuracy: 0.8500\n",
      " training set -> batch:75 loss:0.3679346740245819 and acc: 0.8498803973197937\n",
      " 75/500 [===>..........................] - ETA: 1:14:35 - loss: 0.3679 - accuracy: 0.8499\n",
      " training set -> batch:76 loss:0.3666106164455414 and acc: 0.8503521084785461\n",
      " 76/500 [===>..........................] - ETA: 1:14:19 - loss: 0.3666 - accuracy: 0.8504\n",
      " training set -> batch:77 loss:0.3666090667247772 and acc: 0.8496543765068054\n",
      " 77/500 [===>..........................] - ETA: 1:14:02 - loss: 0.3666 - accuracy: 0.8497\n",
      " training set -> batch:78 loss:0.36646735668182373 and acc: 0.8501130938529968\n",
      " 78/500 [===>..........................] - ETA: 1:13:46 - loss: 0.3665 - accuracy: 0.8501\n",
      " training set -> batch:79 loss:0.36933353543281555 and acc: 0.847777783870697\n",
      " 79/500 [===>..........................] - ETA: 1:13:30 - loss: 0.3693 - accuracy: 0.8478\n",
      " training set -> batch:80 loss:0.3718721568584442 and acc: 0.847161591053009\n",
      " 80/500 [===>..........................] - ETA: 1:13:15 - loss: 0.3719 - accuracy: 0.8472\n",
      " training set -> batch:81 loss:0.3721795678138733 and acc: 0.8465664982795715\n",
      " 81/500 [===>..........................] - ETA: 1:12:59 - loss: 0.3722 - accuracy: 0.8466\n",
      " training set -> batch:82 loss:0.37103042006492615 and acc: 0.8459915518760681\n",
      " 82/500 [===>..........................] - ETA: 1:12:43 - loss: 0.3710 - accuracy: 0.8460\n",
      " training set -> batch:83 loss:0.36942818760871887 and acc: 0.8475103974342346\n",
      " 83/500 [===>..........................] - ETA: 1:12:30 - loss: 0.3694 - accuracy: 0.8475\n",
      " training set -> batch:84 loss:0.3687276840209961 and acc: 0.8479591608047485\n",
      " 84/500 [====>.........................] - ETA: 1:12:14 - loss: 0.3687 - accuracy: 0.8480\n",
      " training set -> batch:85 loss:0.37271860241889954 and acc: 0.8448795080184937\n",
      " 85/500 [====>.........................] - ETA: 1:11:59 - loss: 0.3727 - accuracy: 0.8449\n",
      " training set -> batch:86 loss:0.3761666417121887 and acc: 0.8428853750228882\n",
      " 86/500 [====>.........................] - ETA: 1:11:45 - loss: 0.3762 - accuracy: 0.8429\n",
      " training set -> batch:87 loss:0.3751733899116516 and acc: 0.8424124717712402\n",
      " 87/500 [====>.........................] - ETA: 1:11:29 - loss: 0.3752 - accuracy: 0.8424\n",
      " training set -> batch:88 loss:0.37444666028022766 and acc: 0.8429118990898132\n",
      " 88/500 [====>.........................] - ETA: 1:11:15 - loss: 0.3744 - accuracy: 0.8429\n",
      " training set -> batch:89 loss:0.3742114007472992 and acc: 0.8433962464332581\n",
      " 89/500 [====>.........................] - ETA: 1:11:01 - loss: 0.3742 - accuracy: 0.8434\n",
      " training set -> batch:90 loss:0.3729154169559479 and acc: 0.8438661694526672\n",
      " 90/500 [====>.........................] - ETA: 1:10:46 - loss: 0.3729 - accuracy: 0.8439\n",
      " training set -> batch:91 loss:0.37260645627975464 and acc: 0.8438644409179688\n",
      " 91/500 [====>.........................] - ETA: 1:10:32 - loss: 0.3726 - accuracy: 0.8439\n",
      " training set -> batch:92 loss:0.3725937008857727 and acc: 0.8434115648269653\n",
      " 92/500 [====>.........................] - ETA: 1:10:17 - loss: 0.3726 - accuracy: 0.8434\n",
      " training set -> batch:93 loss:0.3752593696117401 and acc: 0.8420818448066711\n",
      " 93/500 [====>.........................] - ETA: 1:10:03 - loss: 0.3753 - accuracy: 0.8421\n",
      " training set -> batch:94 loss:0.37604644894599915 and acc: 0.8416666388511658\n",
      " 94/500 [====>.........................] - ETA: 1:09:50 - loss: 0.3760 - accuracy: 0.8417\n",
      " training set -> batch:95 loss:0.37448474764823914 and acc: 0.8416954874992371\n",
      " 95/500 [====>.........................] - ETA: 1:09:35 - loss: 0.3745 - accuracy: 0.8417\n",
      " training set -> batch:96 loss:0.3738606572151184 and acc: 0.8421501517295837\n",
      " 96/500 [====>.........................] - ETA: 1:09:21 - loss: 0.3739 - accuracy: 0.8422\n",
      " training set -> batch:97 loss:0.37100300192832947 and acc: 0.8434343338012695\n",
      " 97/500 [====>.........................] - ETA: 1:09:07 - loss: 0.3710 - accuracy: 0.8434\n",
      " training set -> batch:98 loss:0.3714791238307953 and acc: 0.8434385657310486\n",
      " 98/500 [====>.........................] - ETA: 1:08:53 - loss: 0.3715 - accuracy: 0.8434\n",
      " training set -> batch:99 loss:0.3740942180156708 and acc: 0.841803252696991\n",
      " 99/500 [====>.........................] - ETA: 1:08:39 - loss: 0.3741 - accuracy: 0.8418\n",
      " training set -> batch:100 loss:0.37354621291160583 and acc: 0.8422330021858215\n",
      "\n",
      " validation set -> batch:100 val loss:0.310955286026001 and val acc: 0.872706413269043\n",
      "100/500 [=====>........................] - ETA: 1:14:30 - loss: 0.3735 - accuracy: 0.8422\n",
      " training set -> batch:101 loss:0.3089205026626587 and acc: 0.872787594795227\n",
      "101/500 [=====>........................] - ETA: 1:14:12 - loss: 0.3089 - accuracy: 0.8728\n",
      " training set -> batch:102 loss:0.29755011200904846 and acc: 0.8760683536529541\n",
      "102/500 [=====>........................] - ETA: 1:13:54 - loss: 0.2976 - accuracy: 0.8761\n",
      " training set -> batch:103 loss:0.29644399881362915 and acc: 0.8760330677032471\n",
      "103/500 [=====>........................] - ETA: 1:13:36 - loss: 0.2964 - accuracy: 0.8760\n",
      " training set -> batch:104 loss:0.3103606402873993 and acc: 0.8709999918937683\n",
      "104/500 [=====>........................] - ETA: 1:13:19 - loss: 0.3104 - accuracy: 0.8710\n",
      " training set -> batch:105 loss:0.3064275085926056 and acc: 0.873062014579773\n",
      "105/500 [=====>........................] - ETA: 1:13:02 - loss: 0.3064 - accuracy: 0.8731\n",
      " training set -> batch:106 loss:0.30820927023887634 and acc: 0.8731203079223633\n",
      "106/500 [=====>........................] - ETA: 1:12:46 - loss: 0.3082 - accuracy: 0.8731\n",
      " training set -> batch:107 loss:0.30142292380332947 and acc: 0.8759124279022217\n",
      "107/500 [=====>........................] - ETA: 1:12:28 - loss: 0.3014 - accuracy: 0.8759\n",
      " training set -> batch:108 loss:0.3042341470718384 and acc: 0.875\n",
      "108/500 [=====>........................] - ETA: 1:12:11 - loss: 0.3042 - accuracy: 0.8750\n",
      " training set -> batch:109 loss:0.30069485306739807 and acc: 0.876724123954773\n",
      "109/500 [=====>........................] - ETA: 1:11:54 - loss: 0.3007 - accuracy: 0.8767\n",
      " training set -> batch:110 loss:0.3019848167896271 and acc: 0.8758389353752136\n",
      "110/500 [=====>........................] - ETA: 1:11:38 - loss: 0.3020 - accuracy: 0.8758\n",
      " training set -> batch:111 loss:0.29914364218711853 and acc: 0.8774510025978088\n",
      "111/500 [=====>........................] - ETA: 1:11:22 - loss: 0.2991 - accuracy: 0.8775\n",
      " training set -> batch:112 loss:0.29869797825813293 and acc: 0.8781847357749939\n",
      "112/500 [=====>........................] - ETA: 1:11:05 - loss: 0.2987 - accuracy: 0.8782\n",
      " training set -> batch:113 loss:0.30047908425331116 and acc: 0.8773291707038879\n",
      "113/500 [=====>........................] - ETA: 1:10:49 - loss: 0.3005 - accuracy: 0.8773\n",
      " training set -> batch:114 loss:0.29920321702957153 and acc: 0.8772727251052856\n",
      "114/500 [=====>........................] - ETA: 1:10:33 - loss: 0.2992 - accuracy: 0.8773\n",
      " training set -> batch:115 loss:0.3076498806476593 and acc: 0.8757396340370178\n",
      "115/500 [=====>........................] - ETA: 1:10:16 - loss: 0.3076 - accuracy: 0.8757\n",
      " training set -> batch:116 loss:0.30321744084358215 and acc: 0.8771676421165466\n",
      "116/500 [=====>........................] - ETA: 1:10:00 - loss: 0.3032 - accuracy: 0.8772\n",
      " training set -> batch:117 loss:0.30445918440818787 and acc: 0.8778248429298401\n",
      "117/500 [======>.......................] - ETA: 1:09:44 - loss: 0.3045 - accuracy: 0.8778\n",
      " training set -> batch:118 loss:0.30457696318626404 and acc: 0.8784530162811279\n",
      "118/500 [======>.......................] - ETA: 1:09:28 - loss: 0.3046 - accuracy: 0.8785\n",
      " training set -> batch:119 loss:0.30106881260871887 and acc: 0.8797297477722168\n",
      "119/500 [======>.......................] - ETA: 1:09:13 - loss: 0.3011 - accuracy: 0.8797\n",
      " training set -> batch:120 loss:0.30312082171440125 and acc: 0.8783068656921387\n",
      "120/500 [======>.......................] - ETA: 1:08:57 - loss: 0.3031 - accuracy: 0.8783\n",
      " training set -> batch:121 loss:0.3043254017829895 and acc: 0.8775906562805176\n",
      "121/500 [======>.......................] - ETA: 1:08:41 - loss: 0.3043 - accuracy: 0.8776\n",
      " training set -> batch:122 loss:0.3043956458568573 and acc: 0.8762690424919128\n",
      "122/500 [======>.......................] - ETA: 1:08:26 - loss: 0.3044 - accuracy: 0.8763\n",
      " training set -> batch:123 loss:0.30296415090560913 and acc: 0.8768656849861145\n",
      "123/500 [======>.......................] - ETA: 1:08:10 - loss: 0.3030 - accuracy: 0.8769\n",
      " training set -> batch:124 loss:0.3049992322921753 and acc: 0.875\n",
      "124/500 [======>.......................] - ETA: 1:07:54 - loss: 0.3050 - accuracy: 0.8750\n",
      " training set -> batch:125 loss:0.3030377924442291 and acc: 0.8755980730056763\n",
      "125/500 [======>.......................] - ETA: 1:07:39 - loss: 0.3030 - accuracy: 0.8756\n",
      " training set -> batch:126 loss:0.2999441921710968 and acc: 0.8773474097251892\n",
      "126/500 [======>.......................] - ETA: 1:07:25 - loss: 0.2999 - accuracy: 0.8773\n",
      " training set -> batch:127 loss:0.29725515842437744 and acc: 0.8778801560401917\n",
      "127/500 [======>.......................] - ETA: 1:07:10 - loss: 0.2973 - accuracy: 0.8779\n",
      " training set -> batch:128 loss:0.2994197905063629 and acc: 0.8772624731063843\n",
      "128/500 [======>.......................] - ETA: 1:06:55 - loss: 0.2994 - accuracy: 0.8773\n",
      " training set -> batch:129 loss:0.29948189854621887 and acc: 0.878333330154419\n",
      "129/500 [======>.......................] - ETA: 1:06:41 - loss: 0.2995 - accuracy: 0.8783\n",
      " training set -> batch:130 loss:0.30017632246017456 and acc: 0.8782750964164734\n",
      "130/500 [======>.......................] - ETA: 1:06:26 - loss: 0.3002 - accuracy: 0.8783\n",
      " training set -> batch:131 loss:0.296384334564209 and acc: 0.8803648352622986\n",
      "131/500 [======>.......................] - ETA: 1:06:12 - loss: 0.2964 - accuracy: 0.8804\n",
      " training set -> batch:132 loss:0.2958223521709442 and acc: 0.8813291192054749\n",
      "132/500 [======>.......................] - ETA: 1:05:58 - loss: 0.2958 - accuracy: 0.8813\n",
      " training set -> batch:133 loss:0.2942996025085449 and acc: 0.8812240958213806\n",
      "133/500 [======>.......................] - ETA: 1:05:43 - loss: 0.2943 - accuracy: 0.8812\n",
      " training set -> batch:134 loss:0.29657748341560364 and acc: 0.8816326260566711\n",
      "134/500 [=======>......................] - ETA: 1:05:29 - loss: 0.2966 - accuracy: 0.8816\n",
      " training set -> batch:135 loss:0.2983425259590149 and acc: 0.8805220723152161\n",
      "135/500 [=======>......................] - ETA: 1:05:15 - loss: 0.2983 - accuracy: 0.8805\n",
      " training set -> batch:136 loss:0.2992672026157379 and acc: 0.8804348111152649\n",
      "136/500 [=======>......................] - ETA: 1:05:01 - loss: 0.2993 - accuracy: 0.8804\n",
      " training set -> batch:137 loss:0.29926183819770813 and acc: 0.880836546421051\n",
      "137/500 [=======>......................] - ETA: 1:04:46 - loss: 0.2993 - accuracy: 0.8808\n",
      " training set -> batch:138 loss:0.29977333545684814 and acc: 0.8802682161331177\n",
      "138/500 [=======>......................] - ETA: 1:04:32 - loss: 0.2998 - accuracy: 0.8803\n",
      " training set -> batch:139 loss:0.29655033349990845 and acc: 0.8816037774085999\n",
      "139/500 [=======>......................] - ETA: 1:04:19 - loss: 0.2966 - accuracy: 0.8816\n",
      " training set -> batch:140 loss:0.29490894079208374 and acc: 0.8819702863693237\n",
      "140/500 [=======>......................] - ETA: 1:04:05 - loss: 0.2949 - accuracy: 0.8820\n",
      " training set -> batch:141 loss:0.2940044403076172 and acc: 0.8818681240081787\n",
      "141/500 [=======>......................] - ETA: 1:03:51 - loss: 0.2940 - accuracy: 0.8819\n",
      " training set -> batch:142 loss:0.295274943113327 and acc: 0.881317675113678\n",
      "142/500 [=======>......................] - ETA: 1:03:37 - loss: 0.2953 - accuracy: 0.8813\n",
      " training set -> batch:143 loss:0.2934994697570801 and acc: 0.8816726207733154\n",
      "143/500 [=======>......................] - ETA: 1:03:23 - loss: 0.2935 - accuracy: 0.8817\n",
      " training set -> batch:144 loss:0.29381486773490906 and acc: 0.8820175528526306\n",
      "144/500 [=======>......................] - ETA: 1:03:10 - loss: 0.2938 - accuracy: 0.8820\n",
      " training set -> batch:145 loss:0.2944938838481903 and acc: 0.8819203972816467\n",
      "145/500 [=======>......................] - ETA: 1:02:56 - loss: 0.2945 - accuracy: 0.8819\n",
      " training set -> batch:146 loss:0.29230862855911255 and acc: 0.8831058144569397\n",
      "146/500 [=======>......................] - ETA: 1:02:42 - loss: 0.2923 - accuracy: 0.8831\n",
      " training set -> batch:147 loss:0.29229357838630676 and acc: 0.8829966187477112\n",
      "147/500 [=======>......................] - ETA: 1:02:29 - loss: 0.2923 - accuracy: 0.8830\n",
      " training set -> batch:148 loss:0.2884683310985565 and acc: 0.884551465511322\n",
      "148/500 [=======>......................] - ETA: 1:02:16 - loss: 0.2885 - accuracy: 0.8846\n",
      " training set -> batch:149 loss:0.28918716311454773 and acc: 0.8844262361526489\n",
      "149/500 [=======>......................] - ETA: 1:02:02 - loss: 0.2892 - accuracy: 0.8844\n",
      " training set -> batch:150 loss:0.2901873290538788 and acc: 0.8847087621688843\n",
      "\n",
      " validation set -> batch:150 val loss:0.32326647639274597 and val acc: 0.8681192398071289\n",
      "150/500 [========>.....................] - ETA: 1:05:20 - loss: 0.2902 - accuracy: 0.8847\n",
      " training set -> batch:151 loss:0.35567301511764526 and acc: 0.8650442361831665\n",
      "151/500 [========>.....................] - ETA: 1:05:05 - loss: 0.3557 - accuracy: 0.8650\n",
      " training set -> batch:152 loss:0.35496416687965393 and acc: 0.8653846383094788\n",
      "152/500 [========>.....................] - ETA: 1:04:50 - loss: 0.3550 - accuracy: 0.8654\n",
      " training set -> batch:153 loss:0.3539748787879944 and acc: 0.8646694421768188\n",
      "153/500 [========>.....................] - ETA: 1:04:35 - loss: 0.3540 - accuracy: 0.8647\n",
      " training set -> batch:154 loss:0.3531041145324707 and acc: 0.8650000095367432\n",
      "154/500 [========>.....................] - ETA: 1:04:21 - loss: 0.3531 - accuracy: 0.8650\n",
      " training set -> batch:155 loss:0.355996698141098 and acc: 0.8643410801887512\n",
      "155/500 [========>.....................] - ETA: 1:04:06 - loss: 0.3560 - accuracy: 0.8643\n",
      " training set -> batch:156 loss:0.34594497084617615 and acc: 0.8656014800071716\n",
      "156/500 [========>.....................] - ETA: 1:03:51 - loss: 0.3459 - accuracy: 0.8656\n",
      " training set -> batch:157 loss:0.3585723638534546 and acc: 0.8631386756896973\n",
      "157/500 [========>.....................] - ETA: 1:03:36 - loss: 0.3586 - accuracy: 0.8631\n",
      " training set -> batch:158 loss:0.35761767625808716 and acc: 0.8617021441459656\n",
      "158/500 [========>.....................] - ETA: 1:03:21 - loss: 0.3576 - accuracy: 0.8617\n",
      " training set -> batch:159 loss:0.3623490631580353 and acc: 0.8603448271751404\n",
      "159/500 [========>.....................] - ETA: 1:03:06 - loss: 0.3623 - accuracy: 0.8603\n",
      " training set -> batch:160 loss:0.36439236998558044 and acc: 0.8607382774353027\n",
      "160/500 [========>.....................] - ETA: 1:02:52 - loss: 0.3644 - accuracy: 0.8607\n",
      " training set -> batch:161 loss:0.3580359220504761 and acc: 0.8627451062202454\n",
      "161/500 [========>.....................] - ETA: 1:02:37 - loss: 0.3580 - accuracy: 0.8627\n",
      " training set -> batch:162 loss:0.3508323132991791 and acc: 0.8646496534347534\n",
      "162/500 [========>.....................] - ETA: 1:02:23 - loss: 0.3508 - accuracy: 0.8646\n",
      " training set -> batch:163 loss:0.34640878438949585 and acc: 0.8664596080780029\n",
      "163/500 [========>.....................] - ETA: 1:02:09 - loss: 0.3464 - accuracy: 0.8665\n",
      " training set -> batch:164 loss:0.34379854798316956 and acc: 0.8681818246841431\n",
      "164/500 [========>.....................] - ETA: 1:01:55 - loss: 0.3438 - accuracy: 0.8682\n",
      " training set -> batch:165 loss:0.33556067943573 and acc: 0.8705621361732483\n",
      "165/500 [========>.....................] - ETA: 1:01:40 - loss: 0.3356 - accuracy: 0.8706\n",
      " training set -> batch:166 loss:0.3351173996925354 and acc: 0.8692196607589722\n",
      "166/500 [========>.....................] - ETA: 1:01:26 - loss: 0.3351 - accuracy: 0.8692\n",
      " training set -> batch:167 loss:0.3349037170410156 and acc: 0.869350254535675\n",
      "167/500 [=========>....................] - ETA: 1:01:11 - loss: 0.3349 - accuracy: 0.8694\n",
      " training set -> batch:168 loss:0.3360653519630432 and acc: 0.8694751262664795\n",
      "168/500 [=========>....................] - ETA: 1:00:58 - loss: 0.3361 - accuracy: 0.8695\n",
      " training set -> batch:169 loss:0.3401286005973816 and acc: 0.8675675392150879\n",
      "169/500 [=========>....................] - ETA: 1:00:44 - loss: 0.3401 - accuracy: 0.8676\n",
      " training set -> batch:170 loss:0.3366696834564209 and acc: 0.8690476417541504\n",
      "170/500 [=========>....................] - ETA: 1:00:29 - loss: 0.3367 - accuracy: 0.8690\n",
      " training set -> batch:171 loss:0.3319738805294037 and acc: 0.8704662919044495\n",
      "171/500 [=========>....................] - ETA: 1:00:15 - loss: 0.3320 - accuracy: 0.8705\n",
      " training set -> batch:172 loss:0.32519352436065674 and acc: 0.8730964660644531\n",
      "172/500 [=========>....................] - ETA: 1:00:02 - loss: 0.3252 - accuracy: 0.8731\n",
      " training set -> batch:173 loss:0.32682982087135315 and acc: 0.8718905448913574\n",
      "173/500 [=========>....................] - ETA: 59:48 - loss: 0.3268 - accuracy: 0.8719  \n",
      " training set -> batch:174 loss:0.32425084710121155 and acc: 0.872560977935791\n",
      "174/500 [=========>....................] - ETA: 59:34 - loss: 0.3243 - accuracy: 0.8726\n",
      " training set -> batch:175 loss:0.3232860267162323 and acc: 0.8726076483726501\n",
      "175/500 [=========>....................] - ETA: 59:21 - loss: 0.3233 - accuracy: 0.8726\n",
      " training set -> batch:176 loss:0.31982097029685974 and acc: 0.873826265335083\n",
      "176/500 [=========>....................] - ETA: 59:07 - loss: 0.3198 - accuracy: 0.8738\n",
      " training set -> batch:177 loss:0.31954678893089294 and acc: 0.8732718825340271\n",
      "177/500 [=========>....................] - ETA: 58:54 - loss: 0.3195 - accuracy: 0.8733\n",
      " training set -> batch:178 loss:0.3192398250102997 and acc: 0.8727375268936157\n",
      "178/500 [=========>....................] - ETA: 58:40 - loss: 0.3192 - accuracy: 0.8727\n",
      " training set -> batch:179 loss:0.3209908902645111 and acc: 0.8722222447395325\n",
      "179/500 [=========>....................] - ETA: 58:26 - loss: 0.3210 - accuracy: 0.8722\n",
      " training set -> batch:180 loss:0.31835103034973145 and acc: 0.8733624219894409\n",
      "180/500 [=========>....................] - ETA: 58:13 - loss: 0.3184 - accuracy: 0.8734\n",
      " training set -> batch:181 loss:0.31589993834495544 and acc: 0.8744634985923767\n",
      "181/500 [=========>....................] - ETA: 57:59 - loss: 0.3159 - accuracy: 0.8745\n",
      " training set -> batch:182 loss:0.3128093481063843 and acc: 0.875\n",
      "182/500 [=========>....................] - ETA: 57:46 - loss: 0.3128 - accuracy: 0.8750\n",
      " training set -> batch:183 loss:0.31705325841903687 and acc: 0.8734439611434937\n",
      "183/500 [=========>....................] - ETA: 57:32 - loss: 0.3171 - accuracy: 0.8734\n",
      " training set -> batch:184 loss:0.3166782557964325 and acc: 0.8739795684814453\n",
      "184/500 [==========>...................] - ETA: 57:19 - loss: 0.3167 - accuracy: 0.8740\n",
      " training set -> batch:185 loss:0.31676918268203735 and acc: 0.8744980096817017\n",
      "185/500 [==========>...................] - ETA: 57:06 - loss: 0.3168 - accuracy: 0.8745\n",
      " training set -> batch:186 loss:0.31349095702171326 and acc: 0.8754940629005432\n",
      "186/500 [==========>...................] - ETA: 56:53 - loss: 0.3135 - accuracy: 0.8755\n",
      " training set -> batch:187 loss:0.3125682473182678 and acc: 0.8754863739013672\n",
      "187/500 [==========>...................] - ETA: 56:39 - loss: 0.3126 - accuracy: 0.8755\n",
      " training set -> batch:188 loss:0.31067150831222534 and acc: 0.8764367699623108\n",
      "188/500 [==========>...................] - ETA: 56:26 - loss: 0.3107 - accuracy: 0.8764\n",
      " training set -> batch:189 loss:0.31198376417160034 and acc: 0.8759434223175049\n",
      "189/500 [==========>...................] - ETA: 56:13 - loss: 0.3120 - accuracy: 0.8759\n",
      " training set -> batch:190 loss:0.3144969642162323 and acc: 0.875\n",
      "190/500 [==========>...................] - ETA: 56:00 - loss: 0.3145 - accuracy: 0.8750\n",
      " training set -> batch:191 loss:0.31599804759025574 and acc: 0.875\n",
      "191/500 [==========>...................] - ETA: 55:48 - loss: 0.3160 - accuracy: 0.8750\n",
      " training set -> batch:192 loss:0.3142871558666229 and acc: 0.875902533531189\n",
      "192/500 [==========>...................] - ETA: 55:35 - loss: 0.3143 - accuracy: 0.8759\n",
      " training set -> batch:193 loss:0.3164483308792114 and acc: 0.8754448294639587\n",
      "193/500 [==========>...................] - ETA: 55:22 - loss: 0.3164 - accuracy: 0.8754\n",
      " training set -> batch:194 loss:0.3168366849422455 and acc: 0.8745614290237427\n",
      "194/500 [==========>...................] - ETA: 55:09 - loss: 0.3168 - accuracy: 0.8746\n",
      " training set -> batch:195 loss:0.3145940601825714 and acc: 0.875432550907135\n",
      "195/500 [==========>...................] - ETA: 54:57 - loss: 0.3146 - accuracy: 0.8754\n",
      " training set -> batch:196 loss:0.3121372163295746 and acc: 0.876279890537262\n",
      "196/500 [==========>...................] - ETA: 54:44 - loss: 0.3121 - accuracy: 0.8763\n",
      " training set -> batch:197 loss:0.31078040599823 and acc: 0.8762626051902771\n",
      "197/500 [==========>...................] - ETA: 54:31 - loss: 0.3108 - accuracy: 0.8763\n",
      " training set -> batch:198 loss:0.31078705191612244 and acc: 0.8766611218452454\n",
      "198/500 [==========>...................] - ETA: 54:18 - loss: 0.3108 - accuracy: 0.8767\n",
      " training set -> batch:199 loss:0.3091227412223816 and acc: 0.8770492076873779\n",
      "199/500 [==========>...................] - ETA: 54:05 - loss: 0.3091 - accuracy: 0.8770\n",
      " training set -> batch:200 loss:0.3074740171432495 and acc: 0.8782362341880798\n",
      "\n",
      " validation set -> batch:200 val loss:0.2514605224132538 and val acc: 0.8979358077049255\n",
      "200/500 [===========>..................] - ETA: 56:10 - loss: 0.3075 - accuracy: 0.8782\n",
      " training set -> batch:201 loss:0.2537631392478943 and acc: 0.8982300758361816\n",
      "201/500 [===========>..................] - ETA: 55:56 - loss: 0.2538 - accuracy: 0.8982\n",
      " training set -> batch:202 loss:0.24838721752166748 and acc: 0.9006410241127014\n",
      "202/500 [===========>..................] - ETA: 55:42 - loss: 0.2484 - accuracy: 0.9006\n",
      " training set -> batch:203 loss:0.24602781236171722 and acc: 0.9018595218658447\n",
      "203/500 [===========>..................] - ETA: 55:29 - loss: 0.2460 - accuracy: 0.9019\n",
      " training set -> batch:204 loss:0.24578849971294403 and acc: 0.902999997138977\n",
      "204/500 [===========>..................] - ETA: 55:15 - loss: 0.2458 - accuracy: 0.9030\n",
      " training set -> batch:205 loss:0.2480272799730301 and acc: 0.9031007885932922\n",
      "205/500 [===========>..................] - ETA: 55:01 - loss: 0.2480 - accuracy: 0.9031\n",
      " training set -> batch:206 loss:0.24307815730571747 and acc: 0.9031955003738403\n",
      "206/500 [===========>..................] - ETA: 54:47 - loss: 0.2431 - accuracy: 0.9032\n",
      " training set -> batch:207 loss:0.24336767196655273 and acc: 0.9032846689224243\n",
      "207/500 [===========>..................] - ETA: 54:33 - loss: 0.2434 - accuracy: 0.9033\n",
      " training set -> batch:208 loss:0.2434641271829605 and acc: 0.9033687710762024\n",
      "208/500 [===========>..................] - ETA: 54:20 - loss: 0.2435 - accuracy: 0.9034\n",
      " training set -> batch:209 loss:0.24033722281455994 and acc: 0.9034482836723328\n",
      "209/500 [===========>..................] - ETA: 54:06 - loss: 0.2403 - accuracy: 0.9034\n",
      " training set -> batch:210 loss:0.2534228265285492 and acc: 0.9001677632331848\n",
      "210/500 [===========>..................] - ETA: 53:52 - loss: 0.2534 - accuracy: 0.9002\n",
      " training set -> batch:211 loss:0.2711889147758484 and acc: 0.8970588445663452\n",
      "211/500 [===========>..................] - ETA: 53:39 - loss: 0.2712 - accuracy: 0.8971\n",
      " training set -> batch:212 loss:0.2641441524028778 and acc: 0.8988853693008423\n",
      "212/500 [===========>..................] - ETA: 53:26 - loss: 0.2641 - accuracy: 0.8989\n",
      " training set -> batch:213 loss:0.2629348933696747 and acc: 0.899068295955658\n",
      "213/500 [===========>..................] - ETA: 53:12 - loss: 0.2629 - accuracy: 0.8991\n",
      " training set -> batch:214 loss:0.26260051131248474 and acc: 0.8999999761581421\n",
      "214/500 [===========>..................] - ETA: 52:59 - loss: 0.2626 - accuracy: 0.9000\n",
      " training set -> batch:215 loss:0.26118361949920654 and acc: 0.8994082808494568\n",
      "215/500 [===========>..................] - ETA: 52:45 - loss: 0.2612 - accuracy: 0.8994\n",
      " training set -> batch:216 loss:0.25924691557884216 and acc: 0.900288999080658\n",
      "216/500 [===========>..................] - ETA: 52:32 - loss: 0.2592 - accuracy: 0.9003\n",
      " training set -> batch:217 loss:0.26870599389076233 and acc: 0.8990113139152527\n",
      "217/500 [============>.................] - ETA: 52:19 - loss: 0.2687 - accuracy: 0.8990\n",
      " training set -> batch:218 loss:0.2682092785835266 and acc: 0.8977900743484497\n",
      "218/500 [============>.................] - ETA: 52:06 - loss: 0.2682 - accuracy: 0.8978\n",
      " training set -> batch:219 loss:0.2683970630168915 and acc: 0.8979730010032654\n",
      "219/500 [============>.................] - ETA: 51:53 - loss: 0.2684 - accuracy: 0.8980\n",
      " training set -> batch:220 loss:0.26416242122650146 and acc: 0.898809552192688\n",
      "220/500 [============>.................] - ETA: 51:40 - loss: 0.2642 - accuracy: 0.8988\n",
      " training set -> batch:221 loss:0.2719861567020416 and acc: 0.897020697593689\n",
      "221/500 [============>.................] - ETA: 51:26 - loss: 0.2720 - accuracy: 0.8970\n",
      " training set -> batch:222 loss:0.27249622344970703 and acc: 0.8959391117095947\n",
      "222/500 [============>.................] - ETA: 51:13 - loss: 0.2725 - accuracy: 0.8959\n",
      " training set -> batch:223 loss:0.2739415168762207 and acc: 0.89552241563797\n",
      "223/500 [============>.................] - ETA: 51:00 - loss: 0.2739 - accuracy: 0.8955\n",
      " training set -> batch:224 loss:0.2811422049999237 and acc: 0.8926829099655151\n",
      "224/500 [============>.................] - ETA: 50:47 - loss: 0.2811 - accuracy: 0.8927\n",
      " training set -> batch:225 loss:0.2789284288883209 and acc: 0.8935406804084778\n",
      "225/500 [============>.................] - ETA: 50:34 - loss: 0.2789 - accuracy: 0.8935\n",
      " training set -> batch:226 loss:0.27830690145492554 and acc: 0.8931924700737\n",
      "226/500 [============>.................] - ETA: 50:21 - loss: 0.2783 - accuracy: 0.8932\n",
      " training set -> batch:227 loss:0.27831965684890747 and acc: 0.8928571343421936\n",
      "227/500 [============>.................] - ETA: 50:09 - loss: 0.2783 - accuracy: 0.8929\n",
      " training set -> batch:228 loss:0.27844560146331787 and acc: 0.8930995464324951\n",
      "228/500 [============>.................] - ETA: 49:56 - loss: 0.2784 - accuracy: 0.8931\n",
      " training set -> batch:229 loss:0.28108498454093933 and acc: 0.8916666507720947\n",
      "229/500 [============>.................] - ETA: 49:43 - loss: 0.2811 - accuracy: 0.8917\n",
      " training set -> batch:230 loss:0.2778679430484772 and acc: 0.8924672603607178\n",
      "230/500 [============>.................] - ETA: 49:30 - loss: 0.2779 - accuracy: 0.8925\n",
      " training set -> batch:231 loss:0.27693289518356323 and acc: 0.8937768340110779\n",
      "231/500 [============>.................] - ETA: 49:18 - loss: 0.2769 - accuracy: 0.8938\n",
      " training set -> batch:232 loss:0.27595457434654236 and acc: 0.8939873576164246\n",
      "232/500 [============>.................] - ETA: 49:05 - loss: 0.2760 - accuracy: 0.8940\n",
      " training set -> batch:233 loss:0.2773464620113373 and acc: 0.8931535482406616\n",
      "233/500 [============>.................] - ETA: 48:52 - loss: 0.2773 - accuracy: 0.8932\n",
      " training set -> batch:234 loss:0.27780595421791077 and acc: 0.893367350101471\n",
      "234/500 [=============>................] - ETA: 48:39 - loss: 0.2778 - accuracy: 0.8934\n",
      " training set -> batch:235 loss:0.2765871286392212 and acc: 0.8935742974281311\n",
      "235/500 [=============>................] - ETA: 48:27 - loss: 0.2766 - accuracy: 0.8936\n",
      " training set -> batch:236 loss:0.2761126160621643 and acc: 0.893774688243866\n",
      "236/500 [=============>................] - ETA: 48:14 - loss: 0.2761 - accuracy: 0.8938\n",
      " training set -> batch:237 loss:0.274718314409256 and acc: 0.8939688801765442\n",
      "237/500 [=============>................] - ETA: 48:02 - loss: 0.2747 - accuracy: 0.8940\n",
      " training set -> batch:238 loss:0.27345898747444153 and acc: 0.8946360349655151\n",
      "238/500 [=============>................] - ETA: 47:49 - loss: 0.2735 - accuracy: 0.8946\n",
      " training set -> batch:239 loss:0.2713821828365326 and acc: 0.895283043384552\n",
      "239/500 [=============>................] - ETA: 47:37 - loss: 0.2714 - accuracy: 0.8953\n",
      " training set -> batch:240 loss:0.2715199887752533 and acc: 0.8949813842773438\n",
      "240/500 [=============>................] - ETA: 47:24 - loss: 0.2715 - accuracy: 0.8950\n",
      " training set -> batch:241 loss:0.2705584466457367 and acc: 0.8956043720245361\n",
      "241/500 [=============>................] - ETA: 47:12 - loss: 0.2706 - accuracy: 0.8956\n",
      " training set -> batch:242 loss:0.26876121759414673 and acc: 0.8962093591690063\n",
      "242/500 [=============>................] - ETA: 46:59 - loss: 0.2688 - accuracy: 0.8962\n",
      " training set -> batch:243 loss:0.26751741766929626 and acc: 0.8963522911071777\n",
      "243/500 [=============>................] - ETA: 46:47 - loss: 0.2675 - accuracy: 0.8964\n",
      " training set -> batch:244 loss:0.26553112268447876 and acc: 0.8973684310913086\n",
      "244/500 [=============>................] - ETA: 46:35 - loss: 0.2655 - accuracy: 0.8974\n",
      " training set -> batch:245 loss:0.2624073624610901 and acc: 0.8987889289855957\n",
      "245/500 [=============>................] - ETA: 46:22 - loss: 0.2624 - accuracy: 0.8988\n",
      " training set -> batch:246 loss:0.2627308964729309 and acc: 0.8988907933235168\n",
      "246/500 [=============>................] - ETA: 46:10 - loss: 0.2627 - accuracy: 0.8989\n",
      " training set -> batch:247 loss:0.2632996737957001 and acc: 0.8989899158477783\n",
      "247/500 [=============>................] - ETA: 45:58 - loss: 0.2633 - accuracy: 0.8990\n",
      " training set -> batch:248 loss:0.2611616551876068 and acc: 0.89991694688797\n",
      "248/500 [=============>................] - ETA: 45:45 - loss: 0.2612 - accuracy: 0.8999\n",
      " training set -> batch:249 loss:0.25901567935943604 and acc: 0.9004098176956177\n",
      "249/500 [=============>................] - ETA: 45:33 - loss: 0.2590 - accuracy: 0.9004\n",
      " training set -> batch:250 loss:0.25667649507522583 and acc: 0.901294469833374\n",
      "\n",
      " validation set -> batch:250 val loss:0.2646074593067169 and val acc: 0.8899082541465759\n",
      "250/500 [==============>...............] - ETA: 46:52 - loss: 0.2567 - accuracy: 0.9013\n",
      " training set -> batch:251 loss:0.252691388130188 and acc: 0.8938053250312805\n",
      "251/500 [==============>...............] - ETA: 46:39 - loss: 0.2527 - accuracy: 0.8938\n",
      " training set -> batch:252 loss:0.2455502599477768 and acc: 0.8963675498962402\n",
      "252/500 [==============>...............] - ETA: 46:26 - loss: 0.2456 - accuracy: 0.8964\n",
      " training set -> batch:253 loss:0.26555174589157104 and acc: 0.89462810754776\n",
      "253/500 [==============>...............] - ETA: 46:13 - loss: 0.2656 - accuracy: 0.8946\n",
      " training set -> batch:254 loss:0.2791038155555725 and acc: 0.8930000066757202\n",
      "254/500 [==============>...............] - ETA: 46:00 - loss: 0.2791 - accuracy: 0.8930\n",
      " training set -> batch:255 loss:0.2801746129989624 and acc: 0.893410861492157\n",
      "255/500 [==============>...............] - ETA: 45:47 - loss: 0.2802 - accuracy: 0.8934\n",
      " training set -> batch:256 loss:0.283012330532074 and acc: 0.893796980381012\n",
      "256/500 [==============>...............] - ETA: 45:34 - loss: 0.2830 - accuracy: 0.8938\n",
      " training set -> batch:257 loss:0.2860890030860901 and acc: 0.8932482004165649\n",
      "257/500 [==============>...............] - ETA: 45:21 - loss: 0.2861 - accuracy: 0.8932\n",
      " training set -> batch:258 loss:0.2780875563621521 and acc: 0.8953900933265686\n",
      "258/500 [==============>...............] - ETA: 45:09 - loss: 0.2781 - accuracy: 0.8954\n",
      " training set -> batch:259 loss:0.2689909040927887 and acc: 0.8982758522033691\n",
      "259/500 [==============>...............] - ETA: 44:56 - loss: 0.2690 - accuracy: 0.8983\n",
      " training set -> batch:260 loss:0.2681216299533844 and acc: 0.8984899520874023\n",
      "260/500 [==============>...............] - ETA: 44:43 - loss: 0.2681 - accuracy: 0.8985\n",
      " training set -> batch:261 loss:0.2650940418243408 and acc: 0.898692786693573\n",
      "261/500 [==============>...............] - ETA: 44:31 - loss: 0.2651 - accuracy: 0.8987\n",
      " training set -> batch:262 loss:0.26203280687332153 and acc: 0.8996815085411072\n",
      "262/500 [==============>...............] - ETA: 44:18 - loss: 0.2620 - accuracy: 0.8997\n",
      " training set -> batch:263 loss:0.2615293264389038 and acc: 0.899068295955658\n",
      "263/500 [==============>...............] - ETA: 44:05 - loss: 0.2615 - accuracy: 0.8991\n",
      " training set -> batch:264 loss:0.2648906409740448 and acc: 0.8977272510528564\n",
      "264/500 [==============>...............] - ETA: 43:52 - loss: 0.2649 - accuracy: 0.8977\n",
      " training set -> batch:265 loss:0.25893542170524597 and acc: 0.8994082808494568\n",
      "265/500 [==============>...............] - ETA: 43:40 - loss: 0.2589 - accuracy: 0.8994\n",
      " training set -> batch:266 loss:0.2589649558067322 and acc: 0.900288999080658\n",
      "266/500 [==============>...............] - ETA: 43:27 - loss: 0.2590 - accuracy: 0.9003\n",
      " training set -> batch:267 loss:0.2587423622608185 and acc: 0.8997175097465515\n",
      "267/500 [===============>..............] - ETA: 43:15 - loss: 0.2587 - accuracy: 0.8997\n",
      " training set -> batch:268 loss:0.2536458373069763 and acc: 0.9012430906295776\n",
      "268/500 [===============>..............] - ETA: 43:02 - loss: 0.2536 - accuracy: 0.9012\n",
      " training set -> batch:269 loss:0.254351407289505 and acc: 0.9006756544113159\n",
      "269/500 [===============>..............] - ETA: 42:50 - loss: 0.2544 - accuracy: 0.9007\n",
      " training set -> batch:270 loss:0.261705219745636 and acc: 0.8961640000343323\n",
      "270/500 [===============>..............] - ETA: 42:37 - loss: 0.2617 - accuracy: 0.8962\n",
      " training set -> batch:271 loss:0.26862525939941406 and acc: 0.893782377243042\n",
      "271/500 [===============>..............] - ETA: 42:25 - loss: 0.2686 - accuracy: 0.8938\n",
      " training set -> batch:272 loss:0.26766422390937805 and acc: 0.8946700692176819\n",
      "272/500 [===============>..............] - ETA: 42:12 - loss: 0.2677 - accuracy: 0.8947\n",
      " training set -> batch:273 loss:0.2657686471939087 and acc: 0.8949005007743835\n",
      "273/500 [===============>..............] - ETA: 42:00 - loss: 0.2658 - accuracy: 0.8949\n",
      " training set -> batch:274 loss:0.2628810703754425 and acc: 0.8963414430618286\n",
      "274/500 [===============>..............] - ETA: 41:48 - loss: 0.2629 - accuracy: 0.8963\n",
      " training set -> batch:275 loss:0.2589682936668396 and acc: 0.8983253836631775\n",
      "275/500 [===============>..............] - ETA: 41:35 - loss: 0.2590 - accuracy: 0.8983\n",
      " training set -> batch:276 loss:0.26035019755363464 and acc: 0.8973004817962646\n",
      "276/500 [===============>..............] - ETA: 41:23 - loss: 0.2604 - accuracy: 0.8973\n",
      " training set -> batch:277 loss:0.2570713460445404 and acc: 0.8986175060272217\n",
      "277/500 [===============>..............] - ETA: 41:11 - loss: 0.2571 - accuracy: 0.8986\n",
      " training set -> batch:278 loss:0.2606711983680725 and acc: 0.8953620195388794\n",
      "278/500 [===============>..............] - ETA: 40:58 - loss: 0.2607 - accuracy: 0.8954\n",
      " training set -> batch:279 loss:0.26634377241134644 and acc: 0.894444465637207\n",
      "279/500 [===============>..............] - ETA: 40:46 - loss: 0.2663 - accuracy: 0.8944\n",
      " training set -> batch:280 loss:0.26764264702796936 and acc: 0.8946506381034851\n",
      "280/500 [===============>..............] - ETA: 40:34 - loss: 0.2676 - accuracy: 0.8947\n",
      " training set -> batch:281 loss:0.26681554317474365 and acc: 0.8948497772216797\n",
      "281/500 [===============>..............] - ETA: 40:22 - loss: 0.2668 - accuracy: 0.8948\n",
      " training set -> batch:282 loss:0.2641671299934387 and acc: 0.8960970640182495\n",
      "282/500 [===============>..............] - ETA: 40:10 - loss: 0.2642 - accuracy: 0.8961\n",
      " training set -> batch:283 loss:0.2622494101524353 and acc: 0.896784245967865\n",
      "283/500 [===============>..............] - ETA: 39:57 - loss: 0.2622 - accuracy: 0.8968\n",
      " training set -> batch:284 loss:0.2664528787136078 and acc: 0.8948979377746582\n",
      "284/500 [================>.............] - ETA: 39:45 - loss: 0.2665 - accuracy: 0.8949\n",
      " training set -> batch:285 loss:0.2637031078338623 and acc: 0.8960843086242676\n",
      "285/500 [================>.............] - ETA: 39:33 - loss: 0.2637 - accuracy: 0.8961\n",
      " training set -> batch:286 loss:0.26701053977012634 and acc: 0.8942687511444092\n",
      "286/500 [================>.............] - ETA: 39:21 - loss: 0.2670 - accuracy: 0.8943\n",
      " training set -> batch:287 loss:0.2643645703792572 and acc: 0.8954280018806458\n",
      "287/500 [================>.............] - ETA: 39:09 - loss: 0.2644 - accuracy: 0.8954\n",
      " training set -> batch:288 loss:0.26306986808776855 and acc: 0.8955938816070557\n",
      "288/500 [================>.............] - ETA: 38:57 - loss: 0.2631 - accuracy: 0.8956\n",
      " training set -> batch:289 loss:0.26213353872299194 and acc: 0.8962264060974121\n",
      "289/500 [================>.............] - ETA: 38:44 - loss: 0.2621 - accuracy: 0.8962\n",
      " training set -> batch:290 loss:0.2634981572628021 and acc: 0.8959107995033264\n",
      "290/500 [================>.............] - ETA: 38:32 - loss: 0.2635 - accuracy: 0.8959\n",
      " training set -> batch:291 loss:0.26244962215423584 and acc: 0.8965201377868652\n",
      "291/500 [================>.............] - ETA: 38:20 - loss: 0.2624 - accuracy: 0.8965\n",
      " training set -> batch:292 loss:0.2626354396343231 and acc: 0.8962093591690063\n",
      "292/500 [================>.............] - ETA: 38:08 - loss: 0.2626 - accuracy: 0.8962\n",
      " training set -> batch:293 loss:0.26101014018058777 and acc: 0.89724200963974\n",
      "293/500 [================>.............] - ETA: 37:56 - loss: 0.2610 - accuracy: 0.8972\n",
      " training set -> batch:294 loss:0.2609131336212158 and acc: 0.8969298005104065\n",
      "294/500 [================>.............] - ETA: 37:44 - loss: 0.2609 - accuracy: 0.8969\n",
      " training set -> batch:295 loss:0.26087895035743713 and acc: 0.8966262936592102\n",
      "295/500 [================>.............] - ETA: 37:32 - loss: 0.2609 - accuracy: 0.8966\n",
      " training set -> batch:296 loss:0.2587226331233978 and acc: 0.8976109027862549\n",
      "296/500 [================>.............] - ETA: 37:20 - loss: 0.2587 - accuracy: 0.8976\n",
      " training set -> batch:297 loss:0.2559928596019745 and acc: 0.8985690474510193\n",
      "297/500 [================>.............] - ETA: 37:08 - loss: 0.2560 - accuracy: 0.8986\n",
      " training set -> batch:298 loss:0.2545972764492035 and acc: 0.8990863561630249\n",
      "298/500 [================>.............] - ETA: 36:56 - loss: 0.2546 - accuracy: 0.8991\n",
      " training set -> batch:299 loss:0.25281041860580444 and acc: 0.8995901346206665\n",
      "299/500 [================>.............] - ETA: 36:44 - loss: 0.2528 - accuracy: 0.8996\n",
      " training set -> batch:300 loss:0.25250008702278137 and acc: 0.8996763825416565\n",
      "\n",
      " validation set -> batch:300 val loss:0.25163161754608154 and val acc: 0.896789014339447\n",
      "300/500 [=================>............] - ETA: 37:33 - loss: 0.2525 - accuracy: 0.8997\n",
      " training set -> batch:301 loss:0.2537415325641632 and acc: 0.8971238732337952\n",
      "301/500 [=================>............] - ETA: 37:21 - loss: 0.2537 - accuracy: 0.8971\n",
      " training set -> batch:302 loss:0.2562805414199829 and acc: 0.8974359035491943\n",
      "302/500 [=================>............] - ETA: 37:08 - loss: 0.2563 - accuracy: 0.8974\n",
      " training set -> batch:303 loss:0.24990564584732056 and acc: 0.8997933864593506\n",
      "303/500 [=================>............] - ETA: 36:56 - loss: 0.2499 - accuracy: 0.8998\n",
      " training set -> batch:304 loss:0.25690850615501404 and acc: 0.8980000019073486\n",
      "304/500 [=================>............] - ETA: 36:43 - loss: 0.2569 - accuracy: 0.8980\n",
      " training set -> batch:305 loss:0.24917422235012054 and acc: 0.8992248177528381\n",
      "305/500 [=================>............] - ETA: 36:31 - loss: 0.2492 - accuracy: 0.8992\n",
      " training set -> batch:306 loss:0.2565935254096985 and acc: 0.8975563645362854\n",
      "306/500 [=================>............] - ETA: 36:18 - loss: 0.2566 - accuracy: 0.8976\n",
      " training set -> batch:307 loss:0.2547895014286041 and acc: 0.8987226486206055\n",
      "307/500 [=================>............] - ETA: 36:06 - loss: 0.2548 - accuracy: 0.8987\n",
      " training set -> batch:308 loss:0.24676965177059174 and acc: 0.9007092118263245\n",
      "308/500 [=================>............] - ETA: 35:54 - loss: 0.2468 - accuracy: 0.9007\n",
      " training set -> batch:309 loss:0.2495747059583664 and acc: 0.8999999761581421\n",
      "309/500 [=================>............] - ETA: 35:42 - loss: 0.2496 - accuracy: 0.9000\n",
      " training set -> batch:310 loss:0.25018107891082764 and acc: 0.9010066986083984\n",
      "310/500 [=================>............] - ETA: 35:29 - loss: 0.2502 - accuracy: 0.9010\n",
      " training set -> batch:311 loss:0.24752755463123322 and acc: 0.9003267884254456\n",
      "311/500 [=================>............] - ETA: 35:17 - loss: 0.2475 - accuracy: 0.9003\n",
      " training set -> batch:312 loss:0.24608835577964783 and acc: 0.8996815085411072\n",
      "312/500 [=================>............] - ETA: 35:05 - loss: 0.2461 - accuracy: 0.8997\n",
      " training set -> batch:313 loss:0.24939168989658356 and acc: 0.8998447060585022\n",
      "313/500 [=================>............] - ETA: 34:52 - loss: 0.2494 - accuracy: 0.8998\n",
      " training set -> batch:314 loss:0.2472703456878662 and acc: 0.9007575511932373\n",
      "314/500 [=================>............] - ETA: 34:40 - loss: 0.2473 - accuracy: 0.9008\n",
      " training set -> batch:315 loss:0.24584046006202698 and acc: 0.901627242565155\n",
      "315/500 [=================>............] - ETA: 34:28 - loss: 0.2458 - accuracy: 0.9016\n",
      " training set -> batch:316 loss:0.2426021695137024 and acc: 0.9024566411972046\n",
      "316/500 [=================>............] - ETA: 34:16 - loss: 0.2426 - accuracy: 0.9025\n",
      " training set -> batch:317 loss:0.25962355732917786 and acc: 0.8983050584793091\n",
      "317/500 [==================>...........] - ETA: 34:04 - loss: 0.2596 - accuracy: 0.8983\n",
      " training set -> batch:318 loss:0.2602560818195343 and acc: 0.8977900743484497\n",
      "318/500 [==================>...........] - ETA: 33:52 - loss: 0.2603 - accuracy: 0.8978\n",
      " training set -> batch:319 loss:0.2606348991394043 and acc: 0.8972973227500916\n",
      "319/500 [==================>...........] - ETA: 33:40 - loss: 0.2606 - accuracy: 0.8973\n",
      " training set -> batch:320 loss:0.2574865221977234 and acc: 0.898809552192688\n",
      "320/500 [==================>...........] - ETA: 33:27 - loss: 0.2575 - accuracy: 0.8988\n",
      " training set -> batch:321 loss:0.26182305812835693 and acc: 0.8963730335235596\n",
      "321/500 [==================>...........] - ETA: 33:15 - loss: 0.2618 - accuracy: 0.8964\n",
      " training set -> batch:322 loss:0.25914257764816284 and acc: 0.8965736031532288\n",
      "322/500 [==================>...........] - ETA: 33:03 - loss: 0.2591 - accuracy: 0.8966\n",
      " training set -> batch:323 loss:0.2600100636482239 and acc: 0.896766185760498\n",
      "323/500 [==================>...........] - ETA: 32:51 - loss: 0.2600 - accuracy: 0.8968\n",
      " training set -> batch:324 loss:0.2577468752861023 and acc: 0.8969511985778809\n",
      "324/500 [==================>...........] - ETA: 32:39 - loss: 0.2577 - accuracy: 0.8970\n",
      " training set -> batch:325 loss:0.256552129983902 and acc: 0.8971291780471802\n",
      "325/500 [==================>...........] - ETA: 32:27 - loss: 0.2566 - accuracy: 0.8971\n",
      " training set -> batch:326 loss:0.25752055644989014 and acc: 0.8973004817962646\n",
      "326/500 [==================>...........] - ETA: 32:15 - loss: 0.2575 - accuracy: 0.8973\n",
      " training set -> batch:327 loss:0.25972115993499756 and acc: 0.8968893885612488\n",
      "327/500 [==================>...........] - ETA: 32:03 - loss: 0.2597 - accuracy: 0.8969\n",
      " training set -> batch:328 loss:0.26230165362358093 and acc: 0.8959276080131531\n",
      "328/500 [==================>...........] - ETA: 31:52 - loss: 0.2623 - accuracy: 0.8959\n",
      " training set -> batch:329 loss:0.2630077004432678 and acc: 0.8955555558204651\n",
      "329/500 [==================>...........] - ETA: 31:40 - loss: 0.2630 - accuracy: 0.8956\n",
      " training set -> batch:330 loss:0.2648114860057831 and acc: 0.8930131196975708\n",
      "330/500 [==================>...........] - ETA: 31:28 - loss: 0.2648 - accuracy: 0.8930\n",
      " training set -> batch:331 loss:0.2650112211704254 and acc: 0.8927038908004761\n",
      "331/500 [==================>...........] - ETA: 31:16 - loss: 0.2650 - accuracy: 0.8927\n",
      " training set -> batch:332 loss:0.26481035351753235 and acc: 0.892405092716217\n",
      "332/500 [==================>...........] - ETA: 31:04 - loss: 0.2648 - accuracy: 0.8924\n",
      " training set -> batch:333 loss:0.2646315097808838 and acc: 0.8936722278594971\n",
      "333/500 [==================>...........] - ETA: 30:52 - loss: 0.2646 - accuracy: 0.8937\n",
      " training set -> batch:334 loss:0.2626494765281677 and acc: 0.8943877816200256\n",
      "334/500 [===================>..........] - ETA: 30:41 - loss: 0.2626 - accuracy: 0.8944\n",
      " training set -> batch:335 loss:0.26271650195121765 and acc: 0.8945783376693726\n",
      "335/500 [===================>..........] - ETA: 30:29 - loss: 0.2627 - accuracy: 0.8946\n",
      " training set -> batch:336 loss:0.26675236225128174 and acc: 0.8932806253433228\n",
      "336/500 [===================>..........] - ETA: 30:17 - loss: 0.2668 - accuracy: 0.8933\n",
      " training set -> batch:337 loss:0.2707080543041229 and acc: 0.8915369510650635\n",
      "337/500 [===================>..........] - ETA: 30:05 - loss: 0.2707 - accuracy: 0.8915\n",
      " training set -> batch:338 loss:0.26789590716362 and acc: 0.8927202820777893\n",
      "338/500 [===================>..........] - ETA: 29:53 - loss: 0.2679 - accuracy: 0.8927\n",
      " training set -> batch:339 loss:0.2666736841201782 and acc: 0.8929245471954346\n",
      "339/500 [===================>..........] - ETA: 29:41 - loss: 0.2667 - accuracy: 0.8929\n",
      " training set -> batch:340 loss:0.26602646708488464 and acc: 0.8935873508453369\n",
      "340/500 [===================>..........] - ETA: 29:29 - loss: 0.2660 - accuracy: 0.8936\n",
      " training set -> batch:341 loss:0.26365581154823303 and acc: 0.8946886658668518\n",
      "341/500 [===================>..........] - ETA: 29:18 - loss: 0.2637 - accuracy: 0.8947\n",
      " training set -> batch:342 loss:0.2650218605995178 and acc: 0.8944043517112732\n",
      "342/500 [===================>..........] - ETA: 29:06 - loss: 0.2650 - accuracy: 0.8944\n",
      " training set -> batch:343 loss:0.2640485167503357 and acc: 0.8945729732513428\n",
      "343/500 [===================>..........] - ETA: 28:54 - loss: 0.2640 - accuracy: 0.8946\n",
      " training set -> batch:344 loss:0.2651074528694153 and acc: 0.894298255443573\n",
      "344/500 [===================>..........] - ETA: 28:42 - loss: 0.2651 - accuracy: 0.8943\n",
      " training set -> batch:345 loss:0.2662692964076996 and acc: 0.8940311670303345\n",
      "345/500 [===================>..........] - ETA: 28:31 - loss: 0.2663 - accuracy: 0.8940\n",
      " training set -> batch:346 loss:0.26380470395088196 and acc: 0.8950511813163757\n",
      "346/500 [===================>..........] - ETA: 28:19 - loss: 0.2638 - accuracy: 0.8951\n",
      " training set -> batch:347 loss:0.26355159282684326 and acc: 0.8956229090690613\n",
      "347/500 [===================>..........] - ETA: 28:07 - loss: 0.2636 - accuracy: 0.8956\n",
      " training set -> batch:348 loss:0.26428768038749695 and acc: 0.894518256187439\n",
      "348/500 [===================>..........] - ETA: 27:56 - loss: 0.2643 - accuracy: 0.8945\n",
      " training set -> batch:349 loss:0.263937771320343 and acc: 0.8950819969177246\n",
      "349/500 [===================>..........] - ETA: 27:44 - loss: 0.2639 - accuracy: 0.8951\n",
      " training set -> batch:350 loss:0.26299017667770386 and acc: 0.8952265381813049\n",
      "\n",
      " validation set -> batch:350 val loss:0.2550548017024994 and val acc: 0.8864678740501404\n",
      "350/500 [====================>.........] - ETA: 28:11 - loss: 0.2630 - accuracy: 0.8952\n",
      " training set -> batch:351 loss:0.25898605585098267 and acc: 0.88606196641922\n",
      "351/500 [====================>.........] - ETA: 28:00 - loss: 0.2590 - accuracy: 0.8861\n",
      " training set -> batch:352 loss:0.2551446557044983 and acc: 0.8878205418586731\n",
      "352/500 [====================>.........] - ETA: 27:48 - loss: 0.2551 - accuracy: 0.8878\n",
      " training set -> batch:353 loss:0.24977877736091614 and acc: 0.8884297609329224\n",
      "353/500 [====================>.........] - ETA: 27:35 - loss: 0.2498 - accuracy: 0.8884\n",
      " training set -> batch:354 loss:0.24812732636928558 and acc: 0.8880000114440918\n",
      "354/500 [====================>.........] - ETA: 27:23 - loss: 0.2481 - accuracy: 0.8880\n",
      " training set -> batch:355 loss:0.23994295299053192 and acc: 0.8905038833618164\n",
      "355/500 [====================>.........] - ETA: 27:11 - loss: 0.2399 - accuracy: 0.8905\n",
      " training set -> batch:356 loss:0.23618097603321075 and acc: 0.8919172883033752\n",
      "356/500 [====================>.........] - ETA: 26:59 - loss: 0.2362 - accuracy: 0.8919\n",
      " training set -> batch:357 loss:0.23325768113136292 and acc: 0.8941605687141418\n",
      "357/500 [====================>.........] - ETA: 26:47 - loss: 0.2333 - accuracy: 0.8942\n",
      " training set -> batch:358 loss:0.23362575471401215 and acc: 0.8936170339584351\n",
      "358/500 [====================>.........] - ETA: 26:36 - loss: 0.2336 - accuracy: 0.8936\n",
      " training set -> batch:359 loss:0.23397758603096008 and acc: 0.8931034207344055\n",
      "359/500 [====================>.........] - ETA: 26:24 - loss: 0.2340 - accuracy: 0.8931\n",
      " training set -> batch:360 loss:0.23605775833129883 and acc: 0.8942952752113342\n",
      "360/500 [====================>.........] - ETA: 26:12 - loss: 0.2361 - accuracy: 0.8943\n",
      " training set -> batch:361 loss:0.23059414327144623 and acc: 0.8970588445663452\n",
      "361/500 [====================>.........] - ETA: 26:00 - loss: 0.2306 - accuracy: 0.8971\n",
      " training set -> batch:362 loss:0.22668789327144623 and acc: 0.8980891704559326\n",
      "362/500 [====================>.........] - ETA: 25:48 - loss: 0.2267 - accuracy: 0.8981\n",
      " training set -> batch:363 loss:0.22219926118850708 and acc: 0.9006211161613464\n",
      "363/500 [====================>.........] - ETA: 25:36 - loss: 0.2222 - accuracy: 0.9006\n",
      " training set -> batch:364 loss:0.21811310946941376 and acc: 0.9022727012634277\n",
      "364/500 [====================>.........] - ETA: 25:25 - loss: 0.2181 - accuracy: 0.9023\n",
      " training set -> batch:365 loss:0.21849040687084198 and acc: 0.9008875489234924\n",
      "365/500 [====================>.........] - ETA: 25:13 - loss: 0.2185 - accuracy: 0.9009\n",
      " training set -> batch:366 loss:0.2159520834684372 and acc: 0.9024566411972046\n",
      "366/500 [====================>.........] - ETA: 25:01 - loss: 0.2160 - accuracy: 0.9025\n",
      " training set -> batch:367 loss:0.21662971377372742 and acc: 0.9025423526763916\n",
      "367/500 [=====================>........] - ETA: 24:49 - loss: 0.2166 - accuracy: 0.9025\n",
      " training set -> batch:368 loss:0.21920624375343323 and acc: 0.9026243090629578\n",
      "368/500 [=====================>........] - ETA: 24:37 - loss: 0.2192 - accuracy: 0.9026\n",
      " training set -> batch:369 loss:0.22325295209884644 and acc: 0.9020270109176636\n",
      "369/500 [=====================>........] - ETA: 24:26 - loss: 0.2233 - accuracy: 0.9020\n",
      " training set -> batch:370 loss:0.2183251827955246 and acc: 0.9041005373001099\n",
      "370/500 [=====================>........] - ETA: 24:14 - loss: 0.2183 - accuracy: 0.9041\n",
      " training set -> batch:371 loss:0.22028470039367676 and acc: 0.9047927260398865\n",
      "371/500 [=====================>........] - ETA: 24:02 - loss: 0.2203 - accuracy: 0.9048\n",
      " training set -> batch:372 loss:0.21791812777519226 and acc: 0.9054568409919739\n",
      "372/500 [=====================>........] - ETA: 23:50 - loss: 0.2179 - accuracy: 0.9055\n",
      " training set -> batch:373 loss:0.22138391435146332 and acc: 0.9042288661003113\n",
      "373/500 [=====================>........] - ETA: 23:39 - loss: 0.2214 - accuracy: 0.9042\n",
      " training set -> batch:374 loss:0.2190365344285965 and acc: 0.9054877758026123\n",
      "374/500 [=====================>........] - ETA: 23:27 - loss: 0.2190 - accuracy: 0.9055\n",
      " training set -> batch:375 loss:0.22916065156459808 and acc: 0.9037081599235535\n",
      "375/500 [=====================>........] - ETA: 23:15 - loss: 0.2292 - accuracy: 0.9037\n",
      " training set -> batch:376 loss:0.22670789062976837 and acc: 0.9049295783042908\n",
      "376/500 [=====================>........] - ETA: 23:03 - loss: 0.2267 - accuracy: 0.9049\n",
      " training set -> batch:377 loss:0.22334043681621552 and acc: 0.9061059951782227\n",
      "377/500 [=====================>........] - ETA: 22:52 - loss: 0.2233 - accuracy: 0.9061\n",
      " training set -> batch:378 loss:0.22208647429943085 and acc: 0.9061086177825928\n",
      "378/500 [=====================>........] - ETA: 22:40 - loss: 0.2221 - accuracy: 0.9061\n",
      " training set -> batch:379 loss:0.2213418185710907 and acc: 0.9066666960716248\n",
      "379/500 [=====================>........] - ETA: 22:28 - loss: 0.2213 - accuracy: 0.9067\n",
      " training set -> batch:380 loss:0.2183915674686432 and acc: 0.9072052240371704\n",
      "380/500 [=====================>........] - ETA: 22:17 - loss: 0.2184 - accuracy: 0.9072\n",
      " training set -> batch:381 loss:0.21679161489009857 and acc: 0.908261775970459\n",
      "381/500 [=====================>........] - ETA: 22:05 - loss: 0.2168 - accuracy: 0.9083\n",
      " training set -> batch:382 loss:0.21767657995224 and acc: 0.9087553024291992\n",
      "382/500 [=====================>........] - ETA: 21:53 - loss: 0.2177 - accuracy: 0.9088\n",
      " training set -> batch:383 loss:0.2194339632987976 and acc: 0.9081950187683105\n",
      "383/500 [=====================>........] - ETA: 21:42 - loss: 0.2194 - accuracy: 0.9082\n",
      " training set -> batch:384 loss:0.22115124762058258 and acc: 0.9076530337333679\n",
      "384/500 [======================>.......] - ETA: 21:30 - loss: 0.2212 - accuracy: 0.9077\n",
      " training set -> batch:385 loss:0.22206130623817444 and acc: 0.9081325531005859\n",
      "385/500 [======================>.......] - ETA: 21:19 - loss: 0.2221 - accuracy: 0.9081\n",
      " training set -> batch:386 loss:0.22503799200057983 and acc: 0.9071146249771118\n",
      "386/500 [======================>.......] - ETA: 21:07 - loss: 0.2250 - accuracy: 0.9071\n",
      " training set -> batch:387 loss:0.22453637421131134 and acc: 0.9071011543273926\n",
      "387/500 [======================>.......] - ETA: 20:55 - loss: 0.2245 - accuracy: 0.9071\n",
      " training set -> batch:388 loss:0.22570094466209412 and acc: 0.9070881009101868\n",
      "388/500 [======================>.......] - ETA: 20:44 - loss: 0.2257 - accuracy: 0.9071\n",
      " training set -> batch:389 loss:0.22418710589408875 and acc: 0.9075471758842468\n",
      "389/500 [======================>.......] - ETA: 20:32 - loss: 0.2242 - accuracy: 0.9075\n",
      " training set -> batch:390 loss:0.22694629430770874 and acc: 0.9065985083580017\n",
      "390/500 [======================>.......] - ETA: 20:21 - loss: 0.2269 - accuracy: 0.9066\n",
      " training set -> batch:391 loss:0.22649528086185455 and acc: 0.906593382358551\n",
      "391/500 [======================>.......] - ETA: 20:09 - loss: 0.2265 - accuracy: 0.9066\n",
      " training set -> batch:392 loss:0.22552892565727234 and acc: 0.9070397019386292\n",
      "392/500 [======================>.......] - ETA: 19:58 - loss: 0.2255 - accuracy: 0.9070\n",
      " training set -> batch:393 loss:0.22570060193538666 and acc: 0.9065836071968079\n",
      "393/500 [======================>.......] - ETA: 19:46 - loss: 0.2257 - accuracy: 0.9066\n",
      " training set -> batch:394 loss:0.22699788212776184 and acc: 0.9061403274536133\n",
      "394/500 [======================>.......] - ETA: 19:35 - loss: 0.2270 - accuracy: 0.9061\n",
      " training set -> batch:395 loss:0.22858023643493652 and acc: 0.9052768349647522\n",
      "395/500 [======================>.......] - ETA: 19:23 - loss: 0.2286 - accuracy: 0.9053\n",
      " training set -> batch:396 loss:0.23066926002502441 and acc: 0.9048634767532349\n",
      "396/500 [======================>.......] - ETA: 19:12 - loss: 0.2307 - accuracy: 0.9049\n",
      " training set -> batch:397 loss:0.23088163137435913 and acc: 0.9048821330070496\n",
      "397/500 [======================>.......] - ETA: 19:00 - loss: 0.2309 - accuracy: 0.9049\n",
      " training set -> batch:398 loss:0.2306029349565506 and acc: 0.904900312423706\n",
      "398/500 [======================>.......] - ETA: 18:49 - loss: 0.2306 - accuracy: 0.9049\n",
      " training set -> batch:399 loss:0.23319819569587708 and acc: 0.9045081734657288\n",
      "399/500 [======================>.......] - ETA: 18:37 - loss: 0.2332 - accuracy: 0.9045\n",
      " training set -> batch:400 loss:0.23318709433078766 and acc: 0.9041262269020081\n",
      "\n",
      " validation set -> batch:400 val loss:0.24505086243152618 and val acc: 0.8853210806846619\n",
      "400/500 [=======================>......] - ETA: 18:49 - loss: 0.2332 - accuracy: 0.9041\n",
      " training set -> batch:401 loss:0.2509893774986267 and acc: 0.88606196641922\n",
      "401/500 [=======================>......] - ETA: 18:37 - loss: 0.2510 - accuracy: 0.8861\n",
      " training set -> batch:402 loss:0.24725717306137085 and acc: 0.8878205418586731\n",
      "402/500 [=======================>......] - ETA: 18:25 - loss: 0.2473 - accuracy: 0.8878\n",
      " training set -> batch:403 loss:0.23899297416210175 and acc: 0.8915289044380188\n",
      "403/500 [=======================>......] - ETA: 18:14 - loss: 0.2390 - accuracy: 0.8915\n",
      " training set -> batch:404 loss:0.2399706095457077 and acc: 0.890999972820282\n",
      "404/500 [=======================>......] - ETA: 18:02 - loss: 0.2400 - accuracy: 0.8910\n",
      " training set -> batch:405 loss:0.2499077171087265 and acc: 0.8885658979415894\n",
      "405/500 [=======================>......] - ETA: 17:50 - loss: 0.2499 - accuracy: 0.8886\n",
      " training set -> batch:406 loss:0.25312545895576477 and acc: 0.8862782120704651\n",
      "406/500 [=======================>......] - ETA: 17:38 - loss: 0.2531 - accuracy: 0.8863\n",
      " training set -> batch:407 loss:0.24820634722709656 and acc: 0.8877737522125244\n",
      "407/500 [=======================>......] - ETA: 17:27 - loss: 0.2482 - accuracy: 0.8878\n",
      " training set -> batch:408 loss:0.2550281286239624 and acc: 0.8856382966041565\n",
      "408/500 [=======================>......] - ETA: 17:15 - loss: 0.2550 - accuracy: 0.8856\n",
      " training set -> batch:409 loss:0.25150129199028015 and acc: 0.8862069249153137\n",
      "409/500 [=======================>......] - ETA: 17:04 - loss: 0.2515 - accuracy: 0.8862\n",
      " training set -> batch:410 loss:0.2517010271549225 and acc: 0.8850671052932739\n",
      "410/500 [=======================>......] - ETA: 16:52 - loss: 0.2517 - accuracy: 0.8851\n",
      " training set -> batch:411 loss:0.25436991453170776 and acc: 0.8856208920478821\n",
      "411/500 [=======================>......] - ETA: 16:40 - loss: 0.2544 - accuracy: 0.8856\n",
      " training set -> batch:412 loss:0.25076672434806824 and acc: 0.887738823890686\n",
      "412/500 [=======================>......] - ETA: 16:29 - loss: 0.2508 - accuracy: 0.8877\n",
      " training set -> batch:413 loss:0.2540932893753052 and acc: 0.885869562625885\n",
      "413/500 [=======================>......] - ETA: 16:17 - loss: 0.2541 - accuracy: 0.8859\n",
      " training set -> batch:414 loss:0.2545921504497528 and acc: 0.8848484754562378\n",
      "414/500 [=======================>......] - ETA: 16:06 - loss: 0.2546 - accuracy: 0.8848\n",
      " training set -> batch:415 loss:0.252031147480011 and acc: 0.8860946893692017\n",
      "415/500 [=======================>......] - ETA: 15:54 - loss: 0.2520 - accuracy: 0.8861\n",
      " training set -> batch:416 loss:0.2539345622062683 and acc: 0.8858381509780884\n",
      "416/500 [=======================>......] - ETA: 15:42 - loss: 0.2539 - accuracy: 0.8858\n",
      " training set -> batch:417 loss:0.25575190782546997 and acc: 0.8855932354927063\n",
      "417/500 [========================>.....] - ETA: 15:31 - loss: 0.2558 - accuracy: 0.8856\n",
      " training set -> batch:418 loss:0.25516974925994873 and acc: 0.886049747467041\n",
      "418/500 [========================>.....] - ETA: 15:19 - loss: 0.2552 - accuracy: 0.8860\n",
      " training set -> batch:419 loss:0.2518809735774994 and acc: 0.887837827205658\n",
      "419/500 [========================>.....] - ETA: 15:08 - loss: 0.2519 - accuracy: 0.8878\n",
      " training set -> batch:420 loss:0.24931301176548004 and acc: 0.8888888955116272\n",
      "420/500 [========================>.....] - ETA: 14:56 - loss: 0.2493 - accuracy: 0.8889\n",
      " training set -> batch:421 loss:0.2483658641576767 and acc: 0.8898963928222656\n",
      "421/500 [========================>.....] - ETA: 14:45 - loss: 0.2484 - accuracy: 0.8899\n",
      " training set -> batch:422 loss:0.24832981824874878 and acc: 0.8908629417419434\n",
      "422/500 [========================>.....] - ETA: 14:33 - loss: 0.2483 - accuracy: 0.8909\n",
      " training set -> batch:423 loss:0.2444346398115158 and acc: 0.8924129605293274\n",
      "423/500 [========================>.....] - ETA: 14:22 - loss: 0.2444 - accuracy: 0.8924\n",
      " training set -> batch:424 loss:0.24408410489559174 and acc: 0.8914633989334106\n",
      "424/500 [========================>.....] - ETA: 14:10 - loss: 0.2441 - accuracy: 0.8915\n",
      " training set -> batch:425 loss:0.23895122110843658 and acc: 0.8935406804084778\n",
      "425/500 [========================>.....] - ETA: 13:59 - loss: 0.2390 - accuracy: 0.8935\n",
      " training set -> batch:426 loss:0.24042050540447235 and acc: 0.8937793374061584\n",
      "426/500 [========================>.....] - ETA: 13:47 - loss: 0.2404 - accuracy: 0.8938\n",
      " training set -> batch:427 loss:0.24197925627231598 and acc: 0.893433153629303\n",
      "427/500 [========================>.....] - ETA: 13:36 - loss: 0.2420 - accuracy: 0.8934\n",
      " training set -> batch:428 loss:0.24246132373809814 and acc: 0.8925339579582214\n",
      "428/500 [========================>.....] - ETA: 13:25 - loss: 0.2425 - accuracy: 0.8925\n",
      " training set -> batch:429 loss:0.24527551233768463 and acc: 0.8922222256660461\n",
      "429/500 [========================>.....] - ETA: 13:13 - loss: 0.2453 - accuracy: 0.8922\n",
      " training set -> batch:430 loss:0.24827145040035248 and acc: 0.8908296823501587\n",
      "430/500 [========================>.....] - ETA: 13:02 - loss: 0.2483 - accuracy: 0.8908\n",
      " training set -> batch:431 loss:0.24787406623363495 and acc: 0.891094446182251\n",
      "431/500 [========================>.....] - ETA: 12:50 - loss: 0.2479 - accuracy: 0.8911\n",
      " training set -> batch:432 loss:0.24413642287254333 and acc: 0.892405092716217\n",
      "432/500 [========================>.....] - ETA: 12:39 - loss: 0.2441 - accuracy: 0.8924\n",
      " training set -> batch:433 loss:0.24329964816570282 and acc: 0.8931535482406616\n",
      "433/500 [========================>.....] - ETA: 12:27 - loss: 0.2433 - accuracy: 0.8932\n",
      " training set -> batch:434 loss:0.24223218858242035 and acc: 0.8943877816200256\n",
      "434/500 [=========================>....] - ETA: 12:16 - loss: 0.2422 - accuracy: 0.8944\n",
      " training set -> batch:435 loss:0.24232624471187592 and acc: 0.8940762877464294\n",
      "435/500 [=========================>....] - ETA: 12:05 - loss: 0.2423 - accuracy: 0.8941\n",
      " training set -> batch:436 loss:0.2411273717880249 and acc: 0.8952569365501404\n",
      "436/500 [=========================>....] - ETA: 11:53 - loss: 0.2411 - accuracy: 0.8953\n",
      " training set -> batch:437 loss:0.23896482586860657 and acc: 0.8959143757820129\n",
      "437/500 [=========================>....] - ETA: 11:42 - loss: 0.2390 - accuracy: 0.8959\n",
      " training set -> batch:438 loss:0.23815979063510895 and acc: 0.8965517282485962\n",
      "438/500 [=========================>....] - ETA: 11:30 - loss: 0.2382 - accuracy: 0.8966\n",
      " training set -> batch:439 loss:0.23517921566963196 and acc: 0.8976414799690247\n",
      "439/500 [=========================>....] - ETA: 11:19 - loss: 0.2352 - accuracy: 0.8976\n",
      " training set -> batch:440 loss:0.23324190080165863 and acc: 0.8986988663673401\n",
      "440/500 [=========================>....] - ETA: 11:08 - loss: 0.2332 - accuracy: 0.8987\n",
      " training set -> batch:441 loss:0.23269237577915192 and acc: 0.898809552192688\n",
      "441/500 [=========================>....] - ETA: 10:56 - loss: 0.2327 - accuracy: 0.8988\n",
      " training set -> batch:442 loss:0.23202696442604065 and acc: 0.8993682265281677\n",
      "442/500 [=========================>....] - ETA: 10:45 - loss: 0.2320 - accuracy: 0.8994\n",
      " training set -> batch:443 loss:0.23066310584545135 and acc: 0.8999110460281372\n",
      "443/500 [=========================>....] - ETA: 10:34 - loss: 0.2307 - accuracy: 0.8999\n",
      " training set -> batch:444 loss:0.22771406173706055 and acc: 0.9008771777153015\n",
      "444/500 [=========================>....] - ETA: 10:22 - loss: 0.2277 - accuracy: 0.9009\n",
      " training set -> batch:445 loss:0.23098188638687134 and acc: 0.899653971195221\n",
      "445/500 [=========================>....] - ETA: 10:11 - loss: 0.2310 - accuracy: 0.8997\n",
      " training set -> batch:446 loss:0.23102477192878723 and acc: 0.8997440338134766\n",
      "446/500 [=========================>....] - ETA: 10:00 - loss: 0.2310 - accuracy: 0.8997\n",
      " training set -> batch:447 loss:0.23076161742210388 and acc: 0.8994107842445374\n",
      "447/500 [=========================>....] - ETA: 9:48 - loss: 0.2308 - accuracy: 0.8994 \n",
      " training set -> batch:448 loss:0.23093481361865997 and acc: 0.8995016813278198\n",
      "448/500 [=========================>....] - ETA: 9:37 - loss: 0.2309 - accuracy: 0.8995\n",
      " training set -> batch:449 loss:0.22862432897090912 and acc: 0.9004098176956177\n",
      "449/500 [=========================>....] - ETA: 9:26 - loss: 0.2286 - accuracy: 0.9004\n",
      " training set -> batch:450 loss:0.22964003682136536 and acc: 0.9000809192657471\n",
      "\n",
      " validation set -> batch:450 val loss:0.29072102904319763 and val acc: 0.8910550475120544\n",
      "450/500 [==========================>...] - ETA: 9:25 - loss: 0.2296 - accuracy: 0.9001\n",
      " training set -> batch:451 loss:0.27758559584617615 and acc: 0.8938053250312805\n",
      "451/500 [==========================>...] - ETA: 9:13 - loss: 0.2776 - accuracy: 0.8938\n",
      " training set -> batch:452 loss:0.2833009958267212 and acc: 0.8942307829856873\n",
      "452/500 [==========================>...] - ETA: 9:02 - loss: 0.2833 - accuracy: 0.8942\n",
      " training set -> batch:453 loss:0.28697308897972107 and acc: 0.89462810754776\n",
      "453/500 [==========================>...] - ETA: 8:50 - loss: 0.2870 - accuracy: 0.8946\n",
      " training set -> batch:454 loss:0.280800998210907 and acc: 0.8960000276565552\n",
      "454/500 [==========================>...] - ETA: 8:39 - loss: 0.2808 - accuracy: 0.8960\n",
      " training set -> batch:455 loss:0.28375619649887085 and acc: 0.8963178396224976\n",
      "455/500 [==========================>...] - ETA: 8:27 - loss: 0.2838 - accuracy: 0.8963\n",
      " training set -> batch:456 loss:0.2950320839881897 and acc: 0.8919172883033752\n",
      "456/500 [==========================>...] - ETA: 8:16 - loss: 0.2950 - accuracy: 0.8919\n",
      " training set -> batch:457 loss:0.29903388023376465 and acc: 0.8905109763145447\n",
      "457/500 [==========================>...] - ETA: 8:05 - loss: 0.2990 - accuracy: 0.8905\n",
      " training set -> batch:458 loss:0.3054811656475067 and acc: 0.8891844153404236\n",
      "458/500 [==========================>...] - ETA: 7:53 - loss: 0.3055 - accuracy: 0.8892\n",
      " training set -> batch:459 loss:0.3095932900905609 and acc: 0.8887931108474731\n",
      "459/500 [==========================>...] - ETA: 7:42 - loss: 0.3096 - accuracy: 0.8888\n",
      " training set -> batch:460 loss:0.3034966289997101 and acc: 0.8901006579399109\n",
      "460/500 [==========================>...] - ETA: 7:30 - loss: 0.3035 - accuracy: 0.8901\n",
      " training set -> batch:461 loss:0.3053261637687683 and acc: 0.8897058963775635\n",
      "461/500 [==========================>...] - ETA: 7:19 - loss: 0.3053 - accuracy: 0.8897\n",
      " training set -> batch:462 loss:0.3016146421432495 and acc: 0.8909235596656799\n",
      "462/500 [==========================>...] - ETA: 7:07 - loss: 0.3016 - accuracy: 0.8909\n",
      " training set -> batch:463 loss:0.3053453266620636 and acc: 0.8905279636383057\n",
      "463/500 [==========================>...] - ETA: 6:56 - loss: 0.3053 - accuracy: 0.8905\n",
      " training set -> batch:464 loss:0.300362765789032 and acc: 0.8909090757369995\n",
      "464/500 [==========================>...] - ETA: 6:45 - loss: 0.3004 - accuracy: 0.8909\n",
      " training set -> batch:465 loss:0.2947704792022705 and acc: 0.892011821269989\n",
      "465/500 [==========================>...] - ETA: 6:33 - loss: 0.2948 - accuracy: 0.8920\n",
      " training set -> batch:466 loss:0.29282599687576294 and acc: 0.8923410177230835\n",
      "466/500 [==========================>...] - ETA: 6:22 - loss: 0.2928 - accuracy: 0.8923\n",
      " training set -> batch:467 loss:0.28748705983161926 and acc: 0.8933615684509277\n",
      "467/500 [===========================>..] - ETA: 6:10 - loss: 0.2875 - accuracy: 0.8934\n",
      " training set -> batch:468 loss:0.28477415442466736 and acc: 0.894336998462677\n",
      "468/500 [===========================>..] - ETA: 5:59 - loss: 0.2848 - accuracy: 0.8943\n",
      " training set -> batch:469 loss:0.28900018334388733 and acc: 0.8939189314842224\n",
      "469/500 [===========================>..] - ETA: 5:48 - loss: 0.2890 - accuracy: 0.8939\n",
      " training set -> batch:470 loss:0.28464916348457336 and acc: 0.8955026268959045\n",
      "470/500 [===========================>..] - ETA: 5:36 - loss: 0.2846 - accuracy: 0.8955\n",
      " training set -> batch:471 loss:0.28409337997436523 and acc: 0.8950777053833008\n",
      "471/500 [===========================>..] - ETA: 5:25 - loss: 0.2841 - accuracy: 0.8951\n",
      " training set -> batch:472 loss:0.27817317843437195 and acc: 0.8972080945968628\n",
      "472/500 [===========================>..] - ETA: 5:14 - loss: 0.2782 - accuracy: 0.8972\n",
      " training set -> batch:473 loss:0.2747149169445038 and acc: 0.8980099558830261\n",
      "473/500 [===========================>..] - ETA: 5:02 - loss: 0.2747 - accuracy: 0.8980\n",
      " training set -> batch:474 loss:0.27564501762390137 and acc: 0.8975609540939331\n",
      "474/500 [===========================>..] - ETA: 4:51 - loss: 0.2756 - accuracy: 0.8976\n",
      " training set -> batch:475 loss:0.2784063518047333 and acc: 0.8965311050415039\n",
      "475/500 [===========================>..] - ETA: 4:40 - loss: 0.2784 - accuracy: 0.8965\n",
      " training set -> batch:476 loss:0.28292399644851685 and acc: 0.8949530720710754\n",
      "476/500 [===========================>..] - ETA: 4:29 - loss: 0.2829 - accuracy: 0.8950\n",
      " training set -> batch:477 loss:0.2801227867603302 and acc: 0.89573734998703\n",
      "477/500 [===========================>..] - ETA: 4:17 - loss: 0.2801 - accuracy: 0.8957\n",
      " training set -> batch:478 loss:0.2770017981529236 and acc: 0.8970588445663452\n",
      "478/500 [===========================>..] - ETA: 4:06 - loss: 0.2770 - accuracy: 0.8971\n",
      " training set -> batch:479 loss:0.27543553709983826 and acc: 0.8966666460037231\n",
      "479/500 [===========================>..] - ETA: 3:55 - loss: 0.2754 - accuracy: 0.8967\n",
      " training set -> batch:480 loss:0.27826347947120667 and acc: 0.8957423567771912\n",
      "480/500 [===========================>..] - ETA: 3:43 - loss: 0.2783 - accuracy: 0.8957\n",
      " training set -> batch:481 loss:0.277677059173584 and acc: 0.8959227204322815\n",
      "481/500 [===========================>..] - ETA: 3:32 - loss: 0.2777 - accuracy: 0.8959\n",
      " training set -> batch:482 loss:0.27549508213996887 and acc: 0.8971518874168396\n",
      "482/500 [===========================>..] - ETA: 3:21 - loss: 0.2755 - accuracy: 0.8972\n",
      " training set -> batch:483 loss:0.27250155806541443 and acc: 0.8978216052055359\n",
      "483/500 [===========================>..] - ETA: 3:10 - loss: 0.2725 - accuracy: 0.8978\n",
      " training set -> batch:484 loss:0.2699151039123535 and acc: 0.8984693884849548\n",
      "484/500 [============================>.] - ETA: 2:58 - loss: 0.2699 - accuracy: 0.8985\n",
      " training set -> batch:485 loss:0.2680310308933258 and acc: 0.8990963697433472\n",
      "485/500 [============================>.] - ETA: 2:47 - loss: 0.2680 - accuracy: 0.8991\n",
      " training set -> batch:486 loss:0.2679222822189331 and acc: 0.8992094993591309\n",
      "486/500 [============================>.] - ETA: 2:36 - loss: 0.2679 - accuracy: 0.8992\n",
      " training set -> batch:487 loss:0.26732391119003296 and acc: 0.899319052696228\n",
      "487/500 [============================>.] - ETA: 2:25 - loss: 0.2673 - accuracy: 0.8993\n",
      " training set -> batch:488 loss:0.26833659410476685 and acc: 0.8989463448524475\n",
      "488/500 [============================>.] - ETA: 2:14 - loss: 0.2683 - accuracy: 0.8989\n",
      " training set -> batch:489 loss:0.26646527647972107 and acc: 0.899056613445282\n",
      "489/500 [============================>.] - ETA: 2:02 - loss: 0.2665 - accuracy: 0.8991\n",
      " training set -> batch:490 loss:0.27319273352622986 and acc: 0.8973048329353333\n",
      "490/500 [============================>.] - ETA: 1:51 - loss: 0.2732 - accuracy: 0.8973\n",
      " training set -> batch:491 loss:0.27427512407302856 and acc: 0.8969780206680298\n",
      "491/500 [============================>.] - ETA: 1:40 - loss: 0.2743 - accuracy: 0.8970\n",
      " training set -> batch:492 loss:0.27675744891166687 and acc: 0.8948556184768677\n",
      "492/500 [============================>.] - ETA: 1:29 - loss: 0.2768 - accuracy: 0.8949\n",
      " training set -> batch:493 loss:0.27593159675598145 and acc: 0.8941280841827393\n",
      "493/500 [============================>.] - ETA: 1:18 - loss: 0.2759 - accuracy: 0.8941\n",
      " training set -> batch:494 loss:0.2752453088760376 and acc: 0.894298255443573\n",
      "494/500 [============================>.] - ETA: 1:06 - loss: 0.2752 - accuracy: 0.8943\n",
      " training set -> batch:495 loss:0.27285218238830566 and acc: 0.89532870054245\n",
      "495/500 [============================>.] - ETA: 55s - loss: 0.2729 - accuracy: 0.8953 \n",
      " training set -> batch:496 loss:0.2713536024093628 and acc: 0.8959044218063354\n",
      "496/500 [============================>.] - ETA: 44s - loss: 0.2714 - accuracy: 0.8959\n",
      " training set -> batch:497 loss:0.26870036125183105 and acc: 0.8968855142593384\n",
      "497/500 [============================>.] - ETA: 33s - loss: 0.2687 - accuracy: 0.8969\n",
      " training set -> batch:498 loss:0.26637643575668335 and acc: 0.8982558250427246\n",
      "498/500 [============================>.] - ETA: 22s - loss: 0.2664 - accuracy: 0.8983\n",
      " training set -> batch:499 loss:0.2634461224079132 and acc: 0.8995901346206665\n",
      "499/500 [============================>.] - ETA: 11s - loss: 0.2634 - accuracy: 0.8996\n",
      " training set -> batch:500 loss:0.26377764344215393 and acc: 0.8992718458175659\n",
      "\n",
      " validation set -> batch:500 val loss:0.2431633621454239 and val acc: 0.9025229215621948\n",
      "500/500 [==============================] - 5700s 11s/step - loss: 0.2638 - accuracy: 0.8993 - val_loss: 0.2233 - val_accuracy: 0.9323\n",
      "Epoch 2/2\n",
      "\n",
      " training set -> batch:501 loss:0.24736428260803223 and acc: 0.84375\n",
      "  1/500 [..............................] - ETA: 0s - loss: 0.2474 - accuracy: 0.8438\n",
      " training set -> batch:502 loss:0.30623865127563477 and acc: 0.84375\n",
      "  2/500 [..............................] - ETA: 41:25 - loss: 0.3062 - accuracy: 0.8438\n",
      " training set -> batch:503 loss:0.36518430709838867 and acc: 0.8333333134651184\n",
      "  3/500 [..............................] - ETA: 54:01 - loss: 0.3652 - accuracy: 0.8333\n",
      " training set -> batch:504 loss:0.3044813871383667 and acc: 0.8671875\n",
      "  4/500 [..............................] - ETA: 1:00:13 - loss: 0.3045 - accuracy: 0.8672\n",
      " training set -> batch:505 loss:0.33957967162132263 and acc: 0.856249988079071\n",
      "  5/500 [..............................] - ETA: 1:03:57 - loss: 0.3396 - accuracy: 0.8562\n",
      " training set -> batch:506 loss:0.3002001941204071 and acc: 0.8802083134651184\n",
      "  6/500 [..............................] - ETA: 1:06:23 - loss: 0.3002 - accuracy: 0.8802\n",
      " training set -> batch:507 loss:0.29045799374580383 and acc: 0.8839285969734192\n",
      "  7/500 [..............................] - ETA: 1:08:03 - loss: 0.2905 - accuracy: 0.8839\n",
      " training set -> batch:508 loss:0.26213744282722473 and acc: 0.8984375\n",
      "  8/500 [..............................] - ETA: 1:09:16 - loss: 0.2621 - accuracy: 0.8984\n",
      " training set -> batch:509 loss:0.2545127868652344 and acc: 0.9027777910232544\n",
      "  9/500 [..............................] - ETA: 1:10:11 - loss: 0.2545 - accuracy: 0.9028\n",
      " training set -> batch:510 loss:0.25114113092422485 and acc: 0.903124988079071\n",
      " 10/500 [..............................] - ETA: 1:11:01 - loss: 0.2511 - accuracy: 0.9031\n",
      " training set -> batch:511 loss:0.245732843875885 and acc: 0.90625\n",
      " 11/500 [..............................] - ETA: 1:11:32 - loss: 0.2457 - accuracy: 0.9062\n",
      " training set -> batch:512 loss:0.2404322624206543 and acc: 0.9114583134651184\n",
      " 12/500 [..............................] - ETA: 1:11:59 - loss: 0.2404 - accuracy: 0.9115\n",
      " training set -> batch:513 loss:0.2490973323583603 and acc: 0.90625\n",
      " 13/500 [..............................] - ETA: 1:12:22 - loss: 0.2491 - accuracy: 0.9062\n",
      " training set -> batch:514 loss:0.24637098610401154 and acc: 0.90625\n",
      " 14/500 [..............................] - ETA: 1:12:36 - loss: 0.2464 - accuracy: 0.9062\n",
      " training set -> batch:515 loss:0.24310779571533203 and acc: 0.90625\n",
      " 15/500 [..............................] - ETA: 1:12:47 - loss: 0.2431 - accuracy: 0.9062\n",
      " training set -> batch:516 loss:0.23407511413097382 and acc: 0.91015625\n",
      " 16/500 [..............................] - ETA: 1:12:52 - loss: 0.2341 - accuracy: 0.9102\n",
      " training set -> batch:517 loss:0.23600931465625763 and acc: 0.908088207244873\n",
      " 17/500 [>.............................] - ETA: 1:12:56 - loss: 0.2360 - accuracy: 0.9081\n",
      " training set -> batch:518 loss:0.24320155382156372 and acc: 0.90625\n",
      " 18/500 [>.............................] - ETA: 1:13:06 - loss: 0.2432 - accuracy: 0.9062\n",
      " training set -> batch:519 loss:0.24569563567638397 and acc: 0.90625\n",
      " 19/500 [>.............................] - ETA: 1:13:11 - loss: 0.2457 - accuracy: 0.9062\n",
      " training set -> batch:520 loss:0.24076656997203827 and acc: 0.909375011920929\n",
      " 20/500 [>.............................] - ETA: 1:13:15 - loss: 0.2408 - accuracy: 0.9094\n",
      " training set -> batch:521 loss:0.24105679988861084 and acc: 0.9077380895614624\n",
      " 21/500 [>.............................] - ETA: 1:13:18 - loss: 0.2411 - accuracy: 0.9077\n",
      " training set -> batch:522 loss:0.2420302927494049 and acc: 0.90625\n",
      " 22/500 [>.............................] - ETA: 1:13:19 - loss: 0.2420 - accuracy: 0.9062\n",
      " training set -> batch:523 loss:0.2462087720632553 and acc: 0.90625\n",
      " 23/500 [>.............................] - ETA: 1:13:18 - loss: 0.2462 - accuracy: 0.9062\n",
      " training set -> batch:524 loss:0.24205119907855988 and acc: 0.9075520634651184\n",
      " 24/500 [>.............................] - ETA: 1:13:14 - loss: 0.2421 - accuracy: 0.9076\n",
      " training set -> batch:525 loss:0.23988282680511475 and acc: 0.9075000286102295\n",
      " 25/500 [>.............................] - ETA: 1:13:15 - loss: 0.2399 - accuracy: 0.9075\n",
      " training set -> batch:526 loss:0.2435401827096939 and acc: 0.90625\n",
      " 26/500 [>.............................] - ETA: 1:13:15 - loss: 0.2435 - accuracy: 0.9062\n",
      " training set -> batch:527 loss:0.24336127936840057 and acc: 0.90625\n",
      " 27/500 [>.............................] - ETA: 1:13:14 - loss: 0.2434 - accuracy: 0.9062\n",
      " training set -> batch:528 loss:0.24337060749530792 and acc: 0.9051339030265808\n",
      " 28/500 [>.............................] - ETA: 1:13:08 - loss: 0.2434 - accuracy: 0.9051\n",
      " training set -> batch:529 loss:0.2403750866651535 and acc: 0.90625\n",
      " 29/500 [>.............................] - ETA: 1:13:04 - loss: 0.2404 - accuracy: 0.9062\n",
      " training set -> batch:530 loss:0.23913900554180145 and acc: 0.90625\n",
      " 30/500 [>.............................] - ETA: 1:12:59 - loss: 0.2391 - accuracy: 0.9062\n",
      " training set -> batch:531 loss:0.24219082295894623 and acc: 0.9052419066429138\n",
      " 31/500 [>.............................] - ETA: 1:12:55 - loss: 0.2422 - accuracy: 0.9052\n",
      " training set -> batch:532 loss:0.23958174884319305 and acc: 0.9052734375\n",
      " 32/500 [>.............................] - ETA: 1:12:51 - loss: 0.2396 - accuracy: 0.9053\n",
      " training set -> batch:533 loss:0.2389535903930664 and acc: 0.904356062412262\n",
      " 33/500 [>.............................] - ETA: 1:12:45 - loss: 0.2390 - accuracy: 0.9044\n",
      " training set -> batch:534 loss:0.23814694583415985 and acc: 0.904411792755127\n",
      " 34/500 [=>............................] - ETA: 1:12:39 - loss: 0.2381 - accuracy: 0.9044\n",
      " training set -> batch:535 loss:0.2374211996793747 and acc: 0.9035714268684387\n",
      " 35/500 [=>............................] - ETA: 1:12:35 - loss: 0.2374 - accuracy: 0.9036\n",
      " training set -> batch:536 loss:0.2346867471933365 and acc: 0.9053819179534912\n",
      " 36/500 [=>............................] - ETA: 1:12:27 - loss: 0.2347 - accuracy: 0.9054\n",
      " training set -> batch:537 loss:0.23751959204673767 and acc: 0.9037162065505981\n",
      " 37/500 [=>............................] - ETA: 1:12:18 - loss: 0.2375 - accuracy: 0.9037\n",
      " training set -> batch:538 loss:0.23745614290237427 and acc: 0.9037829041481018\n",
      " 38/500 [=>............................] - ETA: 1:12:11 - loss: 0.2375 - accuracy: 0.9038\n",
      " training set -> batch:539 loss:0.24285262823104858 and acc: 0.9006410241127014\n",
      " 39/500 [=>............................] - ETA: 1:12:04 - loss: 0.2429 - accuracy: 0.9006\n",
      " training set -> batch:540 loss:0.24568140506744385 and acc: 0.899218738079071\n",
      " 40/500 [=>............................] - ETA: 1:11:56 - loss: 0.2457 - accuracy: 0.8992\n",
      " training set -> batch:541 loss:0.2463824301958084 and acc: 0.8993902206420898\n",
      " 41/500 [=>............................] - ETA: 1:11:47 - loss: 0.2464 - accuracy: 0.8994\n",
      " training set -> batch:542 loss:0.246897354722023 and acc: 0.8995535969734192\n",
      " 42/500 [=>............................] - ETA: 1:11:38 - loss: 0.2469 - accuracy: 0.8996\n",
      " training set -> batch:543 loss:0.24445809423923492 and acc: 0.9011628031730652\n",
      " 43/500 [=>............................] - ETA: 1:11:31 - loss: 0.2445 - accuracy: 0.9012\n",
      " training set -> batch:544 loss:0.24305754899978638 and acc: 0.9019886255264282\n",
      " 44/500 [=>............................] - ETA: 1:11:24 - loss: 0.2431 - accuracy: 0.9020\n",
      " training set -> batch:545 loss:0.24454137682914734 and acc: 0.9013888835906982\n",
      " 45/500 [=>............................] - ETA: 1:11:16 - loss: 0.2445 - accuracy: 0.9014\n",
      " training set -> batch:546 loss:0.24229082465171814 and acc: 0.90285325050354\n",
      " 46/500 [=>............................] - ETA: 1:11:10 - loss: 0.2423 - accuracy: 0.9029\n",
      " training set -> batch:547 loss:0.24109666049480438 and acc: 0.9035904407501221\n",
      " 47/500 [=>............................] - ETA: 1:11:02 - loss: 0.2411 - accuracy: 0.9036\n",
      " training set -> batch:548 loss:0.23999647796154022 and acc: 0.9036458134651184\n",
      " 48/500 [=>............................] - ETA: 1:10:53 - loss: 0.2400 - accuracy: 0.9036\n",
      " training set -> batch:549 loss:0.23868727684020996 and acc: 0.9036989808082581\n",
      " 49/500 [=>............................] - ETA: 1:10:44 - loss: 0.2387 - accuracy: 0.9037\n",
      " training set -> batch:550 loss:0.237609401345253 and acc: 0.9043750166893005\n",
      "\n",
      " validation set -> batch:550 val loss:0.24148888885974884 and val acc: 0.89449542760849\n",
      " 50/500 [==>...........................] - ETA: 1:24:16 - loss: 0.2376 - accuracy: 0.9044\n",
      " training set -> batch:551 loss:0.2431175261735916 and acc: 0.8938053250312805\n",
      " 51/500 [==>...........................] - ETA: 1:23:59 - loss: 0.2431 - accuracy: 0.8938\n",
      " training set -> batch:552 loss:0.2355092614889145 and acc: 0.8963675498962402\n",
      " 52/500 [==>...........................] - ETA: 1:23:33 - loss: 0.2355 - accuracy: 0.8964\n",
      " training set -> batch:553 loss:0.24027658998966217 and acc: 0.89462810754776\n",
      " 53/500 [==>...........................] - ETA: 1:23:07 - loss: 0.2403 - accuracy: 0.8946\n",
      " training set -> batch:554 loss:0.2328103631734848 and acc: 0.8970000147819519\n",
      " 54/500 [==>...........................] - ETA: 1:22:44 - loss: 0.2328 - accuracy: 0.8970\n",
      " training set -> batch:555 loss:0.2326004058122635 and acc: 0.8982558250427246\n",
      " 55/500 [==>...........................] - ETA: 1:22:20 - loss: 0.2326 - accuracy: 0.8983\n",
      " training set -> batch:556 loss:0.23888686299324036 and acc: 0.8975563645362854\n",
      " 56/500 [==>...........................] - ETA: 1:21:57 - loss: 0.2389 - accuracy: 0.8976\n",
      " training set -> batch:557 loss:0.237036794424057 and acc: 0.8987226486206055\n",
      " 57/500 [==>...........................] - ETA: 1:21:34 - loss: 0.2370 - accuracy: 0.8987\n",
      " training set -> batch:558 loss:0.24479590356349945 and acc: 0.8971630930900574\n",
      " 58/500 [==>...........................] - ETA: 1:21:11 - loss: 0.2448 - accuracy: 0.8972\n",
      " training set -> batch:559 loss:0.24244466423988342 and acc: 0.8982758522033691\n",
      " 59/500 [==>...........................] - ETA: 1:20:49 - loss: 0.2424 - accuracy: 0.8983\n",
      " training set -> batch:560 loss:0.23784880340099335 and acc: 0.9001677632331848\n",
      " 60/500 [==>...........................] - ETA: 1:20:27 - loss: 0.2378 - accuracy: 0.9002\n",
      " training set -> batch:561 loss:0.2346539944410324 and acc: 0.9011437892913818\n",
      " 61/500 [==>...........................] - ETA: 1:20:06 - loss: 0.2347 - accuracy: 0.9011\n",
      " training set -> batch:562 loss:0.23499925434589386 and acc: 0.9004777073860168\n",
      " 62/500 [==>...........................] - ETA: 1:19:45 - loss: 0.2350 - accuracy: 0.9005\n",
      " training set -> batch:563 loss:0.23131681978702545 and acc: 0.9013975262641907\n",
      " 63/500 [==>...........................] - ETA: 1:19:23 - loss: 0.2313 - accuracy: 0.9014\n",
      " training set -> batch:564 loss:0.2318023443222046 and acc: 0.9015151262283325\n",
      " 64/500 [==>...........................] - ETA: 1:19:03 - loss: 0.2318 - accuracy: 0.9015\n",
      " training set -> batch:565 loss:0.23239801824092865 and acc: 0.9008875489234924\n",
      " 65/500 [==>...........................] - ETA: 1:18:42 - loss: 0.2324 - accuracy: 0.9009\n",
      " training set -> batch:566 loss:0.23221008479595184 and acc: 0.900288999080658\n",
      " 66/500 [==>...........................] - ETA: 1:18:22 - loss: 0.2322 - accuracy: 0.9003\n",
      " training set -> batch:567 loss:0.22683057188987732 and acc: 0.9025423526763916\n",
      " 67/500 [===>..........................] - ETA: 1:18:03 - loss: 0.2268 - accuracy: 0.9025\n",
      " training set -> batch:568 loss:0.22811628878116608 and acc: 0.9019337296485901\n",
      " 68/500 [===>..........................] - ETA: 1:17:44 - loss: 0.2281 - accuracy: 0.9019\n",
      " training set -> batch:569 loss:0.2298789769411087 and acc: 0.9013513326644897\n",
      " 69/500 [===>..........................] - ETA: 1:17:26 - loss: 0.2299 - accuracy: 0.9014\n",
      " training set -> batch:570 loss:0.2301403284072876 and acc: 0.9014550447463989\n",
      " 70/500 [===>..........................] - ETA: 1:17:07 - loss: 0.2301 - accuracy: 0.9015\n",
      " training set -> batch:571 loss:0.2296634465456009 and acc: 0.9002590775489807\n",
      " 71/500 [===>..........................] - ETA: 1:16:49 - loss: 0.2297 - accuracy: 0.9003\n",
      " training set -> batch:572 loss:0.2284591794013977 and acc: 0.9010152220726013\n",
      " 72/500 [===>..........................] - ETA: 1:16:32 - loss: 0.2285 - accuracy: 0.9010\n",
      " training set -> batch:573 loss:0.22660231590270996 and acc: 0.9023631811141968\n",
      " 73/500 [===>..........................] - ETA: 1:16:15 - loss: 0.2266 - accuracy: 0.9024\n",
      " training set -> batch:574 loss:0.22345761954784393 and acc: 0.9036585092544556\n",
      " 74/500 [===>..........................] - ETA: 1:15:57 - loss: 0.2235 - accuracy: 0.9037\n",
      " training set -> batch:575 loss:0.21970081329345703 and acc: 0.9055023789405823\n",
      " 75/500 [===>..........................] - ETA: 1:15:42 - loss: 0.2197 - accuracy: 0.9055\n",
      " training set -> batch:576 loss:0.22011491656303406 and acc: 0.9049295783042908\n",
      " 76/500 [===>..........................] - ETA: 1:15:26 - loss: 0.2201 - accuracy: 0.9049\n",
      " training set -> batch:577 loss:0.21529795229434967 and acc: 0.906682014465332\n",
      " 77/500 [===>..........................] - ETA: 1:15:09 - loss: 0.2153 - accuracy: 0.9067\n",
      " training set -> batch:578 loss:0.21364037692546844 and acc: 0.9072397947311401\n",
      " 78/500 [===>..........................] - ETA: 1:14:53 - loss: 0.2136 - accuracy: 0.9072\n",
      " training set -> batch:579 loss:0.21392416954040527 and acc: 0.9066666960716248\n",
      " 79/500 [===>..........................] - ETA: 1:14:37 - loss: 0.2139 - accuracy: 0.9067\n",
      " training set -> batch:580 loss:0.21942929923534393 and acc: 0.90447598695755\n",
      " 80/500 [===>..........................] - ETA: 1:14:21 - loss: 0.2194 - accuracy: 0.9045\n",
      " training set -> batch:581 loss:0.21681340038776398 and acc: 0.9055793881416321\n",
      " 81/500 [===>..........................] - ETA: 1:14:04 - loss: 0.2168 - accuracy: 0.9056\n",
      " training set -> batch:582 loss:0.2202555388212204 and acc: 0.905063271522522\n",
      " 82/500 [===>..........................] - ETA: 1:13:48 - loss: 0.2203 - accuracy: 0.9051\n",
      " training set -> batch:583 loss:0.21994410455226898 and acc: 0.9050830006599426\n",
      " 83/500 [===>..........................] - ETA: 1:13:31 - loss: 0.2199 - accuracy: 0.9051\n",
      " training set -> batch:584 loss:0.2239638715982437 and acc: 0.9040816426277161\n",
      " 84/500 [====>.........................] - ETA: 1:13:16 - loss: 0.2240 - accuracy: 0.9041\n",
      " training set -> batch:585 loss:0.22529101371765137 and acc: 0.9036144614219666\n",
      " 85/500 [====>.........................] - ETA: 1:13:00 - loss: 0.2253 - accuracy: 0.9036\n",
      " training set -> batch:586 loss:0.22272278368473053 and acc: 0.9041501879692078\n",
      " 86/500 [====>.........................] - ETA: 1:12:45 - loss: 0.2227 - accuracy: 0.9042\n",
      " training set -> batch:587 loss:0.22351858019828796 and acc: 0.9036964774131775\n",
      " 87/500 [====>.........................] - ETA: 1:12:30 - loss: 0.2235 - accuracy: 0.9037\n",
      " training set -> batch:588 loss:0.22565504908561707 and acc: 0.9018199443817139\n",
      " 88/500 [====>.........................] - ETA: 1:12:14 - loss: 0.2257 - accuracy: 0.9018\n",
      " training set -> batch:589 loss:0.2254781424999237 and acc: 0.900943398475647\n",
      " 89/500 [====>.........................] - ETA: 1:11:59 - loss: 0.2255 - accuracy: 0.9009\n",
      " training set -> batch:590 loss:0.22364871203899384 and acc: 0.9014869928359985\n",
      " 90/500 [====>.........................] - ETA: 1:11:44 - loss: 0.2236 - accuracy: 0.9015\n",
      " training set -> batch:591 loss:0.226288840174675 and acc: 0.9001831412315369\n",
      " 91/500 [====>.........................] - ETA: 1:11:30 - loss: 0.2263 - accuracy: 0.9002\n",
      " training set -> batch:592 loss:0.22383837401866913 and acc: 0.9016245603561401\n",
      " 92/500 [====>.........................] - ETA: 1:11:15 - loss: 0.2238 - accuracy: 0.9016\n",
      " training set -> batch:593 loss:0.22844816744327545 and acc: 0.900355875492096\n",
      " 93/500 [====>.........................] - ETA: 1:11:02 - loss: 0.2284 - accuracy: 0.9004\n",
      " training set -> batch:594 loss:0.22606632113456726 and acc: 0.9017543792724609\n",
      " 94/500 [====>.........................] - ETA: 1:10:47 - loss: 0.2261 - accuracy: 0.9018\n",
      " training set -> batch:595 loss:0.2248583436012268 and acc: 0.9022491574287415\n",
      " 95/500 [====>.........................] - ETA: 1:10:33 - loss: 0.2249 - accuracy: 0.9022\n",
      " training set -> batch:596 loss:0.22523480653762817 and acc: 0.9018771052360535\n",
      " 96/500 [====>.........................] - ETA: 1:10:18 - loss: 0.2252 - accuracy: 0.9019\n",
      " training set -> batch:597 loss:0.22656741738319397 and acc: 0.9006733894348145\n",
      " 97/500 [====>.........................] - ETA: 1:10:04 - loss: 0.2266 - accuracy: 0.9007\n",
      " training set -> batch:598 loss:0.2259075939655304 and acc: 0.900747537612915\n",
      " 98/500 [====>.........................] - ETA: 1:09:50 - loss: 0.2259 - accuracy: 0.9007\n",
      " training set -> batch:599 loss:0.22798453271389008 and acc: 0.9004098176956177\n",
      " 99/500 [====>.........................] - ETA: 1:09:36 - loss: 0.2280 - accuracy: 0.9004\n",
      " training set -> batch:600 loss:0.22600515186786652 and acc: 0.9008899927139282\n",
      "\n",
      " validation set -> batch:600 val loss:0.23967155814170837 and val acc: 0.8933486342430115\n",
      "100/500 [=====>........................] - ETA: 1:15:26 - loss: 0.2260 - accuracy: 0.9009\n",
      " training set -> batch:601 loss:0.2364494353532791 and acc: 0.894911527633667\n",
      "101/500 [=====>........................] - ETA: 1:15:07 - loss: 0.2364 - accuracy: 0.8949\n",
      " training set -> batch:602 loss:0.2380543202161789 and acc: 0.8952991366386414\n",
      "102/500 [=====>........................] - ETA: 1:14:49 - loss: 0.2381 - accuracy: 0.8953\n",
      " training set -> batch:603 loss:0.2366577833890915 and acc: 0.8956611752510071\n",
      "103/500 [=====>........................] - ETA: 1:14:32 - loss: 0.2367 - accuracy: 0.8957\n",
      " training set -> batch:604 loss:0.23029150068759918 and acc: 0.8980000019073486\n",
      "104/500 [=====>........................] - ETA: 1:14:14 - loss: 0.2303 - accuracy: 0.8980\n",
      " training set -> batch:605 loss:0.2246686965227127 and acc: 0.8992248177528381\n",
      "105/500 [=====>........................] - ETA: 1:13:56 - loss: 0.2247 - accuracy: 0.8992\n",
      " training set -> batch:606 loss:0.21867525577545166 and acc: 0.902255654335022\n",
      "106/500 [=====>........................] - ETA: 1:13:38 - loss: 0.2187 - accuracy: 0.9023\n",
      " training set -> batch:607 loss:0.22177627682685852 and acc: 0.9014598727226257\n",
      "107/500 [=====>........................] - ETA: 1:13:20 - loss: 0.2218 - accuracy: 0.9015\n",
      " training set -> batch:608 loss:0.22830289602279663 and acc: 0.8998227119445801\n",
      "108/500 [=====>........................] - ETA: 1:13:03 - loss: 0.2283 - accuracy: 0.8998\n",
      " training set -> batch:609 loss:0.22859017550945282 and acc: 0.8991379141807556\n",
      "109/500 [=====>........................] - ETA: 1:12:45 - loss: 0.2286 - accuracy: 0.8991\n",
      " training set -> batch:610 loss:0.22525258362293243 and acc: 0.9010066986083984\n",
      "110/500 [=====>........................] - ETA: 1:12:28 - loss: 0.2253 - accuracy: 0.9010\n",
      " training set -> batch:611 loss:0.22249239683151245 and acc: 0.9027777910232544\n",
      "111/500 [=====>........................] - ETA: 1:12:11 - loss: 0.2225 - accuracy: 0.9028\n",
      " training set -> batch:612 loss:0.21907179057598114 and acc: 0.9052547812461853\n",
      "112/500 [=====>........................] - ETA: 1:11:54 - loss: 0.2191 - accuracy: 0.9053\n",
      " training set -> batch:613 loss:0.21737918257713318 and acc: 0.9052795171737671\n",
      "113/500 [=====>........................] - ETA: 1:11:37 - loss: 0.2174 - accuracy: 0.9053\n",
      " training set -> batch:614 loss:0.21652862429618835 and acc: 0.9068182110786438\n",
      "114/500 [=====>........................] - ETA: 1:11:20 - loss: 0.2165 - accuracy: 0.9068\n",
      " training set -> batch:615 loss:0.21116235852241516 and acc: 0.909023642539978\n",
      "115/500 [=====>........................] - ETA: 1:11:04 - loss: 0.2112 - accuracy: 0.9090\n",
      " training set -> batch:616 loss:0.21061985194683075 and acc: 0.9096820950508118\n",
      "116/500 [=====>........................] - ETA: 1:10:47 - loss: 0.2106 - accuracy: 0.9097\n",
      " training set -> batch:617 loss:0.20641624927520752 and acc: 0.9110169410705566\n",
      "117/500 [======>.......................] - ETA: 1:10:31 - loss: 0.2064 - accuracy: 0.9110\n",
      " training set -> batch:618 loss:0.2051638513803482 and acc: 0.9122928380966187\n",
      "118/500 [======>.......................] - ETA: 1:10:14 - loss: 0.2052 - accuracy: 0.9123\n",
      " training set -> batch:619 loss:0.20338450372219086 and acc: 0.9135135412216187\n",
      "119/500 [======>.......................] - ETA: 1:09:58 - loss: 0.2034 - accuracy: 0.9135\n",
      " training set -> batch:620 loss:0.201335608959198 and acc: 0.9133597612380981\n",
      "120/500 [======>.......................] - ETA: 1:09:42 - loss: 0.2013 - accuracy: 0.9134\n",
      " training set -> batch:621 loss:0.19977541267871857 and acc: 0.9145077466964722\n",
      "121/500 [======>.......................] - ETA: 1:09:26 - loss: 0.1998 - accuracy: 0.9145\n",
      " training set -> batch:622 loss:0.20565344393253326 and acc: 0.9130710363388062\n",
      "122/500 [======>.......................] - ETA: 1:09:10 - loss: 0.2057 - accuracy: 0.9131\n",
      " training set -> batch:623 loss:0.20375406742095947 and acc: 0.913557231426239\n",
      "123/500 [======>.......................] - ETA: 1:08:55 - loss: 0.2038 - accuracy: 0.9136\n",
      " training set -> batch:624 loss:0.2016706019639969 and acc: 0.9146341681480408\n",
      "124/500 [======>.......................] - ETA: 1:08:39 - loss: 0.2017 - accuracy: 0.9146\n",
      " training set -> batch:625 loss:0.2068166434764862 and acc: 0.9138755798339844\n",
      "125/500 [======>.......................] - ETA: 1:08:24 - loss: 0.2068 - accuracy: 0.9139\n",
      " training set -> batch:626 loss:0.20742730796337128 and acc: 0.9131455421447754\n",
      "126/500 [======>.......................] - ETA: 1:08:08 - loss: 0.2074 - accuracy: 0.9131\n",
      " training set -> batch:627 loss:0.20874977111816406 and acc: 0.9135944843292236\n",
      "127/500 [======>.......................] - ETA: 1:07:53 - loss: 0.2087 - accuracy: 0.9136\n",
      " training set -> batch:628 loss:0.20604276657104492 and acc: 0.9145927429199219\n",
      "128/500 [======>.......................] - ETA: 1:07:37 - loss: 0.2060 - accuracy: 0.9146\n",
      " training set -> batch:629 loss:0.20486873388290405 and acc: 0.9150000214576721\n",
      "129/500 [======>.......................] - ETA: 1:07:22 - loss: 0.2049 - accuracy: 0.9150\n",
      " training set -> batch:630 loss:0.2058914601802826 and acc: 0.914301335811615\n",
      "130/500 [======>.......................] - ETA: 1:07:06 - loss: 0.2059 - accuracy: 0.9143\n",
      " training set -> batch:631 loss:0.20541618764400482 and acc: 0.9146995544433594\n",
      "131/500 [======>.......................] - ETA: 1:06:51 - loss: 0.2054 - accuracy: 0.9147\n",
      " training set -> batch:632 loss:0.20372368395328522 and acc: 0.9156118035316467\n",
      "132/500 [======>.......................] - ETA: 1:06:36 - loss: 0.2037 - accuracy: 0.9156\n",
      " training set -> batch:633 loss:0.20643597841262817 and acc: 0.9139004349708557\n",
      "133/500 [======>.......................] - ETA: 1:06:21 - loss: 0.2064 - accuracy: 0.9139\n",
      " training set -> batch:634 loss:0.2066531926393509 and acc: 0.9137755036354065\n",
      "134/500 [=======>......................] - ETA: 1:06:07 - loss: 0.2067 - accuracy: 0.9138\n",
      " training set -> batch:635 loss:0.207516148686409 and acc: 0.9141566157341003\n",
      "135/500 [=======>......................] - ETA: 1:05:52 - loss: 0.2075 - accuracy: 0.9142\n",
      " training set -> batch:636 loss:0.21032416820526123 and acc: 0.9135375618934631\n",
      "136/500 [=======>......................] - ETA: 1:05:38 - loss: 0.2103 - accuracy: 0.9135\n",
      " training set -> batch:637 loss:0.2093440741300583 and acc: 0.9134241342544556\n",
      "137/500 [=======>......................] - ETA: 1:05:23 - loss: 0.2093 - accuracy: 0.9134\n",
      " training set -> batch:638 loss:0.20860496163368225 and acc: 0.9137930870056152\n",
      "138/500 [=======>......................] - ETA: 1:05:09 - loss: 0.2086 - accuracy: 0.9138\n",
      " training set -> batch:639 loss:0.2092486321926117 and acc: 0.9141509532928467\n",
      "139/500 [=======>......................] - ETA: 1:04:55 - loss: 0.2092 - accuracy: 0.9142\n",
      " training set -> batch:640 loss:0.21056802570819855 and acc: 0.9135687947273254\n",
      "140/500 [=======>......................] - ETA: 1:04:40 - loss: 0.2106 - accuracy: 0.9136\n",
      " training set -> batch:641 loss:0.2080565243959427 and acc: 0.9148351550102234\n",
      "141/500 [=======>......................] - ETA: 1:04:26 - loss: 0.2081 - accuracy: 0.9148\n",
      " training set -> batch:642 loss:0.21062521636486053 and acc: 0.9133573770523071\n",
      "142/500 [=======>......................] - ETA: 1:04:12 - loss: 0.2106 - accuracy: 0.9134\n",
      " training set -> batch:643 loss:0.21088550984859467 and acc: 0.913701057434082\n",
      "143/500 [=======>......................] - ETA: 1:03:59 - loss: 0.2109 - accuracy: 0.9137\n",
      " training set -> batch:644 loss:0.2115236222743988 and acc: 0.9144737124443054\n",
      "144/500 [=======>......................] - ETA: 1:03:44 - loss: 0.2115 - accuracy: 0.9145\n",
      " training set -> batch:645 loss:0.21135826408863068 and acc: 0.9143598675727844\n",
      "145/500 [=======>......................] - ETA: 1:03:31 - loss: 0.2114 - accuracy: 0.9144\n",
      " training set -> batch:646 loss:0.2128036916255951 and acc: 0.9142491221427917\n",
      "146/500 [=======>......................] - ETA: 1:03:17 - loss: 0.2128 - accuracy: 0.9142\n",
      " training set -> batch:647 loss:0.21254760026931763 and acc: 0.9145622849464417\n",
      "147/500 [=======>......................] - ETA: 1:03:03 - loss: 0.2125 - accuracy: 0.9146\n",
      " training set -> batch:648 loss:0.21240971982479095 and acc: 0.9144518375396729\n",
      "148/500 [=======>......................] - ETA: 1:02:50 - loss: 0.2124 - accuracy: 0.9145\n",
      " training set -> batch:649 loss:0.21215488016605377 and acc: 0.9151639342308044\n",
      "149/500 [=======>......................] - ETA: 1:02:36 - loss: 0.2122 - accuracy: 0.9152\n",
      " training set -> batch:650 loss:0.21032550930976868 and acc: 0.9158576130867004\n",
      "\n",
      " validation set -> batch:650 val loss:0.2541274130344391 and val acc: 0.89449542760849\n",
      "150/500 [========>.....................] - ETA: 1:05:54 - loss: 0.2103 - accuracy: 0.9159\n",
      " training set -> batch:651 loss:0.2556920051574707 and acc: 0.8960176706314087\n",
      "151/500 [========>.....................] - ETA: 1:05:38 - loss: 0.2557 - accuracy: 0.8960\n",
      " training set -> batch:652 loss:0.25830715894699097 and acc: 0.8952991366386414\n",
      "152/500 [========>.....................] - ETA: 1:05:22 - loss: 0.2583 - accuracy: 0.8953\n",
      " training set -> batch:653 loss:0.2488187551498413 and acc: 0.8987603187561035\n",
      "153/500 [========>.....................] - ETA: 1:05:07 - loss: 0.2488 - accuracy: 0.8988\n",
      " training set -> batch:654 loss:0.2423228621482849 and acc: 0.8999999761581421\n",
      "154/500 [========>.....................] - ETA: 1:04:51 - loss: 0.2423 - accuracy: 0.9000\n",
      " training set -> batch:655 loss:0.23283056914806366 and acc: 0.9031007885932922\n",
      "155/500 [========>.....................] - ETA: 1:04:35 - loss: 0.2328 - accuracy: 0.9031\n",
      " training set -> batch:656 loss:0.2264385223388672 and acc: 0.9041353464126587\n",
      "156/500 [========>.....................] - ETA: 1:04:20 - loss: 0.2264 - accuracy: 0.9041\n",
      " training set -> batch:657 loss:0.23154662549495697 and acc: 0.9032846689224243\n",
      "157/500 [========>.....................] - ETA: 1:04:04 - loss: 0.2315 - accuracy: 0.9033\n",
      " training set -> batch:658 loss:0.2280111312866211 and acc: 0.9051418304443359\n",
      "158/500 [========>.....................] - ETA: 1:03:49 - loss: 0.2280 - accuracy: 0.9051\n",
      " training set -> batch:659 loss:0.22908572852611542 and acc: 0.9043103456497192\n",
      "159/500 [========>.....................] - ETA: 1:03:34 - loss: 0.2291 - accuracy: 0.9043\n",
      " training set -> batch:660 loss:0.22526629269123077 and acc: 0.9035235047340393\n",
      "160/500 [========>.....................] - ETA: 1:03:19 - loss: 0.2253 - accuracy: 0.9035\n",
      " training set -> batch:661 loss:0.22075265645980835 and acc: 0.904411792755127\n",
      "161/500 [========>.....................] - ETA: 1:03:04 - loss: 0.2208 - accuracy: 0.9044\n",
      " training set -> batch:662 loss:0.2232189029455185 and acc: 0.9036624431610107\n",
      "162/500 [========>.....................] - ETA: 1:02:49 - loss: 0.2232 - accuracy: 0.9037\n",
      " training set -> batch:663 loss:0.22088982164859772 and acc: 0.9045031070709229\n",
      "163/500 [========>.....................] - ETA: 1:02:35 - loss: 0.2209 - accuracy: 0.9045\n",
      " training set -> batch:664 loss:0.2235146313905716 and acc: 0.9037878513336182\n",
      "164/500 [========>.....................] - ETA: 1:02:20 - loss: 0.2235 - accuracy: 0.9038\n",
      " training set -> batch:665 loss:0.21869568526744843 and acc: 0.9053254723548889\n",
      "165/500 [========>.....................] - ETA: 1:02:05 - loss: 0.2187 - accuracy: 0.9053\n",
      " training set -> batch:666 loss:0.221161887049675 and acc: 0.9053468108177185\n",
      "166/500 [========>.....................] - ETA: 1:01:51 - loss: 0.2212 - accuracy: 0.9053\n",
      " training set -> batch:667 loss:0.2217874675989151 and acc: 0.9046609997749329\n",
      "167/500 [=========>....................] - ETA: 1:01:37 - loss: 0.2218 - accuracy: 0.9047\n",
      " training set -> batch:668 loss:0.22193825244903564 and acc: 0.905386745929718\n",
      "168/500 [=========>....................] - ETA: 1:01:22 - loss: 0.2219 - accuracy: 0.9054\n",
      " training set -> batch:669 loss:0.21796822547912598 and acc: 0.9067567586898804\n",
      "169/500 [=========>....................] - ETA: 1:01:08 - loss: 0.2180 - accuracy: 0.9068\n",
      " training set -> batch:670 loss:0.21563680469989777 and acc: 0.9067460298538208\n",
      "170/500 [=========>....................] - ETA: 1:00:54 - loss: 0.2156 - accuracy: 0.9067\n",
      " training set -> batch:671 loss:0.21905305981636047 and acc: 0.9060880541801453\n",
      "171/500 [=========>....................] - ETA: 1:00:39 - loss: 0.2191 - accuracy: 0.9061\n",
      " training set -> batch:672 loss:0.21824370324611664 and acc: 0.9060913920402527\n",
      "172/500 [=========>....................] - ETA: 1:00:25 - loss: 0.2182 - accuracy: 0.9061\n",
      " training set -> batch:673 loss:0.21437020599842072 and acc: 0.9079601764678955\n",
      "173/500 [=========>....................] - ETA: 1:00:11 - loss: 0.2144 - accuracy: 0.9080\n",
      " training set -> batch:674 loss:0.21014976501464844 and acc: 0.9097561240196228\n",
      "174/500 [=========>....................] - ETA: 59:57 - loss: 0.2101 - accuracy: 0.9098  \n",
      " training set -> batch:675 loss:0.21375298500061035 and acc: 0.9090909361839294\n",
      "175/500 [=========>....................] - ETA: 59:43 - loss: 0.2138 - accuracy: 0.9091\n",
      " training set -> batch:676 loss:0.21194800734519958 and acc: 0.9096243977546692\n",
      "176/500 [=========>....................] - ETA: 59:29 - loss: 0.2119 - accuracy: 0.9096\n",
      " training set -> batch:677 loss:0.2187059223651886 and acc: 0.9084101319313049\n",
      "177/500 [=========>....................] - ETA: 59:15 - loss: 0.2187 - accuracy: 0.9084\n",
      " training set -> batch:678 loss:0.21746304631233215 and acc: 0.9089366793632507\n",
      "178/500 [=========>....................] - ETA: 59:01 - loss: 0.2175 - accuracy: 0.9089\n",
      " training set -> batch:679 loss:0.21857115626335144 and acc: 0.9083333611488342\n",
      "179/500 [=========>....................] - ETA: 58:47 - loss: 0.2186 - accuracy: 0.9083\n",
      " training set -> batch:680 loss:0.21670059859752655 and acc: 0.9093886613845825\n",
      "180/500 [=========>....................] - ETA: 58:34 - loss: 0.2167 - accuracy: 0.9094\n",
      " training set -> batch:681 loss:0.21559181809425354 and acc: 0.9093347787857056\n",
      "181/500 [=========>....................] - ETA: 58:20 - loss: 0.2156 - accuracy: 0.9093\n",
      " training set -> batch:682 loss:0.21271011233329773 and acc: 0.9108649492263794\n",
      "182/500 [=========>....................] - ETA: 58:07 - loss: 0.2127 - accuracy: 0.9109\n",
      " training set -> batch:683 loss:0.2169402688741684 and acc: 0.9097510576248169\n",
      "183/500 [=========>....................] - ETA: 57:53 - loss: 0.2169 - accuracy: 0.9098\n",
      " training set -> batch:684 loss:0.21613603830337524 and acc: 0.9102040529251099\n",
      "184/500 [==========>...................] - ETA: 57:41 - loss: 0.2161 - accuracy: 0.9102\n",
      " training set -> batch:685 loss:0.21345533430576324 and acc: 0.9111445546150208\n",
      "185/500 [==========>...................] - ETA: 57:27 - loss: 0.2135 - accuracy: 0.9111\n",
      " training set -> batch:686 loss:0.21500834822654724 and acc: 0.9100790619850159\n",
      "186/500 [==========>...................] - ETA: 57:14 - loss: 0.2150 - accuracy: 0.9101\n",
      " training set -> batch:687 loss:0.21239961683750153 and acc: 0.911478579044342\n",
      "187/500 [==========>...................] - ETA: 57:00 - loss: 0.2124 - accuracy: 0.9115\n",
      " training set -> batch:688 loss:0.2133762687444687 and acc: 0.9113984704017639\n",
      "188/500 [==========>...................] - ETA: 56:47 - loss: 0.2134 - accuracy: 0.9114\n",
      " training set -> batch:689 loss:0.21497251093387604 and acc: 0.9108490347862244\n",
      "189/500 [==========>...................] - ETA: 56:33 - loss: 0.2150 - accuracy: 0.9108\n",
      " training set -> batch:690 loss:0.2172546535730362 and acc: 0.910315990447998\n",
      "190/500 [==========>...................] - ETA: 56:19 - loss: 0.2173 - accuracy: 0.9103\n",
      " training set -> batch:691 loss:0.21591421961784363 and acc: 0.9111721515655518\n",
      "191/500 [==========>...................] - ETA: 56:06 - loss: 0.2159 - accuracy: 0.9112\n",
      " training set -> batch:692 loss:0.21656130254268646 and acc: 0.910649836063385\n",
      "192/500 [==========>...................] - ETA: 55:53 - loss: 0.2166 - accuracy: 0.9106\n",
      " training set -> batch:693 loss:0.21539808809757233 and acc: 0.9110320210456848\n",
      "193/500 [==========>...................] - ETA: 55:40 - loss: 0.2154 - accuracy: 0.9110\n",
      " training set -> batch:694 loss:0.2135569155216217 and acc: 0.9122806787490845\n",
      "194/500 [==========>...................] - ETA: 55:27 - loss: 0.2136 - accuracy: 0.9123\n",
      " training set -> batch:695 loss:0.21394309401512146 and acc: 0.9126297831535339\n",
      "195/500 [==========>...................] - ETA: 55:14 - loss: 0.2139 - accuracy: 0.9126\n",
      " training set -> batch:696 loss:0.2149009108543396 and acc: 0.9129692912101746\n",
      "196/500 [==========>...................] - ETA: 55:00 - loss: 0.2149 - accuracy: 0.9130\n",
      " training set -> batch:697 loss:0.21348446607589722 and acc: 0.9137205481529236\n",
      "197/500 [==========>...................] - ETA: 54:47 - loss: 0.2135 - accuracy: 0.9137\n",
      " training set -> batch:698 loss:0.21407178044319153 and acc: 0.9140365719795227\n",
      "198/500 [==========>...................] - ETA: 54:34 - loss: 0.2141 - accuracy: 0.9140\n",
      " training set -> batch:699 loss:0.21311920881271362 and acc: 0.9139344096183777\n",
      "199/500 [==========>...................] - ETA: 54:21 - loss: 0.2131 - accuracy: 0.9139\n",
      " training set -> batch:700 loss:0.21526595950126648 and acc: 0.913430392742157\n",
      "\n",
      " validation set -> batch:700 val loss:0.22579559683799744 and val acc: 0.9094036817550659\n",
      "200/500 [===========>..................] - ETA: 56:22 - loss: 0.2153 - accuracy: 0.9134\n",
      " training set -> batch:701 loss:0.22416839003562927 and acc: 0.9092920422554016\n",
      "201/500 [===========>..................] - ETA: 56:08 - loss: 0.2242 - accuracy: 0.9093\n",
      " training set -> batch:702 loss:0.22743690013885498 and acc: 0.9091880321502686\n",
      "202/500 [===========>..................] - ETA: 55:54 - loss: 0.2274 - accuracy: 0.9092\n",
      " training set -> batch:703 loss:0.21857838332653046 and acc: 0.9111570119857788\n",
      "203/500 [===========>..................] - ETA: 55:41 - loss: 0.2186 - accuracy: 0.9112\n",
      " training set -> batch:704 loss:0.224822998046875 and acc: 0.9089999794960022\n",
      "204/500 [===========>..................] - ETA: 55:27 - loss: 0.2248 - accuracy: 0.9090\n",
      " training set -> batch:705 loss:0.2222350537776947 and acc: 0.9108527302742004\n",
      "205/500 [===========>..................] - ETA: 55:13 - loss: 0.2222 - accuracy: 0.9109\n",
      " training set -> batch:706 loss:0.23946306109428406 and acc: 0.9060150384902954\n",
      "206/500 [===========>..................] - ETA: 55:00 - loss: 0.2395 - accuracy: 0.9060\n",
      " training set -> batch:707 loss:0.23322409391403198 and acc: 0.9078466892242432\n",
      "207/500 [===========>..................] - ETA: 54:46 - loss: 0.2332 - accuracy: 0.9078\n",
      " training set -> batch:708 loss:0.2257051020860672 and acc: 0.9104610085487366\n",
      "208/500 [===========>..................] - ETA: 54:32 - loss: 0.2257 - accuracy: 0.9105\n",
      " training set -> batch:709 loss:0.22356829047203064 and acc: 0.9112069010734558\n",
      "209/500 [===========>..................] - ETA: 54:19 - loss: 0.2236 - accuracy: 0.9112\n",
      " training set -> batch:710 loss:0.22224067151546478 and acc: 0.911912739276886\n",
      "210/500 [===========>..................] - ETA: 54:05 - loss: 0.2222 - accuracy: 0.9119\n",
      " training set -> batch:711 loss:0.21925869584083557 and acc: 0.9125816822052002\n",
      "211/500 [===========>..................] - ETA: 53:51 - loss: 0.2193 - accuracy: 0.9126\n",
      " training set -> batch:712 loss:0.21756449341773987 and acc: 0.9132165312767029\n",
      "212/500 [===========>..................] - ETA: 53:38 - loss: 0.2176 - accuracy: 0.9132\n",
      " training set -> batch:713 loss:0.21798551082611084 and acc: 0.9122670888900757\n",
      "213/500 [===========>..................] - ETA: 53:24 - loss: 0.2180 - accuracy: 0.9123\n",
      " training set -> batch:714 loss:0.2198195457458496 and acc: 0.9128788113594055\n",
      "214/500 [===========>..................] - ETA: 53:11 - loss: 0.2198 - accuracy: 0.9129\n",
      " training set -> batch:715 loss:0.21865254640579224 and acc: 0.9127218723297119\n",
      "215/500 [===========>..................] - ETA: 52:57 - loss: 0.2187 - accuracy: 0.9127\n",
      " training set -> batch:716 loss:0.21398049592971802 and acc: 0.9140173196792603\n",
      "216/500 [===========>..................] - ETA: 52:44 - loss: 0.2140 - accuracy: 0.9140\n",
      " training set -> batch:717 loss:0.21895790100097656 and acc: 0.9131355881690979\n",
      "217/500 [============>.................] - ETA: 52:31 - loss: 0.2190 - accuracy: 0.9131\n",
      " training set -> batch:718 loss:0.2210380733013153 and acc: 0.9129834175109863\n",
      "218/500 [============>.................] - ETA: 52:17 - loss: 0.2210 - accuracy: 0.9130\n",
      " training set -> batch:719 loss:0.22232107818126678 and acc: 0.9114865064620972\n",
      "219/500 [============>.................] - ETA: 52:04 - loss: 0.2223 - accuracy: 0.9115\n",
      " training set -> batch:720 loss:0.22269022464752197 and acc: 0.9113756418228149\n",
      "220/500 [============>.................] - ETA: 51:51 - loss: 0.2227 - accuracy: 0.9114\n",
      " training set -> batch:721 loss:0.22094281017780304 and acc: 0.9112694263458252\n",
      "221/500 [============>.................] - ETA: 51:38 - loss: 0.2209 - accuracy: 0.9113\n",
      " training set -> batch:722 loss:0.21733108162879944 and acc: 0.9124365448951721\n",
      "222/500 [============>.................] - ETA: 51:25 - loss: 0.2173 - accuracy: 0.9124\n",
      " training set -> batch:723 loss:0.215240940451622 and acc: 0.913557231426239\n",
      "223/500 [============>.................] - ETA: 51:12 - loss: 0.2152 - accuracy: 0.9136\n",
      " training set -> batch:724 loss:0.21277384459972382 and acc: 0.9140244126319885\n",
      "224/500 [============>.................] - ETA: 50:59 - loss: 0.2128 - accuracy: 0.9140\n",
      " training set -> batch:725 loss:0.21942466497421265 and acc: 0.9126794338226318\n",
      "225/500 [============>.................] - ETA: 50:46 - loss: 0.2194 - accuracy: 0.9127\n",
      " training set -> batch:726 loss:0.21904811263084412 and acc: 0.9131455421447754\n",
      "226/500 [============>.................] - ETA: 50:33 - loss: 0.2190 - accuracy: 0.9131\n",
      " training set -> batch:727 loss:0.22097960114479065 and acc: 0.9118663668632507\n",
      "227/500 [============>.................] - ETA: 50:20 - loss: 0.2210 - accuracy: 0.9119\n",
      " training set -> batch:728 loss:0.22119057178497314 and acc: 0.9123303294181824\n",
      "228/500 [============>.................] - ETA: 50:07 - loss: 0.2212 - accuracy: 0.9123\n",
      " training set -> batch:729 loss:0.21989990770816803 and acc: 0.9127777814865112\n",
      "229/500 [============>.................] - ETA: 49:54 - loss: 0.2199 - accuracy: 0.9128\n",
      " training set -> batch:730 loss:0.22073151171207428 and acc: 0.9115720391273499\n",
      "230/500 [============>.................] - ETA: 49:41 - loss: 0.2207 - accuracy: 0.9116\n",
      " training set -> batch:731 loss:0.2219485640525818 and acc: 0.9114806652069092\n",
      "231/500 [============>.................] - ETA: 49:28 - loss: 0.2219 - accuracy: 0.9115\n",
      " training set -> batch:732 loss:0.22452421486377716 and acc: 0.9108649492263794\n",
      "232/500 [============>.................] - ETA: 49:15 - loss: 0.2245 - accuracy: 0.9109\n",
      " training set -> batch:733 loss:0.2228194922208786 and acc: 0.9118257164955139\n",
      "233/500 [============>.................] - ETA: 49:02 - loss: 0.2228 - accuracy: 0.9118\n",
      " training set -> batch:734 loss:0.22210299968719482 and acc: 0.9122449159622192\n",
      "234/500 [=============>................] - ETA: 48:49 - loss: 0.2221 - accuracy: 0.9122\n",
      " training set -> batch:735 loss:0.22480081021785736 and acc: 0.9116466045379639\n",
      "235/500 [=============>................] - ETA: 48:37 - loss: 0.2248 - accuracy: 0.9116\n",
      " training set -> batch:736 loss:0.22464591264724731 and acc: 0.9115612506866455\n",
      "236/500 [=============>................] - ETA: 48:24 - loss: 0.2246 - accuracy: 0.9116\n",
      " training set -> batch:737 loss:0.2224915772676468 and acc: 0.9119649529457092\n",
      "237/500 [=============>................] - ETA: 48:11 - loss: 0.2225 - accuracy: 0.9120\n",
      " training set -> batch:738 loss:0.22152145206928253 and acc: 0.9123563170433044\n",
      "238/500 [=============>................] - ETA: 47:59 - loss: 0.2215 - accuracy: 0.9124\n",
      " training set -> batch:739 loss:0.21925561130046844 and acc: 0.9132075309753418\n",
      "239/500 [=============>................] - ETA: 47:46 - loss: 0.2193 - accuracy: 0.9132\n",
      " training set -> batch:740 loss:0.21771354973316193 and acc: 0.9140334725379944\n",
      "240/500 [=============>................] - ETA: 47:33 - loss: 0.2177 - accuracy: 0.9140\n",
      " training set -> batch:741 loss:0.21620474755764008 and acc: 0.9148351550102234\n",
      "241/500 [=============>................] - ETA: 47:21 - loss: 0.2162 - accuracy: 0.9148\n",
      " training set -> batch:742 loss:0.21678273379802704 and acc: 0.9138086438179016\n",
      "242/500 [=============>................] - ETA: 47:08 - loss: 0.2168 - accuracy: 0.9138\n",
      " training set -> batch:743 loss:0.21897640824317932 and acc: 0.9128113985061646\n",
      "243/500 [=============>................] - ETA: 46:56 - loss: 0.2190 - accuracy: 0.9128\n",
      " training set -> batch:744 loss:0.21964122354984283 and acc: 0.9127193093299866\n",
      "244/500 [=============>................] - ETA: 46:43 - loss: 0.2196 - accuracy: 0.9127\n",
      " training set -> batch:745 loss:0.21879442036151886 and acc: 0.9130622744560242\n",
      "245/500 [=============>................] - ETA: 46:30 - loss: 0.2188 - accuracy: 0.9131\n",
      " training set -> batch:746 loss:0.21894101798534393 and acc: 0.913395881652832\n",
      "246/500 [=============>................] - ETA: 46:18 - loss: 0.2189 - accuracy: 0.9134\n",
      " training set -> batch:747 loss:0.21795283257961273 and acc: 0.9137205481529236\n",
      "247/500 [=============>................] - ETA: 46:06 - loss: 0.2180 - accuracy: 0.9137\n",
      " training set -> batch:748 loss:0.21838253736495972 and acc: 0.9136212468147278\n",
      "248/500 [=============>................] - ETA: 45:53 - loss: 0.2184 - accuracy: 0.9136\n",
      " training set -> batch:749 loss:0.2172604352235794 and acc: 0.9139344096183777\n",
      "249/500 [=============>................] - ETA: 45:41 - loss: 0.2173 - accuracy: 0.9139\n",
      " training set -> batch:750 loss:0.21525661647319794 and acc: 0.9146440029144287\n",
      "\n",
      " validation set -> batch:750 val loss:0.23936256766319275 and val acc: 0.8979358077049255\n",
      "250/500 [==============>...............] - ETA: 46:59 - loss: 0.2153 - accuracy: 0.9146\n",
      " training set -> batch:751 loss:0.23357076942920685 and acc: 0.9004424810409546\n",
      "251/500 [==============>...............] - ETA: 46:47 - loss: 0.2336 - accuracy: 0.9004\n",
      " training set -> batch:752 loss:0.2435893565416336 and acc: 0.8985042572021484\n",
      "252/500 [==============>...............] - ETA: 46:33 - loss: 0.2436 - accuracy: 0.8985\n",
      " training set -> batch:753 loss:0.2358076423406601 and acc: 0.8997933864593506\n",
      "253/500 [==============>...............] - ETA: 46:20 - loss: 0.2358 - accuracy: 0.8998\n",
      " training set -> batch:754 loss:0.23051714897155762 and acc: 0.9010000228881836\n",
      "254/500 [==============>...............] - ETA: 46:07 - loss: 0.2305 - accuracy: 0.9010\n",
      " training set -> batch:755 loss:0.23587262630462646 and acc: 0.9001938104629517\n",
      "255/500 [==============>...............] - ETA: 45:54 - loss: 0.2359 - accuracy: 0.9002\n",
      " training set -> batch:756 loss:0.2337111532688141 and acc: 0.8994361162185669\n",
      "256/500 [==============>...............] - ETA: 45:41 - loss: 0.2337 - accuracy: 0.8994\n",
      " training set -> batch:757 loss:0.22938735783100128 and acc: 0.900547444820404\n",
      "257/500 [==============>...............] - ETA: 45:28 - loss: 0.2294 - accuracy: 0.9005\n",
      " training set -> batch:758 loss:0.24539202451705933 and acc: 0.896276593208313\n",
      "258/500 [==============>...............] - ETA: 45:15 - loss: 0.2454 - accuracy: 0.8963\n",
      " training set -> batch:759 loss:0.24094857275485992 and acc: 0.8974137902259827\n",
      "259/500 [==============>...............] - ETA: 45:03 - loss: 0.2409 - accuracy: 0.8974\n",
      " training set -> batch:760 loss:0.2426316738128662 and acc: 0.8976510167121887\n",
      "260/500 [==============>...............] - ETA: 44:50 - loss: 0.2426 - accuracy: 0.8977\n",
      " training set -> batch:761 loss:0.23972319066524506 and acc: 0.8995097875595093\n",
      "261/500 [==============>...............] - ETA: 44:37 - loss: 0.2397 - accuracy: 0.8995\n",
      " training set -> batch:762 loss:0.24045394361019135 and acc: 0.9012739062309265\n",
      "262/500 [==============>...............] - ETA: 44:24 - loss: 0.2405 - accuracy: 0.9013\n",
      " training set -> batch:763 loss:0.241943359375 and acc: 0.9006211161613464\n",
      "263/500 [==============>...............] - ETA: 44:11 - loss: 0.2419 - accuracy: 0.9006\n",
      " training set -> batch:764 loss:0.23868776857852936 and acc: 0.9022727012634277\n",
      "264/500 [==============>...............] - ETA: 43:59 - loss: 0.2387 - accuracy: 0.9023\n",
      " training set -> batch:765 loss:0.24004103243350983 and acc: 0.9031065106391907\n",
      "265/500 [==============>...............] - ETA: 43:46 - loss: 0.2400 - accuracy: 0.9031\n",
      " training set -> batch:766 loss:0.23746734857559204 and acc: 0.9039017558097839\n",
      "266/500 [==============>...............] - ETA: 43:33 - loss: 0.2375 - accuracy: 0.9039\n",
      " training set -> batch:767 loss:0.232633575797081 and acc: 0.9053672552108765\n",
      "267/500 [===============>..............] - ETA: 43:21 - loss: 0.2326 - accuracy: 0.9054\n",
      " training set -> batch:768 loss:0.23077918589115143 and acc: 0.9060773253440857\n",
      "268/500 [===============>..............] - ETA: 43:08 - loss: 0.2308 - accuracy: 0.9061\n",
      " training set -> batch:769 loss:0.23763078451156616 and acc: 0.9040540456771851\n",
      "269/500 [===============>..............] - ETA: 42:55 - loss: 0.2376 - accuracy: 0.9041\n",
      " training set -> batch:770 loss:0.2350481003522873 and acc: 0.9047619104385376\n",
      "270/500 [===============>..............] - ETA: 42:42 - loss: 0.2350 - accuracy: 0.9048\n",
      " training set -> batch:771 loss:0.2340584546327591 and acc: 0.9054403901100159\n",
      "271/500 [===============>..............] - ETA: 42:30 - loss: 0.2341 - accuracy: 0.9054\n",
      " training set -> batch:772 loss:0.23574692010879517 and acc: 0.9048223495483398\n",
      "272/500 [===============>..............] - ETA: 42:17 - loss: 0.2357 - accuracy: 0.9048\n",
      " training set -> batch:773 loss:0.23676392436027527 and acc: 0.9042288661003113\n",
      "273/500 [===============>..............] - ETA: 42:05 - loss: 0.2368 - accuracy: 0.9042\n",
      " training set -> batch:774 loss:0.23297199606895447 and acc: 0.9054877758026123\n",
      "274/500 [===============>..............] - ETA: 41:52 - loss: 0.2330 - accuracy: 0.9055\n",
      " training set -> batch:775 loss:0.2326473891735077 and acc: 0.9055023789405823\n",
      "275/500 [===============>..............] - ETA: 41:40 - loss: 0.2326 - accuracy: 0.9055\n",
      " training set -> batch:776 loss:0.2303120642900467 and acc: 0.9061033129692078\n",
      "276/500 [===============>..............] - ETA: 41:27 - loss: 0.2303 - accuracy: 0.9061\n",
      " training set -> batch:777 loss:0.22733324766159058 and acc: 0.9072580933570862\n",
      "277/500 [===============>..............] - ETA: 41:15 - loss: 0.2273 - accuracy: 0.9073\n",
      " training set -> batch:778 loss:0.22762754559516907 and acc: 0.9061086177825928\n",
      "278/500 [===============>..............] - ETA: 41:03 - loss: 0.2276 - accuracy: 0.9061\n",
      " training set -> batch:779 loss:0.23030395805835724 and acc: 0.9061111211776733\n",
      "279/500 [===============>..............] - ETA: 40:50 - loss: 0.2303 - accuracy: 0.9061\n",
      " training set -> batch:780 loss:0.2283148616552353 and acc: 0.9066593647003174\n",
      "280/500 [===============>..............] - ETA: 40:38 - loss: 0.2283 - accuracy: 0.9067\n",
      " training set -> batch:781 loss:0.2254382073879242 and acc: 0.9077253341674805\n",
      "281/500 [===============>..............] - ETA: 40:26 - loss: 0.2254 - accuracy: 0.9077\n",
      " training set -> batch:782 loss:0.2231525480747223 and acc: 0.9087553024291992\n",
      "282/500 [===============>..............] - ETA: 40:13 - loss: 0.2232 - accuracy: 0.9088\n",
      " training set -> batch:783 loss:0.22069869935512543 and acc: 0.9097510576248169\n",
      "283/500 [===============>..............] - ETA: 40:01 - loss: 0.2207 - accuracy: 0.9098\n",
      " training set -> batch:784 loss:0.22161678969860077 and acc: 0.9086734652519226\n",
      "284/500 [================>.............] - ETA: 39:49 - loss: 0.2216 - accuracy: 0.9087\n",
      " training set -> batch:785 loss:0.22146746516227722 and acc: 0.9091365337371826\n",
      "285/500 [================>.............] - ETA: 39:37 - loss: 0.2215 - accuracy: 0.9091\n",
      " training set -> batch:786 loss:0.2187705934047699 and acc: 0.9100790619850159\n",
      "286/500 [================>.............] - ETA: 39:24 - loss: 0.2188 - accuracy: 0.9101\n",
      " training set -> batch:787 loss:0.21990592777729034 and acc: 0.9095330834388733\n",
      "287/500 [================>.............] - ETA: 39:12 - loss: 0.2199 - accuracy: 0.9095\n",
      " training set -> batch:788 loss:0.2192186415195465 and acc: 0.9104406237602234\n",
      "288/500 [================>.............] - ETA: 39:00 - loss: 0.2192 - accuracy: 0.9104\n",
      " training set -> batch:789 loss:0.2167777717113495 and acc: 0.9113207459449768\n",
      "289/500 [================>.............] - ETA: 38:48 - loss: 0.2168 - accuracy: 0.9113\n",
      " training set -> batch:790 loss:0.21478287875652313 and acc: 0.9121747016906738\n",
      "290/500 [================>.............] - ETA: 38:36 - loss: 0.2148 - accuracy: 0.9122\n",
      " training set -> batch:791 loss:0.21519504487514496 and acc: 0.9120879173278809\n",
      "291/500 [================>.............] - ETA: 38:24 - loss: 0.2152 - accuracy: 0.9121\n",
      " training set -> batch:792 loss:0.21898683905601501 and acc: 0.910649836063385\n",
      "292/500 [================>.............] - ETA: 38:12 - loss: 0.2190 - accuracy: 0.9106\n",
      " training set -> batch:793 loss:0.21718871593475342 and acc: 0.9110320210456848\n",
      "293/500 [================>.............] - ETA: 38:00 - loss: 0.2172 - accuracy: 0.9110\n",
      " training set -> batch:794 loss:0.2187952995300293 and acc: 0.9105263352394104\n",
      "294/500 [================>.............] - ETA: 37:48 - loss: 0.2188 - accuracy: 0.9105\n",
      " training set -> batch:795 loss:0.21758608520030975 and acc: 0.9113321900367737\n",
      "295/500 [================>.............] - ETA: 37:35 - loss: 0.2176 - accuracy: 0.9113\n",
      " training set -> batch:796 loss:0.21722479164600372 and acc: 0.9108361601829529\n",
      "296/500 [================>.............] - ETA: 37:23 - loss: 0.2172 - accuracy: 0.9108\n",
      " training set -> batch:797 loss:0.21861320734024048 and acc: 0.9103535413742065\n",
      "297/500 [================>.............] - ETA: 37:11 - loss: 0.2186 - accuracy: 0.9104\n",
      " training set -> batch:798 loss:0.21798041462898254 and acc: 0.9107142686843872\n",
      "298/500 [================>.............] - ETA: 36:59 - loss: 0.2180 - accuracy: 0.9107\n",
      " training set -> batch:799 loss:0.21775518357753754 and acc: 0.9110655784606934\n",
      "299/500 [================>.............] - ETA: 36:47 - loss: 0.2178 - accuracy: 0.9111\n",
      " training set -> batch:800 loss:0.218553826212883 and acc: 0.9110032320022583\n",
      "\n",
      " validation set -> batch:800 val loss:0.236238494515419 and val acc: 0.9094036817550659\n",
      "300/500 [=================>............] - ETA: 37:36 - loss: 0.2186 - accuracy: 0.9110\n",
      " training set -> batch:801 loss:0.22370286285877228 and acc: 0.9126105904579163\n",
      "301/500 [=================>............] - ETA: 37:23 - loss: 0.2237 - accuracy: 0.9126\n",
      " training set -> batch:802 loss:0.22077608108520508 and acc: 0.9145299196243286\n",
      "302/500 [=================>............] - ETA: 37:11 - loss: 0.2208 - accuracy: 0.9145\n",
      " training set -> batch:803 loss:0.212337464094162 and acc: 0.9163222908973694\n",
      "303/500 [=================>............] - ETA: 36:58 - loss: 0.2123 - accuracy: 0.9163\n",
      " training set -> batch:804 loss:0.21466536819934845 and acc: 0.9150000214576721\n",
      "304/500 [=================>............] - ETA: 36:46 - loss: 0.2147 - accuracy: 0.9150\n",
      " training set -> batch:805 loss:0.21113348007202148 and acc: 0.9156976938247681\n",
      "305/500 [=================>............] - ETA: 36:34 - loss: 0.2111 - accuracy: 0.9157\n",
      " training set -> batch:806 loss:0.20679333806037903 and acc: 0.9163534045219421\n",
      "306/500 [=================>............] - ETA: 36:21 - loss: 0.2068 - accuracy: 0.9164\n",
      " training set -> batch:807 loss:0.20786605775356293 and acc: 0.9160584211349487\n",
      "307/500 [=================>............] - ETA: 36:10 - loss: 0.2079 - accuracy: 0.9161\n",
      " training set -> batch:808 loss:0.2135288566350937 and acc: 0.914893627166748\n",
      "308/500 [=================>............] - ETA: 35:57 - loss: 0.2135 - accuracy: 0.9149\n",
      " training set -> batch:809 loss:0.21282926201820374 and acc: 0.9137930870056152\n",
      "309/500 [=================>............] - ETA: 35:45 - loss: 0.2128 - accuracy: 0.9138\n",
      " training set -> batch:810 loss:0.22324661910533905 and acc: 0.9102349281311035\n",
      "310/500 [=================>............] - ETA: 35:33 - loss: 0.2232 - accuracy: 0.9102\n",
      " training set -> batch:811 loss:0.22200408577919006 and acc: 0.9109477400779724\n",
      "311/500 [=================>............] - ETA: 35:21 - loss: 0.2220 - accuracy: 0.9109\n",
      " training set -> batch:812 loss:0.21961945295333862 and acc: 0.9116241931915283\n",
      "312/500 [=================>............] - ETA: 35:08 - loss: 0.2196 - accuracy: 0.9116\n",
      " training set -> batch:813 loss:0.22233134508132935 and acc: 0.9114906787872314\n",
      "313/500 [=================>............] - ETA: 34:56 - loss: 0.2223 - accuracy: 0.9115\n",
      " training set -> batch:814 loss:0.21847757697105408 and acc: 0.9128788113594055\n",
      "314/500 [=================>............] - ETA: 34:44 - loss: 0.2185 - accuracy: 0.9129\n",
      " training set -> batch:815 loss:0.2217613160610199 and acc: 0.9112426042556763\n",
      "315/500 [=================>............] - ETA: 34:32 - loss: 0.2218 - accuracy: 0.9112\n",
      " training set -> batch:816 loss:0.21613642573356628 and acc: 0.913294792175293\n",
      "316/500 [=================>............] - ETA: 34:20 - loss: 0.2161 - accuracy: 0.9133\n",
      " training set -> batch:817 loss:0.21469053626060486 and acc: 0.9138417840003967\n",
      "317/500 [==================>...........] - ETA: 34:08 - loss: 0.2147 - accuracy: 0.9138\n",
      " training set -> batch:818 loss:0.21771159768104553 and acc: 0.9129834175109863\n",
      "318/500 [==================>...........] - ETA: 33:56 - loss: 0.2177 - accuracy: 0.9130\n",
      " training set -> batch:819 loss:0.21924170851707458 and acc: 0.912162184715271\n",
      "319/500 [==================>...........] - ETA: 33:44 - loss: 0.2192 - accuracy: 0.9122\n",
      " training set -> batch:820 loss:0.22066351771354675 and acc: 0.9120370149612427\n",
      "320/500 [==================>...........] - ETA: 33:31 - loss: 0.2207 - accuracy: 0.9120\n",
      " training set -> batch:821 loss:0.22016866505146027 and acc: 0.912564754486084\n",
      "321/500 [==================>...........] - ETA: 33:19 - loss: 0.2202 - accuracy: 0.9126\n",
      " training set -> batch:822 loss:0.2245377153158188 and acc: 0.9118020534515381\n",
      "322/500 [==================>...........] - ETA: 33:07 - loss: 0.2245 - accuracy: 0.9118\n",
      " training set -> batch:823 loss:0.22600983083248138 and acc: 0.9104477763175964\n",
      "323/500 [==================>...........] - ETA: 32:55 - loss: 0.2260 - accuracy: 0.9104\n",
      " training set -> batch:824 loss:0.22554174065589905 and acc: 0.9109756350517273\n",
      "324/500 [==================>...........] - ETA: 32:43 - loss: 0.2255 - accuracy: 0.9110\n",
      " training set -> batch:825 loss:0.22428089380264282 and acc: 0.9114832282066345\n",
      "325/500 [==================>...........] - ETA: 32:31 - loss: 0.2243 - accuracy: 0.9115\n",
      " training set -> batch:826 loss:0.22027774155139923 and acc: 0.9131455421447754\n",
      "326/500 [==================>...........] - ETA: 32:19 - loss: 0.2203 - accuracy: 0.9131\n",
      " training set -> batch:827 loss:0.21826788783073425 and acc: 0.914170503616333\n",
      "327/500 [==================>...........] - ETA: 32:07 - loss: 0.2183 - accuracy: 0.9142\n",
      " training set -> batch:828 loss:0.2154516875743866 and acc: 0.9151583909988403\n",
      "328/500 [==================>...........] - ETA: 31:55 - loss: 0.2155 - accuracy: 0.9152\n",
      " training set -> batch:829 loss:0.2145053744316101 and acc: 0.9144444465637207\n",
      "329/500 [==================>...........] - ETA: 31:43 - loss: 0.2145 - accuracy: 0.9144\n",
      " training set -> batch:830 loss:0.22022920846939087 and acc: 0.9126637578010559\n",
      "330/500 [==================>...........] - ETA: 31:31 - loss: 0.2202 - accuracy: 0.9127\n",
      " training set -> batch:831 loss:0.21894480288028717 and acc: 0.9130901098251343\n",
      "331/500 [==================>...........] - ETA: 31:19 - loss: 0.2189 - accuracy: 0.9131\n",
      " training set -> batch:832 loss:0.2190830558538437 and acc: 0.9135020971298218\n",
      "332/500 [==================>...........] - ETA: 31:07 - loss: 0.2191 - accuracy: 0.9135\n",
      " training set -> batch:833 loss:0.2166219800710678 and acc: 0.9144191145896912\n",
      "333/500 [==================>...........] - ETA: 30:55 - loss: 0.2166 - accuracy: 0.9144\n",
      " training set -> batch:834 loss:0.21455778181552887 and acc: 0.9153061509132385\n",
      "334/500 [===================>..........] - ETA: 30:43 - loss: 0.2146 - accuracy: 0.9153\n",
      " training set -> batch:835 loss:0.21318091452121735 and acc: 0.9161646366119385\n",
      "335/500 [===================>..........] - ETA: 30:32 - loss: 0.2132 - accuracy: 0.9162\n",
      " training set -> batch:836 loss:0.21443133056163788 and acc: 0.915513813495636\n",
      "336/500 [===================>..........] - ETA: 30:20 - loss: 0.2144 - accuracy: 0.9155\n",
      " training set -> batch:837 loss:0.21218915283679962 and acc: 0.9163424372673035\n",
      "337/500 [===================>..........] - ETA: 30:08 - loss: 0.2122 - accuracy: 0.9163\n",
      " training set -> batch:838 loss:0.211141899228096 and acc: 0.9166666865348816\n",
      "338/500 [===================>..........] - ETA: 29:56 - loss: 0.2111 - accuracy: 0.9167\n",
      " training set -> batch:839 loss:0.20894502103328705 and acc: 0.9174528121948242\n",
      "339/500 [===================>..........] - ETA: 29:44 - loss: 0.2089 - accuracy: 0.9175\n",
      " training set -> batch:840 loss:0.20926664769649506 and acc: 0.917286217212677\n",
      "340/500 [===================>..........] - ETA: 29:32 - loss: 0.2093 - accuracy: 0.9173\n",
      " training set -> batch:841 loss:0.20883160829544067 and acc: 0.9171245694160461\n",
      "341/500 [===================>..........] - ETA: 29:21 - loss: 0.2088 - accuracy: 0.9171\n",
      " training set -> batch:842 loss:0.2093571573495865 and acc: 0.9174187779426575\n",
      "342/500 [===================>..........] - ETA: 29:09 - loss: 0.2094 - accuracy: 0.9174\n",
      " training set -> batch:843 loss:0.20985253155231476 and acc: 0.916814923286438\n",
      "343/500 [===================>..........] - ETA: 28:57 - loss: 0.2099 - accuracy: 0.9168\n",
      " training set -> batch:844 loss:0.21198081970214844 and acc: 0.9162280559539795\n",
      "344/500 [===================>..........] - ETA: 28:45 - loss: 0.2120 - accuracy: 0.9162\n",
      " training set -> batch:845 loss:0.21224172413349152 and acc: 0.9160899519920349\n",
      "345/500 [===================>..........] - ETA: 28:33 - loss: 0.2122 - accuracy: 0.9161\n",
      " training set -> batch:846 loss:0.2115592062473297 and acc: 0.9163822531700134\n",
      "346/500 [===================>..........] - ETA: 28:22 - loss: 0.2116 - accuracy: 0.9164\n",
      " training set -> batch:847 loss:0.20935703814029694 and acc: 0.9166666865348816\n",
      "347/500 [===================>..........] - ETA: 28:10 - loss: 0.2094 - accuracy: 0.9167\n",
      " training set -> batch:848 loss:0.21254383027553558 and acc: 0.9156976938247681\n",
      "348/500 [===================>..........] - ETA: 27:58 - loss: 0.2125 - accuracy: 0.9157\n",
      " training set -> batch:849 loss:0.21040765941143036 and acc: 0.9163934588432312\n",
      "349/500 [===================>..........] - ETA: 27:47 - loss: 0.2104 - accuracy: 0.9164\n",
      " training set -> batch:850 loss:0.2098202109336853 and acc: 0.9170712232589722\n",
      "\n",
      " validation set -> batch:850 val loss:0.22308865189552307 and val acc: 0.9094036817550659\n",
      "350/500 [====================>.........] - ETA: 28:15 - loss: 0.2098 - accuracy: 0.9171\n",
      " training set -> batch:851 loss:0.21342995762825012 and acc: 0.9115044474601746\n",
      "351/500 [====================>.........] - ETA: 28:02 - loss: 0.2134 - accuracy: 0.9115\n",
      " training set -> batch:852 loss:0.20931541919708252 and acc: 0.9134615659713745\n",
      "352/500 [====================>.........] - ETA: 27:50 - loss: 0.2093 - accuracy: 0.9135\n",
      " training set -> batch:853 loss:0.21637368202209473 and acc: 0.9121900796890259\n",
      "353/500 [====================>.........] - ETA: 27:38 - loss: 0.2164 - accuracy: 0.9122\n",
      " training set -> batch:854 loss:0.21265842020511627 and acc: 0.9120000004768372\n",
      "354/500 [====================>.........] - ETA: 27:26 - loss: 0.2127 - accuracy: 0.9120\n",
      " training set -> batch:855 loss:0.20948836207389832 and acc: 0.9127907156944275\n",
      "355/500 [====================>.........] - ETA: 27:14 - loss: 0.2095 - accuracy: 0.9128\n",
      " training set -> batch:856 loss:0.20955447852611542 and acc: 0.9125939607620239\n",
      "356/500 [====================>.........] - ETA: 27:02 - loss: 0.2096 - accuracy: 0.9126\n",
      " training set -> batch:857 loss:0.21257609128952026 and acc: 0.9096715450286865\n",
      "357/500 [====================>.........] - ETA: 26:50 - loss: 0.2126 - accuracy: 0.9097\n",
      " training set -> batch:858 loss:0.21170973777770996 and acc: 0.9104610085487366\n",
      "358/500 [====================>.........] - ETA: 26:39 - loss: 0.2117 - accuracy: 0.9105\n",
      " training set -> batch:859 loss:0.20877352356910706 and acc: 0.9112069010734558\n",
      "359/500 [====================>.........] - ETA: 26:27 - loss: 0.2088 - accuracy: 0.9112\n",
      " training set -> batch:860 loss:0.20992690324783325 and acc: 0.9110738039016724\n",
      "360/500 [====================>.........] - ETA: 26:15 - loss: 0.2099 - accuracy: 0.9111\n",
      " training set -> batch:861 loss:0.21326754987239838 and acc: 0.9109477400779724\n",
      "361/500 [====================>.........] - ETA: 26:03 - loss: 0.2133 - accuracy: 0.9109\n",
      " training set -> batch:862 loss:0.21590256690979004 and acc: 0.9108280539512634\n",
      "362/500 [====================>.........] - ETA: 25:51 - loss: 0.2159 - accuracy: 0.9108\n",
      " training set -> batch:863 loss:0.21516098082065582 and acc: 0.9114906787872314\n",
      "363/500 [====================>.........] - ETA: 25:39 - loss: 0.2152 - accuracy: 0.9115\n",
      " training set -> batch:864 loss:0.2137717753648758 and acc: 0.9113636612892151\n",
      "364/500 [====================>.........] - ETA: 25:27 - loss: 0.2138 - accuracy: 0.9114\n",
      " training set -> batch:865 loss:0.2115182876586914 and acc: 0.9127218723297119\n",
      "365/500 [====================>.........] - ETA: 25:15 - loss: 0.2115 - accuracy: 0.9127\n",
      " training set -> batch:866 loss:0.21043090522289276 and acc: 0.913294792175293\n",
      "366/500 [====================>.........] - ETA: 25:04 - loss: 0.2104 - accuracy: 0.9133\n",
      " training set -> batch:867 loss:0.2078389674425125 and acc: 0.9145480394363403\n",
      "367/500 [=====================>........] - ETA: 24:52 - loss: 0.2078 - accuracy: 0.9145\n",
      " training set -> batch:868 loss:0.20696069300174713 and acc: 0.9150552749633789\n",
      "368/500 [=====================>........] - ETA: 24:40 - loss: 0.2070 - accuracy: 0.9151\n",
      " training set -> batch:869 loss:0.20638880133628845 and acc: 0.9155405163764954\n",
      "369/500 [=====================>........] - ETA: 24:28 - loss: 0.2064 - accuracy: 0.9155\n",
      " training set -> batch:870 loss:0.2080325484275818 and acc: 0.9153439402580261\n",
      "370/500 [=====================>........] - ETA: 24:16 - loss: 0.2080 - accuracy: 0.9153\n",
      " training set -> batch:871 loss:0.2073258012533188 and acc: 0.9151554107666016\n",
      "371/500 [=====================>........] - ETA: 24:05 - loss: 0.2073 - accuracy: 0.9152\n",
      " training set -> batch:872 loss:0.20728959143161774 and acc: 0.9149746298789978\n",
      "372/500 [=====================>........] - ETA: 23:53 - loss: 0.2073 - accuracy: 0.9150\n",
      " training set -> batch:873 loss:0.204814612865448 and acc: 0.9160447716712952\n",
      "373/500 [=====================>........] - ETA: 23:41 - loss: 0.2048 - accuracy: 0.9160\n",
      " training set -> batch:874 loss:0.2061045914888382 and acc: 0.9170731902122498\n",
      "374/500 [=====================>........] - ETA: 23:29 - loss: 0.2061 - accuracy: 0.9171\n",
      " training set -> batch:875 loss:0.2061004340648651 and acc: 0.9168660044670105\n",
      "375/500 [=====================>........] - ETA: 23:18 - loss: 0.2061 - accuracy: 0.9169\n",
      " training set -> batch:876 loss:0.2068360149860382 and acc: 0.9166666865348816\n",
      "376/500 [=====================>........] - ETA: 23:06 - loss: 0.2068 - accuracy: 0.9167\n",
      " training set -> batch:877 loss:0.2044598013162613 and acc: 0.9176267385482788\n",
      "377/500 [=====================>........] - ETA: 22:54 - loss: 0.2045 - accuracy: 0.9176\n",
      " training set -> batch:878 loss:0.2056570053100586 and acc: 0.9168552160263062\n",
      "378/500 [=====================>........] - ETA: 22:43 - loss: 0.2057 - accuracy: 0.9169\n",
      " training set -> batch:879 loss:0.20364612340927124 and acc: 0.9172222018241882\n",
      "379/500 [=====================>........] - ETA: 22:31 - loss: 0.2036 - accuracy: 0.9172\n",
      " training set -> batch:880 loss:0.20577330887317657 and acc: 0.9181222915649414\n",
      "380/500 [=====================>........] - ETA: 22:19 - loss: 0.2058 - accuracy: 0.9181\n",
      " training set -> batch:881 loss:0.20688092708587646 and acc: 0.917382001876831\n",
      "381/500 [=====================>........] - ETA: 22:08 - loss: 0.2069 - accuracy: 0.9174\n",
      " training set -> batch:882 loss:0.20835012197494507 and acc: 0.9150843620300293\n",
      "382/500 [=====================>........] - ETA: 21:56 - loss: 0.2084 - accuracy: 0.9151\n",
      " training set -> batch:883 loss:0.20856718719005585 and acc: 0.9144191145896912\n",
      "383/500 [=====================>........] - ETA: 21:45 - loss: 0.2086 - accuracy: 0.9144\n",
      " training set -> batch:884 loss:0.20809060335159302 and acc: 0.9147959351539612\n",
      "384/500 [======================>.......] - ETA: 21:33 - loss: 0.2081 - accuracy: 0.9148\n",
      " training set -> batch:885 loss:0.20762628316879272 and acc: 0.9146586060523987\n",
      "385/500 [======================>.......] - ETA: 21:21 - loss: 0.2076 - accuracy: 0.9147\n",
      " training set -> batch:886 loss:0.20890679955482483 and acc: 0.9140316247940063\n",
      "386/500 [======================>.......] - ETA: 21:10 - loss: 0.2089 - accuracy: 0.9140\n",
      " training set -> batch:887 loss:0.20708851516246796 and acc: 0.9143968820571899\n",
      "387/500 [======================>.......] - ETA: 20:58 - loss: 0.2071 - accuracy: 0.9144\n",
      " training set -> batch:888 loss:0.20760758221149445 and acc: 0.913314163684845\n",
      "388/500 [======================>.......] - ETA: 20:46 - loss: 0.2076 - accuracy: 0.9133\n",
      " training set -> batch:889 loss:0.20637114346027374 and acc: 0.9136792421340942\n",
      "389/500 [======================>.......] - ETA: 20:35 - loss: 0.2064 - accuracy: 0.9137\n",
      " training set -> batch:890 loss:0.20663893222808838 and acc: 0.9144981503486633\n",
      "390/500 [======================>.......] - ETA: 20:23 - loss: 0.2066 - accuracy: 0.9145\n",
      " training set -> batch:891 loss:0.20466828346252441 and acc: 0.9152930378913879\n",
      "391/500 [======================>.......] - ETA: 20:12 - loss: 0.2047 - accuracy: 0.9153\n",
      " training set -> batch:892 loss:0.20326447486877441 and acc: 0.916064977645874\n",
      "392/500 [======================>.......] - ETA: 20:00 - loss: 0.2033 - accuracy: 0.9161\n",
      " training set -> batch:893 loss:0.20459412038326263 and acc: 0.9154804348945618\n",
      "393/500 [======================>.......] - ETA: 19:49 - loss: 0.2046 - accuracy: 0.9155\n",
      " training set -> batch:894 loss:0.20405709743499756 and acc: 0.9157894849777222\n",
      "394/500 [======================>.......] - ETA: 19:37 - loss: 0.2041 - accuracy: 0.9158\n",
      " training set -> batch:895 loss:0.20458224415779114 and acc: 0.9152249097824097\n",
      "395/500 [======================>.......] - ETA: 19:26 - loss: 0.2046 - accuracy: 0.9152\n",
      " training set -> batch:896 loss:0.20301960408687592 and acc: 0.9159556031227112\n",
      "396/500 [======================>.......] - ETA: 19:14 - loss: 0.2030 - accuracy: 0.9160\n",
      " training set -> batch:897 loss:0.2022344470024109 and acc: 0.9158248901367188\n",
      "397/500 [======================>.......] - ETA: 19:03 - loss: 0.2022 - accuracy: 0.9158\n",
      " training set -> batch:898 loss:0.2013990432024002 and acc: 0.9161129593849182\n",
      "398/500 [======================>.......] - ETA: 18:51 - loss: 0.2014 - accuracy: 0.9161\n",
      " training set -> batch:899 loss:0.20025697350502014 and acc: 0.9168033003807068\n",
      "399/500 [======================>.......] - ETA: 18:40 - loss: 0.2003 - accuracy: 0.9168\n",
      " training set -> batch:900 loss:0.20007111132144928 and acc: 0.9170712232589722\n",
      "\n",
      " validation set -> batch:900 val loss:0.24588905274868011 and val acc: 0.896789014339447\n",
      "400/500 [=======================>......] - ETA: 18:51 - loss: 0.2001 - accuracy: 0.9171\n",
      " training set -> batch:901 loss:0.2363480180501938 and acc: 0.8993362784385681\n",
      "401/500 [=======================>......] - ETA: 18:39 - loss: 0.2363 - accuracy: 0.8993\n",
      " training set -> batch:902 loss:0.23477427661418915 and acc: 0.8995726704597473\n",
      "402/500 [=======================>......] - ETA: 18:28 - loss: 0.2348 - accuracy: 0.8996\n",
      " training set -> batch:903 loss:0.23022431135177612 and acc: 0.9008264541625977\n",
      "403/500 [=======================>......] - ETA: 18:16 - loss: 0.2302 - accuracy: 0.9008\n",
      " training set -> batch:904 loss:0.23411686718463898 and acc: 0.8999999761581421\n",
      "404/500 [=======================>......] - ETA: 18:04 - loss: 0.2341 - accuracy: 0.9000\n",
      " training set -> batch:905 loss:0.22485189139842987 and acc: 0.9031007885932922\n",
      "405/500 [=======================>......] - ETA: 17:52 - loss: 0.2249 - accuracy: 0.9031\n",
      " training set -> batch:906 loss:0.2221977263689041 and acc: 0.9041353464126587\n",
      "406/500 [=======================>......] - ETA: 17:41 - loss: 0.2222 - accuracy: 0.9041\n",
      " training set -> batch:907 loss:0.23170198500156403 and acc: 0.9032846689224243\n",
      "407/500 [=======================>......] - ETA: 17:29 - loss: 0.2317 - accuracy: 0.9033\n",
      " training set -> batch:908 loss:0.22734814882278442 and acc: 0.9042553305625916\n",
      "408/500 [=======================>......] - ETA: 17:17 - loss: 0.2273 - accuracy: 0.9043\n",
      " training set -> batch:909 loss:0.22078464925289154 and acc: 0.9060344696044922\n",
      "409/500 [=======================>......] - ETA: 17:06 - loss: 0.2208 - accuracy: 0.9060\n",
      " training set -> batch:910 loss:0.21791915595531464 and acc: 0.9060402512550354\n",
      "410/500 [=======================>......] - ETA: 16:54 - loss: 0.2179 - accuracy: 0.9060\n",
      " training set -> batch:911 loss:0.21102818846702576 and acc: 0.9084967374801636\n",
      "411/500 [=======================>......] - ETA: 16:42 - loss: 0.2110 - accuracy: 0.9085\n",
      " training set -> batch:912 loss:0.21373340487480164 and acc: 0.9084395170211792\n",
      "412/500 [=======================>......] - ETA: 16:31 - loss: 0.2137 - accuracy: 0.9084\n",
      " training set -> batch:913 loss:0.21405550837516785 and acc: 0.9083850979804993\n",
      "413/500 [=======================>......] - ETA: 16:19 - loss: 0.2141 - accuracy: 0.9084\n",
      " training set -> batch:914 loss:0.20897971093654633 and acc: 0.9098485112190247\n",
      "414/500 [=======================>......] - ETA: 16:08 - loss: 0.2090 - accuracy: 0.9098\n",
      " training set -> batch:915 loss:0.20581187307834625 and acc: 0.9112426042556763\n",
      "415/500 [=======================>......] - ETA: 15:56 - loss: 0.2058 - accuracy: 0.9112\n",
      " training set -> batch:916 loss:0.20664431154727936 and acc: 0.9118497371673584\n",
      "416/500 [=======================>......] - ETA: 15:44 - loss: 0.2066 - accuracy: 0.9118\n",
      " training set -> batch:917 loss:0.20793560147285461 and acc: 0.9117231369018555\n",
      "417/500 [========================>.....] - ETA: 15:33 - loss: 0.2079 - accuracy: 0.9117\n",
      " training set -> batch:918 loss:0.2048046886920929 and acc: 0.9129834175109863\n",
      "418/500 [========================>.....] - ETA: 15:21 - loss: 0.2048 - accuracy: 0.9130\n",
      " training set -> batch:919 loss:0.20325921475887299 and acc: 0.9135135412216187\n",
      "419/500 [========================>.....] - ETA: 15:10 - loss: 0.2033 - accuracy: 0.9135\n",
      " training set -> batch:920 loss:0.2025907337665558 and acc: 0.9133597612380981\n",
      "420/500 [========================>.....] - ETA: 14:58 - loss: 0.2026 - accuracy: 0.9134\n",
      " training set -> batch:921 loss:0.2019074261188507 and acc: 0.9138600826263428\n",
      "421/500 [========================>.....] - ETA: 14:46 - loss: 0.2019 - accuracy: 0.9139\n",
      " training set -> batch:922 loss:0.20232024788856506 and acc: 0.913705587387085\n",
      "422/500 [========================>.....] - ETA: 14:35 - loss: 0.2023 - accuracy: 0.9137\n",
      " training set -> batch:923 loss:0.20578649640083313 and acc: 0.9129353165626526\n",
      "423/500 [========================>.....] - ETA: 14:23 - loss: 0.2058 - accuracy: 0.9129\n",
      " training set -> batch:924 loss:0.2050803154706955 and acc: 0.912804901599884\n",
      "424/500 [========================>.....] - ETA: 14:12 - loss: 0.2051 - accuracy: 0.9128\n",
      " training set -> batch:925 loss:0.20286236703395844 and acc: 0.9138755798339844\n",
      "425/500 [========================>.....] - ETA: 14:00 - loss: 0.2029 - accuracy: 0.9139\n",
      " training set -> batch:926 loss:0.1985255777835846 and acc: 0.9154929518699646\n",
      "426/500 [========================>.....] - ETA: 13:49 - loss: 0.1985 - accuracy: 0.9155\n",
      " training set -> batch:927 loss:0.19456912577152252 and acc: 0.9170507192611694\n",
      "427/500 [========================>.....] - ETA: 13:37 - loss: 0.1946 - accuracy: 0.9171\n",
      " training set -> batch:928 loss:0.19573548436164856 and acc: 0.9168552160263062\n",
      "428/500 [========================>.....] - ETA: 13:26 - loss: 0.1957 - accuracy: 0.9169\n",
      " training set -> batch:929 loss:0.19431427121162415 and acc: 0.9177777767181396\n",
      "429/500 [========================>.....] - ETA: 13:14 - loss: 0.1943 - accuracy: 0.9178\n",
      " training set -> batch:930 loss:0.1969783455133438 and acc: 0.9170305728912354\n",
      "430/500 [========================>.....] - ETA: 13:03 - loss: 0.1970 - accuracy: 0.9170\n",
      " training set -> batch:931 loss:0.1961139738559723 and acc: 0.917382001876831\n",
      "431/500 [========================>.....] - ETA: 12:52 - loss: 0.1961 - accuracy: 0.9174\n",
      " training set -> batch:932 loss:0.19423608481884003 and acc: 0.9177215099334717\n",
      "432/500 [========================>.....] - ETA: 12:40 - loss: 0.1942 - accuracy: 0.9177\n",
      " training set -> batch:933 loss:0.1938130259513855 and acc: 0.9180498123168945\n",
      "433/500 [========================>.....] - ETA: 12:29 - loss: 0.1938 - accuracy: 0.9180\n",
      " training set -> batch:934 loss:0.19177423417568207 and acc: 0.9188775420188904\n",
      "434/500 [=========================>....] - ETA: 12:17 - loss: 0.1918 - accuracy: 0.9189\n",
      " training set -> batch:935 loss:0.19101469218730927 and acc: 0.9196786880493164\n",
      "435/500 [=========================>....] - ETA: 12:06 - loss: 0.1910 - accuracy: 0.9197\n",
      " training set -> batch:936 loss:0.1970813125371933 and acc: 0.9189723134040833\n",
      "436/500 [=========================>....] - ETA: 11:54 - loss: 0.1971 - accuracy: 0.9190\n",
      " training set -> batch:937 loss:0.1998729705810547 and acc: 0.917801558971405\n",
      "437/500 [=========================>....] - ETA: 11:43 - loss: 0.1999 - accuracy: 0.9178\n",
      " training set -> batch:938 loss:0.1988416612148285 and acc: 0.9176245331764221\n",
      "438/500 [=========================>....] - ETA: 11:32 - loss: 0.1988 - accuracy: 0.9176\n",
      " training set -> batch:939 loss:0.20174337923526764 and acc: 0.9165094494819641\n",
      "439/500 [=========================>....] - ETA: 11:20 - loss: 0.2017 - accuracy: 0.9165\n",
      " training set -> batch:940 loss:0.2005470246076584 and acc: 0.917286217212677\n",
      "440/500 [=========================>....] - ETA: 11:09 - loss: 0.2005 - accuracy: 0.9173\n",
      " training set -> batch:941 loss:0.20149223506450653 and acc: 0.9171245694160461\n",
      "441/500 [=========================>....] - ETA: 10:57 - loss: 0.2015 - accuracy: 0.9171\n",
      " training set -> batch:942 loss:0.20609642565250397 and acc: 0.9156137108802795\n",
      "442/500 [=========================>....] - ETA: 10:46 - loss: 0.2061 - accuracy: 0.9156\n",
      " training set -> batch:943 loss:0.2060234397649765 and acc: 0.915035605430603\n",
      "443/500 [=========================>....] - ETA: 10:35 - loss: 0.2060 - accuracy: 0.9150\n",
      " training set -> batch:944 loss:0.20430338382720947 and acc: 0.9157894849777222\n",
      "444/500 [=========================>....] - ETA: 10:23 - loss: 0.2043 - accuracy: 0.9158\n",
      " training set -> batch:945 loss:0.2060985416173935 and acc: 0.9147923588752747\n",
      "445/500 [=========================>....] - ETA: 10:12 - loss: 0.2061 - accuracy: 0.9148\n",
      " training set -> batch:946 loss:0.2049088180065155 and acc: 0.9155290126800537\n",
      "446/500 [=========================>....] - ETA: 10:01 - loss: 0.2049 - accuracy: 0.9155\n",
      " training set -> batch:947 loss:0.20573605597019196 and acc: 0.9149831533432007\n",
      "447/500 [=========================>....] - ETA: 9:49 - loss: 0.2057 - accuracy: 0.9150 \n",
      " training set -> batch:948 loss:0.20433086156845093 and acc: 0.9156976938247681\n",
      "448/500 [=========================>....] - ETA: 9:38 - loss: 0.2043 - accuracy: 0.9157\n",
      " training set -> batch:949 loss:0.20549967885017395 and acc: 0.91557377576828\n",
      "449/500 [=========================>....] - ETA: 9:27 - loss: 0.2055 - accuracy: 0.9156\n",
      " training set -> batch:950 loss:0.20505371689796448 and acc: 0.9158576130867004\n",
      "\n",
      " validation set -> batch:950 val loss:0.2223077118396759 and val acc: 0.9059633016586304\n",
      "450/500 [==========================>...] - ETA: 9:26 - loss: 0.2051 - accuracy: 0.9159\n",
      " training set -> batch:951 loss:0.21248802542686462 and acc: 0.9092920422554016\n",
      "451/500 [==========================>...] - ETA: 9:14 - loss: 0.2125 - accuracy: 0.9093\n",
      " training set -> batch:952 loss:0.2030850499868393 and acc: 0.9113247990608215\n",
      "452/500 [==========================>...] - ETA: 9:02 - loss: 0.2031 - accuracy: 0.9113\n",
      " training set -> batch:953 loss:0.19625209271907806 and acc: 0.913223147392273\n",
      "453/500 [==========================>...] - ETA: 8:51 - loss: 0.1963 - accuracy: 0.9132\n",
      " training set -> batch:954 loss:0.19181080162525177 and acc: 0.9139999747276306\n",
      "454/500 [==========================>...] - ETA: 8:40 - loss: 0.1918 - accuracy: 0.9140\n",
      " training set -> batch:955 loss:0.1930704265832901 and acc: 0.9156976938247681\n",
      "455/500 [==========================>...] - ETA: 8:28 - loss: 0.1931 - accuracy: 0.9157\n",
      " training set -> batch:956 loss:0.19339466094970703 and acc: 0.9163534045219421\n",
      "456/500 [==========================>...] - ETA: 8:17 - loss: 0.1934 - accuracy: 0.9164\n",
      " training set -> batch:957 loss:0.1889413595199585 and acc: 0.9178832173347473\n",
      "457/500 [==========================>...] - ETA: 8:05 - loss: 0.1889 - accuracy: 0.9179\n",
      " training set -> batch:958 loss:0.18778105080127716 and acc: 0.9184397459030151\n",
      "458/500 [==========================>...] - ETA: 7:54 - loss: 0.1878 - accuracy: 0.9184\n",
      " training set -> batch:959 loss:0.19084171950817108 and acc: 0.9189655184745789\n",
      "459/500 [==========================>...] - ETA: 7:42 - loss: 0.1908 - accuracy: 0.9190\n",
      " training set -> batch:960 loss:0.19633112847805023 and acc: 0.9177852272987366\n",
      "460/500 [==========================>...] - ETA: 7:31 - loss: 0.1963 - accuracy: 0.9178\n",
      " training set -> batch:961 loss:0.19525155425071716 and acc: 0.9183006286621094\n",
      "461/500 [==========================>...] - ETA: 7:19 - loss: 0.1953 - accuracy: 0.9183\n",
      " training set -> batch:962 loss:0.1912117600440979 and acc: 0.9195860028266907\n",
      "462/500 [==========================>...] - ETA: 7:08 - loss: 0.1912 - accuracy: 0.9196\n",
      " training set -> batch:963 loss:0.1991109997034073 and acc: 0.91847825050354\n",
      "463/500 [==========================>...] - ETA: 6:56 - loss: 0.1991 - accuracy: 0.9185\n",
      " training set -> batch:964 loss:0.19557249546051025 and acc: 0.9196969866752625\n",
      "464/500 [==========================>...] - ETA: 6:45 - loss: 0.1956 - accuracy: 0.9197\n",
      " training set -> batch:965 loss:0.2013380378484726 and acc: 0.9171597361564636\n",
      "465/500 [==========================>...] - ETA: 6:34 - loss: 0.2013 - accuracy: 0.9172\n",
      " training set -> batch:966 loss:0.19804386794567108 and acc: 0.9183526039123535\n",
      "466/500 [==========================>...] - ETA: 6:22 - loss: 0.1980 - accuracy: 0.9184\n",
      " training set -> batch:967 loss:0.19696356356143951 and acc: 0.9194915294647217\n",
      "467/500 [===========================>..] - ETA: 6:11 - loss: 0.1970 - accuracy: 0.9195\n",
      " training set -> batch:968 loss:0.1961228996515274 and acc: 0.919889509677887\n",
      "468/500 [===========================>..] - ETA: 6:00 - loss: 0.1961 - accuracy: 0.9199\n",
      " training set -> batch:969 loss:0.19834952056407928 and acc: 0.9195945858955383\n",
      "469/500 [===========================>..] - ETA: 5:48 - loss: 0.1983 - accuracy: 0.9196\n",
      " training set -> batch:970 loss:0.19516387581825256 and acc: 0.920634925365448\n",
      "470/500 [===========================>..] - ETA: 5:37 - loss: 0.1952 - accuracy: 0.9206\n",
      " training set -> batch:971 loss:0.20253337919712067 and acc: 0.9203367829322815\n",
      "471/500 [===========================>..] - ETA: 5:25 - loss: 0.2025 - accuracy: 0.9203\n",
      " training set -> batch:972 loss:0.19999544322490692 and acc: 0.9213197827339172\n",
      "472/500 [===========================>..] - ETA: 5:14 - loss: 0.2000 - accuracy: 0.9213\n",
      " training set -> batch:973 loss:0.19625678658485413 and acc: 0.9228855967521667\n",
      "473/500 [===========================>..] - ETA: 5:03 - loss: 0.1963 - accuracy: 0.9229\n",
      " training set -> batch:974 loss:0.1948588788509369 and acc: 0.9237805008888245\n",
      "474/500 [===========================>..] - ETA: 4:51 - loss: 0.1949 - accuracy: 0.9238\n",
      " training set -> batch:975 loss:0.19359660148620605 and acc: 0.9246411323547363\n",
      "475/500 [===========================>..] - ETA: 4:40 - loss: 0.1936 - accuracy: 0.9246\n",
      " training set -> batch:976 loss:0.1915760338306427 and acc: 0.9254694581031799\n",
      "476/500 [===========================>..] - ETA: 4:29 - loss: 0.1916 - accuracy: 0.9255\n",
      " training set -> batch:977 loss:0.18910035490989685 and acc: 0.9262672662734985\n",
      "477/500 [===========================>..] - ETA: 4:18 - loss: 0.1891 - accuracy: 0.9263\n",
      " training set -> batch:978 loss:0.18687349557876587 and acc: 0.9270362257957458\n",
      "478/500 [===========================>..] - ETA: 4:06 - loss: 0.1869 - accuracy: 0.9270\n",
      " training set -> batch:979 loss:0.18994921445846558 and acc: 0.9266666769981384\n",
      "479/500 [===========================>..] - ETA: 3:55 - loss: 0.1899 - accuracy: 0.9267\n",
      " training set -> batch:980 loss:0.18841399252414703 and acc: 0.9274017214775085\n",
      "480/500 [===========================>..] - ETA: 3:44 - loss: 0.1884 - accuracy: 0.9274\n",
      " training set -> batch:981 loss:0.18889552354812622 and acc: 0.9281116127967834\n",
      "481/500 [===========================>..] - ETA: 3:32 - loss: 0.1889 - accuracy: 0.9281\n",
      " training set -> batch:982 loss:0.18802474439144135 and acc: 0.9282700419425964\n",
      "482/500 [===========================>..] - ETA: 3:21 - loss: 0.1880 - accuracy: 0.9283\n",
      " training set -> batch:983 loss:0.1867319494485855 and acc: 0.9289419054985046\n",
      "483/500 [===========================>..] - ETA: 3:10 - loss: 0.1867 - accuracy: 0.9289\n",
      " training set -> batch:984 loss:0.1856263428926468 and acc: 0.9295918345451355\n",
      "484/500 [============================>.] - ETA: 2:59 - loss: 0.1856 - accuracy: 0.9296\n",
      " training set -> batch:985 loss:0.1835891306400299 and acc: 0.930220901966095\n",
      "485/500 [============================>.] - ETA: 2:47 - loss: 0.1836 - accuracy: 0.9302\n",
      " training set -> batch:986 loss:0.1830993890762329 and acc: 0.9303359389305115\n",
      "486/500 [============================>.] - ETA: 2:36 - loss: 0.1831 - accuracy: 0.9303\n",
      " training set -> batch:987 loss:0.1833285540342331 and acc: 0.9304474592208862\n",
      "487/500 [============================>.] - ETA: 2:25 - loss: 0.1833 - accuracy: 0.9304\n",
      " training set -> batch:988 loss:0.18226505815982819 and acc: 0.9305555820465088\n",
      "488/500 [============================>.] - ETA: 2:14 - loss: 0.1823 - accuracy: 0.9306\n",
      " training set -> batch:989 loss:0.1825818121433258 and acc: 0.9306603670120239\n",
      "489/500 [============================>.] - ETA: 2:02 - loss: 0.1826 - accuracy: 0.9307\n",
      " training set -> batch:990 loss:0.1880238801240921 and acc: 0.9293680191040039\n",
      "490/500 [============================>.] - ETA: 1:51 - loss: 0.1880 - accuracy: 0.9294\n",
      " training set -> batch:991 loss:0.19177232682704926 and acc: 0.9285714030265808\n",
      "491/500 [============================>.] - ETA: 1:40 - loss: 0.1918 - accuracy: 0.9286\n",
      " training set -> batch:992 loss:0.19247552752494812 and acc: 0.9282491207122803\n",
      "492/500 [============================>.] - ETA: 1:29 - loss: 0.1925 - accuracy: 0.9282\n",
      " training set -> batch:993 loss:0.1916491538286209 and acc: 0.9279359579086304\n",
      "493/500 [============================>.] - ETA: 1:18 - loss: 0.1916 - accuracy: 0.9279\n",
      " training set -> batch:994 loss:0.19114674627780914 and acc: 0.9276315569877625\n",
      "494/500 [============================>.] - ETA: 1:06 - loss: 0.1911 - accuracy: 0.9276\n",
      " training set -> batch:995 loss:0.19292831420898438 and acc: 0.9269031286239624\n",
      "495/500 [============================>.] - ETA: 55s - loss: 0.1929 - accuracy: 0.9269 \n",
      " training set -> batch:996 loss:0.19265976548194885 and acc: 0.9270477890968323\n",
      "496/500 [============================>.] - ETA: 44s - loss: 0.1927 - accuracy: 0.9270\n",
      " training set -> batch:997 loss:0.1928708702325821 and acc: 0.9267676472663879\n",
      "497/500 [============================>.] - ETA: 33s - loss: 0.1929 - accuracy: 0.9268\n",
      " training set -> batch:998 loss:0.19523020088672638 and acc: 0.9256644248962402\n",
      "498/500 [============================>.] - ETA: 22s - loss: 0.1952 - accuracy: 0.9257\n",
      " training set -> batch:999 loss:0.19382193684577942 and acc: 0.9262295365333557\n",
      "499/500 [============================>.] - ETA: 11s - loss: 0.1938 - accuracy: 0.9262\n",
      " training set -> batch:1000 loss:0.19455385208129883 and acc: 0.9255663156509399\n",
      "\n",
      " validation set -> batch:1000 val loss:0.2384263575077057 and val acc: 0.9002293348312378\n",
      "500/500 [==============================] - 5710s 11s/step - loss: 0.1946 - accuracy: 0.9256 - val_loss: 0.2357 - val_accuracy: 0.9167\n",
      "\n",
      "execution time: 3:10:48\n"
     ]
    }
   ],
   "source": [
    "# time the function\n",
    "start_time = time.time()\n",
    "\n",
    "# making the transformation here since insude model.fit it create a lot of warnings\n",
    "data_train = data_feature_extraction(train_dataset, model.name)\n",
    "data_val = data_feature_extraction(valid_dataset, model.name)\n",
    "histories_per_step = History_per_step(data_val, 50)\n",
    "\n",
    "# train the model\n",
    "history = model.fit(data_train, \n",
    "                    epochs=2, \n",
    "                    steps_per_epoch=500,\n",
    "                    validation_data=data_val,\n",
    "                    validation_steps=3,\n",
    "                    callbacks=[tensorboard_callback,\n",
    "                               *checkpoint_callback,\n",
    "                               histories_per_step])\n",
    "\n",
    "# print execution time\n",
    "elapsed_time_secs = time.time() - start_time\n",
    "print('\\nexecution time: {}'.format(timedelta(seconds=round(elapsed_time_secs))))"
   ]
  },
  {
   "cell_type": "markdown",
   "metadata": {
    "Collapsed": "false"
   },
   "source": [
    "### Visualization"
   ]
  },
  {
   "cell_type": "code",
   "execution_count": 44,
   "metadata": {
    "Collapsed": "false"
   },
   "outputs": [],
   "source": [
    "plt.rcParams['figure.figsize'] = [15, 10]"
   ]
  },
  {
   "cell_type": "code",
   "execution_count": 45,
   "metadata": {
    "Collapsed": "false"
   },
   "outputs": [
    {
     "name": "stdout",
     "output_type": "stream",
     "text": [
      "Loss:\n",
      "  - loss [training dataset]: 0.195\n",
      "  - loss [validation dataset: 0.238\n",
      "\n",
      "Accuracy:\n",
      "  - accuracy [training dataset]: 92.56%\n",
      "  - accuracy [validation dataset: 90.02%\n"
     ]
    },
    {
     "data": {
      "image/png": "[encoded data removed]",
      "text/plain": [
       "<Figure size 900x300 with 2 Axes>"
      ]
     },
     "metadata": {
      "needs_background": "light"
     },
     "output_type": "display_data"
    }
   ],
   "source": [
    "mm.plot_acc_loss(steps_loss_train=histories_per_step.steps, loss_train=histories_per_step.losses,\n",
    "                 steps_acc_train=histories_per_step.steps, accuracy_train=histories_per_step.accuracies,\n",
    "                 steps_loss_eval=histories_per_step.val_steps, loss_eval=histories_per_step.val_losses,\n",
    "                 steps_acc_eval=histories_per_step.val_steps, accuracy_eval=histories_per_step.val_accuracies)"
   ]
  },
  {
   "cell_type": "markdown",
   "metadata": {
    "Collapsed": "false"
   },
   "source": [
    "### Get more information"
   ]
  },
  {
   "cell_type": "code",
   "execution_count": 46,
   "metadata": {
    "Collapsed": "false"
   },
   "outputs": [
    {
     "name": "stdout",
     "output_type": "stream",
     "text": [
      "[<tensorflow.python.keras.metrics.Mean object at 0x7f3eef1ca890>, <tensorflow.python.keras.metrics.SparseCategoricalAccuracy object at 0x7f3eecef6dd0>]\n",
      "['loss', 'accuracy']\n"
     ]
    }
   ],
   "source": [
    "print(model.metrics)\n",
    "print(model.metrics_names)"
   ]
  },
  {
   "cell_type": "code",
   "execution_count": 47,
   "metadata": {
    "Collapsed": "false"
   },
   "outputs": [
    {
     "data": {
      "text/plain": [
       "[0, 1]"
      ]
     },
     "execution_count": 47,
     "metadata": {},
     "output_type": "execute_result"
    }
   ],
   "source": [
    "history.epoch"
   ]
  },
  {
   "cell_type": "code",
   "execution_count": 48,
   "metadata": {
    "Collapsed": "false"
   },
   "outputs": [
    {
     "data": {
      "text/plain": [
       "{'verbose': 1, 'epochs': 2, 'steps': 500}"
      ]
     },
     "execution_count": 48,
     "metadata": {},
     "output_type": "execute_result"
    }
   ],
   "source": [
    "history.params"
   ]
  },
  {
   "cell_type": "code",
   "execution_count": 49,
   "metadata": {
    "Collapsed": "false"
   },
   "outputs": [
    {
     "data": {
      "text/plain": [
       "dict_keys(['loss', 'accuracy', 'val_loss', 'val_accuracy'])"
      ]
     },
     "execution_count": 49,
     "metadata": {},
     "output_type": "execute_result"
    }
   ],
   "source": [
    "history.history.keys()"
   ]
  },
  {
   "cell_type": "code",
   "execution_count": 50,
   "metadata": {
    "Collapsed": "false"
   },
   "outputs": [],
   "source": [
    "# dir(history)"
   ]
  },
  {
   "cell_type": "markdown",
   "metadata": {
    "Collapsed": "false"
   },
   "source": [
    "### Exploration of the model's structure"
   ]
  },
  {
   "cell_type": "code",
   "execution_count": 51,
   "metadata": {
    "Collapsed": "false"
   },
   "outputs": [
    {
     "data": {
      "image/png": "[encoded data removed]",
      "text/plain": [
       "<IPython.core.display.Image object>"
      ]
     },
     "execution_count": 51,
     "metadata": {},
     "output_type": "execute_result"
    }
   ],
   "source": [
    "tf.keras.utils.plot_model(model,\n",
    "                          'model.png',\n",
    "                          show_shapes=True)"
   ]
  },
  {
   "cell_type": "code",
   "execution_count": 52,
   "metadata": {
    "Collapsed": "false"
   },
   "outputs": [],
   "source": [
    "model.inputs"
   ]
  },
  {
   "cell_type": "code",
   "execution_count": 53,
   "metadata": {
    "Collapsed": "false"
   },
   "outputs": [],
   "source": [
    "model.outputs"
   ]
  },
  {
   "cell_type": "code",
   "execution_count": 54,
   "metadata": {
    "Collapsed": "false"
   },
   "outputs": [
    {
     "data": {
      "text/plain": [
       "[<transformers.modeling_tf_bert.TFBertMainLayer at 0x7f3f70d6d590>,\n",
       " <tensorflow.python.keras.layers.core.Dropout at 0x7f3ebf81dd90>,\n",
       " <tensorflow.python.keras.layers.core.Dense at 0x7f3eef1ca110>]"
      ]
     },
     "execution_count": 54,
     "metadata": {},
     "output_type": "execute_result"
    }
   ],
   "source": [
    "model.layers"
   ]
  },
  {
   "cell_type": "code",
   "execution_count": 55,
   "metadata": {
    "Collapsed": "false"
   },
   "outputs": [
    {
     "name": "stdout",
     "output_type": "stream",
     "text": [
      "bert [] []\n",
      "dropout_37 [] []\n",
      "classifier [] []\n"
     ]
    }
   ],
   "source": [
    "# _inbound_nodes and inbound_nodes give the same !\n",
    "# to see method available: dir(model.layers[2])\n",
    "for layer in model.layers:\n",
    "    print(layer.name, layer._inbound_nodes, layer._outbound_nodes)"
   ]
  },
  {
   "cell_type": "markdown",
   "metadata": {
    "Collapsed": "false"
   },
   "source": [
    "### Validation of the model"
   ]
  },
  {
   "cell_type": "markdown",
   "metadata": {
    "Collapsed": "false"
   },
   "source": [
    "#### Making prediction"
   ]
  },
  {
   "cell_type": "code",
   "execution_count": 56,
   "metadata": {
    "Collapsed": "false"
   },
   "outputs": [
    {
     "name": "stdout",
     "output_type": "stream",
     "text": [
      "standard model: tf_bert_classification\n"
     ]
    }
   ],
   "source": [
    "# get probablility for each classes\n",
    "if model.name=='custom_tf_bert_classification':\n",
    "        print('custom model: {}'.format(model.name))\n",
    "        y_pred = tf.nn.softmax(model.predict(valid_dataset))\n",
    "elif model.name=='tf_bert_classification':\n",
    "        print('standard model: {}'.format(model.name))\n",
    "        y_pred = tf.squeeze(tf.nn.softmax(model.predict(valid_dataset)))"
   ]
  },
  {
   "cell_type": "code",
   "execution_count": 57,
   "metadata": {
    "Collapsed": "false"
   },
   "outputs": [
    {
     "data": {
      "text/plain": [
       "TensorShape([872, 2])"
      ]
     },
     "execution_count": 57,
     "metadata": {},
     "output_type": "execute_result"
    }
   ],
   "source": [
    "y_pred.shape"
   ]
  },
  {
   "cell_type": "code",
   "execution_count": 58,
   "metadata": {
    "Collapsed": "false"
   },
   "outputs": [],
   "source": [
    "# get predicted classes\n",
    "y_pred_argmax = tf.math.argmax(y_pred, axis=1)        "
   ]
  },
  {
   "cell_type": "code",
   "execution_count": 59,
   "metadata": {
    "Collapsed": "false"
   },
   "outputs": [
    {
     "data": {
      "text/plain": [
       "TensorShape([872])"
      ]
     },
     "execution_count": 59,
     "metadata": {},
     "output_type": "execute_result"
    }
   ],
   "source": [
    "(y_pred_argmax).shape"
   ]
  },
  {
   "cell_type": "markdown",
   "metadata": {
    "Collapsed": "false"
   },
   "source": [
    "#### Extracting true classes"
   ]
  },
  {
   "cell_type": "code",
   "execution_count": 60,
   "metadata": {
    "Collapsed": "false"
   },
   "outputs": [],
   "source": [
    "# extracting and flatten true classes\n",
    "y_true_tf=valid_dataset.map(pp.label_extraction).flat_map(lambda x: valid_dataset.from_tensor_slices(x))"
   ]
  },
  {
   "cell_type": "code",
   "execution_count": 61,
   "metadata": {
    "Collapsed": "false"
   },
   "outputs": [],
   "source": [
    "y_true=list(y_true_tf.as_numpy_iterator())"
   ]
  },
  {
   "cell_type": "code",
   "execution_count": 62,
   "metadata": {
    "Collapsed": "false"
   },
   "outputs": [
    {
     "data": {
      "text/plain": [
       "(872, 872)"
      ]
     },
     "execution_count": 62,
     "metadata": {},
     "output_type": "execute_result"
    }
   ],
   "source": [
    "len(y_true), len(y_pred_argmax)"
   ]
  },
  {
   "cell_type": "markdown",
   "metadata": {
    "Collapsed": "false"
   },
   "source": [
    "#### Model performanes"
   ]
  },
  {
   "cell_type": "code",
   "execution_count": 63,
   "metadata": {
    "Collapsed": "false"
   },
   "outputs": [
    {
     "name": "stdout",
     "output_type": "stream",
     "text": [
      "              precision    recall  f1-score   support\n",
      "\n",
      "    negative       0.90      0.90      0.90       428\n",
      "    positive       0.90      0.90      0.90       444\n",
      "\n",
      "    accuracy                           0.90       872\n",
      "   macro avg       0.90      0.90      0.90       872\n",
      "weighted avg       0.90      0.90      0.90       872\n",
      "\n"
     ]
    }
   ],
   "source": [
    "print(classification_report(y_true, y_pred_argmax, target_names=info.features[\"label\"].names))"
   ]
  },
  {
   "cell_type": "code",
   "execution_count": 64,
   "metadata": {
    "Collapsed": "false"
   },
   "outputs": [
    {
     "name": "stdout",
     "output_type": "stream",
     "text": [
      "Model performance on the  dataset:\n",
      "   Metric             \n",
      "accuracy...........   0.9002\n",
      "recall.............   0.8986\n",
      "auc................   0.9003\n",
      "precision (p=0.5)..   0.9048\n",
      "precision (avg)....   0.8647\n",
      "precision (micro)..   0.9002\n",
      "precision (macro)..   0.9002\n",
      "f1.................    0.9017\n",
      "r2.................    0.6008\n"
     ]
    }
   ],
   "source": [
    "mm.print_metrics(y_true, y_pred_argmax, mode='')"
   ]
  },
  {
   "cell_type": "markdown",
   "metadata": {
    "Collapsed": "false"
   },
   "source": [
    "#### Confusion matrix"
   ]
  },
  {
   "cell_type": "code",
   "execution_count": 65,
   "metadata": {
    "Collapsed": "false"
   },
   "outputs": [],
   "source": [
    "plt.rcParams['figure.figsize'] = [10, 7]"
   ]
  },
  {
   "cell_type": "code",
   "execution_count": 66,
   "metadata": {
    "Collapsed": "false"
   },
   "outputs": [
    {
     "data": {
      "image/png": "[encoded data removed]",
      "text/plain": [
       "<Figure size 720x504 with 2 Axes>"
      ]
     },
     "metadata": {
      "needs_background": "light"
     },
     "output_type": "display_data"
    }
   ],
   "source": [
    "mm.plot_confusion_matrix(confusion_matrix(y_true, y_pred_argmax), info.features[\"label\"].names)"
   ]
  },
  {
   "cell_type": "markdown",
   "metadata": {
    "Collapsed": "false"
   },
   "source": [
    "#### ROC curves"
   ]
  },
  {
   "cell_type": "code",
   "execution_count": 67,
   "metadata": {
    "Collapsed": "false"
   },
   "outputs": [
    {
     "data": {
      "image/png": "[encoded data removed]",
      "text/plain": [
       "<Figure size 720x576 with 1 Axes>"
      ]
     },
     "metadata": {
      "needs_background": "light"
     },
     "output_type": "display_data"
    },
    {
     "data": {
      "image/png": "[encoded data removed]",
      "text/plain": [
       "<Figure size 720x576 with 1 Axes>"
      ]
     },
     "metadata": {
      "needs_background": "light"
     },
     "output_type": "display_data"
    },
    {
     "data": {
      "image/png": "[encoded data removed]",
      "text/plain": [
       "<Figure size 720x576 with 1 Axes>"
      ]
     },
     "metadata": {
      "needs_background": "light"
     },
     "output_type": "display_data"
    }
   ],
   "source": [
    "mm.roc_curves(to_categorical(y_true), y_pred.numpy(), info.features[\"label\"].names)"
   ]
  }
 ],
 "metadata": {
  "kernelspec": {
   "display_name": "Python [conda env:env_test]",
   "language": "python",
   "name": "conda-env-env_test-py"
  },
  "language_info": {
   "codemirror_mode": {
    "name": "ipython",
    "version": 3
   },
   "file_extension": ".py",
   "mimetype": "text/x-python",
   "name": "python",
   "nbconvert_exporter": "python",
   "pygments_lexer": "ipython3",
   "version": "3.7.6"
  }
 },
 "nbformat": 4,
 "nbformat_minor": 4
}
