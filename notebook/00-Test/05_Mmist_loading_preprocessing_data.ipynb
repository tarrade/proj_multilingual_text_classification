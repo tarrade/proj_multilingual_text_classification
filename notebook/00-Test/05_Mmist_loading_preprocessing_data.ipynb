{
 "cells": [
  {
   "cell_type": "markdown",
   "metadata": {
    "Collapsed": "false"
   },
   "source": [
    "# Basics methods for training and prediction using Keras"
   ]
  },
  {
   "cell_type": "code",
   "execution_count": 1,
   "metadata": {
    "Collapsed": "false",
    "jupyter": {
     "source_hidden": true
    }
   },
   "outputs": [
    {
     "data": {
      "text/markdown": [
       "Environment variables that need to be defined:   \n",
       "`export DIR_PROJ=your_path_git_repository`  \n",
       "`export PYTHONPATH=$DIR_PROJ/src`  \n",
       "`export PATH_TENSORBOARD=your_path_tensorboard`  \n",
       "`export PATH_DATASETS=your_path_datasets`  \n",
       "`export PROJECT_ID=your_gcp_project_id`  \n",
       "`export BUCKET_NAME=your_gcp_gs_bucket_name`  \n",
       "`export REGION=your_region`  \n",
       "`export MODEL_DIR_ESTIMATOR_PATH=your_path_to_save_model` \n",
       "\n",
       "- Use local Jupyter Lab \n",
       "    - you need to have the `jupyter-notebook` Anaconda python environment created [link](local_jupyter_lab_installation.md) \n",
       "    - you need to have the `jupyter-notebook` Anaconda python environment activated [link](local_jupyter_lab_installation.md) \n",
       "    - then define the environment variables above (copy and paste) \n",
       "    - you need to have the `env_multilingual_class` Anaconda python environment created [link](local_jupyter_lab_installation.md)  \n",
       "    - start Jupyter Lab:  `jupyter lab` \n",
       "    - open a Jupyter Lab notebook from `notebook/` \n",
       "     - clone this repositiory: `git clone https://github.com/tarrade/proj_multilingual_text_classification.git`\n",
       "    - choose the proper Anaconda python environment:  `Python [conda env:env_multilingual_class]` [link](conda_env.md) \n",
       "    - clone this repositiory: `git clone https://github.com/tarrade/proj_multilingual_text_classification.git`\n",
       "\n",
       "\n",
       "- Use GCP Jupyter Lab \n",
       "    - Go on GCP\n",
       "    - open a Cloud Shell\n",
       "    - `ssh-keygen -t rsa -b 4096 -C firstName_lastName`\n",
       "    - `cp .ssh/id_rsa.pub .`\n",
       "    - use Cloud Editor to edit this file `id_rsa.pub` and copy the full content\n",
       "    - Go on Compute Engine -> Metadata\n",
       "    - Click SSH Keys\n",
       "    - Click Edit\n",
       "    - Click + Add item, copy the content of `id_rsa.pub`\n",
       "    - You should see firstName_lastName of the left\n",
       "    - Click Save\n",
       "    - you need to start a AI Platform instance \n",
       "    - open a Jupyter Lab terminal and got to `/home/gcp_user_name/`\n",
       "    - clone this repositiory: `git clone https://github.com/tarrade/proj_multilingual_text_classification.git`\n",
       "    - then `cd proj_multilingual_text_classification/`\n",
       "    - create the Anacond Python environment `conda env create -f env/environment.yml`\n",
       "    - create a file `config.sh` in `/home` with the following information: \n",
       "    ```\n",
       "    #!/bin/bash\n",
       "    \n",
       "    echo \"applying some configuration ...\"\n",
       "    git config --global user.email user_email\n",
       "    git config --global user.name user_name\n",
       "    git config --global credential.helper store\n",
       "        \n",
       "    # Add here the enviroment variables from above below\n",
       "    # [EDIT ME]\n",
       "    export DIR_PROJ=your_path_git_repository\n",
       "    export PYTHONPATH=$DIR_PROJ/src\n",
       "  \n",
       "    cd /home/gcp_user_name/\n",
       "    \n",
       "    conda activate env_multilingual_class\n",
       "\n",
       "    export PS1='\\[\\e[91m\\]\\u@:\\[\\e[32m\\]\\w\\[\\e[0m\\]$'\n",
       "    ```\n",
       "    - Got to AI Platform Notebook, select your instance and click \"Reset\".\n",
       "    - Wait and reshreh you Web browser with the Notebook\n"
      ],
      "text/plain": [
       "<IPython.core.display.Markdown object>"
      ]
     },
     "metadata": {},
     "output_type": "display_data"
    }
   ],
   "source": [
    "from IPython.display import display, Markdown\n",
    "with open('../../doc/env_variables_setup.md', 'r') as fh:\n",
    "    content = fh.read()\n",
    "display(Markdown(content))"
   ]
  },
  {
   "cell_type": "markdown",
   "metadata": {
    "Collapsed": "false"
   },
   "source": [
    "## Import packages"
   ]
  },
  {
   "cell_type": "code",
   "execution_count": 2,
   "metadata": {
    "Collapsed": "false"
   },
   "outputs": [],
   "source": [
    "import tensorflow as tf\n",
    "import tensorflow_datasets as tfds\n",
    "from tensorflow.python.data.ops import dataset_ops\n",
    "from absl import logging\n",
    "import os\n",
    "import numpy as np\n",
    "import matplotlib.pyplot"
   ]
  },
  {
   "cell_type": "markdown",
   "metadata": {
    "Collapsed": "false"
   },
   "source": [
    "## Define paths"
   ]
  },
  {
   "cell_type": "code",
   "execution_count": 3,
   "metadata": {
    "Collapsed": "false"
   },
   "outputs": [],
   "source": [
    "try:\n",
    "    data_dir=os.environ['PATH_DATASETS']\n",
    "except:\n",
    "    print('missing PATH_DATASETS')"
   ]
  },
  {
   "cell_type": "markdown",
   "metadata": {
    "Collapsed": "false"
   },
   "source": [
    "# Import local packages"
   ]
  },
  {
   "cell_type": "markdown",
   "metadata": {
    "Collapsed": "false"
   },
   "source": [
    "## Searching for Dataset"
   ]
  },
  {
   "cell_type": "code",
   "execution_count": 4,
   "metadata": {
    "Collapsed": "false"
   },
   "outputs": [
    {
     "data": {
      "text/plain": [
       "['abstract_reasoning',\n",
       " 'aeslc',\n",
       " 'aflw2k3d',\n",
       " 'amazon_us_reviews',\n",
       " 'arc',\n",
       " 'bair_robot_pushing_small',\n",
       " 'beans',\n",
       " 'big_patent',\n",
       " 'bigearthnet',\n",
       " 'billsum']"
      ]
     },
     "execution_count": 4,
     "metadata": {},
     "output_type": "execute_result"
    }
   ],
   "source": [
    "# see the list of available datasets from TF\n",
    "tfds.list_builders()[0:10]"
   ]
  },
  {
   "cell_type": "code",
   "execution_count": 5,
   "metadata": {
    "Collapsed": "false"
   },
   "outputs": [
    {
     "data": {
      "text/plain": [
       "155"
      ]
     },
     "execution_count": 5,
     "metadata": {},
     "output_type": "execute_result"
    }
   ],
   "source": [
    "# number of available datasets in TF\n",
    "len(tfds.list_builders())"
   ]
  },
  {
   "cell_type": "markdown",
   "metadata": {
    "Collapsed": "false"
   },
   "source": [
    "## Getting MNIST data"
   ]
  },
  {
   "cell_type": "code",
   "execution_count": 6,
   "metadata": {
    "Collapsed": "false"
   },
   "outputs": [],
   "source": [
    "# Setup logging verbosity\n",
    "logging.set_verbosity(logging.INFO)"
   ]
  },
  {
   "cell_type": "markdown",
   "metadata": {
    "Collapsed": "false"
   },
   "source": [
    "### Load dataset"
   ]
  },
  {
   "cell_type": "code",
   "execution_count": 7,
   "metadata": {
    "Collapsed": "false"
   },
   "outputs": [
    {
     "name": "stderr",
     "output_type": "stream",
     "text": [
      "INFO:absl:Overwrite dataset info from restored data version.\n",
      "INFO:absl:Field info.location from disk and from code do not match. Keeping the one from code.\n",
      "INFO:absl:Reusing dataset mnist (/Users/tarrade/tensorflow_datasets/mnist/3.0.0)\n",
      "INFO:absl:Constructing tf.data.Dataset for split None, from /Users/tarrade/tensorflow_datasets/mnist/3.0.0\n"
     ]
    }
   ],
   "source": [
    "# loading an example dataset whilst storing info about it in ds_info\n",
    "datasets, ds_info = tfds.load(name='mnist', with_info=True, as_supervised=True, data_dir=data_dir)"
   ]
  },
  {
   "cell_type": "markdown",
   "metadata": {
    "Collapsed": "false"
   },
   "source": [
    "### Get info about the dataset"
   ]
  },
  {
   "cell_type": "code",
   "execution_count": 8,
   "metadata": {
    "Collapsed": "false"
   },
   "outputs": [
    {
     "data": {
      "text/plain": [
       "tfds.core.DatasetInfo(\n",
       "    name='mnist',\n",
       "    version=3.0.0,\n",
       "    description='The MNIST database of handwritten digits.',\n",
       "    homepage='http://yann.lecun.com/exdb/mnist/',\n",
       "    features=FeaturesDict({\n",
       "        'image': Image(shape=(28, 28, 1), dtype=tf.uint8),\n",
       "        'label': ClassLabel(shape=(), dtype=tf.int64, num_classes=10),\n",
       "    }),\n",
       "    total_num_examples=70000,\n",
       "    splits={\n",
       "        'test': 10000,\n",
       "        'train': 60000,\n",
       "    },\n",
       "    supervised_keys=('image', 'label'),\n",
       "    citation=\"\"\"@article{lecun2010mnist,\n",
       "      title={MNIST handwritten digit database},\n",
       "      author={LeCun, Yann and Cortes, Corinna and Burges, CJ},\n",
       "      journal={ATT Labs [Online]. Available: http://yann. lecun. com/exdb/mnist},\n",
       "      volume={2},\n",
       "      year={2010}\n",
       "    }\"\"\",\n",
       "    redistribution_info=,\n",
       ")"
      ]
     },
     "execution_count": 8,
     "metadata": {},
     "output_type": "execute_result"
    }
   ],
   "source": [
    "ds_info"
   ]
  },
  {
   "cell_type": "code",
   "execution_count": 9,
   "metadata": {
    "Collapsed": "false"
   },
   "outputs": [
    {
     "data": {
      "text/plain": [
       "'mnist'"
      ]
     },
     "execution_count": 9,
     "metadata": {},
     "output_type": "execute_result"
    }
   ],
   "source": [
    "ds_info.name"
   ]
  },
  {
   "cell_type": "code",
   "execution_count": 10,
   "metadata": {
    "Collapsed": "false"
   },
   "outputs": [
    {
     "data": {
      "text/plain": [
       "FeaturesDict({\n",
       "    'image': Image(shape=(28, 28, 1), dtype=tf.uint8),\n",
       "    'label': ClassLabel(shape=(), dtype=tf.int64, num_classes=10),\n",
       "})"
      ]
     },
     "execution_count": 10,
     "metadata": {},
     "output_type": "execute_result"
    }
   ],
   "source": [
    "ds_info.features"
   ]
  },
  {
   "cell_type": "code",
   "execution_count": 11,
   "metadata": {
    "Collapsed": "false"
   },
   "outputs": [
    {
     "data": {
      "text/plain": [
       "10"
      ]
     },
     "execution_count": 11,
     "metadata": {},
     "output_type": "execute_result"
    }
   ],
   "source": [
    "ds_info.features[\"label\"].num_classes"
   ]
  },
  {
   "cell_type": "code",
   "execution_count": 12,
   "metadata": {
    "Collapsed": "false"
   },
   "outputs": [
    {
     "data": {
      "text/plain": [
       "['0', '1', '2', '3', '4', '5', '6', '7', '8', '9']"
      ]
     },
     "execution_count": 12,
     "metadata": {},
     "output_type": "execute_result"
    }
   ],
   "source": [
    "ds_info.features[\"label\"].names"
   ]
  },
  {
   "cell_type": "code",
   "execution_count": 13,
   "metadata": {
    "Collapsed": "false"
   },
   "outputs": [
    {
     "data": {
      "text/plain": [
       "60000"
      ]
     },
     "execution_count": 13,
     "metadata": {},
     "output_type": "execute_result"
    }
   ],
   "source": [
    "ds_info.splits['train'].num_examples"
   ]
  },
  {
   "cell_type": "code",
   "execution_count": 14,
   "metadata": {
    "Collapsed": "false"
   },
   "outputs": [
    {
     "data": {
      "text/plain": [
       "10000"
      ]
     },
     "execution_count": 14,
     "metadata": {},
     "output_type": "execute_result"
    }
   ],
   "source": [
    "ds_info.splits['test'].num_examples"
   ]
  },
  {
   "cell_type": "code",
   "execution_count": 15,
   "metadata": {
    "Collapsed": "false"
   },
   "outputs": [
    {
     "data": {
      "text/plain": [
       "FeaturesDict({\n",
       "    'image': Image(shape=(28, 28, 1), dtype=tf.uint8),\n",
       "    'label': ClassLabel(shape=(), dtype=tf.int64, num_classes=10),\n",
       "})"
      ]
     },
     "execution_count": 15,
     "metadata": {},
     "output_type": "execute_result"
    }
   ],
   "source": [
    "ds_info.features"
   ]
  },
  {
   "cell_type": "code",
   "execution_count": 16,
   "metadata": {
    "Collapsed": "false"
   },
   "outputs": [
    {
     "data": {
      "text/plain": [
       "ClassLabel(shape=(), dtype=tf.int64, num_classes=10)"
      ]
     },
     "execution_count": 16,
     "metadata": {},
     "output_type": "execute_result"
    }
   ],
   "source": [
    "ds_info.features['label']"
   ]
  },
  {
   "cell_type": "code",
   "execution_count": 17,
   "metadata": {
    "Collapsed": "false"
   },
   "outputs": [
    {
     "data": {
      "text/plain": [
       "<tfds.core.SplitInfo num_examples=10000>"
      ]
     },
     "execution_count": 17,
     "metadata": {},
     "output_type": "execute_result"
    }
   ],
   "source": [
    "ds_info.splits['test']"
   ]
  },
  {
   "cell_type": "code",
   "execution_count": 18,
   "metadata": {
    "Collapsed": "false"
   },
   "outputs": [
    {
     "data": {
      "text/plain": [
       "<tfds.core.SplitInfo num_examples=60000>"
      ]
     },
     "execution_count": 18,
     "metadata": {},
     "output_type": "execute_result"
    }
   ],
   "source": [
    "ds_info.splits['train']"
   ]
  },
  {
   "cell_type": "markdown",
   "metadata": {
    "Collapsed": "false"
   },
   "source": [
    "### Split train/test dataset"
   ]
  },
  {
   "cell_type": "code",
   "execution_count": 19,
   "metadata": {
    "Collapsed": "false"
   },
   "outputs": [
    {
     "data": {
      "text/plain": [
       "{'test': <DatasetV1Adapter shapes: ((28, 28, 1), ()), types: (tf.uint8, tf.int64)>,\n",
       " 'train': <DatasetV1Adapter shapes: ((28, 28, 1), ()), types: (tf.uint8, tf.int64)>}"
      ]
     },
     "execution_count": 19,
     "metadata": {},
     "output_type": "execute_result"
    }
   ],
   "source": [
    "datasets"
   ]
  },
  {
   "cell_type": "code",
   "execution_count": 20,
   "metadata": {
    "Collapsed": "false"
   },
   "outputs": [
    {
     "data": {
      "text/plain": [
       "dict_keys(['test', 'train'])"
      ]
     },
     "execution_count": 20,
     "metadata": {},
     "output_type": "execute_result"
    }
   ],
   "source": [
    "datasets.keys()"
   ]
  },
  {
   "cell_type": "code",
   "execution_count": 21,
   "metadata": {
    "Collapsed": "false"
   },
   "outputs": [],
   "source": [
    "mnist_train, mnist_test = datasets['train'], datasets['test']"
   ]
  },
  {
   "cell_type": "markdown",
   "metadata": {
    "Collapsed": "false"
   },
   "source": [
    "### Check dimension and type of the data"
   ]
  },
  {
   "cell_type": "code",
   "execution_count": 22,
   "metadata": {
    "Collapsed": "false"
   },
   "outputs": [
    {
     "data": {
      "text/plain": [
       "<DatasetV1Adapter shapes: ((28, 28, 1), ()), types: (tf.uint8, tf.int64)>"
      ]
     },
     "execution_count": 22,
     "metadata": {},
     "output_type": "execute_result"
    }
   ],
   "source": [
    "datasets['train']"
   ]
  },
  {
   "cell_type": "code",
   "execution_count": 23,
   "metadata": {
    "Collapsed": "false"
   },
   "outputs": [
    {
     "name": "stdout",
     "output_type": "stream",
     "text": [
      "WARNING:tensorflow:From <ipython-input-23-557e7034b00b>:2: DatasetV1.output_shapes (from tensorflow.python.data.ops.dataset_ops) is deprecated and will be removed in a future version.\n",
      "Instructions for updating:\n",
      "Use `tf.compat.v1.data.get_output_shapes(dataset)`.\n"
     ]
    },
    {
     "name": "stderr",
     "output_type": "stream",
     "text": [
      "WARNING:tensorflow:From <ipython-input-23-557e7034b00b>:2: DatasetV1.output_shapes (from tensorflow.python.data.ops.dataset_ops) is deprecated and will be removed in a future version.\n",
      "Instructions for updating:\n",
      "Use `tf.compat.v1.data.get_output_shapes(dataset)`.\n"
     ]
    },
    {
     "data": {
      "text/plain": [
       "(TensorShape([28, 28, 1]), TensorShape([]))"
      ]
     },
     "execution_count": 23,
     "metadata": {},
     "output_type": "execute_result"
    }
   ],
   "source": [
    "# old style\n",
    "datasets['train'].output_shapes"
   ]
  },
  {
   "cell_type": "code",
   "execution_count": 24,
   "metadata": {
    "Collapsed": "false"
   },
   "outputs": [
    {
     "name": "stdout",
     "output_type": "stream",
     "text": [
      "WARNING:tensorflow:From <ipython-input-24-e65aa567df40>:2: DatasetV1.output_types (from tensorflow.python.data.ops.dataset_ops) is deprecated and will be removed in a future version.\n",
      "Instructions for updating:\n",
      "Use `tf.compat.v1.data.get_output_types(dataset)`.\n"
     ]
    },
    {
     "name": "stderr",
     "output_type": "stream",
     "text": [
      "WARNING:tensorflow:From <ipython-input-24-e65aa567df40>:2: DatasetV1.output_types (from tensorflow.python.data.ops.dataset_ops) is deprecated and will be removed in a future version.\n",
      "Instructions for updating:\n",
      "Use `tf.compat.v1.data.get_output_types(dataset)`.\n"
     ]
    },
    {
     "data": {
      "text/plain": [
       "(tf.uint8, tf.int64)"
      ]
     },
     "execution_count": 24,
     "metadata": {},
     "output_type": "execute_result"
    }
   ],
   "source": [
    "# old style\n",
    "datasets['train'].output_types"
   ]
  },
  {
   "cell_type": "code",
   "execution_count": 25,
   "metadata": {
    "Collapsed": "false"
   },
   "outputs": [
    {
     "name": "stdout",
     "output_type": "stream",
     "text": [
      "WARNING:tensorflow:From <ipython-input-25-b5db64f016dd>:2: DatasetV1.output_classes (from tensorflow.python.data.ops.dataset_ops) is deprecated and will be removed in a future version.\n",
      "Instructions for updating:\n",
      "Use `tf.compat.v1.data.get_output_classes(dataset)`.\n"
     ]
    },
    {
     "name": "stderr",
     "output_type": "stream",
     "text": [
      "WARNING:tensorflow:From <ipython-input-25-b5db64f016dd>:2: DatasetV1.output_classes (from tensorflow.python.data.ops.dataset_ops) is deprecated and will be removed in a future version.\n",
      "Instructions for updating:\n",
      "Use `tf.compat.v1.data.get_output_classes(dataset)`.\n"
     ]
    },
    {
     "data": {
      "text/plain": [
       "(tensorflow.python.framework.ops.Tensor,\n",
       " tensorflow.python.framework.ops.Tensor)"
      ]
     },
     "execution_count": 25,
     "metadata": {},
     "output_type": "execute_result"
    }
   ],
   "source": [
    "# old style\n",
    "datasets['train'].output_classes"
   ]
  },
  {
   "cell_type": "code",
   "execution_count": 26,
   "metadata": {
    "Collapsed": "false"
   },
   "outputs": [
    {
     "data": {
      "text/plain": [
       "(TensorShape([28, 28, 1]), TensorShape([]))"
      ]
     },
     "execution_count": 26,
     "metadata": {},
     "output_type": "execute_result"
    }
   ],
   "source": [
    "# new way\n",
    "dataset_ops.get_legacy_output_shapes(datasets['train'])"
   ]
  },
  {
   "cell_type": "code",
   "execution_count": 27,
   "metadata": {
    "Collapsed": "false"
   },
   "outputs": [
    {
     "data": {
      "text/plain": [
       "(tf.uint8, tf.int64)"
      ]
     },
     "execution_count": 27,
     "metadata": {},
     "output_type": "execute_result"
    }
   ],
   "source": [
    "# new way\n",
    "dataset_ops.get_legacy_output_types(datasets['train'])"
   ]
  },
  {
   "cell_type": "code",
   "execution_count": 28,
   "metadata": {
    "Collapsed": "false"
   },
   "outputs": [
    {
     "data": {
      "text/plain": [
       "(tensorflow.python.framework.ops.Tensor,\n",
       " tensorflow.python.framework.ops.Tensor)"
      ]
     },
     "execution_count": 28,
     "metadata": {},
     "output_type": "execute_result"
    }
   ],
   "source": [
    "# new way\n",
    "dataset_ops.get_legacy_output_classes(datasets['train'])"
   ]
  },
  {
   "cell_type": "markdown",
   "metadata": {
    "Collapsed": "false"
   },
   "source": [
    "### Check data"
   ]
  },
  {
   "cell_type": "code",
   "execution_count": 29,
   "metadata": {
    "Collapsed": "false"
   },
   "outputs": [
    {
     "name": "stdout",
     "output_type": "stream",
     "text": [
      "(<tf.Tensor: shape=(28, 28, 1), dtype=uint8, numpy=\n",
      "array([[[  0],\n",
      "        [  0],\n",
      "        [  0],\n",
      "        [  0],\n",
      "        [  0],\n",
      "        [  0],\n",
      "        [  0],\n",
      "        [  0],\n",
      "        [  0],\n",
      "        [  0],\n",
      "        [  0],\n",
      "        [  0],\n",
      "        [  0],\n",
      "        [  0],\n",
      "        [  0],\n",
      "        [  0],\n",
      "        [  0],\n",
      "        [  0],\n",
      "        [  0],\n",
      "        [  0],\n",
      "        [  0],\n",
      "        [  0],\n",
      "        [  0],\n",
      "        [  0],\n",
      "        [  0],\n",
      "        [  0],\n",
      "        [  0],\n",
      "        [  0]],\n",
      "\n",
      "       [[  0],\n",
      "        [  0],\n",
      "        [  0],\n",
      "        [  0],\n",
      "        [  0],\n",
      "        [  0],\n",
      "        [  0],\n",
      "        [  0],\n",
      "        [  0],\n",
      "        [  0],\n",
      "        [  0],\n",
      "        [  0],\n",
      "        [  0],\n",
      "        [  0],\n",
      "        [  0],\n",
      "        [  0],\n",
      "        [  0],\n",
      "        [  0],\n",
      "        [  0],\n",
      "        [  0],\n",
      "        [  0],\n",
      "        [  0],\n",
      "        [  0],\n",
      "        [  0],\n",
      "        [  0],\n",
      "        [  0],\n",
      "        [  0],\n",
      "        [  0]],\n",
      "\n",
      "       [[  0],\n",
      "        [  0],\n",
      "        [  0],\n",
      "        [  0],\n",
      "        [  0],\n",
      "        [  0],\n",
      "        [  0],\n",
      "        [  0],\n",
      "        [  0],\n",
      "        [  0],\n",
      "        [  0],\n",
      "        [  0],\n",
      "        [  0],\n",
      "        [  0],\n",
      "        [  0],\n",
      "        [  0],\n",
      "        [  0],\n",
      "        [  0],\n",
      "        [  0],\n",
      "        [  0],\n",
      "        [  0],\n",
      "        [  0],\n",
      "        [  0],\n",
      "        [  0],\n",
      "        [  0],\n",
      "        [  0],\n",
      "        [  0],\n",
      "        [  0]],\n",
      "\n",
      "       [[  0],\n",
      "        [  0],\n",
      "        [  0],\n",
      "        [  0],\n",
      "        [  0],\n",
      "        [  0],\n",
      "        [  0],\n",
      "        [  0],\n",
      "        [  0],\n",
      "        [  0],\n",
      "        [  0],\n",
      "        [  0],\n",
      "        [  0],\n",
      "        [  0],\n",
      "        [  0],\n",
      "        [  0],\n",
      "        [  0],\n",
      "        [  0],\n",
      "        [  0],\n",
      "        [  0],\n",
      "        [  0],\n",
      "        [  0],\n",
      "        [  0],\n",
      "        [  0],\n",
      "        [  0],\n",
      "        [  0],\n",
      "        [  0],\n",
      "        [  0]],\n",
      "\n",
      "       [[  0],\n",
      "        [  0],\n",
      "        [  0],\n",
      "        [  0],\n",
      "        [  0],\n",
      "        [  0],\n",
      "        [  0],\n",
      "        [  0],\n",
      "        [  0],\n",
      "        [  0],\n",
      "        [  0],\n",
      "        [  0],\n",
      "        [  0],\n",
      "        [  0],\n",
      "        [  0],\n",
      "        [  0],\n",
      "        [  0],\n",
      "        [  0],\n",
      "        [  0],\n",
      "        [  0],\n",
      "        [  0],\n",
      "        [  0],\n",
      "        [  0],\n",
      "        [  0],\n",
      "        [  0],\n",
      "        [  0],\n",
      "        [  0],\n",
      "        [  0]],\n",
      "\n",
      "       [[  0],\n",
      "        [  0],\n",
      "        [  0],\n",
      "        [  0],\n",
      "        [  0],\n",
      "        [  0],\n",
      "        [  0],\n",
      "        [  0],\n",
      "        [  0],\n",
      "        [  0],\n",
      "        [  0],\n",
      "        [  0],\n",
      "        [  0],\n",
      "        [  0],\n",
      "        [  0],\n",
      "        [  0],\n",
      "        [  0],\n",
      "        [ 84],\n",
      "        [254],\n",
      "        [101],\n",
      "        [  0],\n",
      "        [  0],\n",
      "        [  0],\n",
      "        [  0],\n",
      "        [  0],\n",
      "        [  0],\n",
      "        [  0],\n",
      "        [  0]],\n",
      "\n",
      "       [[  0],\n",
      "        [  0],\n",
      "        [  0],\n",
      "        [  0],\n",
      "        [  0],\n",
      "        [  0],\n",
      "        [  0],\n",
      "        [  0],\n",
      "        [  0],\n",
      "        [  0],\n",
      "        [  0],\n",
      "        [  0],\n",
      "        [  0],\n",
      "        [  0],\n",
      "        [  0],\n",
      "        [  0],\n",
      "        [  0],\n",
      "        [174],\n",
      "        [253],\n",
      "        [119],\n",
      "        [  0],\n",
      "        [  0],\n",
      "        [  0],\n",
      "        [  0],\n",
      "        [  0],\n",
      "        [  0],\n",
      "        [  0],\n",
      "        [  0]],\n",
      "\n",
      "       [[  0],\n",
      "        [  0],\n",
      "        [  0],\n",
      "        [  0],\n",
      "        [  0],\n",
      "        [  0],\n",
      "        [  0],\n",
      "        [  0],\n",
      "        [  0],\n",
      "        [  0],\n",
      "        [  0],\n",
      "        [  0],\n",
      "        [  0],\n",
      "        [  0],\n",
      "        [  0],\n",
      "        [  0],\n",
      "        [ 31],\n",
      "        [247],\n",
      "        [202],\n",
      "        [ 29],\n",
      "        [  0],\n",
      "        [  0],\n",
      "        [  0],\n",
      "        [  0],\n",
      "        [  0],\n",
      "        [  0],\n",
      "        [  0],\n",
      "        [  0]],\n",
      "\n",
      "       [[  0],\n",
      "        [  0],\n",
      "        [  0],\n",
      "        [  0],\n",
      "        [  0],\n",
      "        [  0],\n",
      "        [  0],\n",
      "        [  0],\n",
      "        [  0],\n",
      "        [  1],\n",
      "        [  1],\n",
      "        [  0],\n",
      "        [  0],\n",
      "        [  0],\n",
      "        [  0],\n",
      "        [  0],\n",
      "        [141],\n",
      "        [253],\n",
      "        [168],\n",
      "        [  0],\n",
      "        [  0],\n",
      "        [  0],\n",
      "        [  0],\n",
      "        [  0],\n",
      "        [  0],\n",
      "        [  0],\n",
      "        [  0],\n",
      "        [  0]],\n",
      "\n",
      "       [[  0],\n",
      "        [  0],\n",
      "        [  0],\n",
      "        [  0],\n",
      "        [  0],\n",
      "        [  0],\n",
      "        [  0],\n",
      "        [  0],\n",
      "        [  0],\n",
      "        [ 66],\n",
      "        [208],\n",
      "        [ 56],\n",
      "        [  0],\n",
      "        [  0],\n",
      "        [  0],\n",
      "        [  0],\n",
      "        [186],\n",
      "        [253],\n",
      "        [120],\n",
      "        [  0],\n",
      "        [  0],\n",
      "        [  0],\n",
      "        [  0],\n",
      "        [  0],\n",
      "        [  0],\n",
      "        [  0],\n",
      "        [  0],\n",
      "        [  0]],\n",
      "\n",
      "       [[  0],\n",
      "        [  0],\n",
      "        [  0],\n",
      "        [  0],\n",
      "        [  0],\n",
      "        [  0],\n",
      "        [  0],\n",
      "        [  0],\n",
      "        [  0],\n",
      "        [ 57],\n",
      "        [253],\n",
      "        [119],\n",
      "        [  0],\n",
      "        [  0],\n",
      "        [  0],\n",
      "        [ 28],\n",
      "        [249],\n",
      "        [240],\n",
      "        [ 25],\n",
      "        [  0],\n",
      "        [  0],\n",
      "        [  0],\n",
      "        [  0],\n",
      "        [  0],\n",
      "        [  0],\n",
      "        [  0],\n",
      "        [  0],\n",
      "        [  0]],\n",
      "\n",
      "       [[  0],\n",
      "        [  0],\n",
      "        [  0],\n",
      "        [  0],\n",
      "        [  0],\n",
      "        [  0],\n",
      "        [  0],\n",
      "        [  0],\n",
      "        [  0],\n",
      "        [ 34],\n",
      "        [253],\n",
      "        [119],\n",
      "        [  0],\n",
      "        [  0],\n",
      "        [  0],\n",
      "        [109],\n",
      "        [254],\n",
      "        [197],\n",
      "        [  0],\n",
      "        [  0],\n",
      "        [  0],\n",
      "        [  0],\n",
      "        [  0],\n",
      "        [  0],\n",
      "        [  0],\n",
      "        [  0],\n",
      "        [  0],\n",
      "        [  0]],\n",
      "\n",
      "       [[  0],\n",
      "        [  0],\n",
      "        [  0],\n",
      "        [  0],\n",
      "        [  0],\n",
      "        [  0],\n",
      "        [  0],\n",
      "        [  0],\n",
      "        [  0],\n",
      "        [ 53],\n",
      "        [253],\n",
      "        [119],\n",
      "        [  0],\n",
      "        [  0],\n",
      "        [  0],\n",
      "        [135],\n",
      "        [254],\n",
      "        [133],\n",
      "        [  0],\n",
      "        [  0],\n",
      "        [  0],\n",
      "        [  0],\n",
      "        [  0],\n",
      "        [  0],\n",
      "        [  0],\n",
      "        [  0],\n",
      "        [  0],\n",
      "        [  0]],\n",
      "\n",
      "       [[  0],\n",
      "        [  0],\n",
      "        [  0],\n",
      "        [  0],\n",
      "        [  0],\n",
      "        [  0],\n",
      "        [  0],\n",
      "        [  0],\n",
      "        [  0],\n",
      "        [133],\n",
      "        [254],\n",
      "        [119],\n",
      "        [  0],\n",
      "        [  0],\n",
      "        [ 27],\n",
      "        [240],\n",
      "        [255],\n",
      "        [ 35],\n",
      "        [  0],\n",
      "        [  0],\n",
      "        [  0],\n",
      "        [  0],\n",
      "        [  0],\n",
      "        [  0],\n",
      "        [  0],\n",
      "        [  0],\n",
      "        [  0],\n",
      "        [  0]],\n",
      "\n",
      "       [[  0],\n",
      "        [  0],\n",
      "        [  0],\n",
      "        [  0],\n",
      "        [  0],\n",
      "        [  0],\n",
      "        [  0],\n",
      "        [  0],\n",
      "        [  7],\n",
      "        [235],\n",
      "        [253],\n",
      "        [208],\n",
      "        [151],\n",
      "        [169],\n",
      "        [215],\n",
      "        [253],\n",
      "        [206],\n",
      "        [  2],\n",
      "        [  0],\n",
      "        [  0],\n",
      "        [  0],\n",
      "        [  0],\n",
      "        [  0],\n",
      "        [  0],\n",
      "        [  0],\n",
      "        [  0],\n",
      "        [  0],\n",
      "        [  0]],\n",
      "\n",
      "       [[  0],\n",
      "        [  0],\n",
      "        [  0],\n",
      "        [  0],\n",
      "        [  0],\n",
      "        [  0],\n",
      "        [  0],\n",
      "        [  0],\n",
      "        [ 97],\n",
      "        [253],\n",
      "        [253],\n",
      "        [253],\n",
      "        [254],\n",
      "        [253],\n",
      "        [253],\n",
      "        [253],\n",
      "        [ 86],\n",
      "        [  0],\n",
      "        [  0],\n",
      "        [  0],\n",
      "        [  0],\n",
      "        [  0],\n",
      "        [  0],\n",
      "        [  0],\n",
      "        [  0],\n",
      "        [  0],\n",
      "        [  0],\n",
      "        [  0]],\n",
      "\n",
      "       [[  0],\n",
      "        [  0],\n",
      "        [  0],\n",
      "        [  0],\n",
      "        [  0],\n",
      "        [  0],\n",
      "        [  0],\n",
      "        [  0],\n",
      "        [150],\n",
      "        [244],\n",
      "        [145],\n",
      "        [119],\n",
      "        [101],\n",
      "        [ 82],\n",
      "        [253],\n",
      "        [253],\n",
      "        [ 14],\n",
      "        [  0],\n",
      "        [  0],\n",
      "        [  0],\n",
      "        [  0],\n",
      "        [  0],\n",
      "        [  0],\n",
      "        [  0],\n",
      "        [  0],\n",
      "        [  0],\n",
      "        [  0],\n",
      "        [  0]],\n",
      "\n",
      "       [[  0],\n",
      "        [  0],\n",
      "        [  0],\n",
      "        [  0],\n",
      "        [  0],\n",
      "        [  0],\n",
      "        [  0],\n",
      "        [  0],\n",
      "        [  0],\n",
      "        [  0],\n",
      "        [  0],\n",
      "        [  0],\n",
      "        [  0],\n",
      "        [ 84],\n",
      "        [254],\n",
      "        [172],\n",
      "        [  0],\n",
      "        [  0],\n",
      "        [  0],\n",
      "        [  0],\n",
      "        [  0],\n",
      "        [  0],\n",
      "        [  0],\n",
      "        [  0],\n",
      "        [  0],\n",
      "        [  0],\n",
      "        [  0],\n",
      "        [  0]],\n",
      "\n",
      "       [[  0],\n",
      "        [  0],\n",
      "        [  0],\n",
      "        [  0],\n",
      "        [  0],\n",
      "        [  0],\n",
      "        [  0],\n",
      "        [  0],\n",
      "        [  0],\n",
      "        [  0],\n",
      "        [  0],\n",
      "        [  0],\n",
      "        [  0],\n",
      "        [174],\n",
      "        [253],\n",
      "        [119],\n",
      "        [  0],\n",
      "        [  0],\n",
      "        [  0],\n",
      "        [  0],\n",
      "        [  0],\n",
      "        [  0],\n",
      "        [  0],\n",
      "        [  0],\n",
      "        [  0],\n",
      "        [  0],\n",
      "        [  0],\n",
      "        [  0]],\n",
      "\n",
      "       [[  0],\n",
      "        [  0],\n",
      "        [  0],\n",
      "        [  0],\n",
      "        [  0],\n",
      "        [  0],\n",
      "        [  0],\n",
      "        [  0],\n",
      "        [  0],\n",
      "        [  0],\n",
      "        [  0],\n",
      "        [  0],\n",
      "        [  0],\n",
      "        [237],\n",
      "        [252],\n",
      "        [ 56],\n",
      "        [  0],\n",
      "        [  0],\n",
      "        [  0],\n",
      "        [  0],\n",
      "        [  0],\n",
      "        [  0],\n",
      "        [  0],\n",
      "        [  0],\n",
      "        [  0],\n",
      "        [  0],\n",
      "        [  0],\n",
      "        [  0]],\n",
      "\n",
      "       [[  0],\n",
      "        [  0],\n",
      "        [  0],\n",
      "        [  0],\n",
      "        [  0],\n",
      "        [  0],\n",
      "        [  0],\n",
      "        [  0],\n",
      "        [  0],\n",
      "        [  0],\n",
      "        [  0],\n",
      "        [  0],\n",
      "        [ 50],\n",
      "        [241],\n",
      "        [182],\n",
      "        [  0],\n",
      "        [  0],\n",
      "        [  0],\n",
      "        [  0],\n",
      "        [  0],\n",
      "        [  0],\n",
      "        [  0],\n",
      "        [  0],\n",
      "        [  0],\n",
      "        [  0],\n",
      "        [  0],\n",
      "        [  0],\n",
      "        [  0]],\n",
      "\n",
      "       [[  0],\n",
      "        [  0],\n",
      "        [  0],\n",
      "        [  0],\n",
      "        [  0],\n",
      "        [  0],\n",
      "        [  0],\n",
      "        [  0],\n",
      "        [  0],\n",
      "        [  0],\n",
      "        [  0],\n",
      "        [  0],\n",
      "        [187],\n",
      "        [254],\n",
      "        [249],\n",
      "        [105],\n",
      "        [  0],\n",
      "        [  0],\n",
      "        [  0],\n",
      "        [  0],\n",
      "        [  0],\n",
      "        [  0],\n",
      "        [  0],\n",
      "        [  0],\n",
      "        [  0],\n",
      "        [  0],\n",
      "        [  0],\n",
      "        [  0]],\n",
      "\n",
      "       [[  0],\n",
      "        [  0],\n",
      "        [  0],\n",
      "        [  0],\n",
      "        [  0],\n",
      "        [  0],\n",
      "        [  0],\n",
      "        [  0],\n",
      "        [  0],\n",
      "        [  0],\n",
      "        [  0],\n",
      "        [  0],\n",
      "        [186],\n",
      "        [253],\n",
      "        [206],\n",
      "        [ 21],\n",
      "        [  0],\n",
      "        [  0],\n",
      "        [  0],\n",
      "        [  0],\n",
      "        [  0],\n",
      "        [  0],\n",
      "        [  0],\n",
      "        [  0],\n",
      "        [  0],\n",
      "        [  0],\n",
      "        [  0],\n",
      "        [  0]],\n",
      "\n",
      "       [[  0],\n",
      "        [  0],\n",
      "        [  0],\n",
      "        [  0],\n",
      "        [  0],\n",
      "        [  0],\n",
      "        [  0],\n",
      "        [  0],\n",
      "        [  0],\n",
      "        [  0],\n",
      "        [  0],\n",
      "        [  0],\n",
      "        [227],\n",
      "        [242],\n",
      "        [ 32],\n",
      "        [  0],\n",
      "        [  0],\n",
      "        [  0],\n",
      "        [  0],\n",
      "        [  0],\n",
      "        [  0],\n",
      "        [  0],\n",
      "        [  0],\n",
      "        [  0],\n",
      "        [  0],\n",
      "        [  0],\n",
      "        [  0],\n",
      "        [  0]],\n",
      "\n",
      "       [[  0],\n",
      "        [  0],\n",
      "        [  0],\n",
      "        [  0],\n",
      "        [  0],\n",
      "        [  0],\n",
      "        [  0],\n",
      "        [  0],\n",
      "        [  0],\n",
      "        [  0],\n",
      "        [  0],\n",
      "        [  0],\n",
      "        [236],\n",
      "        [219],\n",
      "        [  0],\n",
      "        [  0],\n",
      "        [  0],\n",
      "        [  0],\n",
      "        [  0],\n",
      "        [  0],\n",
      "        [  0],\n",
      "        [  0],\n",
      "        [  0],\n",
      "        [  0],\n",
      "        [  0],\n",
      "        [  0],\n",
      "        [  0],\n",
      "        [  0]],\n",
      "\n",
      "       [[  0],\n",
      "        [  0],\n",
      "        [  0],\n",
      "        [  0],\n",
      "        [  0],\n",
      "        [  0],\n",
      "        [  0],\n",
      "        [  0],\n",
      "        [  0],\n",
      "        [  0],\n",
      "        [  0],\n",
      "        [  0],\n",
      "        [  0],\n",
      "        [  0],\n",
      "        [  0],\n",
      "        [  0],\n",
      "        [  0],\n",
      "        [  0],\n",
      "        [  0],\n",
      "        [  0],\n",
      "        [  0],\n",
      "        [  0],\n",
      "        [  0],\n",
      "        [  0],\n",
      "        [  0],\n",
      "        [  0],\n",
      "        [  0],\n",
      "        [  0]],\n",
      "\n",
      "       [[  0],\n",
      "        [  0],\n",
      "        [  0],\n",
      "        [  0],\n",
      "        [  0],\n",
      "        [  0],\n",
      "        [  0],\n",
      "        [  0],\n",
      "        [  0],\n",
      "        [  0],\n",
      "        [  0],\n",
      "        [  0],\n",
      "        [  0],\n",
      "        [  0],\n",
      "        [  0],\n",
      "        [  0],\n",
      "        [  0],\n",
      "        [  0],\n",
      "        [  0],\n",
      "        [  0],\n",
      "        [  0],\n",
      "        [  0],\n",
      "        [  0],\n",
      "        [  0],\n",
      "        [  0],\n",
      "        [  0],\n",
      "        [  0],\n",
      "        [  0]],\n",
      "\n",
      "       [[  0],\n",
      "        [  0],\n",
      "        [  0],\n",
      "        [  0],\n",
      "        [  0],\n",
      "        [  0],\n",
      "        [  0],\n",
      "        [  0],\n",
      "        [  0],\n",
      "        [  0],\n",
      "        [  0],\n",
      "        [  0],\n",
      "        [  0],\n",
      "        [  0],\n",
      "        [  0],\n",
      "        [  0],\n",
      "        [  0],\n",
      "        [  0],\n",
      "        [  0],\n",
      "        [  0],\n",
      "        [  0],\n",
      "        [  0],\n",
      "        [  0],\n",
      "        [  0],\n",
      "        [  0],\n",
      "        [  0],\n",
      "        [  0],\n",
      "        [  0]]], dtype=uint8)>, <tf.Tensor: shape=(), dtype=int64, numpy=4>)\n"
     ]
    }
   ],
   "source": [
    "# tensorflow object\n",
    "for l in datasets['train']:\n",
    "    print(l)\n",
    "    break"
   ]
  },
  {
   "cell_type": "code",
   "execution_count": 30,
   "metadata": {
    "Collapsed": "false"
   },
   "outputs": [
    {
     "name": "stdout",
     "output_type": "stream",
     "text": [
      "(array([[[  0],\n",
      "        [  0],\n",
      "        [  0],\n",
      "        [  0],\n",
      "        [  0],\n",
      "        [  0],\n",
      "        [  0],\n",
      "        [  0],\n",
      "        [  0],\n",
      "        [  0],\n",
      "        [  0],\n",
      "        [  0],\n",
      "        [  0],\n",
      "        [  0],\n",
      "        [  0],\n",
      "        [  0],\n",
      "        [  0],\n",
      "        [  0],\n",
      "        [  0],\n",
      "        [  0],\n",
      "        [  0],\n",
      "        [  0],\n",
      "        [  0],\n",
      "        [  0],\n",
      "        [  0],\n",
      "        [  0],\n",
      "        [  0],\n",
      "        [  0]],\n",
      "\n",
      "       [[  0],\n",
      "        [  0],\n",
      "        [  0],\n",
      "        [  0],\n",
      "        [  0],\n",
      "        [  0],\n",
      "        [  0],\n",
      "        [  0],\n",
      "        [  0],\n",
      "        [  0],\n",
      "        [  0],\n",
      "        [  0],\n",
      "        [  0],\n",
      "        [  0],\n",
      "        [  0],\n",
      "        [  0],\n",
      "        [  0],\n",
      "        [  0],\n",
      "        [  0],\n",
      "        [  0],\n",
      "        [  0],\n",
      "        [  0],\n",
      "        [  0],\n",
      "        [  0],\n",
      "        [  0],\n",
      "        [  0],\n",
      "        [  0],\n",
      "        [  0]],\n",
      "\n",
      "       [[  0],\n",
      "        [  0],\n",
      "        [  0],\n",
      "        [  0],\n",
      "        [  0],\n",
      "        [  0],\n",
      "        [  0],\n",
      "        [  0],\n",
      "        [  0],\n",
      "        [  0],\n",
      "        [  0],\n",
      "        [  0],\n",
      "        [  0],\n",
      "        [  0],\n",
      "        [  0],\n",
      "        [  0],\n",
      "        [  0],\n",
      "        [  0],\n",
      "        [  0],\n",
      "        [  0],\n",
      "        [  0],\n",
      "        [  0],\n",
      "        [  0],\n",
      "        [  0],\n",
      "        [  0],\n",
      "        [  0],\n",
      "        [  0],\n",
      "        [  0]],\n",
      "\n",
      "       [[  0],\n",
      "        [  0],\n",
      "        [  0],\n",
      "        [  0],\n",
      "        [  0],\n",
      "        [  0],\n",
      "        [  0],\n",
      "        [  0],\n",
      "        [  0],\n",
      "        [  0],\n",
      "        [  0],\n",
      "        [  0],\n",
      "        [  0],\n",
      "        [  0],\n",
      "        [  0],\n",
      "        [  0],\n",
      "        [  0],\n",
      "        [  0],\n",
      "        [  0],\n",
      "        [  0],\n",
      "        [  0],\n",
      "        [  0],\n",
      "        [  0],\n",
      "        [  0],\n",
      "        [  0],\n",
      "        [  0],\n",
      "        [  0],\n",
      "        [  0]],\n",
      "\n",
      "       [[  0],\n",
      "        [  0],\n",
      "        [  0],\n",
      "        [  0],\n",
      "        [  0],\n",
      "        [  0],\n",
      "        [  0],\n",
      "        [  0],\n",
      "        [  0],\n",
      "        [  0],\n",
      "        [  0],\n",
      "        [  0],\n",
      "        [  0],\n",
      "        [  0],\n",
      "        [  0],\n",
      "        [  0],\n",
      "        [  0],\n",
      "        [  0],\n",
      "        [  0],\n",
      "        [  0],\n",
      "        [  0],\n",
      "        [  0],\n",
      "        [  0],\n",
      "        [  0],\n",
      "        [  0],\n",
      "        [  0],\n",
      "        [  0],\n",
      "        [  0]],\n",
      "\n",
      "       [[  0],\n",
      "        [  0],\n",
      "        [  0],\n",
      "        [  0],\n",
      "        [  0],\n",
      "        [  0],\n",
      "        [  0],\n",
      "        [  0],\n",
      "        [  0],\n",
      "        [  0],\n",
      "        [  0],\n",
      "        [  0],\n",
      "        [  0],\n",
      "        [  0],\n",
      "        [  0],\n",
      "        [  0],\n",
      "        [  0],\n",
      "        [ 84],\n",
      "        [254],\n",
      "        [101],\n",
      "        [  0],\n",
      "        [  0],\n",
      "        [  0],\n",
      "        [  0],\n",
      "        [  0],\n",
      "        [  0],\n",
      "        [  0],\n",
      "        [  0]],\n",
      "\n",
      "       [[  0],\n",
      "        [  0],\n",
      "        [  0],\n",
      "        [  0],\n",
      "        [  0],\n",
      "        [  0],\n",
      "        [  0],\n",
      "        [  0],\n",
      "        [  0],\n",
      "        [  0],\n",
      "        [  0],\n",
      "        [  0],\n",
      "        [  0],\n",
      "        [  0],\n",
      "        [  0],\n",
      "        [  0],\n",
      "        [  0],\n",
      "        [174],\n",
      "        [253],\n",
      "        [119],\n",
      "        [  0],\n",
      "        [  0],\n",
      "        [  0],\n",
      "        [  0],\n",
      "        [  0],\n",
      "        [  0],\n",
      "        [  0],\n",
      "        [  0]],\n",
      "\n",
      "       [[  0],\n",
      "        [  0],\n",
      "        [  0],\n",
      "        [  0],\n",
      "        [  0],\n",
      "        [  0],\n",
      "        [  0],\n",
      "        [  0],\n",
      "        [  0],\n",
      "        [  0],\n",
      "        [  0],\n",
      "        [  0],\n",
      "        [  0],\n",
      "        [  0],\n",
      "        [  0],\n",
      "        [  0],\n",
      "        [ 31],\n",
      "        [247],\n",
      "        [202],\n",
      "        [ 29],\n",
      "        [  0],\n",
      "        [  0],\n",
      "        [  0],\n",
      "        [  0],\n",
      "        [  0],\n",
      "        [  0],\n",
      "        [  0],\n",
      "        [  0]],\n",
      "\n",
      "       [[  0],\n",
      "        [  0],\n",
      "        [  0],\n",
      "        [  0],\n",
      "        [  0],\n",
      "        [  0],\n",
      "        [  0],\n",
      "        [  0],\n",
      "        [  0],\n",
      "        [  1],\n",
      "        [  1],\n",
      "        [  0],\n",
      "        [  0],\n",
      "        [  0],\n",
      "        [  0],\n",
      "        [  0],\n",
      "        [141],\n",
      "        [253],\n",
      "        [168],\n",
      "        [  0],\n",
      "        [  0],\n",
      "        [  0],\n",
      "        [  0],\n",
      "        [  0],\n",
      "        [  0],\n",
      "        [  0],\n",
      "        [  0],\n",
      "        [  0]],\n",
      "\n",
      "       [[  0],\n",
      "        [  0],\n",
      "        [  0],\n",
      "        [  0],\n",
      "        [  0],\n",
      "        [  0],\n",
      "        [  0],\n",
      "        [  0],\n",
      "        [  0],\n",
      "        [ 66],\n",
      "        [208],\n",
      "        [ 56],\n",
      "        [  0],\n",
      "        [  0],\n",
      "        [  0],\n",
      "        [  0],\n",
      "        [186],\n",
      "        [253],\n",
      "        [120],\n",
      "        [  0],\n",
      "        [  0],\n",
      "        [  0],\n",
      "        [  0],\n",
      "        [  0],\n",
      "        [  0],\n",
      "        [  0],\n",
      "        [  0],\n",
      "        [  0]],\n",
      "\n",
      "       [[  0],\n",
      "        [  0],\n",
      "        [  0],\n",
      "        [  0],\n",
      "        [  0],\n",
      "        [  0],\n",
      "        [  0],\n",
      "        [  0],\n",
      "        [  0],\n",
      "        [ 57],\n",
      "        [253],\n",
      "        [119],\n",
      "        [  0],\n",
      "        [  0],\n",
      "        [  0],\n",
      "        [ 28],\n",
      "        [249],\n",
      "        [240],\n",
      "        [ 25],\n",
      "        [  0],\n",
      "        [  0],\n",
      "        [  0],\n",
      "        [  0],\n",
      "        [  0],\n",
      "        [  0],\n",
      "        [  0],\n",
      "        [  0],\n",
      "        [  0]],\n",
      "\n",
      "       [[  0],\n",
      "        [  0],\n",
      "        [  0],\n",
      "        [  0],\n",
      "        [  0],\n",
      "        [  0],\n",
      "        [  0],\n",
      "        [  0],\n",
      "        [  0],\n",
      "        [ 34],\n",
      "        [253],\n",
      "        [119],\n",
      "        [  0],\n",
      "        [  0],\n",
      "        [  0],\n",
      "        [109],\n",
      "        [254],\n",
      "        [197],\n",
      "        [  0],\n",
      "        [  0],\n",
      "        [  0],\n",
      "        [  0],\n",
      "        [  0],\n",
      "        [  0],\n",
      "        [  0],\n",
      "        [  0],\n",
      "        [  0],\n",
      "        [  0]],\n",
      "\n",
      "       [[  0],\n",
      "        [  0],\n",
      "        [  0],\n",
      "        [  0],\n",
      "        [  0],\n",
      "        [  0],\n",
      "        [  0],\n",
      "        [  0],\n",
      "        [  0],\n",
      "        [ 53],\n",
      "        [253],\n",
      "        [119],\n",
      "        [  0],\n",
      "        [  0],\n",
      "        [  0],\n",
      "        [135],\n",
      "        [254],\n",
      "        [133],\n",
      "        [  0],\n",
      "        [  0],\n",
      "        [  0],\n",
      "        [  0],\n",
      "        [  0],\n",
      "        [  0],\n",
      "        [  0],\n",
      "        [  0],\n",
      "        [  0],\n",
      "        [  0]],\n",
      "\n",
      "       [[  0],\n",
      "        [  0],\n",
      "        [  0],\n",
      "        [  0],\n",
      "        [  0],\n",
      "        [  0],\n",
      "        [  0],\n",
      "        [  0],\n",
      "        [  0],\n",
      "        [133],\n",
      "        [254],\n",
      "        [119],\n",
      "        [  0],\n",
      "        [  0],\n",
      "        [ 27],\n",
      "        [240],\n",
      "        [255],\n",
      "        [ 35],\n",
      "        [  0],\n",
      "        [  0],\n",
      "        [  0],\n",
      "        [  0],\n",
      "        [  0],\n",
      "        [  0],\n",
      "        [  0],\n",
      "        [  0],\n",
      "        [  0],\n",
      "        [  0]],\n",
      "\n",
      "       [[  0],\n",
      "        [  0],\n",
      "        [  0],\n",
      "        [  0],\n",
      "        [  0],\n",
      "        [  0],\n",
      "        [  0],\n",
      "        [  0],\n",
      "        [  7],\n",
      "        [235],\n",
      "        [253],\n",
      "        [208],\n",
      "        [151],\n",
      "        [169],\n",
      "        [215],\n",
      "        [253],\n",
      "        [206],\n",
      "        [  2],\n",
      "        [  0],\n",
      "        [  0],\n",
      "        [  0],\n",
      "        [  0],\n",
      "        [  0],\n",
      "        [  0],\n",
      "        [  0],\n",
      "        [  0],\n",
      "        [  0],\n",
      "        [  0]],\n",
      "\n",
      "       [[  0],\n",
      "        [  0],\n",
      "        [  0],\n",
      "        [  0],\n",
      "        [  0],\n",
      "        [  0],\n",
      "        [  0],\n",
      "        [  0],\n",
      "        [ 97],\n",
      "        [253],\n",
      "        [253],\n",
      "        [253],\n",
      "        [254],\n",
      "        [253],\n",
      "        [253],\n",
      "        [253],\n",
      "        [ 86],\n",
      "        [  0],\n",
      "        [  0],\n",
      "        [  0],\n",
      "        [  0],\n",
      "        [  0],\n",
      "        [  0],\n",
      "        [  0],\n",
      "        [  0],\n",
      "        [  0],\n",
      "        [  0],\n",
      "        [  0]],\n",
      "\n",
      "       [[  0],\n",
      "        [  0],\n",
      "        [  0],\n",
      "        [  0],\n",
      "        [  0],\n",
      "        [  0],\n",
      "        [  0],\n",
      "        [  0],\n",
      "        [150],\n",
      "        [244],\n",
      "        [145],\n",
      "        [119],\n",
      "        [101],\n",
      "        [ 82],\n",
      "        [253],\n",
      "        [253],\n",
      "        [ 14],\n",
      "        [  0],\n",
      "        [  0],\n",
      "        [  0],\n",
      "        [  0],\n",
      "        [  0],\n",
      "        [  0],\n",
      "        [  0],\n",
      "        [  0],\n",
      "        [  0],\n",
      "        [  0],\n",
      "        [  0]],\n",
      "\n",
      "       [[  0],\n",
      "        [  0],\n",
      "        [  0],\n",
      "        [  0],\n",
      "        [  0],\n",
      "        [  0],\n",
      "        [  0],\n",
      "        [  0],\n",
      "        [  0],\n",
      "        [  0],\n",
      "        [  0],\n",
      "        [  0],\n",
      "        [  0],\n",
      "        [ 84],\n",
      "        [254],\n",
      "        [172],\n",
      "        [  0],\n",
      "        [  0],\n",
      "        [  0],\n",
      "        [  0],\n",
      "        [  0],\n",
      "        [  0],\n",
      "        [  0],\n",
      "        [  0],\n",
      "        [  0],\n",
      "        [  0],\n",
      "        [  0],\n",
      "        [  0]],\n",
      "\n",
      "       [[  0],\n",
      "        [  0],\n",
      "        [  0],\n",
      "        [  0],\n",
      "        [  0],\n",
      "        [  0],\n",
      "        [  0],\n",
      "        [  0],\n",
      "        [  0],\n",
      "        [  0],\n",
      "        [  0],\n",
      "        [  0],\n",
      "        [  0],\n",
      "        [174],\n",
      "        [253],\n",
      "        [119],\n",
      "        [  0],\n",
      "        [  0],\n",
      "        [  0],\n",
      "        [  0],\n",
      "        [  0],\n",
      "        [  0],\n",
      "        [  0],\n",
      "        [  0],\n",
      "        [  0],\n",
      "        [  0],\n",
      "        [  0],\n",
      "        [  0]],\n",
      "\n",
      "       [[  0],\n",
      "        [  0],\n",
      "        [  0],\n",
      "        [  0],\n",
      "        [  0],\n",
      "        [  0],\n",
      "        [  0],\n",
      "        [  0],\n",
      "        [  0],\n",
      "        [  0],\n",
      "        [  0],\n",
      "        [  0],\n",
      "        [  0],\n",
      "        [237],\n",
      "        [252],\n",
      "        [ 56],\n",
      "        [  0],\n",
      "        [  0],\n",
      "        [  0],\n",
      "        [  0],\n",
      "        [  0],\n",
      "        [  0],\n",
      "        [  0],\n",
      "        [  0],\n",
      "        [  0],\n",
      "        [  0],\n",
      "        [  0],\n",
      "        [  0]],\n",
      "\n",
      "       [[  0],\n",
      "        [  0],\n",
      "        [  0],\n",
      "        [  0],\n",
      "        [  0],\n",
      "        [  0],\n",
      "        [  0],\n",
      "        [  0],\n",
      "        [  0],\n",
      "        [  0],\n",
      "        [  0],\n",
      "        [  0],\n",
      "        [ 50],\n",
      "        [241],\n",
      "        [182],\n",
      "        [  0],\n",
      "        [  0],\n",
      "        [  0],\n",
      "        [  0],\n",
      "        [  0],\n",
      "        [  0],\n",
      "        [  0],\n",
      "        [  0],\n",
      "        [  0],\n",
      "        [  0],\n",
      "        [  0],\n",
      "        [  0],\n",
      "        [  0]],\n",
      "\n",
      "       [[  0],\n",
      "        [  0],\n",
      "        [  0],\n",
      "        [  0],\n",
      "        [  0],\n",
      "        [  0],\n",
      "        [  0],\n",
      "        [  0],\n",
      "        [  0],\n",
      "        [  0],\n",
      "        [  0],\n",
      "        [  0],\n",
      "        [187],\n",
      "        [254],\n",
      "        [249],\n",
      "        [105],\n",
      "        [  0],\n",
      "        [  0],\n",
      "        [  0],\n",
      "        [  0],\n",
      "        [  0],\n",
      "        [  0],\n",
      "        [  0],\n",
      "        [  0],\n",
      "        [  0],\n",
      "        [  0],\n",
      "        [  0],\n",
      "        [  0]],\n",
      "\n",
      "       [[  0],\n",
      "        [  0],\n",
      "        [  0],\n",
      "        [  0],\n",
      "        [  0],\n",
      "        [  0],\n",
      "        [  0],\n",
      "        [  0],\n",
      "        [  0],\n",
      "        [  0],\n",
      "        [  0],\n",
      "        [  0],\n",
      "        [186],\n",
      "        [253],\n",
      "        [206],\n",
      "        [ 21],\n",
      "        [  0],\n",
      "        [  0],\n",
      "        [  0],\n",
      "        [  0],\n",
      "        [  0],\n",
      "        [  0],\n",
      "        [  0],\n",
      "        [  0],\n",
      "        [  0],\n",
      "        [  0],\n",
      "        [  0],\n",
      "        [  0]],\n",
      "\n",
      "       [[  0],\n",
      "        [  0],\n",
      "        [  0],\n",
      "        [  0],\n",
      "        [  0],\n",
      "        [  0],\n",
      "        [  0],\n",
      "        [  0],\n",
      "        [  0],\n",
      "        [  0],\n",
      "        [  0],\n",
      "        [  0],\n",
      "        [227],\n",
      "        [242],\n",
      "        [ 32],\n",
      "        [  0],\n",
      "        [  0],\n",
      "        [  0],\n",
      "        [  0],\n",
      "        [  0],\n",
      "        [  0],\n",
      "        [  0],\n",
      "        [  0],\n",
      "        [  0],\n",
      "        [  0],\n",
      "        [  0],\n",
      "        [  0],\n",
      "        [  0]],\n",
      "\n",
      "       [[  0],\n",
      "        [  0],\n",
      "        [  0],\n",
      "        [  0],\n",
      "        [  0],\n",
      "        [  0],\n",
      "        [  0],\n",
      "        [  0],\n",
      "        [  0],\n",
      "        [  0],\n",
      "        [  0],\n",
      "        [  0],\n",
      "        [236],\n",
      "        [219],\n",
      "        [  0],\n",
      "        [  0],\n",
      "        [  0],\n",
      "        [  0],\n",
      "        [  0],\n",
      "        [  0],\n",
      "        [  0],\n",
      "        [  0],\n",
      "        [  0],\n",
      "        [  0],\n",
      "        [  0],\n",
      "        [  0],\n",
      "        [  0],\n",
      "        [  0]],\n",
      "\n",
      "       [[  0],\n",
      "        [  0],\n",
      "        [  0],\n",
      "        [  0],\n",
      "        [  0],\n",
      "        [  0],\n",
      "        [  0],\n",
      "        [  0],\n",
      "        [  0],\n",
      "        [  0],\n",
      "        [  0],\n",
      "        [  0],\n",
      "        [  0],\n",
      "        [  0],\n",
      "        [  0],\n",
      "        [  0],\n",
      "        [  0],\n",
      "        [  0],\n",
      "        [  0],\n",
      "        [  0],\n",
      "        [  0],\n",
      "        [  0],\n",
      "        [  0],\n",
      "        [  0],\n",
      "        [  0],\n",
      "        [  0],\n",
      "        [  0],\n",
      "        [  0]],\n",
      "\n",
      "       [[  0],\n",
      "        [  0],\n",
      "        [  0],\n",
      "        [  0],\n",
      "        [  0],\n",
      "        [  0],\n",
      "        [  0],\n",
      "        [  0],\n",
      "        [  0],\n",
      "        [  0],\n",
      "        [  0],\n",
      "        [  0],\n",
      "        [  0],\n",
      "        [  0],\n",
      "        [  0],\n",
      "        [  0],\n",
      "        [  0],\n",
      "        [  0],\n",
      "        [  0],\n",
      "        [  0],\n",
      "        [  0],\n",
      "        [  0],\n",
      "        [  0],\n",
      "        [  0],\n",
      "        [  0],\n",
      "        [  0],\n",
      "        [  0],\n",
      "        [  0]],\n",
      "\n",
      "       [[  0],\n",
      "        [  0],\n",
      "        [  0],\n",
      "        [  0],\n",
      "        [  0],\n",
      "        [  0],\n",
      "        [  0],\n",
      "        [  0],\n",
      "        [  0],\n",
      "        [  0],\n",
      "        [  0],\n",
      "        [  0],\n",
      "        [  0],\n",
      "        [  0],\n",
      "        [  0],\n",
      "        [  0],\n",
      "        [  0],\n",
      "        [  0],\n",
      "        [  0],\n",
      "        [  0],\n",
      "        [  0],\n",
      "        [  0],\n",
      "        [  0],\n",
      "        [  0],\n",
      "        [  0],\n",
      "        [  0],\n",
      "        [  0],\n",
      "        [  0]]], dtype=uint8), 4)\n"
     ]
    }
   ],
   "source": [
    "# get numpy array\n",
    "for element in datasets['train'].as_numpy_iterator(): \n",
    "    print(element) \n",
    "    break"
   ]
  },
  {
   "cell_type": "code",
   "execution_count": 31,
   "metadata": {
    "Collapsed": "false"
   },
   "outputs": [
    {
     "data": {
      "text/plain": [
       "(60000, 2)"
      ]
     },
     "execution_count": 31,
     "metadata": {},
     "output_type": "execute_result"
    }
   ],
   "source": [
    "# number of observations and labels\n",
    "np.shape(list(datasets['train'].as_numpy_iterator()))"
   ]
  },
  {
   "cell_type": "code",
   "execution_count": 32,
   "metadata": {
    "Collapsed": "false"
   },
   "outputs": [
    {
     "data": {
      "text/plain": [
       "(2,)"
      ]
     },
     "execution_count": 32,
     "metadata": {},
     "output_type": "execute_result"
    }
   ],
   "source": [
    "np.shape(list(datasets['train'].take(1).as_numpy_iterator())[0])"
   ]
  },
  {
   "cell_type": "code",
   "execution_count": 33,
   "metadata": {
    "Collapsed": "false"
   },
   "outputs": [
    {
     "data": {
      "text/plain": [
       "(28, 28, 1)"
      ]
     },
     "execution_count": 33,
     "metadata": {},
     "output_type": "execute_result"
    }
   ],
   "source": [
    "# size of the picture (28x28) and the index for colour dimension (1=greyscale)\n",
    "(list(datasets['train'].take(1).as_numpy_iterator())[0][0]).shape"
   ]
  },
  {
   "cell_type": "code",
   "execution_count": 34,
   "metadata": {
    "Collapsed": "false"
   },
   "outputs": [
    {
     "data": {
      "text/plain": [
       "dtype('uint8')"
      ]
     },
     "execution_count": 34,
     "metadata": {},
     "output_type": "execute_result"
    }
   ],
   "source": [
    "# data type of the shape (?)\n",
    "(list(datasets['train'].take(1).as_numpy_iterator())[0][0]).dtype"
   ]
  },
  {
   "cell_type": "code",
   "execution_count": 35,
   "metadata": {
    "Collapsed": "false"
   },
   "outputs": [
    {
     "data": {
      "text/plain": [
       "()"
      ]
     },
     "execution_count": 35,
     "metadata": {},
     "output_type": "execute_result"
    }
   ],
   "source": [
    "(list(datasets['train'].take(1).as_numpy_iterator())[0][1]).shape"
   ]
  },
  {
   "cell_type": "code",
   "execution_count": 36,
   "metadata": {
    "Collapsed": "false"
   },
   "outputs": [
    {
     "data": {
      "text/plain": [
       "dtype('int64')"
      ]
     },
     "execution_count": 36,
     "metadata": {},
     "output_type": "execute_result"
    }
   ],
   "source": [
    "(list(datasets['train'].take(1).as_numpy_iterator())[0][1]).dtype"
   ]
  },
  {
   "cell_type": "markdown",
   "metadata": {
    "Collapsed": "false"
   },
   "source": [
    "## Preparing and preprocessing the data"
   ]
  },
  {
   "cell_type": "markdown",
   "metadata": {
    "Collapsed": "false"
   },
   "source": [
    "### use tf.data to prepare and preprocess the data"
   ]
  },
  {
   "cell_type": "code",
   "execution_count": 37,
   "metadata": {
    "Collapsed": "false"
   },
   "outputs": [],
   "source": [
    "def scale(image, label):\n",
    "    image = tf.cast(image, tf.float32)\n",
    "    image /= 255\n",
    "    \n",
    "    return image, label"
   ]
  },
  {
   "cell_type": "code",
   "execution_count": 38,
   "metadata": {
    "Collapsed": "false"
   },
   "outputs": [],
   "source": [
    "# Define the model's hyperparameters\n",
    "STEPS_PER_EPOCH = 6\n",
    "BUFFER_SIZE = 10000\n",
    "BATCH_SIZE = 500\n",
    "NUM_EPOCHS = 25"
   ]
  },
  {
   "cell_type": "code",
   "execution_count": 39,
   "metadata": {
    "Collapsed": "false"
   },
   "outputs": [],
   "source": [
    "# repeat the training set\n",
    "train_data = mnist_train.repeat().map(scale).shuffle(BUFFER_SIZE).batch(BATCH_SIZE)\n",
    "# take the test set once\n",
    "test_data = mnist_test.map(scale).shuffle(BUFFER_SIZE).batch(BATCH_SIZE)"
   ]
  },
  {
   "cell_type": "markdown",
   "metadata": {
    "Collapsed": "false"
   },
   "source": [
    "### check the final dataset"
   ]
  },
  {
   "cell_type": "code",
   "execution_count": 40,
   "metadata": {
    "Collapsed": "false"
   },
   "outputs": [
    {
     "data": {
      "text/plain": [
       "20.0"
      ]
     },
     "execution_count": 40,
     "metadata": {},
     "output_type": "execute_result"
    }
   ],
   "source": [
    "# test dataset: 10'000 entries\n",
    "# each batch of data contains N example of data with N:\n",
    "10000/BATCH_SIZE"
   ]
  },
  {
   "cell_type": "code",
   "execution_count": 41,
   "metadata": {
    "Collapsed": "false"
   },
   "outputs": [
    {
     "data": {
      "text/plain": [
       "20"
      ]
     },
     "execution_count": 41,
     "metadata": {},
     "output_type": "execute_result"
    }
   ],
   "source": [
    "len(list(test_data.as_numpy_iterator()))"
   ]
  },
  {
   "cell_type": "code",
   "execution_count": 42,
   "metadata": {
    "Collapsed": "false"
   },
   "outputs": [
    {
     "data": {
      "text/plain": [
       "(500, 28, 28, 1)"
      ]
     },
     "execution_count": 42,
     "metadata": {},
     "output_type": "execute_result"
    }
   ],
   "source": [
    "# shape is enhanced by the size of the batches\n",
    "(list(test_data.as_numpy_iterator())[0][0]).shape"
   ]
  },
  {
   "cell_type": "code",
   "execution_count": 43,
   "metadata": {
    "Collapsed": "false"
   },
   "outputs": [
    {
     "data": {
      "text/plain": [
       "dtype('float32')"
      ]
     },
     "execution_count": 43,
     "metadata": {},
     "output_type": "execute_result"
    }
   ],
   "source": [
    "(list(test_data.as_numpy_iterator())[0][0]).dtype"
   ]
  },
  {
   "cell_type": "code",
   "execution_count": 44,
   "metadata": {
    "Collapsed": "false"
   },
   "outputs": [
    {
     "data": {
      "text/plain": [
       "(500,)"
      ]
     },
     "execution_count": 44,
     "metadata": {},
     "output_type": "execute_result"
    }
   ],
   "source": [
    "# size of the batch is now the new first entry\n",
    "(list(test_data.as_numpy_iterator())[0][1]).shape"
   ]
  },
  {
   "cell_type": "code",
   "execution_count": 45,
   "metadata": {
    "Collapsed": "false"
   },
   "outputs": [
    {
     "data": {
      "text/plain": [
       "dtype('int64')"
      ]
     },
     "execution_count": 45,
     "metadata": {},
     "output_type": "execute_result"
    }
   ],
   "source": [
    "(list(test_data.as_numpy_iterator())[0][1]).dtype"
   ]
  },
  {
   "cell_type": "code",
   "execution_count": 46,
   "metadata": {
    "Collapsed": "false"
   },
   "outputs": [],
   "source": [
    "import matplotlib.pyplot"
   ]
  },
  {
   "cell_type": "code",
   "execution_count": 47,
   "metadata": {
    "Collapsed": "false"
   },
   "outputs": [
    {
     "name": "stderr",
     "output_type": "stream",
     "text": [
      "INFO:absl:Overwrite dataset info from restored data version.\n",
      "INFO:absl:Field info.location from disk and from code do not match. Keeping the one from code.\n",
      "INFO:absl:Reusing dataset mnist (/Users/tarrade/tensorflow_datasets/mnist/3.0.0)\n",
      "INFO:absl:Constructing tf.data.Dataset for split test, from /Users/tarrade/tensorflow_datasets/mnist/3.0.0\n"
     ]
    },
    {
     "data": {
      "image/png": "[encoded data removed]",
      "text/plain": [
       "<Figure size 648x648 with 9 Axes>"
      ]
     },
     "metadata": {},
     "output_type": "display_data"
    }
   ],
   "source": [
    "ds_test, ds_test_info = tfds.load(\"mnist\", split=\"test\", with_info=True)\n",
    "# specific to a picture dataset\n",
    "fig = tfds.show_examples(ds_test_info, ds_test)"
   ]
  },
  {
   "cell_type": "markdown",
   "metadata": {
    "Collapsed": "false"
   },
   "source": [
    "## Getting Microsoft Research Paraphrase Corpus (MRPC) data"
   ]
  },
  {
   "cell_type": "code",
   "execution_count": 48,
   "metadata": {
    "Collapsed": "false"
   },
   "outputs": [
    {
     "name": "stderr",
     "output_type": "stream",
     "text": [
      "INFO:absl:Overwrite dataset info from restored data version.\n",
      "INFO:absl:Reusing dataset glue (/Users/tarrade/tensorflow_datasets/glue/mrpc/1.0.0)\n",
      "INFO:absl:Constructing tf.data.Dataset for split None, from /Users/tarrade/tensorflow_datasets/glue/mrpc/1.0.0\n"
     ]
    }
   ],
   "source": [
    "data, info = tfds.load('glue/mrpc', with_info=True,)"
   ]
  },
  {
   "cell_type": "code",
   "execution_count": 49,
   "metadata": {
    "Collapsed": "false"
   },
   "outputs": [
    {
     "data": {
      "text/plain": [
       "dict_keys(['test', 'train', 'validation'])"
      ]
     },
     "execution_count": 49,
     "metadata": {},
     "output_type": "execute_result"
    }
   ],
   "source": [
    "data.keys()"
   ]
  },
  {
   "cell_type": "code",
   "execution_count": 50,
   "metadata": {
    "Collapsed": "false"
   },
   "outputs": [
    {
     "data": {
      "text/plain": [
       "<DatasetV1Adapter shapes: {idx: (), label: (), sentence1: (), sentence2: ()}, types: {idx: tf.int32, label: tf.int64, sentence1: tf.string, sentence2: tf.string}>"
      ]
     },
     "execution_count": 50,
     "metadata": {},
     "output_type": "execute_result"
    }
   ],
   "source": [
    "data['train']"
   ]
  },
  {
   "cell_type": "code",
   "execution_count": 51,
   "metadata": {
    "Collapsed": "false"
   },
   "outputs": [
    {
     "data": {
      "text/plain": [
       "{'idx': TensorShape([]),\n",
       " 'label': TensorShape([]),\n",
       " 'sentence1': TensorShape([]),\n",
       " 'sentence2': TensorShape([])}"
      ]
     },
     "execution_count": 51,
     "metadata": {},
     "output_type": "execute_result"
    }
   ],
   "source": [
    "dataset_ops.get_legacy_output_shapes(data['train'])"
   ]
  },
  {
   "cell_type": "code",
   "execution_count": 52,
   "metadata": {
    "Collapsed": "false"
   },
   "outputs": [
    {
     "data": {
      "text/plain": [
       "{'idx': tf.int32,\n",
       " 'label': tf.int64,\n",
       " 'sentence1': tf.string,\n",
       " 'sentence2': tf.string}"
      ]
     },
     "execution_count": 52,
     "metadata": {},
     "output_type": "execute_result"
    }
   ],
   "source": [
    "dataset_ops.get_legacy_output_types(data['train'])"
   ]
  },
  {
   "cell_type": "code",
   "execution_count": 53,
   "metadata": {
    "Collapsed": "false"
   },
   "outputs": [
    {
     "data": {
      "text/plain": [
       "{'idx': tensorflow.python.framework.ops.Tensor,\n",
       " 'label': tensorflow.python.framework.ops.Tensor,\n",
       " 'sentence1': tensorflow.python.framework.ops.Tensor,\n",
       " 'sentence2': tensorflow.python.framework.ops.Tensor}"
      ]
     },
     "execution_count": 53,
     "metadata": {},
     "output_type": "execute_result"
    }
   ],
   "source": [
    "dataset_ops.get_legacy_output_classes(data['train'])"
   ]
  },
  {
   "cell_type": "code",
   "execution_count": 54,
   "metadata": {
    "Collapsed": "false"
   },
   "outputs": [
    {
     "name": "stdout",
     "output_type": "stream",
     "text": [
      "dict_keys(['idx', 'label', 'sentence1', 'sentence2'])\n",
      "{'idx': <tf.Tensor: shape=(), dtype=int32, numpy=1680>, 'label': <tf.Tensor: shape=(), dtype=int64, numpy=0>, 'sentence1': <tf.Tensor: shape=(), dtype=string, numpy=b'The identical rovers will act as robotic geologists , searching for evidence of past water .'>, 'sentence2': <tf.Tensor: shape=(), dtype=string, numpy=b'The rovers act as robotic geologists , moving on six wheels .'>}\n",
      "tf.Tensor(1680, shape=(), dtype=int32)\n",
      "tf.Tensor(0, shape=(), dtype=int64)\n",
      "tf.Tensor(b'The identical rovers will act as robotic geologists , searching for evidence of past water .', shape=(), dtype=string)\n"
     ]
    }
   ],
   "source": [
    "for l in data['train']:\n",
    "    print(l.keys())\n",
    "    print(l)\n",
    "    print(l['idx'])\n",
    "    print(l['label'])\n",
    "    print(l['sentence1'])\n",
    "    break"
   ]
  },
  {
   "cell_type": "code",
   "execution_count": 55,
   "metadata": {
    "Collapsed": "false"
   },
   "outputs": [
    {
     "name": "stdout",
     "output_type": "stream",
     "text": [
      "{'idx': 1680, 'label': 0, 'sentence1': b'The identical rovers will act as robotic geologists , searching for evidence of past water .', 'sentence2': b'The rovers act as robotic geologists , moving on six wheels .'}\n"
     ]
    }
   ],
   "source": [
    "# get numpy array\n",
    "for element in data['train'].as_numpy_iterator(): \n",
    "    print(element) \n",
    "    break"
   ]
  },
  {
   "cell_type": "code",
   "execution_count": 56,
   "metadata": {
    "Collapsed": "false"
   },
   "outputs": [
    {
     "data": {
      "text/plain": [
       "[{'idx': 1680,\n",
       "  'label': 0,\n",
       "  'sentence1': b'The identical rovers will act as robotic geologists , searching for evidence of past water .',\n",
       "  'sentence2': b'The rovers act as robotic geologists , moving on six wheels .'},\n",
       " {'idx': 1456,\n",
       "  'label': 0,\n",
       "  'sentence1': b\"Less than 20 percent of Boise 's sales would come from making lumber and paper after the OfficeMax purchase is completed .\",\n",
       "  'sentence2': b\"Less than 20 percent of Boise 's sales would come from making lumber and paper after the OfficeMax purchase is complete , assuming those businesses aren 't sold .\"},\n",
       " {'idx': 3017,\n",
       "  'label': 1,\n",
       "  'sentence1': b'Spider-Man snatched $ 114.7 million in its debut last year and went on to capture $ 403.7 million .',\n",
       "  'sentence2': b'Spider-Man , rated PG-13 , snatched $ 114.7 million in its first weekend and went on to take in $ 403.7 million .'}]"
      ]
     },
     "execution_count": 56,
     "metadata": {},
     "output_type": "execute_result"
    }
   ],
   "source": [
    "# take the first three entries\n",
    "# Note: this approach does not work when creating batches with iter(x.batch())\n",
    "list(data['train'].take(3).as_numpy_iterator())"
   ]
  },
  {
   "cell_type": "code",
   "execution_count": 57,
   "metadata": {
    "Collapsed": "false"
   },
   "outputs": [
    {
     "data": {
      "text/plain": [
       "(3668,)"
      ]
     },
     "execution_count": 57,
     "metadata": {},
     "output_type": "execute_result"
    }
   ],
   "source": [
    "# number of entries in the training dataset\n",
    "np.shape(list(data['train'].as_numpy_iterator()))"
   ]
  },
  {
   "cell_type": "code",
   "execution_count": 58,
   "metadata": {
    "Collapsed": "false"
   },
   "outputs": [
    {
     "data": {
      "text/plain": [
       "{'idx': 1680,\n",
       " 'label': 0,\n",
       " 'sentence1': b'The identical rovers will act as robotic geologists , searching for evidence of past water .',\n",
       " 'sentence2': b'The rovers act as robotic geologists , moving on six wheels .'}"
      ]
     },
     "execution_count": 58,
     "metadata": {},
     "output_type": "execute_result"
    }
   ],
   "source": [
    "list(data['train'].take(3).as_numpy_iterator())[0]"
   ]
  },
  {
   "cell_type": "code",
   "execution_count": 59,
   "metadata": {
    "Collapsed": "false"
   },
   "outputs": [
    {
     "data": {
      "text/plain": [
       "1680"
      ]
     },
     "execution_count": 59,
     "metadata": {},
     "output_type": "execute_result"
    }
   ],
   "source": [
    "# id of the third entry\n",
    "list(data['train'].take(3).as_numpy_iterator())[0]['idx']"
   ]
  },
  {
   "cell_type": "code",
   "execution_count": 60,
   "metadata": {
    "Collapsed": "false"
   },
   "outputs": [
    {
     "data": {
      "text/plain": [
       "0"
      ]
     },
     "execution_count": 60,
     "metadata": {},
     "output_type": "execute_result"
    }
   ],
   "source": [
    "# label of the third entry \n",
    "list(data['train'].take(3).as_numpy_iterator())[0]['label']"
   ]
  },
  {
   "cell_type": "code",
   "execution_count": 61,
   "metadata": {
    "Collapsed": "false"
   },
   "outputs": [
    {
     "data": {
      "text/plain": [
       "b'The identical rovers will act as robotic geologists , searching for evidence of past water .'"
      ]
     },
     "execution_count": 61,
     "metadata": {},
     "output_type": "execute_result"
    }
   ],
   "source": [
    "list(data['train'].take(3).as_numpy_iterator())[0]['sentence1']"
   ]
  },
  {
   "cell_type": "code",
   "execution_count": 62,
   "metadata": {
    "Collapsed": "false"
   },
   "outputs": [
    {
     "data": {
      "text/plain": [
       "b'The rovers act as robotic geologists , moving on six wheels .'"
      ]
     },
     "execution_count": 62,
     "metadata": {},
     "output_type": "execute_result"
    }
   ],
   "source": [
    "list(data['train'].take(3).as_numpy_iterator())[0]['sentence2']"
   ]
  },
  {
   "cell_type": "code",
   "execution_count": 63,
   "metadata": {
    "Collapsed": "false"
   },
   "outputs": [
    {
     "data": {
      "text/plain": [
       "tfds.core.DatasetInfo(\n",
       "    name='glue',\n",
       "    version=1.0.0,\n",
       "    description='GLUE, the General Language Understanding Evaluation benchmark\n",
       "(https://gluebenchmark.com/) is a collection of resources for training,\n",
       "evaluating, and analyzing natural language understanding systems.\n",
       "\n",
       "            The Microsoft Research Paraphrase Corpus (Dolan & Brockett, 2005) is a corpus of\n",
       "            sentence pairs automatically extracted from online news sources, with human annotations\n",
       "            for whether the sentences in the pair are semantically equivalent.',\n",
       "    homepage='https://www.microsoft.com/en-us/download/details.aspx?id=52398',\n",
       "    features=FeaturesDict({\n",
       "        'idx': tf.int32,\n",
       "        'label': ClassLabel(shape=(), dtype=tf.int64, num_classes=2),\n",
       "        'sentence1': Text(shape=(), dtype=tf.string),\n",
       "        'sentence2': Text(shape=(), dtype=tf.string),\n",
       "    }),\n",
       "    total_num_examples=5801,\n",
       "    splits={\n",
       "        'test': 1725,\n",
       "        'train': 3668,\n",
       "        'validation': 408,\n",
       "    },\n",
       "    supervised_keys=None,\n",
       "    citation=\"\"\"@inproceedings{dolan2005automatically,\n",
       "                  title={Automatically constructing a corpus of sentential paraphrases},\n",
       "                  author={Dolan, William B and Brockett, Chris},\n",
       "                  booktitle={Proceedings of the Third International Workshop on Paraphrasing (IWP2005)},\n",
       "                  year={2005}\n",
       "                }\n",
       "    @inproceedings{wang2019glue,\n",
       "      title={{GLUE}: A Multi-Task Benchmark and Analysis Platform for Natural Language Understanding},\n",
       "      author={Wang, Alex and Singh, Amanpreet and Michael, Julian and Hill, Felix and Levy, Omer and Bowman, Samuel R.},\n",
       "      note={In the Proceedings of ICLR.},\n",
       "      year={2019}\n",
       "    }\n",
       "    \n",
       "    Note that each GLUE dataset has its own citation. Please see the source to see\n",
       "    the correct citation for each contained dataset.\"\"\",\n",
       "    redistribution_info=,\n",
       ")"
      ]
     },
     "execution_count": 63,
     "metadata": {},
     "output_type": "execute_result"
    }
   ],
   "source": [
    "info"
   ]
  },
  {
   "cell_type": "code",
   "execution_count": 64,
   "metadata": {
    "Collapsed": "false"
   },
   "outputs": [
    {
     "data": {
      "text/plain": [
       "FeaturesDict({\n",
       "    'idx': tf.int32,\n",
       "    'label': ClassLabel(shape=(), dtype=tf.int64, num_classes=2),\n",
       "    'sentence1': Text(shape=(), dtype=tf.string),\n",
       "    'sentence2': Text(shape=(), dtype=tf.string),\n",
       "})"
      ]
     },
     "execution_count": 64,
     "metadata": {},
     "output_type": "execute_result"
    }
   ],
   "source": [
    "info.features"
   ]
  },
  {
   "cell_type": "code",
   "execution_count": 65,
   "metadata": {
    "Collapsed": "false"
   },
   "outputs": [
    {
     "data": {
      "text/plain": [
       "['not_equivalent', 'equivalent']"
      ]
     },
     "execution_count": 65,
     "metadata": {},
     "output_type": "execute_result"
    }
   ],
   "source": [
    "info.features[\"label\"].names"
   ]
  },
  {
   "cell_type": "code",
   "execution_count": 66,
   "metadata": {
    "Collapsed": "false"
   },
   "outputs": [
    {
     "data": {
      "text/plain": [
       "2"
      ]
     },
     "execution_count": 66,
     "metadata": {},
     "output_type": "execute_result"
    }
   ],
   "source": [
    "info.features[\"label\"].num_classes"
   ]
  },
  {
   "cell_type": "code",
   "execution_count": 67,
   "metadata": {
    "Collapsed": "false"
   },
   "outputs": [
    {
     "data": {
      "text/plain": [
       "{'test': <tfds.core.SplitInfo num_examples=1725>,\n",
       " 'train': <tfds.core.SplitInfo num_examples=3668>,\n",
       " 'validation': <tfds.core.SplitInfo num_examples=408>}"
      ]
     },
     "execution_count": 67,
     "metadata": {},
     "output_type": "execute_result"
    }
   ],
   "source": [
    "info.splits"
   ]
  },
  {
   "cell_type": "code",
   "execution_count": 68,
   "metadata": {
    "Collapsed": "false"
   },
   "outputs": [
    {
     "data": {
      "text/plain": [
       "name: \"test\"\n",
       "num_shards: 1\n",
       "statistics {\n",
       "  num_examples: 1725\n",
       "  features {\n",
       "    name: \"idx\"\n",
       "    num_stats {\n",
       "      common_stats {\n",
       "        num_non_missing: 1725\n",
       "      }\n",
       "      max: 1724.0\n",
       "    }\n",
       "  }\n",
       "  features {\n",
       "    name: \"label\"\n",
       "    num_stats {\n",
       "      common_stats {\n",
       "        num_non_missing: 1725\n",
       "      }\n",
       "      min: -1.0\n",
       "      max: -1.0\n",
       "    }\n",
       "  }\n",
       "  features {\n",
       "    name: \"sentence1\"\n",
       "    type: BYTES\n",
       "    bytes_stats {\n",
       "      common_stats {\n",
       "        num_non_missing: 1725\n",
       "      }\n",
       "    }\n",
       "  }\n",
       "  features {\n",
       "    name: \"sentence2\"\n",
       "    type: BYTES\n",
       "    bytes_stats {\n",
       "      common_stats {\n",
       "        num_non_missing: 1725\n",
       "      }\n",
       "    }\n",
       "  }\n",
       "}\n",
       "shard_lengths: 1725"
      ]
     },
     "execution_count": 68,
     "metadata": {},
     "output_type": "execute_result"
    }
   ],
   "source": [
    "info.splits['test'].get_proto()"
   ]
  },
  {
   "cell_type": "code",
   "execution_count": 69,
   "metadata": {
    "Collapsed": "false"
   },
   "outputs": [],
   "source": [
    "test=tfds.as_numpy(data['test'].take(2))"
   ]
  },
  {
   "cell_type": "code",
   "execution_count": 70,
   "metadata": {
    "Collapsed": "false"
   },
   "outputs": [
    {
     "data": {
      "text/plain": [
       "dict_keys(['idx', 'label', 'sentence1', 'sentence2'])"
      ]
     },
     "execution_count": 70,
     "metadata": {},
     "output_type": "execute_result"
    }
   ],
   "source": [
    "# be careful, it seems that the content is gone after executing one operation !\n",
    "list(test)[0].keys()"
   ]
  }
 ],
 "metadata": {
  "kernelspec": {
   "display_name": "Python [conda env:env_multilingual_class]",
   "language": "python",
   "name": "conda-env-env_multilingual_class-py"
  },
  "language_info": {
   "codemirror_mode": {
    "name": "ipython",
    "version": 3
   },
   "file_extension": ".py",
   "mimetype": "text/x-python",
   "name": "python",
   "nbconvert_exporter": "python",
   "pygments_lexer": "ipython3",
   "version": "3.7.6"
  }
 },
 "nbformat": 4,
 "nbformat_minor": 4
}
