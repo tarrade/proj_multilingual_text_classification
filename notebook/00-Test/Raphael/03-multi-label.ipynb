{
 "cells": [
  {
   "cell_type": "markdown",
   "metadata": {
    "Collapsed": "false"
   },
   "source": [
    "# Environment"
   ]
  },
  {
   "cell_type": "code",
   "execution_count": 264,
   "metadata": {
    "Collapsed": "false"
   },
   "outputs": [],
   "source": [
    "import google.cloud.bigquery as bigquery, pandas as pd, matplotlib.pyplot as plt, seaborn as snsn, numpy as np, \\\n",
    "importlib"
   ]
  },
  {
   "cell_type": "code",
   "execution_count": 257,
   "metadata": {
    "Collapsed": "false"
   },
   "outputs": [],
   "source": [
    "import src.utils.evaluation as evaluation"
   ]
  },
  {
   "cell_type": "code",
   "execution_count": 333,
   "metadata": {
    "Collapsed": "false"
   },
   "outputs": [],
   "source": [
    "from sklearn.preprocessing import LabelBinarizer, MultiLabelBinarizer\n",
    "from sklearn.feature_extraction.text import TfidfVectorizer\n",
    "from sklearn.multiclass import OneVsRestClassifier\n",
    "from sklearn.naive_bayes import MultinomialNB\n",
    "from sklearn.linear_model import SGDClassifier\n",
    "from sklearn.pipeline import Pipeline\n",
    "from skmultilearn.problem_transform import LabelPowerset\n",
    "from sklearn.model_selection import train_test_split, GridSearchCV, RandomizedSearchCV\n",
    "from sklearn.metrics import (\n",
    "    classification_report,\n",
    "    confusion_matrix,\n",
    "    accuracy_score,\n",
    "    balanced_accuracy_score,\n",
    "    cohen_kappa_score,\n",
    ")"
   ]
  },
  {
   "cell_type": "markdown",
   "metadata": {
    "Collapsed": "false"
   },
   "source": [
    "# Data"
   ]
  },
  {
   "cell_type": "code",
   "execution_count": 436,
   "metadata": {
    "Collapsed": "false"
   },
   "outputs": [],
   "source": [
    "client = bigquery.Client()"
   ]
  },
  {
   "cell_type": "code",
   "execution_count": 437,
   "metadata": {
    "Collapsed": "false"
   },
   "outputs": [],
   "source": [
    "query = \"\"\"\n",
    "SELECT\n",
    "  *\n",
    "FROM\n",
    "  stackoverflow.posts_preprocessed_selection_subset\n",
    "\"\"\""
   ]
  },
  {
   "cell_type": "code",
   "execution_count": 438,
   "metadata": {
    "Collapsed": "false"
   },
   "outputs": [],
   "source": [
    "df = client.query(query).to_dataframe()"
   ]
  },
  {
   "cell_type": "code",
   "execution_count": 439,
   "metadata": {
    "Collapsed": "false"
   },
   "outputs": [
    {
     "data": {
      "text/html": [
       "<div>\n",
       "<style scoped>\n",
       "    .dataframe tbody tr th:only-of-type {\n",
       "        vertical-align: middle;\n",
       "    }\n",
       "\n",
       "    .dataframe tbody tr th {\n",
       "        vertical-align: top;\n",
       "    }\n",
       "\n",
       "    .dataframe thead th {\n",
       "        text-align: right;\n",
       "    }\n",
       "</style>\n",
       "<table border=\"1\" class=\"dataframe\">\n",
       "  <thead>\n",
       "    <tr style=\"text-align: right;\">\n",
       "      <th></th>\n",
       "      <th>id</th>\n",
       "      <th>title</th>\n",
       "      <th>text_body</th>\n",
       "      <th>code_body</th>\n",
       "      <th>tags</th>\n",
       "    </tr>\n",
       "  </thead>\n",
       "  <tbody>\n",
       "    <tr>\n",
       "      <td>0</td>\n",
       "      <td>28728142</td>\n",
       "      <td>newbie get expect expression error compile code</td>\n",
       "      <td>take introductory class have trouble compile c...</td>\n",
       "      <td>include cs50 include stdio int main void int h...</td>\n",
       "      <td>[c]</td>\n",
       "    </tr>\n",
       "    <tr>\n",
       "      <td>1</td>\n",
       "      <td>16905513</td>\n",
       "      <td>pic 18f46k22 mikroc try implement usart interrupt</td>\n",
       "      <td>18f pic work request datum uart source receive...</td>\n",
       "      <td>loopvar while uart1 data ready stay datum buff...</td>\n",
       "      <td>[c]</td>\n",
       "    </tr>\n",
       "    <tr>\n",
       "      <td>2</td>\n",
       "      <td>22348213</td>\n",
       "      <td>gcc attribute influence nested function</td>\n",
       "      <td>function attribute specify function declaratio...</td>\n",
       "      <td>invalid line hot nested function invisible out...</td>\n",
       "      <td>[c]</td>\n",
       "    </tr>\n",
       "    <tr>\n",
       "      <td>3</td>\n",
       "      <td>23095398</td>\n",
       "      <td>address truncation</td>\n",
       "      <td>try truncate start address large multiple equa...</td>\n",
       "      <td>uintptr roundedvar uintptr start 0xf</td>\n",
       "      <td>[c]</td>\n",
       "    </tr>\n",
       "    <tr>\n",
       "      <td>4</td>\n",
       "      <td>18675170</td>\n",
       "      <td>return value function return value</td>\n",
       "      <td>function return return value example code</td>\n",
       "      <td>include stdio int f1 void f2 void main printf ...</td>\n",
       "      <td>[c]</td>\n",
       "    </tr>\n",
       "  </tbody>\n",
       "</table>\n",
       "</div>"
      ],
      "text/plain": [
       "         id                                              title  \\\n",
       "0  28728142    newbie get expect expression error compile code   \n",
       "1  16905513  pic 18f46k22 mikroc try implement usart interrupt   \n",
       "2  22348213            gcc attribute influence nested function   \n",
       "3  23095398                                 address truncation   \n",
       "4  18675170                 return value function return value   \n",
       "\n",
       "                                           text_body  \\\n",
       "0  take introductory class have trouble compile c...   \n",
       "1  18f pic work request datum uart source receive...   \n",
       "2  function attribute specify function declaratio...   \n",
       "3  try truncate start address large multiple equa...   \n",
       "4          function return return value example code   \n",
       "\n",
       "                                           code_body tags  \n",
       "0  include cs50 include stdio int main void int h...  [c]  \n",
       "1  loopvar while uart1 data ready stay datum buff...  [c]  \n",
       "2  invalid line hot nested function invisible out...  [c]  \n",
       "3               uintptr roundedvar uintptr start 0xf  [c]  \n",
       "4  include stdio int f1 void f2 void main printf ...  [c]  "
      ]
     },
     "execution_count": 439,
     "metadata": {},
     "output_type": "execute_result"
    }
   ],
   "source": [
    "df.head()"
   ]
  },
  {
   "cell_type": "code",
   "execution_count": 440,
   "metadata": {
    "Collapsed": "false"
   },
   "outputs": [
    {
     "name": "stdout",
     "output_type": "stream",
     "text": [
      "<class 'pandas.core.frame.DataFrame'>\n",
      "RangeIndex: 55848 entries, 0 to 55847\n",
      "Data columns (total 5 columns):\n",
      "id           55848 non-null object\n",
      "title        55848 non-null object\n",
      "text_body    55848 non-null object\n",
      "code_body    55848 non-null object\n",
      "tags         55848 non-null object\n",
      "dtypes: object(5)\n",
      "memory usage: 2.1+ MB\n"
     ]
    }
   ],
   "source": [
    "df.info()"
   ]
  },
  {
   "cell_type": "markdown",
   "metadata": {
    "Collapsed": "false"
   },
   "source": [
    "# Naive Bayes (Single-Label Classification)"
   ]
  },
  {
   "cell_type": "code",
   "execution_count": 441,
   "metadata": {
    "Collapsed": "false"
   },
   "outputs": [],
   "source": [
    "x = df['code_body'] + df['title']\n",
    "y = df['tags'].apply(lambda row: \" \".join(row))"
   ]
  },
  {
   "cell_type": "code",
   "execution_count": 442,
   "metadata": {
    "Collapsed": "false"
   },
   "outputs": [],
   "source": [
    "x_train, x_test, y_train, y_test = train_test_split(x, y, test_size=0.2, stratify=y, random_state=30)"
   ]
  },
  {
   "cell_type": "code",
   "execution_count": 443,
   "metadata": {
    "Collapsed": "false"
   },
   "outputs": [],
   "source": [
    "estimators = [\n",
    "    ('tfidf', TfidfVectorizer(tokenizer=lambda string: string.split())),\n",
    "    ('clf', MultinomialNB()),\n",
    "]\n",
    "parameters = {\n",
    "    'tfidf__min_df': np.arange(10, 30, 10),\n",
    "    'tfidf__max_df': np.arange(0.75, 0.9, 0.05),\n",
    "    'tfidf__ngram_range': [(1, 1), (2, 2), (3, 3)],\n",
    "    'clf__alpha': np.arange(0.2, 1, 0.2),\n",
    "}"
   ]
  },
  {
   "cell_type": "code",
   "execution_count": 444,
   "metadata": {
    "Collapsed": "false"
   },
   "outputs": [],
   "source": [
    "p = Pipeline(estimators)\n",
    "grid = RandomizedSearchCV(p, param_distributions=parameters,\n",
    "                           scoring='balanced_accuracy', n_iter=20, cv=3, n_jobs=-1)"
   ]
  },
  {
   "cell_type": "code",
   "execution_count": 445,
   "metadata": {
    "Collapsed": "false"
   },
   "outputs": [],
   "source": [
    "score = grid.fit(x_train, y_train)"
   ]
  },
  {
   "cell_type": "code",
   "execution_count": 446,
   "metadata": {
    "Collapsed": "false"
   },
   "outputs": [],
   "source": [
    "y_pred = grid.predict(x_test)"
   ]
  },
  {
   "cell_type": "code",
   "execution_count": 447,
   "metadata": {
    "Collapsed": "false"
   },
   "outputs": [
    {
     "name": "stderr",
     "output_type": "stream",
     "text": [
      "/home/.conda-env/env_nlp_text_class/lib/python3.6/site-packages/sklearn/metrics/classification.py:1437: UndefinedMetricWarning: Precision and F-score are ill-defined and being set to 0.0 in labels with no predicted samples.\n",
      "  'precision', 'predicted', average, warn_for)\n"
     ]
    },
    {
     "name": "stdout",
     "output_type": "stream",
     "text": [
      "                precision    recall  f1-score   support\n",
      "\n",
      "          .net       0.00      0.00      0.00       106\n",
      "          ajax       0.00      0.00      0.00        23\n",
      "       android       0.76      0.86      0.81      1154\n",
      "     angularjs       0.94      0.65      0.77       152\n",
      "        arrays       0.00      0.00      0.00        37\n",
      "       asp.net       0.67      0.27      0.38       168\n",
      "   asp.net-mvc       0.61      0.12      0.21        89\n",
      "             c       0.72      0.48      0.58       273\n",
      "            c#       0.48      0.68      0.56       927\n",
      "           c++       0.65      0.75      0.70       673\n",
      "           css       0.67      0.54      0.59       168\n",
      "      database       0.00      0.00      0.00        44\n",
      "        django       0.98      0.40      0.57       100\n",
      "       eclipse       1.00      0.02      0.04        56\n",
      "         excel       0.82      0.67      0.74       133\n",
      "      facebook       0.75      0.10      0.17        61\n",
      "         forms       0.00      0.00      0.00        19\n",
      "           git       0.96      0.77      0.85       114\n",
      "          html       0.50      0.01      0.02        96\n",
      "         html5       1.00      0.03      0.05        36\n",
      "         image       0.00      0.00      0.00        28\n",
      "           ios       0.48      0.65      0.56       268\n",
      "        iphone       0.67      0.17      0.27       130\n",
      "          java       0.61      0.80      0.69      1276\n",
      "    javascript       0.55      0.69      0.61       685\n",
      "        jquery       0.54      0.69      0.60       370\n",
      "          json       0.00      0.00      0.00        43\n",
      "         linux       0.71      0.26      0.38       133\n",
      "multithreading       0.00      0.00      0.00        17\n",
      "         mysql       0.54      0.54      0.54       228\n",
      "       node.js       0.91      0.39      0.54       129\n",
      "   objective-c       0.69      0.16      0.26       124\n",
      "        oracle       0.33      0.02      0.04        46\n",
      "           php       0.50      0.84      0.63       851\n",
      "        python       0.62      0.81      0.71       824\n",
      "             r       0.85      0.62      0.72       264\n",
      "         regex       0.86      0.15      0.26        79\n",
      "          ruby       1.00      0.17      0.29       117\n",
      " ruby-on-rails       0.81      0.68      0.74       262\n",
      "        spring       1.00      0.06      0.12        64\n",
      "           sql       0.39      0.29      0.33       171\n",
      "    sql-server       0.68      0.15      0.24       117\n",
      "        string       0.00      0.00      0.00        21\n",
      "         swift       1.00      0.09      0.17        53\n",
      "        vb.net       0.93      0.26      0.41        95\n",
      "       windows       0.50      0.01      0.02        79\n",
      "     wordpress       0.95      0.28      0.44        67\n",
      "           wpf       0.74      0.46      0.57        93\n",
      "         xcode       0.00      0.00      0.00        36\n",
      "           xml       0.80      0.23      0.35        71\n",
      "\n",
      "      accuracy                           0.61     11170\n",
      "     macro avg       0.58      0.32      0.35     11170\n",
      "  weighted avg       0.63      0.61      0.58     11170\n",
      "\n"
     ]
    }
   ],
   "source": [
    "print(classification_report(y_test, y_pred))"
   ]
  },
  {
   "cell_type": "code",
   "execution_count": 448,
   "metadata": {
    "Collapsed": "false"
   },
   "outputs": [
    {
     "data": {
      "image/png": "[encoded data removed]",
      "text/plain": [
       "<Figure size 432x288 with 2 Axes>"
      ]
     },
     "metadata": {
      "needs_background": "light"
     },
     "output_type": "display_data"
    }
   ],
   "source": [
    "cm = confusion_matrix(y_test, y_pred)\n",
    "evaluation.plot_confusion_matrix(cm=cm, classes=range(1, 6), normalize=True)"
   ]
  },
  {
   "cell_type": "code",
   "execution_count": 449,
   "metadata": {
    "Collapsed": "false"
   },
   "outputs": [
    {
     "name": "stdout",
     "output_type": "stream",
     "text": [
      "Accuracy: 0.6128021486123545\n",
      "Balanced accuracy: 0.3166376476428201\n",
      "Cohen's cappa coefficient: 0.5837824994206284\n"
     ]
    }
   ],
   "source": [
    "print('Accuracy:', accuracy_score(y_test, y_pred))\n",
    "print('Balanced accuracy:', balanced_accuracy_score(y_test, y_pred))\n",
    "print(\"Cohen's cappa coefficient:\", cohen_kappa_score(y_test, y_pred))"
   ]
  },
  {
   "cell_type": "markdown",
   "metadata": {
    "Collapsed": "false"
   },
   "source": [
    "# Support Vector Machine (Single-Label Classification)"
   ]
  },
  {
   "cell_type": "code",
   "execution_count": 407,
   "metadata": {
    "Collapsed": "false"
   },
   "outputs": [],
   "source": [
    "x2 = df['code_body'] + df['title']\n",
    "y2 = df['tags'].apply(lambda row: ' '.join(row))"
   ]
  },
  {
   "cell_type": "code",
   "execution_count": 408,
   "metadata": {
    "Collapsed": "false"
   },
   "outputs": [],
   "source": [
    "x2_train, x2_test, y2_train, y2_test = train_test_split(x2, y2, test_size=0.2, stratify=y2, random_state=30)"
   ]
  },
  {
   "cell_type": "code",
   "execution_count": 412,
   "metadata": {
    "Collapsed": "false"
   },
   "outputs": [],
   "source": [
    "estimators2 = [\n",
    "    ('tfidf', TfidfVectorizer(tokenizer=lambda string: string.split())),\n",
    "    ('clf', SGDClassifier(n_jobs=-1))\n",
    "]\n",
    "parameters2 = {\n",
    "    'tfidf__min_df': np.arange(10, 30, 10),\n",
    "    'tfidf__max_df': np.arange(0.75, 0.9, 0.05),\n",
    "    'tfidf__ngram_range': [(1, 1), (2, 2), (3, 3)],\n",
    "    'clf__alpha': (1e-2, 1e-3)\n",
    "}"
   ]
  },
  {
   "cell_type": "code",
   "execution_count": 419,
   "metadata": {
    "Collapsed": "false"
   },
   "outputs": [],
   "source": [
    "p2 = Pipeline(estimators2)\n",
    "grid2 = RandomizedSearchCV(p2, param_distributions=parameters2, \n",
    "                           scoring='balanced_accuracy', n_iter=20, cv=3, n_jobs=-1)"
   ]
  },
  {
   "cell_type": "code",
   "execution_count": 420,
   "metadata": {
    "Collapsed": "false"
   },
   "outputs": [],
   "source": [
    "score2 = grid2.fit(x2_train, y2_train)"
   ]
  },
  {
   "cell_type": "code",
   "execution_count": 421,
   "metadata": {
    "Collapsed": "false"
   },
   "outputs": [],
   "source": [
    "y2_pred = grid.predict(x2_test)"
   ]
  },
  {
   "cell_type": "code",
   "execution_count": 422,
   "metadata": {
    "Collapsed": "false"
   },
   "outputs": [
    {
     "name": "stdout",
     "output_type": "stream",
     "text": [
      "              precision    recall  f1-score   support\n",
      "\n",
      "     android       0.89      0.87      0.88      1155\n",
      "          c#       0.85      0.76      0.80       927\n",
      "        java       0.81      0.86      0.83      1276\n",
      "  javascript       0.86      0.82      0.84       685\n",
      "         php       0.82      0.87      0.85       851\n",
      "\n",
      "    accuracy                           0.84      4894\n",
      "   macro avg       0.84      0.84      0.84      4894\n",
      "weighted avg       0.84      0.84      0.84      4894\n",
      "\n"
     ]
    }
   ],
   "source": [
    "print(classification_report(y2_test, y2_pred))"
   ]
  },
  {
   "cell_type": "code",
   "execution_count": 423,
   "metadata": {
    "Collapsed": "false"
   },
   "outputs": [
    {
     "data": {
      "image/png": "[encoded data removed]",
      "text/plain": [
       "<Figure size 432x288 with 2 Axes>"
      ]
     },
     "metadata": {
      "needs_background": "light"
     },
     "output_type": "display_data"
    }
   ],
   "source": [
    "cm2 = confusion_matrix(y2_test, y2_pred)\n",
    "evaluation.plot_confusion_matrix(cm=cm2, classes=range(1, 6), normalize=True)"
   ]
  },
  {
   "cell_type": "code",
   "execution_count": 424,
   "metadata": {
    "Collapsed": "false"
   },
   "outputs": [
    {
     "name": "stdout",
     "output_type": "stream",
     "text": [
      "Accuracy: 0.8414384961176952\n",
      "Balanced accuracy: 0.8377815927881562\n",
      "Cohen's cappa coefficient: 0.7991165079546603\n"
     ]
    }
   ],
   "source": [
    "print('Accuracy:', accuracy_score(y2_test, y2_pred))\n",
    "print('Balanced accuracy:', balanced_accuracy_score(y2_test, y2_pred))\n",
    "print(\"Cohen's cappa coefficient:\", cohen_kappa_score(y2_test, y2_pred))"
   ]
  },
  {
   "cell_type": "markdown",
   "metadata": {
    "Collapsed": "true"
   },
   "source": [
    "# Naive Bayes (Multi-Label Classification)"
   ]
  },
  {
   "cell_type": "code",
   "execution_count": 347,
   "metadata": {
    "Collapsed": "false"
   },
   "outputs": [],
   "source": [
    "x2 = df[\"code_body\"] + df[\"title\"]\n",
    "y2 = df[\"tags\"].apply(lambda row: \" \".join(row))"
   ]
  },
  {
   "cell_type": "code",
   "execution_count": 348,
   "metadata": {
    "Collapsed": "false"
   },
   "outputs": [],
   "source": [
    "x2_train, x2_test, y2_train, y2_test = train_test_split(x2, y2, test_size=0.2, stratify=y, random_state=30)"
   ]
  },
  {
   "cell_type": "code",
   "execution_count": 374,
   "metadata": {
    "Collapsed": "false"
   },
   "outputs": [],
   "source": [
    "estimators2 = [\n",
    "    (\"tfidf\", TfidfVectorizer(tokenizer=lambda string: string.split())),\n",
    "    (\"clf\", OneVsRestClassifier(MultinomialNB(), n_jobs=1)),\n",
    "]\n",
    "parameters2 = {\n",
    "    \"tfidf__min_df\": np.arange(10, 30, 10),\n",
    "    \"tfidf__max_df\": np.arange(0.75, 0.9, 0.05),\n",
    "    \"tfidf__ngram_range\": [(1, 1), (2, 2), (3, 3)],\n",
    "    \"clf__estimator__alpha\": np.arange(0.2, 1, 0.2),\n",
    "}"
   ]
  },
  {
   "cell_type": "code",
   "execution_count": 377,
   "metadata": {
    "Collapsed": "false"
   },
   "outputs": [],
   "source": [
    "p2 = Pipeline(estimators2)\n",
    "grid2 = RandomizedSearchCV(\n",
    "    p2, param_distributions=parameters2, n_iter=20, cv=3, n_jobs=-1\n",
    ")"
   ]
  },
  {
   "cell_type": "code",
   "execution_count": 378,
   "metadata": {
    "Collapsed": "false"
   },
   "outputs": [],
   "source": [
    "score2 = grid2.fit(x2_train, y2_train)"
   ]
  },
  {
   "cell_type": "code",
   "execution_count": 379,
   "metadata": {
    "Collapsed": "false"
   },
   "outputs": [],
   "source": [
    "y2_pred = grid2.predict(x2_test)"
   ]
  },
  {
   "cell_type": "code",
   "execution_count": 380,
   "metadata": {
    "Collapsed": "false"
   },
   "outputs": [
    {
     "name": "stdout",
     "output_type": "stream",
     "text": [
      "              precision    recall  f1-score   support\n",
      "\n",
      "     android       0.89      0.89      0.89      1155\n",
      "          c#       0.85      0.75      0.80       927\n",
      "        java       0.81      0.87      0.84      1276\n",
      "  javascript       0.87      0.82      0.85       685\n",
      "         php       0.83      0.88      0.86       851\n",
      "\n",
      "    accuracy                           0.85      4894\n",
      "   macro avg       0.85      0.84      0.85      4894\n",
      "weighted avg       0.85      0.85      0.85      4894\n",
      "\n"
     ]
    }
   ],
   "source": [
    "print(classification_report(y2_test, y2_pred))"
   ]
  },
  {
   "cell_type": "code",
   "execution_count": 381,
   "metadata": {
    "Collapsed": "false"
   },
   "outputs": [
    {
     "data": {
      "image/png": "[encoded data removed]",
      "text/plain": [
       "<Figure size 432x288 with 2 Axes>"
      ]
     },
     "metadata": {
      "needs_background": "light"
     },
     "output_type": "display_data"
    }
   ],
   "source": [
    "cm = confusion_matrix(y2_test, y2_pred)\n",
    "evaluation.plot_confusion_matrix(cm=cm, classes=range(1, 6), normalize=True)"
   ]
  },
  {
   "cell_type": "code",
   "execution_count": 382,
   "metadata": {
    "Collapsed": "false"
   },
   "outputs": [
    {
     "name": "stdout",
     "output_type": "stream",
     "text": [
      "Accuracy: 0.8475684511646915\n",
      "Balanced accuracy: 0.8428282590127865\n",
      "Cohen's Cappa Coefficient 0.8067754684733933\n"
     ]
    }
   ],
   "source": [
    "print(\"Accuracy:\", accuracy_score(y2_test, y2_pred))\n",
    "print(\"Balanced accuracy:\", balanced_accuracy_score(y2_test, y2_pred))\n",
    "print(\"Cohen's Cappa Coefficient\", cohen_kappa_score(y2_test, y2_pred))"
   ]
  },
  {
   "cell_type": "markdown",
   "metadata": {
    "Collapsed": "true"
   },
   "source": [
    "# Support Vector Machine (Multi-Label Classification)"
   ]
  },
  {
   "cell_type": "code",
   "execution_count": 24,
   "metadata": {
    "Collapsed": "false"
   },
   "outputs": [],
   "source": [
    "x2 = df[\"code_body\"]\n",
    "y2 = MultiLabelBinarizer().fit_transform(df[\"tags\"].tolist())"
   ]
  },
  {
   "cell_type": "code",
   "execution_count": 25,
   "metadata": {
    "Collapsed": "false"
   },
   "outputs": [],
   "source": [
    "x2_train, x2_test, y2_train, y2_test = train_test_split(\n",
    "    x2, y2, test_size=0.2, random_state=30\n",
    ")"
   ]
  },
  {
   "cell_type": "code",
   "execution_count": 26,
   "metadata": {
    "Collapsed": "false"
   },
   "outputs": [],
   "source": [
    "estimators = [\n",
    "    (\"tfidf\", TfidfVectorizer(tokenizer=lambda string: string.split())),\n",
    "    (\"clf\", OneVsRestClassifier(SGDClassifier(n_jobs=-1), n_jobs=-1)),\n",
    "]\n",
    "parameters = {\n",
    "    \"tfidf__min_df\": np.arange(0.01, 0.05, 0.01),\n",
    "    \"tfidf__max_df\": np.arange(0.75, 0.9, 0.05),\n",
    "    \"tfidf__ngram_range\": [(1, 1), (2, 2), (3, 3)],\n",
    "    \"clf__estimator__alpha\": (1e-2, 1e-3),\n",
    "}"
   ]
  },
  {
   "cell_type": "code",
   "execution_count": 29,
   "metadata": {
    "Collapsed": "false"
   },
   "outputs": [],
   "source": [
    "p2 = Pipeline(estimators)\n",
    "grid2 = RandomizedSearchCV(\n",
    "    p, param_distributions=parameters, n_iter=20, cv=3, scoring=\"roc_auc\", n_jobs=-1\n",
    ")"
   ]
  },
  {
   "cell_type": "code",
   "execution_count": 30,
   "metadata": {
    "Collapsed": "false"
   },
   "outputs": [],
   "source": [
    "score2 = grid.fit(x2_train, y2_train)"
   ]
  },
  {
   "cell_type": "code",
   "execution_count": 31,
   "metadata": {
    "Collapsed": "false"
   },
   "outputs": [],
   "source": [
    "y2_pred = grid.predict(x_test)"
   ]
  },
  {
   "cell_type": "code",
   "execution_count": null,
   "metadata": {
    "Collapsed": "false"
   },
   "outputs": [],
   "source": [
    "print(classification_report(y2_test, y2_pred))\n",
    "print(accuracy_score(y2_test, y2_pred))"
   ]
  },
  {
   "cell_type": "markdown",
   "metadata": {
    "Collapsed": "false"
   },
   "source": [
    "# ToDo"
   ]
  },
  {
   "cell_type": "raw",
   "metadata": {
    "Collapsed": "false"
   },
   "source": [
    "- LaberPowerset"
   ]
  }
 ],
 "metadata": {
  "kernelspec": {
   "display_name": "Python [conda env:root] *",
   "language": "python",
   "name": "conda-root-py"
  },
  "language_info": {
   "codemirror_mode": {
    "name": "ipython",
    "version": 3
   },
   "file_extension": ".py",
   "mimetype": "text/x-python",
   "name": "python",
   "nbconvert_exporter": "python",
   "pygments_lexer": "ipython3",
   "version": "3.7.4"
  }
 },
 "nbformat": 4,
 "nbformat_minor": 4
}
