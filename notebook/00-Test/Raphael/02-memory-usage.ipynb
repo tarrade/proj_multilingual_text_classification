{
 "cells": [
  {
   "cell_type": "markdown",
   "metadata": {
    "Collapsed": "false"
   },
   "source": [
    "# Environment"
   ]
  },
  {
   "cell_type": "code",
   "execution_count": 130,
   "metadata": {
    "Collapsed": "false"
   },
   "outputs": [],
   "source": [
    "import google.cloud.bigquery as bigquery, pandas as pd, matplotlib.pyplot as plt, seaborn as snsn, \\\n",
    "numpy as np, importlib, math, time "
   ]
  },
  {
   "cell_type": "code",
   "execution_count": 179,
   "metadata": {
    "Collapsed": "false"
   },
   "outputs": [],
   "source": [
    "from multiprocessing import Process"
   ]
  },
  {
   "cell_type": "code",
   "execution_count": 2,
   "metadata": {
    "Collapsed": "false"
   },
   "outputs": [],
   "source": [
    "import src.utils.evaluation as evaluation"
   ]
  },
  {
   "cell_type": "code",
   "execution_count": 3,
   "metadata": {
    "Collapsed": "false"
   },
   "outputs": [],
   "source": [
    "from sklearn.preprocessing import LabelBinarizer, MultiLabelBinarizer\n",
    "from sklearn.feature_extraction.text import TfidfVectorizer, HashingVectorizer\n",
    "from sklearn.multiclass import OneVsRestClassifier\n",
    "from sklearn.naive_bayes import MultinomialNB\n",
    "from sklearn.linear_model import SGDClassifier\n",
    "from sklearn.pipeline import Pipeline\n",
    "from skmultilearn.problem_transform import LabelPowerset\n",
    "from sklearn.model_selection import train_test_split, GridSearchCV, RandomizedSearchCV\n",
    "from sklearn.metrics import (\n",
    "    classification_report,\n",
    "    confusion_matrix,\n",
    "    accuracy_score,\n",
    "    balanced_accuracy_score,\n",
    "    cohen_kappa_score,\n",
    ")"
   ]
  },
  {
   "cell_type": "markdown",
   "metadata": {
    "Collapsed": "false"
   },
   "source": [
    "# Function Definitions"
   ]
  },
  {
   "cell_type": "code",
   "execution_count": 72,
   "metadata": {
    "Collapsed": "false"
   },
   "outputs": [],
   "source": [
    "def get_batches(x, y, batch_size=218):\n",
    "    start_marker = 0\n",
    "    end_marker = x.shape[0] - (1+218)\n",
    "    \n",
    "    while start_marker < end_marker:\n",
    "        x_chunk = x[start_marker:start_marker+batch_size, :]\n",
    "        y_chunk = y.iloc[start_marker:start_marker+batch_size]\n",
    "        yield x_chunk, y_chunk\n",
    "        start_marker += batch_size\n",
    "    \n",
    "    batch_size_final = (x.shape[0] - 1) - end_marker\n",
    "    x_chunk = x[start_marker:start_marker+batch_size_final, :]\n",
    "    y_chunk = y.iloc[start_marker:start_marker+batch_size_final]\n",
    "    return x_chunk, y_chunk"
   ]
  },
  {
   "cell_type": "code",
   "execution_count": 170,
   "metadata": {
    "Collapsed": "false"
   },
   "outputs": [],
   "source": [
    "def generate_report(stats):\n",
    "    duration = time.time() - stats['t0']\n",
    "    report = '{0}% trained \\t | accuracy: {1}'.format(round((stats['n_train']/stats['size'])*100, 1), \n",
    "                                                               round(stats['accuracy'], 3))\n",
    "    return report"
   ]
  },
  {
   "cell_type": "markdown",
   "metadata": {
    "Collapsed": "false"
   },
   "source": [
    "# Data"
   ]
  },
  {
   "cell_type": "code",
   "execution_count": 4,
   "metadata": {
    "Collapsed": "false"
   },
   "outputs": [],
   "source": [
    "client = bigquery.Client()"
   ]
  },
  {
   "cell_type": "code",
   "execution_count": 180,
   "metadata": {
    "Collapsed": "false"
   },
   "outputs": [],
   "source": [
    "query = \"\"\"\n",
    "SELECT\n",
    "  *\n",
    "FROM\n",
    "  stackoverflow.posts_preprocessed_selection\n",
    "WHERE RAND() <= 0.25\n",
    "\"\"\""
   ]
  },
  {
   "cell_type": "code",
   "execution_count": 181,
   "metadata": {
    "Collapsed": "false"
   },
   "outputs": [],
   "source": [
    "df = client.query(query).to_dataframe()"
   ]
  },
  {
   "cell_type": "code",
   "execution_count": 182,
   "metadata": {
    "Collapsed": "false"
   },
   "outputs": [
    {
     "data": {
      "text/html": [
       "<div>\n",
       "<style scoped>\n",
       "    .dataframe tbody tr th:only-of-type {\n",
       "        vertical-align: middle;\n",
       "    }\n",
       "\n",
       "    .dataframe tbody tr th {\n",
       "        vertical-align: top;\n",
       "    }\n",
       "\n",
       "    .dataframe thead th {\n",
       "        text-align: right;\n",
       "    }\n",
       "</style>\n",
       "<table border=\"1\" class=\"dataframe\">\n",
       "  <thead>\n",
       "    <tr style=\"text-align: right;\">\n",
       "      <th></th>\n",
       "      <th>id</th>\n",
       "      <th>title</th>\n",
       "      <th>text_body</th>\n",
       "      <th>code_body</th>\n",
       "      <th>tags</th>\n",
       "    </tr>\n",
       "  </thead>\n",
       "  <tbody>\n",
       "    <tr>\n",
       "      <td>0</td>\n",
       "      <td>6913506</td>\n",
       "      <td>populate cursor rowtype variable</td>\n",
       "      <td>googling find answer try modify oracle sproc c...</td>\n",
       "      <td>myrow my tbl rowtype insert my tbl col1 col2 c...</td>\n",
       "      <td>[oracle]</td>\n",
       "    </tr>\n",
       "    <tr>\n",
       "      <td>1</td>\n",
       "      <td>24462758</td>\n",
       "      <td>nav bar little fat bootstrap fit logo</td>\n",
       "      <td>nav bar dose expand irrespective image</td>\n",
       "      <td>class navbar brand href img class brand src</td>\n",
       "      <td>[html5]</td>\n",
       "    </tr>\n",
       "    <tr>\n",
       "      <td>2</td>\n",
       "      <td>9292988</td>\n",
       "      <td>user authentication cakephp oracle</td>\n",
       "      <td>fatal error member function quote non object l...</td>\n",
       "      <td></td>\n",
       "      <td>[oracle]</td>\n",
       "    </tr>\n",
       "    <tr>\n",
       "      <td>3</td>\n",
       "      <td>12093378</td>\n",
       "      <td>jquery masonry ajax fetch append item cause im...</td>\n",
       "      <td>image overlap issue masonry ajax append item w...</td>\n",
       "      <td>document ready function var container loops wr...</td>\n",
       "      <td>[ajax]</td>\n",
       "    </tr>\n",
       "    <tr>\n",
       "      <td>4</td>\n",
       "      <td>35986173</td>\n",
       "      <td>combine array parent array</td>\n",
       "      <td>trouble help array arr1 arr2 wan output arr</td>\n",
       "      <td></td>\n",
       "      <td>[arrays]</td>\n",
       "    </tr>\n",
       "  </tbody>\n",
       "</table>\n",
       "</div>"
      ],
      "text/plain": [
       "         id                                              title  \\\n",
       "0   6913506                   populate cursor rowtype variable   \n",
       "1  24462758              nav bar little fat bootstrap fit logo   \n",
       "2   9292988                 user authentication cakephp oracle   \n",
       "3  12093378  jquery masonry ajax fetch append item cause im...   \n",
       "4  35986173                         combine array parent array   \n",
       "\n",
       "                                           text_body  \\\n",
       "0  googling find answer try modify oracle sproc c...   \n",
       "1             nav bar dose expand irrespective image   \n",
       "2  fatal error member function quote non object l...   \n",
       "3  image overlap issue masonry ajax append item w...   \n",
       "4        trouble help array arr1 arr2 wan output arr   \n",
       "\n",
       "                                           code_body      tags  \n",
       "0  myrow my tbl rowtype insert my tbl col1 col2 c...  [oracle]  \n",
       "1        class navbar brand href img class brand src   [html5]  \n",
       "2                                                     [oracle]  \n",
       "3  document ready function var container loops wr...    [ajax]  \n",
       "4                                                     [arrays]  "
      ]
     },
     "execution_count": 182,
     "metadata": {},
     "output_type": "execute_result"
    }
   ],
   "source": [
    "df.head()"
   ]
  },
  {
   "cell_type": "code",
   "execution_count": 183,
   "metadata": {
    "Collapsed": "false"
   },
   "outputs": [
    {
     "name": "stdout",
     "output_type": "stream",
     "text": [
      "<class 'pandas.core.frame.DataFrame'>\n",
      "RangeIndex: 1404823 entries, 0 to 1404822\n",
      "Data columns (total 5 columns):\n",
      "id           1404823 non-null object\n",
      "title        1404823 non-null object\n",
      "text_body    1404823 non-null object\n",
      "code_body    1404823 non-null object\n",
      "tags         1404823 non-null object\n",
      "dtypes: object(5)\n",
      "memory usage: 1.5 GB\n"
     ]
    }
   ],
   "source": [
    "df.info(memory_usage='deep')"
   ]
  },
  {
   "cell_type": "markdown",
   "metadata": {
    "Collapsed": "false"
   },
   "source": [
    "# Training with Mini-Batches"
   ]
  },
  {
   "cell_type": "code",
   "execution_count": 213,
   "metadata": {
    "Collapsed": "false"
   },
   "outputs": [],
   "source": [
    "x = df['code_body'] + df['title']\n",
    "y = df['tags'].apply(lambda row: \" \".join(row))"
   ]
  },
  {
   "cell_type": "code",
   "execution_count": 214,
   "metadata": {
    "Collapsed": "false"
   },
   "outputs": [],
   "source": [
    "x_train, x_test, y_train, y_test = train_test_split(x, y, test_size=0.2, stratify=y, random_state=30)"
   ]
  },
  {
   "cell_type": "code",
   "execution_count": 215,
   "metadata": {
    "Collapsed": "false"
   },
   "outputs": [],
   "source": [
    "vectorizer = TfidfVectorizer(tokenizer=lambda string: string.split(),\n",
    "                            ngram_range=(1,1),\n",
    "                            min_df=20,\n",
    "                            max_df=0.9)"
   ]
  },
  {
   "cell_type": "code",
   "execution_count": 216,
   "metadata": {
    "Collapsed": "false"
   },
   "outputs": [],
   "source": [
    "dtm = vectorizer.fit(x)\n",
    "dtm_train = dtm.transform(x_train)\n",
    "dtm_test = dtm.transform(x_test)"
   ]
  },
  {
   "cell_type": "code",
   "execution_count": 217,
   "metadata": {
    "Collapsed": "false"
   },
   "outputs": [],
   "source": [
    "mini_batches = get_batches(dtm_train, y_train, 218)"
   ]
  },
  {
   "cell_type": "code",
   "execution_count": 218,
   "metadata": {
    "Collapsed": "false"
   },
   "outputs": [],
   "source": [
    "classifier = SGDClassifier(n_jobs=-1)"
   ]
  },
  {
   "cell_type": "code",
   "execution_count": 219,
   "metadata": {
    "Collapsed": "false"
   },
   "outputs": [
    {
     "name": "stdout",
     "output_type": "stream",
     "text": [
      "0.1% trained \t | accuracy: 0.407\n",
      "0.1% trained \t | accuracy: 0.479\n",
      "0.2% trained \t | accuracy: 0.512\n",
      "0.2% trained \t | accuracy: 0.539\n",
      "0.3% trained \t | accuracy: 0.557\n",
      "0.3% trained \t | accuracy: 0.573\n",
      "0.4% trained \t | accuracy: 0.576\n",
      "0.5% trained \t | accuracy: 0.591\n",
      "0.5% trained \t | accuracy: 0.593\n",
      "0.6% trained \t | accuracy: 0.597\n",
      "0.6% trained \t | accuracy: 0.604\n",
      "0.7% trained \t | accuracy: 0.607\n",
      "0.8% trained \t | accuracy: 0.617\n",
      "0.8% trained \t | accuracy: 0.62\n",
      "0.9% trained \t | accuracy: 0.626\n",
      "0.9% trained \t | accuracy: 0.629\n",
      "1.0% trained \t | accuracy: 0.63\n",
      "1.0% trained \t | accuracy: 0.633\n",
      "1.1% trained \t | accuracy: 0.634\n",
      "1.2% trained \t | accuracy: 0.635\n",
      "1.2% trained \t | accuracy: 0.639\n",
      "1.3% trained \t | accuracy: 0.64\n",
      "1.3% trained \t | accuracy: 0.641\n",
      "1.4% trained \t | accuracy: 0.643\n",
      "1.5% trained \t | accuracy: 0.646\n",
      "1.5% trained \t | accuracy: 0.649\n",
      "1.6% trained \t | accuracy: 0.65\n",
      "1.6% trained \t | accuracy: 0.654\n",
      "1.7% trained \t | accuracy: 0.653\n",
      "1.7% trained \t | accuracy: 0.658\n",
      "1.8% trained \t | accuracy: 0.659\n",
      "1.9% trained \t | accuracy: 0.66\n",
      "1.9% trained \t | accuracy: 0.662\n",
      "2.0% trained \t | accuracy: 0.658\n",
      "2.0% trained \t | accuracy: 0.659\n",
      "2.1% trained \t | accuracy: 0.664\n",
      "2.2% trained \t | accuracy: 0.662\n",
      "2.2% trained \t | accuracy: 0.664\n",
      "2.3% trained \t | accuracy: 0.666\n",
      "2.3% trained \t | accuracy: 0.665\n",
      "2.4% trained \t | accuracy: 0.66\n",
      "2.4% trained \t | accuracy: 0.668\n",
      "2.5% trained \t | accuracy: 0.667\n",
      "2.6% trained \t | accuracy: 0.668\n",
      "2.6% trained \t | accuracy: 0.669\n",
      "2.7% trained \t | accuracy: 0.67\n",
      "2.7% trained \t | accuracy: 0.671\n",
      "2.8% trained \t | accuracy: 0.674\n",
      "2.9% trained \t | accuracy: 0.672\n",
      "2.9% trained \t | accuracy: 0.672\n",
      "3.0% trained \t | accuracy: 0.673\n",
      "3.0% trained \t | accuracy: 0.672\n",
      "3.1% trained \t | accuracy: 0.674\n",
      "3.1% trained \t | accuracy: 0.673\n",
      "3.2% trained \t | accuracy: 0.672\n",
      "3.3% trained \t | accuracy: 0.675\n",
      "3.3% trained \t | accuracy: 0.675\n",
      "3.4% trained \t | accuracy: 0.677\n",
      "3.4% trained \t | accuracy: 0.677\n",
      "3.5% trained \t | accuracy: 0.678\n",
      "3.5% trained \t | accuracy: 0.678\n",
      "3.6% trained \t | accuracy: 0.678\n",
      "3.7% trained \t | accuracy: 0.678\n",
      "3.7% trained \t | accuracy: 0.677\n",
      "3.8% trained \t | accuracy: 0.676\n",
      "3.8% trained \t | accuracy: 0.678\n",
      "3.9% trained \t | accuracy: 0.679\n",
      "4.0% trained \t | accuracy: 0.679\n",
      "4.0% trained \t | accuracy: 0.68\n",
      "4.1% trained \t | accuracy: 0.679\n",
      "4.1% trained \t | accuracy: 0.68\n",
      "4.2% trained \t | accuracy: 0.683\n",
      "4.2% trained \t | accuracy: 0.684\n",
      "4.3% trained \t | accuracy: 0.683\n",
      "4.4% trained \t | accuracy: 0.684\n",
      "4.4% trained \t | accuracy: 0.683\n",
      "4.5% trained \t | accuracy: 0.684\n",
      "4.5% trained \t | accuracy: 0.684\n",
      "4.6% trained \t | accuracy: 0.685\n",
      "4.7% trained \t | accuracy: 0.686\n",
      "4.7% trained \t | accuracy: 0.686\n",
      "4.8% trained \t | accuracy: 0.687\n",
      "4.8% trained \t | accuracy: 0.684\n",
      "4.9% trained \t | accuracy: 0.686\n",
      "4.9% trained \t | accuracy: 0.685\n",
      "5.0% trained \t | accuracy: 0.688\n",
      "5.1% trained \t | accuracy: 0.689\n",
      "5.1% trained \t | accuracy: 0.688\n",
      "5.2% trained \t | accuracy: 0.688\n",
      "5.2% trained \t | accuracy: 0.689\n",
      "5.3% trained \t | accuracy: 0.689\n",
      "5.4% trained \t | accuracy: 0.689\n",
      "5.4% trained \t | accuracy: 0.69\n",
      "5.5% trained \t | accuracy: 0.689\n",
      "5.5% trained \t | accuracy: 0.69\n",
      "5.6% trained \t | accuracy: 0.69\n",
      "5.6% trained \t | accuracy: 0.69\n",
      "5.7% trained \t | accuracy: 0.69\n",
      "5.8% trained \t | accuracy: 0.691\n",
      "5.8% trained \t | accuracy: 0.689\n",
      "5.9% trained \t | accuracy: 0.691\n",
      "5.9% trained \t | accuracy: 0.69\n",
      "6.0% trained \t | accuracy: 0.69\n",
      "6.1% trained \t | accuracy: 0.691\n",
      "6.1% trained \t | accuracy: 0.691\n",
      "6.2% trained \t | accuracy: 0.69\n",
      "6.2% trained \t | accuracy: 0.691\n",
      "6.3% trained \t | accuracy: 0.691\n",
      "6.3% trained \t | accuracy: 0.692\n",
      "6.4% trained \t | accuracy: 0.693\n",
      "6.5% trained \t | accuracy: 0.691\n",
      "6.5% trained \t | accuracy: 0.691\n",
      "6.6% trained \t | accuracy: 0.692\n",
      "6.6% trained \t | accuracy: 0.692\n",
      "6.7% trained \t | accuracy: 0.692\n",
      "6.8% trained \t | accuracy: 0.693\n",
      "6.8% trained \t | accuracy: 0.693\n",
      "6.9% trained \t | accuracy: 0.693\n",
      "6.9% trained \t | accuracy: 0.692\n",
      "7.0% trained \t | accuracy: 0.694\n",
      "7.0% trained \t | accuracy: 0.694\n",
      "7.1% trained \t | accuracy: 0.696\n",
      "7.2% trained \t | accuracy: 0.695\n",
      "7.2% trained \t | accuracy: 0.695\n",
      "7.3% trained \t | accuracy: 0.696\n",
      "7.3% trained \t | accuracy: 0.695\n",
      "7.4% trained \t | accuracy: 0.695\n",
      "7.4% trained \t | accuracy: 0.695\n",
      "7.5% trained \t | accuracy: 0.696\n",
      "7.6% trained \t | accuracy: 0.696\n",
      "7.6% trained \t | accuracy: 0.697\n",
      "7.7% trained \t | accuracy: 0.697\n",
      "7.7% trained \t | accuracy: 0.697\n",
      "7.8% trained \t | accuracy: 0.696\n",
      "7.9% trained \t | accuracy: 0.698\n",
      "7.9% trained \t | accuracy: 0.696\n"
     ]
    },
    {
     "ename": "KeyboardInterrupt",
     "evalue": "",
     "output_type": "error",
     "traceback": [
      "\u001b[0;31m---------------------------------------------------------------------------\u001b[0m",
      "\u001b[0;31mKeyboardInterrupt\u001b[0m                         Traceback (most recent call last)",
      "\u001b[0;32m<ipython-input-219-024eda552099>\u001b[0m in \u001b[0;36m<module>\u001b[0;34m\u001b[0m\n\u001b[1;32m     17\u001b[0m     \u001b[0mtick\u001b[0m \u001b[0;34m=\u001b[0m \u001b[0mtime\u001b[0m\u001b[0;34m.\u001b[0m\u001b[0mtime\u001b[0m\u001b[0;34m(\u001b[0m\u001b[0;34m)\u001b[0m\u001b[0;34m\u001b[0m\u001b[0;34m\u001b[0m\u001b[0m\n\u001b[1;32m     18\u001b[0m \u001b[0;34m\u001b[0m\u001b[0m\n\u001b[0;32m---> 19\u001b[0;31m     \u001b[0mstats\u001b[0m\u001b[0;34m[\u001b[0m\u001b[0;34m'accuracy'\u001b[0m\u001b[0;34m]\u001b[0m \u001b[0;34m=\u001b[0m \u001b[0mclassifier\u001b[0m\u001b[0;34m.\u001b[0m\u001b[0mscore\u001b[0m\u001b[0;34m(\u001b[0m\u001b[0mdtm_test\u001b[0m\u001b[0;34m,\u001b[0m \u001b[0my_test\u001b[0m\u001b[0;34m)\u001b[0m\u001b[0;34m\u001b[0m\u001b[0;34m\u001b[0m\u001b[0m\n\u001b[0m\u001b[1;32m     20\u001b[0m     \u001b[0mstats\u001b[0m\u001b[0;34m[\u001b[0m\u001b[0;34m'prediction_time'\u001b[0m\u001b[0;34m]\u001b[0m \u001b[0;34m=\u001b[0m \u001b[0mtime\u001b[0m\u001b[0;34m.\u001b[0m\u001b[0mtime\u001b[0m\u001b[0;34m(\u001b[0m\u001b[0;34m)\u001b[0m \u001b[0;34m-\u001b[0m \u001b[0mtick\u001b[0m\u001b[0;34m\u001b[0m\u001b[0;34m\u001b[0m\u001b[0m\n\u001b[1;32m     21\u001b[0m     \u001b[0macc_history\u001b[0m \u001b[0;34m=\u001b[0m \u001b[0;34m(\u001b[0m\u001b[0mstats\u001b[0m\u001b[0;34m[\u001b[0m\u001b[0;34m'accuracy'\u001b[0m\u001b[0;34m]\u001b[0m\u001b[0;34m,\u001b[0m \u001b[0mstats\u001b[0m\u001b[0;34m[\u001b[0m\u001b[0;34m'n_train'\u001b[0m\u001b[0;34m]\u001b[0m\u001b[0;34m)\u001b[0m\u001b[0;34m\u001b[0m\u001b[0;34m\u001b[0m\u001b[0m\n",
      "\u001b[0;32m/home/.conda-env/env_nlp_text_class/lib/python3.6/site-packages/sklearn/base.py\u001b[0m in \u001b[0;36mscore\u001b[0;34m(self, X, y, sample_weight)\u001b[0m\n\u001b[1;32m    355\u001b[0m         \"\"\"\n\u001b[1;32m    356\u001b[0m         \u001b[0;32mfrom\u001b[0m \u001b[0;34m.\u001b[0m\u001b[0mmetrics\u001b[0m \u001b[0;32mimport\u001b[0m \u001b[0maccuracy_score\u001b[0m\u001b[0;34m\u001b[0m\u001b[0;34m\u001b[0m\u001b[0m\n\u001b[0;32m--> 357\u001b[0;31m         \u001b[0;32mreturn\u001b[0m \u001b[0maccuracy_score\u001b[0m\u001b[0;34m(\u001b[0m\u001b[0my\u001b[0m\u001b[0;34m,\u001b[0m \u001b[0mself\u001b[0m\u001b[0;34m.\u001b[0m\u001b[0mpredict\u001b[0m\u001b[0;34m(\u001b[0m\u001b[0mX\u001b[0m\u001b[0;34m)\u001b[0m\u001b[0;34m,\u001b[0m \u001b[0msample_weight\u001b[0m\u001b[0;34m=\u001b[0m\u001b[0msample_weight\u001b[0m\u001b[0;34m)\u001b[0m\u001b[0;34m\u001b[0m\u001b[0;34m\u001b[0m\u001b[0m\n\u001b[0m\u001b[1;32m    358\u001b[0m \u001b[0;34m\u001b[0m\u001b[0m\n\u001b[1;32m    359\u001b[0m \u001b[0;34m\u001b[0m\u001b[0m\n",
      "\u001b[0;32m/home/.conda-env/env_nlp_text_class/lib/python3.6/site-packages/sklearn/metrics/classification.py\u001b[0m in \u001b[0;36maccuracy_score\u001b[0;34m(y_true, y_pred, normalize, sample_weight)\u001b[0m\n\u001b[1;32m    174\u001b[0m \u001b[0;34m\u001b[0m\u001b[0m\n\u001b[1;32m    175\u001b[0m     \u001b[0;31m# Compute accuracy for each possible representation\u001b[0m\u001b[0;34m\u001b[0m\u001b[0;34m\u001b[0m\u001b[0;34m\u001b[0m\u001b[0m\n\u001b[0;32m--> 176\u001b[0;31m     \u001b[0my_type\u001b[0m\u001b[0;34m,\u001b[0m \u001b[0my_true\u001b[0m\u001b[0;34m,\u001b[0m \u001b[0my_pred\u001b[0m \u001b[0;34m=\u001b[0m \u001b[0m_check_targets\u001b[0m\u001b[0;34m(\u001b[0m\u001b[0my_true\u001b[0m\u001b[0;34m,\u001b[0m \u001b[0my_pred\u001b[0m\u001b[0;34m)\u001b[0m\u001b[0;34m\u001b[0m\u001b[0;34m\u001b[0m\u001b[0m\n\u001b[0m\u001b[1;32m    177\u001b[0m     \u001b[0mcheck_consistent_length\u001b[0m\u001b[0;34m(\u001b[0m\u001b[0my_true\u001b[0m\u001b[0;34m,\u001b[0m \u001b[0my_pred\u001b[0m\u001b[0;34m,\u001b[0m \u001b[0msample_weight\u001b[0m\u001b[0;34m)\u001b[0m\u001b[0;34m\u001b[0m\u001b[0;34m\u001b[0m\u001b[0m\n\u001b[1;32m    178\u001b[0m     \u001b[0;32mif\u001b[0m \u001b[0my_type\u001b[0m\u001b[0;34m.\u001b[0m\u001b[0mstartswith\u001b[0m\u001b[0;34m(\u001b[0m\u001b[0;34m'multilabel'\u001b[0m\u001b[0;34m)\u001b[0m\u001b[0;34m:\u001b[0m\u001b[0;34m\u001b[0m\u001b[0;34m\u001b[0m\u001b[0m\n",
      "\u001b[0;32m/home/.conda-env/env_nlp_text_class/lib/python3.6/site-packages/sklearn/metrics/classification.py\u001b[0m in \u001b[0;36m_check_targets\u001b[0;34m(y_true, y_pred)\u001b[0m\n\u001b[1;32m     70\u001b[0m     \"\"\"\n\u001b[1;32m     71\u001b[0m     \u001b[0mcheck_consistent_length\u001b[0m\u001b[0;34m(\u001b[0m\u001b[0my_true\u001b[0m\u001b[0;34m,\u001b[0m \u001b[0my_pred\u001b[0m\u001b[0;34m)\u001b[0m\u001b[0;34m\u001b[0m\u001b[0;34m\u001b[0m\u001b[0m\n\u001b[0;32m---> 72\u001b[0;31m     \u001b[0mtype_true\u001b[0m \u001b[0;34m=\u001b[0m \u001b[0mtype_of_target\u001b[0m\u001b[0;34m(\u001b[0m\u001b[0my_true\u001b[0m\u001b[0;34m)\u001b[0m\u001b[0;34m\u001b[0m\u001b[0;34m\u001b[0m\u001b[0m\n\u001b[0m\u001b[1;32m     73\u001b[0m     \u001b[0mtype_pred\u001b[0m \u001b[0;34m=\u001b[0m \u001b[0mtype_of_target\u001b[0m\u001b[0;34m(\u001b[0m\u001b[0my_pred\u001b[0m\u001b[0;34m)\u001b[0m\u001b[0;34m\u001b[0m\u001b[0;34m\u001b[0m\u001b[0m\n\u001b[1;32m     74\u001b[0m \u001b[0;34m\u001b[0m\u001b[0m\n",
      "\u001b[0;32m/home/.conda-env/env_nlp_text_class/lib/python3.6/site-packages/sklearn/utils/multiclass.py\u001b[0m in \u001b[0;36mtype_of_target\u001b[0;34m(y)\u001b[0m\n\u001b[1;32m    285\u001b[0m         \u001b[0;32mreturn\u001b[0m \u001b[0;34m'continuous'\u001b[0m \u001b[0;34m+\u001b[0m \u001b[0msuffix\u001b[0m\u001b[0;34m\u001b[0m\u001b[0;34m\u001b[0m\u001b[0m\n\u001b[1;32m    286\u001b[0m \u001b[0;34m\u001b[0m\u001b[0m\n\u001b[0;32m--> 287\u001b[0;31m     \u001b[0;32mif\u001b[0m \u001b[0;34m(\u001b[0m\u001b[0mlen\u001b[0m\u001b[0;34m(\u001b[0m\u001b[0mnp\u001b[0m\u001b[0;34m.\u001b[0m\u001b[0munique\u001b[0m\u001b[0;34m(\u001b[0m\u001b[0my\u001b[0m\u001b[0;34m)\u001b[0m\u001b[0;34m)\u001b[0m \u001b[0;34m>\u001b[0m \u001b[0;36m2\u001b[0m\u001b[0;34m)\u001b[0m \u001b[0;32mor\u001b[0m \u001b[0;34m(\u001b[0m\u001b[0my\u001b[0m\u001b[0;34m.\u001b[0m\u001b[0mndim\u001b[0m \u001b[0;34m>=\u001b[0m \u001b[0;36m2\u001b[0m \u001b[0;32mand\u001b[0m \u001b[0mlen\u001b[0m\u001b[0;34m(\u001b[0m\u001b[0my\u001b[0m\u001b[0;34m[\u001b[0m\u001b[0;36m0\u001b[0m\u001b[0;34m]\u001b[0m\u001b[0;34m)\u001b[0m \u001b[0;34m>\u001b[0m \u001b[0;36m1\u001b[0m\u001b[0;34m)\u001b[0m\u001b[0;34m:\u001b[0m\u001b[0;34m\u001b[0m\u001b[0;34m\u001b[0m\u001b[0m\n\u001b[0m\u001b[1;32m    288\u001b[0m         \u001b[0;32mreturn\u001b[0m \u001b[0;34m'multiclass'\u001b[0m \u001b[0;34m+\u001b[0m \u001b[0msuffix\u001b[0m  \u001b[0;31m# [1, 2, 3] or [[1., 2., 3]] or [[1, 2]]\u001b[0m\u001b[0;34m\u001b[0m\u001b[0;34m\u001b[0m\u001b[0m\n\u001b[1;32m    289\u001b[0m     \u001b[0;32melse\u001b[0m\u001b[0;34m:\u001b[0m\u001b[0;34m\u001b[0m\u001b[0;34m\u001b[0m\u001b[0m\n",
      "\u001b[0;32m<__array_function__ internals>\u001b[0m in \u001b[0;36munique\u001b[0;34m(*args, **kwargs)\u001b[0m\n",
      "\u001b[0;32m/home/.conda-env/env_nlp_text_class/lib/python3.6/site-packages/numpy/lib/arraysetops.py\u001b[0m in \u001b[0;36munique\u001b[0;34m(ar, return_index, return_inverse, return_counts, axis)\u001b[0m\n\u001b[1;32m    260\u001b[0m     \u001b[0mar\u001b[0m \u001b[0;34m=\u001b[0m \u001b[0mnp\u001b[0m\u001b[0;34m.\u001b[0m\u001b[0masanyarray\u001b[0m\u001b[0;34m(\u001b[0m\u001b[0mar\u001b[0m\u001b[0;34m)\u001b[0m\u001b[0;34m\u001b[0m\u001b[0;34m\u001b[0m\u001b[0m\n\u001b[1;32m    261\u001b[0m     \u001b[0;32mif\u001b[0m \u001b[0maxis\u001b[0m \u001b[0;32mis\u001b[0m \u001b[0;32mNone\u001b[0m\u001b[0;34m:\u001b[0m\u001b[0;34m\u001b[0m\u001b[0;34m\u001b[0m\u001b[0m\n\u001b[0;32m--> 262\u001b[0;31m         \u001b[0mret\u001b[0m \u001b[0;34m=\u001b[0m \u001b[0m_unique1d\u001b[0m\u001b[0;34m(\u001b[0m\u001b[0mar\u001b[0m\u001b[0;34m,\u001b[0m \u001b[0mreturn_index\u001b[0m\u001b[0;34m,\u001b[0m \u001b[0mreturn_inverse\u001b[0m\u001b[0;34m,\u001b[0m \u001b[0mreturn_counts\u001b[0m\u001b[0;34m)\u001b[0m\u001b[0;34m\u001b[0m\u001b[0;34m\u001b[0m\u001b[0m\n\u001b[0m\u001b[1;32m    263\u001b[0m         \u001b[0;32mreturn\u001b[0m \u001b[0m_unpack_tuple\u001b[0m\u001b[0;34m(\u001b[0m\u001b[0mret\u001b[0m\u001b[0;34m)\u001b[0m\u001b[0;34m\u001b[0m\u001b[0;34m\u001b[0m\u001b[0m\n\u001b[1;32m    264\u001b[0m \u001b[0;34m\u001b[0m\u001b[0m\n",
      "\u001b[0;32m/home/.conda-env/env_nlp_text_class/lib/python3.6/site-packages/numpy/lib/arraysetops.py\u001b[0m in \u001b[0;36m_unique1d\u001b[0;34m(ar, return_index, return_inverse, return_counts)\u001b[0m\n\u001b[1;32m    308\u001b[0m         \u001b[0maux\u001b[0m \u001b[0;34m=\u001b[0m \u001b[0mar\u001b[0m\u001b[0;34m[\u001b[0m\u001b[0mperm\u001b[0m\u001b[0;34m]\u001b[0m\u001b[0;34m\u001b[0m\u001b[0;34m\u001b[0m\u001b[0m\n\u001b[1;32m    309\u001b[0m     \u001b[0;32melse\u001b[0m\u001b[0;34m:\u001b[0m\u001b[0;34m\u001b[0m\u001b[0;34m\u001b[0m\u001b[0m\n\u001b[0;32m--> 310\u001b[0;31m         \u001b[0mar\u001b[0m\u001b[0;34m.\u001b[0m\u001b[0msort\u001b[0m\u001b[0;34m(\u001b[0m\u001b[0;34m)\u001b[0m\u001b[0;34m\u001b[0m\u001b[0;34m\u001b[0m\u001b[0m\n\u001b[0m\u001b[1;32m    311\u001b[0m         \u001b[0maux\u001b[0m \u001b[0;34m=\u001b[0m \u001b[0mar\u001b[0m\u001b[0;34m\u001b[0m\u001b[0;34m\u001b[0m\u001b[0m\n\u001b[1;32m    312\u001b[0m     \u001b[0mmask\u001b[0m \u001b[0;34m=\u001b[0m \u001b[0mnp\u001b[0m\u001b[0;34m.\u001b[0m\u001b[0mempty\u001b[0m\u001b[0;34m(\u001b[0m\u001b[0maux\u001b[0m\u001b[0;34m.\u001b[0m\u001b[0mshape\u001b[0m\u001b[0;34m,\u001b[0m \u001b[0mdtype\u001b[0m\u001b[0;34m=\u001b[0m\u001b[0mnp\u001b[0m\u001b[0;34m.\u001b[0m\u001b[0mbool_\u001b[0m\u001b[0;34m)\u001b[0m\u001b[0;34m\u001b[0m\u001b[0;34m\u001b[0m\u001b[0m\n",
      "\u001b[0;31mKeyboardInterrupt\u001b[0m: "
     ]
    }
   ],
   "source": [
    "stats = {'n_train': 0, 'n_train_pos': 0,\n",
    "         'accuracy': 0.0, 'accuracy_history': [(0, 0)], 't0': time.time(),\n",
    "         'runtime_history': [(0, 0)], 'total_fit_time': 0.0, 'size':x_train.shape[0]}\n",
    "\n",
    "tick = time.time()\n",
    "total_vect_time += time.time() - tick\n",
    "cnt = 1\n",
    "\n",
    "for x_chunk, y_chunk in mini_batches:\n",
    "    tick = time.time()\n",
    "    \n",
    "    classifier.partial_fit(x_chunk, y_chunk, classes=np.unique(y_test))\n",
    "    \n",
    "    stats['total_fit_time'] += time.time() - tick\n",
    "    stats['n_train'] += x_chunk.shape[0] # check\n",
    "    \n",
    "    tick = time.time()\n",
    "    \n",
    "    stats['accuracy'] = classifier.score(dtm_test, y_test)\n",
    "    stats['prediction_time'] = time.time() - tick\n",
    "    acc_history = (stats['accuracy'], stats['n_train'])\n",
    "    stats['accuracy_history'].append(acc_history)\n",
    "    run_history = (stats['accuracy'], total_vect_time + stats['total_fit_time'])\n",
    "    stats['runtime_history'].append(run_history)\n",
    "    \n",
    "    if cnt%3 == 0:\n",
    "        print(generate_report(stats))\n",
    "    cnt += 1"
   ]
  },
  {
   "cell_type": "code",
   "execution_count": null,
   "metadata": {
    "Collapsed": "false"
   },
   "outputs": [],
   "source": [
    "y_pred = classifier.predict(dtm_test)"
   ]
  },
  {
   "cell_type": "code",
   "execution_count": null,
   "metadata": {
    "Collapsed": "false"
   },
   "outputs": [],
   "source": [
    "print(classification_report(y_test, y_pred))"
   ]
  },
  {
   "cell_type": "code",
   "execution_count": null,
   "metadata": {
    "Collapsed": "false"
   },
   "outputs": [],
   "source": [
    "cm = confusion_matrix(y_test, y_pred)\n",
    "evaluation.plot_confusion_matrix(cm=cm, classes=range(1, 6), normalize=True)"
   ]
  },
  {
   "cell_type": "code",
   "execution_count": null,
   "metadata": {
    "Collapsed": "false"
   },
   "outputs": [],
   "source": [
    "print('Accuracy:', accuracy_score(y_test, y_pred))\n",
    "print('Balanced accuracy:', balanced_accuracy_score(y_test, y_pred))\n",
    "print(\"Cohen's cappa coefficient:\", cohen_kappa_score(y_test, y_pred))"
   ]
  },
  {
   "cell_type": "markdown",
   "metadata": {
    "Collapsed": "false"
   },
   "source": [
    "# Training without Hyperparameter Tuning"
   ]
  },
  {
   "cell_type": "code",
   "execution_count": 220,
   "metadata": {
    "Collapsed": "false"
   },
   "outputs": [],
   "source": [
    "x2 = df['code_body'] + df['title']\n",
    "y2 = df['tags'].apply(lambda row: ' '.join(row))"
   ]
  },
  {
   "cell_type": "code",
   "execution_count": 221,
   "metadata": {
    "Collapsed": "false"
   },
   "outputs": [],
   "source": [
    "x2_train, x2_test, y2_train, y2_test = train_test_split(x2, y2, test_size=0.2, stratify=y2, random_state=30)"
   ]
  },
  {
   "cell_type": "code",
   "execution_count": 222,
   "metadata": {
    "Collapsed": "false"
   },
   "outputs": [],
   "source": [
    "estimators2 = [\n",
    "    ('tfidf', TfidfVectorizer(tokenizer=lambda string: string.split(),\n",
    "                             min_df=10,\n",
    "                             max_df=0.75,\n",
    "                             ngram_range=(1,1))),\n",
    "    ('clf', SGDClassifier(n_jobs=-1, \n",
    "                          early_stopping=True, \n",
    "                          class_weight='balanced',\n",
    "                          alpha=0.001))\n",
    "]"
   ]
  },
  {
   "cell_type": "code",
   "execution_count": 223,
   "metadata": {
    "Collapsed": "false"
   },
   "outputs": [],
   "source": [
    "p2 = Pipeline(estimators2)"
   ]
  },
  {
   "cell_type": "code",
   "execution_count": 224,
   "metadata": {
    "Collapsed": "false"
   },
   "outputs": [],
   "source": [
    "score2 = p2.fit(x2_train, y2_train)"
   ]
  },
  {
   "cell_type": "code",
   "execution_count": 225,
   "metadata": {
    "Collapsed": "false"
   },
   "outputs": [],
   "source": [
    "y2_pred = p2.predict(x2_test)"
   ]
  },
  {
   "cell_type": "code",
   "execution_count": 226,
   "metadata": {
    "Collapsed": "false"
   },
   "outputs": [
    {
     "name": "stdout",
     "output_type": "stream",
     "text": [
      "                precision    recall  f1-score   support\n",
      "\n",
      "          .net       0.29      0.30      0.29      2724\n",
      "          ajax       0.16      0.67      0.25       599\n",
      "       android       0.92      0.84      0.88     29196\n",
      "     angularjs       0.60      0.88      0.72      3743\n",
      "        arrays       0.21      0.42      0.28       936\n",
      "       asp.net       0.56      0.50      0.53      4153\n",
      "   asp.net-mvc       0.51      0.67      0.58      2483\n",
      "             c       0.64      0.68      0.66      6791\n",
      "            c#       0.70      0.36      0.48     23224\n",
      "           c++       0.84      0.64      0.73     16799\n",
      "           css       0.53      0.79      0.63      4291\n",
      "      database       0.20      0.39      0.26      1127\n",
      "        django       0.53      0.84      0.65      2454\n",
      "       eclipse       0.41      0.72      0.52      1388\n",
      "         excel       0.51      0.86      0.64      3262\n",
      "      facebook       0.35      0.91      0.51      1414\n",
      "         forms       0.09      0.58      0.16       457\n",
      "           git       0.55      0.96      0.70      2913\n",
      "          html       0.32      0.23      0.26      2404\n",
      "         html5       0.23      0.46      0.31       897\n",
      "         image       0.16      0.52      0.24       656\n",
      "           ios       0.60      0.40      0.48      6732\n",
      "        iphone       0.39      0.44      0.41      3313\n",
      "          java       0.91      0.61      0.73     32668\n",
      "    javascript       0.84      0.49      0.61     16963\n",
      "        jquery       0.74      0.63      0.68      8969\n",
      "          json       0.22      0.68      0.33      1084\n",
      "         linux       0.51      0.60      0.55      3344\n",
      "multithreading       0.10      0.70      0.18       476\n",
      "         mysql       0.61      0.67      0.64      5503\n",
      "       node.js       0.47      0.76      0.58      3217\n",
      "   objective-c       0.37      0.53      0.44      3022\n",
      "        oracle       0.39      0.80      0.52      1198\n",
      "           php       0.88      0.64      0.74     21371\n",
      "        python       0.90      0.75      0.81     21106\n",
      "             r       0.69      0.78      0.73      6432\n",
      "         regex       0.38      0.71      0.49      2009\n",
      "          ruby       0.59      0.61      0.60      3197\n",
      " ruby-on-rails       0.72      0.68      0.70      6564\n",
      "        spring       0.33      0.80      0.47      1587\n",
      "           sql       0.36      0.12      0.18      4498\n",
      "    sql-server       0.38      0.62      0.47      2880\n",
      "        string       0.10      0.24      0.14       523\n",
      "         swift       0.31      0.86      0.45      1353\n",
      "        vb.net       0.46      0.67      0.55      2382\n",
      "       windows       0.34      0.48      0.40      2083\n",
      "     wordpress       0.45      0.81      0.58      1612\n",
      "           wpf       0.40      0.87      0.55      2189\n",
      "         xcode       0.30      0.55      0.39       922\n",
      "           xml       0.36      0.78      0.50      1857\n",
      "\n",
      "      accuracy                           0.63    280965\n",
      "     macro avg       0.47      0.63      0.50    280965\n",
      "  weighted avg       0.71      0.63      0.65    280965\n",
      "\n"
     ]
    }
   ],
   "source": [
    "print(classification_report(y2_test, y2_pred))"
   ]
  },
  {
   "cell_type": "code",
   "execution_count": 227,
   "metadata": {
    "Collapsed": "false"
   },
   "outputs": [
    {
     "data": {
      "image/png": "[encoded data removed]",
      "text/plain": [
       "<Figure size 432x288 with 2 Axes>"
      ]
     },
     "metadata": {
      "needs_background": "light"
     },
     "output_type": "display_data"
    }
   ],
   "source": [
    "cm2 = confusion_matrix(y2_test, y2_pred)\n",
    "evaluation.plot_confusion_matrix(cm=cm2, classes=range(1, 6), normalize=True)"
   ]
  },
  {
   "cell_type": "code",
   "execution_count": 228,
   "metadata": {
    "Collapsed": "false"
   },
   "outputs": [
    {
     "name": "stdout",
     "output_type": "stream",
     "text": [
      "Accuracy: 0.6302849109319666\n",
      "Balanced accuracy: 0.6300390259600668\n",
      "Cohen's cappa coefficient: 0.613501361329076\n"
     ]
    }
   ],
   "source": [
    "print('Accuracy:', accuracy_score(y2_test, y2_pred))\n",
    "print('Balanced accuracy:', balanced_accuracy_score(y2_test, y2_pred))\n",
    "print(\"Cohen's cappa coefficient:\", cohen_kappa_score(y2_test, y2_pred))"
   ]
  },
  {
   "cell_type": "code",
   "execution_count": null,
   "metadata": {
    "Collapsed": "false"
   },
   "outputs": [],
   "source": []
  }
 ],
 "metadata": {
  "kernelspec": {
   "display_name": "Python [conda env:env_nlp_text_class]",
   "language": "python",
   "name": "conda-env-env_nlp_text_class-py"
  },
  "language_info": {
   "codemirror_mode": {
    "name": "ipython",
    "version": 3
   },
   "file_extension": ".py",
   "mimetype": "text/x-python",
   "name": "python",
   "nbconvert_exporter": "python",
   "pygments_lexer": "ipython3",
   "version": "3.6.9"
  }
 },
 "nbformat": 4,
 "nbformat_minor": 4
}
