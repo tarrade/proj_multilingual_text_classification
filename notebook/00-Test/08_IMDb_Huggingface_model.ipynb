{
 "cells": [
  {
   "cell_type": "markdown",
   "metadata": {
    "Collapsed": "false"
   },
   "source": [
    "# The IMDb Dataset\n",
    "The IMDb dataset consists of sentences from movie reviews and human annotations of their sentiment. The task is to predict the sentiment of a given sentence. We use the two-way (positive/negative) class split, and use only sentence-level labels."
   ]
  },
  {
   "cell_type": "code",
   "execution_count": 19,
   "metadata": {
    "Collapsed": "false",
    "collapsed": true,
    "jupyter": {
     "outputs_hidden": true,
     "source_hidden": true
    }
   },
   "outputs": [
    {
     "data": {
      "text/markdown": [
       "Environment variables that need to be defined:   \n",
       "`export DIR_PROJ=your_path_git_repository`  \n",
       "`export PYTHONPATH=$DIR_PROJ/src`  \n",
       "`export PATH_TENSORBOARD=your_path_tensorboard`  \n",
       "`export PATH_DATASETS=your_path_datasets`  \n",
       "`export PROJECT_ID=your_gcp_project_id`  \n",
       "`export BUCKET_NAME=your_gcp_gs_bucket_name`  \n",
       "`export REGION=your_region`  \n",
       "`export PATH_SAVE_MODEL=your_path_to_save_model` \n",
       "\n",
       "- Use local Jupyter Lab \n",
       "    - you need to have the `jupyter-notebook` Anaconda python environment created [link](local_jupyter_lab_installation.md) \n",
       "    - you need to have the `jupyter-notebook` Anaconda python environment activated [link](local_jupyter_lab_installation.md) \n",
       "    - then define the environment variables above (copy and paste) \n",
       "    - you need to have the `env_multilingual_class` Anaconda python environment created [link](local_jupyter_lab_installation.md)  \n",
       "    - start Jupyter Lab:  `jupyter lab` \n",
       "    - open a Jupyter Lab notebook from `notebook/` \n",
       "     - clone this repositiory: `git clone https://github.com/tarrade/proj_multilingual_text_classification.git`\n",
       "    - choose the proper Anaconda python environment:  `Python [conda env:env_multilingual_class]` [link](conda_env.md) \n",
       "    - clone this repositiory: `git clone https://github.com/tarrade/proj_multilingual_text_classification.git`\n",
       "\n",
       "\n",
       "- Use GCP Jupyter Lab \n",
       "    - Go on GCP\n",
       "    - open a Cloud Shell\n",
       "    - `ssh-keygen -t rsa -b 4096 -C firstName_lastName`\n",
       "    - `cp .ssh/id_rsa.pub .`\n",
       "    - use Cloud Editor to edit this file `id_rsa.pub` and copy the full content\n",
       "    - Go on Compute Engine -> Metadata\n",
       "    - Click SSH Keys\n",
       "    - Click Edit\n",
       "    - Click + Add item, copy the content of `id_rsa.pub`\n",
       "    - You should see firstName_lastName of the left\n",
       "    - Click Save\n",
       "    - you need to start a AI Platform instance \n",
       "    - open a Jupyter Lab terminal and got to `/home/gcp_user_name/`\n",
       "    - clone this repositiory: `git clone https://github.com/tarrade/proj_multilingual_text_classification.git`\n",
       "    - then `cd proj_multilingual_text_classification/`\n",
       "    - create the Anacond Python environment `conda env create -f env/environment.yml`\n",
       "    - create a file `config.sh` in `/home` with the following information: \n",
       "    ```\n",
       "    #!/bin/bash\n",
       "    \n",
       "    echo \"applying some configuration ...\"\n",
       "    git config --global user.email user_email\n",
       "    git config --global user.name user_name\n",
       "    git config --global credential.helper store\n",
       "        \n",
       "    # Add here the enviroment variables from above below\n",
       "    # [EDIT ME]\n",
       "    export DIR_PROJ=your_path_git_repository\n",
       "    export PYTHONPATH=$DIR_PROJ/src\n",
       "  \n",
       "    cd /home/gcp_user_name/\n",
       "    \n",
       "    conda activate env_multilingual_class\n",
       "\n",
       "    export PS1='\\[\\e[91m\\]\\u@:\\[\\e[32m\\]\\w\\[\\e[0m\\]$'\n",
       "    ```\n",
       "    - Got to AI Platform Notebook, select your instance and click \"Reset\".\n",
       "    - Wait and reshreh you Web browser with the Notebook\n"
      ],
      "text/plain": [
       "<IPython.core.display.Markdown object>"
      ]
     },
     "metadata": {},
     "output_type": "display_data"
    }
   ],
   "source": [
    "from IPython.display import display, Markdown\n",
    "with open('../../doc/env_variables_setup.md', 'r') as fh:\n",
    "    content = fh.read()\n",
    "display(Markdown(content))"
   ]
  },
  {
   "cell_type": "markdown",
   "metadata": {
    "Collapsed": "false"
   },
   "source": [
    "## Import Packages"
   ]
  },
  {
   "cell_type": "code",
   "execution_count": 20,
   "metadata": {
    "Collapsed": "false"
   },
   "outputs": [],
   "source": [
    "import tensorflow as tf\n",
    "import tensorflow_datasets\n",
    "\n",
    "from tensorflow.keras.utils import to_categorical\n",
    "\n",
    "from transformers import (\n",
    "    BertConfig,\n",
    "    BertTokenizer,\n",
    "    TFBertModel,\n",
    "    TFBertForSequenceClassification,\n",
    "    glue_convert_examples_to_features,\n",
    "    glue_processors\n",
    ")\n",
    "\n",
    "from sklearn.metrics import confusion_matrix, accuracy_score\n",
    "from sklearn.metrics import classification_report\n",
    "\n",
    "import matplotlib.pyplot as plt\n",
    "\n",
    "import math\n",
    "import numpy as np\n",
    "import os\n",
    "import time\n",
    "from datetime import timedelta\n",
    "import shutil\n",
    "from datetime import datetime\n",
    "\n",
    "# new\n",
    "import re\n",
    "from keras.models import Sequential, load_model"
   ]
  },
  {
   "cell_type": "markdown",
   "metadata": {
    "Collapsed": "false"
   },
   "source": [
    "## Check configuration"
   ]
  },
  {
   "cell_type": "code",
   "execution_count": 21,
   "metadata": {
    "Collapsed": "false"
   },
   "outputs": [
    {
     "name": "stdout",
     "output_type": "stream",
     "text": [
      "v2.1.0-rc2-17-ge5bf8de 2.1.0\n"
     ]
    }
   ],
   "source": [
    "print(tf.version.GIT_VERSION, tf.version.VERSION)"
   ]
  },
  {
   "cell_type": "code",
   "execution_count": 22,
   "metadata": {
    "Collapsed": "false"
   },
   "outputs": [
    {
     "name": "stdout",
     "output_type": "stream",
     "text": [
      "2.2.4-tf\n"
     ]
    }
   ],
   "source": [
    "print(tf.keras.__version__)"
   ]
  },
  {
   "cell_type": "code",
   "execution_count": 23,
   "metadata": {
    "Collapsed": "false"
   },
   "outputs": [
    {
     "name": "stdout",
     "output_type": "stream",
     "text": [
      "No GPU available !!!!\n"
     ]
    }
   ],
   "source": [
    "gpus = tf.config.list_physical_devices('GPU')\n",
    "if len(gpus)>0:\n",
    "    for gpu in gpus:\n",
    "        print('Name:', gpu.name, '  Type:', gpu.device_type)\n",
    "else:\n",
    "    print('No GPU available !!!!')"
   ]
  },
  {
   "cell_type": "markdown",
   "metadata": {
    "Collapsed": "false"
   },
   "source": [
    "## Define Paths"
   ]
  },
  {
   "cell_type": "code",
   "execution_count": 24,
   "metadata": {
    "Collapsed": "false"
   },
   "outputs": [],
   "source": [
    "# note: these need to be specified in the config.sh file\n",
    "try:\n",
    "    data_dir=os.environ['PATH_DATASETS']\n",
    "except KeyError:\n",
    "    print('missing PATH_DATASETS')\n",
    "try:   \n",
    "    tensorboard_dir=os.environ['PATH_TENSORBOARD']\n",
    "except KeyError:\n",
    "    print('missing PATH_TENSORBOARD')\n",
    "try:   \n",
    "    checkpoint_dir=os.environ['PATH_SAVE_MODEL']\n",
    "except KeyError:\n",
    "    print('missing PATH_SAVE_MODEL')"
   ]
  },
  {
   "cell_type": "markdown",
   "metadata": {
    "Collapsed": "false"
   },
   "source": [
    "## Import local packages"
   ]
  },
  {
   "cell_type": "code",
   "execution_count": 25,
   "metadata": {
    "Collapsed": "false"
   },
   "outputs": [],
   "source": [
    "import preprocessing.preprocessing as pp\n",
    "import utils.model_metrics as mm"
   ]
  },
  {
   "cell_type": "code",
   "execution_count": 26,
   "metadata": {
    "Collapsed": "false"
   },
   "outputs": [],
   "source": [
    "import importlib\n",
    "importlib.reload(pp);\n",
    "importlib.reload(mm);"
   ]
  },
  {
   "cell_type": "markdown",
   "metadata": {
    "Collapsed": "false"
   },
   "source": [
    "## Define Parameters"
   ]
  },
  {
   "cell_type": "code",
   "execution_count": 27,
   "metadata": {
    "Collapsed": "false"
   },
   "outputs": [],
   "source": [
    "TOKENIZER = 'bert-base-multilingual-uncased'\n",
    "SEQUENCE_LENGTH = 512"
   ]
  },
  {
   "cell_type": "markdown",
   "metadata": {
    "Collapsed": "false"
   },
   "source": [
    "## Loading a data from Tensorflow Datasets"
   ]
  },
  {
   "cell_type": "code",
   "execution_count": 28,
   "metadata": {
    "Collapsed": "false"
   },
   "outputs": [
    {
     "name": "stderr",
     "output_type": "stream",
     "text": [
      "INFO:absl:No config specified, defaulting to first: imdb_reviews/plain_text\n",
      "INFO:absl:Overwrite dataset info from restored data version.\n",
      "INFO:absl:Reusing dataset imdb_reviews (/home/vera_luechinger/data/imdb_reviews/plain_text/1.0.0)\n",
      "INFO:absl:Constructing tf.data.Dataset for split None, from /home/vera_luechinger/data/imdb_reviews/plain_text/1.0.0\n"
     ]
    }
   ],
   "source": [
    "#data, info = tensorflow_datasets.load(name='glue/sst2',\n",
    "#                                      data_dir=data_dir,\n",
    "#                                      with_info=True)\n",
    "\n",
    "data, info = tensorflow_datasets.load(name=\"imdb_reviews\",\n",
    "                            data_dir=data_dir,\n",
    "                            as_supervised=True,\n",
    "                            with_info=True)"
   ]
  },
  {
   "cell_type": "code",
   "execution_count": 29,
   "metadata": {
    "Collapsed": "false"
   },
   "outputs": [],
   "source": [
    "# IMDb specific:\n",
    "data_valid = data['test'].take(1000)\n",
    "\n",
    "# trying to create a true validation data set for after the computation\n",
    "#data_valid_ext = data['test'].take(2000)\n",
    "#data_valid = data_valid_ext.take(1000)"
   ]
  },
  {
   "cell_type": "markdown",
   "metadata": {
    "Collapsed": "false"
   },
   "source": [
    "### Checking basic info from the metadata"
   ]
  },
  {
   "cell_type": "code",
   "execution_count": 30,
   "metadata": {
    "Collapsed": "false"
   },
   "outputs": [
    {
     "data": {
      "text/plain": [
       "tfds.core.DatasetInfo(\n",
       "    name='imdb_reviews',\n",
       "    version=1.0.0,\n",
       "    description='Large Movie Review Dataset.\n",
       "This is a dataset for binary sentiment classification containing substantially more data than previous benchmark datasets. We provide a set of 25,000 highly polar movie reviews for training, and 25,000 for testing. There is additional unlabeled data for use as well.',\n",
       "    homepage='http://ai.stanford.edu/~amaas/data/sentiment/',\n",
       "    features=FeaturesDict({\n",
       "        'label': ClassLabel(shape=(), dtype=tf.int64, num_classes=2),\n",
       "        'text': Text(shape=(), dtype=tf.string),\n",
       "    }),\n",
       "    total_num_examples=100000,\n",
       "    splits={\n",
       "        'test': 25000,\n",
       "        'train': 25000,\n",
       "        'unsupervised': 50000,\n",
       "    },\n",
       "    supervised_keys=('text', 'label'),\n",
       "    citation=\"\"\"@InProceedings{maas-EtAl:2011:ACL-HLT2011,\n",
       "      author    = {Maas, Andrew L.  and  Daly, Raymond E.  and  Pham, Peter T.  and  Huang, Dan  and  Ng, Andrew Y.  and  Potts, Christopher},\n",
       "      title     = {Learning Word Vectors for Sentiment Analysis},\n",
       "      booktitle = {Proceedings of the 49th Annual Meeting of the Association for Computational Linguistics: Human Language Technologies},\n",
       "      month     = {June},\n",
       "      year      = {2011},\n",
       "      address   = {Portland, Oregon, USA},\n",
       "      publisher = {Association for Computational Linguistics},\n",
       "      pages     = {142--150},\n",
       "      url       = {http://www.aclweb.org/anthology/P11-1015}\n",
       "    }\"\"\",\n",
       "    redistribution_info=,\n",
       ")"
      ]
     },
     "execution_count": 30,
     "metadata": {},
     "output_type": "execute_result"
    }
   ],
   "source": [
    "info"
   ]
  },
  {
   "cell_type": "code",
   "execution_count": 31,
   "metadata": {
    "Collapsed": "false"
   },
   "outputs": [
    {
     "name": "stdout",
     "output_type": "stream",
     "text": [
      "Labels:\n",
      "      ['neg', 'pos']\n",
      "\n",
      "Number of label:\n",
      "      2\n",
      "\n",
      "Structure of the data:\n",
      "      dict_keys(['text', 'label'])\n",
      "\n",
      "Number of entries:\n",
      "   Train dataset: 25000\n",
      "   Test dataset:  25000\n",
      "--> validation dataset not defined\n"
     ]
    }
   ],
   "source": [
    "pp.print_info_dataset(info)"
   ]
  },
  {
   "cell_type": "markdown",
   "metadata": {
    "Collapsed": "false"
   },
   "source": [
    "### Checking basic info from the metadata"
   ]
  },
  {
   "cell_type": "code",
   "execution_count": 32,
   "metadata": {
    "Collapsed": "false"
   },
   "outputs": [
    {
     "data": {
      "text/plain": [
       "{'test': <DatasetV1Adapter shapes: ((), ()), types: (tf.string, tf.int64)>,\n",
       " 'train': <DatasetV1Adapter shapes: ((), ()), types: (tf.string, tf.int64)>,\n",
       " 'unsupervised': <DatasetV1Adapter shapes: ((), ()), types: (tf.string, tf.int64)>}"
      ]
     },
     "execution_count": 32,
     "metadata": {},
     "output_type": "execute_result"
    }
   ],
   "source": [
    "data"
   ]
  },
  {
   "cell_type": "code",
   "execution_count": 33,
   "metadata": {
    "Collapsed": "false"
   },
   "outputs": [
    {
     "data": {
      "text/plain": [
       "dict_keys(['test', 'train', 'unsupervised'])"
      ]
     },
     "execution_count": 33,
     "metadata": {},
     "output_type": "execute_result"
    }
   ],
   "source": [
    "data.keys()"
   ]
  },
  {
   "cell_type": "code",
   "execution_count": 34,
   "metadata": {
    "Collapsed": "false"
   },
   "outputs": [
    {
     "name": "stdout",
     "output_type": "stream",
     "text": [
      "# Structure of the data:\n",
      "\n",
      "   <DatasetV1Adapter shapes: ((), ()), types: (tf.string, tf.int64)>\n",
      "\n",
      "# Output shape of one entry:\n",
      "   (TensorShape([]), TensorShape([]))\n",
      "\n",
      "# Output types of one entry:\n",
      "   (tf.string, tf.int64)\n",
      "\n",
      "# Output typesof one entry:\n",
      "   (<class 'tensorflow.python.framework.ops.Tensor'>, <class 'tensorflow.python.framework.ops.Tensor'>)\n",
      " \n",
      "\n",
      "# Shape of the data:\n",
      "\n",
      "   (25000, 2)\n",
      "data format incompatible\n"
     ]
    }
   ],
   "source": [
    "# only works for glue-compatible datasets\n",
    "try:\n",
    "    pp.print_info_data(data['train'])\n",
    "except AttributeError:\n",
    "    print('data format incompatible')\n"
   ]
  },
  {
   "cell_type": "markdown",
   "metadata": {
    "Collapsed": "false"
   },
   "source": [
    "## Define parameters of the model"
   ]
  },
  {
   "cell_type": "code",
   "execution_count": 35,
   "metadata": {
    "Collapsed": "false"
   },
   "outputs": [
    {
     "name": "stdout",
     "output_type": "stream",
     "text": [
      "Dataset size:           25000/  1000\n",
      "Batch size:                32/    64\n",
      "Step per epoch:           782/    16\n",
      "Total number of batch:   2346/    48\n"
     ]
    }
   ],
   "source": [
    "# changes: had to eliminate all lines concerning a test data set because we only have train and valid\n",
    "\n",
    "\n",
    "# define parameters\n",
    "BATCH_SIZE_TRAIN = 32\n",
    "BATCH_SIZE_TEST = 32\n",
    "BATCH_SIZE_VALID = 64\n",
    "EPOCH = 2\n",
    "\n",
    "# extract parameters\n",
    "size_train_dataset = info.splits['train'].num_examples\n",
    "#size_test_dataset = info.splits['test'].num_examples\n",
    "#size_valid_dataset = info.splits['validation'].num_examples\n",
    "\n",
    "# the size for the validation data set has been manually computed according to the function \n",
    "# pp.print_info_data because the test set has been manually split above\n",
    "size_valid_dataset = np.shape(np.array(list(data_valid.as_numpy_iterator())))[0]\n",
    "number_label = info.features[\"label\"].num_classes\n",
    "\n",
    "# computer parameter\n",
    "STEP_EPOCH_TRAIN = math.ceil(size_train_dataset/BATCH_SIZE_TRAIN)\n",
    "#STEP_EPOCH_TEST = math.ceil(size_test_dataset/BATCH_SIZE_TEST)\n",
    "STEP_EPOCH_VALID = math.ceil(size_valid_dataset/BATCH_SIZE_VALID)\n",
    "\n",
    "\n",
    "#print('Dataset size:          {:6}/{:6}/{:6}'.format(size_train_dataset, size_test_dataset, size_valid_dataset))\n",
    "#print('Batch size:            {:6}/{:6}/{:6}'.format(BATCH_SIZE_TRAIN, BATCH_SIZE_TEST, BATCH_SIZE_VALID))\n",
    "#print('Step per epoch:        {:6}/{:6}/{:6}'.format(STEP_EPOCH_TRAIN, STEP_EPOCH_TEST, STEP_EPOCH_VALID))\n",
    "#print('Total number of batch: {:6}/{:6}/{:6}'.format(STEP_EPOCH_TRAIN*(EPOCH+1), STEP_EPOCH_TEST*(EPOCH+1), STEP_EPOCH_VALID*(EPOCH+1)))\n",
    "print('Dataset size:          {:6}/{:6}'.format(size_train_dataset, size_valid_dataset))\n",
    "print('Batch size:            {:6}/{:6}'.format(BATCH_SIZE_TRAIN, BATCH_SIZE_VALID))\n",
    "print('Step per epoch:        {:6}/{:6}'.format(STEP_EPOCH_TRAIN, STEP_EPOCH_VALID))\n",
    "print('Total number of batch: {:6}/{:6}'.format(STEP_EPOCH_TRAIN*(EPOCH+1), STEP_EPOCH_VALID*(EPOCH+1)))"
   ]
  },
  {
   "cell_type": "markdown",
   "metadata": {
    "Collapsed": "false"
   },
   "source": [
    "## Tokenizer and prepare data for BERT"
   ]
  },
  {
   "cell_type": "code",
   "execution_count": 36,
   "metadata": {
    "Collapsed": "false"
   },
   "outputs": [
    {
     "data": {
      "application/vnd.jupyter.widget-view+json": {
       "model_id": "2bdf833cc0ab4268a1db3d7dacb38f75",
       "version_major": 2,
       "version_minor": 0
      },
      "text/plain": [
       "HBox(children=(FloatProgress(value=0.0, description='Downloading', max=871891.0, style=ProgressStyle(descripti…"
      ]
     },
     "metadata": {},
     "output_type": "display_data"
    },
    {
     "name": "stdout",
     "output_type": "stream",
     "text": [
      "\n"
     ]
    }
   ],
   "source": [
    "# Load tokenizer\n",
    "tokenizer = BertTokenizer.from_pretrained(TOKENIZER)"
   ]
  },
  {
   "cell_type": "code",
   "execution_count": 37,
   "metadata": {
    "Collapsed": "false"
   },
   "outputs": [
    {
     "name": "stdout",
     "output_type": "stream",
     "text": [
      "<DatasetV1Adapter shapes: ((), ()), types: (tf.string, tf.int64)>\n",
      "tf.Tensor(-2, shape=(), dtype=int64)\n",
      "tf.Tensor(-2, shape=(), dtype=int64)\n"
     ]
    }
   ],
   "source": [
    "# recap of input dataset\n",
    "print(data['train'])\n",
    "print(tf.data.experimental.cardinality(data['train']))\n",
    "#print(tf.data.experimental.cardinality(data['test']))\n",
    "#print(tf.data.experimental.cardinality(data['validation']))\n",
    "print(tf.data.experimental.cardinality(data_valid))\n",
    "# super slow since looping over all data\n",
    "#print(len(list(data['train'])))"
   ]
  },
  {
   "cell_type": "markdown",
   "metadata": {
    "Collapsed": "false"
   },
   "source": [
    "### Additional steps for the IMDb dataset specifically"
   ]
  },
  {
   "cell_type": "markdown",
   "metadata": {
    "Collapsed": "false"
   },
   "source": [
    "#### Cleaning"
   ]
  },
  {
   "cell_type": "code",
   "execution_count": 38,
   "metadata": {
    "Collapsed": "false"
   },
   "outputs": [],
   "source": [
    "def preprocess_reviews(reviews):\n",
    "    #REPLACE_NO_SPACE = re.compile(\"[.;:!\\'?,\\\"()\\[\\]]\")\n",
    "    REPLACE_WITH_SPACE = re.compile(\"(<br\\s*/><br\\s*/>)|(\\-)|(\\/)\")\n",
    "    \n",
    "    #ae, oe, ue => only for GERMAN data\n",
    "    #REPLACE_UMLAUT_AE = re.compile(\"(ae)\")\n",
    "    #REPLACE_UMLAUT_OE = re.compile(\"(oe)\")\n",
    "    #REPLACE_UMLAUT_UE = re.compile(\"(ue)\")\n",
    "    \n",
    "    #reviews = [REPLACE_NO_SPACE.sub(\"\", line[0].decode(\"utf-8\").lower()) for line in np.array(list(reviews.as_numpy_iterator()))]\n",
    "    reviews = [REPLACE_WITH_SPACE.sub(\" \", line[0].decode(\"utf-8\")) for line in np.array(list(reviews.as_numpy_iterator()))]# for line in reviews]\n",
    "    #reviews = [REPLACE_UMLAUT_AE.sub(\"ä\", line[0]) for line in reviews]\n",
    "    #reviews = [REPLACE_UMLAUT_OE.sub(\"ö\", line[0]) for line in reviews]\n",
    "    #reviews = [REPLACE_UMLAUT_UE.sub(\"ü\", line[0]) for line in reviews]\n",
    "    \n",
    "    return reviews"
   ]
  },
  {
   "cell_type": "code",
   "execution_count": 39,
   "metadata": {
    "Collapsed": "false"
   },
   "outputs": [],
   "source": [
    "reviews_train_clean = preprocess_reviews(data['train'])\n",
    "reviews_valid_clean = preprocess_reviews(data_valid)"
   ]
  },
  {
   "cell_type": "markdown",
   "metadata": {
    "Collapsed": "false"
   },
   "source": [
    "#### Converting Data to GLUE Format"
   ]
  },
  {
   "cell_type": "code",
   "execution_count": 40,
   "metadata": {
    "Collapsed": "false"
   },
   "outputs": [],
   "source": [
    "labels_train = [int(line[1].decode(\"utf-8\")) for line in np.array(list(data['train'].as_numpy_iterator()))]\n",
    "labels_valid = [int(line[1].decode(\"utf-8\")) for line in np.array(list(data_valid.as_numpy_iterator()))]"
   ]
  },
  {
   "cell_type": "code",
   "execution_count": 41,
   "metadata": {
    "Collapsed": "false"
   },
   "outputs": [],
   "source": [
    "train_data_np = pp.convert_np_array_to_glue_format(reviews_train_clean, labels_train)\n",
    "valid_data_np = pp.convert_np_array_to_glue_format(reviews_valid_clean, labels_valid, shift=len(list(train_data_np)))"
   ]
  },
  {
   "cell_type": "code",
   "execution_count": 42,
   "metadata": {
    "Collapsed": "false"
   },
   "outputs": [],
   "source": [
    "# Prepare data for BERT\n",
    "#train_dataset = glue_convert_examples_to_features(data['train'], \n",
    "#                                                  tokenizer, \n",
    "#                                                  max_length=128, \n",
    "#                                                  task='sst-2')\n",
    "#test_dataset = glue_convert_examples_to_features(data['test'], \n",
    "#                                                  tokenizer, \n",
    "#                                                  max_length=128, \n",
    "#                                                  task='sst-2')\n",
    "#valid_dataset = glue_convert_examples_to_features(data['validation'], \n",
    "#                                                  tokenizer, \n",
    "#                                                  max_length=128, \n",
    "#                                                  task='sst-2')\n",
    "\n",
    "train_dataset = glue_convert_examples_to_features(train_data_np, \n",
    "                                                  tokenizer, \n",
    "                                                  max_length=SEQUENCE_LENGTH, \n",
    "                                                  task='sst-2')\n",
    "valid_dataset = glue_convert_examples_to_features(valid_data_np, \n",
    "                                                  tokenizer, \n",
    "                                                  max_length=SEQUENCE_LENGTH, \n",
    "                                                  task='sst-2')"
   ]
  },
  {
   "cell_type": "code",
   "execution_count": 43,
   "metadata": {
    "Collapsed": "false"
   },
   "outputs": [
    {
     "name": "stdout",
     "output_type": "stream",
     "text": [
      "<FlatMapDataset shapes: ({input_ids: (None,), attention_mask: (None,), token_type_ids: (None,)}, ()), types: ({input_ids: tf.int32, attention_mask: tf.int32, token_type_ids: tf.int32}, tf.int64)>\n",
      "tf.Tensor(-2, shape=(), dtype=int64)\n",
      "tf.Tensor(-2, shape=(), dtype=int64)\n",
      "25000\n"
     ]
    }
   ],
   "source": [
    "# recap of pre processing dataset\n",
    "print(train_dataset)\n",
    "print(tf.data.experimental.cardinality(train_dataset))\n",
    "#print(tf.data.experimental.cardinality(test_dataset))\n",
    "print(tf.data.experimental.cardinality(valid_dataset))\n",
    "# super slow since looping over all data\n",
    "print(len(list(train_dataset)))"
   ]
  },
  {
   "cell_type": "code",
   "execution_count": 44,
   "metadata": {
    "Collapsed": "false"
   },
   "outputs": [],
   "source": [
    "# set shuffle and batch size\n",
    "train_dataset = train_dataset.shuffle(100).batch(BATCH_SIZE_TRAIN).repeat(EPOCH+1)\n",
    "#test_dataset = test_dataset.shuffle(100).batch(BATCH_SIZE_TEST).repeat(EPOCH+1)\n",
    "valid_dataset = valid_dataset.batch(BATCH_SIZE_VALID) #.repeat(EPOCH+1)"
   ]
  },
  {
   "cell_type": "code",
   "execution_count": 45,
   "metadata": {
    "Collapsed": "false"
   },
   "outputs": [
    {
     "name": "stdout",
     "output_type": "stream",
     "text": [
      "# Structure of the data:\n",
      "\n",
      "   <BatchDataset shapes: ({input_ids: (None, None), attention_mask: (None, None), token_type_ids: (None, None)}, (None,)), types: ({input_ids: tf.int32, attention_mask: tf.int32, token_type_ids: tf.int32}, tf.int64)>\n",
      "\n",
      "# Output shape of one entry:\n",
      "   ({'input_ids': TensorShape([None, None]), 'attention_mask': TensorShape([None, None]), 'token_type_ids': TensorShape([None, None])}, TensorShape([None]))\n",
      "\n",
      "# Output types of one entry:\n",
      "   ({'input_ids': tf.int32, 'attention_mask': tf.int32, 'token_type_ids': tf.int32}, tf.int64)\n",
      "\n",
      "# Output typesof one entry:\n",
      "   ({'input_ids': <class 'tensorflow.python.framework.ops.Tensor'>, 'attention_mask': <class 'tensorflow.python.framework.ops.Tensor'>, 'token_type_ids': <class 'tensorflow.python.framework.ops.Tensor'>}, <class 'tensorflow.python.framework.ops.Tensor'>)\n",
      " \n",
      "\n",
      "# Shape of the data:\n",
      "\n",
      "   (16, 2)\n",
      "   ---> 16 batches\n",
      "   ---> 2 dim\n",
      "        label\n",
      "           shape: (64,)\n",
      "        dict structure\n",
      "           dim: 3\n",
      "           [input_ids       / attention_mask  / token_type_ids ]\n",
      "           [(64, 512)       / (64, 512)       / (64, 512)      ]\n",
      "           [ndarray         / ndarray         / ndarray        ]\n",
      "\n",
      "\n",
      "# Examples of data:\n",
      "array([{'input_ids': array([[  101, 10768, 10320, ...,     0,     0,     0],\n",
      "       [  101,   143, 11418, ...,     0,     0,     0],\n",
      "       [  101, 92672, 10158, ..., 17313,   117,   102],\n",
      "       ...,\n",
      "       [  101, 42700, 11999, ...,     0,     0,     0],\n",
      "       [  101, 11530,   112, ...,     0,     0,     0],\n",
      "       [  101, 20220, 10935, ...,     0,     0,     0]], dtype=int32), 'attention_mask': array([[1, 1, 1, ..., 0, 0, 0],\n",
      "       [1, 1, 1, ..., 0, 0, 0],\n",
      "       [1, 1, 1, ..., 1, 1, 1],\n",
      "       ...,\n",
      "       [1, 1, 1, ..., 0, 0, 0],\n",
      "       [1, 1, 1, ..., 0, 0, 0],\n",
      "       [1, 1, 1, ..., 0, 0, 0]], dtype=int32), 'token_type_ids': array([[0, 0, 0, ..., 0, 0, 0],\n",
      "       [0, 0, 0, ..., 0, 0, 0],\n",
      "       [0, 0, 0, ..., 0, 0, 0],\n",
      "       ...,\n",
      "       [0, 0, 0, ..., 0, 0, 0],\n",
      "       [0, 0, 0, ..., 0, 0, 0],\n",
      "       [0, 0, 0, ..., 0, 0, 0]], dtype=int32)},\n",
      "       array([1, 1, 0, 0, 1, 1, 1, 1, 0, 1, 0, 0, 1, 0, 1, 0, 1, 0, 1, 0, 0, 1,\n",
      "       0, 0, 1, 1, 0, 0, 0, 1, 1, 1, 1, 1, 0, 1, 1, 0, 0, 0, 1, 0, 0, 1,\n",
      "       0, 0, 0, 1, 0, 0, 0, 1, 1, 1, 0, 1, 1, 1, 0, 0, 0, 1, 0, 0])],\n",
      "      dtype=object)\n",
      "array([{'input_ids': array([[  101, 11403, 88456, ..., 13202, 53092,   102],\n",
      "       [  101,   151, 10140, ...,     0,     0,     0],\n",
      "       [  101, 10372, 13113, ...,     0,     0,     0],\n",
      "       ...,\n",
      "       [  101, 10497, 11260, ...,     0,     0,     0],\n",
      "       [  101, 10372, 13113, ...,     0,     0,     0],\n",
      "       [  101,   151, 16289, ...,     0,     0,     0]], dtype=int32), 'attention_mask': array([[1, 1, 1, ..., 1, 1, 1],\n",
      "       [1, 1, 1, ..., 0, 0, 0],\n",
      "       [1, 1, 1, ..., 0, 0, 0],\n",
      "       ...,\n",
      "       [1, 1, 1, ..., 0, 0, 0],\n",
      "       [1, 1, 1, ..., 0, 0, 0],\n",
      "       [1, 1, 1, ..., 0, 0, 0]], dtype=int32), 'token_type_ids': array([[0, 0, 0, ..., 0, 0, 0],\n",
      "       [0, 0, 0, ..., 0, 0, 0],\n",
      "       [0, 0, 0, ..., 0, 0, 0],\n",
      "       ...,\n",
      "       [0, 0, 0, ..., 0, 0, 0],\n",
      "       [0, 0, 0, ..., 0, 0, 0],\n",
      "       [0, 0, 0, ..., 0, 0, 0]], dtype=int32)},\n",
      "       array([1, 0, 0, 0, 1, 1, 0, 0, 0, 0, 0, 0, 0, 1, 1, 1, 0, 0, 1, 1, 1, 0,\n",
      "       0, 0, 0, 0, 0, 1, 0, 0, 0, 1, 1, 0, 1, 0, 1, 0, 1, 1, 1, 0, 1, 1,\n",
      "       0, 1, 0, 0, 0, 0, 1, 0, 1, 0, 0, 0, 0, 1, 0, 1, 0, 1, 1, 1])],\n",
      "      dtype=object)\n",
      "array([{'input_ids': array([[  101,   151, 84447, ...,     0,     0,     0],\n",
      "       [  101,   151, 10574, ...,     0,     0,     0],\n",
      "       [  101,   151, 16289, ...,     0,     0,     0],\n",
      "       ...,\n",
      "       [  101,   151, 84447, ...,     0,     0,     0],\n",
      "       [  101,   151, 14650, ...,     0,     0,     0],\n",
      "       [  101, 24395, 79035, ..., 10141, 41863,   102]], dtype=int32), 'attention_mask': array([[1, 1, 1, ..., 0, 0, 0],\n",
      "       [1, 1, 1, ..., 0, 0, 0],\n",
      "       [1, 1, 1, ..., 0, 0, 0],\n",
      "       ...,\n",
      "       [1, 1, 1, ..., 0, 0, 0],\n",
      "       [1, 1, 1, ..., 0, 0, 0],\n",
      "       [1, 1, 1, ..., 1, 1, 1]], dtype=int32), 'token_type_ids': array([[0, 0, 0, ..., 0, 0, 0],\n",
      "       [0, 0, 0, ..., 0, 0, 0],\n",
      "       [0, 0, 0, ..., 0, 0, 0],\n",
      "       ...,\n",
      "       [0, 0, 0, ..., 0, 0, 0],\n",
      "       [0, 0, 0, ..., 0, 0, 0],\n",
      "       [0, 0, 0, ..., 0, 0, 0]], dtype=int32)},\n",
      "       array([0, 1, 1, 0, 0, 0, 0, 1, 0, 1, 0, 0, 1, 0, 0, 1, 0, 0, 1, 0, 0, 1,\n",
      "       0, 1, 1, 0, 1, 1, 0, 1, 1, 1, 1, 0, 0, 0, 1, 1, 0, 0, 0, 1, 0, 0,\n",
      "       0, 1, 0, 1, 0, 0, 1, 0, 0, 0, 1, 0, 0, 1, 1, 1, 0, 0, 1, 1])],\n",
      "      dtype=object)\n",
      "array([{'input_ids': array([[  101, 10139, 10103, ...,     0,     0,     0],\n",
      "       [  101, 17511, 13626, ...,     0,     0,     0],\n",
      "       [  101,   151, 10902, ...,     0,     0,     0],\n",
      "       ...,\n",
      "       [  101, 11523,   143, ...,     0,     0,     0],\n",
      "       [  101, 67715, 14433, ...,     0,     0,     0],\n",
      "       [  101, 10372, 13113, ...,     0,     0,     0]], dtype=int32), 'attention_mask': array([[1, 1, 1, ..., 0, 0, 0],\n",
      "       [1, 1, 1, ..., 0, 0, 0],\n",
      "       [1, 1, 1, ..., 0, 0, 0],\n",
      "       ...,\n",
      "       [1, 1, 1, ..., 0, 0, 0],\n",
      "       [1, 1, 1, ..., 0, 0, 0],\n",
      "       [1, 1, 1, ..., 0, 0, 0]], dtype=int32), 'token_type_ids': array([[0, 0, 0, ..., 0, 0, 0],\n",
      "       [0, 0, 0, ..., 0, 0, 0],\n",
      "       [0, 0, 0, ..., 0, 0, 0],\n",
      "       ...,\n",
      "       [0, 0, 0, ..., 0, 0, 0],\n",
      "       [0, 0, 0, ..., 0, 0, 0],\n",
      "       [0, 0, 0, ..., 0, 0, 0]], dtype=int32)},\n",
      "       array([0, 1, 0, 1, 1, 0, 1, 0, 0, 0, 1, 0, 0, 1, 0, 1, 0, 0, 1, 0, 1, 0,\n",
      "       1, 0, 0, 0, 0, 0, 0, 0, 1, 0, 1, 0, 1, 1, 1, 1, 1, 0, 1, 0, 1, 1,\n",
      "       1, 0, 1, 1, 0, 1, 1, 1, 1, 1, 0, 1, 1, 0, 1, 1, 1, 0, 1, 0])],\n",
      "      dtype=object)\n"
     ]
    }
   ],
   "source": [
    "pp.print_info_data(valid_dataset)"
   ]
  },
  {
   "cell_type": "markdown",
   "metadata": {
    "Collapsed": "false"
   },
   "source": [
    "## Check the final data"
   ]
  },
  {
   "cell_type": "code",
   "execution_count": 46,
   "metadata": {
    "Collapsed": "false"
   },
   "outputs": [
    {
     "name": "stdout",
     "output_type": "stream",
     "text": [
      "# Structure of the data:\n",
      "\n",
      "   <RepeatDataset shapes: ({input_ids: (None, None), attention_mask: (None, None), token_type_ids: (None, None)}, (None,)), types: ({input_ids: tf.int32, attention_mask: tf.int32, token_type_ids: tf.int32}, tf.int64)>\n",
      "\n",
      "# Output shape of one entry:\n",
      "   ({'input_ids': TensorShape([None, None]), 'attention_mask': TensorShape([None, None]), 'token_type_ids': TensorShape([None, None])}, TensorShape([None]))\n",
      "\n",
      "# Output types of one entry:\n",
      "   ({'input_ids': tf.int32, 'attention_mask': tf.int32, 'token_type_ids': tf.int32}, tf.int64)\n",
      "\n",
      "# Output typesof one entry:\n",
      "   ({'input_ids': <class 'tensorflow.python.framework.ops.Tensor'>, 'attention_mask': <class 'tensorflow.python.framework.ops.Tensor'>, 'token_type_ids': <class 'tensorflow.python.framework.ops.Tensor'>}, <class 'tensorflow.python.framework.ops.Tensor'>)\n",
      " \n",
      "\n",
      "# Shape of the data:\n",
      "\n",
      "   (2346, 2)\n",
      "   ---> 2346 batches\n",
      "   ---> 2 dim\n",
      "        label\n",
      "           shape: (32,)\n",
      "        dict structure\n",
      "           dim: 3\n",
      "           [input_ids       / attention_mask  / token_type_ids ]\n",
      "           [(32, 512)       / (32, 512)       / (32, 512)      ]\n",
      "           [ndarray         / ndarray         / ndarray        ]\n"
     ]
    }
   ],
   "source": [
    "pp.print_info_data(train_dataset,print_example=False)"
   ]
  },
  {
   "cell_type": "code",
   "execution_count": 47,
   "metadata": {
    "Collapsed": "false"
   },
   "outputs": [
    {
     "name": "stdout",
     "output_type": "stream",
     "text": [
      " input_ids     ---->    attention_mask    token_type_ids    modified text                 \n",
      "\n",
      "       101     ---->           1                 1          [ C L S ]                     \n",
      "       107     ---->           1                 1          \"                             \n",
      "     10103     ---->           1                 1          t h e                         \n",
      "     42592     ---->           1                 1          p l a i n s                   \n",
      "     10629     ---->           1                 1          # # m a n                     \n",
      "       107     ---->           1                 1          \"                             \n",
      "     36076     ---->           1                 1          r e p r e s e n t s           \n",
      "     10103     ---->           1                 1          t h e                         \n",
      "     11866     ---->           1                 1          d i r e c t o r               \n",
      "     17333     ---->           1                 1          # # i a l                     \n",
      "     11061     ---->           1                 1          p r o                         \n",
      "     39035     ---->           1                 1          # # w e s                     \n",
      "     10107     ---->           1                 1          # # s                         \n",
      "     10108     ---->           1                 1          o f                           \n",
      "     36464     ---->           1                 1          c e c i l                     \n",
      "       144     ---->           1                 1          b                             \n",
      "       119     ---->           1                 1          .                             \n",
      "     17793     ---->           1                 1          d e m i                       \n",
      "     11455     ---->           1                 1          # # l l e                     \n",
      "     10160     ---->           1                 1          a t                           \n",
      "     10491     ---->           1                 1          i t s                         \n",
      "     10889     ---->           1                 1          m o s t                       \n",
      "     20150     ---->           1                 1          i n a                         \n",
      "     28276     ---->           1                 1          # # c c                       \n",
      "     48111     ---->           1                 1          # # u r a t                   \n",
      "     10111     ---->           1                 1          # # e                         \n",
      "     10110     ---->           1                 1          a n d                         \n",
      "     10119     ---->           1                 1          u n                           \n",
      "     17772     ---->           1                 1          f a c t                       \n",
      "     19785     ---->           1                 1          # # u a l                     \n",
      "       119     ---->           1                 1          .                             \n",
      "     10197     ---->           1                 1          i t                           \n",
      "     22655     ---->           1                 1          s e t s                       \n",
      "     10700     ---->           1                 1          u p                           \n",
      "     22340     ---->           1                 1          p a r a l l e l               \n",
      "     28674     ---->           1                 1          p l o t                       \n",
      "     10107     ---->           1                 1          # # s                         \n",
      "     10139     ---->           1                 1          f o r                         \n",
      "     10181     ---->           1                 1          n o                           \n",
      "     15095     ---->           1                 1          l e s s                       \n",
      "     90120     ---->           1                 1          s t e l l a r                 \n",
      "     10144     ---->           1                 1          a n                           \n"
     ]
    }
   ],
   "source": [
    "pp.print_detail_tokeniser(train_dataset, tokenizer, max_entries=40)"
   ]
  },
  {
   "cell_type": "markdown",
   "metadata": {
    "Collapsed": "false"
   },
   "source": [
    "## Building a classification model"
   ]
  },
  {
   "cell_type": "markdown",
   "metadata": {
    "Collapsed": "false"
   },
   "source": [
    "### Define the callbacks"
   ]
  },
  {
   "cell_type": "markdown",
   "metadata": {
    "Collapsed": "false"
   },
   "source": [
    "#### Checkpoints"
   ]
  },
  {
   "cell_type": "code",
   "execution_count": 48,
   "metadata": {
    "Collapsed": "false"
   },
   "outputs": [],
   "source": [
    "# Define the checkpoint directory to store the checkpoints\n",
    "checkpoint_prefix = os.path.join(checkpoint_dir, \"ckpt_{epoch}\")"
   ]
  },
  {
   "cell_type": "code",
   "execution_count": 49,
   "metadata": {
    "Collapsed": "false"
   },
   "outputs": [],
   "source": [
    "checkpoint_callback = tf.keras.callbacks.ModelCheckpoint(filepath=checkpoint_prefix,\n",
    "                                                         save_weights_only=True),\n",
    "                                                         #save_freq=2000),"
   ]
  },
  {
   "cell_type": "markdown",
   "metadata": {
    "Collapsed": "false"
   },
   "source": [
    "#### Decaying learning rate"
   ]
  },
  {
   "cell_type": "code",
   "execution_count": 50,
   "metadata": {
    "Collapsed": "false"
   },
   "outputs": [],
   "source": [
    "# Function for decaying the learning rate.\n",
    "def decay(epoch):\n",
    "    if epoch < 3:\n",
    "        return 1e-3\n",
    "    elif epoch >= 3 and epoch < 7:\n",
    "        return 1e-4\n",
    "    else:\n",
    "        return 1e-5"
   ]
  },
  {
   "cell_type": "code",
   "execution_count": 51,
   "metadata": {
    "Collapsed": "false"
   },
   "outputs": [],
   "source": [
    "decay_callback = tf.keras.callbacks.LearningRateScheduler(decay)"
   ]
  },
  {
   "cell_type": "markdown",
   "metadata": {
    "Collapsed": "false"
   },
   "source": [
    "#### Print learning rate at the end of each epoch"
   ]
  },
  {
   "cell_type": "code",
   "execution_count": 52,
   "metadata": {
    "Collapsed": "false"
   },
   "outputs": [],
   "source": [
    "# Callback for printing the LR at the end of each epoch.\n",
    "class PrintLR(tf.keras.callbacks.Callback):\n",
    "    def on_epoch_end(self, epoch, logs=None):\n",
    "        print('\\nLearning rate for epoch {} is {}'.format(epoch + 1, model.optimizer.lr.numpy()))"
   ]
  },
  {
   "cell_type": "markdown",
   "metadata": {
    "Collapsed": "false"
   },
   "source": [
    "#### TensorBoard"
   ]
  },
  {
   "cell_type": "code",
   "execution_count": 53,
   "metadata": {
    "Collapsed": "false"
   },
   "outputs": [
    {
     "name": "stdout",
     "output_type": "stream",
     "text": [
      "20200406-170034\n"
     ]
    }
   ],
   "source": [
    "# checking existing folders\n",
    "for i in os.listdir(tensorboard_dir):\n",
    "    if os.path.isdir(tensorboard_dir+'/'+i):\n",
    "        print(i)"
   ]
  },
  {
   "cell_type": "code",
   "execution_count": 54,
   "metadata": {
    "Collapsed": "false"
   },
   "outputs": [
    {
     "name": "stdout",
     "output_type": "stream",
     "text": [
      "20200406-170034\n"
     ]
    }
   ],
   "source": [
    "# clean old TensorBoard directory \n",
    "for i in os.listdir(tensorboard_dir):\n",
    "        if os.path.isdir(tensorboard_dir+'/'+i):\n",
    "            print(i)\n",
    "            shutil.rmtree(tensorboard_dir+'/'+i, ignore_errors=False)"
   ]
  },
  {
   "cell_type": "code",
   "execution_count": 55,
   "metadata": {
    "Collapsed": "false"
   },
   "outputs": [],
   "source": [
    "log_dir=tensorboard_dir+'/'+datetime.now().strftime(\"%Y%m%d-%H%M%S\")\n",
    "os.mkdir(log_dir)"
   ]
  },
  {
   "cell_type": "code",
   "execution_count": 56,
   "metadata": {
    "Collapsed": "false"
   },
   "outputs": [],
   "source": [
    "tensorboard_callback = tf.keras.callbacks.TensorBoard(log_dir=log_dir, \n",
    "                                                      histogram_freq=1, \n",
    "                                                      embeddings_freq=1,\n",
    "                                                      write_graph=True,\n",
    "                                                      update_freq='batch',\n",
    "                                                      profile_batch=2)"
   ]
  },
  {
   "cell_type": "markdown",
   "metadata": {
    "Collapsed": "false"
   },
   "source": [
    "#### Loss and efficiency per step"
   ]
  },
  {
   "cell_type": "code",
   "execution_count": 57,
   "metadata": {
    "Collapsed": "false"
   },
   "outputs": [],
   "source": [
    "class History_per_step(tf.keras.callbacks.Callback):\n",
    "    \n",
    "    def __init__(self, validation_data, N):\n",
    "        self.validation_data = validation_data\n",
    "        self.N = N\n",
    "        self.batch = 1\n",
    "\n",
    "    def on_train_begin(self, validation_data, logs={}):\n",
    "        self.steps = []\n",
    "        self.losses = []\n",
    "        self.accuracies = []\n",
    "        self.val_steps = []\n",
    "        self.val_losses = []\n",
    "        self.val_accuracies = []\n",
    "\n",
    "    def on_train_batch_end(self, batch, logs={}):\n",
    "        self.losses.append(logs.get('loss'))\n",
    "        self.accuracies.append(logs.get('accuracy'))\n",
    "        self.steps.append(self.batch)\n",
    "        print('\\n training set -> batch:{} loss:{} and acc: {}'.format(self.batch,logs.get('loss'),logs.get('accuracy')))\n",
    "        \n",
    "        if self.batch % self.N == 0:\n",
    "            loss_val, acc_val = self.model.evaluate(self.validation_data, verbose=0)\n",
    "            self.val_losses.append(loss_val)\n",
    "            self.val_accuracies.append(acc_val)\n",
    "            self.val_steps.append(self.batch)\n",
    "            print('\\n validation set -> batch:{} val loss:{} and val acc: {}'.format(self.batch,loss_val, acc_val))\n",
    "\n",
    "        self.batch += 1\n",
    "    \n",
    "    def on_test_batch_end(self, batch, logs={}):    \n",
    "        #print('{}\\n'.format(logs))\n",
    "        return\n",
    "    \n",
    "    def on_epoch_end(self, batch, logs={}): \n",
    "        #print('{}\\n'.format(logs))\n",
    "        return"
   ]
  },
  {
   "cell_type": "markdown",
   "metadata": {
    "Collapsed": "false"
   },
   "source": [
    "### Checks callbacks"
   ]
  },
  {
   "cell_type": "code",
   "execution_count": 58,
   "metadata": {
    "Collapsed": "false"
   },
   "outputs": [
    {
     "name": "stdout",
     "output_type": "stream",
     "text": [
      "ModelCheckpoint need to unpack this tuple by adding *\n"
     ]
    }
   ],
   "source": [
    "list_callback = [tensorboard_callback, checkpoint_callback, decay_callback]\n",
    "for cb in list_callback:\n",
    "    if type(cb).__name__=='tuple':\n",
    "        print(cb[0].__class__.__name__, 'need to unpack this tuple by adding *')"
   ]
  },
  {
   "cell_type": "markdown",
   "metadata": {
    "Collapsed": "false"
   },
   "source": [
    "### Use TFBertForSequenceClassification"
   ]
  },
  {
   "cell_type": "code",
   "execution_count": 59,
   "metadata": {
    "Collapsed": "false"
   },
   "outputs": [
    {
     "name": "stdout",
     "output_type": "stream",
     "text": [
      "WARNING:tensorflow:There are non-GPU devices in `tf.distribute.Strategy`, not using nccl allreduce.\n"
     ]
    },
    {
     "name": "stderr",
     "output_type": "stream",
     "text": [
      "WARNING:tensorflow:There are non-GPU devices in `tf.distribute.Strategy`, not using nccl allreduce.\n"
     ]
    },
    {
     "name": "stdout",
     "output_type": "stream",
     "text": [
      "INFO:tensorflow:Using MirroredStrategy with devices ('/job:localhost/replica:0/task:0/device:CPU:0',)\n"
     ]
    },
    {
     "name": "stderr",
     "output_type": "stream",
     "text": [
      "INFO:tensorflow:Using MirroredStrategy with devices ('/job:localhost/replica:0/task:0/device:CPU:0',)\n"
     ]
    },
    {
     "name": "stdout",
     "output_type": "stream",
     "text": [
      "Number of devices: 1\n"
     ]
    },
    {
     "data": {
      "application/vnd.jupyter.widget-view+json": {
       "model_id": "c61d60b2d6334f03891d373fe3f6f20b",
       "version_major": 2,
       "version_minor": 0
      },
      "text/plain": [
       "HBox(children=(FloatProgress(value=0.0, description='Downloading', max=569.0, style=ProgressStyle(description_…"
      ]
     },
     "metadata": {},
     "output_type": "display_data"
    },
    {
     "name": "stdout",
     "output_type": "stream",
     "text": [
      "\n"
     ]
    },
    {
     "data": {
      "application/vnd.jupyter.widget-view+json": {
       "model_id": "0a9543e62a174536a853e5e4d2ddf2e9",
       "version_major": 2,
       "version_minor": 0
      },
      "text/plain": [
       "HBox(children=(FloatProgress(value=0.0, description='Downloading', max=999358484.0, style=ProgressStyle(descri…"
      ]
     },
     "metadata": {},
     "output_type": "display_data"
    },
    {
     "name": "stdout",
     "output_type": "stream",
     "text": [
      "\n"
     ]
    }
   ],
   "source": [
    "# Define some parameters\n",
    "#optimizer = tf.keras.optimizers.Adam(learning_rate=0.001, beta_1=0.9, beta_2=0.999, amsgrad=False)\n",
    "# switched to default values\n",
    "\n",
    "optimizer = tf.keras.optimizers.Adam(learning_rate=3e-5, epsilon=1e-08)\n",
    "# Gradient clipping in the optimizer (by setting clipnorm or clipvalue) is currently unsupported when using a distribution strategy\n",
    "# clipnorm=1.0\n",
    "\n",
    "# loss\n",
    "loss = tf.keras.losses.SparseCategoricalCrossentropy(from_logits=True)\n",
    "\n",
    "# Uses the tf.distribute.MirroredStrategy, which does in-graph replication with synchronous training on many GPUs on one machine\n",
    "strategy_model_1 = tf.distribute.MirroredStrategy()\n",
    "print('Number of devices: {}'.format(strategy_model_1.num_replicas_in_sync))\n",
    "\n",
    "# create and compile the Keras model in the context of strategy.scope\n",
    "with strategy_model_1.scope():\n",
    "    # metric\n",
    "    metric = tf.keras.metrics.SparseCategoricalAccuracy('accuracy')\n",
    "    \n",
    "    # model\n",
    "    model_1 = TFBertForSequenceClassification.from_pretrained(TOKENIZER,num_labels=number_label)\n",
    "    #model.layers[-1].activation = tf.keras.activations.softmax\n",
    "    model_1._name='tf_bert_classification'\n",
    "    model_1.compile(optimizer=optimizer,\n",
    "                    loss=loss, \n",
    "                    metrics=[metric])"
   ]
  },
  {
   "cell_type": "code",
   "execution_count": 60,
   "metadata": {
    "Collapsed": "false"
   },
   "outputs": [
    {
     "name": "stdout",
     "output_type": "stream",
     "text": [
      "Model: \"tf_bert_classification\"\n",
      "_________________________________________________________________\n",
      "Layer (type)                 Output Shape              Param #   \n",
      "=================================================================\n",
      "bert (TFBertMainLayer)       multiple                  167356416 \n",
      "_________________________________________________________________\n",
      "dropout_37 (Dropout)         multiple                  0         \n",
      "_________________________________________________________________\n",
      "classifier (Dense)           multiple                  1538      \n",
      "=================================================================\n",
      "Total params: 167,357,954\n",
      "Trainable params: 167,357,954\n",
      "Non-trainable params: 0\n",
      "_________________________________________________________________\n"
     ]
    }
   ],
   "source": [
    "model_1.summary()"
   ]
  },
  {
   "cell_type": "markdown",
   "metadata": {
    "Collapsed": "false"
   },
   "source": [
    "### Building a custom classification model "
   ]
  },
  {
   "cell_type": "code",
   "execution_count": 61,
   "metadata": {
    "Collapsed": "false"
   },
   "outputs": [],
   "source": [
    "def custom_keras_model(number_classes, bert_model):\n",
    "\n",
    "    # create model\n",
    "    input_layer = tf.keras.Input(shape = (128,), dtype='int64')    \n",
    "    bert_ini = TFBertModel.from_pretrained('bert-base-cased') (input_layer)\n",
    "    # This is because in a bert pretraining progress, there are two tasks: \n",
    "    # masked token prediction and next sentence predition . \n",
    "    # The first needs hidden state of each tokens ( shape: [batch_size, sequence_length, hidden_size]) \n",
    "    # the second needs the embedding of the whole sequence (shape : [batch_size, hidden_size] ) .\n",
    "    bert = bert_ini[1]    \n",
    "    dropout = tf.keras.layers.Dropout(0.1)(bert)\n",
    "    flat = tf.keras.layers.Flatten()(dropout)\n",
    "    classifier = tf.keras.layers.Dense(units=number_classes )(flat) # activation='softmax'               \n",
    "    \n",
    "    model = tf.keras.Model(inputs=input_layer, outputs=classifier, name='custom_tf_bert_classification')\n",
    "\n",
    "    return model, bert_ini"
   ]
  },
  {
   "cell_type": "code",
   "execution_count": 62,
   "metadata": {
    "Collapsed": "false"
   },
   "outputs": [
    {
     "name": "stdout",
     "output_type": "stream",
     "text": [
      "WARNING:tensorflow:There are non-GPU devices in `tf.distribute.Strategy`, not using nccl allreduce.\n"
     ]
    },
    {
     "name": "stderr",
     "output_type": "stream",
     "text": [
      "WARNING:tensorflow:There are non-GPU devices in `tf.distribute.Strategy`, not using nccl allreduce.\n"
     ]
    },
    {
     "name": "stdout",
     "output_type": "stream",
     "text": [
      "INFO:tensorflow:Using MirroredStrategy with devices ('/job:localhost/replica:0/task:0/device:CPU:0',)\n"
     ]
    },
    {
     "name": "stderr",
     "output_type": "stream",
     "text": [
      "INFO:tensorflow:Using MirroredStrategy with devices ('/job:localhost/replica:0/task:0/device:CPU:0',)\n"
     ]
    },
    {
     "name": "stdout",
     "output_type": "stream",
     "text": [
      "Number of devices: 1\n"
     ]
    },
    {
     "data": {
      "application/vnd.jupyter.widget-view+json": {
       "model_id": "da730747c52f4f14820b6c9f32bfe75c",
       "version_major": 2,
       "version_minor": 0
      },
      "text/plain": [
       "HBox(children=(FloatProgress(value=0.0, description='Downloading', max=361.0, style=ProgressStyle(description_…"
      ]
     },
     "metadata": {},
     "output_type": "display_data"
    },
    {
     "name": "stdout",
     "output_type": "stream",
     "text": [
      "\n"
     ]
    },
    {
     "data": {
      "application/vnd.jupyter.widget-view+json": {
       "model_id": "19927d11c7ec4fc48b4178fb336baa2d",
       "version_major": 2,
       "version_minor": 0
      },
      "text/plain": [
       "HBox(children=(FloatProgress(value=0.0, description='Downloading', max=526681800.0, style=ProgressStyle(descri…"
      ]
     },
     "metadata": {},
     "output_type": "display_data"
    },
    {
     "name": "stdout",
     "output_type": "stream",
     "text": [
      "\n"
     ]
    }
   ],
   "source": [
    "# Define some parameters\n",
    "optimizer = tf.keras.optimizers.Adam(learning_rate=3e-5, epsilon=1e-08)\n",
    "# Gradient clipping in the optimizer (by setting clipnorm or clipvalue) is currently unsupported when using a distribution strategy\n",
    "# clipnorm=1.0\n",
    "\n",
    "# loss\n",
    "loss = tf.keras.losses.SparseCategoricalCrossentropy(from_logits=True)\n",
    "\n",
    "# Uses the tf.distribute.MirroredStrategy, which does in-graph replication with synchronous training on many GPUs on one machine\n",
    "strategy_model_2 = tf.distribute.MirroredStrategy()\n",
    "print('Number of devices: {}'.format(strategy_model_1.num_replicas_in_sync))\n",
    "\n",
    "# create and compile the Keras model in the context of strategy.scope\n",
    "with strategy_model_2.scope():\n",
    "    # metric\n",
    "    metric = tf.keras.metrics.SparseCategoricalAccuracy('accuracy')\n",
    "    \n",
    "    # model\n",
    "    model_2, bert_ini = custom_keras_model(number_label, 'bert-base-cased')\n",
    "    model_2.compile(optimizer=optimizer,\n",
    "                    loss=loss, \n",
    "                    metrics=[metric])"
   ]
  },
  {
   "cell_type": "code",
   "execution_count": 63,
   "metadata": {
    "Collapsed": "false"
   },
   "outputs": [
    {
     "data": {
      "text/plain": [
       "<tf.Tensor 'tf_bert_model/Identity:0' shape=(None, 128, 768) dtype=float32>"
      ]
     },
     "execution_count": 63,
     "metadata": {},
     "output_type": "execute_result"
    }
   ],
   "source": [
    "bert_ini[0]"
   ]
  },
  {
   "cell_type": "code",
   "execution_count": 64,
   "metadata": {
    "Collapsed": "false"
   },
   "outputs": [
    {
     "data": {
      "text/plain": [
       "<tf.Tensor 'tf_bert_model/Identity_1:0' shape=(None, 768) dtype=float32>"
      ]
     },
     "execution_count": 64,
     "metadata": {},
     "output_type": "execute_result"
    }
   ],
   "source": [
    "bert_ini[1]"
   ]
  },
  {
   "cell_type": "code",
   "execution_count": 65,
   "metadata": {
    "Collapsed": "false"
   },
   "outputs": [
    {
     "name": "stdout",
     "output_type": "stream",
     "text": [
      "Model: \"custom_tf_bert_classification\"\n",
      "_________________________________________________________________\n",
      "Layer (type)                 Output Shape              Param #   \n",
      "=================================================================\n",
      "input_1 (InputLayer)         [(None, 128)]             0         \n",
      "_________________________________________________________________\n",
      "tf_bert_model (TFBertModel)  ((None, 128, 768), (None, 108310272 \n",
      "_________________________________________________________________\n",
      "dropout_75 (Dropout)         (None, 768)               0         \n",
      "_________________________________________________________________\n",
      "flatten (Flatten)            (None, 768)               0         \n",
      "_________________________________________________________________\n",
      "dense (Dense)                (None, 2)                 1538      \n",
      "=================================================================\n",
      "Total params: 108,311,810\n",
      "Trainable params: 108,311,810\n",
      "Non-trainable params: 0\n",
      "_________________________________________________________________\n"
     ]
    }
   ],
   "source": [
    "model_2.summary()"
   ]
  },
  {
   "cell_type": "markdown",
   "metadata": {
    "Collapsed": "false"
   },
   "source": [
    "### Choose the model you want to train"
   ]
  },
  {
   "cell_type": "code",
   "execution_count": 66,
   "metadata": {
    "Collapsed": "false"
   },
   "outputs": [
    {
     "name": "stdout",
     "output_type": "stream",
     "text": [
      "model's name: tf_bert_classification\n"
     ]
    }
   ],
   "source": [
    "#model=model_2\n",
    "model=model_1\n",
    "print('model\\'s name: {}'.format(model.name))"
   ]
  },
  {
   "cell_type": "markdown",
   "metadata": {
    "Collapsed": "false"
   },
   "source": [
    "### TensorBoard"
   ]
  },
  {
   "cell_type": "code",
   "execution_count": 67,
   "metadata": {
    "Collapsed": "false"
   },
   "outputs": [
    {
     "data": {
      "text/html": [
       "\n",
       "      <iframe id=\"tensorboard-frame-640aded294089a1a\" width=\"100%\" height=\"800\" frameborder=\"0\">\n",
       "      </iframe>\n",
       "      <script>\n",
       "        (function() {\n",
       "          const frame = document.getElementById(\"tensorboard-frame-640aded294089a1a\");\n",
       "          const url = new URL(\"/\", window.location);\n",
       "          url.port = 6006;\n",
       "          frame.src = url;\n",
       "        })();\n",
       "      </script>\n",
       "  "
      ],
      "text/plain": [
       "<IPython.core.display.HTML object>"
      ]
     },
     "metadata": {},
     "output_type": "display_data"
    }
   ],
   "source": [
    "%load_ext tensorboard\n",
    "#%reload_ext tensorboard\n",
    "%tensorboard  --logdir   {log_dir}"
   ]
  },
  {
   "cell_type": "markdown",
   "metadata": {
    "Collapsed": "false"
   },
   "source": [
    "### Final feature extraction"
   ]
  },
  {
   "cell_type": "code",
   "execution_count": 68,
   "metadata": {
    "Collapsed": "false"
   },
   "outputs": [],
   "source": [
    "def data_feature_extraction(data, name):\n",
    "    if name=='custom_tf_bert_classification':\n",
    "        print('custom model: {}'.format(name))\n",
    "        return data.map(pp.feature_selection)\n",
    "    elif name=='tf_bert_classification':\n",
    "        print('standard model: {}'.format(name))\n",
    "        return data\n",
    "    else:\n",
    "        print('!!! non defined model !!!!')\n",
    "        return data"
   ]
  },
  {
   "cell_type": "code",
   "execution_count": 69,
   "metadata": {
    "Collapsed": "false"
   },
   "outputs": [
    {
     "name": "stdout",
     "output_type": "stream",
     "text": [
      "16\n"
     ]
    }
   ],
   "source": [
    "print(len(list(valid_dataset)))"
   ]
  },
  {
   "cell_type": "markdown",
   "metadata": {
    "Collapsed": "false"
   },
   "source": [
    "### Training the model"
   ]
  },
  {
   "cell_type": "code",
   "execution_count": 86,
   "metadata": {
    "Collapsed": "false"
   },
   "outputs": [
    {
     "name": "stdout",
     "output_type": "stream",
     "text": [
      "standard model: tf_bert_classification\n",
      "standard model: tf_bert_classification\n",
      "Train for 782 steps, validate for 16 steps\n",
      "\n",
      " training set -> batch:1 loss:0.7071684002876282 and acc: 0.4375\n",
      "  1/782 [..............................] - ETA: 10:27:11 - loss: 0.7072 - accuracy: 0.4375\n",
      " training set -> batch:2 loss:0.6903931498527527 and acc: 0.515625\n",
      "  2/782 [..............................] - ETA: 7:52:09 - loss: 0.6988 - accuracy: 0.5156 \n",
      " training set -> batch:3 loss:0.6876280903816223 and acc: 0.5\n",
      "  3/782 [..............................] - ETA: 6:58:57 - loss: 0.6951 - accuracy: 0.5000\n",
      " training set -> batch:4 loss:0.6836985349655151 and acc: 0.5234375\n",
      "  4/782 [..............................] - ETA: 6:32:04 - loss: 0.6922 - accuracy: 0.5234\n",
      " training set -> batch:5 loss:0.6875916123390198 and acc: 0.543749988079071\n",
      "  5/782 [..............................] - ETA: 6:15:12 - loss: 0.6913 - accuracy: 0.5437\n",
      " training set -> batch:6 loss:0.6818273067474365 and acc: 0.5572916865348816\n",
      "  6/782 [..............................] - ETA: 6:03:36 - loss: 0.6897 - accuracy: 0.5573\n",
      " training set -> batch:7 loss:0.6930062770843506 and acc: 0.5491071343421936\n",
      "  7/782 [..............................] - ETA: 5:56:07 - loss: 0.6902 - accuracy: 0.5491\n",
      " training set -> batch:8 loss:0.6939849853515625 and acc: 0.54296875\n",
      "  8/782 [..............................] - ETA: 5:48:59 - loss: 0.6907 - accuracy: 0.5430\n",
      " training set -> batch:9 loss:0.6770714521408081 and acc: 0.5590277910232544\n",
      "  9/782 [..............................] - ETA: 5:43:14 - loss: 0.6892 - accuracy: 0.5590\n",
      " training set -> batch:10 loss:0.6852560043334961 and acc: 0.559374988079071\n",
      " 10/782 [..............................] - ETA: 5:38:41 - loss: 0.6888 - accuracy: 0.5594\n",
      " training set -> batch:11 loss:0.6892625093460083 and acc: 0.5511363744735718\n",
      " 11/782 [..............................] - ETA: 5:35:00 - loss: 0.6888 - accuracy: 0.5511\n",
      " training set -> batch:12 loss:0.6729637980461121 and acc: 0.5520833134651184\n",
      " 12/782 [..............................] - ETA: 5:31:50 - loss: 0.6875 - accuracy: 0.5521\n",
      " training set -> batch:13 loss:0.7246671915054321 and acc: 0.5480769276618958\n",
      " 13/782 [..............................] - ETA: 5:28:46 - loss: 0.6903 - accuracy: 0.5481\n",
      " training set -> batch:14 loss:0.6808217167854309 and acc: 0.546875\n",
      " 14/782 [..............................] - ETA: 5:26:35 - loss: 0.6897 - accuracy: 0.5469\n",
      " training set -> batch:15 loss:0.6946110725402832 and acc: 0.5458333492279053\n",
      " 15/782 [..............................] - ETA: 5:24:41 - loss: 0.6900 - accuracy: 0.5458\n",
      " training set -> batch:16 loss:0.6680445075035095 and acc: 0.55078125\n",
      " 16/782 [..............................] - ETA: 5:22:29 - loss: 0.6886 - accuracy: 0.5508\n",
      " training set -> batch:17 loss:0.6617188453674316 and acc: 0.5569853186607361\n",
      " 17/782 [..............................] - ETA: 5:20:42 - loss: 0.6870 - accuracy: 0.5570\n",
      " training set -> batch:18 loss:0.6540430188179016 and acc: 0.5590277910232544\n",
      " 18/782 [..............................] - ETA: 5:19:00 - loss: 0.6852 - accuracy: 0.5590\n",
      " training set -> batch:19 loss:0.7145689725875854 and acc: 0.5542762875556946\n",
      " 19/782 [..............................] - ETA: 5:17:35 - loss: 0.6868 - accuracy: 0.5543\n",
      " training set -> batch:20 loss:0.6587620973587036 and acc: 0.557812511920929\n",
      " 20/782 [..............................] - ETA: 5:16:27 - loss: 0.6854 - accuracy: 0.5578\n",
      " training set -> batch:21 loss:0.7261396646499634 and acc: 0.5565476417541504\n",
      " 21/782 [..............................] - ETA: 5:15:24 - loss: 0.6873 - accuracy: 0.5565\n",
      " training set -> batch:22 loss:0.7804040908813477 and acc: 0.5497159361839294\n",
      " 22/782 [..............................] - ETA: 5:14:07 - loss: 0.6915 - accuracy: 0.5497\n",
      " training set -> batch:23 loss:0.6603189706802368 and acc: 0.551630437374115\n",
      " 23/782 [..............................] - ETA: 5:13:02 - loss: 0.6902 - accuracy: 0.5516\n",
      " training set -> batch:24 loss:0.7052205801010132 and acc: 0.5494791865348816\n",
      " 24/782 [..............................] - ETA: 5:12:05 - loss: 0.6908 - accuracy: 0.5495\n",
      " training set -> batch:25 loss:0.6540943384170532 and acc: 0.5575000047683716\n",
      " 25/782 [..............................] - ETA: 5:11:28 - loss: 0.6893 - accuracy: 0.5575\n",
      " training set -> batch:26 loss:0.6932995319366455 and acc: 0.5552884340286255\n",
      " 26/782 [..............................] - ETA: 5:12:10 - loss: 0.6895 - accuracy: 0.5553\n",
      " training set -> batch:27 loss:0.6645588874816895 and acc: 0.5601851940155029\n",
      " 27/782 [>.............................] - ETA: 5:11:04 - loss: 0.6886 - accuracy: 0.5602\n",
      " training set -> batch:28 loss:0.6390194296836853 and acc: 0.5680803656578064\n",
      " 28/782 [>.............................] - ETA: 5:10:24 - loss: 0.6868 - accuracy: 0.5681\n",
      " training set -> batch:29 loss:0.6978905200958252 and acc: 0.5635775923728943\n",
      " 29/782 [>.............................] - ETA: 5:09:28 - loss: 0.6872 - accuracy: 0.5636\n",
      " training set -> batch:30 loss:0.6881760358810425 and acc: 0.5625\n",
      " 30/782 [>.............................] - ETA: 5:08:37 - loss: 0.6872 - accuracy: 0.5625\n",
      " training set -> batch:31 loss:0.669501781463623 and acc: 0.5614919066429138\n",
      " 31/782 [>.............................] - ETA: 5:07:36 - loss: 0.6866 - accuracy: 0.5615\n",
      " training set -> batch:32 loss:0.679126501083374 and acc: 0.560546875\n",
      " 32/782 [>.............................] - ETA: 5:06:42 - loss: 0.6864 - accuracy: 0.5605\n",
      " training set -> batch:33 loss:0.6609534025192261 and acc: 0.560606062412262\n",
      " 33/782 [>.............................] - ETA: 5:06:02 - loss: 0.6856 - accuracy: 0.5606\n",
      " training set -> batch:34 loss:0.6789321899414062 and acc: 0.5615808963775635\n",
      " 34/782 [>.............................] - ETA: 5:05:17 - loss: 0.6854 - accuracy: 0.5616\n",
      " training set -> batch:35 loss:0.6810266375541687 and acc: 0.5625\n",
      " 35/782 [>.............................] - ETA: 5:04:29 - loss: 0.6853 - accuracy: 0.5625\n",
      " training set -> batch:36 loss:0.6566706299781799 and acc: 0.5616319179534912\n",
      " 36/782 [>.............................] - ETA: 5:03:41 - loss: 0.6845 - accuracy: 0.5616\n",
      " training set -> batch:37 loss:0.6736472249031067 and acc: 0.5608108043670654\n",
      " 37/782 [>.............................] - ETA: 5:02:53 - loss: 0.6842 - accuracy: 0.5608\n",
      " training set -> batch:38 loss:0.706331729888916 and acc: 0.5600329041481018\n",
      " 38/782 [>.............................] - ETA: 5:02:06 - loss: 0.6848 - accuracy: 0.5600\n",
      " training set -> batch:39 loss:0.6519606709480286 and acc: 0.5608974099159241\n",
      " 39/782 [>.............................] - ETA: 5:01:58 - loss: 0.6840 - accuracy: 0.5609\n",
      " training set -> batch:40 loss:0.6524474024772644 and acc: 0.5640624761581421\n",
      " 40/782 [>.............................] - ETA: 5:01:20 - loss: 0.6832 - accuracy: 0.5641\n",
      " training set -> batch:41 loss:0.655021071434021 and acc: 0.5663110017776489\n",
      " 41/782 [>.............................] - ETA: 5:00:50 - loss: 0.6825 - accuracy: 0.5663\n",
      " training set -> batch:42 loss:0.6260535717010498 and acc: 0.569940447807312\n",
      " 42/782 [>.............................] - ETA: 5:00:09 - loss: 0.6811 - accuracy: 0.5699\n",
      " training set -> batch:43 loss:0.6088235378265381 and acc: 0.573401153087616\n",
      " 43/782 [>.............................] - ETA: 4:59:33 - loss: 0.6795 - accuracy: 0.5734\n",
      " training set -> batch:44 loss:0.5797110199928284 and acc: 0.5774147510528564\n",
      " 44/782 [>.............................] - ETA: 4:58:53 - loss: 0.6772 - accuracy: 0.5774\n",
      " training set -> batch:45 loss:0.6484052538871765 and acc: 0.5791666507720947\n",
      " 45/782 [>.............................] - ETA: 4:58:18 - loss: 0.6766 - accuracy: 0.5792\n",
      " training set -> batch:46 loss:0.593262255191803 and acc: 0.5822010636329651\n",
      " 46/782 [>.............................] - ETA: 4:57:46 - loss: 0.6747 - accuracy: 0.5822\n",
      " training set -> batch:47 loss:0.5924996137619019 and acc: 0.5857712626457214\n",
      " 47/782 [>.............................] - ETA: 4:57:16 - loss: 0.6730 - accuracy: 0.5858\n",
      " training set -> batch:48 loss:0.5734259486198425 and acc: 0.587890625\n",
      " 48/782 [>.............................] - ETA: 4:56:40 - loss: 0.6709 - accuracy: 0.5879\n",
      " training set -> batch:49 loss:0.495990514755249 and acc: 0.5918367505073547\n",
      " 49/782 [>.............................] - ETA: 4:56:06 - loss: 0.6673 - accuracy: 0.5918\n",
      " training set -> batch:50 loss:0.6122815012931824 and acc: 0.59375\n",
      "\n",
      " validation set -> batch:50 val loss:0.44662781059741974 and val acc: 0.8389999866485596\n",
      " 50/782 [>.............................] - ETA: 6:01:46 - loss: 0.6662 - accuracy: 0.5938\n",
      " training set -> batch:51 loss:0.37547510862350464 and acc: 0.8401162624359131\n",
      " 51/782 [>.............................] - ETA: 5:59:48 - loss: 0.6605 - accuracy: 0.8401\n",
      " training set -> batch:52 loss:0.4271814525127411 and acc: 0.8383458852767944\n",
      " 52/782 [>.............................] - ETA: 5:57:52 - loss: 0.6561 - accuracy: 0.8383\n",
      " training set -> batch:53 loss:0.36190348863601685 and acc: 0.8385036587715149\n",
      " 53/782 [=>............................] - ETA: 5:56:07 - loss: 0.6505 - accuracy: 0.8385\n",
      " training set -> batch:54 loss:0.43796515464782715 and acc: 0.8377659320831299\n",
      " 54/782 [=>............................] - ETA: 5:54:21 - loss: 0.6466 - accuracy: 0.8378\n",
      " training set -> batch:55 loss:0.2718249261379242 and acc: 0.8405172228813171\n",
      " 55/782 [=>............................] - ETA: 5:52:38 - loss: 0.6398 - accuracy: 0.8405\n",
      " training set -> batch:56 loss:0.499179482460022 and acc: 0.8406040072441101\n",
      " 56/782 [=>............................] - ETA: 5:50:54 - loss: 0.6372 - accuracy: 0.8406\n",
      " training set -> batch:57 loss:0.3022420108318329 and acc: 0.8423202633857727\n",
      " 57/782 [=>............................] - ETA: 5:49:15 - loss: 0.6314 - accuracy: 0.8423\n",
      " training set -> batch:58 loss:0.651329755783081 and acc: 0.8399681448936462\n",
      " 58/782 [=>............................] - ETA: 5:47:39 - loss: 0.6317 - accuracy: 0.8400\n",
      " training set -> batch:59 loss:0.41636842489242554 and acc: 0.8392857313156128\n",
      " 59/782 [=>............................] - ETA: 5:46:04 - loss: 0.6281 - accuracy: 0.8393\n",
      " training set -> batch:60 loss:0.3496810495853424 and acc: 0.8401514887809753\n",
      " 60/782 [=>............................] - ETA: 5:44:27 - loss: 0.6234 - accuracy: 0.8402\n",
      " training set -> batch:61 loss:0.34754231572151184 and acc: 0.8402366638183594\n",
      " 61/782 [=>............................] - ETA: 5:42:58 - loss: 0.6189 - accuracy: 0.8402\n",
      " training set -> batch:62 loss:0.16670311987400055 and acc: 0.8424855470657349\n",
      " 62/782 [=>............................] - ETA: 5:41:34 - loss: 0.6116 - accuracy: 0.8425\n",
      " training set -> batch:63 loss:0.3880094587802887 and acc: 0.8425140976905823\n",
      " 63/782 [=>............................] - ETA: 5:40:06 - loss: 0.6081 - accuracy: 0.8425\n",
      " training set -> batch:64 loss:0.32502076029777527 and acc: 0.8425414562225342\n",
      " 64/782 [=>............................] - ETA: 5:38:41 - loss: 0.6036 - accuracy: 0.8425\n",
      " training set -> batch:65 loss:0.24256077408790588 and acc: 0.8452702760696411\n",
      " 65/782 [=>............................] - ETA: 5:37:17 - loss: 0.5981 - accuracy: 0.8453\n",
      " training set -> batch:66 loss:0.7624834179878235 and acc: 0.8425925970077515\n",
      " 66/782 [=>............................] - ETA: 5:35:55 - loss: 0.6006 - accuracy: 0.8426\n",
      " training set -> batch:67 loss:0.34818750619888306 and acc: 0.8432642221450806\n",
      " 67/782 [=>............................] - ETA: 5:34:36 - loss: 0.5968 - accuracy: 0.8433\n",
      " training set -> batch:68 loss:0.4186483919620514 and acc: 0.8426395654678345\n",
      " 68/782 [=>............................] - ETA: 5:33:20 - loss: 0.5942 - accuracy: 0.8426\n",
      " training set -> batch:69 loss:0.27334126830101013 and acc: 0.8432835936546326\n",
      " 69/782 [=>............................] - ETA: 5:32:04 - loss: 0.5895 - accuracy: 0.8433\n",
      " training set -> batch:70 loss:0.28889524936676025 and acc: 0.8439024686813354\n",
      " 70/782 [=>............................] - ETA: 5:30:50 - loss: 0.5852 - accuracy: 0.8439\n",
      " training set -> batch:71 loss:0.35566446185112 and acc: 0.8438995480537415\n",
      " 71/782 [=>............................] - ETA: 5:29:34 - loss: 0.5820 - accuracy: 0.8439\n",
      " training set -> batch:72 loss:0.20109277963638306 and acc: 0.8456572890281677\n",
      " 72/782 [=>............................] - ETA: 5:28:23 - loss: 0.5767 - accuracy: 0.8457\n",
      " training set -> batch:73 loss:0.4956778883934021 and acc: 0.8450461030006409\n",
      " 73/782 [=>............................] - ETA: 5:27:11 - loss: 0.5756 - accuracy: 0.8450\n",
      " training set -> batch:74 loss:0.38134336471557617 and acc: 0.8450226187705994\n",
      " 74/782 [=>............................] - ETA: 5:26:03 - loss: 0.5730 - accuracy: 0.8450\n",
      " training set -> batch:75 loss:0.3957473039627075 and acc: 0.8438888788223267\n",
      " 75/782 [=>............................] - ETA: 5:25:04 - loss: 0.5706 - accuracy: 0.8439\n",
      " training set -> batch:76 loss:0.35925212502479553 and acc: 0.8433406352996826\n",
      " 76/782 [=>............................] - ETA: 5:23:57 - loss: 0.5678 - accuracy: 0.8433\n",
      " training set -> batch:77 loss:0.45924001932144165 and acc: 0.8422746658325195\n",
      " 77/782 [=>............................] - ETA: 5:22:49 - loss: 0.5664 - accuracy: 0.8423\n",
      " training set -> batch:78 loss:0.4145154356956482 and acc: 0.8412446975708008\n",
      " 78/782 [=>............................] - ETA: 5:21:45 - loss: 0.5645 - accuracy: 0.8412\n",
      " training set -> batch:79 loss:0.25193458795547485 and acc: 0.8428423404693604\n",
      " 79/782 [==>...........................] - ETA: 5:20:44 - loss: 0.5605 - accuracy: 0.8428\n",
      " training set -> batch:80 loss:0.33446043729782104 and acc: 0.8428571224212646\n",
      " 80/782 [==>...........................] - ETA: 5:19:43 - loss: 0.5577 - accuracy: 0.8429\n",
      " training set -> batch:81 loss:0.25183889269828796 and acc: 0.843875527381897\n",
      " 81/782 [==>...........................] - ETA: 5:18:44 - loss: 0.5539 - accuracy: 0.8439\n",
      " training set -> batch:82 loss:0.38505661487579346 and acc: 0.8438735008239746\n",
      " 82/782 [==>...........................] - ETA: 5:17:44 - loss: 0.5519 - accuracy: 0.8439\n",
      " training set -> batch:83 loss:0.3995361924171448 and acc: 0.8438715934753418\n",
      " 83/782 [==>...........................] - ETA: 5:16:47 - loss: 0.5500 - accuracy: 0.8439\n",
      " training set -> batch:84 loss:0.5643594264984131 and acc: 0.8419540524482727\n",
      " 84/782 [==>...........................] - ETA: 5:15:48 - loss: 0.5502 - accuracy: 0.8420\n",
      " training set -> batch:85 loss:0.3132462501525879 and acc: 0.8424528241157532\n",
      " 85/782 [==>...........................] - ETA: 5:14:50 - loss: 0.5474 - accuracy: 0.8425\n",
      " training set -> batch:86 loss:0.5677610039710999 and acc: 0.8410780429840088\n",
      " 86/782 [==>...........................] - ETA: 5:13:53 - loss: 0.5476 - accuracy: 0.8411\n",
      " training set -> batch:87 loss:0.5387153029441833 and acc: 0.8392857313156128\n",
      " 87/782 [==>...........................] - ETA: 5:12:56 - loss: 0.5475 - accuracy: 0.8393\n",
      " training set -> batch:88 loss:0.3150697350502014 and acc: 0.8398014307022095\n",
      " 88/782 [==>...........................] - ETA: 5:12:06 - loss: 0.5449 - accuracy: 0.8398\n",
      " training set -> batch:89 loss:0.3527156710624695 and acc: 0.8403024673461914\n",
      " 89/782 [==>...........................] - ETA: 5:11:13 - loss: 0.5427 - accuracy: 0.8403\n",
      " training set -> batch:90 loss:0.343351274728775 and acc: 0.840350866317749\n",
      " 90/782 [==>...........................] - ETA: 5:10:18 - loss: 0.5405 - accuracy: 0.8404\n",
      " training set -> batch:91 loss:0.49173712730407715 and acc: 0.8391003608703613\n",
      " 91/782 [==>...........................] - ETA: 5:09:24 - loss: 0.5400 - accuracy: 0.8391\n",
      " training set -> batch:92 loss:0.2628408670425415 and acc: 0.8400170803070068\n",
      " 92/782 [==>...........................] - ETA: 5:08:33 - loss: 0.5370 - accuracy: 0.8400\n",
      " training set -> batch:93 loss:0.24286970496177673 and acc: 0.8409090638160706\n",
      " 93/782 [==>...........................] - ETA: 5:07:41 - loss: 0.5338 - accuracy: 0.8409\n",
      " training set -> batch:94 loss:0.3430153727531433 and acc: 0.840531587600708\n",
      " 94/782 [==>...........................] - ETA: 5:06:51 - loss: 0.5318 - accuracy: 0.8405\n",
      " training set -> batch:95 loss:0.16266193985939026 and acc: 0.8422130942344666\n",
      " 95/782 [==>...........................] - ETA: 5:06:00 - loss: 0.5279 - accuracy: 0.8422\n",
      " training set -> batch:96 loss:0.30664655566215515 and acc: 0.8422330021858215\n",
      " 96/782 [==>...........................] - ETA: 5:05:09 - loss: 0.5256 - accuracy: 0.8422\n",
      " training set -> batch:97 loss:0.2016620934009552 and acc: 0.8430511355400085\n",
      " 97/782 [==>...........................] - ETA: 5:04:18 - loss: 0.5223 - accuracy: 0.8431\n",
      " training set -> batch:98 loss:0.29302024841308594 and acc: 0.8438485860824585\n",
      " 98/782 [==>...........................] - ETA: 5:03:29 - loss: 0.5199 - accuracy: 0.8438\n",
      " training set -> batch:99 loss:0.30139195919036865 and acc: 0.8446261882781982\n",
      " 99/782 [==>...........................] - ETA: 5:02:41 - loss: 0.5177 - accuracy: 0.8446\n",
      " training set -> batch:100 loss:0.4004225432872772 and acc: 0.8442307710647583\n",
      "\n",
      " validation set -> batch:100 val loss:0.3687014440074563 and val acc: 0.8560000061988831\n",
      "100/782 [==>...........................] - ETA: 5:33:13 - loss: 0.5165 - accuracy: 0.8442\n",
      " training set -> batch:101 loss:0.696576714515686 and acc: 0.8527131676673889\n",
      "101/782 [==>...........................] - ETA: 5:32:08 - loss: 0.5183 - accuracy: 0.8527\n",
      " training set -> batch:102 loss:0.28213876485824585 and acc: 0.8524436354637146\n",
      "102/782 [==>...........................] - ETA: 5:31:02 - loss: 0.5160 - accuracy: 0.8524\n",
      " training set -> batch:103 loss:0.30193978548049927 and acc: 0.8521897792816162\n",
      "103/782 [==>...........................] - ETA: 5:30:00 - loss: 0.5139 - accuracy: 0.8522\n",
      " training set -> batch:104 loss:0.3503645658493042 and acc: 0.8519503474235535\n",
      "104/782 [==>...........................] - ETA: 5:28:52 - loss: 0.5124 - accuracy: 0.8520\n",
      " training set -> batch:105 loss:0.2109331339597702 and acc: 0.8543103337287903\n",
      "105/782 [===>..........................] - ETA: 5:27:47 - loss: 0.5095 - accuracy: 0.8543\n",
      " training set -> batch:106 loss:0.4684222638607025 and acc: 0.8540268540382385\n",
      "106/782 [===>..........................] - ETA: 5:26:40 - loss: 0.5091 - accuracy: 0.8540\n",
      " training set -> batch:107 loss:0.23432566225528717 and acc: 0.8562091588973999\n",
      "107/782 [===>..........................] - ETA: 5:25:33 - loss: 0.5065 - accuracy: 0.8562\n",
      " training set -> batch:108 loss:0.41241222620010376 and acc: 0.8542993664741516\n",
      "108/782 [===>..........................] - ETA: 5:24:31 - loss: 0.5057 - accuracy: 0.8543\n",
      " training set -> batch:109 loss:0.43586525321006775 and acc: 0.8517080545425415\n",
      "109/782 [===>..........................] - ETA: 5:23:28 - loss: 0.5050 - accuracy: 0.8517\n",
      " training set -> batch:110 loss:0.2500850558280945 and acc: 0.8522727489471436\n",
      "110/782 [===>..........................] - ETA: 5:22:25 - loss: 0.5027 - accuracy: 0.8523\n",
      " training set -> batch:111 loss:0.44079098105430603 and acc: 0.8528106212615967\n",
      "111/782 [===>..........................] - ETA: 5:21:22 - loss: 0.5021 - accuracy: 0.8528\n",
      " training set -> batch:112 loss:0.5490754842758179 and acc: 0.849711000919342\n",
      "112/782 [===>..........................] - ETA: 5:20:19 - loss: 0.5026 - accuracy: 0.8497\n",
      " training set -> batch:113 loss:0.3499899208545685 and acc: 0.848870038986206\n",
      "113/782 [===>..........................] - ETA: 5:19:18 - loss: 0.5012 - accuracy: 0.8489\n",
      " training set -> batch:114 loss:0.22379948198795319 and acc: 0.84944748878479\n",
      "114/782 [===>..........................] - ETA: 5:18:17 - loss: 0.4988 - accuracy: 0.8494\n",
      " training set -> batch:115 loss:0.3976173996925354 and acc: 0.8486486673355103\n",
      "115/782 [===>..........................] - ETA: 5:17:18 - loss: 0.4979 - accuracy: 0.8486\n",
      " training set -> batch:116 loss:0.15691567957401276 and acc: 0.851190447807312\n",
      "116/782 [===>..........................] - ETA: 5:16:21 - loss: 0.4950 - accuracy: 0.8512\n",
      " training set -> batch:117 loss:0.6605620384216309 and acc: 0.8490932583808899\n",
      "117/782 [===>..........................] - ETA: 5:15:22 - loss: 0.4964 - accuracy: 0.8491\n",
      " training set -> batch:118 loss:0.36402586102485657 and acc: 0.8502538204193115\n",
      "118/782 [===>..........................] - ETA: 5:14:25 - loss: 0.4953 - accuracy: 0.8503\n",
      " training set -> batch:119 loss:0.38726234436035156 and acc: 0.8501243591308594\n",
      "119/782 [===>..........................] - ETA: 5:13:36 - loss: 0.4943 - accuracy: 0.8501\n",
      " training set -> batch:120 loss:0.30094507336616516 and acc: 0.8512195348739624\n",
      "120/782 [===>..........................] - ETA: 5:12:39 - loss: 0.4927 - accuracy: 0.8512\n",
      " training set -> batch:121 loss:0.4824399948120117 and acc: 0.8498803973197937\n",
      "121/782 [===>..........................] - ETA: 5:11:44 - loss: 0.4926 - accuracy: 0.8499\n",
      " training set -> batch:122 loss:0.26640915870666504 and acc: 0.8509389758110046\n",
      "122/782 [===>..........................] - ETA: 5:10:51 - loss: 0.4908 - accuracy: 0.8509\n",
      " training set -> batch:123 loss:0.4253295063972473 and acc: 0.8502303957939148\n",
      "123/782 [===>..........................] - ETA: 5:10:12 - loss: 0.4903 - accuracy: 0.8502\n",
      " training set -> batch:124 loss:0.3877272605895996 and acc: 0.8495475053787231\n",
      "124/782 [===>..........................] - ETA: 5:09:23 - loss: 0.4894 - accuracy: 0.8495\n",
      " training set -> batch:125 loss:0.5296967029571533 and acc: 0.8472222089767456\n",
      "125/782 [===>..........................] - ETA: 5:08:31 - loss: 0.4898 - accuracy: 0.8472\n",
      " training set -> batch:126 loss:0.30654650926589966 and acc: 0.8477074503898621\n",
      "126/782 [===>..........................] - ETA: 5:07:39 - loss: 0.4883 - accuracy: 0.8477\n",
      " training set -> batch:127 loss:0.48766157031059265 and acc: 0.8465664982795715\n",
      "127/782 [===>..........................] - ETA: 5:06:46 - loss: 0.4883 - accuracy: 0.8466\n",
      " training set -> batch:128 loss:0.33247560262680054 and acc: 0.847046434879303\n",
      "128/782 [===>..........................] - ETA: 5:05:55 - loss: 0.4871 - accuracy: 0.8470\n",
      " training set -> batch:129 loss:0.3389800190925598 and acc: 0.8480290174484253\n",
      "129/782 [===>..........................] - ETA: 5:05:06 - loss: 0.4859 - accuracy: 0.8480\n",
      " training set -> batch:130 loss:0.5536867380142212 and acc: 0.8469387888908386\n",
      "130/782 [===>..........................] - ETA: 5:04:13 - loss: 0.4865 - accuracy: 0.8469\n",
      " training set -> batch:131 loss:0.44335195422172546 and acc: 0.8458835482597351\n",
      "131/782 [====>.........................] - ETA: 5:03:22 - loss: 0.4861 - accuracy: 0.8459\n",
      " training set -> batch:132 loss:0.39763975143432617 and acc: 0.845355749130249\n",
      "132/782 [====>.........................] - ETA: 5:02:32 - loss: 0.4855 - accuracy: 0.8454\n",
      " training set -> batch:133 loss:0.2325247824192047 and acc: 0.8463035225868225\n",
      "133/782 [====>.........................] - ETA: 5:01:43 - loss: 0.4836 - accuracy: 0.8463\n",
      " training set -> batch:134 loss:0.16008248925209045 and acc: 0.8477011322975159\n",
      "134/782 [====>.........................] - ETA: 5:00:56 - loss: 0.4811 - accuracy: 0.8477\n",
      " training set -> batch:135 loss:0.254999577999115 and acc: 0.849056601524353\n",
      "135/782 [====>.........................] - ETA: 5:00:05 - loss: 0.4795 - accuracy: 0.8491\n",
      " training set -> batch:136 loss:0.33100253343582153 and acc: 0.8489776849746704\n",
      "136/782 [====>.........................] - ETA: 4:59:19 - loss: 0.4784 - accuracy: 0.8490\n",
      " training set -> batch:137 loss:0.4765934646129608 and acc: 0.848901093006134\n",
      "137/782 [====>.........................] - ETA: 4:58:30 - loss: 0.4784 - accuracy: 0.8489\n",
      " training set -> batch:138 loss:0.4001756012439728 and acc: 0.8488267064094543\n",
      "138/782 [====>.........................] - ETA: 4:57:41 - loss: 0.4778 - accuracy: 0.8488\n",
      " training set -> batch:139 loss:0.32781362533569336 and acc: 0.8483096361160278\n",
      "139/782 [====>.........................] - ETA: 4:56:54 - loss: 0.4767 - accuracy: 0.8483\n",
      " training set -> batch:140 loss:0.28235989809036255 and acc: 0.8486841917037964\n",
      "140/782 [====>.........................] - ETA: 4:56:05 - loss: 0.4753 - accuracy: 0.8487\n",
      " training set -> batch:141 loss:0.5301233530044556 and acc: 0.8477508425712585\n",
      "141/782 [====>.........................] - ETA: 4:55:17 - loss: 0.4757 - accuracy: 0.8478\n",
      " training set -> batch:142 loss:0.42507147789001465 and acc: 0.8472696542739868\n",
      "142/782 [====>.........................] - ETA: 4:54:31 - loss: 0.4754 - accuracy: 0.8473\n",
      " training set -> batch:143 loss:0.5313572883605957 and acc: 0.8463804721832275\n",
      "143/782 [====>.........................] - ETA: 4:53:45 - loss: 0.4757 - accuracy: 0.8464\n",
      " training set -> batch:144 loss:0.36963987350463867 and acc: 0.8463455438613892\n",
      "144/782 [====>.........................] - ETA: 4:52:58 - loss: 0.4750 - accuracy: 0.8463\n",
      " training set -> batch:145 loss:0.3856918513774872 and acc: 0.8463114500045776\n",
      "145/782 [====>.........................] - ETA: 4:52:13 - loss: 0.4744 - accuracy: 0.8463\n",
      " training set -> batch:146 loss:0.3244835436344147 and acc: 0.8462783098220825\n",
      "146/782 [====>.........................] - ETA: 4:51:29 - loss: 0.4734 - accuracy: 0.8463\n",
      " training set -> batch:147 loss:0.38836783170700073 and acc: 0.8466453552246094\n",
      "147/782 [====>.........................] - ETA: 4:50:46 - loss: 0.4728 - accuracy: 0.8466\n",
      " training set -> batch:148 loss:0.33628231287002563 and acc: 0.8462145328521729\n",
      "148/782 [====>.........................] - ETA: 4:50:03 - loss: 0.4719 - accuracy: 0.8462\n",
      " training set -> batch:149 loss:0.266239732503891 and acc: 0.8469626307487488\n",
      "149/782 [====>.........................] - ETA: 4:49:20 - loss: 0.4705 - accuracy: 0.8470\n",
      " training set -> batch:150 loss:0.38435474038124084 and acc: 0.8473076820373535\n",
      "\n",
      " validation set -> batch:150 val loss:0.29986974131315947 and val acc: 0.8740000128746033\n",
      "150/782 [====>.........................] - ETA: 5:08:19 - loss: 0.4699 - accuracy: 0.8473\n",
      " training set -> batch:151 loss:0.3668345808982849 and acc: 0.873062014579773\n",
      "151/782 [====>.........................] - ETA: 5:07:25 - loss: 0.4692 - accuracy: 0.8731\n",
      " training set -> batch:152 loss:0.21864554286003113 and acc: 0.8759398460388184\n",
      "152/782 [====>.........................] - ETA: 5:06:32 - loss: 0.4676 - accuracy: 0.8759\n",
      " training set -> batch:153 loss:0.1923888921737671 and acc: 0.8777372241020203\n",
      "153/782 [====>.........................] - ETA: 5:05:38 - loss: 0.4658 - accuracy: 0.8777\n",
      " training set -> batch:154 loss:0.38518622517585754 and acc: 0.875\n",
      "154/782 [====>.........................] - ETA: 5:04:45 - loss: 0.4653 - accuracy: 0.8750\n",
      " training set -> batch:155 loss:0.4615745544433594 and acc: 0.8741379380226135\n",
      "155/782 [====>.........................] - ETA: 5:03:52 - loss: 0.4652 - accuracy: 0.8741\n",
      " training set -> batch:156 loss:0.2854722738265991 and acc: 0.875\n",
      "156/782 [====>.........................] - ETA: 5:02:59 - loss: 0.4641 - accuracy: 0.8750\n",
      " training set -> batch:157 loss:0.3932705223560333 and acc: 0.8741829991340637\n",
      "157/782 [=====>........................] - ETA: 5:02:11 - loss: 0.4636 - accuracy: 0.8742\n",
      " training set -> batch:158 loss:0.2218445986509323 and acc: 0.8757961988449097\n",
      "158/782 [=====>........................] - ETA: 5:01:20 - loss: 0.4621 - accuracy: 0.8758\n",
      " training set -> batch:159 loss:0.463798850774765 and acc: 0.8726708292961121\n",
      "159/782 [=====>........................] - ETA: 5:00:29 - loss: 0.4621 - accuracy: 0.8727\n",
      " training set -> batch:160 loss:0.3313624858856201 and acc: 0.8719696998596191\n",
      "160/782 [=====>........................] - ETA: 4:59:38 - loss: 0.4613 - accuracy: 0.8720\n",
      " training set -> batch:161 loss:0.3045271933078766 and acc: 0.8720414042472839\n",
      "161/782 [=====>........................] - ETA: 4:58:47 - loss: 0.4603 - accuracy: 0.8720\n",
      " training set -> batch:162 loss:0.411141574382782 and acc: 0.8699421882629395\n",
      "162/782 [=====>........................] - ETA: 4:57:58 - loss: 0.4600 - accuracy: 0.8699\n",
      " training set -> batch:163 loss:0.28778308629989624 and acc: 0.8707627058029175\n",
      "163/782 [=====>........................] - ETA: 4:57:08 - loss: 0.4590 - accuracy: 0.8708\n",
      " training set -> batch:164 loss:0.3098292350769043 and acc: 0.8701657652854919\n",
      "164/782 [=====>........................] - ETA: 4:56:18 - loss: 0.4581 - accuracy: 0.8702\n",
      " training set -> batch:165 loss:0.371213436126709 and acc: 0.8689188957214355\n",
      "165/782 [=====>........................] - ETA: 4:55:28 - loss: 0.4575 - accuracy: 0.8689\n",
      " training set -> batch:166 loss:0.30557262897491455 and acc: 0.8683862686157227\n",
      "166/782 [=====>........................] - ETA: 4:54:39 - loss: 0.4566 - accuracy: 0.8684\n",
      " training set -> batch:167 loss:0.33851221203804016 and acc: 0.8691709637641907\n",
      "167/782 [=====>........................] - ETA: 4:53:50 - loss: 0.4559 - accuracy: 0.8692\n",
      " training set -> batch:168 loss:0.29726099967956543 and acc: 0.8692893385887146\n",
      "168/782 [=====>........................] - ETA: 4:53:02 - loss: 0.4550 - accuracy: 0.8693\n",
      " training set -> batch:169 loss:0.3251224160194397 and acc: 0.8687810897827148\n",
      "169/782 [=====>........................] - ETA: 4:52:14 - loss: 0.4542 - accuracy: 0.8688\n",
      " training set -> batch:170 loss:0.4671679139137268 and acc: 0.8664634227752686\n",
      "170/782 [=====>........................] - ETA: 4:51:30 - loss: 0.4543 - accuracy: 0.8665\n",
      " training set -> batch:171 loss:0.2036992907524109 and acc: 0.8672248721122742\n",
      "171/782 [=====>........................] - ETA: 4:50:42 - loss: 0.4528 - accuracy: 0.8672\n",
      " training set -> batch:172 loss:0.33042746782302856 and acc: 0.8673709034919739\n",
      "172/782 [=====>........................] - ETA: 4:49:56 - loss: 0.4521 - accuracy: 0.8674\n",
      " training set -> batch:173 loss:0.2542653977870941 and acc: 0.8680875301361084\n",
      "173/782 [=====>........................] - ETA: 4:49:10 - loss: 0.4509 - accuracy: 0.8681\n",
      " training set -> batch:174 loss:0.33610787987709045 and acc: 0.8682126402854919\n",
      "174/782 [=====>........................] - ETA: 4:48:24 - loss: 0.4503 - accuracy: 0.8682\n",
      " training set -> batch:175 loss:0.3016253709793091 and acc: 0.8677777647972107\n",
      "175/782 [=====>........................] - ETA: 4:47:38 - loss: 0.4494 - accuracy: 0.8678\n",
      " training set -> batch:176 loss:0.38868263363838196 and acc: 0.8673580884933472\n",
      "176/782 [=====>........................] - ETA: 4:46:52 - loss: 0.4491 - accuracy: 0.8674\n",
      " training set -> batch:177 loss:0.2913665473461151 and acc: 0.8680257797241211\n",
      "177/782 [=====>........................] - ETA: 4:46:06 - loss: 0.4482 - accuracy: 0.8680\n",
      " training set -> batch:178 loss:0.21205538511276245 and acc: 0.8691983222961426\n",
      "178/782 [=====>........................] - ETA: 4:45:21 - loss: 0.4469 - accuracy: 0.8692\n",
      " training set -> batch:179 loss:0.47003108263015747 and acc: 0.8677386045455933\n",
      "179/782 [=====>........................] - ETA: 4:44:36 - loss: 0.4470 - accuracy: 0.8677\n",
      " training set -> batch:180 loss:0.407877117395401 and acc: 0.8658163547515869\n",
      "180/782 [=====>........................] - ETA: 4:43:51 - loss: 0.4468 - accuracy: 0.8658\n",
      " training set -> batch:181 loss:0.4638098478317261 and acc: 0.8649598360061646\n",
      "181/782 [=====>........................] - ETA: 4:43:06 - loss: 0.4469 - accuracy: 0.8650\n",
      " training set -> batch:182 loss:0.21334253251552582 and acc: 0.8661067485809326\n",
      "182/782 [=====>........................] - ETA: 4:42:21 - loss: 0.4456 - accuracy: 0.8661\n",
      " training set -> batch:183 loss:0.28609806299209595 and acc: 0.8662451505661011\n",
      "183/782 [======>.......................] - ETA: 4:41:37 - loss: 0.4447 - accuracy: 0.8662\n",
      " training set -> batch:184 loss:0.18437740206718445 and acc: 0.867337167263031\n",
      "184/782 [======>.......................] - ETA: 4:40:54 - loss: 0.4433 - accuracy: 0.8673\n",
      " training set -> batch:185 loss:0.21609564125537872 and acc: 0.8683962225914001\n",
      "185/782 [======>.......................] - ETA: 4:40:11 - loss: 0.4421 - accuracy: 0.8684\n",
      " training set -> batch:186 loss:0.40875545144081116 and acc: 0.8671003580093384\n",
      "186/782 [======>.......................] - ETA: 4:39:28 - loss: 0.4419 - accuracy: 0.8671\n",
      " training set -> batch:187 loss:0.3709339499473572 and acc: 0.8658424615859985\n",
      "187/782 [======>.......................] - ETA: 4:38:44 - loss: 0.4415 - accuracy: 0.8658\n",
      " training set -> batch:188 loss:0.17780271172523499 and acc: 0.8664259910583496\n",
      "188/782 [======>.......................] - ETA: 4:38:01 - loss: 0.4401 - accuracy: 0.8664\n",
      " training set -> batch:189 loss:0.2683260142803192 and acc: 0.8665480613708496\n",
      "189/782 [======>.......................] - ETA: 4:37:19 - loss: 0.4392 - accuracy: 0.8665\n",
      " training set -> batch:190 loss:0.5044658780097961 and acc: 0.8644737005233765\n",
      "190/782 [======>.......................] - ETA: 4:36:36 - loss: 0.4396 - accuracy: 0.8645\n",
      " training set -> batch:191 loss:0.16995613276958466 and acc: 0.8659169673919678\n",
      "191/782 [======>.......................] - ETA: 4:35:53 - loss: 0.4381 - accuracy: 0.8659\n",
      " training set -> batch:192 loss:0.22852914035320282 and acc: 0.8668941855430603\n",
      "192/782 [======>.......................] - ETA: 4:35:10 - loss: 0.4371 - accuracy: 0.8669\n",
      " training set -> batch:193 loss:0.269856333732605 and acc: 0.8670033812522888\n",
      "193/782 [======>.......................] - ETA: 4:34:28 - loss: 0.4362 - accuracy: 0.8670\n",
      " training set -> batch:194 loss:0.3479805588722229 and acc: 0.8671096563339233\n",
      "194/782 [======>.......................] - ETA: 4:33:46 - loss: 0.4357 - accuracy: 0.8671\n",
      " training set -> batch:195 loss:0.2857883870601654 and acc: 0.8672131299972534\n",
      "195/782 [======>.......................] - ETA: 4:33:03 - loss: 0.4350 - accuracy: 0.8672\n",
      " training set -> batch:196 loss:0.31380707025527954 and acc: 0.8677184581756592\n",
      "196/782 [======>.......................] - ETA: 4:32:22 - loss: 0.4343 - accuracy: 0.8677\n",
      " training set -> batch:197 loss:0.26723742485046387 and acc: 0.8670127987861633\n",
      "197/782 [======>.......................] - ETA: 4:31:43 - loss: 0.4335 - accuracy: 0.8670\n",
      " training set -> batch:198 loss:0.22563442587852478 and acc: 0.8671135902404785\n",
      "198/782 [======>.......................] - ETA: 4:31:02 - loss: 0.4324 - accuracy: 0.8671\n",
      " training set -> batch:199 loss:0.2953163981437683 and acc: 0.8668224215507507\n",
      "199/782 [======>.......................] - ETA: 4:30:21 - loss: 0.4318 - accuracy: 0.8668\n",
      " training set -> batch:200 loss:0.4114982485771179 and acc: 0.8665384650230408\n",
      "\n",
      " validation set -> batch:200 val loss:0.28904584888368845 and val acc: 0.875\n",
      "200/782 [======>.......................] - ETA: 4:43:24 - loss: 0.4317 - accuracy: 0.8665\n",
      " training set -> batch:201 loss:0.3507424592971802 and acc: 0.873062014579773\n",
      "201/782 [======>.......................] - ETA: 4:42:38 - loss: 0.4313 - accuracy: 0.8731\n",
      " training set -> batch:202 loss:0.300281822681427 and acc: 0.8721804618835449\n",
      "202/782 [======>.......................] - ETA: 4:41:53 - loss: 0.4306 - accuracy: 0.8722\n",
      " training set -> batch:203 loss:0.2700367271900177 and acc: 0.8740875720977783\n",
      "203/782 [======>.......................] - ETA: 4:41:07 - loss: 0.4298 - accuracy: 0.8741\n",
      " training set -> batch:204 loss:0.2105904370546341 and acc: 0.8741135001182556\n",
      "204/782 [======>.......................] - ETA: 4:40:21 - loss: 0.4287 - accuracy: 0.8741\n",
      " training set -> batch:205 loss:0.21506617963314056 and acc: 0.876724123954773\n",
      "205/782 [======>.......................] - ETA: 4:39:36 - loss: 0.4277 - accuracy: 0.8767\n",
      " training set -> batch:206 loss:0.2677270770072937 and acc: 0.8766778707504272\n",
      "206/782 [======>.......................] - ETA: 4:38:51 - loss: 0.4269 - accuracy: 0.8767\n",
      " training set -> batch:207 loss:0.19136783480644226 and acc: 0.8782680034637451\n",
      "207/782 [======>.......................] - ETA: 4:38:07 - loss: 0.4258 - accuracy: 0.8783\n",
      " training set -> batch:208 loss:0.20073296129703522 and acc: 0.8789808750152588\n",
      "208/782 [======>.......................] - ETA: 4:37:22 - loss: 0.4247 - accuracy: 0.8790\n",
      " training set -> batch:209 loss:0.37527555227279663 and acc: 0.8781055808067322\n",
      "209/782 [=======>......................] - ETA: 4:36:37 - loss: 0.4245 - accuracy: 0.8781\n",
      " training set -> batch:210 loss:0.26234620809555054 and acc: 0.8780303001403809\n",
      "210/782 [=======>......................] - ETA: 4:35:53 - loss: 0.4237 - accuracy: 0.8780\n",
      " training set -> batch:211 loss:0.3097226023674011 and acc: 0.8772189617156982\n",
      "211/782 [=======>......................] - ETA: 4:35:09 - loss: 0.4232 - accuracy: 0.8772\n",
      " training set -> batch:212 loss:0.3359565734863281 and acc: 0.8771676421165466\n",
      "212/782 [=======>......................] - ETA: 4:34:27 - loss: 0.4227 - accuracy: 0.8772\n",
      " training set -> batch:213 loss:0.18049518764019012 and acc: 0.8792372941970825\n",
      "213/782 [=======>......................] - ETA: 4:33:43 - loss: 0.4216 - accuracy: 0.8792\n",
      " training set -> batch:214 loss:0.6039735078811646 and acc: 0.8756905794143677\n",
      "214/782 [=======>......................] - ETA: 4:33:00 - loss: 0.4225 - accuracy: 0.8757\n",
      " training set -> batch:215 loss:0.3684280514717102 and acc: 0.8756756782531738\n",
      "215/782 [=======>......................] - ETA: 4:32:17 - loss: 0.4222 - accuracy: 0.8757\n",
      " training set -> batch:216 loss:0.15212884545326233 and acc: 0.8769841194152832\n",
      "216/782 [=======>......................] - ETA: 4:31:34 - loss: 0.4210 - accuracy: 0.8770\n",
      " training set -> batch:217 loss:0.34472593665122986 and acc: 0.8762953281402588\n",
      "217/782 [=======>......................] - ETA: 4:30:52 - loss: 0.4206 - accuracy: 0.8763\n",
      " training set -> batch:218 loss:0.2642843425273895 and acc: 0.875634491443634\n",
      "218/782 [=======>......................] - ETA: 4:30:10 - loss: 0.4199 - accuracy: 0.8756\n",
      " training set -> batch:219 loss:0.2366226315498352 and acc: 0.8762437701225281\n",
      "219/782 [=======>......................] - ETA: 4:29:27 - loss: 0.4190 - accuracy: 0.8762\n",
      " training set -> batch:220 loss:0.3246341645717621 and acc: 0.8762195110321045\n",
      "220/782 [=======>......................] - ETA: 4:28:45 - loss: 0.4186 - accuracy: 0.8762\n",
      " training set -> batch:221 loss:0.3972224295139313 and acc: 0.8755980730056763\n",
      "221/782 [=======>......................] - ETA: 4:28:02 - loss: 0.4185 - accuracy: 0.8756\n",
      " training set -> batch:222 loss:0.14438986778259277 and acc: 0.8767605423927307\n",
      "222/782 [=======>......................] - ETA: 4:27:19 - loss: 0.4173 - accuracy: 0.8768\n",
      " training set -> batch:223 loss:0.1863185167312622 and acc: 0.8778801560401917\n",
      "223/782 [=======>......................] - ETA: 4:26:37 - loss: 0.4163 - accuracy: 0.8779\n",
      " training set -> batch:224 loss:0.15472453832626343 and acc: 0.8789592981338501\n",
      "224/782 [=======>......................] - ETA: 4:25:55 - loss: 0.4151 - accuracy: 0.8790\n",
      " training set -> batch:225 loss:0.2817980647087097 and acc: 0.878333330154419\n",
      "225/782 [=======>......................] - ETA: 4:25:15 - loss: 0.4145 - accuracy: 0.8783\n",
      " training set -> batch:226 loss:0.19404569268226624 and acc: 0.8788209557533264\n",
      "226/782 [=======>......................] - ETA: 4:24:33 - loss: 0.4135 - accuracy: 0.8788\n",
      " training set -> batch:227 loss:0.2886199355125427 and acc: 0.8782188892364502\n",
      "227/782 [=======>......................] - ETA: 4:23:51 - loss: 0.4130 - accuracy: 0.8782\n",
      " training set -> batch:228 loss:0.304710328578949 and acc: 0.8776371479034424\n",
      "228/782 [=======>......................] - ETA: 4:23:10 - loss: 0.4125 - accuracy: 0.8776\n",
      " training set -> batch:229 loss:0.3840305209159851 and acc: 0.8765560388565063\n",
      "229/782 [=======>......................] - ETA: 4:22:29 - loss: 0.4124 - accuracy: 0.8766\n",
      " training set -> batch:230 loss:0.5229910016059875 and acc: 0.8744897842407227\n",
      "230/782 [=======>......................] - ETA: 4:21:47 - loss: 0.4128 - accuracy: 0.8745\n",
      " training set -> batch:231 loss:0.2829442620277405 and acc: 0.8734939694404602\n",
      "231/782 [=======>......................] - ETA: 4:21:06 - loss: 0.4123 - accuracy: 0.8735\n",
      " training set -> batch:232 loss:0.3568764626979828 and acc: 0.872035562992096\n",
      "232/782 [=======>......................] - ETA: 4:20:26 - loss: 0.4120 - accuracy: 0.8720\n",
      " training set -> batch:233 loss:0.19636784493923187 and acc: 0.8730545043945312\n",
      "233/782 [=======>......................] - ETA: 4:19:45 - loss: 0.4111 - accuracy: 0.8731\n",
      " training set -> batch:234 loss:0.3734026551246643 and acc: 0.8721264600753784\n",
      "234/782 [=======>......................] - ETA: 4:19:05 - loss: 0.4110 - accuracy: 0.8721\n",
      " training set -> batch:235 loss:0.18553060293197632 and acc: 0.8735849261283875\n",
      "235/782 [========>.....................] - ETA: 4:18:25 - loss: 0.4100 - accuracy: 0.8736\n",
      " training set -> batch:236 loss:0.20715442299842834 and acc: 0.8740706443786621\n",
      "236/782 [========>.....................] - ETA: 4:17:45 - loss: 0.4091 - accuracy: 0.8741\n",
      " training set -> batch:237 loss:0.20008710026741028 and acc: 0.8740842342376709\n",
      "237/782 [========>.....................] - ETA: 4:17:05 - loss: 0.4083 - accuracy: 0.8741\n",
      " training set -> batch:238 loss:0.3294350504875183 and acc: 0.874097466468811\n",
      "238/782 [========>.....................] - ETA: 4:16:28 - loss: 0.4079 - accuracy: 0.8741\n",
      " training set -> batch:239 loss:0.2921079397201538 and acc: 0.8741103410720825\n",
      "239/782 [========>.....................] - ETA: 4:15:47 - loss: 0.4074 - accuracy: 0.8741\n",
      " training set -> batch:240 loss:0.27131137251853943 and acc: 0.8745614290237427\n",
      "240/782 [========>.....................] - ETA: 4:15:08 - loss: 0.4069 - accuracy: 0.8746\n",
      " training set -> batch:241 loss:0.2655223608016968 and acc: 0.875\n",
      "241/782 [========>.....................] - ETA: 4:14:28 - loss: 0.4063 - accuracy: 0.8750\n",
      " training set -> batch:242 loss:0.3210352957248688 and acc: 0.875\n",
      "242/782 [========>.....................] - ETA: 4:13:48 - loss: 0.4059 - accuracy: 0.8750\n",
      " training set -> batch:243 loss:0.17768734693527222 and acc: 0.875420868396759\n",
      "243/782 [========>.....................] - ETA: 4:13:09 - loss: 0.4050 - accuracy: 0.8754\n",
      " training set -> batch:244 loss:0.338609516620636 and acc: 0.8758305907249451\n",
      "244/782 [========>.....................] - ETA: 4:12:30 - loss: 0.4047 - accuracy: 0.8758\n",
      " training set -> batch:245 loss:0.4532456398010254 and acc: 0.8754098415374756\n",
      "245/782 [========>.....................] - ETA: 4:11:51 - loss: 0.4049 - accuracy: 0.8754\n",
      " training set -> batch:247 loss:0.4015883803367615 and acc: 0.8753993511199951\n",
      "247/782 [========>.....................] - ETA: 4:10:33 - loss: 0.4050 - accuracy: 0.8754\n",
      " training set -> batch:248 loss:0.2414441704750061 and acc: 0.8761829733848572\n",
      "248/782 [========>.....................] - ETA: 4:09:54 - loss: 0.4043 - accuracy: 0.8762\n",
      " training set -> batch:249 loss:0.23633939027786255 and acc: 0.8761682510375977\n",
      "249/782 [========>.....................] - ETA: 4:09:16 - loss: 0.4037 - accuracy: 0.8762\n",
      " training set -> batch:250 loss:0.2644374370574951 and acc: 0.8757692575454712\n",
      "\n",
      " validation set -> batch:250 val loss:0.2751237200573087 and val acc: 0.8820000290870667\n",
      "250/782 [========>.....................] - ETA: 4:18:54 - loss: 0.4031 - accuracy: 0.8758\n",
      " training set -> batch:251 loss:0.2212129682302475 and acc: 0.8817829489707947\n",
      "251/782 [========>.....................] - ETA: 4:18:12 - loss: 0.4024 - accuracy: 0.8818\n",
      " training set -> batch:252 loss:0.28401392698287964 and acc: 0.8815789222717285\n",
      "252/782 [========>.....................] - ETA: 4:17:32 - loss: 0.4019 - accuracy: 0.8816\n",
      " training set -> batch:253 loss:0.2196013629436493 and acc: 0.8841241002082825\n",
      "253/782 [========>.....................] - ETA: 4:16:52 - loss: 0.4012 - accuracy: 0.8841\n",
      " training set -> batch:254 loss:0.24087627232074738 and acc: 0.8847517967224121\n",
      "254/782 [========>.....................] - ETA: 4:16:11 - loss: 0.4006 - accuracy: 0.8848\n",
      " training set -> batch:255 loss:0.276641845703125 and acc: 0.8853448033332825\n",
      "255/782 [========>.....................] - ETA: 4:15:30 - loss: 0.4001 - accuracy: 0.8853\n",
      " training set -> batch:256 loss:0.25120052695274353 and acc: 0.8850671052932739\n",
      "256/782 [========>.....................] - ETA: 4:14:50 - loss: 0.3995 - accuracy: 0.8851\n",
      " training set -> batch:257 loss:0.43106794357299805 and acc: 0.883169949054718\n",
      "257/782 [========>.....................] - ETA: 4:14:09 - loss: 0.3996 - accuracy: 0.8832\n",
      " training set -> batch:258 loss:0.34887945652008057 and acc: 0.8837579488754272\n",
      "258/782 [========>.....................] - ETA: 4:13:28 - loss: 0.3994 - accuracy: 0.8838\n",
      " training set -> batch:259 loss:0.29560428857803345 and acc: 0.8827639818191528\n",
      "259/782 [========>.....................] - ETA: 4:12:47 - loss: 0.3990 - accuracy: 0.8828\n",
      " training set -> batch:260 loss:0.3430701494216919 and acc: 0.8818181753158569\n",
      "260/782 [========>.....................] - ETA: 4:12:06 - loss: 0.3988 - accuracy: 0.8818\n",
      " training set -> batch:261 loss:0.31168702244758606 and acc: 0.88165682554245\n",
      "261/782 [=========>....................] - ETA: 4:11:26 - loss: 0.3985 - accuracy: 0.8817\n",
      " training set -> batch:262 loss:0.23105159401893616 and acc: 0.8815028667449951\n",
      "262/782 [=========>....................] - ETA: 4:10:46 - loss: 0.3978 - accuracy: 0.8815\n",
      " training set -> batch:263 loss:0.46138250827789307 and acc: 0.8792372941970825\n",
      "263/782 [=========>....................] - ETA: 4:10:05 - loss: 0.3981 - accuracy: 0.8792\n",
      " training set -> batch:264 loss:0.210470512509346 and acc: 0.8798342347145081\n",
      "264/782 [=========>....................] - ETA: 4:09:25 - loss: 0.3974 - accuracy: 0.8798\n",
      " training set -> batch:265 loss:0.24460725486278534 and acc: 0.8804054260253906\n",
      "265/782 [=========>....................] - ETA: 4:08:45 - loss: 0.3968 - accuracy: 0.8804\n",
      " training set -> batch:266 loss:0.31434738636016846 and acc: 0.8796296119689941\n",
      "266/782 [=========>....................] - ETA: 4:08:07 - loss: 0.3965 - accuracy: 0.8796\n",
      " training set -> batch:267 loss:0.3010115921497345 and acc: 0.8795337080955505\n",
      "267/782 [=========>....................] - ETA: 4:07:27 - loss: 0.3961 - accuracy: 0.8795\n",
      " training set -> batch:268 loss:0.20749840140342712 and acc: 0.8807106614112854\n",
      "268/782 [=========>....................] - ETA: 4:06:48 - loss: 0.3954 - accuracy: 0.8807\n",
      " training set -> batch:269 loss:0.24445179104804993 and acc: 0.8805969953536987\n",
      "269/782 [=========>....................] - ETA: 4:06:09 - loss: 0.3949 - accuracy: 0.8806\n",
      " training set -> batch:270 loss:0.19140180945396423 and acc: 0.8817073106765747\n",
      "270/782 [=========>....................] - ETA: 4:05:30 - loss: 0.3941 - accuracy: 0.8817\n",
      " training set -> batch:271 loss:0.24062350392341614 and acc: 0.8809808492660522\n",
      "271/782 [=========>....................] - ETA: 4:04:52 - loss: 0.3935 - accuracy: 0.8810\n",
      " training set -> batch:272 loss:0.19168603420257568 and acc: 0.8814554214477539\n",
      "272/782 [=========>....................] - ETA: 4:04:13 - loss: 0.3928 - accuracy: 0.8815\n",
      " training set -> batch:273 loss:0.16074545681476593 and acc: 0.8830645084381104\n",
      "273/782 [=========>....................] - ETA: 4:03:35 - loss: 0.3920 - accuracy: 0.8831\n",
      " training set -> batch:274 loss:0.10149221122264862 and acc: 0.8840497732162476\n",
      "274/782 [=========>....................] - ETA: 4:02:56 - loss: 0.3909 - accuracy: 0.8840\n",
      " training set -> batch:275 loss:0.08137775957584381 and acc: 0.8861111402511597\n",
      "275/782 [=========>....................] - ETA: 4:02:18 - loss: 0.3898 - accuracy: 0.8861\n",
      " training set -> batch:276 loss:0.14710217714309692 and acc: 0.8870087265968323\n",
      "276/782 [=========>....................] - ETA: 4:01:40 - loss: 0.3889 - accuracy: 0.8870\n",
      " training set -> batch:277 loss:0.4422285556793213 and acc: 0.8857296109199524\n",
      "277/782 [=========>....................] - ETA: 4:01:02 - loss: 0.3891 - accuracy: 0.8857\n",
      " training set -> batch:278 loss:0.4472249746322632 and acc: 0.8855485320091248\n",
      "278/782 [=========>....................] - ETA: 4:00:25 - loss: 0.3893 - accuracy: 0.8855\n",
      " training set -> batch:279 loss:0.369011789560318 and acc: 0.884854793548584\n",
      "279/782 [=========>....................] - ETA: 3:59:48 - loss: 0.3892 - accuracy: 0.8849\n",
      " training set -> batch:280 loss:0.32731640338897705 and acc: 0.8852040767669678\n",
      "280/782 [=========>....................] - ETA: 3:59:11 - loss: 0.3890 - accuracy: 0.8852\n",
      " training set -> batch:281 loss:0.08978542685508728 and acc: 0.8860442042350769\n",
      "281/782 [=========>....................] - ETA: 3:58:33 - loss: 0.3879 - accuracy: 0.8860\n",
      " training set -> batch:282 loss:0.20062988996505737 and acc: 0.8863636255264282\n",
      "282/782 [=========>....................] - ETA: 3:57:55 - loss: 0.3873 - accuracy: 0.8864\n",
      " training set -> batch:283 loss:0.24154220521450043 and acc: 0.887159526348114\n",
      "283/782 [=========>....................] - ETA: 3:57:17 - loss: 0.3868 - accuracy: 0.8872\n",
      " training set -> batch:284 loss:0.21829387545585632 and acc: 0.8874521255493164\n",
      "284/782 [=========>....................] - ETA: 3:56:40 - loss: 0.3862 - accuracy: 0.8875\n",
      " training set -> batch:285 loss:0.36036625504493713 and acc: 0.8872641324996948\n",
      "285/782 [=========>....................] - ETA: 3:56:03 - loss: 0.3861 - accuracy: 0.8873\n",
      " training set -> batch:286 loss:0.5004711747169495 and acc: 0.886617124080658\n",
      "286/782 [=========>....................] - ETA: 3:55:25 - loss: 0.3865 - accuracy: 0.8866\n",
      " training set -> batch:287 loss:0.3156958520412445 and acc: 0.8855311274528503\n",
      "287/782 [==========>...................] - ETA: 3:54:49 - loss: 0.3862 - accuracy: 0.8855\n",
      " training set -> batch:288 loss:0.21667727828025818 and acc: 0.8862816095352173\n",
      "288/782 [==========>...................] - ETA: 3:54:11 - loss: 0.3856 - accuracy: 0.8863\n",
      " training set -> batch:289 loss:0.14075340330600739 and acc: 0.8874555230140686\n",
      "289/782 [==========>...................] - ETA: 3:53:34 - loss: 0.3848 - accuracy: 0.8875\n",
      " training set -> batch:290 loss:0.19009041786193848 and acc: 0.8885964751243591\n",
      "290/782 [==========>...................] - ETA: 3:52:57 - loss: 0.3841 - accuracy: 0.8886\n",
      " training set -> batch:291 loss:0.22751668095588684 and acc: 0.8892733454704285\n",
      "291/782 [==========>...................] - ETA: 3:52:20 - loss: 0.3836 - accuracy: 0.8893\n",
      " training set -> batch:292 loss:0.29454660415649414 and acc: 0.88950514793396\n",
      "292/782 [==========>...................] - ETA: 3:51:44 - loss: 0.3833 - accuracy: 0.8895\n",
      " training set -> batch:293 loss:0.2436898648738861 and acc: 0.8897306323051453\n",
      "293/782 [==========>...................] - ETA: 3:51:07 - loss: 0.3828 - accuracy: 0.8897\n",
      " training set -> batch:294 loss:0.2126387655735016 and acc: 0.8895348906517029\n",
      "294/782 [==========>...................] - ETA: 3:50:31 - loss: 0.3822 - accuracy: 0.8895\n",
      " training set -> batch:295 loss:0.31833648681640625 and acc: 0.8889344334602356\n",
      "295/782 [==========>...................] - ETA: 3:49:54 - loss: 0.3820 - accuracy: 0.8889\n",
      " training set -> batch:296 loss:0.14961525797843933 and acc: 0.8899676203727722\n",
      "296/782 [==========>...................] - ETA: 3:49:18 - loss: 0.3812 - accuracy: 0.8900\n",
      " training set -> batch:297 loss:0.37708956003189087 and acc: 0.889776349067688\n",
      "297/782 [==========>...................] - ETA: 3:48:42 - loss: 0.3812 - accuracy: 0.8898\n",
      " training set -> batch:298 loss:0.35621628165245056 and acc: 0.8888012766838074\n",
      "298/782 [==========>...................] - ETA: 3:48:05 - loss: 0.3811 - accuracy: 0.8888\n",
      " training set -> batch:299 loss:0.3438633680343628 and acc: 0.8886292576789856\n",
      "299/782 [==========>...................] - ETA: 3:47:29 - loss: 0.3810 - accuracy: 0.8886\n",
      " training set -> batch:300 loss:0.31678980588912964 and acc: 0.888076901435852\n",
      "\n",
      " validation set -> batch:300 val loss:0.2709265863522887 and val acc: 0.8920000195503235\n",
      "300/782 [==========>...................] - ETA: 3:54:28 - loss: 0.3808 - accuracy: 0.8881\n",
      " training set -> batch:301 loss:0.17405448853969574 and acc: 0.8914728760719299\n",
      "301/782 [==========>...................] - ETA: 3:53:50 - loss: 0.3801 - accuracy: 0.8915\n",
      " training set -> batch:302 loss:0.10035042464733124 and acc: 0.8947368264198303\n",
      "302/782 [==========>...................] - ETA: 3:53:11 - loss: 0.3792 - accuracy: 0.8947\n",
      " training set -> batch:303 loss:0.3137964606285095 and acc: 0.8932482004165649\n",
      "303/782 [==========>...................] - ETA: 3:52:32 - loss: 0.3789 - accuracy: 0.8932\n",
      " training set -> batch:304 loss:0.30590665340423584 and acc: 0.8918439745903015\n",
      "304/782 [==========>...................] - ETA: 3:51:54 - loss: 0.3787 - accuracy: 0.8918\n",
      " training set -> batch:305 loss:0.37400415539741516 and acc: 0.8913792967796326\n",
      "305/782 [==========>...................] - ETA: 3:51:16 - loss: 0.3787 - accuracy: 0.8914\n",
      " training set -> batch:306 loss:0.222815603017807 and acc: 0.8934563994407654\n",
      "306/782 [==========>...................] - ETA: 3:50:38 - loss: 0.3782 - accuracy: 0.8935\n",
      " training set -> batch:307 loss:0.18652009963989258 and acc: 0.8946078419685364\n",
      "307/782 [==========>...................] - ETA: 3:50:01 - loss: 0.3776 - accuracy: 0.8946\n",
      " training set -> batch:308 loss:0.3201162815093994 and acc: 0.8949044346809387\n",
      "308/782 [==========>...................] - ETA: 3:49:23 - loss: 0.3774 - accuracy: 0.8949\n",
      " training set -> batch:309 loss:0.2933748960494995 and acc: 0.8936335444450378\n",
      "309/782 [==========>...................] - ETA: 3:48:45 - loss: 0.3771 - accuracy: 0.8936\n",
      " training set -> batch:310 loss:0.229105144739151 and acc: 0.8924242258071899\n",
      "310/782 [==========>...................] - ETA: 3:48:08 - loss: 0.3766 - accuracy: 0.8924\n",
      " training set -> batch:311 loss:0.2610388398170471 and acc: 0.8942307829856873\n",
      "311/782 [==========>...................] - ETA: 3:47:30 - loss: 0.3763 - accuracy: 0.8942\n",
      " training set -> batch:312 loss:0.17079459130764008 and acc: 0.8945086598396301\n",
      "312/782 [==========>...................] - ETA: 3:46:53 - loss: 0.3756 - accuracy: 0.8945\n",
      " training set -> batch:313 loss:0.2523382008075714 and acc: 0.8940678238868713\n",
      "313/782 [===========>..................] - ETA: 3:46:15 - loss: 0.3752 - accuracy: 0.8941\n",
      " training set -> batch:314 loss:0.2202230840921402 and acc: 0.894336998462677\n",
      "314/782 [===========>..................] - ETA: 3:45:38 - loss: 0.3747 - accuracy: 0.8943\n",
      " training set -> batch:315 loss:0.23783540725708008 and acc: 0.8939189314842224\n",
      "315/782 [===========>..................] - ETA: 3:45:02 - loss: 0.3743 - accuracy: 0.8939\n",
      " training set -> batch:316 loss:0.23400476574897766 and acc: 0.8941798806190491\n",
      "316/782 [===========>..................] - ETA: 3:44:25 - loss: 0.3738 - accuracy: 0.8942\n",
      " training set -> batch:317 loss:0.4245387315750122 and acc: 0.8931347131729126\n",
      "317/782 [===========>..................] - ETA: 3:43:48 - loss: 0.3740 - accuracy: 0.8931\n",
      " training set -> batch:318 loss:0.35908716917037964 and acc: 0.8921319842338562\n",
      "318/782 [===========>..................] - ETA: 3:43:11 - loss: 0.3739 - accuracy: 0.8921\n",
      " training set -> batch:319 loss:0.19438832998275757 and acc: 0.893034815788269\n",
      "319/782 [===========>..................] - ETA: 3:42:35 - loss: 0.3734 - accuracy: 0.8930\n",
      " training set -> batch:320 loss:0.17597037553787231 and acc: 0.8932926654815674\n",
      "320/782 [===========>..................] - ETA: 3:41:59 - loss: 0.3728 - accuracy: 0.8933\n",
      " training set -> batch:321 loss:0.13820965588092804 and acc: 0.8947368264198303\n",
      "321/782 [===========>..................] - ETA: 3:41:23 - loss: 0.3720 - accuracy: 0.8947\n",
      " training set -> batch:322 loss:0.2883691191673279 and acc: 0.8937793374061584\n",
      "322/782 [===========>..................] - ETA: 3:40:46 - loss: 0.3718 - accuracy: 0.8938\n",
      " training set -> batch:323 loss:0.3074965476989746 and acc: 0.8928571343421936\n",
      "323/782 [===========>..................] - ETA: 3:40:10 - loss: 0.3716 - accuracy: 0.8929\n",
      " training set -> batch:324 loss:0.2239260971546173 and acc: 0.8930995464324951\n",
      "324/782 [===========>..................] - ETA: 3:39:34 - loss: 0.3711 - accuracy: 0.8931\n",
      " training set -> batch:325 loss:0.3432476222515106 and acc: 0.8927778005599976\n",
      "325/782 [===========>..................] - ETA: 3:38:57 - loss: 0.3710 - accuracy: 0.8928\n",
      " training set -> batch:326 loss:0.20625658333301544 and acc: 0.8930131196975708\n",
      "326/782 [===========>..................] - ETA: 3:38:21 - loss: 0.3705 - accuracy: 0.8930\n",
      " training set -> batch:327 loss:0.21928180754184723 and acc: 0.8932403326034546\n",
      "327/782 [===========>..................] - ETA: 3:37:45 - loss: 0.3701 - accuracy: 0.8932\n",
      " training set -> batch:328 loss:0.4095359444618225 and acc: 0.8913502097129822\n",
      "328/782 [===========>..................] - ETA: 3:37:09 - loss: 0.3702 - accuracy: 0.8914\n",
      " training set -> batch:329 loss:0.2096511721611023 and acc: 0.8915975093841553\n",
      "329/782 [===========>..................] - ETA: 3:36:34 - loss: 0.3697 - accuracy: 0.8916\n",
      " training set -> batch:330 loss:0.12837347388267517 and acc: 0.8923469185829163\n",
      "330/782 [===========>..................] - ETA: 3:35:59 - loss: 0.3690 - accuracy: 0.8923\n",
      " training set -> batch:331 loss:0.3297121822834015 and acc: 0.8910642862319946\n",
      "331/782 [===========>..................] - ETA: 3:35:24 - loss: 0.3688 - accuracy: 0.8911\n",
      " training set -> batch:332 loss:0.44535014033317566 and acc: 0.8888339996337891\n",
      "332/782 [===========>..................] - ETA: 3:34:49 - loss: 0.3691 - accuracy: 0.8888\n",
      " training set -> batch:333 loss:0.1502336710691452 and acc: 0.8895914554595947\n",
      "333/782 [===========>..................] - ETA: 3:34:14 - loss: 0.3684 - accuracy: 0.8896\n",
      " training set -> batch:334 loss:0.5821690559387207 and acc: 0.8874521255493164\n",
      "334/782 [===========>..................] - ETA: 3:33:39 - loss: 0.3691 - accuracy: 0.8875\n",
      " training set -> batch:335 loss:0.31280726194381714 and acc: 0.8872641324996948\n",
      "335/782 [===========>..................] - ETA: 3:33:04 - loss: 0.3689 - accuracy: 0.8873\n",
      " training set -> batch:336 loss:0.3033052980899811 and acc: 0.8861523866653442\n",
      "336/782 [===========>..................] - ETA: 3:32:29 - loss: 0.3687 - accuracy: 0.8862\n",
      " training set -> batch:337 loss:0.2973390519618988 and acc: 0.8859890103340149\n",
      "337/782 [===========>..................] - ETA: 3:31:53 - loss: 0.3685 - accuracy: 0.8860\n",
      " training set -> batch:338 loss:0.3633430600166321 and acc: 0.8853790760040283\n",
      "338/782 [===========>..................] - ETA: 3:31:18 - loss: 0.3685 - accuracy: 0.8854\n",
      " training set -> batch:339 loss:0.3802100419998169 and acc: 0.8847864866256714\n",
      "339/782 [============>.................] - ETA: 3:30:43 - loss: 0.3685 - accuracy: 0.8848\n",
      " training set -> batch:340 loss:0.2329537570476532 and acc: 0.8859649300575256\n",
      "340/782 [============>.................] - ETA: 3:30:08 - loss: 0.3681 - accuracy: 0.8860\n",
      " training set -> batch:341 loss:0.19384971261024475 and acc: 0.8866782188415527\n",
      "341/782 [============>.................] - ETA: 3:29:33 - loss: 0.3676 - accuracy: 0.8867\n",
      " training set -> batch:342 loss:0.18622782826423645 and acc: 0.8873720169067383\n",
      "342/782 [============>.................] - ETA: 3:28:58 - loss: 0.3671 - accuracy: 0.8874\n",
      " training set -> batch:343 loss:0.5296710729598999 and acc: 0.8867844939231873\n",
      "343/782 [============>.................] - ETA: 3:28:23 - loss: 0.3675 - accuracy: 0.8868\n",
      " training set -> batch:344 loss:0.3938632607460022 and acc: 0.8857973217964172\n",
      "344/782 [============>.................] - ETA: 3:27:48 - loss: 0.3676 - accuracy: 0.8858\n",
      " training set -> batch:345 loss:0.2406548708677292 and acc: 0.8856557607650757\n",
      "345/782 [============>.................] - ETA: 3:27:13 - loss: 0.3672 - accuracy: 0.8857\n",
      " training set -> batch:346 loss:0.22834233939647675 and acc: 0.8859223127365112\n",
      "346/782 [============>.................] - ETA: 3:26:39 - loss: 0.3668 - accuracy: 0.8859\n",
      " training set -> batch:347 loss:0.09007540345191956 and acc: 0.8873801827430725\n",
      "347/782 [============>.................] - ETA: 3:26:05 - loss: 0.3660 - accuracy: 0.8874\n",
      " training set -> batch:348 loss:0.2671007812023163 and acc: 0.886829674243927\n",
      "348/782 [============>.................] - ETA: 3:25:30 - loss: 0.3658 - accuracy: 0.8868\n",
      " training set -> batch:349 loss:0.2920648455619812 and acc: 0.8862928152084351\n",
      "349/782 [============>.................] - ETA: 3:24:55 - loss: 0.3655 - accuracy: 0.8863\n",
      " training set -> batch:350 loss:0.4294011890888214 and acc: 0.8853846192359924\n",
      "\n",
      " validation set -> batch:350 val loss:0.297285970300436 and val acc: 0.8840000033378601\n",
      "350/782 [============>.................] - ETA: 3:30:03 - loss: 0.3657 - accuracy: 0.8854\n",
      " training set -> batch:351 loss:0.19184309244155884 and acc: 0.8846899271011353\n",
      "351/782 [============>.................] - ETA: 3:29:28 - loss: 0.3652 - accuracy: 0.8847\n",
      " training set -> batch:352 loss:0.198508158326149 and acc: 0.8862782120704651\n",
      "352/782 [============>.................] - ETA: 3:28:51 - loss: 0.3648 - accuracy: 0.8863\n",
      " training set -> batch:353 loss:0.30397289991378784 and acc: 0.8868613243103027\n",
      "353/782 [============>.................] - ETA: 3:28:15 - loss: 0.3646 - accuracy: 0.8869\n",
      " training set -> batch:354 loss:0.12087251245975494 and acc: 0.8891844153404236\n",
      "354/782 [============>.................] - ETA: 3:27:39 - loss: 0.3639 - accuracy: 0.8892\n",
      " training set -> batch:355 loss:0.3337196409702301 and acc: 0.8879310488700867\n",
      "355/782 [============>.................] - ETA: 3:27:03 - loss: 0.3638 - accuracy: 0.8879\n",
      " training set -> batch:356 loss:0.4032062292098999 and acc: 0.8859060406684875\n",
      "356/782 [============>.................] - ETA: 3:26:27 - loss: 0.3639 - accuracy: 0.8859\n",
      " training set -> batch:357 loss:0.1737467348575592 and acc: 0.8880718946456909\n",
      "357/782 [============>.................] - ETA: 3:25:51 - loss: 0.3634 - accuracy: 0.8881\n",
      " training set -> batch:358 loss:0.11160039901733398 and acc: 0.8901273608207703\n",
      "358/782 [============>.................] - ETA: 3:25:16 - loss: 0.3627 - accuracy: 0.8901\n",
      " training set -> batch:359 loss:0.39364922046661377 and acc: 0.8889751434326172\n",
      "359/782 [============>.................] - ETA: 3:24:40 - loss: 0.3628 - accuracy: 0.8890\n",
      " training set -> batch:360 loss:0.44048595428466797 and acc: 0.8863636255264282\n",
      "360/782 [============>.................] - ETA: 3:24:04 - loss: 0.3630 - accuracy: 0.8864\n",
      " training set -> batch:361 loss:0.19615447521209717 and acc: 0.8860946893692017\n",
      "361/782 [============>.................] - ETA: 3:23:29 - loss: 0.3625 - accuracy: 0.8861\n",
      " training set -> batch:362 loss:0.42309263348579407 and acc: 0.8836705088615417\n",
      "362/782 [============>.................] - ETA: 3:22:53 - loss: 0.3627 - accuracy: 0.8837\n",
      " training set -> batch:363 loss:0.3420380651950836 and acc: 0.8827683329582214\n",
      "363/782 [============>.................] - ETA: 3:22:18 - loss: 0.3626 - accuracy: 0.8828\n",
      " training set -> batch:364 loss:0.2906413674354553 and acc: 0.8819060921669006\n",
      "364/782 [============>.................] - ETA: 3:21:43 - loss: 0.3624 - accuracy: 0.8819\n",
      " training set -> batch:365 loss:0.34916195273399353 and acc: 0.8810811042785645\n",
      "365/782 [=============>................] - ETA: 3:21:07 - loss: 0.3624 - accuracy: 0.8811\n",
      " training set -> batch:366 loss:0.23965275287628174 and acc: 0.8816137313842773\n",
      "366/782 [=============>................] - ETA: 3:20:31 - loss: 0.3621 - accuracy: 0.8816\n",
      " training set -> batch:367 loss:0.5807288885116577 and acc: 0.878238320350647\n",
      "367/782 [=============>................] - ETA: 3:19:56 - loss: 0.3627 - accuracy: 0.8782\n",
      " training set -> batch:368 loss:0.37200021743774414 and acc: 0.8775380849838257\n",
      "368/782 [=============>................] - ETA: 3:19:20 - loss: 0.3627 - accuracy: 0.8775\n",
      " training set -> batch:369 loss:0.43492045998573303 and acc: 0.8756219148635864\n",
      "369/782 [=============>................] - ETA: 3:18:45 - loss: 0.3629 - accuracy: 0.8756\n",
      " training set -> batch:370 loss:0.32789385318756104 and acc: 0.875\n",
      "370/782 [=============>................] - ETA: 3:18:11 - loss: 0.3628 - accuracy: 0.8750\n",
      " training set -> batch:371 loss:0.22306987643241882 and acc: 0.8767942786216736\n",
      "371/782 [=============>................] - ETA: 3:17:38 - loss: 0.3624 - accuracy: 0.8768\n",
      " training set -> batch:372 loss:0.23166754841804504 and acc: 0.8779342770576477\n",
      "372/782 [=============>................] - ETA: 3:17:05 - loss: 0.3621 - accuracy: 0.8779\n",
      " training set -> batch:373 loss:0.39986270666122437 and acc: 0.8755760192871094\n",
      "373/782 [=============>................] - ETA: 3:16:33 - loss: 0.3622 - accuracy: 0.8756\n",
      " training set -> batch:374 loss:0.316961407661438 and acc: 0.875\n",
      "374/782 [=============>................] - ETA: 3:15:59 - loss: 0.3620 - accuracy: 0.8750\n",
      " training set -> batch:375 loss:0.2515626549720764 and acc: 0.875\n",
      "375/782 [=============>................] - ETA: 3:15:24 - loss: 0.3618 - accuracy: 0.8750\n",
      " training set -> batch:376 loss:0.45230287313461304 and acc: 0.873908281326294\n",
      "376/782 [=============>................] - ETA: 3:14:49 - loss: 0.3620 - accuracy: 0.8739\n",
      " training set -> batch:377 loss:0.21639278531074524 and acc: 0.875\n",
      "377/782 [=============>................] - ETA: 3:14:14 - loss: 0.3616 - accuracy: 0.8750\n",
      " training set -> batch:378 loss:0.26468196511268616 and acc: 0.8744725584983826\n",
      "378/782 [=============>................] - ETA: 3:13:39 - loss: 0.3614 - accuracy: 0.8745\n",
      " training set -> batch:379 loss:0.2694224417209625 and acc: 0.875\n",
      "379/782 [=============>................] - ETA: 3:13:05 - loss: 0.3611 - accuracy: 0.8750\n",
      " training set -> batch:380 loss:0.2188212126493454 and acc: 0.8755102157592773\n",
      "380/782 [=============>................] - ETA: 3:12:31 - loss: 0.3607 - accuracy: 0.8755\n",
      " training set -> batch:381 loss:0.2956788241863251 and acc: 0.8744980096817017\n",
      "381/782 [=============>................] - ETA: 3:11:56 - loss: 0.3606 - accuracy: 0.8745\n",
      " training set -> batch:382 loss:0.3066323399543762 and acc: 0.875\n",
      "382/782 [=============>................] - ETA: 3:11:22 - loss: 0.3604 - accuracy: 0.8750\n",
      " training set -> batch:383 loss:0.21623316407203674 and acc: 0.8754863739013672\n",
      "383/782 [=============>................] - ETA: 3:10:48 - loss: 0.3600 - accuracy: 0.8755\n",
      " training set -> batch:384 loss:0.39922913908958435 and acc: 0.8735632300376892\n",
      "384/782 [=============>................] - ETA: 3:10:14 - loss: 0.3601 - accuracy: 0.8736\n",
      " training set -> batch:385 loss:0.12895488739013672 and acc: 0.8754717111587524\n",
      "385/782 [=============>................] - ETA: 3:09:39 - loss: 0.3595 - accuracy: 0.8755\n",
      " training set -> batch:386 loss:0.1329798698425293 and acc: 0.8763940334320068\n",
      "386/782 [=============>................] - ETA: 3:09:06 - loss: 0.3590 - accuracy: 0.8764\n",
      " training set -> batch:387 loss:0.08207027614116669 and acc: 0.8782051205635071\n",
      "387/782 [=============>................] - ETA: 3:08:32 - loss: 0.3582 - accuracy: 0.8782\n",
      " training set -> batch:388 loss:0.4042973816394806 and acc: 0.8777076005935669\n",
      "388/782 [=============>................] - ETA: 3:07:58 - loss: 0.3584 - accuracy: 0.8777\n",
      " training set -> batch:389 loss:0.29922035336494446 and acc: 0.878113865852356\n",
      "389/782 [=============>................] - ETA: 3:07:24 - loss: 0.3582 - accuracy: 0.8781\n",
      " training set -> batch:390 loss:0.23971694707870483 and acc: 0.8780701756477356\n",
      "390/782 [=============>................] - ETA: 3:06:50 - loss: 0.3579 - accuracy: 0.8781\n",
      " training set -> batch:391 loss:0.36715370416641235 and acc: 0.8771626353263855\n",
      "391/782 [==============>...............] - ETA: 3:06:16 - loss: 0.3579 - accuracy: 0.8772\n",
      " training set -> batch:392 loss:0.11692366003990173 and acc: 0.8784129619598389\n",
      "392/782 [==============>...............] - ETA: 3:05:42 - loss: 0.3573 - accuracy: 0.8784\n",
      " training set -> batch:393 loss:0.137007474899292 and acc: 0.8792087435722351\n",
      "393/782 [==============>...............] - ETA: 3:05:08 - loss: 0.3568 - accuracy: 0.8792\n",
      " training set -> batch:394 loss:0.27492672204971313 and acc: 0.8791528344154358\n",
      "394/782 [==============>...............] - ETA: 3:04:34 - loss: 0.3565 - accuracy: 0.8792\n",
      " training set -> batch:395 loss:0.27713650465011597 and acc: 0.8795081973075867\n",
      "395/782 [==============>...............] - ETA: 3:04:01 - loss: 0.3563 - accuracy: 0.8795\n",
      " training set -> batch:396 loss:0.19315743446350098 and acc: 0.8802589178085327\n",
      "396/782 [==============>...............] - ETA: 3:03:27 - loss: 0.3559 - accuracy: 0.8803\n",
      " training set -> batch:397 loss:0.2569271922111511 and acc: 0.8793929815292358\n",
      "397/782 [==============>...............] - ETA: 3:02:54 - loss: 0.3557 - accuracy: 0.8794\n",
      " training set -> batch:398 loss:0.2172698974609375 and acc: 0.8793375492095947\n",
      "398/782 [==============>...............] - ETA: 3:02:20 - loss: 0.3553 - accuracy: 0.8793\n",
      " training set -> batch:399 loss:0.3878128230571747 and acc: 0.8785046935081482\n",
      "399/782 [==============>...............] - ETA: 3:01:47 - loss: 0.3554 - accuracy: 0.8785\n",
      " training set -> batch:400 loss:0.12871012091636658 and acc: 0.879230797290802\n",
      "\n",
      " validation set -> batch:400 val loss:0.2668914347887039 and val acc: 0.8949999809265137\n",
      "400/782 [==============>...............] - ETA: 3:05:52 - loss: 0.3549 - accuracy: 0.8792\n",
      " training set -> batch:401 loss:0.12634243071079254 and acc: 0.8963178396224976\n",
      "401/782 [==============>...............] - ETA: 3:05:18 - loss: 0.3543 - accuracy: 0.8963\n",
      " training set -> batch:402 loss:0.18900778889656067 and acc: 0.8984962701797485\n",
      "402/782 [==============>...............] - ETA: 3:04:44 - loss: 0.3539 - accuracy: 0.8985\n",
      " training set -> batch:403 loss:0.13549603521823883 and acc: 0.900547444820404\n",
      "403/782 [==============>...............] - ETA: 3:04:09 - loss: 0.3533 - accuracy: 0.9005\n",
      " training set -> batch:404 loss:0.2474483996629715 and acc: 0.9007092118263245\n",
      "404/782 [==============>...............] - ETA: 3:03:36 - loss: 0.3531 - accuracy: 0.9007\n",
      " training set -> batch:405 loss:0.12287546694278717 and acc: 0.9017241597175598\n",
      "405/782 [==============>...............] - ETA: 3:03:02 - loss: 0.3525 - accuracy: 0.9017\n",
      " training set -> batch:406 loss:0.24191932380199432 and acc: 0.9018456339836121\n",
      "406/782 [==============>...............] - ETA: 3:02:27 - loss: 0.3522 - accuracy: 0.9018\n",
      " training set -> batch:407 loss:0.3987107276916504 and acc: 0.8995097875595093\n",
      "407/782 [==============>...............] - ETA: 3:01:53 - loss: 0.3523 - accuracy: 0.8995\n",
      " training set -> batch:408 loss:0.21278037130832672 and acc: 0.8996815085411072\n",
      "408/782 [==============>...............] - ETA: 3:01:20 - loss: 0.3520 - accuracy: 0.8997\n",
      " training set -> batch:409 loss:0.4170275330543518 and acc: 0.8975155353546143\n",
      "409/782 [==============>...............] - ETA: 3:00:46 - loss: 0.3522 - accuracy: 0.8975\n",
      " training set -> batch:410 loss:0.358161598443985 and acc: 0.8969696760177612\n",
      "410/782 [==============>...............] - ETA: 3:00:12 - loss: 0.3522 - accuracy: 0.8970\n",
      " training set -> batch:411 loss:0.3520633578300476 and acc: 0.8971893787384033\n",
      "411/782 [==============>...............] - ETA: 2:59:38 - loss: 0.3522 - accuracy: 0.8972\n",
      " training set -> batch:412 loss:0.18084970116615295 and acc: 0.8981214165687561\n",
      "412/782 [==============>...............] - ETA: 2:59:03 - loss: 0.3518 - accuracy: 0.8981\n",
      " training set -> batch:413 loss:0.4174971580505371 and acc: 0.8947740197181702\n",
      "413/782 [==============>...............] - ETA: 2:58:29 - loss: 0.3519 - accuracy: 0.8948\n",
      " training set -> batch:414 loss:0.3328930139541626 and acc: 0.8936464190483093\n",
      "414/782 [==============>...............] - ETA: 2:57:56 - loss: 0.3519 - accuracy: 0.8936\n",
      " training set -> batch:415 loss:0.35488197207450867 and acc: 0.8932432532310486\n",
      "415/782 [==============>...............] - ETA: 2:57:22 - loss: 0.3519 - accuracy: 0.8932\n",
      " training set -> batch:416 loss:0.23015189170837402 and acc: 0.8935185074806213\n",
      "416/782 [==============>...............] - ETA: 2:56:48 - loss: 0.3516 - accuracy: 0.8935\n",
      " training set -> batch:417 loss:0.2106490582227707 and acc: 0.8931347131729126\n",
      "417/782 [==============>...............] - ETA: 2:56:14 - loss: 0.3512 - accuracy: 0.8931\n",
      " training set -> batch:418 loss:0.2091653048992157 and acc: 0.8927664756774902\n",
      "418/782 [===============>..............] - ETA: 2:55:40 - loss: 0.3509 - accuracy: 0.8928\n",
      " training set -> batch:419 loss:0.20407280325889587 and acc: 0.8936567306518555\n",
      "419/782 [===============>..............] - ETA: 2:55:07 - loss: 0.3506 - accuracy: 0.8937\n",
      " training set -> batch:420 loss:0.30931517481803894 and acc: 0.8939024209976196\n",
      "420/782 [===============>..............] - ETA: 2:54:33 - loss: 0.3505 - accuracy: 0.8939\n",
      " training set -> batch:421 loss:0.19312505424022675 and acc: 0.8947368264198303\n",
      "421/782 [===============>..............] - ETA: 2:54:00 - loss: 0.3501 - accuracy: 0.8947\n",
      " training set -> batch:422 loss:0.15743309259414673 and acc: 0.8961267471313477\n",
      "422/782 [===============>..............] - ETA: 2:53:26 - loss: 0.3496 - accuracy: 0.8961\n",
      " training set -> batch:423 loss:0.25905969738960266 and acc: 0.8951612710952759\n",
      "423/782 [===============>..............] - ETA: 2:52:53 - loss: 0.3494 - accuracy: 0.8952\n",
      " training set -> batch:424 loss:0.21742868423461914 and acc: 0.8953620195388794\n",
      "424/782 [===============>..............] - ETA: 2:52:19 - loss: 0.3491 - accuracy: 0.8954\n",
      " training set -> batch:425 loss:0.4139780104160309 and acc: 0.8938888907432556\n",
      "425/782 [===============>..............] - ETA: 2:51:46 - loss: 0.3493 - accuracy: 0.8939\n",
      " training set -> batch:426 loss:0.20927542448043823 and acc: 0.8941047787666321\n",
      "426/782 [===============>..............] - ETA: 2:51:12 - loss: 0.3489 - accuracy: 0.8941\n",
      " training set -> batch:427 loss:0.18370528519153595 and acc: 0.8937768340110779\n",
      "427/782 [===============>..............] - ETA: 2:50:39 - loss: 0.3485 - accuracy: 0.8938\n",
      " training set -> batch:428 loss:0.21232318878173828 and acc: 0.8945147395133972\n",
      "428/782 [===============>..............] - ETA: 2:50:06 - loss: 0.3482 - accuracy: 0.8945\n",
      " training set -> batch:429 loss:0.1804482638835907 and acc: 0.8952282071113586\n",
      "429/782 [===============>..............] - ETA: 2:49:33 - loss: 0.3478 - accuracy: 0.8952\n",
      " training set -> batch:430 loss:0.6358891725540161 and acc: 0.8923469185829163\n",
      "430/782 [===============>..............] - ETA: 2:48:59 - loss: 0.3485 - accuracy: 0.8923\n",
      " training set -> batch:431 loss:0.4303855299949646 and acc: 0.8905622363090515\n",
      "431/782 [===============>..............] - ETA: 2:48:26 - loss: 0.3487 - accuracy: 0.8906\n",
      " training set -> batch:432 loss:0.14769145846366882 and acc: 0.8913043737411499\n",
      "432/782 [===============>..............] - ETA: 2:47:53 - loss: 0.3482 - accuracy: 0.8913\n",
      " training set -> batch:433 loss:0.1821688860654831 and acc: 0.8920233249664307\n",
      "433/782 [===============>..............] - ETA: 2:47:19 - loss: 0.3478 - accuracy: 0.8920\n",
      " training set -> batch:434 loss:0.3101630210876465 and acc: 0.8912835121154785\n",
      "434/782 [===============>..............] - ETA: 2:46:46 - loss: 0.3478 - accuracy: 0.8913\n",
      " training set -> batch:435 loss:0.10597892105579376 and acc: 0.8929245471954346\n",
      "435/782 [===============>..............] - ETA: 2:46:13 - loss: 0.3472 - accuracy: 0.8929\n",
      " training set -> batch:436 loss:0.16457802057266235 and acc: 0.8935873508453369\n",
      "436/782 [===============>..............] - ETA: 2:45:40 - loss: 0.3468 - accuracy: 0.8936\n",
      " training set -> batch:437 loss:0.357879638671875 and acc: 0.8928571343421936\n",
      "437/782 [===============>..............] - ETA: 2:45:08 - loss: 0.3468 - accuracy: 0.8929\n",
      " training set -> batch:438 loss:0.47067075967788696 and acc: 0.8925992846488953\n",
      "438/782 [===============>..............] - ETA: 2:44:35 - loss: 0.3471 - accuracy: 0.8926\n",
      " training set -> batch:439 loss:0.24429011344909668 and acc: 0.892793595790863\n",
      "439/782 [===============>..............] - ETA: 2:44:02 - loss: 0.3469 - accuracy: 0.8928\n",
      " training set -> batch:440 loss:0.152255579829216 and acc: 0.8938596248626709\n",
      "440/782 [===============>..............] - ETA: 2:43:29 - loss: 0.3464 - accuracy: 0.8939\n",
      " training set -> batch:441 loss:0.2019200176000595 and acc: 0.8944636583328247\n",
      "441/782 [===============>..............] - ETA: 2:42:57 - loss: 0.3461 - accuracy: 0.8945\n",
      " training set -> batch:442 loss:0.2536623477935791 and acc: 0.894197940826416\n",
      "442/782 [===============>..............] - ETA: 2:42:24 - loss: 0.3459 - accuracy: 0.8942\n",
      " training set -> batch:443 loss:0.33640483021736145 and acc: 0.8943602442741394\n",
      "443/782 [===============>..............] - ETA: 2:41:51 - loss: 0.3459 - accuracy: 0.8944\n",
      " training set -> batch:444 loss:0.3344876766204834 and acc: 0.8941029906272888\n",
      "444/782 [================>.............] - ETA: 2:41:19 - loss: 0.3458 - accuracy: 0.8941\n",
      " training set -> batch:445 loss:0.15952229499816895 and acc: 0.8942623138427734\n",
      "445/782 [================>.............] - ETA: 2:40:46 - loss: 0.3454 - accuracy: 0.8943\n",
      " training set -> batch:446 loss:0.18293225765228271 and acc: 0.8952265381813049\n",
      "446/782 [================>.............] - ETA: 2:40:13 - loss: 0.3450 - accuracy: 0.8952\n",
      " training set -> batch:447 loss:0.2835696339607239 and acc: 0.894568681716919\n",
      "447/782 [================>.............] - ETA: 2:39:41 - loss: 0.3449 - accuracy: 0.8946\n",
      " training set -> batch:448 loss:0.19616712629795074 and acc: 0.8955047130584717\n",
      "448/782 [================>.............] - ETA: 2:39:08 - loss: 0.3446 - accuracy: 0.8955\n",
      " training set -> batch:449 loss:0.28375595808029175 and acc: 0.8944703936576843\n",
      "449/782 [================>.............] - ETA: 2:38:36 - loss: 0.3444 - accuracy: 0.8945\n",
      " training set -> batch:450 loss:0.1651488095521927 and acc: 0.8949999809265137\n",
      "\n",
      " validation set -> batch:450 val loss:0.2894021449610591 and val acc: 0.8939999938011169\n",
      "450/782 [================>.............] - ETA: 2:41:29 - loss: 0.3440 - accuracy: 0.8950\n",
      " training set -> batch:451 loss:0.1588757187128067 and acc: 0.8963178396224976\n",
      "451/782 [================>.............] - ETA: 2:40:56 - loss: 0.3436 - accuracy: 0.8963\n",
      " training set -> batch:452 loss:0.2568742334842682 and acc: 0.896616518497467\n",
      "452/782 [================>.............] - ETA: 2:40:22 - loss: 0.3434 - accuracy: 0.8966\n",
      " training set -> batch:453 loss:0.25156891345977783 and acc: 0.8959854245185852\n",
      "453/782 [================>.............] - ETA: 2:39:49 - loss: 0.3432 - accuracy: 0.8960\n",
      " training set -> batch:454 loss:0.2009393572807312 and acc: 0.896276593208313\n",
      "454/782 [================>.............] - ETA: 2:39:15 - loss: 0.3429 - accuracy: 0.8963\n",
      " training set -> batch:455 loss:0.22370845079421997 and acc: 0.8965517282485962\n",
      "455/782 [================>.............] - ETA: 2:38:42 - loss: 0.3427 - accuracy: 0.8966\n",
      " training set -> batch:456 loss:0.34464770555496216 and acc: 0.8959731459617615\n",
      "456/782 [================>.............] - ETA: 2:38:10 - loss: 0.3427 - accuracy: 0.8960\n",
      " training set -> batch:457 loss:0.15565651655197144 and acc: 0.8962418437004089\n",
      "457/782 [================>.............] - ETA: 2:37:37 - loss: 0.3423 - accuracy: 0.8962\n",
      " training set -> batch:458 loss:0.3928315043449402 and acc: 0.8957006335258484\n",
      "458/782 [================>.............] - ETA: 2:37:04 - loss: 0.3424 - accuracy: 0.8957\n",
      " training set -> batch:459 loss:0.12139784544706345 and acc: 0.89673912525177\n",
      "459/782 [================>.............] - ETA: 2:36:31 - loss: 0.3419 - accuracy: 0.8967\n",
      " training set -> batch:460 loss:0.31489109992980957 and acc: 0.8954545259475708\n",
      "460/782 [================>.............] - ETA: 2:35:58 - loss: 0.3418 - accuracy: 0.8955\n",
      " training set -> batch:461 loss:0.17238447070121765 and acc: 0.8964496850967407\n",
      "461/782 [================>.............] - ETA: 2:35:25 - loss: 0.3415 - accuracy: 0.8964\n",
      " training set -> batch:462 loss:0.08366180211305618 and acc: 0.8981214165687561\n",
      "462/782 [================>.............] - ETA: 2:34:52 - loss: 0.3409 - accuracy: 0.8981\n",
      " training set -> batch:463 loss:0.19751183688640594 and acc: 0.8990113139152527\n",
      "463/782 [================>.............] - ETA: 2:34:19 - loss: 0.3406 - accuracy: 0.8990\n",
      " training set -> batch:464 loss:0.44734740257263184 and acc: 0.8970994353294373\n",
      "464/782 [================>.............] - ETA: 2:33:46 - loss: 0.3408 - accuracy: 0.8971\n",
      " training set -> batch:465 loss:0.09070219099521637 and acc: 0.8986486196517944\n",
      "465/782 [================>.............] - ETA: 2:33:13 - loss: 0.3403 - accuracy: 0.8986\n",
      " training set -> batch:466 loss:0.3238897919654846 and acc: 0.8981481194496155\n",
      "466/782 [================>.............] - ETA: 2:32:40 - loss: 0.3402 - accuracy: 0.8981\n",
      " training set -> batch:467 loss:0.17931777238845825 and acc: 0.8976684212684631\n",
      "467/782 [================>.............] - ETA: 2:32:07 - loss: 0.3399 - accuracy: 0.8977\n",
      " training set -> batch:468 loss:0.12636937201023102 and acc: 0.8991116881370544\n",
      "468/782 [================>.............] - ETA: 2:31:34 - loss: 0.3394 - accuracy: 0.8991\n",
      " training set -> batch:469 loss:0.22297513484954834 and acc: 0.8992537260055542\n",
      "469/782 [================>.............] - ETA: 2:31:02 - loss: 0.3392 - accuracy: 0.8993\n",
      " training set -> batch:470 loss:0.2965956926345825 and acc: 0.8987804651260376\n",
      "470/782 [=================>............] - ETA: 2:30:29 - loss: 0.3391 - accuracy: 0.8988\n",
      " training set -> batch:471 loss:0.1327015459537506 and acc: 0.9001196026802063\n",
      "471/782 [=================>............] - ETA: 2:29:56 - loss: 0.3387 - accuracy: 0.9001\n",
      " training set -> batch:472 loss:0.3221617341041565 and acc: 0.9008215665817261\n",
      "472/782 [=================>............] - ETA: 2:29:24 - loss: 0.3386 - accuracy: 0.9008\n",
      " training set -> batch:473 loss:0.652573823928833 and acc: 0.8980414867401123\n",
      "473/782 [=================>............] - ETA: 2:28:51 - loss: 0.3393 - accuracy: 0.8980\n",
      " training set -> batch:474 loss:0.2162991166114807 and acc: 0.8993212580680847\n",
      "474/782 [=================>............] - ETA: 2:28:18 - loss: 0.3390 - accuracy: 0.8993\n",
      " training set -> batch:475 loss:0.20111621916294098 and acc: 0.9005555510520935\n",
      "475/782 [=================>............] - ETA: 2:27:46 - loss: 0.3387 - accuracy: 0.9006\n",
      " training set -> batch:476 loss:0.20536001026630402 and acc: 0.9012008905410767\n",
      "476/782 [=================>............] - ETA: 2:27:13 - loss: 0.3385 - accuracy: 0.9012\n",
      " training set -> batch:477 loss:0.2616458535194397 and acc: 0.9002146124839783\n",
      "477/782 [=================>............] - ETA: 2:26:40 - loss: 0.3383 - accuracy: 0.9002\n",
      " training set -> batch:478 loss:0.35564136505126953 and acc: 0.899789035320282\n",
      "478/782 [=================>............] - ETA: 2:26:08 - loss: 0.3383 - accuracy: 0.8998\n",
      " training set -> batch:479 loss:0.15701612830162048 and acc: 0.9004149436950684\n",
      "479/782 [=================>............] - ETA: 2:25:36 - loss: 0.3380 - accuracy: 0.9004\n",
      " training set -> batch:480 loss:0.1127462387084961 and acc: 0.9020408391952515\n",
      "480/782 [=================>............] - ETA: 2:25:04 - loss: 0.3375 - accuracy: 0.9020\n",
      " training set -> batch:481 loss:0.24312357604503632 and acc: 0.9021084308624268\n",
      "481/782 [=================>............] - ETA: 2:24:32 - loss: 0.3373 - accuracy: 0.9021\n",
      " training set -> batch:482 loss:0.10902699828147888 and acc: 0.9031620621681213\n",
      "482/782 [=================>............] - ETA: 2:24:00 - loss: 0.3368 - accuracy: 0.9032\n",
      " training set -> batch:483 loss:0.1449992060661316 and acc: 0.9046692848205566\n",
      "483/782 [=================>............] - ETA: 2:23:28 - loss: 0.3364 - accuracy: 0.9047\n",
      " training set -> batch:484 loss:0.11977560818195343 and acc: 0.9061302542686462\n",
      "484/782 [=================>............] - ETA: 2:22:56 - loss: 0.3360 - accuracy: 0.9061\n",
      " training set -> batch:485 loss:0.21676157414913177 and acc: 0.9061321020126343\n",
      "485/782 [=================>............] - ETA: 2:22:23 - loss: 0.3357 - accuracy: 0.9061\n",
      " training set -> batch:486 loss:0.14994777739048004 and acc: 0.9065985083580017\n",
      "486/782 [=================>............] - ETA: 2:21:51 - loss: 0.3354 - accuracy: 0.9066\n",
      " training set -> batch:487 loss:0.07727250456809998 and acc: 0.9075091481208801\n",
      "487/782 [=================>............] - ETA: 2:21:19 - loss: 0.3348 - accuracy: 0.9075\n",
      " training set -> batch:488 loss:0.27332228422164917 and acc: 0.9079422354698181\n",
      "488/782 [=================>............] - ETA: 2:20:47 - loss: 0.3347 - accuracy: 0.9079\n",
      " training set -> batch:489 loss:0.3871763348579407 and acc: 0.9074733257293701\n",
      "489/782 [=================>............] - ETA: 2:20:15 - loss: 0.3348 - accuracy: 0.9075\n",
      " training set -> batch:490 loss:0.623916506767273 and acc: 0.9048245549201965\n",
      "490/782 [=================>............] - ETA: 2:19:43 - loss: 0.3354 - accuracy: 0.9048\n",
      " training set -> batch:491 loss:0.4339469075202942 and acc: 0.9026816487312317\n",
      "491/782 [=================>............] - ETA: 2:19:11 - loss: 0.3356 - accuracy: 0.9027\n",
      " training set -> batch:492 loss:0.4428047835826874 and acc: 0.9018771052360535\n",
      "492/782 [=================>............] - ETA: 2:18:39 - loss: 0.3358 - accuracy: 0.9019\n",
      " training set -> batch:493 loss:0.10669675469398499 and acc: 0.9023569226264954\n",
      "493/782 [=================>............] - ETA: 2:18:07 - loss: 0.3353 - accuracy: 0.9024\n",
      " training set -> batch:494 loss:0.20041996240615845 and acc: 0.9028239250183105\n",
      "494/782 [=================>............] - ETA: 2:17:35 - loss: 0.3351 - accuracy: 0.9028\n",
      " training set -> batch:495 loss:0.54396653175354 and acc: 0.9012295007705688\n",
      "495/782 [=================>............] - ETA: 2:17:03 - loss: 0.3355 - accuracy: 0.9012\n",
      " training set -> batch:496 loss:0.1722743809223175 and acc: 0.901294469833374\n",
      "496/782 [==================>...........] - ETA: 2:16:32 - loss: 0.3352 - accuracy: 0.9013\n",
      " training set -> batch:497 loss:0.5021037459373474 and acc: 0.899760365486145\n",
      "497/782 [==================>...........] - ETA: 2:16:00 - loss: 0.3355 - accuracy: 0.8998\n",
      " training set -> batch:498 loss:0.26730242371559143 and acc: 0.8994479775428772\n",
      "498/782 [==================>...........] - ETA: 2:15:28 - loss: 0.3354 - accuracy: 0.8994\n",
      " training set -> batch:499 loss:0.3580450415611267 and acc: 0.8987538814544678\n",
      "499/782 [==================>...........] - ETA: 2:14:57 - loss: 0.3354 - accuracy: 0.8988\n",
      " training set -> batch:500 loss:0.2376096546649933 and acc: 0.8992307782173157\n",
      "\n",
      " validation set -> batch:500 val loss:0.2953124148771167 and val acc: 0.8740000128746033\n",
      "500/782 [==================>...........] - ETA: 2:17:11 - loss: 0.3352 - accuracy: 0.8992\n",
      " training set -> batch:501 loss:0.2394879162311554 and acc: 0.875\n",
      "501/782 [==================>...........] - ETA: 2:16:41 - loss: 0.3350 - accuracy: 0.8750\n",
      " training set -> batch:502 loss:0.28643518686294556 and acc: 0.8731203079223633\n",
      "502/782 [==================>...........] - ETA: 2:16:10 - loss: 0.3349 - accuracy: 0.8731\n",
      " training set -> batch:503 loss:0.24233394861221313 and acc: 0.8740875720977783\n",
      "503/782 [==================>...........] - ETA: 2:15:40 - loss: 0.3347 - accuracy: 0.8741\n",
      " training set -> batch:504 loss:0.2467714250087738 and acc: 0.8758864998817444\n",
      "504/782 [==================>...........] - ETA: 2:15:15 - loss: 0.3346 - accuracy: 0.8759\n",
      " training set -> batch:505 loss:0.31219035387039185 and acc: 0.875\n",
      "505/782 [==================>...........] - ETA: 2:14:47 - loss: 0.3345 - accuracy: 0.8750\n",
      " training set -> batch:506 loss:0.2910025715827942 and acc: 0.8741610646247864\n",
      "506/782 [==================>...........] - ETA: 2:14:17 - loss: 0.3344 - accuracy: 0.8742\n",
      " training set -> batch:507 loss:0.13249559700489044 and acc: 0.8766340017318726\n",
      "507/782 [==================>...........] - ETA: 2:13:47 - loss: 0.3340 - accuracy: 0.8766\n",
      " training set -> batch:508 loss:0.27531349658966064 and acc: 0.8765923380851746\n",
      "508/782 [==================>...........] - ETA: 2:13:17 - loss: 0.3339 - accuracy: 0.8766\n",
      " training set -> batch:509 loss:0.1846197247505188 and acc: 0.8781055808067322\n",
      "509/782 [==================>...........] - ETA: 2:12:47 - loss: 0.3336 - accuracy: 0.8781\n",
      " training set -> batch:510 loss:0.2984972596168518 and acc: 0.8787878751754761\n",
      "510/782 [==================>...........] - ETA: 2:12:16 - loss: 0.3336 - accuracy: 0.8788\n",
      " training set -> batch:511 loss:0.20019640028476715 and acc: 0.8794378638267517\n",
      "511/782 [==================>...........] - ETA: 2:11:46 - loss: 0.3333 - accuracy: 0.8794\n",
      " training set -> batch:512 loss:0.24975517392158508 and acc: 0.8793352842330933\n",
      "512/782 [==================>...........] - ETA: 2:11:16 - loss: 0.3331 - accuracy: 0.8793\n",
      " training set -> batch:513 loss:0.1306597888469696 and acc: 0.880649745464325\n",
      "513/782 [==================>...........] - ETA: 2:10:45 - loss: 0.3327 - accuracy: 0.8806\n",
      " training set -> batch:514 loss:0.1469098925590515 and acc: 0.8819060921669006\n",
      "514/782 [==================>...........] - ETA: 2:10:15 - loss: 0.3324 - accuracy: 0.8819\n",
      " training set -> batch:515 loss:0.4115847051143646 and acc: 0.8804054260253906\n",
      "515/782 [==================>...........] - ETA: 2:09:45 - loss: 0.3325 - accuracy: 0.8804\n",
      " training set -> batch:516 loss:0.2156982570886612 and acc: 0.8802909851074219\n",
      "516/782 [==================>...........] - ETA: 2:09:15 - loss: 0.3323 - accuracy: 0.8803\n",
      " training set -> batch:517 loss:0.3639853298664093 and acc: 0.8801813721656799\n",
      "517/782 [==================>...........] - ETA: 2:08:45 - loss: 0.3324 - accuracy: 0.8802\n",
      " training set -> batch:518 loss:0.19734737277030945 and acc: 0.8819797039031982\n",
      "518/782 [==================>...........] - ETA: 2:08:15 - loss: 0.3321 - accuracy: 0.8820\n",
      " training set -> batch:519 loss:0.061782002449035645 and acc: 0.8843283653259277\n",
      "519/782 [==================>...........] - ETA: 2:07:45 - loss: 0.3316 - accuracy: 0.8843\n",
      " training set -> batch:520 loss:0.36480826139450073 and acc: 0.8817073106765747\n",
      "520/782 [==================>...........] - ETA: 2:07:15 - loss: 0.3317 - accuracy: 0.8817\n",
      " training set -> batch:521 loss:0.11326675862073898 and acc: 0.8833732008934021\n",
      "521/782 [==================>...........] - ETA: 2:06:44 - loss: 0.3312 - accuracy: 0.8834\n",
      " training set -> batch:522 loss:0.18540024757385254 and acc: 0.8826290965080261\n",
      "522/782 [===================>..........] - ETA: 2:06:14 - loss: 0.3310 - accuracy: 0.8826\n",
      " training set -> batch:523 loss:0.07489075511693954 and acc: 0.8847926259040833\n",
      "523/782 [===================>..........] - ETA: 2:05:44 - loss: 0.3305 - accuracy: 0.8848\n",
      " training set -> batch:524 loss:0.26574474573135376 and acc: 0.8851810097694397\n",
      "524/782 [===================>..........] - ETA: 2:05:14 - loss: 0.3303 - accuracy: 0.8852\n",
      " training set -> batch:525 loss:0.2974987030029297 and acc: 0.8855555653572083\n",
      "525/782 [===================>..........] - ETA: 2:04:44 - loss: 0.3303 - accuracy: 0.8856\n",
      " training set -> batch:526 loss:0.4335213303565979 and acc: 0.8837336301803589\n",
      "526/782 [===================>..........] - ETA: 2:04:14 - loss: 0.3305 - accuracy: 0.8837\n",
      " training set -> batch:527 loss:0.27321332693099976 and acc: 0.883583664894104\n",
      "527/782 [===================>..........] - ETA: 2:03:44 - loss: 0.3304 - accuracy: 0.8836\n",
      " training set -> batch:528 loss:0.3335353136062622 and acc: 0.8823839426040649\n",
      "528/782 [===================>..........] - ETA: 2:03:14 - loss: 0.3304 - accuracy: 0.8824\n",
      " training set -> batch:529 loss:0.11660101264715195 and acc: 0.8832987546920776\n",
      "529/782 [===================>..........] - ETA: 2:02:44 - loss: 0.3300 - accuracy: 0.8833\n",
      " training set -> batch:530 loss:0.3090555965900421 and acc: 0.8826530575752258\n",
      "530/782 [===================>..........] - ETA: 2:02:14 - loss: 0.3299 - accuracy: 0.8827\n",
      " training set -> batch:531 loss:0.5016221404075623 and acc: 0.8820281028747559\n",
      "531/782 [===================>..........] - ETA: 2:01:45 - loss: 0.3303 - accuracy: 0.8820\n",
      " training set -> batch:532 loss:0.21046197414398193 and acc: 0.8833991885185242\n",
      "532/782 [===================>..........] - ETA: 2:01:14 - loss: 0.3300 - accuracy: 0.8834\n",
      " training set -> batch:533 loss:0.1682436615228653 and acc: 0.8842412233352661\n",
      "533/782 [===================>..........] - ETA: 2:00:44 - loss: 0.3297 - accuracy: 0.8842\n",
      " training set -> batch:534 loss:0.4928441047668457 and acc: 0.8840996026992798\n",
      "534/782 [===================>..........] - ETA: 2:00:14 - loss: 0.3300 - accuracy: 0.8841\n",
      " training set -> batch:535 loss:0.3740634322166443 and acc: 0.8834905624389648\n",
      "535/782 [===================>..........] - ETA: 1:59:44 - loss: 0.3301 - accuracy: 0.8835\n",
      " training set -> batch:536 loss:0.09657269716262817 and acc: 0.8852230310440063\n",
      "536/782 [===================>..........] - ETA: 1:59:14 - loss: 0.3297 - accuracy: 0.8852\n",
      " training set -> batch:537 loss:0.2532269060611725 and acc: 0.8850732445716858\n",
      "537/782 [===================>..........] - ETA: 1:58:44 - loss: 0.3295 - accuracy: 0.8851\n",
      " training set -> batch:538 loss:0.2641288638114929 and acc: 0.8853790760040283\n",
      "538/782 [===================>..........] - ETA: 1:58:14 - loss: 0.3294 - accuracy: 0.8854\n",
      " training set -> batch:539 loss:0.34512460231781006 and acc: 0.8843416571617126\n",
      "539/782 [===================>..........] - ETA: 1:57:44 - loss: 0.3294 - accuracy: 0.8843\n",
      " training set -> batch:540 loss:0.32876092195510864 and acc: 0.8833333253860474\n",
      "540/782 [===================>..........] - ETA: 1:57:14 - loss: 0.3294 - accuracy: 0.8833\n",
      " training set -> batch:541 loss:0.3105466365814209 and acc: 0.882785439491272\n",
      "541/782 [===================>..........] - ETA: 1:56:45 - loss: 0.3294 - accuracy: 0.8828\n",
      " training set -> batch:542 loss:0.3289191424846649 and acc: 0.8826791644096375\n",
      "542/782 [===================>..........] - ETA: 1:56:15 - loss: 0.3294 - accuracy: 0.8827\n",
      " training set -> batch:543 loss:0.13623981177806854 and acc: 0.8842592835426331\n",
      "543/782 [===================>..........] - ETA: 1:55:45 - loss: 0.3290 - accuracy: 0.8843\n",
      " training set -> batch:544 loss:0.4422403573989868 and acc: 0.8841361999511719\n",
      "544/782 [===================>..........] - ETA: 1:55:15 - loss: 0.3293 - accuracy: 0.8841\n",
      " training set -> batch:545 loss:0.2219364047050476 and acc: 0.8844262361526489\n",
      "545/782 [===================>..........] - ETA: 1:54:45 - loss: 0.3291 - accuracy: 0.8844\n",
      " training set -> batch:546 loss:0.17977558076381683 and acc: 0.8851132392883301\n",
      "546/782 [===================>..........] - ETA: 1:54:15 - loss: 0.3288 - accuracy: 0.8851\n",
      " training set -> batch:547 loss:0.1598449945449829 and acc: 0.8861821293830872\n",
      "547/782 [===================>..........] - ETA: 1:53:45 - loss: 0.3285 - accuracy: 0.8862\n",
      " training set -> batch:548 loss:0.21978099644184113 and acc: 0.886435329914093\n",
      "548/782 [====================>.........] - ETA: 1:53:15 - loss: 0.3283 - accuracy: 0.8864\n",
      " training set -> batch:549 loss:0.26950278878211975 and acc: 0.8862928152084351\n",
      "549/782 [====================>.........] - ETA: 1:52:45 - loss: 0.3282 - accuracy: 0.8863\n",
      " training set -> batch:550 loss:0.29893431067466736 and acc: 0.8861538171768188\n",
      "\n",
      " validation set -> batch:550 val loss:0.24496001284569502 and val acc: 0.9100000262260437\n",
      "550/782 [====================>.........] - ETA: 1:54:32 - loss: 0.3281 - accuracy: 0.8862\n",
      " training set -> batch:551 loss:0.18664351105690002 and acc: 0.9098837375640869\n",
      "551/782 [====================>.........] - ETA: 1:54:01 - loss: 0.3279 - accuracy: 0.9099\n",
      " training set -> batch:552 loss:0.2367546260356903 and acc: 0.9097744226455688\n",
      "552/782 [====================>.........] - ETA: 1:53:31 - loss: 0.3277 - accuracy: 0.9098\n",
      " training set -> batch:553 loss:0.14096638560295105 and acc: 0.9114963412284851\n",
      "553/782 [====================>.........] - ETA: 1:53:00 - loss: 0.3274 - accuracy: 0.9115\n",
      " training set -> batch:554 loss:0.25606414675712585 and acc: 0.9104610085487366\n",
      "554/782 [====================>.........] - ETA: 1:52:29 - loss: 0.3272 - accuracy: 0.9105\n",
      " training set -> batch:555 loss:0.3341417610645294 and acc: 0.9086207151412964\n",
      "555/782 [====================>.........] - ETA: 1:51:59 - loss: 0.3272 - accuracy: 0.9086\n",
      " training set -> batch:556 loss:0.15084907412528992 and acc: 0.9093959927558899\n",
      "556/782 [====================>.........] - ETA: 1:51:28 - loss: 0.3269 - accuracy: 0.9094\n",
      " training set -> batch:557 loss:0.3732556402683258 and acc: 0.9076797366142273\n",
      "557/782 [====================>.........] - ETA: 1:50:58 - loss: 0.3270 - accuracy: 0.9077\n",
      " training set -> batch:558 loss:0.21941420435905457 and acc: 0.9068471193313599\n",
      "558/782 [====================>.........] - ETA: 1:50:27 - loss: 0.3268 - accuracy: 0.9068\n",
      " training set -> batch:559 loss:0.2386544644832611 and acc: 0.9068322777748108\n",
      "559/782 [====================>.........] - ETA: 1:49:57 - loss: 0.3267 - accuracy: 0.9068\n",
      " training set -> batch:560 loss:0.1719363033771515 and acc: 0.907575786113739\n",
      "560/782 [====================>.........] - ETA: 1:49:26 - loss: 0.3264 - accuracy: 0.9076\n",
      " training set -> batch:561 loss:0.43129318952560425 and acc: 0.9060651063919067\n",
      "561/782 [====================>.........] - ETA: 1:48:56 - loss: 0.3266 - accuracy: 0.9061\n",
      " training set -> batch:562 loss:0.25125032663345337 and acc: 0.9039017558097839\n",
      "562/782 [====================>.........] - ETA: 1:48:25 - loss: 0.3264 - accuracy: 0.9039\n",
      " training set -> batch:563 loss:0.22063106298446655 and acc: 0.9046609997749329\n",
      "563/782 [====================>.........] - ETA: 1:47:54 - loss: 0.3262 - accuracy: 0.9047\n",
      " training set -> batch:564 loss:0.12389715015888214 and acc: 0.9060773253440857\n",
      "564/782 [====================>.........] - ETA: 1:47:24 - loss: 0.3259 - accuracy: 0.9061\n",
      " training set -> batch:565 loss:0.06684962660074234 and acc: 0.9074324369430542\n",
      "565/782 [====================>.........] - ETA: 1:46:54 - loss: 0.3254 - accuracy: 0.9074\n",
      " training set -> batch:566 loss:0.22464706003665924 and acc: 0.9080687761306763\n",
      "566/782 [====================>.........] - ETA: 1:46:23 - loss: 0.3253 - accuracy: 0.9081\n",
      " training set -> batch:567 loss:0.29963070154190063 and acc: 0.9067357778549194\n",
      "567/782 [====================>.........] - ETA: 1:45:53 - loss: 0.3252 - accuracy: 0.9067\n",
      " training set -> batch:568 loss:0.45261940360069275 and acc: 0.904187798500061\n",
      "568/782 [====================>.........] - ETA: 1:45:23 - loss: 0.3254 - accuracy: 0.9042\n",
      " training set -> batch:569 loss:0.22399434447288513 and acc: 0.9042288661003113\n",
      "569/782 [====================>.........] - ETA: 1:44:52 - loss: 0.3253 - accuracy: 0.9042\n",
      " training set -> batch:570 loss:0.3789437413215637 and acc: 0.9030487537384033\n",
      "570/782 [====================>.........] - ETA: 1:44:22 - loss: 0.3253 - accuracy: 0.9030\n",
      " training set -> batch:571 loss:0.20757277309894562 and acc: 0.9025119543075562\n",
      "571/782 [====================>.........] - ETA: 1:43:52 - loss: 0.3251 - accuracy: 0.9025\n",
      " training set -> batch:572 loss:0.24866998195648193 and acc: 0.9014084339141846\n",
      "572/782 [====================>.........] - ETA: 1:43:21 - loss: 0.3250 - accuracy: 0.9014\n",
      " training set -> batch:573 loss:0.9917569160461426 and acc: 0.89573734998703\n",
      "573/782 [====================>.........] - ETA: 1:42:51 - loss: 0.3262 - accuracy: 0.8957\n",
      " training set -> batch:574 loss:0.4611145853996277 and acc: 0.8936651349067688\n",
      "574/782 [=====================>........] - ETA: 1:42:20 - loss: 0.3264 - accuracy: 0.8937\n",
      " training set -> batch:575 loss:0.11082565039396286 and acc: 0.8955555558204651\n",
      "575/782 [=====================>........] - ETA: 1:41:50 - loss: 0.3260 - accuracy: 0.8956\n",
      " training set -> batch:576 loss:0.22992974519729614 and acc: 0.8957423567771912\n",
      "576/782 [=====================>........] - ETA: 1:41:20 - loss: 0.3259 - accuracy: 0.8957\n",
      " training set -> batch:577 loss:0.31021052598953247 and acc: 0.8948497772216797\n",
      "577/782 [=====================>........] - ETA: 1:40:49 - loss: 0.3258 - accuracy: 0.8948\n",
      " training set -> batch:578 loss:0.32683277130126953 and acc: 0.8939873576164246\n",
      "578/782 [=====================>........] - ETA: 1:40:19 - loss: 0.3258 - accuracy: 0.8940\n",
      " training set -> batch:579 loss:0.29846101999282837 and acc: 0.8941908478736877\n",
      "579/782 [=====================>........] - ETA: 1:39:48 - loss: 0.3258 - accuracy: 0.8942\n",
      " training set -> batch:580 loss:0.2843461036682129 and acc: 0.8943877816200256\n",
      "580/782 [=====================>........] - ETA: 1:39:18 - loss: 0.3257 - accuracy: 0.8944\n",
      " training set -> batch:581 loss:0.2365429699420929 and acc: 0.8945783376693726\n",
      "581/782 [=====================>........] - ETA: 1:38:48 - loss: 0.3256 - accuracy: 0.8946\n",
      " training set -> batch:582 loss:0.08681806921958923 and acc: 0.8962450623512268\n",
      "582/782 [=====================>........] - ETA: 1:38:18 - loss: 0.3252 - accuracy: 0.8962\n",
      " training set -> batch:583 loss:0.19261308014392853 and acc: 0.8968871831893921\n",
      "583/782 [=====================>........] - ETA: 1:37:47 - loss: 0.3249 - accuracy: 0.8969\n",
      " training set -> batch:584 loss:0.23407524824142456 and acc: 0.8965517282485962\n",
      "584/782 [=====================>........] - ETA: 1:37:17 - loss: 0.3248 - accuracy: 0.8966\n",
      " training set -> batch:585 loss:0.37091195583343506 and acc: 0.8957546949386597\n",
      "585/782 [=====================>........] - ETA: 1:36:47 - loss: 0.3249 - accuracy: 0.8958\n",
      " training set -> batch:586 loss:0.24870990216732025 and acc: 0.8959107995033264\n",
      "586/782 [=====================>........] - ETA: 1:36:17 - loss: 0.3247 - accuracy: 0.8959\n",
      " training set -> batch:587 loss:0.15219104290008545 and acc: 0.8969780206680298\n",
      "587/782 [=====================>........] - ETA: 1:35:47 - loss: 0.3244 - accuracy: 0.8970\n",
      " training set -> batch:588 loss:0.1553788185119629 and acc: 0.8966606259346008\n",
      "588/782 [=====================>........] - ETA: 1:35:17 - loss: 0.3241 - accuracy: 0.8967\n",
      " training set -> batch:589 loss:0.2921571731567383 and acc: 0.8967971801757812\n",
      "589/782 [=====================>........] - ETA: 1:34:47 - loss: 0.3241 - accuracy: 0.8968\n",
      " training set -> batch:590 loss:0.21385455131530762 and acc: 0.8973684310913086\n",
      "590/782 [=====================>........] - ETA: 1:34:18 - loss: 0.3239 - accuracy: 0.8974\n",
      " training set -> batch:591 loss:0.2802578806877136 and acc: 0.8970588445663452\n",
      "591/782 [=====================>........] - ETA: 1:33:49 - loss: 0.3238 - accuracy: 0.8971\n",
      " training set -> batch:592 loss:0.22547182440757751 and acc: 0.8976109027862549\n",
      "592/782 [=====================>........] - ETA: 1:33:19 - loss: 0.3237 - accuracy: 0.8976\n",
      " training set -> batch:593 loss:0.18097041547298431 and acc: 0.8981481194496155\n",
      "593/782 [=====================>........] - ETA: 1:32:50 - loss: 0.3234 - accuracy: 0.8981\n",
      " training set -> batch:594 loss:0.12609277665615082 and acc: 0.8990863561630249\n",
      "594/782 [=====================>........] - ETA: 1:32:21 - loss: 0.3231 - accuracy: 0.8991\n",
      " training set -> batch:595 loss:0.30016106367111206 and acc: 0.8983606696128845\n",
      "595/782 [=====================>........] - ETA: 1:31:51 - loss: 0.3230 - accuracy: 0.8984\n",
      " training set -> batch:596 loss:0.2825147807598114 and acc: 0.8976536989212036\n",
      "596/782 [=====================>........] - ETA: 1:31:21 - loss: 0.3230 - accuracy: 0.8977\n",
      " training set -> batch:597 loss:0.33380454778671265 and acc: 0.8973641991615295\n",
      "597/782 [=====================>........] - ETA: 1:30:50 - loss: 0.3230 - accuracy: 0.8974\n",
      " training set -> batch:598 loss:0.1360730230808258 and acc: 0.897870659828186\n",
      "598/782 [=====================>........] - ETA: 1:30:20 - loss: 0.3227 - accuracy: 0.8979\n",
      " training set -> batch:599 loss:0.18795141577720642 and acc: 0.8979750871658325\n",
      "599/782 [=====================>........] - ETA: 1:29:50 - loss: 0.3225 - accuracy: 0.8980\n",
      " training set -> batch:600 loss:0.10651129484176636 and acc: 0.8988461494445801\n",
      "\n",
      " validation set -> batch:600 val loss:0.26960218977183104 and val acc: 0.8880000114440918\n",
      "600/782 [======================>.......] - ETA: 1:30:59 - loss: 0.3221 - accuracy: 0.8988\n",
      " training set -> batch:601 loss:0.24518686532974243 and acc: 0.8895348906517029\n",
      "601/782 [======================>.......] - ETA: 1:30:28 - loss: 0.3220 - accuracy: 0.8895\n",
      " training set -> batch:602 loss:0.19875407218933105 and acc: 0.8919172883033752\n",
      "602/782 [======================>.......] - ETA: 1:29:57 - loss: 0.3218 - accuracy: 0.8919\n",
      " training set -> batch:603 loss:0.22117707133293152 and acc: 0.8923357725143433\n",
      "603/782 [======================>.......] - ETA: 1:29:27 - loss: 0.3216 - accuracy: 0.8923\n",
      " training set -> batch:604 loss:0.3907499313354492 and acc: 0.8891844153404236\n",
      "604/782 [======================>.......] - ETA: 1:28:56 - loss: 0.3217 - accuracy: 0.8892\n",
      " training set -> batch:605 loss:0.2206282764673233 and acc: 0.8870689868927002\n",
      "605/782 [======================>.......] - ETA: 1:28:25 - loss: 0.3215 - accuracy: 0.8871\n",
      " training set -> batch:606 loss:0.35274630784988403 and acc: 0.8859060406684875\n",
      "606/782 [======================>.......] - ETA: 1:27:55 - loss: 0.3216 - accuracy: 0.8859\n",
      " training set -> batch:607 loss:0.18120849132537842 and acc: 0.8872548937797546\n",
      "607/782 [======================>.......] - ETA: 1:27:24 - loss: 0.3214 - accuracy: 0.8873\n",
      " training set -> batch:608 loss:0.19188277423381805 and acc: 0.8885350227355957\n",
      "608/782 [======================>.......] - ETA: 1:26:53 - loss: 0.3212 - accuracy: 0.8885\n",
      " training set -> batch:609 loss:0.5345406532287598 and acc: 0.8866459727287292\n",
      "609/782 [======================>.......] - ETA: 1:26:23 - loss: 0.3215 - accuracy: 0.8866\n",
      " training set -> batch:610 loss:0.35335594415664673 and acc: 0.8863636255264282\n",
      "610/782 [======================>.......] - ETA: 1:25:52 - loss: 0.3216 - accuracy: 0.8864\n",
      " training set -> batch:611 loss:0.30328038334846497 and acc: 0.8860946893692017\n",
      "611/782 [======================>.......] - ETA: 1:25:22 - loss: 0.3215 - accuracy: 0.8861\n",
      " training set -> batch:612 loss:0.240009143948555 and acc: 0.8865606784820557\n",
      "612/782 [======================>.......] - ETA: 1:24:51 - loss: 0.3214 - accuracy: 0.8866\n",
      " training set -> batch:613 loss:0.27362310886383057 and acc: 0.8877118825912476\n",
      "613/782 [======================>.......] - ETA: 1:24:20 - loss: 0.3213 - accuracy: 0.8877\n",
      " training set -> batch:614 loss:0.2615387439727783 and acc: 0.8874309659004211\n",
      "614/782 [======================>.......] - ETA: 1:23:49 - loss: 0.3212 - accuracy: 0.8874\n",
      " training set -> batch:615 loss:0.27463144063949585 and acc: 0.887837827205658\n",
      "615/782 [======================>.......] - ETA: 1:23:19 - loss: 0.3211 - accuracy: 0.8878\n",
      " training set -> batch:616 loss:0.2417946457862854 and acc: 0.8882275223731995\n",
      "616/782 [======================>.......] - ETA: 1:22:48 - loss: 0.3210 - accuracy: 0.8882\n",
      " training set -> batch:617 loss:0.2262008786201477 and acc: 0.8879533410072327\n",
      "617/782 [======================>.......] - ETA: 1:22:17 - loss: 0.3209 - accuracy: 0.8880\n",
      " training set -> batch:618 loss:0.41556236147880554 and acc: 0.8864213228225708\n",
      "618/782 [======================>.......] - ETA: 1:21:47 - loss: 0.3210 - accuracy: 0.8864\n",
      " training set -> batch:619 loss:0.26479774713516235 and acc: 0.8861940503120422\n",
      "619/782 [======================>.......] - ETA: 1:21:16 - loss: 0.3209 - accuracy: 0.8862\n",
      " training set -> batch:620 loss:0.19709134101867676 and acc: 0.8871951103210449\n",
      "620/782 [======================>.......] - ETA: 1:20:46 - loss: 0.3207 - accuracy: 0.8872\n",
      " training set -> batch:621 loss:0.19882993400096893 and acc: 0.8875598311424255\n",
      "621/782 [======================>.......] - ETA: 1:20:15 - loss: 0.3205 - accuracy: 0.8876\n",
      " training set -> batch:622 loss:0.30734845995903015 and acc: 0.8867371082305908\n",
      "622/782 [======================>.......] - ETA: 1:19:45 - loss: 0.3205 - accuracy: 0.8867\n",
      " training set -> batch:623 loss:0.12264514714479446 and acc: 0.888248860836029\n",
      "623/782 [======================>.......] - ETA: 1:19:14 - loss: 0.3202 - accuracy: 0.8882\n",
      " training set -> batch:624 loss:0.173907071352005 and acc: 0.889140248298645\n",
      "624/782 [======================>.......] - ETA: 1:18:43 - loss: 0.3200 - accuracy: 0.8891\n",
      " training set -> batch:625 loss:0.3636489510536194 and acc: 0.8888888955116272\n",
      "625/782 [======================>.......] - ETA: 1:18:13 - loss: 0.3200 - accuracy: 0.8889\n",
      " training set -> batch:626 loss:0.08324281871318817 and acc: 0.8908296823501587\n",
      "626/782 [=======================>......] - ETA: 1:17:42 - loss: 0.3196 - accuracy: 0.8908\n",
      " training set -> batch:627 loss:0.1406472772359848 and acc: 0.8916308879852295\n",
      "627/782 [=======================>......] - ETA: 1:17:12 - loss: 0.3194 - accuracy: 0.8916\n",
      " training set -> batch:628 loss:0.11764407902956009 and acc: 0.892405092716217\n",
      "628/782 [=======================>......] - ETA: 1:16:42 - loss: 0.3190 - accuracy: 0.8924\n",
      " training set -> batch:629 loss:0.3230544626712799 and acc: 0.8921161890029907\n",
      "629/782 [=======================>......] - ETA: 1:16:11 - loss: 0.3190 - accuracy: 0.8921\n",
      " training set -> batch:630 loss:0.172516331076622 and acc: 0.893367350101471\n",
      "630/782 [=======================>......] - ETA: 1:15:41 - loss: 0.3188 - accuracy: 0.8934\n",
      " training set -> batch:631 loss:0.20369315147399902 and acc: 0.8940762877464294\n",
      "631/782 [=======================>......] - ETA: 1:15:11 - loss: 0.3186 - accuracy: 0.8941\n",
      " training set -> batch:632 loss:0.2819655239582062 and acc: 0.893774688243866\n",
      "632/782 [=======================>......] - ETA: 1:14:41 - loss: 0.3186 - accuracy: 0.8938\n",
      " training set -> batch:633 loss:0.22506387531757355 and acc: 0.8944552540779114\n",
      "633/782 [=======================>......] - ETA: 1:14:10 - loss: 0.3184 - accuracy: 0.8945\n",
      " training set -> batch:634 loss:0.3287171721458435 and acc: 0.8941571116447449\n",
      "634/782 [=======================>......] - ETA: 1:13:40 - loss: 0.3184 - accuracy: 0.8942\n",
      " training set -> batch:635 loss:0.5052981376647949 and acc: 0.8929245471954346\n",
      "635/782 [=======================>......] - ETA: 1:13:10 - loss: 0.3187 - accuracy: 0.8929\n",
      " training set -> batch:636 loss:0.22164054214954376 and acc: 0.893122673034668\n",
      "636/782 [=======================>......] - ETA: 1:12:39 - loss: 0.3186 - accuracy: 0.8931\n",
      " training set -> batch:637 loss:0.244347482919693 and acc: 0.8933150172233582\n",
      "637/782 [=======================>......] - ETA: 1:12:09 - loss: 0.3185 - accuracy: 0.8933\n",
      " training set -> batch:638 loss:0.21964871883392334 and acc: 0.8930505514144897\n",
      "638/782 [=======================>......] - ETA: 1:11:39 - loss: 0.3183 - accuracy: 0.8931\n",
      " training set -> batch:639 loss:0.09588615596294403 and acc: 0.8941280841827393\n",
      "639/782 [=======================>......] - ETA: 1:11:08 - loss: 0.3180 - accuracy: 0.8941\n",
      " training set -> batch:640 loss:0.2815221846103668 and acc: 0.8929824829101562\n",
      "640/782 [=======================>......] - ETA: 1:10:38 - loss: 0.3179 - accuracy: 0.8930\n",
      " training set -> batch:641 loss:0.12521283328533173 and acc: 0.8940311670303345\n",
      "641/782 [=======================>......] - ETA: 1:10:08 - loss: 0.3176 - accuracy: 0.8940\n",
      " training set -> batch:642 loss:0.196943461894989 and acc: 0.894197940826416\n",
      "642/782 [=======================>......] - ETA: 1:09:37 - loss: 0.3174 - accuracy: 0.8942\n",
      " training set -> batch:643 loss:0.32924729585647583 and acc: 0.8935185074806213\n",
      "643/782 [=======================>......] - ETA: 1:09:07 - loss: 0.3174 - accuracy: 0.8935\n",
      " training set -> batch:644 loss:0.2470134198665619 and acc: 0.8941029906272888\n",
      "644/782 [=======================>......] - ETA: 1:08:37 - loss: 0.3173 - accuracy: 0.8941\n",
      " training set -> batch:645 loss:0.09045427292585373 and acc: 0.8950819969177246\n",
      "645/782 [=======================>......] - ETA: 1:08:07 - loss: 0.3170 - accuracy: 0.8951\n",
      " training set -> batch:646 loss:0.19212070107460022 and acc: 0.8952265381813049\n",
      "646/782 [=======================>......] - ETA: 1:07:36 - loss: 0.3168 - accuracy: 0.8952\n",
      " training set -> batch:647 loss:0.3138761520385742 and acc: 0.8957667946815491\n",
      "647/782 [=======================>......] - ETA: 1:07:06 - loss: 0.3168 - accuracy: 0.8958\n",
      " training set -> batch:648 loss:0.17423054575920105 and acc: 0.8966876864433289\n",
      "648/782 [=======================>......] - ETA: 1:06:36 - loss: 0.3166 - accuracy: 0.8967\n",
      " training set -> batch:649 loss:0.34118449687957764 and acc: 0.8964174389839172\n",
      "649/782 [=======================>......] - ETA: 1:06:06 - loss: 0.3166 - accuracy: 0.8964\n",
      " training set -> batch:650 loss:0.311615526676178 and acc: 0.8957692384719849\n",
      "\n",
      " validation set -> batch:650 val loss:0.24990058969706297 and val acc: 0.9020000100135803\n",
      "650/782 [=======================>......] - ETA: 1:06:44 - loss: 0.3166 - accuracy: 0.8958\n",
      " training set -> batch:651 loss:0.13997122645378113 and acc: 0.9040697813034058\n",
      "651/782 [=======================>......] - ETA: 1:06:13 - loss: 0.3163 - accuracy: 0.9041\n",
      " training set -> batch:652 loss:0.3218960165977478 and acc: 0.9041353464126587\n",
      "652/782 [========================>.....] - ETA: 1:05:42 - loss: 0.3163 - accuracy: 0.9041\n",
      " training set -> batch:653 loss:0.1551538109779358 and acc: 0.9051094651222229\n",
      "653/782 [========================>.....] - ETA: 1:05:12 - loss: 0.3161 - accuracy: 0.9051\n",
      " training set -> batch:654 loss:0.21345245838165283 and acc: 0.9042553305625916\n",
      "654/782 [========================>.....] - ETA: 1:04:41 - loss: 0.3159 - accuracy: 0.9043\n",
      " training set -> batch:655 loss:0.12972711026668549 and acc: 0.9051724076271057\n",
      "655/782 [========================>.....] - ETA: 1:04:10 - loss: 0.3156 - accuracy: 0.9052\n",
      " training set -> batch:656 loss:0.23891907930374146 and acc: 0.9052013158798218\n",
      "656/782 [========================>.....] - ETA: 1:03:39 - loss: 0.3155 - accuracy: 0.9052\n",
      " training set -> batch:657 loss:0.15928897261619568 and acc: 0.9060457348823547\n",
      "657/782 [========================>.....] - ETA: 1:03:09 - loss: 0.3153 - accuracy: 0.9060\n",
      " training set -> batch:658 loss:0.24949300289154053 and acc: 0.9052547812461853\n",
      "658/782 [========================>.....] - ETA: 1:02:38 - loss: 0.3152 - accuracy: 0.9053\n",
      " training set -> batch:659 loss:0.09380649030208588 and acc: 0.907608687877655\n",
      "659/782 [========================>.....] - ETA: 1:02:07 - loss: 0.3148 - accuracy: 0.9076\n",
      " training set -> batch:660 loss:0.2709311246871948 and acc: 0.907575786113739\n",
      "660/782 [========================>.....] - ETA: 1:01:36 - loss: 0.3148 - accuracy: 0.9076\n",
      " training set -> batch:661 loss:0.44926291704177856 and acc: 0.9045857787132263\n",
      "661/782 [========================>.....] - ETA: 1:01:06 - loss: 0.3150 - accuracy: 0.9046\n",
      " training set -> batch:662 loss:0.20283187925815582 and acc: 0.9046242833137512\n",
      "662/782 [========================>.....] - ETA: 1:00:35 - loss: 0.3148 - accuracy: 0.9046\n",
      " training set -> batch:663 loss:0.28658294677734375 and acc: 0.9046609997749329\n",
      "663/782 [========================>.....] - ETA: 1:00:04 - loss: 0.3148 - accuracy: 0.9047\n",
      " training set -> batch:664 loss:0.2700344920158386 and acc: 0.9033148884773254\n",
      "664/782 [========================>.....] - ETA: 59:34 - loss: 0.3147 - accuracy: 0.9033  \n",
      " training set -> batch:665 loss:0.342525452375412 and acc: 0.9013513326644897\n",
      "665/782 [========================>.....] - ETA: 59:03 - loss: 0.3147 - accuracy: 0.9014\n",
      " training set -> batch:666 loss:0.2682257294654846 and acc: 0.9014550447463989\n",
      "666/782 [========================>.....] - ETA: 58:32 - loss: 0.3147 - accuracy: 0.9015\n",
      " training set -> batch:667 loss:0.1475711166858673 and acc: 0.9028497338294983\n",
      "667/782 [========================>.....] - ETA: 58:02 - loss: 0.3144 - accuracy: 0.9028\n",
      " training set -> batch:668 loss:0.35656869411468506 and acc: 0.9016497731208801\n",
      "668/782 [========================>.....] - ETA: 57:31 - loss: 0.3145 - accuracy: 0.9016\n",
      " training set -> batch:669 loss:0.22142966091632843 and acc: 0.9017412662506104\n",
      "669/782 [========================>.....] - ETA: 57:00 - loss: 0.3144 - accuracy: 0.9017\n",
      " training set -> batch:670 loss:0.4392331540584564 and acc: 0.9006097316741943\n",
      "670/782 [========================>.....] - ETA: 56:30 - loss: 0.3145 - accuracy: 0.9006\n",
      " training set -> batch:671 loss:0.22347159683704376 and acc: 0.9001196026802063\n",
      "671/782 [========================>.....] - ETA: 55:59 - loss: 0.3144 - accuracy: 0.9001\n",
      " training set -> batch:672 loss:0.4209536910057068 and acc: 0.8984741568565369\n",
      "672/782 [========================>.....] - ETA: 55:29 - loss: 0.3146 - accuracy: 0.8985\n",
      " training set -> batch:673 loss:0.21188104152679443 and acc: 0.899193525314331\n",
      "673/782 [========================>.....] - ETA: 54:58 - loss: 0.3144 - accuracy: 0.8992\n",
      " training set -> batch:674 loss:0.11333275586366653 and acc: 0.9004524946212769\n",
      "674/782 [========================>.....] - ETA: 54:27 - loss: 0.3141 - accuracy: 0.9005\n",
      " training set -> batch:675 loss:0.19747886061668396 and acc: 0.9005555510520935\n",
      "675/782 [========================>.....] - ETA: 53:57 - loss: 0.3139 - accuracy: 0.9006\n",
      " training set -> batch:676 loss:0.25675225257873535 and acc: 0.9006550312042236\n",
      "676/782 [========================>.....] - ETA: 53:26 - loss: 0.3139 - accuracy: 0.9007\n",
      " training set -> batch:677 loss:0.3268115520477295 and acc: 0.9002146124839783\n",
      "677/782 [========================>.....] - ETA: 52:55 - loss: 0.3139 - accuracy: 0.9002\n",
      " training set -> batch:678 loss:0.20765340328216553 and acc: 0.9003164768218994\n",
      "678/782 [=========================>....] - ETA: 52:25 - loss: 0.3137 - accuracy: 0.9003\n",
      " training set -> batch:679 loss:0.2292441427707672 and acc: 0.9009336233139038\n",
      "679/782 [=========================>....] - ETA: 51:54 - loss: 0.3136 - accuracy: 0.9009\n",
      " training set -> batch:680 loss:0.1213933527469635 and acc: 0.9020408391952515\n",
      "680/782 [=========================>....] - ETA: 51:24 - loss: 0.3133 - accuracy: 0.9020\n",
      " training set -> batch:681 loss:0.12209060788154602 and acc: 0.9026104211807251\n",
      "681/782 [=========================>....] - ETA: 50:53 - loss: 0.3130 - accuracy: 0.9026\n",
      " training set -> batch:682 loss:0.13635104894638062 and acc: 0.9031620621681213\n",
      "682/782 [=========================>....] - ETA: 50:23 - loss: 0.3128 - accuracy: 0.9032\n",
      " training set -> batch:683 loss:0.22524696588516235 and acc: 0.9032101035118103\n",
      "683/782 [=========================>....] - ETA: 49:52 - loss: 0.3126 - accuracy: 0.9032\n",
      " training set -> batch:684 loss:0.284597247838974 and acc: 0.9032567143440247\n",
      "684/782 [=========================>....] - ETA: 49:22 - loss: 0.3126 - accuracy: 0.9033\n",
      " training set -> batch:685 loss:0.31099700927734375 and acc: 0.902830183506012\n",
      "685/782 [=========================>....] - ETA: 48:51 - loss: 0.3126 - accuracy: 0.9028\n",
      " training set -> batch:686 loss:0.31570762395858765 and acc: 0.9019516706466675\n",
      "686/782 [=========================>....] - ETA: 48:21 - loss: 0.3126 - accuracy: 0.9020\n",
      " training set -> batch:687 loss:0.15681448578834534 and acc: 0.9024725556373596\n",
      "687/782 [=========================>....] - ETA: 47:51 - loss: 0.3124 - accuracy: 0.9025\n",
      " training set -> batch:688 loss:0.3412235677242279 and acc: 0.9011732935905457\n",
      "688/782 [=========================>....] - ETA: 47:20 - loss: 0.3124 - accuracy: 0.9012\n",
      " training set -> batch:689 loss:0.21229535341262817 and acc: 0.9012455344200134\n",
      "689/782 [=========================>....] - ETA: 46:50 - loss: 0.3123 - accuracy: 0.9012\n",
      " training set -> batch:690 loss:0.17690594494342804 and acc: 0.9013158082962036\n",
      "690/782 [=========================>....] - ETA: 46:20 - loss: 0.3121 - accuracy: 0.9013\n",
      " training set -> batch:691 loss:0.14501023292541504 and acc: 0.9022491574287415\n",
      "691/782 [=========================>....] - ETA: 45:49 - loss: 0.3118 - accuracy: 0.9022\n",
      " training set -> batch:692 loss:0.1953943818807602 and acc: 0.9027303457260132\n",
      "692/782 [=========================>....] - ETA: 45:19 - loss: 0.3117 - accuracy: 0.9027\n",
      " training set -> batch:693 loss:0.4861181080341339 and acc: 0.9015151262283325\n",
      "693/782 [=========================>....] - ETA: 44:48 - loss: 0.3119 - accuracy: 0.9015\n",
      " training set -> batch:694 loss:0.2813605070114136 and acc: 0.9015780687332153\n",
      "694/782 [=========================>....] - ETA: 44:18 - loss: 0.3119 - accuracy: 0.9016\n",
      " training set -> batch:695 loss:0.05353090539574623 and acc: 0.9028688669204712\n",
      "695/782 [=========================>....] - ETA: 43:48 - loss: 0.3115 - accuracy: 0.9029\n",
      " training set -> batch:696 loss:0.2501008212566376 and acc: 0.9021035432815552\n",
      "696/782 [=========================>....] - ETA: 43:17 - loss: 0.3114 - accuracy: 0.9021\n",
      " training set -> batch:697 loss:0.2490818202495575 and acc: 0.9021565318107605\n",
      "697/782 [=========================>....] - ETA: 42:47 - loss: 0.3113 - accuracy: 0.9022\n",
      " training set -> batch:698 loss:0.45387136936187744 and acc: 0.9006308913230896\n",
      "698/782 [=========================>....] - ETA: 42:16 - loss: 0.3115 - accuracy: 0.9006\n",
      " training set -> batch:699 loss:0.3984784483909607 and acc: 0.8999221324920654\n",
      "699/782 [=========================>....] - ETA: 41:46 - loss: 0.3117 - accuracy: 0.8999\n",
      " training set -> batch:700 loss:0.18278908729553223 and acc: 0.9003846049308777\n",
      "\n",
      " validation set -> batch:700 val loss:0.23569630272686481 and val acc: 0.9079999923706055\n",
      "700/782 [=========================>....] - ETA: 41:54 - loss: 0.3115 - accuracy: 0.9004\n",
      " training set -> batch:701 loss:0.1575353443622589 and acc: 0.9098837375640869\n",
      "701/782 [=========================>....] - ETA: 41:23 - loss: 0.3112 - accuracy: 0.9099\n",
      " training set -> batch:702 loss:0.1577996015548706 and acc: 0.9107142686843872\n",
      "702/782 [=========================>....] - ETA: 40:53 - loss: 0.3110 - accuracy: 0.9107\n",
      " training set -> batch:703 loss:0.22729796171188354 and acc: 0.9114963412284851\n",
      "703/782 [=========================>....] - ETA: 40:22 - loss: 0.3109 - accuracy: 0.9115\n",
      " training set -> batch:704 loss:0.211181178689003 and acc: 0.9095744490623474\n",
      "704/782 [==========================>...] - ETA: 39:51 - loss: 0.3108 - accuracy: 0.9096\n",
      " training set -> batch:705 loss:0.11349819600582123 and acc: 0.9112069010734558\n",
      "705/782 [==========================>...] - ETA: 39:20 - loss: 0.3105 - accuracy: 0.9112\n",
      " training set -> batch:706 loss:0.1303035020828247 and acc: 0.9127516746520996\n",
      "706/782 [==========================>...] - ETA: 38:49 - loss: 0.3102 - accuracy: 0.9128\n",
      " training set -> batch:707 loss:0.1937963366508484 and acc: 0.9133986830711365\n",
      "707/782 [==========================>...] - ETA: 38:18 - loss: 0.3101 - accuracy: 0.9134\n",
      " training set -> batch:708 loss:0.3656739592552185 and acc: 0.9140127301216125\n",
      "708/782 [==========================>...] - ETA: 37:47 - loss: 0.3101 - accuracy: 0.9140\n",
      " training set -> batch:709 loss:0.4362421929836273 and acc: 0.9130434989929199\n",
      "709/782 [==========================>...] - ETA: 37:16 - loss: 0.3103 - accuracy: 0.9130\n",
      " training set -> batch:710 loss:0.1062721386551857 and acc: 0.9136363863945007\n",
      "710/782 [==========================>...] - ETA: 36:46 - loss: 0.3100 - accuracy: 0.9136\n",
      " training set -> batch:711 loss:0.09066644310951233 and acc: 0.915680468082428\n",
      "711/782 [==========================>...] - ETA: 36:15 - loss: 0.3097 - accuracy: 0.9157\n",
      " training set -> batch:712 loss:0.41177207231521606 and acc: 0.913294792175293\n",
      "712/782 [==========================>...] - ETA: 35:44 - loss: 0.3099 - accuracy: 0.9133\n",
      " training set -> batch:713 loss:0.36531656980514526 and acc: 0.9117231369018555\n",
      "713/782 [==========================>...] - ETA: 35:13 - loss: 0.3099 - accuracy: 0.9117\n",
      " training set -> batch:714 loss:0.20247948169708252 and acc: 0.9116021990776062\n",
      "714/782 [==========================>...] - ETA: 34:42 - loss: 0.3098 - accuracy: 0.9116\n",
      " training set -> batch:715 loss:0.263641893863678 and acc: 0.9108108282089233\n",
      "715/782 [==========================>...] - ETA: 34:11 - loss: 0.3097 - accuracy: 0.9108\n",
      " training set -> batch:716 loss:0.28688907623291016 and acc: 0.9100528955459595\n",
      "716/782 [==========================>...] - ETA: 33:40 - loss: 0.3097 - accuracy: 0.9101\n",
      " training set -> batch:717 loss:0.21046768128871918 and acc: 0.909326434135437\n",
      "717/782 [==========================>...] - ETA: 33:09 - loss: 0.3096 - accuracy: 0.9093\n",
      " training set -> batch:718 loss:0.17027176916599274 and acc: 0.9098984599113464\n",
      "718/782 [==========================>...] - ETA: 32:38 - loss: 0.3094 - accuracy: 0.9099\n",
      " training set -> batch:719 loss:0.13829489052295685 and acc: 0.9110696315765381\n",
      "719/782 [==========================>...] - ETA: 32:08 - loss: 0.3091 - accuracy: 0.9111\n",
      " training set -> batch:720 loss:0.2982124090194702 and acc: 0.910365879535675\n",
      "720/782 [==========================>...] - ETA: 31:37 - loss: 0.3091 - accuracy: 0.9104\n",
      " training set -> batch:721 loss:0.3139868676662445 and acc: 0.9090909361839294\n",
      "721/782 [==========================>...] - ETA: 31:06 - loss: 0.3091 - accuracy: 0.9091\n",
      " training set -> batch:722 loss:0.27780836820602417 and acc: 0.9090375304222107\n",
      "722/782 [==========================>...] - ETA: 30:35 - loss: 0.3091 - accuracy: 0.9090\n",
      " training set -> batch:723 loss:0.4818577170372009 and acc: 0.9078341126441956\n",
      "723/782 [==========================>...] - ETA: 30:04 - loss: 0.3093 - accuracy: 0.9078\n",
      " training set -> batch:724 loss:0.16593965888023376 and acc: 0.9078054428100586\n",
      "724/782 [==========================>...] - ETA: 29:33 - loss: 0.3091 - accuracy: 0.9078\n",
      " training set -> batch:725 loss:0.0647113174200058 and acc: 0.9094444513320923\n",
      "725/782 [==========================>...] - ETA: 29:03 - loss: 0.3088 - accuracy: 0.9094\n",
      " training set -> batch:726 loss:0.32671207189559937 and acc: 0.9088428020477295\n",
      "726/782 [==========================>...] - ETA: 28:32 - loss: 0.3088 - accuracy: 0.9088\n",
      " training set -> batch:727 loss:0.11031774431467056 and acc: 0.9104077219963074\n",
      "727/782 [==========================>...] - ETA: 28:01 - loss: 0.3085 - accuracy: 0.9104\n",
      " training set -> batch:728 loss:0.33518046140670776 and acc: 0.9098101258277893\n",
      "728/782 [==========================>...] - ETA: 27:30 - loss: 0.3086 - accuracy: 0.9098\n",
      " training set -> batch:729 loss:0.389187753200531 and acc: 0.908713698387146\n",
      "729/782 [==========================>...] - ETA: 26:59 - loss: 0.3087 - accuracy: 0.9087\n",
      " training set -> batch:730 loss:0.23443135619163513 and acc: 0.9086734652519226\n",
      "730/782 [===========================>..] - ETA: 26:29 - loss: 0.3086 - accuracy: 0.9087\n",
      " training set -> batch:731 loss:0.20617996156215668 and acc: 0.9086345434188843\n",
      "731/782 [===========================>..] - ETA: 25:58 - loss: 0.3084 - accuracy: 0.9086\n",
      " training set -> batch:732 loss:0.23390424251556396 and acc: 0.907608687877655\n",
      "732/782 [===========================>..] - ETA: 25:27 - loss: 0.3083 - accuracy: 0.9076\n",
      " training set -> batch:733 loss:0.12304849922657013 and acc: 0.9085603356361389\n",
      "733/782 [===========================>..] - ETA: 24:56 - loss: 0.3081 - accuracy: 0.9086\n",
      " training set -> batch:734 loss:0.20199064910411835 and acc: 0.9090038537979126\n",
      "734/782 [===========================>..] - ETA: 24:26 - loss: 0.3079 - accuracy: 0.9090\n",
      " training set -> batch:735 loss:0.2815330922603607 and acc: 0.9080188870429993\n",
      "735/782 [===========================>..] - ETA: 23:55 - loss: 0.3079 - accuracy: 0.9080\n",
      " training set -> batch:736 loss:0.29416507482528687 and acc: 0.9065985083580017\n",
      "736/782 [===========================>..] - ETA: 23:24 - loss: 0.3079 - accuracy: 0.9066\n",
      " training set -> batch:737 loss:0.3168194890022278 and acc: 0.906593382358551\n",
      "737/782 [===========================>..] - ETA: 22:53 - loss: 0.3079 - accuracy: 0.9066\n",
      " training set -> batch:738 loss:0.24697694182395935 and acc: 0.9061371684074402\n",
      "738/782 [===========================>..] - ETA: 22:22 - loss: 0.3078 - accuracy: 0.9061\n",
      " training set -> batch:739 loss:0.19969920814037323 and acc: 0.9061387777328491\n",
      "739/782 [===========================>..] - ETA: 21:52 - loss: 0.3077 - accuracy: 0.9061\n",
      " training set -> batch:740 loss:0.10526706278324127 and acc: 0.9070175290107727\n",
      "740/782 [===========================>..] - ETA: 21:21 - loss: 0.3074 - accuracy: 0.9070\n",
      " training set -> batch:741 loss:0.2775910794734955 and acc: 0.9070069193840027\n",
      "741/782 [===========================>..] - ETA: 20:50 - loss: 0.3074 - accuracy: 0.9070\n",
      " training set -> batch:742 loss:0.3674439787864685 and acc: 0.9069966077804565\n",
      "742/782 [===========================>..] - ETA: 20:19 - loss: 0.3074 - accuracy: 0.9070\n",
      " training set -> batch:743 loss:0.2068113386631012 and acc: 0.9069865345954895\n",
      "743/782 [===========================>..] - ETA: 19:49 - loss: 0.3073 - accuracy: 0.9070\n",
      " training set -> batch:744 loss:0.1550188511610031 and acc: 0.9078072905540466\n",
      "744/782 [===========================>..] - ETA: 19:18 - loss: 0.3071 - accuracy: 0.9078\n",
      " training set -> batch:745 loss:0.09308341145515442 and acc: 0.9086065292358398\n",
      "745/782 [===========================>..] - ETA: 18:47 - loss: 0.3068 - accuracy: 0.9086\n",
      " training set -> batch:746 loss:0.21223482489585876 and acc: 0.9085760712623596\n",
      "746/782 [===========================>..] - ETA: 18:16 - loss: 0.3067 - accuracy: 0.9086\n",
      " training set -> batch:747 loss:0.14802241325378418 and acc: 0.9089456796646118\n",
      "747/782 [===========================>..] - ETA: 17:46 - loss: 0.3065 - accuracy: 0.9089\n",
      " training set -> batch:748 loss:0.2541850209236145 and acc: 0.9085173606872559\n",
      "748/782 [===========================>..] - ETA: 17:15 - loss: 0.3064 - accuracy: 0.9085\n",
      " training set -> batch:749 loss:0.1331777274608612 and acc: 0.90887850522995\n",
      "749/782 [===========================>..] - ETA: 16:44 - loss: 0.3062 - accuracy: 0.9089\n",
      " training set -> batch:750 loss:0.36441054940223694 and acc: 0.9084615111351013\n",
      "\n",
      " validation set -> batch:750 val loss:0.22816242976114154 and val acc: 0.9120000004768372\n",
      "750/782 [===========================>..] - ETA: 16:26 - loss: 0.3062 - accuracy: 0.9085\n",
      " training set -> batch:751 loss:0.21948716044425964 and acc: 0.911821722984314\n",
      "751/782 [===========================>..] - ETA: 15:55 - loss: 0.3061 - accuracy: 0.9118\n",
      " training set -> batch:752 loss:0.2622162401676178 and acc: 0.9116541147232056\n",
      "752/782 [===========================>..] - ETA: 15:24 - loss: 0.3061 - accuracy: 0.9117\n",
      " training set -> batch:753 loss:0.20096316933631897 and acc: 0.9114963412284851\n",
      "753/782 [===========================>..] - ETA: 14:53 - loss: 0.3059 - accuracy: 0.9115\n",
      " training set -> batch:754 loss:0.2066924273967743 and acc: 0.9104610085487366\n",
      "754/782 [===========================>..] - ETA: 14:22 - loss: 0.3058 - accuracy: 0.9105\n",
      " training set -> batch:755 loss:0.23542918264865875 and acc: 0.9120689630508423\n",
      "755/782 [===========================>..] - ETA: 13:51 - loss: 0.3057 - accuracy: 0.9121\n",
      " training set -> batch:756 loss:0.10571848601102829 and acc: 0.9135906100273132\n",
      "756/782 [============================>.] - ETA: 13:20 - loss: 0.3054 - accuracy: 0.9136\n",
      " training set -> batch:757 loss:0.24538150429725647 and acc: 0.9117646813392639\n",
      "757/782 [============================>.] - ETA: 12:49 - loss: 0.3054 - accuracy: 0.9118\n",
      " training set -> batch:758 loss:0.2348644733428955 and acc: 0.912420392036438\n",
      "758/782 [============================>.] - ETA: 12:18 - loss: 0.3053 - accuracy: 0.9124\n",
      " training set -> batch:759 loss:0.4208790063858032 and acc: 0.9107142686843872\n",
      "759/782 [============================>.] - ETA: 11:47 - loss: 0.3054 - accuracy: 0.9107\n",
      " training set -> batch:760 loss:0.27635693550109863 and acc: 0.9083333611488342\n",
      "760/782 [============================>.] - ETA: 11:16 - loss: 0.3054 - accuracy: 0.9083\n",
      " training set -> batch:761 loss:0.16265134513378143 and acc: 0.909023642539978\n",
      "761/782 [============================>.] - ETA: 10:46 - loss: 0.3052 - accuracy: 0.9090\n",
      " training set -> batch:762 loss:0.13127073645591736 and acc: 0.910404622554779\n",
      "762/782 [============================>.] - ETA: 10:15 - loss: 0.3050 - accuracy: 0.9104\n",
      " training set -> batch:763 loss:0.16790790855884552 and acc: 0.9110169410705566\n",
      "763/782 [============================>.] - ETA: 9:44 - loss: 0.3048 - accuracy: 0.9110 \n",
      " training set -> batch:764 loss:0.15668538212776184 and acc: 0.9122928380966187\n",
      "764/782 [============================>.] - ETA: 9:13 - loss: 0.3046 - accuracy: 0.9123\n",
      " training set -> batch:765 loss:0.1776961386203766 and acc: 0.9128378629684448\n",
      "765/782 [============================>.] - ETA: 8:42 - loss: 0.3044 - accuracy: 0.9128\n",
      " training set -> batch:766 loss:0.11797010153532028 and acc: 0.9133597612380981\n",
      "766/782 [============================>.] - ETA: 8:11 - loss: 0.3042 - accuracy: 0.9134\n",
      " training set -> batch:767 loss:0.2174454629421234 and acc: 0.9132124185562134\n",
      "767/782 [============================>.] - ETA: 7:40 - loss: 0.3041 - accuracy: 0.9132\n",
      " training set -> batch:768 loss:0.2624490559101105 and acc: 0.913705587387085\n",
      "768/782 [============================>.] - ETA: 7:09 - loss: 0.3040 - accuracy: 0.9137\n",
      " training set -> batch:769 loss:0.23780906200408936 and acc: 0.913557231426239\n",
      "769/782 [============================>.] - ETA: 6:39 - loss: 0.3039 - accuracy: 0.9136\n",
      " training set -> batch:770 loss:0.14787492156028748 and acc: 0.9146341681480408\n",
      "770/782 [============================>.] - ETA: 6:08 - loss: 0.3037 - accuracy: 0.9146\n",
      " training set -> batch:771 loss:0.13019561767578125 and acc: 0.915669858455658\n",
      "771/782 [============================>.] - ETA: 5:37 - loss: 0.3035 - accuracy: 0.9157\n",
      " training set -> batch:772 loss:0.4035683870315552 and acc: 0.9149060845375061\n",
      "772/782 [============================>.] - ETA: 5:06 - loss: 0.3036 - accuracy: 0.9149\n",
      " training set -> batch:773 loss:0.2284858226776123 and acc: 0.9153226017951965\n",
      "773/782 [============================>.] - ETA: 4:36 - loss: 0.3035 - accuracy: 0.9153\n",
      " training set -> batch:774 loss:0.39541536569595337 and acc: 0.9140271544456482\n",
      "774/782 [============================>.] - ETA: 4:05 - loss: 0.3037 - accuracy: 0.9140\n",
      " training set -> batch:775 loss:0.21650834381580353 and acc: 0.9127777814865112\n",
      "775/782 [============================>.] - ETA: 3:34 - loss: 0.3035 - accuracy: 0.9128\n",
      " training set -> batch:776 loss:0.2940766215324402 and acc: 0.9110261797904968\n",
      "776/782 [============================>.] - ETA: 3:03 - loss: 0.3035 - accuracy: 0.9110\n",
      " training set -> batch:777 loss:0.3259516656398773 and acc: 0.9104077219963074\n",
      "777/782 [============================>.] - ETA: 2:33 - loss: 0.3036 - accuracy: 0.9104\n",
      " training set -> batch:778 loss:0.31094324588775635 and acc: 0.9103375673294067\n",
      "778/782 [============================>.] - ETA: 2:02 - loss: 0.3036 - accuracy: 0.9103\n",
      " training set -> batch:779 loss:0.24796292185783386 and acc: 0.908713698387146\n",
      "779/782 [============================>.] - ETA: 1:31 - loss: 0.3035 - accuracy: 0.9087\n",
      " training set -> batch:780 loss:0.4064849019050598 and acc: 0.9071428775787354\n",
      "780/782 [============================>.] - ETA: 1:01 - loss: 0.3036 - accuracy: 0.9071\n",
      " training set -> batch:781 loss:0.27640023827552795 and acc: 0.9066265225410461\n",
      "781/782 [============================>.] - ETA: 30s - loss: 0.3036 - accuracy: 0.9066 \n",
      " training set -> batch:782 loss:0.17975029349327087 and acc: 0.9070000052452087\n",
      "782/782 [==============================] - 24243s 31s/step - loss: 0.3034 - accuracy: 0.9070 - val_loss: 0.2289 - val_accuracy: 0.9080\n",
      "\n",
      "execution time: 6:44:09\n"
     ]
    }
   ],
   "source": [
    "# time the function\n",
    "start_time = time.time()\n",
    "\n",
    "# making the transformation here since inside model.fit it creates a lot of warnings\n",
    "data_train = data_feature_extraction(train_dataset, model.name)\n",
    "data_val = data_feature_extraction(valid_dataset, model.name)\n",
    "histories_per_step = History_per_step(data_val, 50)\n",
    "\n",
    "# train the model\n",
    "history = model.fit(data_train, \n",
    "                    epochs=1, \n",
    "                    steps_per_epoch=782, #STEP_EPOCH_TRAIN,\n",
    "                    validation_data=data_val,\n",
    "                    validation_steps=16,\n",
    "                    callbacks=[tensorboard_callback,\n",
    "                               *checkpoint_callback,\n",
    "                               histories_per_step])\n",
    "\n",
    "# print execution time\n",
    "elapsed_time_secs = time.time() - start_time\n",
    "print('\\nexecution time: {}'.format(timedelta(seconds=round(elapsed_time_secs))))"
   ]
  },
  {
   "cell_type": "code",
   "execution_count": null,
   "metadata": {
    "Collapsed": "false"
   },
   "outputs": [],
   "source": [
    "# in case of crash, restart training from checkpoint:\n",
    "\n",
    "# load the model\n",
    "#new_model = load_model(checkpoint_prefix)\n",
    "\n",
    "#assert_allclose(model.predict(x_train),\n",
    "#                new_model.predict(x_train),\n",
    "#                1e-5)\n",
    "\n",
    "# fit the model\n",
    "#checkpoint = ModelCheckpoint(checkpoint_prefix, monitor='loss', verbose=1, save_best_only=True, mode='min')\n",
    "#callbacks_list = [checkpoint]\n",
    "#new_model.fit(data_train, \n",
    "#                    epochs=1, \n",
    "#                    steps_per_epoch=782, #STEP_EPOCH_TRAIN,\n",
    "#                    validation_data=data_val,\n",
    "#                    validation_steps=16,\n",
    "#                    callbacks=[tensorboard_callback,\n",
    "#                               *checkpoint_callback,\n",
    "#                               histories_per_step])"
   ]
  },
  {
   "cell_type": "markdown",
   "metadata": {
    "Collapsed": "false"
   },
   "source": [
    "### Save the model"
   ]
  },
  {
   "cell_type": "code",
   "execution_count": 89,
   "metadata": {
    "Collapsed": "false"
   },
   "outputs": [],
   "source": [
    "savemodel_path = os.path.join(checkpoint_dir, 'saved_model')\n",
    "os.makedirs(savemodel_path, exist_ok=True)"
   ]
  },
  {
   "cell_type": "code",
   "execution_count": 90,
   "metadata": {
    "Collapsed": "false"
   },
   "outputs": [
    {
     "name": "stdout",
     "output_type": "stream",
     "text": [
      "WARNING:tensorflow:From /home/.conda-env/env_multilingual_class/lib/python3.7/site-packages/tensorflow_core/python/ops/resource_variable_ops.py:1786: calling BaseResourceVariable.__init__ (from tensorflow.python.ops.resource_variable_ops) with constraint is deprecated and will be removed in a future version.\n",
      "Instructions for updating:\n",
      "If using Keras pass *_constraint arguments to layers.\n"
     ]
    },
    {
     "name": "stderr",
     "output_type": "stream",
     "text": [
      "WARNING:tensorflow:From /home/.conda-env/env_multilingual_class/lib/python3.7/site-packages/tensorflow_core/python/ops/resource_variable_ops.py:1786: calling BaseResourceVariable.__init__ (from tensorflow.python.ops.resource_variable_ops) with constraint is deprecated and will be removed in a future version.\n",
      "Instructions for updating:\n",
      "If using Keras pass *_constraint arguments to layers.\n"
     ]
    },
    {
     "name": "stdout",
     "output_type": "stream",
     "text": [
      "INFO:tensorflow:Assets written to: /home/vera_luechinger/save_model/saved_model/tf_bert_classification/assets\n"
     ]
    },
    {
     "name": "stderr",
     "output_type": "stream",
     "text": [
      "INFO:tensorflow:Assets written to: /home/vera_luechinger/save_model/saved_model/tf_bert_classification/assets\n"
     ]
    }
   ],
   "source": [
    "model.save(os.path.join(savemodel_path,model.name))"
   ]
  },
  {
   "cell_type": "code",
   "execution_count": 91,
   "metadata": {
    "Collapsed": "false"
   },
   "outputs": [
    {
     "name": "stdout",
     "output_type": "stream",
     "text": [
      "Model: tf_bert_classification\n",
      "  assets\n",
      "  variables\n",
      "  saved_model.pb\n"
     ]
    }
   ],
   "source": [
    "# check the saved model\n",
    "print('Model: {}'.format(model.name))\n",
    "for i in os.listdir(os.path.join(savemodel_path,model.name)):\n",
    "        print(' ',i)\n",
    "            "
   ]
  },
  {
   "cell_type": "markdown",
   "metadata": {
    "Collapsed": "false"
   },
   "source": [
    "### Loading a saved model"
   ]
  },
  {
   "cell_type": "code",
   "execution_count": 70,
   "metadata": {
    "Collapsed": "false"
   },
   "outputs": [
    {
     "name": "stdout",
     "output_type": "stream",
     "text": [
      "standard model: tf_bert_classification\n",
      "standard model: tf_bert_classification\n"
     ]
    }
   ],
   "source": [
    "# redo these in case of loading the model\n",
    "data_train = data_feature_extraction(train_dataset, model.name)\n",
    "data_val = data_feature_extraction(valid_dataset, model.name)\n",
    "histories_per_step = History_per_step(data_val, 50)"
   ]
  },
  {
   "cell_type": "code",
   "execution_count": 98,
   "metadata": {
    "Collapsed": "false"
   },
   "outputs": [],
   "source": [
    "model = tf.keras.models.load_model(checkpoint_dir + '/saved_model/tf_bert_classification')\n"
   ]
  },
  {
   "cell_type": "markdown",
   "metadata": {
    "Collapsed": "false"
   },
   "source": [
    "### Visualization"
   ]
  },
  {
   "cell_type": "code",
   "execution_count": 76,
   "metadata": {
    "Collapsed": "false"
   },
   "outputs": [],
   "source": [
    "plt.rcParams['figure.figsize'] = [15, 10]"
   ]
  },
  {
   "cell_type": "code",
   "execution_count": 77,
   "metadata": {
    "Collapsed": "false"
   },
   "outputs": [
    {
     "ename": "AttributeError",
     "evalue": "'History_per_step' object has no attribute 'steps'",
     "output_type": "error",
     "traceback": [
      "\u001b[0;31m---------------------------------------------------------------------------\u001b[0m",
      "\u001b[0;31mAttributeError\u001b[0m                            Traceback (most recent call last)",
      "\u001b[0;32m<ipython-input-77-e9aeb7c81331>\u001b[0m in \u001b[0;36m<module>\u001b[0;34m\u001b[0m\n\u001b[0;32m----> 1\u001b[0;31m mm.plot_acc_loss(steps_loss_train=histories_per_step.steps, loss_train=histories_per_step.losses,\n\u001b[0m\u001b[1;32m      2\u001b[0m                  \u001b[0msteps_acc_train\u001b[0m\u001b[0;34m=\u001b[0m\u001b[0mhistories_per_step\u001b[0m\u001b[0;34m.\u001b[0m\u001b[0msteps\u001b[0m\u001b[0;34m,\u001b[0m \u001b[0maccuracy_train\u001b[0m\u001b[0;34m=\u001b[0m\u001b[0mhistories_per_step\u001b[0m\u001b[0;34m.\u001b[0m\u001b[0maccuracies\u001b[0m\u001b[0;34m,\u001b[0m\u001b[0;34m\u001b[0m\u001b[0;34m\u001b[0m\u001b[0m\n\u001b[1;32m      3\u001b[0m                  \u001b[0msteps_loss_eval\u001b[0m\u001b[0;34m=\u001b[0m\u001b[0mhistories_per_step\u001b[0m\u001b[0;34m.\u001b[0m\u001b[0mval_steps\u001b[0m\u001b[0;34m,\u001b[0m \u001b[0mloss_eval\u001b[0m\u001b[0;34m=\u001b[0m\u001b[0mhistories_per_step\u001b[0m\u001b[0;34m.\u001b[0m\u001b[0mval_losses\u001b[0m\u001b[0;34m,\u001b[0m\u001b[0;34m\u001b[0m\u001b[0;34m\u001b[0m\u001b[0m\n\u001b[1;32m      4\u001b[0m                  steps_acc_eval=histories_per_step.val_steps, accuracy_eval=histories_per_step.val_accuracies)\n",
      "\u001b[0;31mAttributeError\u001b[0m: 'History_per_step' object has no attribute 'steps'"
     ]
    }
   ],
   "source": [
    "mm.plot_acc_loss(steps_loss_train=histories_per_step.steps, loss_train=histories_per_step.losses,\n",
    "                 steps_acc_train=histories_per_step.steps, accuracy_train=histories_per_step.accuracies,\n",
    "                 steps_loss_eval=histories_per_step.val_steps, loss_eval=histories_per_step.val_losses,\n",
    "                 steps_acc_eval=histories_per_step.val_steps, accuracy_eval=histories_per_step.val_accuracies)"
   ]
  },
  {
   "cell_type": "markdown",
   "metadata": {
    "Collapsed": "false"
   },
   "source": [
    "### Get more information"
   ]
  },
  {
   "cell_type": "code",
   "execution_count": 78,
   "metadata": {
    "Collapsed": "false"
   },
   "outputs": [
    {
     "name": "stdout",
     "output_type": "stream",
     "text": [
      "[]\n",
      "['loss']\n"
     ]
    }
   ],
   "source": [
    "print(model.metrics)\n",
    "print(model.metrics_names)"
   ]
  },
  {
   "cell_type": "code",
   "execution_count": 79,
   "metadata": {
    "Collapsed": "false"
   },
   "outputs": [
    {
     "ename": "AttributeError",
     "evalue": "'TFBertForSequenceClassification' object has no attribute 'epoch'",
     "output_type": "error",
     "traceback": [
      "\u001b[0;31m---------------------------------------------------------------------------\u001b[0m",
      "\u001b[0;31mAttributeError\u001b[0m                            Traceback (most recent call last)",
      "\u001b[0;32m<ipython-input-79-6fd66ed6bf74>\u001b[0m in \u001b[0;36m<module>\u001b[0;34m\u001b[0m\n\u001b[0;32m----> 1\u001b[0;31m \u001b[0mhistory\u001b[0m\u001b[0;34m.\u001b[0m\u001b[0mepoch\u001b[0m\u001b[0;34m\u001b[0m\u001b[0;34m\u001b[0m\u001b[0m\n\u001b[0m",
      "\u001b[0;31mAttributeError\u001b[0m: 'TFBertForSequenceClassification' object has no attribute 'epoch'"
     ]
    }
   ],
   "source": [
    "history.epoch"
   ]
  },
  {
   "cell_type": "code",
   "execution_count": 80,
   "metadata": {
    "Collapsed": "false"
   },
   "outputs": [
    {
     "ename": "AttributeError",
     "evalue": "'TFBertForSequenceClassification' object has no attribute 'params'",
     "output_type": "error",
     "traceback": [
      "\u001b[0;31m---------------------------------------------------------------------------\u001b[0m",
      "\u001b[0;31mAttributeError\u001b[0m                            Traceback (most recent call last)",
      "\u001b[0;32m<ipython-input-80-9b49a96a85ac>\u001b[0m in \u001b[0;36m<module>\u001b[0;34m\u001b[0m\n\u001b[0;32m----> 1\u001b[0;31m \u001b[0mhistory\u001b[0m\u001b[0;34m.\u001b[0m\u001b[0mparams\u001b[0m\u001b[0;34m\u001b[0m\u001b[0;34m\u001b[0m\u001b[0m\n\u001b[0m",
      "\u001b[0;31mAttributeError\u001b[0m: 'TFBertForSequenceClassification' object has no attribute 'params'"
     ]
    }
   ],
   "source": [
    "history.params"
   ]
  },
  {
   "cell_type": "code",
   "execution_count": 81,
   "metadata": {
    "Collapsed": "false"
   },
   "outputs": [
    {
     "ename": "AttributeError",
     "evalue": "'TFBertForSequenceClassification' object has no attribute 'history'",
     "output_type": "error",
     "traceback": [
      "\u001b[0;31m---------------------------------------------------------------------------\u001b[0m",
      "\u001b[0;31mAttributeError\u001b[0m                            Traceback (most recent call last)",
      "\u001b[0;32m<ipython-input-81-b2dcc5d67f0d>\u001b[0m in \u001b[0;36m<module>\u001b[0;34m\u001b[0m\n\u001b[0;32m----> 1\u001b[0;31m \u001b[0mhistory\u001b[0m\u001b[0;34m.\u001b[0m\u001b[0mhistory\u001b[0m\u001b[0;34m.\u001b[0m\u001b[0mkeys\u001b[0m\u001b[0;34m(\u001b[0m\u001b[0;34m)\u001b[0m\u001b[0;34m\u001b[0m\u001b[0;34m\u001b[0m\u001b[0m\n\u001b[0m",
      "\u001b[0;31mAttributeError\u001b[0m: 'TFBertForSequenceClassification' object has no attribute 'history'"
     ]
    }
   ],
   "source": [
    "history.history.keys()"
   ]
  },
  {
   "cell_type": "code",
   "execution_count": 82,
   "metadata": {
    "Collapsed": "false"
   },
   "outputs": [],
   "source": [
    "# dir(history)"
   ]
  },
  {
   "cell_type": "markdown",
   "metadata": {
    "Collapsed": "false"
   },
   "source": [
    "### Exploration of the model's structure"
   ]
  },
  {
   "cell_type": "code",
   "execution_count": 99,
   "metadata": {
    "Collapsed": "false"
   },
   "outputs": [
    {
     "data": {
      "image/png": "[encoded data removed]",
      "text/plain": [
       "<IPython.core.display.Image object>"
      ]
     },
     "execution_count": 99,
     "metadata": {},
     "output_type": "execute_result"
    }
   ],
   "source": [
    "tf.keras.utils.plot_model(model,\n",
    "                          'model.png',\n",
    "                          show_shapes=True)"
   ]
  },
  {
   "cell_type": "code",
   "execution_count": 100,
   "metadata": {
    "Collapsed": "false"
   },
   "outputs": [
    {
     "data": {
      "text/plain": [
       "{'attention_mask': <tf.Tensor 'attention_mask_4:0' shape=(None, 512) dtype=int32>,\n",
       " 'input_ids': <tf.Tensor 'input_ids_4:0' shape=(None, 512) dtype=int32>,\n",
       " 'token_type_ids': <tf.Tensor 'token_type_ids_4:0' shape=(None, 512) dtype=int32>}"
      ]
     },
     "execution_count": 100,
     "metadata": {},
     "output_type": "execute_result"
    }
   ],
   "source": [
    "model.inputs"
   ]
  },
  {
   "cell_type": "code",
   "execution_count": 101,
   "metadata": {
    "Collapsed": "false"
   },
   "outputs": [
    {
     "data": {
      "text/plain": [
       "[<tf.Tensor 'tf_bert_classification_4/Identity:0' shape=(None, 2) dtype=float32>]"
      ]
     },
     "execution_count": 101,
     "metadata": {},
     "output_type": "execute_result"
    }
   ],
   "source": [
    "model.outputs"
   ]
  },
  {
   "cell_type": "code",
   "execution_count": 102,
   "metadata": {
    "Collapsed": "false"
   },
   "outputs": [
    {
     "data": {
      "text/plain": [
       "[<tensorflow.python.keras.saving.saved_model.load.TFBertMainLayer at 0x7fc129a60350>,\n",
       " <tensorflow.python.keras.saving.saved_model.load.Dropout at 0x7fc129a60710>,\n",
       " <tensorflow.python.keras.saving.saved_model.load.Dense at 0x7fc129a60e90>]"
      ]
     },
     "execution_count": 102,
     "metadata": {},
     "output_type": "execute_result"
    }
   ],
   "source": [
    "model.layers"
   ]
  },
  {
   "cell_type": "code",
   "execution_count": 103,
   "metadata": {
    "Collapsed": "false"
   },
   "outputs": [
    {
     "name": "stdout",
     "output_type": "stream",
     "text": [
      "bert [] []\n",
      "dropout_189 [] []\n",
      "classifier [] []\n"
     ]
    }
   ],
   "source": [
    "# _inbound_nodes and inbound_nodes give the same !\n",
    "# to see method available: dir(model.layers[2])\n",
    "for layer in model.layers:\n",
    "    print(layer.name, layer._inbound_nodes, layer._outbound_nodes)"
   ]
  },
  {
   "cell_type": "markdown",
   "metadata": {
    "Collapsed": "false"
   },
   "source": [
    "### Validation of the model"
   ]
  },
  {
   "cell_type": "markdown",
   "metadata": {
    "Collapsed": "false"
   },
   "source": [
    "#### Making prediction"
   ]
  },
  {
   "cell_type": "code",
   "execution_count": 104,
   "metadata": {
    "Collapsed": "false"
   },
   "outputs": [
    {
     "name": "stdout",
     "output_type": "stream",
     "text": [
      "standard model: tf_bert_classification\n"
     ]
    }
   ],
   "source": [
    "# get probablility for each classes\n",
    "if model.name=='custom_tf_bert_classification':\n",
    "        print('custom model: {}'.format(model.name))\n",
    "        y_pred = tf.nn.softmax(model.predict(valid_dataset))\n",
    "elif model.name=='tf_bert_classification':\n",
    "        print('standard model: {}'.format(model.name))\n",
    "        y_pred = tf.squeeze(tf.nn.softmax(model.predict(valid_dataset)))"
   ]
  },
  {
   "cell_type": "code",
   "execution_count": 146,
   "metadata": {
    "Collapsed": "false"
   },
   "outputs": [
    {
     "data": {
      "text/plain": [
       "<tf.Tensor: shape=(1000, 2), dtype=float32, numpy=\n",
       "array([[0.05090828, 0.94909173],\n",
       "       [0.01116403, 0.988836  ],\n",
       "       [0.58249706, 0.4175029 ],\n",
       "       ...,\n",
       "       [0.85302615, 0.14697383],\n",
       "       [0.95922637, 0.04077363],\n",
       "       [0.9674078 , 0.03259215]], dtype=float32)>"
      ]
     },
     "execution_count": 146,
     "metadata": {},
     "output_type": "execute_result"
    }
   ],
   "source": [
    "tf.nn.softmax(model.predict(valid_dataset))"
   ]
  },
  {
   "cell_type": "code",
   "execution_count": 145,
   "metadata": {
    "Collapsed": "false"
   },
   "outputs": [
    {
     "data": {
      "text/plain": [
       "<BatchDataset shapes: ({input_ids: (None, None), attention_mask: (None, None), token_type_ids: (None, None)}, (None,)), types: ({input_ids: tf.int32, attention_mask: tf.int32, token_type_ids: tf.int32}, tf.int64)>"
      ]
     },
     "execution_count": 145,
     "metadata": {},
     "output_type": "execute_result"
    }
   ],
   "source": [
    "valid_dataset"
   ]
  },
  {
   "cell_type": "code",
   "execution_count": 105,
   "metadata": {
    "Collapsed": "false"
   },
   "outputs": [
    {
     "data": {
      "text/plain": [
       "TensorShape([1000, 2])"
      ]
     },
     "execution_count": 105,
     "metadata": {},
     "output_type": "execute_result"
    }
   ],
   "source": [
    "y_pred.shape"
   ]
  },
  {
   "cell_type": "code",
   "execution_count": 106,
   "metadata": {
    "Collapsed": "false"
   },
   "outputs": [],
   "source": [
    "# get predicted classes\n",
    "y_pred_argmax = tf.math.argmax(y_pred, axis=1)        "
   ]
  },
  {
   "cell_type": "code",
   "execution_count": 107,
   "metadata": {
    "Collapsed": "false"
   },
   "outputs": [
    {
     "data": {
      "text/plain": [
       "TensorShape([1000])"
      ]
     },
     "execution_count": 107,
     "metadata": {},
     "output_type": "execute_result"
    }
   ],
   "source": [
    "(y_pred_argmax).shape"
   ]
  },
  {
   "cell_type": "markdown",
   "metadata": {
    "Collapsed": "false"
   },
   "source": [
    "#### Extracting true classes"
   ]
  },
  {
   "cell_type": "code",
   "execution_count": 108,
   "metadata": {
    "Collapsed": "false"
   },
   "outputs": [],
   "source": [
    "# extracting and flatten true classes\n",
    "y_true_tf=valid_dataset.map(pp.label_extraction).flat_map(lambda x: valid_dataset.from_tensor_slices(x))"
   ]
  },
  {
   "cell_type": "code",
   "execution_count": 109,
   "metadata": {
    "Collapsed": "false"
   },
   "outputs": [],
   "source": [
    "y_true=list(y_true_tf.as_numpy_iterator())"
   ]
  },
  {
   "cell_type": "code",
   "execution_count": 110,
   "metadata": {
    "Collapsed": "false"
   },
   "outputs": [
    {
     "data": {
      "text/plain": [
       "(1000, 1000)"
      ]
     },
     "execution_count": 110,
     "metadata": {},
     "output_type": "execute_result"
    }
   ],
   "source": [
    "len(y_true), len(y_pred_argmax)"
   ]
  },
  {
   "cell_type": "markdown",
   "metadata": {
    "Collapsed": "false"
   },
   "source": [
    "#### Model performanes"
   ]
  },
  {
   "cell_type": "code",
   "execution_count": 111,
   "metadata": {
    "Collapsed": "false"
   },
   "outputs": [
    {
     "name": "stdout",
     "output_type": "stream",
     "text": [
      "              precision    recall  f1-score   support\n",
      "\n",
      "         neg       0.92      0.89      0.91       503\n",
      "         pos       0.90      0.92      0.91       497\n",
      "\n",
      "    accuracy                           0.91      1000\n",
      "   macro avg       0.91      0.91      0.91      1000\n",
      "weighted avg       0.91      0.91      0.91      1000\n",
      "\n"
     ]
    }
   ],
   "source": [
    "print(classification_report(y_true, y_pred_argmax, target_names=info.features[\"label\"].names))"
   ]
  },
  {
   "cell_type": "code",
   "execution_count": 112,
   "metadata": {
    "Collapsed": "false"
   },
   "outputs": [
    {
     "name": "stdout",
     "output_type": "stream",
     "text": [
      "Model performance on the  dataset:\n",
      "   Metric             \n",
      "accuracy...........   0.9080\n",
      "recall.............   0.9215\n",
      "auc................   0.9081\n",
      "precision (p=0.5)..   0.8963\n",
      "precision (avg)....   0.8649\n",
      "precision (micro)..   0.9080\n",
      "precision (macro)..   0.9083\n",
      "f1.................    0.9087\n",
      "r2.................    0.6320\n"
     ]
    }
   ],
   "source": [
    "mm.print_metrics(y_true, y_pred_argmax, mode='')"
   ]
  },
  {
   "cell_type": "markdown",
   "metadata": {
    "Collapsed": "false"
   },
   "source": [
    "#### Confusion matrix"
   ]
  },
  {
   "cell_type": "code",
   "execution_count": 113,
   "metadata": {
    "Collapsed": "false"
   },
   "outputs": [],
   "source": [
    "plt.rcParams['figure.figsize'] = [10, 7]"
   ]
  },
  {
   "cell_type": "code",
   "execution_count": 114,
   "metadata": {
    "Collapsed": "false"
   },
   "outputs": [
    {
     "data": {
      "image/png": "[encoded data removed]",
      "text/plain": [
       "<Figure size 720x504 with 2 Axes>"
      ]
     },
     "metadata": {
      "needs_background": "light"
     },
     "output_type": "display_data"
    }
   ],
   "source": [
    "mm.plot_confusion_matrix(confusion_matrix(y_true, y_pred_argmax), info.features[\"label\"].names)"
   ]
  },
  {
   "cell_type": "markdown",
   "metadata": {
    "Collapsed": "false"
   },
   "source": [
    "#### ROC curves"
   ]
  },
  {
   "cell_type": "code",
   "execution_count": 115,
   "metadata": {
    "Collapsed": "false"
   },
   "outputs": [
    {
     "data": {
      "image/png": "[encoded data removed]",
      "text/plain": [
       "<Figure size 720x576 with 1 Axes>"
      ]
     },
     "metadata": {
      "needs_background": "light"
     },
     "output_type": "display_data"
    },
    {
     "data": {
      "image/png": "[encoded data removed]",
      "text/plain": [
       "<Figure size 720x576 with 1 Axes>"
      ]
     },
     "metadata": {
      "needs_background": "light"
     },
     "output_type": "display_data"
    },
    {
     "data": {
      "image/png": "[encoded data removed]",
      "text/plain": [
       "<Figure size 720x576 with 1 Axes>"
      ]
     },
     "metadata": {
      "needs_background": "light"
     },
     "output_type": "display_data"
    }
   ],
   "source": [
    "mm.roc_curves(to_categorical(y_true), y_pred.numpy(), info.features[\"label\"].names)"
   ]
  },
  {
   "cell_type": "code",
   "execution_count": null,
   "metadata": {
    "Collapsed": "false"
   },
   "outputs": [],
   "source": []
  },
  {
   "cell_type": "markdown",
   "metadata": {
    "Collapsed": "false"
   },
   "source": [
    "#### Making new prediction"
   ]
  },
  {
   "cell_type": "code",
   "execution_count": 116,
   "metadata": {
    "Collapsed": "false"
   },
   "outputs": [
    {
     "name": "stdout",
     "output_type": "stream",
     "text": [
      "sentence: This classic has so many great one liners and unintentionally hilarious scenes that I don't even know where to start. If you want advice on dating, its here. Just totally ignore the person you want, and then spout out classic lines like \"Chicken's good...I like Chicken\", and before you know it you will be having a one nighter in a basement (it's a NICE basement) with a woman who is 35 years younger than you. Bronson does it all in this film. He buys a car for no good reason just so he can murder two gang members...paying with \"CASH\"......chunnng.... He buys an ice cream, simply because \"this is America, isn't it\", and ends up wasting someone named \"the giggler   he laughs when he runs\" just because he stole his camera. By the way, this \"giggler\" is so fast that Bronson's regular pistol can't even catch up to him, he needs to order a special one just to get this elusive creep. He gets cleaned up just so he can eat a REALLY smelly meal (stuffed cabbage) in a rat trap with a couple of old people who like to wear heavy clothing in 90 degree weather. He goes into the dentistry business. He always seems to find a crow bar when he needs one (and its the same one!). And last, but not least, he always seems to have a rocket launcher at his disposal just in case he needs to blow away Richie Cunningham's older brother Chuck who is now strung out and in dire need of a makeover. Anyway, this will all make sense once you have seen this classic...all I can say is enjoy! \"I owed you that one DUDE\"\n",
      "label:    pos\n"
     ]
    }
   ],
   "source": [
    "# getting a random example from the test data\n",
    "for i in valid_data_np.shuffle(100).take(1):\n",
    "    example = i['sentence']\n",
    "    print('sentence: {}\\nlabel:    {}'.format(i['sentence'].numpy().decode(), info.features[\"label\"].names[i['label'].numpy()]))"
   ]
  },
  {
   "cell_type": "code",
   "execution_count": 117,
   "metadata": {
    "Collapsed": "false"
   },
   "outputs": [
    {
     "name": "stdout",
     "output_type": "stream",
     "text": [
      "Ce classique a tant de grandes scènes et une liners involontairement hilarantes que je ne sais même pas par où commencer. Si vous voulez des conseils sur la datation, son ici. Il suffit de ne pas tenir compte tout à fait la personne que vous voulez, et le bec puis des lignes classiques comme « le bon de poulet ... Je comme le poulet », et avant que vous le savez vous allez avoir une nuit blanche dans un sous-sol (il est un sous-sol de NICE) avec une femme qui est 35 ans plus jeune que vous. Bronson fait tout dans ce film. Il achète une voiture sans raison juste pour qu'il puisse assassiner deux membres de gangs ... de payer avec « CASH » ...... chunnng .... Il achète une crème glacée, tout simplement parce que «c'est l'Amérique, ISN » t il » et finit par quelqu'un débilitante nommé « le Giggler il rit quand il court » juste parce qu'il a volé sa caméra. Soit dit en passant, ce « Giggler » est si rapide que le pistolet régulier de Bronson ne peut même rattraper lui, il a besoin de commander un spécial juste pour obtenir ce fluage insaisissable. Il se nettoie juste pour qu'il puisse manger un repas très mauvais (chou farci) dans un piège à rat avec un couple de personnes âgées qui aiment porter des vêtements lourds dans 90 degrés. Il va dans les affaires de la dentisterie. Il semble toujours trouver un bar crow quand il a besoin d'un (et son le même!). Et enfin, mais pas moins, il semble toujours avoir un lance-roquettes à sa disposition au cas où il a besoin de souffler le frère aîné de Richie Cunningham Chuck qui est maintenant égrènent et en grand besoin d'une cure de jouvence. Quoi qu'il en soit, tout cela va du sens une fois que vous avez vu ce classique ... tout ce que je peux dire est profiter! « Je vous devais que l'on Dude » \n",
      " Dieses klassische hat so viele große Einzeiler und unbeabsichtigt urkomisch Szenen, die ich weiß nicht einmal, wo ich anfangen soll. Wenn Sie wollen Beratung über Dating, seine hier. Nur völlig ignorieren die Person, die Sie wollen, und dann klassische Linien wie auszustoßen „Chicken ist gut ... Ich mag Chicken“, und bevor Sie es wissen, werden Sie ein ein nighter in einem Keller mit (es ist ein schöner Keller) mit einer Frau die ist 35 Jahre jünger als Sie. Bronson macht alles in diesem Film. Er kauft ein Auto ohne guten Grund nur so er zwei Bandenmitglieder ermorden kann ... mit „BAR“ zu zahlen ...... chunnng .... Er kauft ein Eis, einfach weil „dies ist Amerika, isn‘ t it“, und Enden verschwenden jemand mit dem Namen‚die giggler er lacht, wenn er läuft‘, nur weil er seine Kamera gestohlen hat. By the way, diese „giggler“ so schnell ist, dass Bronson regelmäßigen Pistole nicht einmal auf ihn aufholen kann, braucht er nur ein besonderes zu bestellen diese schwer fassbare Kriechen zu bekommen. Er wird aufgeräumt, nur damit er essen wirklich stinkende Essen (Kohlrouladen) in einer Rattenfalle mit ein paar alten Menschen, die schwere Kleidung in 90-Grad-Wetter tragen mögen. Er geht in die Zahnmedizin-Geschäft. Er scheint immer einen Kuhfuß zu finden, wenn er braucht (und seine das gleiche!). Und last, but not least, er scheint immer einen Raketenwerfer haben zu seiner Verfügung für den Fall, er muss Richie Cunningham älterer Bruder wegzublasen Chuck, der jetzt aufgereiht und dringend eine Renovierung. Auf jeden Fall wird das alles Sinn machen, wenn Sie diese klassischen gesehen hat ... alles, was ich sagen kann ist, genießen! „Ich schuldete dir das GECK“\n"
     ]
    }
   ],
   "source": [
    "# conda install googletrans\n",
    "from googletrans import Translator\n",
    "\n",
    "# translate some example in some languages\n",
    "# original entry:\n",
    "# Role reversal remake of 1942's \"The Major and the Minor\" has Jerry Lewis stepping into the part originally played by Ginger Rogers, but unfortunately \n",
    "# this anemic outing is missing a lot more than just Ginger. Lewis attempts to pass for a child when boarding a train; he's successful, but the deception \n",
    "# leads to a string of comic and romantic confusions. Sidney Sheldon adapted the screenplay, tossing in musical moments for Dean Martin (playing yet \n",
    "# another in his stable of second bananas) and a jewel robbery subplot (which is dire). Diana Lynn, who played the wily teenager in the original film, \n",
    "# plays Lewis' love interest here. She's cute; Jerry isn't. *1 2 from ****\n",
    "#text_en = [\"Role reversal remake of 1942's 'The Major and the Minor' has Jerry Lewis stepping into the part originally played by Ginger Rogers, but unfortunately this anemic outing is missing a lot more than just Ginger. Lewis attempts to pass for a child when boarding a train; he's successful, but the deception leads to a string of comic and romantic confusions. Sidney Sheldon adapted the screenplay, tossing in musical moments for Dean Martin (playing yet another in his stable of second bananas) and a jewel robbery subplot (which is dire). Diana Lynn, who played the wily teenager in the original film, plays Lewis' love interest here. She's cute; Jerry isn't. *1 2 from ****\"]\n",
    "#text_de = [\"Das Rollentausch-Remake von 'The Major and the Minor' aus dem Jahr 1942 lässt Jerry Lewis in die Rolle von Ginger Rogers eintreten, aber leider fehlt diesem anämischen Ausflug viel mehr als nur Ginger. Lewis versucht beim Einsteigen in einen Zug als Kind zu gelten. Er ist erfolgreich, aber die Täuschung führt zu einer Reihe von komischen und romantischen Verwirrungen. Sidney Sheldon adaptierte das Drehbuch und warf musikalische Momente für Dean Martin (der noch einen weiteren in seinem Stall mit zweiten Bananen spielt) und eine Nebenhandlung über Juwelenraub (was schrecklich ist) ein. Diana Lynn, die im Originalfilm den schlauen Teenager spielte, spielt hier Lewis' Liebesinteresse. Sie ist süß; Jerry aber nicht. * 1 2 von ****\"]\n",
    "#text_fr = [\"Le remake d'inversion des rôles de 'The Major and the Minor' de 1942 a Jerry Lewis entrer dans le rôle initialement joué par Ginger Rogers, mais malheureusement cette sortie anémique manque beaucoup plus que juste Ginger. Lewis tente de passer pour un enfant à bord d'un train; il a réussi, mais la tromperie mène à une chaîne de confusions comiques et romantiques. Sidney Sheldon a adapté le scénario, jetant des moments musicaux pour Dean Martin (jouant encore un autre dans son écurie de secondes bananes) et une intrigue secondaire de vol de bijoux (ce qui est terrible). Diana Lynn, qui a joué l'adolescente astucieuse dans le film original, joue l'intérêt amoureux de Lewis ici. Elle est mignonne; Jerry ne l'est pas. * 1 2 de ****\"]\n",
    "translator = Translator()\n",
    "text_en = example.numpy().decode()\n",
    "#test = translator.translate(\"Hello, this is a test.\", dest='fr')\n",
    "#print(test.text)\n",
    "#print(text_en)\n",
    "text_fr = translator.translate(text_en, dest='fr').text\n",
    "text_de = translator.translate(text_en, dest='de').text\n",
    "print(text_fr, '\\n', text_de)"
   ]
  },
  {
   "cell_type": "code",
   "execution_count": 140,
   "metadata": {
    "Collapsed": "false"
   },
   "outputs": [
    {
     "name": "stdout",
     "output_type": "stream",
     "text": [
      "Ce classique a tellement de super doublures et de scènes involontairement hilarantes que je ne sais même pas par où commencer. Si vous voulez des conseils sur les rencontres, c&#39;est ici. Ignorez totalement la personne que vous voulez, puis lancez des lignes classiques comme &quot;Chicken&#39;s good ... I like Chicken&quot;, et avant de vous en rendre compte, vous aurez une nuit dans un sous-sol (c&#39;est un joli sous-sol) avec une femme qui a 35 ans de moins que toi. Bronson fait tout dans ce film. Il achète une voiture sans raison valable juste pour pouvoir assassiner deux membres de gangs ... en payant avec &quot;CASH&quot; ...... chunnng .... Il achète une glace, simplement parce que &quot;c&#39;est l&#39;Amérique, n&#39;est-ce pas&quot; t it &quot;, et finit par gaspiller quelqu&#39;un nommé&quot; le fou rire qu&#39;il rit quand il court &quot;juste parce qu&#39;il a volé son appareil photo. Soit dit en passant, ce &quot;glousseur&quot; est si rapide que le pistolet ordinaire de Bronson ne peut même pas le rattraper, il doit en commander un spécial juste pour obtenir ce fluage insaisissable. Il est nettoyé juste pour pouvoir manger un repas VRAIMENT malodorant (chou farci) dans un piège à rats avec quelques personnes âgées qui aiment porter des vêtements lourds par temps de 90 degrés. Il se lance dans le domaine de la dentisterie. Il semble toujours trouver un corbeau quand il en a besoin (et c&#39;est le même!). Enfin et surtout, il semble toujours avoir un lance-roquettes à sa disposition au cas où il aurait besoin de faire exploser le frère aîné de Richie Cunningham, Chuck, qui est maintenant enfermé et a désespérément besoin d&#39;une cure de jouvence. Quoi qu&#39;il en soit, tout cela aura du sens une fois que vous aurez vu ce classique ... tout ce que je peux dire c&#39;est en profiter! &quot;Je te devais ce mec&quot; \n",
      " Dieser Klassiker hat so viele großartige Einzeiler und ungewollt witzige Szenen, dass ich nicht einmal weiß, wo ich anfangen soll. Wenn Sie Ratschläge zum Dating wünschen, finden Sie diese hier. Ignorieren Sie einfach die Person, die Sie wollen, und sprechen Sie dann klassische Zeilen wie &quot;Huhn ist gut ... ich mag Huhn&quot; aus, und bevor Sie es wissen, haben Sie eine Nacht in einem Keller (es ist ein schöner Keller) mit einer Frau Wer ist 35 Jahre jünger als Sie. Bronson macht alles in diesem Film. Er kauft ein Auto ohne guten Grund, nur damit er zwei Gangmitglieder ermorden kann ... mit &quot;CASH&quot; bezahlen ... chunnng ... Er kauft ein Eis, einfach weil &quot;das ist Amerika, nicht wahr&quot; t it &quot;, und am Ende verschwendet jemand namens&quot; der Giggler, den er lacht, wenn er rennt &quot;, nur weil er seine Kamera gestohlen hat. Übrigens ist dieser &quot;Giggler&quot; so schnell, dass Bronsons normale Pistole ihn nicht einmal einholen kann. Er muss eine spezielle bestellen, um dieses schwer fassbare Kriechen zu bekommen. Er wird aufgeräumt, nur damit er mit ein paar alten Leuten, die bei 90-Grad-Wetter gerne schwere Kleidung tragen, eine WIRKLICH stinkende Mahlzeit (Kohlrouladen) in einer Rattenfalle essen kann. Er steigt in die Zahnmedizin ein. Er scheint immer eine Brechstange zu finden, wenn er eine braucht (und es ist dieselbe!). Und zu guter Letzt scheint er immer einen Raketenwerfer zur Verfügung zu haben, nur für den Fall, dass er Richie Cunninghams älteren Bruder Chuck wegblasen muss, der jetzt aufgereiht ist und dringend eine Überarbeitung braucht. Wie auch immer, das alles wird Sinn machen, wenn Sie diesen Klassiker gesehen haben ... alles was ich sagen kann ist genießen! &quot;Ich schuldete dir diesen einen DUDE&quot;\n"
     ]
    }
   ],
   "source": [
    "# conda install google-cloud-translate\n",
    "from google.cloud import translate_v2 as translate\n",
    "translate_client = translate.Client()\n",
    "\n",
    "#result = translate_client.translate(\n",
    "#    text_en, target_language='de')\n",
    "\n",
    "#print(u'Text: {}'.format(result['input']))\n",
    "#print(u'Translation: {}'.format(result['translatedText']))\n",
    "#print(u'Detected source language: {}'.format(\n",
    "#    result['detectedSourceLanguage']))\n",
    "\n",
    "text_fr = translate_client.translate(text_en, target_language='fr')['translatedText']\n",
    "text_de = translate_client.translate(text_en, target_language='de')['translatedText']\n",
    "\n",
    "print(text_fr, '\\n', text_de)"
   ]
  },
  {
   "cell_type": "code",
   "execution_count": 175,
   "metadata": {
    "Collapsed": "false"
   },
   "outputs": [],
   "source": [
    "def made_prediction(text, max_length):\n",
    "    print('example of input:\\n\\n{}\\n \\nlength:{}\\n'.format(text[0], len(text)))\n",
    "    #print(‘text:{} length:{}\\n’.format(text, len(text)))\n",
    "    # get probablility for each classes\n",
    "    tokens=tokenizer.batch_encode_plus(text, return_tensors=\"tf\", pad_to_max_length=True, max_length=max_length)\n",
    "    digits=model.predict(tokens)\n",
    "    if model.name=='custom_tf_bert_classification':\n",
    "        print('custom model: {}'.format(model.name))\n",
    "        y_single_pred = tf.nn.softmax(digits)\n",
    "    elif model.name=='tf_bert_classification':\n",
    "        print('standard model: {}'.format(model.name))\n",
    "        temp=tf.nn.softmax(digits)\n",
    "        y_single_pred = tf.squeeze(temp)\n",
    "    return y_single_pred.numpy()"
   ]
  },
  {
   "cell_type": "code",
   "execution_count": 157,
   "metadata": {
    "Collapsed": "false"
   },
   "outputs": [
    {
     "data": {
      "text/plain": [
       "<tf.Tensor: shape=(15, 2), dtype=float32, numpy=\n",
       "array([[0.5642907 , 0.43570933],\n",
       "       [0.5827053 , 0.4172947 ],\n",
       "       [0.45373687, 0.54626316],\n",
       "       [0.48502573, 0.51497424],\n",
       "       [0.48259225, 0.5174077 ],\n",
       "       [0.45373687, 0.54626316],\n",
       "       [0.48502573, 0.51497424],\n",
       "       [0.48259225, 0.5174077 ],\n",
       "       [0.49669424, 0.5033058 ],\n",
       "       [0.48259225, 0.5174077 ],\n",
       "       [0.5642907 , 0.43570933],\n",
       "       [0.4460985 , 0.55390143],\n",
       "       [0.48502576, 0.51497424],\n",
       "       [0.5642907 , 0.4357093 ],\n",
       "       [0.48759958, 0.5124004 ]], dtype=float32)>"
      ]
     },
     "execution_count": 157,
     "metadata": {},
     "output_type": "execute_result"
    }
   ],
   "source": [
    "tokens=tokenizer.batch_encode_plus(\"This is a test.\", return_tensors=\"tf\",  pad_to_max_length=True, max_length=SEQUENCE_LENGTH)\n",
    "digits = tf.nn.softmax(model.predict(tokens))\n",
    "digits\n"
   ]
  },
  {
   "cell_type": "code",
   "execution_count": 176,
   "metadata": {
    "Collapsed": "false"
   },
   "outputs": [
    {
     "ename": "TypeError",
     "evalue": "made_prediction() missing 1 required positional argument: 'max_length'",
     "output_type": "error",
     "traceback": [
      "\u001b[0;31m---------------------------------------------------------------------------\u001b[0m",
      "\u001b[0;31mTypeError\u001b[0m                                 Traceback (most recent call last)",
      "\u001b[0;32m<ipython-input-176-a349d2a78b6a>\u001b[0m in \u001b[0;36m<module>\u001b[0;34m\u001b[0m\n\u001b[0;32m----> 1\u001b[0;31m \u001b[0my_single_pred_en\u001b[0m\u001b[0;34m=\u001b[0m\u001b[0mmade_prediction\u001b[0m\u001b[0;34m(\u001b[0m\u001b[0mtext_en\u001b[0m\u001b[0;34m)\u001b[0m\u001b[0;34m\u001b[0m\u001b[0;34m\u001b[0m\u001b[0m\n\u001b[0m\u001b[1;32m      2\u001b[0m \u001b[0my_single_pred_de\u001b[0m\u001b[0;34m=\u001b[0m\u001b[0mmade_prediction\u001b[0m\u001b[0;34m(\u001b[0m\u001b[0mtext_de\u001b[0m\u001b[0;34m)\u001b[0m\u001b[0;34m\u001b[0m\u001b[0;34m\u001b[0m\u001b[0m\n\u001b[1;32m      3\u001b[0m \u001b[0my_single_pred_fr\u001b[0m\u001b[0;34m=\u001b[0m\u001b[0mmade_prediction\u001b[0m\u001b[0;34m(\u001b[0m\u001b[0mtext_fr\u001b[0m\u001b[0;34m)\u001b[0m\u001b[0;34m\u001b[0m\u001b[0;34m\u001b[0m\u001b[0m\n",
      "\u001b[0;31mTypeError\u001b[0m: made_prediction() missing 1 required positional argument: 'max_length'"
     ]
    }
   ],
   "source": [
    "y_single_pred_en=made_prediction(text_en)\n",
    "y_single_pred_de=made_prediction(text_de)\n",
    "y_single_pred_fr=made_prediction(text_fr)"
   ]
  },
  {
   "cell_type": "code",
   "execution_count": 151,
   "metadata": {
    "Collapsed": "false"
   },
   "outputs": [
    {
     "data": {
      "text/plain": [
       "array([[0.5642907 , 0.43570933],\n",
       "       [0.5827053 , 0.4172947 ],\n",
       "       [0.45373687, 0.54626316],\n",
       "       ...,\n",
       "       [0.58410066, 0.4158993 ],\n",
       "       [0.4460985 , 0.55390143],\n",
       "       [0.43300384, 0.5669962 ]], dtype=float32)"
      ]
     },
     "execution_count": 151,
     "metadata": {},
     "output_type": "execute_result"
    }
   ],
   "source": [
    "y_single_pred_en"
   ]
  },
  {
   "cell_type": "code",
   "execution_count": 152,
   "metadata": {
    "Collapsed": "false"
   },
   "outputs": [
    {
     "data": {
      "text/plain": [
       "array([[0.58410066, 0.4158993 ],\n",
       "       [0.45373687, 0.54626316],\n",
       "       [0.4460985 , 0.55390143],\n",
       "       ...,\n",
       "       [0.5686786 , 0.43132132],\n",
       "       [0.5642907 , 0.43570933],\n",
       "       [0.513251  , 0.48674905]], dtype=float32)"
      ]
     },
     "execution_count": 152,
     "metadata": {},
     "output_type": "execute_result"
    }
   ],
   "source": [
    "y_single_pred_de"
   ]
  },
  {
   "cell_type": "code",
   "execution_count": 153,
   "metadata": {
    "Collapsed": "false"
   },
   "outputs": [
    {
     "data": {
      "text/plain": [
       "array([[0.5537481 , 0.44625193],\n",
       "       [0.4460985 , 0.55390143],\n",
       "       [0.48259225, 0.5174077 ],\n",
       "       ...,\n",
       "       [0.5686786 , 0.43132132],\n",
       "       [0.5642907 , 0.43570933],\n",
       "       [0.513251  , 0.48674905]], dtype=float32)"
      ]
     },
     "execution_count": 153,
     "metadata": {},
     "output_type": "execute_result"
    }
   ],
   "source": [
    "y_single_pred_fr"
   ]
  },
  {
   "cell_type": "code",
   "execution_count": 154,
   "metadata": {
    "Collapsed": "false"
   },
   "outputs": [
    {
     "ename": "TypeError",
     "evalue": "only integer scalar arrays can be converted to a scalar index",
     "output_type": "error",
     "traceback": [
      "\u001b[0;31m---------------------------------------------------------------------------\u001b[0m",
      "\u001b[0;31mTypeError\u001b[0m                                 Traceback (most recent call last)",
      "\u001b[0;32m<ipython-input-154-bb42a11be964>\u001b[0m in \u001b[0;36m<module>\u001b[0;34m\u001b[0m\n\u001b[0;32m----> 1\u001b[0;31m \u001b[0minfo\u001b[0m\u001b[0;34m.\u001b[0m\u001b[0mfeatures\u001b[0m\u001b[0;34m[\u001b[0m\u001b[0;34m\"label\"\u001b[0m\u001b[0;34m]\u001b[0m\u001b[0;34m.\u001b[0m\u001b[0mnames\u001b[0m\u001b[0;34m[\u001b[0m\u001b[0mtf\u001b[0m\u001b[0;34m.\u001b[0m\u001b[0mmath\u001b[0m\u001b[0;34m.\u001b[0m\u001b[0margmax\u001b[0m\u001b[0;34m(\u001b[0m\u001b[0my_single_pred_en\u001b[0m\u001b[0;34m)\u001b[0m\u001b[0;34m.\u001b[0m\u001b[0mnumpy\u001b[0m\u001b[0;34m(\u001b[0m\u001b[0;34m)\u001b[0m\u001b[0;34m]\u001b[0m\u001b[0;34m\u001b[0m\u001b[0;34m\u001b[0m\u001b[0m\n\u001b[0m",
      "\u001b[0;31mTypeError\u001b[0m: only integer scalar arrays can be converted to a scalar index"
     ]
    }
   ],
   "source": [
    "info.features[\"label\"].names[tf.math.argmax(y_single_pred_en).numpy()]"
   ]
  },
  {
   "cell_type": "code",
   "execution_count": null,
   "metadata": {
    "Collapsed": "false"
   },
   "outputs": [],
   "source": [
    "info.features[\"label\"].names[tf.math.argmax(y_single_pred_de).numpy()]"
   ]
  },
  {
   "cell_type": "code",
   "execution_count": null,
   "metadata": {
    "Collapsed": "false"
   },
   "outputs": [],
   "source": [
    "info.features[\"label\"].names[tf.math.argmax(y_single_pred_fr).numpy()]"
   ]
  },
  {
   "cell_type": "markdown",
   "metadata": {
    "Collapsed": "false"
   },
   "source": [
    "### Model interpretation"
   ]
  },
  {
   "cell_type": "code",
   "execution_count": 158,
   "metadata": {
    "Collapsed": "false"
   },
   "outputs": [],
   "source": [
    "from lime.lime_text import LimeTextExplainer\n",
    "explainer = LimeTextExplainer(class_names=info.features[\"label\"].names)"
   ]
  },
  {
   "cell_type": "code",
   "execution_count": 159,
   "metadata": {
    "Collapsed": "false"
   },
   "outputs": [
    {
     "name": "stdout",
     "output_type": "stream",
     "text": [
      "example of input:\n",
      "\n",
      "T\n",
      " \n",
      "length:5000\n",
      "\n",
      "standard model: tf_bert_classification\n"
     ]
    }
   ],
   "source": [
    "exp_en = explainer.explain_instance(text_en[0], made_prediction, num_features=6)"
   ]
  },
  {
   "cell_type": "code",
   "execution_count": 161,
   "metadata": {
    "Collapsed": "false"
   },
   "outputs": [
    {
     "name": "stdout",
     "output_type": "stream",
     "text": [
      "example of input:\n",
      "\n",
      "D\n",
      " \n",
      "length:5000\n",
      "\n",
      "standard model: tf_bert_classification\n"
     ]
    }
   ],
   "source": [
    "# will do 5'000 permutations/selections of the original sentence and made prediction\n",
    "exp_de = explainer.explain_instance(text_de[0], made_prediction, num_features=6)"
   ]
  },
  {
   "cell_type": "code",
   "execution_count": null,
   "metadata": {
    "Collapsed": "false"
   },
   "outputs": [
    {
     "name": "stdout",
     "output_type": "stream",
     "text": [
      "example of input:\n",
      "\n",
      "C\n",
      " \n",
      "length:5000\n",
      "\n"
     ]
    }
   ],
   "source": [
    "exp_fr = explainer.explain_instance(text_fr[0], made_prediction, num_features=6)"
   ]
  },
  {
   "cell_type": "code",
   "execution_count": null,
   "metadata": {
    "Collapsed": "false"
   },
   "outputs": [],
   "source": [
    "exp_en.as_list()"
   ]
  },
  {
   "cell_type": "code",
   "execution_count": null,
   "metadata": {
    "Collapsed": "false"
   },
   "outputs": [],
   "source": [
    "exp_de.as_list()"
   ]
  },
  {
   "cell_type": "code",
   "execution_count": null,
   "metadata": {
    "Collapsed": "false"
   },
   "outputs": [],
   "source": [
    "exp_fr.as_list()"
   ]
  },
  {
   "cell_type": "code",
   "execution_count": null,
   "metadata": {
    "Collapsed": "false"
   },
   "outputs": [],
   "source": [
    "plt.style.use('dark_background')\n",
    "fig = exp_de.as_pyplot_figure()"
   ]
  },
  {
   "cell_type": "code",
   "execution_count": null,
   "metadata": {
    "Collapsed": "false"
   },
   "outputs": [],
   "source": [
    "exp_de.show_in_notebook(text=True)"
   ]
  },
  {
   "cell_type": "code",
   "execution_count": null,
   "metadata": {
    "Collapsed": "false"
   },
   "outputs": [],
   "source": [
    "exp_de.save_to_file('ex_de.html')"
   ]
  },
  {
   "cell_type": "code",
   "execution_count": null,
   "metadata": {
    "Collapsed": "false"
   },
   "outputs": [],
   "source": [
    "from IPython.display import IFrame    \n",
    "IFrame(src=\"ex_de.html\", width=900, height=350)"
   ]
  },
  {
   "cell_type": "code",
   "execution_count": null,
   "metadata": {
    "Collapsed": "false"
   },
   "outputs": [],
   "source": [
    "from IPython.core.display import display, HTML\n",
    "display(HTML('<iframe src=ex_de.html width=900 style=\"background: #FFFFFF;\" height=350></iframe>'))"
   ]
  },
  {
   "cell_type": "code",
   "execution_count": null,
   "metadata": {
    "Collapsed": "false"
   },
   "outputs": [],
   "source": []
  },
  {
   "cell_type": "code",
   "execution_count": null,
   "metadata": {
    "Collapsed": "false"
   },
   "outputs": [],
   "source": [
    "plt.style.use('dark_background')\n",
    "fig = exp_en.as_pyplot_figure()"
   ]
  },
  {
   "cell_type": "code",
   "execution_count": null,
   "metadata": {
    "Collapsed": "false"
   },
   "outputs": [],
   "source": [
    "exp_en.show_in_notebook(text=True)"
   ]
  },
  {
   "cell_type": "code",
   "execution_count": null,
   "metadata": {
    "Collapsed": "false"
   },
   "outputs": [],
   "source": [
    "exp_en.save_to_file('ex_en.html')"
   ]
  },
  {
   "cell_type": "code",
   "execution_count": null,
   "metadata": {
    "Collapsed": "false"
   },
   "outputs": [],
   "source": [
    "from IPython.display import IFrame    \n",
    "IFrame(src=\"ex_en.html\", width=900, height=350)"
   ]
  },
  {
   "cell_type": "code",
   "execution_count": null,
   "metadata": {
    "Collapsed": "false"
   },
   "outputs": [],
   "source": [
    "from IPython.core.display import display, HTML\n",
    "display(HTML('<iframe src=ex_en.html width=900 style=\"background: #FFFFFF;\" height=350></iframe>'))"
   ]
  },
  {
   "cell_type": "code",
   "execution_count": null,
   "metadata": {
    "Collapsed": "false"
   },
   "outputs": [],
   "source": []
  },
  {
   "cell_type": "code",
   "execution_count": null,
   "metadata": {
    "Collapsed": "false"
   },
   "outputs": [],
   "source": [
    "plt.style.use('dark_background')\n",
    "fig = exp_fr.as_pyplot_figure()"
   ]
  },
  {
   "cell_type": "code",
   "execution_count": null,
   "metadata": {
    "Collapsed": "false"
   },
   "outputs": [],
   "source": [
    "exp_fr.show_in_notebook(text=True)"
   ]
  },
  {
   "cell_type": "code",
   "execution_count": null,
   "metadata": {
    "Collapsed": "false"
   },
   "outputs": [],
   "source": [
    "exp_fr.save_to_file('ex_fr.html')"
   ]
  },
  {
   "cell_type": "code",
   "execution_count": null,
   "metadata": {
    "Collapsed": "false"
   },
   "outputs": [],
   "source": [
    "from IPython.display import IFrame    \n",
    "IFrame(src=\"ex_fr.html\", width=900, height=350)"
   ]
  },
  {
   "cell_type": "code",
   "execution_count": null,
   "metadata": {
    "Collapsed": "false"
   },
   "outputs": [],
   "source": [
    "from IPython.core.display import display, HTML\n",
    "display(HTML('<iframe src=ex_fr.html width=900 style=\"background: #FFFFFF;\" height=350></iframe>'))"
   ]
  },
  {
   "cell_type": "markdown",
   "metadata": {
    "Collapsed": "false"
   },
   "source": [
    "### Online Predictions"
   ]
  },
  {
   "cell_type": "code",
   "execution_count": null,
   "metadata": {
    "Collapsed": "false"
   },
   "outputs": [],
   "source": [
    "#client = Client()\n",
    "#client.get_bucket('multilingual_text_classification')"
   ]
  },
  {
   "cell_type": "code",
   "execution_count": null,
   "metadata": {
    "Collapsed": "false"
   },
   "outputs": [],
   "source": []
  }
 ],
 "metadata": {
  "kernelspec": {
   "display_name": "Python [conda env:env_multilingual_class]",
   "language": "python",
   "name": "conda-env-env_multilingual_class-py"
  },
  "language_info": {
   "codemirror_mode": {
    "name": "ipython",
    "version": 3
   },
   "file_extension": ".py",
   "mimetype": "text/x-python",
   "name": "python",
   "nbconvert_exporter": "python",
   "pygments_lexer": "ipython3",
   "version": "3.7.6"
  }
 },
 "nbformat": 4,
 "nbformat_minor": 4
}
