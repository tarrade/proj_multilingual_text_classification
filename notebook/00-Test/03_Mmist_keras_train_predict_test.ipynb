{
 "cells": [
  {
   "cell_type": "markdown",
   "metadata": {
    "Collapsed": "false"
   },
   "source": [
    "# Basics methods for training and prediction using Keras"
   ]
  },
  {
   "cell_type": "code",
   "execution_count": 1,
   "metadata": {
    "Collapsed": "false",
    "jupyter": {
     "source_hidden": true
    }
   },
   "outputs": [
    {
     "data": {
      "text/markdown": [
       "Environment variables that need to be defined:   \n",
       "`export DIR_PROJ=your_path_git_repository`  \n",
       "`export PYTHONPATH=$DIR_PROJ/src`  \n",
       "`export PATH_TENSORBOARD=your_path_tensorboard`  \n",
       "`export PATH_DATASETS=your_path_datasets`  \n",
       "`export PROJECT_ID=your_gcp_project_id`  \n",
       "`export BUCKET_NAME=your_gcp_gs_bucket_name`  \n",
       "`export REGION=your_region`  \n",
       "`export MODEL_DIR_ESTIMATOR_PATH=your_path_to_save_model` \n",
       "\n",
       "- Use local Jupyter Lab \n",
       "    - you need to have the `jupyter-notebook` Anaconda python environment created [link](local_jupyter_lab_installation.md) \n",
       "    - you need to have the `jupyter-notebook` Anaconda python environment activated [link](local_jupyter_lab_installation.md) \n",
       "    - then define the environment variables above (copy and paste) \n",
       "    - you need to have the `env_multilingual_class` Anaconda python environment created [link](local_jupyter_lab_installation.md)  \n",
       "    - start Jupyter Lab:  `jupyter lab` \n",
       "    - open a Jupyter Lab notebook from `notebook/` \n",
       "     - clone this repositiory: `git clone https://github.com/tarrade/proj_multilingual_text_classification.git`\n",
       "    - choose the proper Anaconda python environment:  `Python [conda env:env_multilingual_class]` [link](conda_env.md) \n",
       "    - clone this repositiory: `git clone https://github.com/tarrade/proj_multilingual_text_classification.git`\n",
       "\n",
       "\n",
       "- Use GCP Jupyter Lab \n",
       "    - Go on GCP\n",
       "    - open a Cloud Shell\n",
       "    - `ssh-keygen -t rsa -b 4096 -C firstName_lastName`\n",
       "    - `cp .ssh/id_rsa.pub .`\n",
       "    - use Cloud Editor to edit this file `id_rsa.pub` and copy the full content\n",
       "    - Go on Compute Engine -> Metadata\n",
       "    - Click SSH Keys\n",
       "    - Click Edit\n",
       "    - Click + Add item, copy the content of `id_rsa.pub`\n",
       "    - You should see firstName_lastName of the left\n",
       "    - Click Save\n",
       "    - you need to start a AI Platform instance \n",
       "    - open a Jupyter Lab terminal and got to `/home/gcp_user_name/`\n",
       "    - clone this repositiory: `git clone https://github.com/tarrade/proj_multilingual_text_classification.git`\n",
       "    - then `cd proj_multilingual_text_classification/`\n",
       "    - create the Anacond Python environment `conda env create -f env/environment.yml`\n",
       "    - create a file `config.sh` in `/home` with the following information: \n",
       "    ```\n",
       "    #!/bin/bash\n",
       "    \n",
       "    echo \"applying some configuration ...\"\n",
       "    git config --global user.email user_email\n",
       "    git config --global user.name user_name\n",
       "    git config --global credential.helper store\n",
       "        \n",
       "    # Add here the enviroment variables from above below\n",
       "    # [EDIT ME]\n",
       "    export DIR_PROJ=your_path_git_repository\n",
       "    export PYTHONPATH=$DIR_PROJ/src\n",
       "  \n",
       "    cd /home/gcp_user_name/\n",
       "    \n",
       "    conda activate env_multilingual_class\n",
       "\n",
       "    export PS1='\\[\\e[91m\\]\\u@:\\[\\e[32m\\]\\w\\[\\e[0m\\]$'\n",
       "    ```\n",
       "    - Got to AI Platform Notebook, select your instance and click \"Reset\".\n",
       "    - Wait and reshreh you Web browser with the Notebook\n"
      ],
      "text/plain": [
       "<IPython.core.display.Markdown object>"
      ]
     },
     "metadata": {},
     "output_type": "display_data"
    }
   ],
   "source": [
    "from IPython.display import display, Markdown\n",
    "with open('../../doc/env_variables_setup.md', 'r') as fh:\n",
    "    content = fh.read()\n",
    "display(Markdown(content))"
   ]
  },
  {
   "cell_type": "markdown",
   "metadata": {
    "Collapsed": "false"
   },
   "source": [
    "## Import packages"
   ]
  },
  {
   "cell_type": "code",
   "execution_count": 2,
   "metadata": {
    "Collapsed": "false"
   },
   "outputs": [],
   "source": [
    "import tensorflow as tf\n",
    "import tensorflow_datasets as tfds\n",
    "from absl import logging\n",
    "import matplotlib.pyplot as plt\n",
    "import os\n",
    "import datetime\n",
    "import numpy\n",
    "from sklearn.metrics import confusion_matrix\n",
    "import itertools\n",
    "import matplotlib.pyplot as plt"
   ]
  },
  {
   "cell_type": "code",
   "execution_count": 3,
   "metadata": {
    "Collapsed": "false"
   },
   "outputs": [],
   "source": [
    "%load_ext tensorboard"
   ]
  },
  {
   "cell_type": "markdown",
   "metadata": {
    "Collapsed": "false"
   },
   "source": [
    "## Define paths"
   ]
  },
  {
   "cell_type": "code",
   "execution_count": 4,
   "metadata": {
    "Collapsed": "false"
   },
   "outputs": [],
   "source": [
    "try:\n",
    "    data_dir=os.environ['PATH_DATASETS']\n",
    "except:\n",
    "    print('missing PATH_DATASETS')"
   ]
  },
  {
   "cell_type": "code",
   "execution_count": 5,
   "metadata": {
    "Collapsed": "false"
   },
   "outputs": [
    {
     "name": "stdout",
     "output_type": "stream",
     "text": [
      "/Users/tarrade/tensorflow_datasets\n"
     ]
    }
   ],
   "source": [
    "print(data_dir)"
   ]
  },
  {
   "cell_type": "markdown",
   "metadata": {
    "Collapsed": "false"
   },
   "source": [
    "## Import local packages"
   ]
  },
  {
   "cell_type": "code",
   "execution_count": 6,
   "metadata": {
    "Collapsed": "false"
   },
   "outputs": [],
   "source": [
    "import utils.model_metrics  as model_metrics"
   ]
  },
  {
   "cell_type": "code",
   "execution_count": 7,
   "metadata": {
    "Collapsed": "false"
   },
   "outputs": [],
   "source": [
    "import importlib\n",
    "importlib.reload(model_metrics);"
   ]
  },
  {
   "cell_type": "markdown",
   "metadata": {
    "Collapsed": "false"
   },
   "source": [
    "## Getting and preprocessing data"
   ]
  },
  {
   "cell_type": "code",
   "execution_count": 8,
   "metadata": {
    "Collapsed": "false"
   },
   "outputs": [],
   "source": [
    "# Setup logging verbosity\n",
    "logging.set_verbosity(logging.INFO)\n",
    "\n",
    "# Define the model's hyperparameters\n",
    "STEPS_PER_EPOCH = 6\n",
    "#BUFFER_SIZE = 10 # Use a much larger value for real code. \n",
    "#BATCH_SIZE = 64\n",
    "BUFFER_SIZE = 10000\n",
    "BATCH_SIZE = 500\n",
    "NUM_EPOCHS = 25"
   ]
  },
  {
   "cell_type": "code",
   "execution_count": 9,
   "metadata": {
    "Collapsed": "false"
   },
   "outputs": [],
   "source": [
    "def input_fn():\n",
    "    import tensorflow as tf\n",
    "    datasets, ds_info = tfds.load(name='mnist', with_info=True, as_supervised=True, data_dir=data_dir)\n",
    "    mnist_train, mnist_test = datasets['train'], datasets['test']\n",
    "\n",
    "\n",
    "\n",
    "    def scale(image, label):\n",
    "        image = tf.cast(image, tf.float32)\n",
    "#        image = tf.dtypes.cast(image, tf.float32)\n",
    "        image /= 255\n",
    "    \n",
    "        return image, label\n",
    "\n",
    "    #train_data = mnist_train.map(scale).shuffle(BUFFER_SIZE).batch(BATCH_SIZE)\n",
    "    #test_data = mnist_test.map(scale).shuffle(BUFFER_SIZE).batch(BATCH_SIZE)\n",
    "    train_data = mnist_train.repeat().map(scale).shuffle(BUFFER_SIZE).batch(BATCH_SIZE)\n",
    "    test_data = mnist_test.repeat().map(scale).shuffle(BUFFER_SIZE).batch(BATCH_SIZE)\n",
    "    return train_data, test_data"
   ]
  },
  {
   "cell_type": "code",
   "execution_count": 10,
   "metadata": {
    "Collapsed": "false"
   },
   "outputs": [
    {
     "name": "stderr",
     "output_type": "stream",
     "text": [
      "INFO:absl:Overwrite dataset info from restored data version.\n",
      "INFO:absl:Field info.location from disk and from code do not match. Keeping the one from code.\n",
      "INFO:absl:Reusing dataset mnist (/Users/tarrade/tensorflow_datasets/mnist/3.0.0)\n",
      "INFO:absl:Constructing tf.data.Dataset for split None, from /Users/tarrade/tensorflow_datasets/mnist/3.0.0\n"
     ]
    }
   ],
   "source": [
    "train_data, test_data = input_fn()"
   ]
  },
  {
   "cell_type": "code",
   "execution_count": 11,
   "metadata": {
    "Collapsed": "false"
   },
   "outputs": [],
   "source": [
    "# experimenting with keras inputs by combining training and test data\n",
    "data = train_data.concatenate(test_data)\n",
    "# abandoning this idea because:\n",
    "#The argument validation_split (generating a holdout set from the training data) is not supported when \n",
    "#training from Dataset objects, since this features requires the ability to index the samples of the datasets, \n",
    "#which is not possible in general with the Dataset API."
   ]
  },
  {
   "cell_type": "code",
   "execution_count": 12,
   "metadata": {
    "Collapsed": "false"
   },
   "outputs": [],
   "source": [
    "#tf.data.experimental.cardinality(train_data)\n"
   ]
  },
  {
   "cell_type": "code",
   "execution_count": 13,
   "metadata": {
    "Collapsed": "false"
   },
   "outputs": [],
   "source": [
    "#for l in test_data:\n",
    "#    print(l[0].numpy()[0].shape)\n",
    "#    break"
   ]
  },
  {
   "cell_type": "markdown",
   "metadata": {
    "Collapsed": "false"
   },
   "source": [
    "## Build the model"
   ]
  },
  {
   "cell_type": "code",
   "execution_count": 14,
   "metadata": {
    "Collapsed": "false"
   },
   "outputs": [],
   "source": [
    "def make_model():\n",
    "    import tensorflow as tf\n",
    "    return tf.keras.Sequential([\n",
    "        tf.keras.layers.Conv2D(32, 3, activation='relu',\n",
    "                               kernel_regularizer=tf.keras.regularizers.l2(0.02),\n",
    "                               input_shape=(28, 28, 1)),\n",
    "        \n",
    "        # play around from here on...\n",
    "        tf.keras.layers.MaxPooling2D(),\n",
    "        tf.keras.layers.Flatten(),\n",
    "        tf.keras.layers.Dropout(0.1),\n",
    "        tf.keras.layers.Dense(64, activation='relu'),\n",
    "        tf.keras.layers.BatchNormalization(),\n",
    "        \n",
    "        # ... until here\n",
    "        tf.keras.layers.Dense(10, activation='softmax')\n",
    "    ])"
   ]
  },
  {
   "cell_type": "code",
   "execution_count": 15,
   "metadata": {
    "Collapsed": "false"
   },
   "outputs": [],
   "source": [
    "def make_model2():\n",
    "    import tensorflow as tf\n",
    "    return tf.keras.Sequential([\n",
    "        tf.keras.layers.Conv2D(32, 3, activation='relu',\n",
    "                               kernel_regularizer=tf.keras.regularizers.l2(0.02),\n",
    "                               input_shape=(28, 28, 1)),\n",
    "        tf.keras.layers.MaxPooling2D(),\n",
    "        tf.keras.layers.Flatten(),\n",
    "        tf.keras.layers.Dropout(0.1),\n",
    "        tf.keras.layers.Dense(128, activation='relu'),        \n",
    "        tf.keras.layers.BatchNormalization(),\n",
    "\n",
    "        # ... until here\n",
    "        tf.keras.layers.Dense(10, activation='softmax')\n",
    "    ])"
   ]
  },
  {
   "cell_type": "code",
   "execution_count": 16,
   "metadata": {
    "Collapsed": "false"
   },
   "outputs": [],
   "source": [
    "model = make_model2()"
   ]
  },
  {
   "cell_type": "code",
   "execution_count": 17,
   "metadata": {
    "Collapsed": "false"
   },
   "outputs": [],
   "source": [
    "model.compile(optimizer='adam',\n",
    "              loss='sparse_categorical_crossentropy',\n",
    "              #loss='categorical_crossentropy',\n",
    "              metrics=['accuracy'])"
   ]
  },
  {
   "cell_type": "code",
   "execution_count": 18,
   "metadata": {
    "Collapsed": "false"
   },
   "outputs": [
    {
     "name": "stdout",
     "output_type": "stream",
     "text": [
      "Model: \"sequential\"\n",
      "_________________________________________________________________\n",
      "Layer (type)                 Output Shape              Param #   \n",
      "=================================================================\n",
      "conv2d (Conv2D)              (None, 26, 26, 32)        320       \n",
      "_________________________________________________________________\n",
      "max_pooling2d (MaxPooling2D) (None, 13, 13, 32)        0         \n",
      "_________________________________________________________________\n",
      "flatten (Flatten)            (None, 5408)              0         \n",
      "_________________________________________________________________\n",
      "dropout (Dropout)            (None, 5408)              0         \n",
      "_________________________________________________________________\n",
      "dense (Dense)                (None, 128)               692352    \n",
      "_________________________________________________________________\n",
      "batch_normalization (BatchNo (None, 128)               512       \n",
      "_________________________________________________________________\n",
      "dense_1 (Dense)              (None, 10)                1290      \n",
      "=================================================================\n",
      "Total params: 694,474\n",
      "Trainable params: 694,218\n",
      "Non-trainable params: 256\n",
      "_________________________________________________________________\n"
     ]
    }
   ],
   "source": [
    "model.summary()"
   ]
  },
  {
   "cell_type": "markdown",
   "metadata": {
    "Collapsed": "false"
   },
   "source": [
    "## Training the model"
   ]
  },
  {
   "cell_type": "code",
   "execution_count": 19,
   "metadata": {
    "Collapsed": "false"
   },
   "outputs": [],
   "source": [
    "# implement tensorboard\n",
    "import tensorflow as tf\n",
    "log_dir = \"logs/fit/\" + datetime.datetime.now().strftime(\"%Y%m%d-%H%M%S\")\n",
    "tensorboard_callback = tf.keras.callbacks.TensorBoard(log_dir=log_dir, histogram_freq=1)"
   ]
  },
  {
   "cell_type": "code",
   "execution_count": 20,
   "metadata": {
    "Collapsed": "false"
   },
   "outputs": [
    {
     "name": "stdout",
     "output_type": "stream",
     "text": [
      "train\n",
      "Train for 6 steps, validate for 20.0 steps\n",
      "Epoch 1/25\n",
      "6/6 [==============================] - 5s 793ms/step - loss: 1.0869 - accuracy: 0.6707 - val_loss: 1.7526 - val_accuracy: 0.4472\n",
      "Epoch 2/25\n",
      "6/6 [==============================] - 4s 596ms/step - loss: 0.3933 - accuracy: 0.8970 - val_loss: 1.5233 - val_accuracy: 0.5689\n",
      "Epoch 3/25\n",
      "6/6 [==============================] - 3s 551ms/step - loss: 0.3157 - accuracy: 0.9180 - val_loss: 1.4476 - val_accuracy: 0.5368\n",
      "Epoch 4/25\n",
      "6/6 [==============================] - 3s 568ms/step - loss: 0.2527 - accuracy: 0.9363 - val_loss: 1.3880 - val_accuracy: 0.5432\n",
      "Epoch 5/25\n",
      "6/6 [==============================] - 3s 549ms/step - loss: 0.2515 - accuracy: 0.9350 - val_loss: 1.3287 - val_accuracy: 0.5965\n",
      "Epoch 6/25\n",
      "6/6 [==============================] - 3s 522ms/step - loss: 0.2265 - accuracy: 0.9423 - val_loss: 1.3166 - val_accuracy: 0.6173\n",
      "Epoch 7/25\n",
      "6/6 [==============================] - 3s 537ms/step - loss: 0.1981 - accuracy: 0.9577 - val_loss: 1.3146 - val_accuracy: 0.6192\n",
      "Epoch 8/25\n",
      "6/6 [==============================] - 3s 537ms/step - loss: 0.2003 - accuracy: 0.9510 - val_loss: 1.2884 - val_accuracy: 0.6496\n",
      "Epoch 9/25\n",
      "6/6 [==============================] - 4s 640ms/step - loss: 0.1689 - accuracy: 0.9633 - val_loss: 1.3086 - val_accuracy: 0.6301\n",
      "Epoch 10/25\n",
      "6/6 [==============================] - 4s 595ms/step - loss: 0.1573 - accuracy: 0.9650 - val_loss: 1.2775 - val_accuracy: 0.6564\n",
      "Epoch 11/25\n",
      "6/6 [==============================] - 4s 616ms/step - loss: 0.1748 - accuracy: 0.9580 - val_loss: 1.2652 - val_accuracy: 0.7067\n",
      "Epoch 12/25\n",
      "6/6 [==============================] - 4s 627ms/step - loss: 0.1299 - accuracy: 0.9750 - val_loss: 1.2378 - val_accuracy: 0.7844\n",
      "Epoch 13/25\n",
      "6/6 [==============================] - 4s 682ms/step - loss: 0.1423 - accuracy: 0.9653 - val_loss: 1.1911 - val_accuracy: 0.8696\n",
      "Epoch 14/25\n",
      "6/6 [==============================] - 4s 602ms/step - loss: 0.1349 - accuracy: 0.9720 - val_loss: 1.1731 - val_accuracy: 0.9054\n",
      "Epoch 15/25\n",
      "6/6 [==============================] - 4s 588ms/step - loss: 0.1229 - accuracy: 0.9743 - val_loss: 1.1608 - val_accuracy: 0.9039\n",
      "Epoch 16/25\n",
      "6/6 [==============================] - 4s 616ms/step - loss: 0.1100 - accuracy: 0.9740 - val_loss: 1.1382 - val_accuracy: 0.9271\n",
      "Epoch 17/25\n",
      "6/6 [==============================] - 4s 665ms/step - loss: 0.1244 - accuracy: 0.9743 - val_loss: 1.1069 - val_accuracy: 0.9569\n",
      "Epoch 18/25\n",
      "6/6 [==============================] - 4s 593ms/step - loss: 0.1018 - accuracy: 0.9793 - val_loss: 1.1101 - val_accuracy: 0.9655\n",
      "Epoch 19/25\n",
      "6/6 [==============================] - 4s 605ms/step - loss: 0.1110 - accuracy: 0.9780 - val_loss: 1.1071 - val_accuracy: 0.9684\n",
      "Epoch 20/25\n",
      "6/6 [==============================] - 4s 603ms/step - loss: 0.0998 - accuracy: 0.9807 - val_loss: 1.1027 - val_accuracy: 0.9680\n",
      "Epoch 21/25\n",
      "6/6 [==============================] - 4s 603ms/step - loss: 0.0914 - accuracy: 0.9847 - val_loss: 1.0594 - val_accuracy: 0.9760\n",
      "Epoch 22/25\n",
      "6/6 [==============================] - 4s 607ms/step - loss: 0.1005 - accuracy: 0.9787 - val_loss: 1.0531 - val_accuracy: 0.9801\n",
      "Epoch 23/25\n",
      "6/6 [==============================] - 4s 635ms/step - loss: 0.0916 - accuracy: 0.9810 - val_loss: 1.0542 - val_accuracy: 0.9797\n",
      "Epoch 24/25\n",
      "6/6 [==============================] - 4s 607ms/step - loss: 0.0806 - accuracy: 0.9833 - val_loss: 1.0225 - val_accuracy: 0.9803\n",
      "Epoch 25/25\n",
      "6/6 [==============================] - 5s 778ms/step - loss: 0.0839 - accuracy: 0.9833 - val_loss: 0.9819 - val_accuracy: 0.9814\n"
     ]
    }
   ],
   "source": [
    "print(\"train\")\n",
    "history=model.fit(train_data,\n",
    "                  steps_per_epoch=STEPS_PER_EPOCH,\n",
    "                  epochs=NUM_EPOCHS,\n",
    "                  verbose = 1,\n",
    "                  validation_data=test_data,\n",
    "                  validation_steps= 10000 / BATCH_SIZE,\n",
    "                  callbacks=[tensorboard_callback])\n",
    "                #validation_steps=TOTAL_VALIDATION_SAMPLES / BATCH_SIZE)"
   ]
  },
  {
   "cell_type": "code",
   "execution_count": 21,
   "metadata": {
    "Collapsed": "false"
   },
   "outputs": [
    {
     "data": {
      "text/plain": [
       "Reusing TensorBoard on port 6007 (pid 47278), started 2:46:19 ago. (Use '!kill 47278' to kill it.)"
      ]
     },
     "metadata": {},
     "output_type": "display_data"
    },
    {
     "data": {
      "text/html": [
       "\n",
       "      <iframe id=\"tensorboard-frame-7a350b887e6f7111\" width=\"100%\" height=\"800\" frameborder=\"0\">\n",
       "      </iframe>\n",
       "      <script>\n",
       "        (function() {\n",
       "          const frame = document.getElementById(\"tensorboard-frame-7a350b887e6f7111\");\n",
       "          const url = new URL(\"/\", window.location);\n",
       "          url.port = 6007;\n",
       "          frame.src = url;\n",
       "        })();\n",
       "      </script>\n",
       "  "
      ],
      "text/plain": [
       "<IPython.core.display.HTML object>"
      ]
     },
     "metadata": {},
     "output_type": "display_data"
    }
   ],
   "source": [
    "%tensorboard --logdir logs/fit --host localhost"
   ]
  },
  {
   "cell_type": "code",
   "execution_count": 22,
   "metadata": {
    "Collapsed": "false"
   },
   "outputs": [
    {
     "data": {
      "text/plain": [
       "{'loss': [1.0869447787602742,\n",
       "  0.3933209280172984,\n",
       "  0.31567684312661487,\n",
       "  0.252679963906606,\n",
       "  0.251513530810674,\n",
       "  0.2265132466952006,\n",
       "  0.19806425273418427,\n",
       "  0.2002685343225797,\n",
       "  0.16892780860265097,\n",
       "  0.157348761955897,\n",
       "  0.17479184518257776,\n",
       "  0.1299003300567468,\n",
       "  0.1423017606139183,\n",
       "  0.13486225282152495,\n",
       "  0.12288286412755649,\n",
       "  0.11003258575995763,\n",
       "  0.1244185467561086,\n",
       "  0.10182771583398183,\n",
       "  0.11100953320662181,\n",
       "  0.0998160329957803,\n",
       "  0.09138958156108856,\n",
       "  0.10045411810278893,\n",
       "  0.0916172166665395,\n",
       "  0.08057598024606705,\n",
       "  0.08385458340247472],\n",
       " 'accuracy': [0.6706667,\n",
       "  0.897,\n",
       "  0.918,\n",
       "  0.93633336,\n",
       "  0.935,\n",
       "  0.94233334,\n",
       "  0.9576667,\n",
       "  0.951,\n",
       "  0.9633333,\n",
       "  0.965,\n",
       "  0.958,\n",
       "  0.975,\n",
       "  0.96533334,\n",
       "  0.972,\n",
       "  0.97433335,\n",
       "  0.974,\n",
       "  0.97433335,\n",
       "  0.97933334,\n",
       "  0.978,\n",
       "  0.98066664,\n",
       "  0.98466665,\n",
       "  0.97866666,\n",
       "  0.981,\n",
       "  0.98333335,\n",
       "  0.98333335],\n",
       " 'val_loss': [1.7525658667087556,\n",
       "  1.523283213376999,\n",
       "  1.4475503802299499,\n",
       "  1.388045197725296,\n",
       "  1.3286950290203094,\n",
       "  1.3166434824466706,\n",
       "  1.3146499574184418,\n",
       "  1.288371640443802,\n",
       "  1.3086481809616088,\n",
       "  1.277503925561905,\n",
       "  1.265216016769409,\n",
       "  1.2378188490867614,\n",
       "  1.1911429047584534,\n",
       "  1.1731440603733063,\n",
       "  1.1607686698436737,\n",
       "  1.1382257878780364,\n",
       "  1.1069422841072083,\n",
       "  1.1101008355617523,\n",
       "  1.107111543416977,\n",
       "  1.1027411758899688,\n",
       "  1.0594054281711578,\n",
       "  1.0531253516674042,\n",
       "  1.0541640758514403,\n",
       "  1.0224791169166565,\n",
       "  0.9818996787071228],\n",
       " 'val_accuracy': [0.4472,\n",
       "  0.5689,\n",
       "  0.5368,\n",
       "  0.5432,\n",
       "  0.5965,\n",
       "  0.6173,\n",
       "  0.6192,\n",
       "  0.6496,\n",
       "  0.6301,\n",
       "  0.6564,\n",
       "  0.7067,\n",
       "  0.7844,\n",
       "  0.8696,\n",
       "  0.9054,\n",
       "  0.9039,\n",
       "  0.9271,\n",
       "  0.9569,\n",
       "  0.9655,\n",
       "  0.9684,\n",
       "  0.968,\n",
       "  0.976,\n",
       "  0.9801,\n",
       "  0.9797,\n",
       "  0.9803,\n",
       "  0.9814]}"
      ]
     },
     "execution_count": 22,
     "metadata": {},
     "output_type": "execute_result"
    }
   ],
   "source": [
    "history.history"
   ]
  },
  {
   "cell_type": "markdown",
   "metadata": {
    "Collapsed": "false"
   },
   "source": [
    "## Visualization"
   ]
  },
  {
   "cell_type": "code",
   "execution_count": 23,
   "metadata": {
    "Collapsed": "false"
   },
   "outputs": [
    {
     "data": {
      "image/png": "[encoded data removed]",
      "text/plain": [
       "<Figure size 432x288 with 1 Axes>"
      ]
     },
     "metadata": {
      "needs_background": "light"
     },
     "output_type": "display_data"
    },
    {
     "data": {
      "image/png": "[encoded data removed]",
      "text/plain": [
       "<Figure size 432x288 with 1 Axes>"
      ]
     },
     "metadata": {
      "needs_background": "light"
     },
     "output_type": "display_data"
    }
   ],
   "source": [
    "# Plot training & validation accuracy values\n",
    "plt.plot(history.history['accuracy'])\n",
    "plt.plot(history.history['val_accuracy'])\n",
    "plt.title('Model accuracy')\n",
    "plt.ylabel('Accuracy')\n",
    "plt.xlabel('Epoch')\n",
    "plt.legend(['Train', 'Test'], loc='upper left')\n",
    "plt.show()\n",
    "\n",
    "# Plot training & validation loss values\n",
    "plt.plot(history.history['loss'])\n",
    "plt.plot(history.history['val_loss'])\n",
    "plt.title('Model loss')\n",
    "plt.ylabel('Loss')\n",
    "plt.xlabel('Epoch')\n",
    "plt.legend(['Train', 'Test'], loc='upper left')\n",
    "plt.show()"
   ]
  },
  {
   "cell_type": "markdown",
   "metadata": {
    "Collapsed": "false"
   },
   "source": [
    "## Evaluating the model"
   ]
  },
  {
   "cell_type": "code",
   "execution_count": 24,
   "metadata": {
    "Collapsed": "false"
   },
   "outputs": [
    {
     "name": "stdout",
     "output_type": "stream",
     "text": [
      "evaluate on training dataset\n",
      "6/6 [==============================] - 2s 295ms/step - loss: 0.9821 - accuracy: 0.9833\n"
     ]
    },
    {
     "data": {
      "text/plain": [
       "[0.9820990264415741, 0.98333335]"
      ]
     },
     "execution_count": 24,
     "metadata": {},
     "output_type": "execute_result"
    }
   ],
   "source": [
    "print(\"evaluate on training dataset\")\n",
    "model.evaluate(train_data,\n",
    "              steps=6)"
   ]
  },
  {
   "cell_type": "code",
   "execution_count": 25,
   "metadata": {
    "Collapsed": "false"
   },
   "outputs": [
    {
     "name": "stdout",
     "output_type": "stream",
     "text": [
      "evaluate on testing dataset\n",
      "1/1 [==============================] - 1s 1s/step - loss: 0.9659 - accuracy: 0.9780\n"
     ]
    },
    {
     "data": {
      "text/plain": [
       "[0.9658542275428772, 0.978]"
      ]
     },
     "execution_count": 25,
     "metadata": {},
     "output_type": "execute_result"
    }
   ],
   "source": [
    "print(\"evaluate on testing dataset\")\n",
    "model.evaluate(test_data,\n",
    "               steps=1)"
   ]
  },
  {
   "cell_type": "markdown",
   "metadata": {
    "Collapsed": "false"
   },
   "source": [
    "## Doing prediction with our model"
   ]
  },
  {
   "cell_type": "code",
   "execution_count": null,
   "metadata": {
    "Collapsed": "false"
   },
   "outputs": [
    {
     "name": "stdout",
     "output_type": "stream",
     "text": [
      "predict on one batch of data\n"
     ]
    }
   ],
   "source": [
    "print(\"predict on one batch of data\")\n",
    "predict_on_batch = model.predict_on_batch(train_data)\n",
    "print(model.predict_on_batch(train_data))"
   ]
  },
  {
   "cell_type": "code",
   "execution_count": null,
   "metadata": {
    "Collapsed": "false"
   },
   "outputs": [],
   "source": [
    "print(\"test on one batch of data\")\n",
    "print(model.test_on_batch(train_data))"
   ]
  },
  {
   "cell_type": "markdown",
   "metadata": {
    "Collapsed": "false"
   },
   "source": [
    "## Confusion Matrix"
   ]
  },
  {
   "cell_type": "code",
   "execution_count": null,
   "metadata": {
    "Collapsed": "false"
   },
   "outputs": [],
   "source": [
    "# confusion matrix\n",
    "import tensorflow as tf\n",
    "rounded_predictions = tf.math.argmax(predict_on_batch,1)\n",
    "#test_labels = tf.math.argmax(train_data,1)\n",
    "print(type(train_data))\n",
    "print(type(predict_on_batch))\n",
    "#cm = confusion_matrix(test_labels, rounded_predictions)\n",
    "\n",
    "# I stopped here because debugging this issue might take too much time (for me). "
   ]
  },
  {
   "cell_type": "markdown",
   "metadata": {
    "Collapsed": "false"
   },
   "source": [
    "## Notes\n",
    "- Increasing the number of epochs to 10 increased the model accuracy which was to be expected but did not hugely increase test accuracy. ==> setup of the network in general not ideal, look for other things to adapt\n",
    "- increasing the number of epochs to 50 or even 100 greatly improved the model (1)\n",
    "- Adding 1 or 2 dense layers after the conv layers did not improve the prediction confidence much for few epochs. Model2 with 3 dense layers in classification for 50 or 100 epochs performed worse than model 1. LEss dense layers is more in terms of accuracy for both training and test\n",
    "- increasing the number of nodes in the dense layer"
   ]
  }
 ],
 "metadata": {
  "kernelspec": {
   "display_name": "Python [conda env:env_multilingual_class]",
   "language": "python",
   "name": "conda-env-env_multilingual_class-py"
  },
  "language_info": {
   "codemirror_mode": {
    "name": "ipython",
    "version": 3
   },
   "file_extension": ".py",
   "mimetype": "text/x-python",
   "name": "python",
   "nbconvert_exporter": "python",
   "pygments_lexer": "ipython3",
   "version": "3.7.6"
  }
 },
 "nbformat": 4,
 "nbformat_minor": 4
}
