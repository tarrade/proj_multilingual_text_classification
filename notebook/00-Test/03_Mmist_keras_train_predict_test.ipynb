{
 "cells": [
  {
   "cell_type": "markdown",
   "metadata": {},
   "source": [
    "# Basics methods for training and prediction using Keras"
   ]
  },
  {
   "cell_type": "code",
   "execution_count": 1,
   "metadata": {
    "jupyter": {
     "source_hidden": true
    }
   },
   "outputs": [
    {
     "data": {
      "text/markdown": [
       "Environment variables that need to be defined:   \n",
       "`export DIR_PROJ=your_path_git_repository`  \n",
       "`export PYTHONPATH=$DIR_PROJ/src`  \n",
       "`export PATH_TENSORBOARD=your_path_tensorboard`  \n",
       "`export PATH_DATASETS=your_path_datasets`  \n",
       "`export PROJECT_ID=your_gcp_project_id`  \n",
       "`export BUCKET_NAME=your_gcp_gs_bucket_name`  \n",
       "`export REGION=your_region`  \n",
       "`export MODEL_DIR_ESTIMATOR_PATH=your_path_to_save_model` \n",
       "\n",
       "- Use local Jupyter Lab \n",
       "    - you need to have the `jupyter-notebook` Anaconda python environment created [link](local_jupyter_lab_installation.md) \n",
       "    - you need to have the `jupyter-notebook` Anaconda python environment activated [link](local_jupyter_lab_installation.md) \n",
       "    - then define the environment variables above (copy and paste) \n",
       "    - you need to have the `env_multilingual_class` Anaconda python environment created [link](local_jupyter_lab_installation.md)  \n",
       "    - start Jupyter Lab:  `jupyter lab` \n",
       "    - open a Jupyter Lab notebook from `notebook/` \n",
       "     - clone this repositiory: `git clone https://github.com/tarrade/proj_multilingual_text_classification.git`\n",
       "    - choose the proper Anaconda python environment:  `Python [conda env:env_multilingual_class]` [link](conda_env.md) \n",
       "    - clone this repositiory: `git clone https://github.com/tarrade/proj_multilingual_text_classification.git`\n",
       "\n",
       "\n",
       "- Use GCP Jupyter Lab \n",
       "    - Go on GCP\n",
       "    - open a Cloud Shell\n",
       "    - `ssh-keygen -t rsa -b 4096 -C firstName_lastName`\n",
       "    - `cp .ssh/id_rsa.pub .`\n",
       "    - use Cloud Editor to edit this file `id_rsa.pub` and copy the full content\n",
       "    - Go on Compute Engine -> Metadata\n",
       "    - Click SSH Keys\n",
       "    - Click Edit\n",
       "    - Click + Add item, copy the content of `id_rsa.pub`\n",
       "    - You should see firstName_lastName of the left\n",
       "    - Click Save\n",
       "    - you need to start a AI Platform instance \n",
       "    - open a Jupyter Lab terminal and got to `/home/gcp_user_name/`\n",
       "    - clone this repositiory: `git clone https://github.com/tarrade/proj_multilingual_text_classification.git`\n",
       "    - then `cd proj_multilingual_text_classification/`\n",
       "    - create the Anacond Python environment `conda env create -f env/environment.yml`\n",
       "    - create a file `config.sh` in `/home` with the following information: \n",
       "    ```\n",
       "    #!/bin/bash\n",
       "    \n",
       "    echo \"applying some configuration ...\"\n",
       "    git config --global user.email user_email\n",
       "    git config --global user.name user_name\n",
       "    git config --global credential.helper store\n",
       "        \n",
       "    # Add here the enviroment variables from above below\n",
       "    export DIR_PROJ= ...\n",
       "    ...\n",
       "  \n",
       "    cd /home/gcp_user_name/\n",
       "    \n",
       "    conda activate env_multilingual_class\n",
       "\n",
       "    export PS1=\"[\\e[91m\\]\\u@:\\[\\e[32m\\]\\w/]$\"\n",
       "    ```\n",
       "    - Got to AI Platform Notebook, select your instance and click \"Reset\".\n",
       "    - Wait and reshreh you Web browser with the Notebook\n"
      ],
      "text/plain": [
       "<IPython.core.display.Markdown object>"
      ]
     },
     "metadata": {},
     "output_type": "display_data"
    }
   ],
   "source": [
    "from IPython.display import display, Markdown\n",
    "with open('../../doc/env_variables_setup.md', 'r') as fh:\n",
    "    content = fh.read()\n",
    "display(Markdown(content))"
   ]
  },
  {
   "cell_type": "markdown",
   "metadata": {},
   "source": [
    "## Import packages"
   ]
  },
  {
   "cell_type": "code",
   "execution_count": 2,
   "metadata": {},
   "outputs": [],
   "source": [
    "import tensorflow as tf\n",
    "import tensorflow_datasets as tfds\n",
    "from absl import logging\n",
    "import matplotlib.pyplot as plt\n",
    "import os"
   ]
  },
  {
   "cell_type": "markdown",
   "metadata": {},
   "source": [
    "## Define paths"
   ]
  },
  {
   "cell_type": "code",
   "execution_count": 3,
   "metadata": {},
   "outputs": [],
   "source": [
    "try:\n",
    "    data_dir=os.environ['PATH_DATASETS']\n",
    "except:\n",
    "    print('missing PATH_DATASETS')"
   ]
  },
  {
   "cell_type": "markdown",
   "metadata": {},
   "source": [
    "# Import local packages"
   ]
  },
  {
   "cell_type": "code",
   "execution_count": 4,
   "metadata": {},
   "outputs": [],
   "source": [
    "import utils.model_metrics  as model_metrics"
   ]
  },
  {
   "cell_type": "code",
   "execution_count": 5,
   "metadata": {},
   "outputs": [],
   "source": [
    "import importlib\n",
    "importlib.reload(model_metrics);"
   ]
  },
  {
   "cell_type": "markdown",
   "metadata": {},
   "source": [
    "## Getting and preprocessing data"
   ]
  },
  {
   "cell_type": "code",
   "execution_count": 6,
   "metadata": {},
   "outputs": [],
   "source": [
    "# Setup logging verbosity\n",
    "logging.set_verbosity(logging.INFO)\n",
    "\n",
    "# Define the model's hyperparameters\n",
    "STEPS_PER_EPOCH = 5\n",
    "BUFFER_SIZE = 10 # Use a much larger value for real code. \n",
    "BATCH_SIZE = 64\n",
    "NUM_EPOCHS = 5"
   ]
  },
  {
   "cell_type": "code",
   "execution_count": 7,
   "metadata": {},
   "outputs": [],
   "source": [
    "def input_fn():\n",
    "    datasets, ds_info = tfds.load(name='mnist', with_info=True, as_supervised=True, data_dir=data_dir)\n",
    "    mnist_train, mnist_test = datasets['train'], datasets['test']\n",
    "\n",
    "    BUFFER_SIZE = 10000\n",
    "    BATCH_SIZE = 64\n",
    "\n",
    "    def scale(image, label):\n",
    "        image = tf.cast(image, tf.float32)\n",
    "        image /= 255\n",
    "    \n",
    "        return image, label[..., tf.newaxis]\n",
    "\n",
    "    train_data = mnist_train.repeat().map(scale).shuffle(BUFFER_SIZE).batch(BATCH_SIZE)\n",
    "    test_data = mnist_test.repeat().map(scale).shuffle(BUFFER_SIZE).batch(BATCH_SIZE)\n",
    "    return train_data, test_data"
   ]
  },
  {
   "cell_type": "code",
   "execution_count": 8,
   "metadata": {},
   "outputs": [
    {
     "name": "stderr",
     "output_type": "stream",
     "text": [
      "INFO:absl:Overwrite dataset info from restored data version.\n",
      "INFO:absl:Field info.location from disk and from code do not match. Keeping the one from code.\n",
      "INFO:absl:Reusing dataset mnist (/Users/tarrade/tensorflow_datasets/mnist/3.0.0)\n",
      "INFO:absl:Constructing tf.data.Dataset for split None, from /Users/tarrade/tensorflow_datasets/mnist/3.0.0\n"
     ]
    }
   ],
   "source": [
    "train_data, test_data=input_fn()"
   ]
  },
  {
   "cell_type": "markdown",
   "metadata": {},
   "source": [
    "## Build the model"
   ]
  },
  {
   "cell_type": "code",
   "execution_count": 9,
   "metadata": {},
   "outputs": [],
   "source": [
    "def make_model():\n",
    "    return tf.keras.Sequential([\n",
    "        tf.keras.layers.Conv2D(32, 3, activation='relu',\n",
    "                               kernel_regularizer=tf.keras.regularizers.l2(0.02),\n",
    "                               input_shape=(28, 28, 1)),\n",
    "        tf.keras.layers.MaxPooling2D(),\n",
    "        tf.keras.layers.Flatten(),\n",
    "        tf.keras.layers.Dropout(0.1),\n",
    "        tf.keras.layers.Dense(64, activation='relu'),\n",
    "        tf.keras.layers.BatchNormalization(),\n",
    "        tf.keras.layers.Dense(10, activation='softmax')\n",
    "    ])"
   ]
  },
  {
   "cell_type": "code",
   "execution_count": 10,
   "metadata": {},
   "outputs": [],
   "source": [
    "model = make_model()"
   ]
  },
  {
   "cell_type": "code",
   "execution_count": 11,
   "metadata": {},
   "outputs": [],
   "source": [
    "model.compile(optimizer='adam',\n",
    "              loss='sparse_categorical_crossentropy',\n",
    "              metrics=['accuracy'])"
   ]
  },
  {
   "cell_type": "code",
   "execution_count": 12,
   "metadata": {},
   "outputs": [
    {
     "name": "stdout",
     "output_type": "stream",
     "text": [
      "Model: \"sequential\"\n",
      "_________________________________________________________________\n",
      "Layer (type)                 Output Shape              Param #   \n",
      "=================================================================\n",
      "conv2d (Conv2D)              (None, 26, 26, 32)        320       \n",
      "_________________________________________________________________\n",
      "max_pooling2d (MaxPooling2D) (None, 13, 13, 32)        0         \n",
      "_________________________________________________________________\n",
      "flatten (Flatten)            (None, 5408)              0         \n",
      "_________________________________________________________________\n",
      "dropout (Dropout)            (None, 5408)              0         \n",
      "_________________________________________________________________\n",
      "dense (Dense)                (None, 64)                346176    \n",
      "_________________________________________________________________\n",
      "batch_normalization (BatchNo (None, 64)                256       \n",
      "_________________________________________________________________\n",
      "dense_1 (Dense)              (None, 10)                650       \n",
      "=================================================================\n",
      "Total params: 347,402\n",
      "Trainable params: 347,274\n",
      "Non-trainable params: 128\n",
      "_________________________________________________________________\n"
     ]
    }
   ],
   "source": [
    "model.summary()"
   ]
  },
  {
   "cell_type": "markdown",
   "metadata": {},
   "source": [
    "## Training the model"
   ]
  },
  {
   "cell_type": "code",
   "execution_count": 13,
   "metadata": {},
   "outputs": [
    {
     "name": "stdout",
     "output_type": "stream",
     "text": [
      "train\n",
      "Train for 5 steps\n",
      "Epoch 1/5\n",
      "5/5 [==============================] - 2s 374ms/step - loss: 1.6205 - accuracy: 0.4594\n",
      "Epoch 2/5\n",
      "5/5 [==============================] - 0s 28ms/step - loss: 1.0158 - accuracy: 0.6812\n",
      "Epoch 3/5\n",
      "5/5 [==============================] - 0s 26ms/step - loss: 0.5971 - accuracy: 0.8250\n",
      "Epoch 4/5\n",
      "5/5 [==============================] - 0s 22ms/step - loss: 0.4816 - accuracy: 0.8813\n",
      "Epoch 5/5\n",
      "5/5 [==============================] - 0s 19ms/step - loss: 0.4934 - accuracy: 0.8625\n"
     ]
    }
   ],
   "source": [
    "print(\"train\")\n",
    "history=model.fit(train_data,\n",
    "                  steps_per_epoch=STEPS_PER_EPOCH,\n",
    "                  epochs=NUM_EPOCHS,\n",
    "                  verbose = 1)"
   ]
  },
  {
   "cell_type": "code",
   "execution_count": 14,
   "metadata": {},
   "outputs": [
    {
     "data": {
      "text/plain": [
       "{'loss': [1.6205000758171082,\n",
       "  1.0158034563064575,\n",
       "  0.5971311807632447,\n",
       "  0.4816153049468994,\n",
       "  0.4934419274330139],\n",
       " 'accuracy': [0.459375, 0.68125, 0.825, 0.88125, 0.8625]}"
      ]
     },
     "execution_count": 14,
     "metadata": {},
     "output_type": "execute_result"
    }
   ],
   "source": [
    "history.history"
   ]
  },
  {
   "cell_type": "markdown",
   "metadata": {},
   "source": [
    "## Visualization"
   ]
  },
  {
   "cell_type": "code",
   "execution_count": 15,
   "metadata": {},
   "outputs": [
    {
     "data": {
      "image/png": "[encoded data removed]",
      "text/plain": [
       "<Figure size 432x288 with 1 Axes>"
      ]
     },
     "metadata": {
      "needs_background": "light"
     },
     "output_type": "display_data"
    },
    {
     "data": {
      "image/png": "[encoded data removed]",
      "text/plain": [
       "<Figure size 432x288 with 1 Axes>"
      ]
     },
     "metadata": {
      "needs_background": "light"
     },
     "output_type": "display_data"
    }
   ],
   "source": [
    "# Plot training & validation accuracy values\n",
    "plt.plot(history.history['accuracy'])\n",
    "#plt.plot(history.history['val_acc'])\n",
    "plt.title('Model accuracy')\n",
    "plt.ylabel('Accuracy')\n",
    "plt.xlabel('Epoch')\n",
    "plt.legend(['Train', 'Test'], loc='upper left')\n",
    "plt.show()\n",
    "\n",
    "# Plot training & validation loss values\n",
    "plt.plot(history.history['loss'])\n",
    "#plt.plot(history.history['val_loss'])\n",
    "plt.title('Model loss')\n",
    "plt.ylabel('Loss')\n",
    "plt.xlabel('Epoch')\n",
    "plt.legend(['Train', 'Test'], loc='upper left')\n",
    "plt.show()"
   ]
  },
  {
   "cell_type": "markdown",
   "metadata": {},
   "source": [
    "## Evaluating the model"
   ]
  },
  {
   "cell_type": "code",
   "execution_count": 16,
   "metadata": {},
   "outputs": [
    {
     "name": "stdout",
     "output_type": "stream",
     "text": [
      "evaluate on training dataset\n",
      "1/1 [==============================] - 1s 1s/step - loss: 1.6816 - accuracy: 0.5625\n"
     ]
    },
    {
     "data": {
      "text/plain": [
       "[1.681606650352478, 0.5625]"
      ]
     },
     "execution_count": 16,
     "metadata": {},
     "output_type": "execute_result"
    }
   ],
   "source": [
    "print(\"evaluate on training dataset\")\n",
    "model.evaluate(train_data,\n",
    "              steps=1)"
   ]
  },
  {
   "cell_type": "code",
   "execution_count": 17,
   "metadata": {},
   "outputs": [
    {
     "name": "stdout",
     "output_type": "stream",
     "text": [
      "evaluate on training dataset\n",
      "1/1 [==============================] - 1s 970ms/step - loss: 1.7119 - accuracy: 0.4844\n"
     ]
    },
    {
     "data": {
      "text/plain": [
       "[1.7119024991989136, 0.484375]"
      ]
     },
     "execution_count": 17,
     "metadata": {},
     "output_type": "execute_result"
    }
   ],
   "source": [
    "print(\"evaluate on training dataset\")\n",
    "model.evaluate(test_data,\n",
    "               steps=1)"
   ]
  },
  {
   "cell_type": "markdown",
   "metadata": {},
   "source": [
    "## Doing prediction withn our model"
   ]
  },
  {
   "cell_type": "code",
   "execution_count": 18,
   "metadata": {},
   "outputs": [
    {
     "name": "stdout",
     "output_type": "stream",
     "text": [
      "predict on one batch of data\n",
      "tf.Tensor(\n",
      "[[0.09492768 0.14044066 0.12408723 0.09606541 0.07863768 0.06083756\n",
      "  0.05884371 0.08323755 0.1781775  0.08474501]\n",
      " [0.09062251 0.06742581 0.09926396 0.10334702 0.06941377 0.08947042\n",
      "  0.0606926  0.05298369 0.29129177 0.07548846]\n",
      " [0.08665083 0.05667479 0.12242063 0.12520784 0.05228753 0.0751212\n",
      "  0.03782178 0.05361693 0.30006042 0.09013803]\n",
      " [0.07980526 0.07282295 0.0808432  0.07446174 0.07869393 0.07364646\n",
      "  0.04035223 0.08054789 0.30908585 0.10974053]\n",
      " [0.09630857 0.1645421  0.08908143 0.10214431 0.07137413 0.08635199\n",
      "  0.07004599 0.0689699  0.17404543 0.0771362 ]\n",
      " [0.08213782 0.06473257 0.06293505 0.07252088 0.09672736 0.08775516\n",
      "  0.04413221 0.09673356 0.17121197 0.22111347]\n",
      " [0.08919524 0.14598851 0.09239491 0.09951443 0.07250362 0.09314346\n",
      "  0.06720672 0.0671194  0.19569054 0.07724318]\n",
      " [0.1022878  0.15083398 0.1149684  0.10106634 0.06668212 0.06404972\n",
      "  0.05000217 0.07826017 0.2046058  0.06724347]\n",
      " [0.09903011 0.06241948 0.05448466 0.0693498  0.06748182 0.10788861\n",
      "  0.03748865 0.11541087 0.17263378 0.21381219]\n",
      " [0.09184703 0.09199194 0.07848909 0.16123344 0.06988598 0.10928498\n",
      "  0.05568735 0.06371959 0.18055227 0.09730832]\n",
      " [0.09869699 0.05819929 0.09485541 0.07498405 0.05339151 0.05392249\n",
      "  0.03533089 0.23003925 0.1775804  0.12299969]\n",
      " [0.1145509  0.05990287 0.16621329 0.12200443 0.03968608 0.05696814\n",
      "  0.03980125 0.04759537 0.2829426  0.07033518]\n",
      " [0.09460635 0.07774739 0.08212194 0.08143288 0.06174394 0.10162402\n",
      "  0.0502012  0.05270224 0.3321467  0.06567336]\n",
      " [0.10832243 0.05936877 0.10809939 0.16973078 0.06201512 0.11295483\n",
      "  0.05750757 0.04292512 0.21055527 0.06852069]\n",
      " [0.08310341 0.05803587 0.06920588 0.12777907 0.07067467 0.18168084\n",
      "  0.04633259 0.03586556 0.22495705 0.10236507]\n",
      " [0.10420512 0.06895182 0.12322483 0.08948942 0.09218661 0.09391027\n",
      "  0.15775546 0.0579025  0.1337273  0.0786467 ]\n",
      " [0.10017016 0.06233705 0.08899175 0.14505884 0.07498144 0.14234853\n",
      "  0.07538062 0.04755267 0.17903991 0.08413899]\n",
      " [0.14518823 0.0587127  0.31675905 0.09409608 0.07394106 0.06587268\n",
      "  0.05275101 0.03494384 0.10150002 0.05623535]\n",
      " [0.11080386 0.06655631 0.0733416  0.05673507 0.19591646 0.06006762\n",
      "  0.07450628 0.09322516 0.15064974 0.11819795]\n",
      " [0.1276013  0.06323374 0.10963286 0.3753045  0.02407087 0.11605401\n",
      "  0.03478896 0.01854661 0.09074335 0.04002374]\n",
      " [0.13154164 0.10216838 0.1495931  0.13523085 0.05894352 0.06769621\n",
      "  0.07823163 0.08441283 0.11430187 0.07787994]\n",
      " [0.0704635  0.06445126 0.13781507 0.0858987  0.17618819 0.08316252\n",
      "  0.06132639 0.06012644 0.12154369 0.1390243 ]\n",
      " [0.09015907 0.06911352 0.07805252 0.07193212 0.0546718  0.08965757\n",
      "  0.04070733 0.11845363 0.22980241 0.15745   ]\n",
      " [0.19779342 0.05899097 0.11979172 0.10729337 0.06814964 0.06962875\n",
      "  0.06778374 0.04188713 0.18774983 0.08093142]\n",
      " [0.09849037 0.07267788 0.08694773 0.08617223 0.05174207 0.08772604\n",
      "  0.04538947 0.06161305 0.32826826 0.08097281]\n",
      " [0.0728863  0.05952138 0.07589947 0.0912515  0.09675748 0.08473387\n",
      "  0.04200738 0.09538671 0.22811505 0.15344091]\n",
      " [0.1966592  0.05309387 0.11879132 0.07925333 0.07662984 0.06942896\n",
      "  0.14894854 0.07925957 0.09501471 0.08292063]\n",
      " [0.09173503 0.05781194 0.06987671 0.0738781  0.06642991 0.07347047\n",
      "  0.03830731 0.10172854 0.18541156 0.24135043]\n",
      " [0.2738469  0.0506916  0.10217162 0.07056865 0.05774572 0.08250419\n",
      "  0.04908716 0.05160087 0.2032933  0.05848998]\n",
      " [0.11953141 0.05656245 0.0725744  0.07740667 0.06302635 0.06534608\n",
      "  0.0412615  0.08996373 0.2197862  0.19454122]\n",
      " [0.37543902 0.05696451 0.06371206 0.06920682 0.02770547 0.11070428\n",
      "  0.06307075 0.0525558  0.13233763 0.04830367]\n",
      " [0.08712716 0.07466229 0.19012623 0.06823858 0.1084339  0.07505508\n",
      "  0.09260191 0.08777396 0.13750331 0.07847754]\n",
      " [0.10739906 0.06179227 0.12374087 0.0905089  0.05876022 0.06554934\n",
      "  0.04076592 0.04265444 0.32423103 0.08459786]\n",
      " [0.08424152 0.0741483  0.05591977 0.07674842 0.05471477 0.09051419\n",
      "  0.03904957 0.1832737  0.20948897 0.13190076]\n",
      " [0.13472201 0.07333801 0.10081857 0.12614582 0.03616789 0.20555624\n",
      "  0.05099443 0.03747131 0.18453111 0.05025457]\n",
      " [0.0887459  0.05825983 0.0749364  0.0852381  0.0425253  0.13151637\n",
      "  0.03687346 0.04690491 0.36429328 0.07070652]\n",
      " [0.07507571 0.05878615 0.10168061 0.09248812 0.11642423 0.08142377\n",
      "  0.05561608 0.09011586 0.1684444  0.15994506]\n",
      " [0.08967272 0.07097406 0.0820656  0.09847566 0.18158434 0.09880192\n",
      "  0.07742856 0.05404647 0.1333175  0.11363317]\n",
      " [0.11025234 0.07556438 0.09730221 0.23153839 0.05300198 0.10708935\n",
      "  0.04747164 0.04318637 0.15799175 0.07660162]\n",
      " [0.09062066 0.14295816 0.07458755 0.1039457  0.06155801 0.08468872\n",
      "  0.05392347 0.07904629 0.22458766 0.08408375]\n",
      " [0.09805891 0.15477203 0.0905929  0.10753365 0.06520597 0.08659797\n",
      "  0.07070215 0.06708092 0.1780124  0.08144318]\n",
      " [0.08073884 0.11600689 0.09927717 0.10823406 0.08836778 0.1136026\n",
      "  0.07120053 0.06616381 0.17323688 0.08317146]\n",
      " [0.10798898 0.0573281  0.08603053 0.13783465 0.05907168 0.11417399\n",
      "  0.04208086 0.02965728 0.26555046 0.10028351]\n",
      " [0.09520657 0.05912976 0.09363211 0.11203404 0.06690091 0.07009676\n",
      "  0.04227792 0.1925336  0.1523326  0.11585575]\n",
      " [0.11147548 0.16676687 0.11240658 0.09296478 0.06924685 0.05643288\n",
      "  0.06626574 0.08519855 0.16400741 0.07523488]\n",
      " [0.11387113 0.05271938 0.08248463 0.05775239 0.09387686 0.05800571\n",
      "  0.03997828 0.08491043 0.20015687 0.21624428]\n",
      " [0.08388545 0.07927717 0.18478464 0.08248946 0.12351921 0.09152928\n",
      "  0.06655588 0.07156314 0.10771312 0.10868266]\n",
      " [0.09665739 0.15305047 0.09427663 0.11007299 0.06819291 0.0674917\n",
      "  0.0571826  0.07434367 0.18800701 0.09072468]\n",
      " [0.29671553 0.05540297 0.10042989 0.08975808 0.06055997 0.08564132\n",
      "  0.11954227 0.04624327 0.08460625 0.06110043]\n",
      " [0.11077759 0.06514055 0.15381731 0.15279742 0.03621953 0.06993689\n",
      "  0.03026869 0.05016613 0.2683279  0.06254793]\n",
      " [0.11090587 0.05314302 0.09914633 0.11411227 0.06772134 0.06577404\n",
      "  0.04091239 0.22323762 0.12607713 0.09896998]\n",
      " [0.10956751 0.13641945 0.09611972 0.11019917 0.05810744 0.08779135\n",
      "  0.06482987 0.05480661 0.21497825 0.06718059]\n",
      " [0.34260836 0.05484876 0.0655168  0.09340657 0.04242222 0.10377725\n",
      "  0.05362261 0.05939225 0.13040626 0.05399896]\n",
      " [0.08063084 0.04467013 0.4451689  0.09754086 0.04518987 0.06997208\n",
      "  0.0590527  0.02047862 0.09006558 0.04723039]\n",
      " [0.1421555  0.06152405 0.06396122 0.07762419 0.04071081 0.11738432\n",
      "  0.04015236 0.0527468  0.31973308 0.08400759]\n",
      " [0.10107148 0.06395534 0.09539517 0.08788958 0.0559408  0.05477513\n",
      "  0.04036536 0.17099328 0.18739691 0.1422169 ]\n",
      " [0.10603321 0.06333444 0.08555138 0.06856906 0.06215768 0.07138847\n",
      "  0.04019878 0.22454505 0.12803388 0.15018798]\n",
      " [0.12040418 0.06378634 0.06282786 0.05312107 0.08634605 0.09336776\n",
      "  0.04587126 0.21029228 0.13408838 0.12989476]\n",
      " [0.11979132 0.06755023 0.08570904 0.1383253  0.0477433  0.1057853\n",
      "  0.04103064 0.04725193 0.2816872  0.06512564]\n",
      " [0.08544689 0.06911982 0.07072565 0.04962786 0.14065915 0.06284656\n",
      "  0.05430201 0.12305035 0.18420376 0.16001794]\n",
      " [0.0782593  0.04931561 0.05941989 0.16600189 0.05296884 0.26690933\n",
      "  0.04615845 0.02497478 0.19498357 0.06100831]\n",
      " [0.11500337 0.0589998  0.06129856 0.05841931 0.04489036 0.08210912\n",
      "  0.0353527  0.21315697 0.22972976 0.10104   ]\n",
      " [0.08016486 0.08284449 0.07804331 0.09874995 0.0871647  0.1296696\n",
      "  0.05208642 0.12073649 0.1657272  0.10481295]\n",
      " [0.08179217 0.07661659 0.07323921 0.08019804 0.11452124 0.08151347\n",
      "  0.05280628 0.09719007 0.16547959 0.1766433 ]], shape=(64, 10), dtype=float32)\n"
     ]
    }
   ],
   "source": [
    "print(\"predict on one batch of data\")\n",
    "print(model.predict_on_batch(train_data))"
   ]
  },
  {
   "cell_type": "code",
   "execution_count": 19,
   "metadata": {},
   "outputs": [
    {
     "name": "stdout",
     "output_type": "stream",
     "text": [
      "test on one batch of data\n",
      "[1.6816344, 0.53125]\n"
     ]
    }
   ],
   "source": [
    "print(\"test on one batch of data\")\n",
    "print(model.test_on_batch(train_data))"
   ]
  }
 ],
 "metadata": {
  "kernelspec": {
   "display_name": "Python [conda env:env_multilingual_class]",
   "language": "python",
   "name": "conda-env-env_multilingual_class-py"
  },
  "language_info": {
   "codemirror_mode": {
    "name": "ipython",
    "version": 3
   },
   "file_extension": ".py",
   "mimetype": "text/x-python",
   "name": "python",
   "nbconvert_exporter": "python",
   "pygments_lexer": "ipython3",
   "version": "3.7.6"
  }
 },
 "nbformat": 4,
 "nbformat_minor": 4
}
