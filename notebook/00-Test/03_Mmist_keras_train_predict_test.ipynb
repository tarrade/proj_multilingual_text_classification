{
 "cells": [
  {
   "cell_type": "markdown",
   "metadata": {
    "Collapsed": "false"
   },
   "source": [
    "# Basics methods for training and prediction using Keras"
   ]
  },
  {
   "cell_type": "code",
   "execution_count": 1,
   "metadata": {
    "Collapsed": "false",
    "jupyter": {
     "source_hidden": true
    }
   },
   "outputs": [
    {
     "data": {
      "text/markdown": [
       "Environment variables that need to be defined:   \n",
       "`export DIR_PROJ=your_path_git_repository`  \n",
       "`export PYTHONPATH=$DIR_PROJ/src`  \n",
       "`export PATH_TENSORBOARD=your_path_tensorboard`  \n",
       "`export PATH_DATASETS=your_path_datasets`  \n",
       "`export PROJECT_ID=your_gcp_project_id`  \n",
       "`export BUCKET_NAME=your_gcp_gs_bucket_name`  \n",
       "`export REGION=your_region`  \n",
       "`export MODEL_DIR_ESTIMATOR_PATH=your_path_to_save_model` \n",
       "\n",
       "- Use local Jupyter Lab \n",
       "    - you need to have the `jupyter-notebook` Anaconda python environment created [link](local_jupyter_lab_installation.md) \n",
       "    - you need to have the `jupyter-notebook` Anaconda python environment activated [link](local_jupyter_lab_installation.md) \n",
       "    - then define the environment variables above (copy and paste) \n",
       "    - you need to have the `env_multilingual_class` Anaconda python environment created [link](local_jupyter_lab_installation.md)  \n",
       "    - start Jupyter Lab:  `jupyter lab` \n",
       "    - open a Jupyter Lab notebook from `notebook/` \n",
       "     - clone this repositiory: `git clone https://github.com/tarrade/proj_multilingual_text_classification.git`\n",
       "    - choose the proper Anaconda python environment:  `Python [conda env:env_multilingual_class]` [link](conda_env.md) \n",
       "    - clone this repositiory: `git clone https://github.com/tarrade/proj_multilingual_text_classification.git`\n",
       "\n",
       "\n",
       "- Use GCP Jupyter Lab \n",
       "    - Go on GCP\n",
       "    - open a Cloud Shell\n",
       "    - `ssh-keygen -t rsa -b 4096 -C firstName_lastName`\n",
       "    - `cp .ssh/id_rsa.pub .`\n",
       "    - use Cloud Editor to edit this file `id_rsa.pub` and copy the full content\n",
       "    - Go on Compute Engine -> Metadata\n",
       "    - Click SSH Keys\n",
       "    - Click Edit\n",
       "    - Click + Add item, copy the content of `id_rsa.pub`\n",
       "    - You should see firstName_lastName of the left\n",
       "    - Click Save\n",
       "    - you need to start a AI Platform instance \n",
       "    - open a Jupyter Lab terminal and got to `/home/gcp_user_name/`\n",
       "    - clone this repositiory: `git clone https://github.com/tarrade/proj_multilingual_text_classification.git`\n",
       "    - then `cd proj_multilingual_text_classification/`\n",
       "    - create the Anacond Python environment `conda env create -f env/environment.yml`\n",
       "    - create a file `config.sh` in `/home` with the following information: \n",
       "    ```\n",
       "    #!/bin/bash\n",
       "    \n",
       "    echo \"applying some configuration ...\"\n",
       "    git config --global user.email user_email\n",
       "    git config --global user.name user_name\n",
       "    git config --global credential.helper store\n",
       "        \n",
       "    # Add here the enviroment variables from above below\n",
       "    export DIR_PROJ= ...\n",
       "    ...\n",
       "  \n",
       "    cd /home/gcp_user_name/\n",
       "    \n",
       "    conda activate env_multilingual_class\n",
       "\n",
       "    export PS1=\"[\\e[91m\\]\\u@:\\[\\e[32m\\]\\w/]$\"\n",
       "    ```\n",
       "    - Got to AI Platform Notebook, select your instance and click \"Reset\".\n",
       "    - Wait and reshreh you Web browser with the Notebook\n"
      ],
      "text/plain": [
       "<IPython.core.display.Markdown object>"
      ]
     },
     "metadata": {},
     "output_type": "display_data"
    }
   ],
   "source": [
    "from IPython.display import display, Markdown\n",
    "with open('../../doc/env_variables_setup.md', 'r') as fh:\n",
    "    content = fh.read()\n",
    "display(Markdown(content))"
   ]
  },
  {
   "cell_type": "code",
   "execution_count": 2,
   "metadata": {
    "Collapsed": "false"
   },
   "outputs": [
    {
     "name": "stdout",
     "output_type": "stream",
     "text": [
      "Requirement already satisfied: utils in /home/.conda-env/env_multilingual_class/lib/python3.7/site-packages (1.0.1)\n",
      "Note: you may need to restart the kernel to use updated packages.\n"
     ]
    }
   ],
   "source": [
    "pip install utils"
   ]
  },
  {
   "cell_type": "markdown",
   "metadata": {
    "Collapsed": "false"
   },
   "source": [
    "## Import packages"
   ]
  },
  {
   "cell_type": "code",
   "execution_count": 3,
   "metadata": {
    "Collapsed": "false"
   },
   "outputs": [],
   "source": [
    "import tensorflow as tf\n",
    "import tensorflow_datasets as tfds\n",
    "from absl import logging\n",
    "import matplotlib.pyplot as plt\n",
    "import os\n",
    "import datetime\n",
    "import numpy\n",
    "from sklearn.metrics import confusion_matrix\n",
    "import itertools\n",
    "import matplotlib.pyplot as plt"
   ]
  },
  {
   "cell_type": "code",
   "execution_count": 4,
   "metadata": {
    "Collapsed": "false"
   },
   "outputs": [],
   "source": [
    "%load_ext tensorboard"
   ]
  },
  {
   "cell_type": "markdown",
   "metadata": {
    "Collapsed": "false"
   },
   "source": [
    "## Define paths"
   ]
  },
  {
   "cell_type": "code",
   "execution_count": 5,
   "metadata": {
    "Collapsed": "false"
   },
   "outputs": [],
   "source": [
    "try:\n",
    "    data_dir=os.environ['PATH_DATASETS']\n",
    "except:\n",
    "    print('missing PATH_DATASETS')"
   ]
  },
  {
   "cell_type": "code",
   "execution_count": 6,
   "metadata": {
    "Collapsed": "false"
   },
   "outputs": [
    {
     "name": "stdout",
     "output_type": "stream",
     "text": [
      "/home/vera_luechinger/data\n"
     ]
    }
   ],
   "source": [
    "print(data_dir)"
   ]
  },
  {
   "cell_type": "markdown",
   "metadata": {
    "Collapsed": "false"
   },
   "source": [
    "# Import local packages"
   ]
  },
  {
   "cell_type": "code",
   "execution_count": 7,
   "metadata": {
    "Collapsed": "false"
   },
   "outputs": [],
   "source": [
    "import utils.model_metrics  as model_metrics"
   ]
  },
  {
   "cell_type": "code",
   "execution_count": 8,
   "metadata": {
    "Collapsed": "false"
   },
   "outputs": [],
   "source": [
    "import importlib\n",
    "importlib.reload(model_metrics);"
   ]
  },
  {
   "cell_type": "markdown",
   "metadata": {
    "Collapsed": "false"
   },
   "source": [
    "## Getting and preprocessing data"
   ]
  },
  {
   "cell_type": "code",
   "execution_count": 9,
   "metadata": {
    "Collapsed": "false"
   },
   "outputs": [],
   "source": [
    "# Setup logging verbosity\n",
    "logging.set_verbosity(logging.INFO)\n",
    "\n",
    "# Define the model's hyperparameters\n",
    "STEPS_PER_EPOCH = 6\n",
    "#BUFFER_SIZE = 10 # Use a much larger value for real code. \n",
    "#BATCH_SIZE = 64\n",
    "BUFFER_SIZE = 10000\n",
    "BATCH_SIZE = 500\n",
    "NUM_EPOCHS = 25"
   ]
  },
  {
   "cell_type": "code",
   "execution_count": 10,
   "metadata": {
    "Collapsed": "false"
   },
   "outputs": [],
   "source": [
    "def input_fn():\n",
    "    import tensorflow as tf\n",
    "    datasets, ds_info = tfds.load(name='mnist', with_info=True, as_supervised=True, data_dir=data_dir)\n",
    "    mnist_train, mnist_test = datasets['train'], datasets['test']\n",
    "\n",
    "\n",
    "\n",
    "    def scale(image, label):\n",
    "        image = tf.cast(image, tf.float32)\n",
    "#        image = tf.dtypes.cast(image, tf.float32)\n",
    "        image /= 255\n",
    "    \n",
    "        return image, label\n",
    "\n",
    "    #train_data = mnist_train.map(scale).shuffle(BUFFER_SIZE).batch(BATCH_SIZE)\n",
    "    #test_data = mnist_test.map(scale).shuffle(BUFFER_SIZE).batch(BATCH_SIZE)\n",
    "    train_data = mnist_train.repeat().map(scale).shuffle(BUFFER_SIZE).batch(BATCH_SIZE)\n",
    "    test_data = mnist_test.repeat().map(scale).shuffle(BUFFER_SIZE).batch(BATCH_SIZE)\n",
    "    return train_data, test_data"
   ]
  },
  {
   "cell_type": "code",
   "execution_count": 11,
   "metadata": {
    "Collapsed": "false"
   },
   "outputs": [
    {
     "name": "stderr",
     "output_type": "stream",
     "text": [
      "INFO:absl:Overwrite dataset info from restored data version.\n",
      "INFO:absl:Field info.location from disk and from code do not match. Keeping the one from code.\n",
      "INFO:absl:Reusing dataset mnist (/home/vera_luechinger/data/mnist/3.0.0)\n",
      "INFO:absl:Constructing tf.data.Dataset for split None, from /home/vera_luechinger/data/mnist/3.0.0\n"
     ]
    }
   ],
   "source": [
    "train_data, test_data = input_fn()"
   ]
  },
  {
   "cell_type": "code",
   "execution_count": 12,
   "metadata": {
    "Collapsed": "false"
   },
   "outputs": [],
   "source": [
    "# experimenting with keras inputs by combining training and test data\n",
    "data = train_data.concatenate(test_data)\n",
    "# abandoning this idea because:\n",
    "#The argument validation_split (generating a holdout set from the training data) is not supported when \n",
    "#training from Dataset objects, since this features requires the ability to index the samples of the datasets, \n",
    "#which is not possible in general with the Dataset API."
   ]
  },
  {
   "cell_type": "code",
   "execution_count": 13,
   "metadata": {
    "Collapsed": "false"
   },
   "outputs": [],
   "source": [
    "#tf.data.experimental.cardinality(train_data)\n"
   ]
  },
  {
   "cell_type": "code",
   "execution_count": 14,
   "metadata": {
    "Collapsed": "false"
   },
   "outputs": [],
   "source": [
    "#for l in test_data:\n",
    "#    print(l[0].numpy()[0].shape)\n",
    "#    break"
   ]
  },
  {
   "cell_type": "markdown",
   "metadata": {
    "Collapsed": "false"
   },
   "source": [
    "## Build the model"
   ]
  },
  {
   "cell_type": "code",
   "execution_count": 15,
   "metadata": {
    "Collapsed": "false"
   },
   "outputs": [],
   "source": [
    "def make_model():\n",
    "    import tensorflow as tf\n",
    "    return tf.keras.Sequential([\n",
    "        tf.keras.layers.Conv2D(32, 3, activation='relu',\n",
    "                               kernel_regularizer=tf.keras.regularizers.l2(0.02),\n",
    "                               input_shape=(28, 28, 1)),\n",
    "        \n",
    "        # play around from here on...\n",
    "        tf.keras.layers.MaxPooling2D(),\n",
    "        tf.keras.layers.Flatten(),\n",
    "        tf.keras.layers.Dropout(0.1),\n",
    "        tf.keras.layers.Dense(64, activation='relu'),\n",
    "        tf.keras.layers.BatchNormalization(),\n",
    "        \n",
    "        # ... until here\n",
    "        tf.keras.layers.Dense(10, activation='softmax')\n",
    "    ])"
   ]
  },
  {
   "cell_type": "code",
   "execution_count": 16,
   "metadata": {
    "Collapsed": "false"
   },
   "outputs": [],
   "source": [
    "def make_model2():\n",
    "    import tensorflow as tf\n",
    "    return tf.keras.Sequential([\n",
    "        tf.keras.layers.Conv2D(32, 3, activation='relu',\n",
    "                               kernel_regularizer=tf.keras.regularizers.l2(0.02),\n",
    "                               input_shape=(28, 28, 1)),\n",
    "        tf.keras.layers.MaxPooling2D(),\n",
    "        tf.keras.layers.Flatten(),\n",
    "        tf.keras.layers.Dropout(0.1),\n",
    "        tf.keras.layers.Dense(128, activation='relu'),        \n",
    "        tf.keras.layers.BatchNormalization(),\n",
    "\n",
    "        # ... until here\n",
    "        tf.keras.layers.Dense(10, activation='softmax')\n",
    "    ])"
   ]
  },
  {
   "cell_type": "code",
   "execution_count": 17,
   "metadata": {
    "Collapsed": "false"
   },
   "outputs": [],
   "source": [
    "model = make_model2()"
   ]
  },
  {
   "cell_type": "code",
   "execution_count": 18,
   "metadata": {
    "Collapsed": "false"
   },
   "outputs": [],
   "source": [
    "model.compile(optimizer='adam',\n",
    "              loss='sparse_categorical_crossentropy',\n",
    "              #loss='categorical_crossentropy',\n",
    "              metrics=['accuracy'])"
   ]
  },
  {
   "cell_type": "code",
   "execution_count": 19,
   "metadata": {
    "Collapsed": "false"
   },
   "outputs": [
    {
     "name": "stdout",
     "output_type": "stream",
     "text": [
      "Model: \"sequential\"\n",
      "_________________________________________________________________\n",
      "Layer (type)                 Output Shape              Param #   \n",
      "=================================================================\n",
      "conv2d (Conv2D)              (None, 26, 26, 32)        320       \n",
      "_________________________________________________________________\n",
      "max_pooling2d (MaxPooling2D) (None, 13, 13, 32)        0         \n",
      "_________________________________________________________________\n",
      "flatten (Flatten)            (None, 5408)              0         \n",
      "_________________________________________________________________\n",
      "dropout (Dropout)            (None, 5408)              0         \n",
      "_________________________________________________________________\n",
      "dense (Dense)                (None, 128)               692352    \n",
      "_________________________________________________________________\n",
      "batch_normalization (BatchNo (None, 128)               512       \n",
      "_________________________________________________________________\n",
      "dense_1 (Dense)              (None, 10)                1290      \n",
      "=================================================================\n",
      "Total params: 694,474\n",
      "Trainable params: 694,218\n",
      "Non-trainable params: 256\n",
      "_________________________________________________________________\n"
     ]
    }
   ],
   "source": [
    "model.summary()"
   ]
  },
  {
   "cell_type": "markdown",
   "metadata": {
    "Collapsed": "false"
   },
   "source": [
    "## Training the model"
   ]
  },
  {
   "cell_type": "code",
   "execution_count": 20,
   "metadata": {
    "Collapsed": "false"
   },
   "outputs": [],
   "source": [
    "# implement tensorboard\n",
    "import tensorflow as tf\n",
    "log_dir = \"logs/fit/\" + datetime.datetime.now().strftime(\"%Y%m%d-%H%M%S\")\n",
    "tensorboard_callback = tf.keras.callbacks.TensorBoard(log_dir=log_dir, histogram_freq=1)"
   ]
  },
  {
   "cell_type": "code",
   "execution_count": 21,
   "metadata": {
    "Collapsed": "false"
   },
   "outputs": [
    {
     "name": "stdout",
     "output_type": "stream",
     "text": [
      "train\n",
      "Train for 6 steps, validate for 20.0 steps\n",
      "Epoch 1/25\n",
      "6/6 [==============================] - 17s 3s/step - loss: 1.0973 - accuracy: 0.6610 - val_loss: 1.7568 - val_accuracy: 0.5800\n",
      "Epoch 2/25\n",
      "6/6 [==============================] - 11s 2s/step - loss: 0.4088 - accuracy: 0.8947 - val_loss: 1.5323 - val_accuracy: 0.6293\n",
      "Epoch 3/25\n",
      "6/6 [==============================] - 11s 2s/step - loss: 0.3293 - accuracy: 0.9143 - val_loss: 1.4005 - val_accuracy: 0.6948\n",
      "Epoch 4/25\n",
      "6/6 [==============================] - 11s 2s/step - loss: 0.2692 - accuracy: 0.9343 - val_loss: 1.3454 - val_accuracy: 0.6838\n",
      "Epoch 5/25\n",
      "6/6 [==============================] - 10s 2s/step - loss: 0.2506 - accuracy: 0.9320 - val_loss: 1.3145 - val_accuracy: 0.6835\n",
      "Epoch 6/25\n",
      "6/6 [==============================] - 11s 2s/step - loss: 0.2256 - accuracy: 0.9457 - val_loss: 1.2731 - val_accuracy: 0.7401\n",
      "Epoch 7/25\n",
      "6/6 [==============================] - 10s 2s/step - loss: 0.2222 - accuracy: 0.9407 - val_loss: 1.2579 - val_accuracy: 0.7765\n",
      "Epoch 8/25\n",
      "6/6 [==============================] - 11s 2s/step - loss: 0.1974 - accuracy: 0.9537 - val_loss: 1.2760 - val_accuracy: 0.7790\n",
      "Epoch 9/25\n",
      "6/6 [==============================] - 11s 2s/step - loss: 0.1934 - accuracy: 0.9567 - val_loss: 1.3004 - val_accuracy: 0.7688\n",
      "Epoch 10/25\n",
      "6/6 [==============================] - 11s 2s/step - loss: 0.1772 - accuracy: 0.9583 - val_loss: 1.2847 - val_accuracy: 0.8500\n",
      "Epoch 11/25\n",
      "6/6 [==============================] - 10s 2s/step - loss: 0.1547 - accuracy: 0.9643 - val_loss: 1.2620 - val_accuracy: 0.9000\n",
      "Epoch 12/25\n",
      "6/6 [==============================] - 11s 2s/step - loss: 0.1413 - accuracy: 0.9687 - val_loss: 1.2509 - val_accuracy: 0.9192\n",
      "Epoch 13/25\n",
      "6/6 [==============================] - 11s 2s/step - loss: 0.1424 - accuracy: 0.9717 - val_loss: 1.2306 - val_accuracy: 0.9253\n",
      "Epoch 14/25\n",
      "6/6 [==============================] - 11s 2s/step - loss: 0.1421 - accuracy: 0.9660 - val_loss: 1.2220 - val_accuracy: 0.9425\n",
      "Epoch 15/25\n",
      "6/6 [==============================] - 11s 2s/step - loss: 0.1293 - accuracy: 0.9730 - val_loss: 1.2245 - val_accuracy: 0.9527\n",
      "Epoch 16/25\n",
      "6/6 [==============================] - 11s 2s/step - loss: 0.1240 - accuracy: 0.9720 - val_loss: 1.2222 - val_accuracy: 0.9628\n",
      "Epoch 17/25\n",
      "6/6 [==============================] - 11s 2s/step - loss: 0.1246 - accuracy: 0.9713 - val_loss: 1.2040 - val_accuracy: 0.9672\n",
      "Epoch 18/25\n",
      "6/6 [==============================] - 11s 2s/step - loss: 0.1066 - accuracy: 0.9800 - val_loss: 1.1847 - val_accuracy: 0.9752\n",
      "Epoch 19/25\n",
      "6/6 [==============================] - 10s 2s/step - loss: 0.1251 - accuracy: 0.9797 - val_loss: 1.1718 - val_accuracy: 0.9766\n",
      "Epoch 20/25\n",
      "6/6 [==============================] - 11s 2s/step - loss: 0.1010 - accuracy: 0.9813 - val_loss: 1.1317 - val_accuracy: 0.9740\n",
      "Epoch 21/25\n",
      "6/6 [==============================] - 10s 2s/step - loss: 0.1050 - accuracy: 0.9770 - val_loss: 1.0801 - val_accuracy: 0.9774\n",
      "Epoch 22/25\n",
      "6/6 [==============================] - 10s 2s/step - loss: 0.0962 - accuracy: 0.9803 - val_loss: 1.0949 - val_accuracy: 0.9760\n",
      "Epoch 23/25\n",
      "6/6 [==============================] - 10s 2s/step - loss: 0.1021 - accuracy: 0.9787 - val_loss: 1.0874 - val_accuracy: 0.9758\n",
      "Epoch 24/25\n",
      "6/6 [==============================] - 10s 2s/step - loss: 0.0868 - accuracy: 0.9830 - val_loss: 1.0802 - val_accuracy: 0.9778\n",
      "Epoch 25/25\n",
      "6/6 [==============================] - 10s 2s/step - loss: 0.0866 - accuracy: 0.9830 - val_loss: 1.0660 - val_accuracy: 0.9812\n"
     ]
    }
   ],
   "source": [
    "print(\"train\")\n",
    "history=model.fit(train_data,\n",
    "                  steps_per_epoch=STEPS_PER_EPOCH,\n",
    "                  epochs=NUM_EPOCHS,\n",
    "                  verbose = 1,\n",
    "                  validation_data=test_data,\n",
    "                  validation_steps= 10000 / BATCH_SIZE,\n",
    "                  callbacks=[tensorboard_callback])\n",
    "                #validation_steps=TOTAL_VALIDATION_SAMPLES / BATCH_SIZE)"
   ]
  },
  {
   "cell_type": "code",
   "execution_count": 22,
   "metadata": {
    "Collapsed": "false"
   },
   "outputs": [
    {
     "data": {
      "text/html": [
       "\n",
       "      <iframe id=\"tensorboard-frame-9490db15e16a3b1e\" width=\"100%\" height=\"800\" frameborder=\"0\">\n",
       "      </iframe>\n",
       "      <script>\n",
       "        (function() {\n",
       "          const frame = document.getElementById(\"tensorboard-frame-9490db15e16a3b1e\");\n",
       "          const url = new URL(\"/\", window.location);\n",
       "          url.port = 6006;\n",
       "          frame.src = url;\n",
       "        })();\n",
       "      </script>\n",
       "  "
      ],
      "text/plain": [
       "<IPython.core.display.HTML object>"
      ]
     },
     "metadata": {},
     "output_type": "display_data"
    }
   ],
   "source": [
    "%tensorboard --logdir logs/fit --host localhost"
   ]
  },
  {
   "cell_type": "code",
   "execution_count": 23,
   "metadata": {
    "Collapsed": "false"
   },
   "outputs": [
    {
     "data": {
      "text/plain": [
       "{'loss': [1.097313016653061,\n",
       "  0.4087580392758052,\n",
       "  0.32926860948403675,\n",
       "  0.2691919555266698,\n",
       "  0.2505653301874797,\n",
       "  0.2256055250763893,\n",
       "  0.22221465905507407,\n",
       "  0.19737389187018076,\n",
       "  0.19338351984818777,\n",
       "  0.17719552665948868,\n",
       "  0.15473641455173492,\n",
       "  0.14125738541285196,\n",
       "  0.14237350970506668,\n",
       "  0.14209853361050287,\n",
       "  0.12926528602838516,\n",
       "  0.12401819477478664,\n",
       "  0.12461366628607114,\n",
       "  0.10659201815724373,\n",
       "  0.12514692172408104,\n",
       "  0.10101630414525668,\n",
       "  0.10497261087099712,\n",
       "  0.0962391197681427,\n",
       "  0.10207529241840045,\n",
       "  0.08677365506688754,\n",
       "  0.08657253036896388],\n",
       " 'accuracy': [0.661,\n",
       "  0.8946667,\n",
       "  0.91433334,\n",
       "  0.9343333,\n",
       "  0.932,\n",
       "  0.9456667,\n",
       "  0.9406667,\n",
       "  0.9536667,\n",
       "  0.95666665,\n",
       "  0.9583333,\n",
       "  0.96433336,\n",
       "  0.9686667,\n",
       "  0.9716667,\n",
       "  0.966,\n",
       "  0.973,\n",
       "  0.972,\n",
       "  0.9713333,\n",
       "  0.98,\n",
       "  0.97966665,\n",
       "  0.9813333,\n",
       "  0.977,\n",
       "  0.9803333,\n",
       "  0.97866666,\n",
       "  0.983,\n",
       "  0.983],\n",
       " 'val_loss': [1.7567847430706025,\n",
       "  1.5323216915130615,\n",
       "  1.4004864394664764,\n",
       "  1.3454123377799987,\n",
       "  1.3145306527614593,\n",
       "  1.2730962753295898,\n",
       "  1.257898247241974,\n",
       "  1.27599755525589,\n",
       "  1.3003507018089295,\n",
       "  1.284725934267044,\n",
       "  1.2619935333728791,\n",
       "  1.2508973240852357,\n",
       "  1.2305939018726348,\n",
       "  1.221959662437439,\n",
       "  1.224459421634674,\n",
       "  1.2221866011619569,\n",
       "  1.204023188352585,\n",
       "  1.1846861004829408,\n",
       "  1.1718258798122405,\n",
       "  1.1317137002944946,\n",
       "  1.0801396250724793,\n",
       "  1.0949386537075043,\n",
       "  1.0874167025089263,\n",
       "  1.0801990628242493,\n",
       "  1.0659789204597474],\n",
       " 'val_accuracy': [0.58,\n",
       "  0.6293,\n",
       "  0.6948,\n",
       "  0.6838,\n",
       "  0.6835,\n",
       "  0.7401,\n",
       "  0.7765,\n",
       "  0.779,\n",
       "  0.7688,\n",
       "  0.85,\n",
       "  0.9,\n",
       "  0.9192,\n",
       "  0.9253,\n",
       "  0.9425,\n",
       "  0.9527,\n",
       "  0.9628,\n",
       "  0.9672,\n",
       "  0.9752,\n",
       "  0.9766,\n",
       "  0.974,\n",
       "  0.9774,\n",
       "  0.976,\n",
       "  0.9758,\n",
       "  0.9778,\n",
       "  0.9812]}"
      ]
     },
     "execution_count": 23,
     "metadata": {},
     "output_type": "execute_result"
    }
   ],
   "source": [
    "history.history"
   ]
  },
  {
   "cell_type": "markdown",
   "metadata": {
    "Collapsed": "false"
   },
   "source": [
    "## Visualization"
   ]
  },
  {
   "cell_type": "code",
   "execution_count": 24,
   "metadata": {
    "Collapsed": "false"
   },
   "outputs": [
    {
     "data": {
      "image/png": "[encoded data removed]",
      "text/plain": [
       "<Figure size 432x288 with 1 Axes>"
      ]
     },
     "metadata": {
      "needs_background": "light"
     },
     "output_type": "display_data"
    },
    {
     "data": {
      "image/png": "[encoded data removed]",
      "text/plain": [
       "<Figure size 432x288 with 1 Axes>"
      ]
     },
     "metadata": {
      "needs_background": "light"
     },
     "output_type": "display_data"
    }
   ],
   "source": [
    "# Plot training & validation accuracy values\n",
    "plt.plot(history.history['accuracy'])\n",
    "plt.plot(history.history['val_accuracy'])\n",
    "plt.title('Model accuracy')\n",
    "plt.ylabel('Accuracy')\n",
    "plt.xlabel('Epoch')\n",
    "plt.legend(['Train', 'Test'], loc='upper left')\n",
    "plt.show()\n",
    "\n",
    "# Plot training & validation loss values\n",
    "plt.plot(history.history['loss'])\n",
    "plt.plot(history.history['val_loss'])\n",
    "plt.title('Model loss')\n",
    "plt.ylabel('Loss')\n",
    "plt.xlabel('Epoch')\n",
    "plt.legend(['Train', 'Test'], loc='upper left')\n",
    "plt.show()"
   ]
  },
  {
   "cell_type": "markdown",
   "metadata": {
    "Collapsed": "false"
   },
   "source": [
    "## Evaluating the model"
   ]
  },
  {
   "cell_type": "code",
   "execution_count": 25,
   "metadata": {
    "Collapsed": "false"
   },
   "outputs": [
    {
     "name": "stdout",
     "output_type": "stream",
     "text": [
      "evaluate on training dataset\n",
      "6/6 [==============================] - 5s 853ms/step - loss: 1.0621 - accuracy: 0.9870\n"
     ]
    },
    {
     "data": {
      "text/plain": [
       "[1.0621219078699748, 0.987]"
      ]
     },
     "execution_count": 25,
     "metadata": {},
     "output_type": "execute_result"
    }
   ],
   "source": [
    "print(\"evaluate on training dataset\")\n",
    "model.evaluate(train_data,\n",
    "              steps=6)"
   ]
  },
  {
   "cell_type": "code",
   "execution_count": 26,
   "metadata": {
    "Collapsed": "false"
   },
   "outputs": [
    {
     "name": "stdout",
     "output_type": "stream",
     "text": [
      "evaluate on testing dataset\n",
      "1/1 [==============================] - 4s 4s/step - loss: 1.0720 - accuracy: 0.9840\n"
     ]
    },
    {
     "data": {
      "text/plain": [
       "[1.0719845294952393, 0.984]"
      ]
     },
     "execution_count": 26,
     "metadata": {},
     "output_type": "execute_result"
    }
   ],
   "source": [
    "print(\"evaluate on testing dataset\")\n",
    "model.evaluate(test_data,\n",
    "               steps=1)"
   ]
  },
  {
   "cell_type": "markdown",
   "metadata": {
    "Collapsed": "false"
   },
   "source": [
    "## Doing prediction with our model"
   ]
  },
  {
   "cell_type": "code",
   "execution_count": 27,
   "metadata": {
    "Collapsed": "false"
   },
   "outputs": [
    {
     "name": "stdout",
     "output_type": "stream",
     "text": [
      "predict on one batch of data\n",
      "tf.Tensor(\n",
      "[[0.07041851 0.33041304 0.07675182 ... 0.12208893 0.05084039 0.05740935]\n",
      " [0.38536683 0.06041429 0.09495594 ... 0.06660831 0.05138543 0.06607442]\n",
      " [0.05020124 0.13727078 0.33883905 ... 0.05737596 0.09067312 0.05905106]\n",
      " ...\n",
      " [0.12562115 0.0663576  0.03159761 ... 0.35376588 0.02603702 0.15858741]\n",
      " [0.04865319 0.05438577 0.0998164  ... 0.05743349 0.08782643 0.05844954]\n",
      " [0.05864833 0.04954846 0.11583864 ... 0.05107174 0.3160097  0.117227  ]], shape=(500, 10), dtype=float32)\n"
     ]
    }
   ],
   "source": [
    "print(\"predict on one batch of data\")\n",
    "predict_on_batch = model.predict_on_batch(train_data)\n",
    "print(model.predict_on_batch(train_data))"
   ]
  },
  {
   "cell_type": "code",
   "execution_count": 28,
   "metadata": {
    "Collapsed": "false"
   },
   "outputs": [
    {
     "name": "stdout",
     "output_type": "stream",
     "text": [
      "test on one batch of data\n",
      "[1.0798285, 0.985]\n"
     ]
    }
   ],
   "source": [
    "print(\"test on one batch of data\")\n",
    "print(model.test_on_batch(train_data))"
   ]
  },
  {
   "cell_type": "markdown",
   "metadata": {
    "Collapsed": "false"
   },
   "source": [
    "## Confusion Matrix"
   ]
  },
  {
   "cell_type": "code",
   "execution_count": 1,
   "metadata": {
    "Collapsed": "false"
   },
   "outputs": [
    {
     "name": "stderr",
     "output_type": "stream",
     "text": [
      "ERROR:root:Internal Python error in the inspect module.\n",
      "Below is the traceback from this internal error.\n",
      "\n"
     ]
    },
    {
     "name": "stdout",
     "output_type": "stream",
     "text": [
      "Traceback (most recent call last):\n",
      "  File \"/home/.conda-env/env_multilingual_class/lib/python3.7/site-packages/IPython/core/interactiveshell.py\", line 3331, in run_code\n",
      "    exec(code_obj, self.user_global_ns, self.user_ns)\n",
      "  File \"<ipython-input-1-2789da7adb8d>\", line 2, in <module>\n",
      "    import tensorflow as tf\n",
      "  File \"/home/.conda-env/env_multilingual_class/lib/python3.7/site-packages/tensorflow/__init__.py\", line 101, in <module>\n",
      "    from tensorflow_core import *\n",
      "  File \"/home/.conda-env/env_multilingual_class/lib/python3.7/site-packages/tensorflow_core/__init__.py\", line 40, in <module>\n",
      "    from tensorflow.python.tools import module_util as _module_util\n",
      "  File \"<frozen importlib._bootstrap>\", line 983, in _find_and_load\n",
      "  File \"<frozen importlib._bootstrap>\", line 959, in _find_and_load_unlocked\n",
      "  File \"/home/.conda-env/env_multilingual_class/lib/python3.7/site-packages/tensorflow/__init__.py\", line 50, in __getattr__\n",
      "    module = self._load()\n",
      "  File \"/home/.conda-env/env_multilingual_class/lib/python3.7/site-packages/tensorflow/__init__.py\", line 44, in _load\n",
      "    module = _importlib.import_module(self.__name__)\n",
      "  File \"/home/.conda-env/env_multilingual_class/lib/python3.7/importlib/__init__.py\", line 127, in import_module\n",
      "    return _bootstrap._gcd_import(name[level:], package, level)\n",
      "  File \"/home/.conda-env/env_multilingual_class/lib/python3.7/site-packages/tensorflow_core/python/__init__.py\", line 85, in <module>\n",
      "    from tensorflow.python.ops.standard_ops import *\n",
      "  File \"/home/.conda-env/env_multilingual_class/lib/python3.7/site-packages/tensorflow_core/python/ops/standard_ops.py\", line 26, in <module>\n",
      "    from tensorflow.python import autograph\n",
      "  File \"/home/.conda-env/env_multilingual_class/lib/python3.7/site-packages/tensorflow_core/python/autograph/__init__.py\", line 35, in <module>\n",
      "    from tensorflow.python.autograph import operators\n",
      "  File \"/home/.conda-env/env_multilingual_class/lib/python3.7/site-packages/tensorflow_core/python/autograph/__init__.py\", line 35, in <module>\n",
      "    from tensorflow.python.autograph import operators\n",
      "  File \"/home/.conda-env/env_multilingual_class/lib/python3.7/site-packages/tensorflow_core/python/autograph/operators/__init__.py\", line 40, in <module>\n",
      "    from tensorflow.python.autograph.operators.control_flow import for_stmt\n",
      "  File \"/home/.conda-env/env_multilingual_class/lib/python3.7/site-packages/tensorflow_core/python/autograph/operators/control_flow.py\", line 65, in <module>\n",
      "    from tensorflow.python.autograph.operators import py_builtins\n",
      "  File \"/home/.conda-env/env_multilingual_class/lib/python3.7/site-packages/tensorflow_core/python/autograph/operators/py_builtins.py\", line 30, in <module>\n",
      "    from tensorflow.python.data.ops import dataset_ops\n",
      "  File \"/home/.conda-env/env_multilingual_class/lib/python3.7/site-packages/tensorflow_core/python/data/__init__.py\", line 25, in <module>\n",
      "    from tensorflow.python.data import experimental\n",
      "  File \"/home/.conda-env/env_multilingual_class/lib/python3.7/site-packages/tensorflow_core/python/data/experimental/__init__.py\", line 91, in <module>\n",
      "    from tensorflow.python.data.experimental.ops.batching import dense_to_ragged_batch\n",
      "  File \"/home/.conda-env/env_multilingual_class/lib/python3.7/site-packages/tensorflow_core/python/data/experimental/ops/batching.py\", line 20, in <module>\n",
      "    from tensorflow.python.data.ops import dataset_ops\n",
      "  File \"/home/.conda-env/env_multilingual_class/lib/python3.7/site-packages/tensorflow_core/python/data/ops/dataset_ops.py\", line 40, in <module>\n",
      "    from tensorflow.python.data.ops import iterator_ops\n",
      "  File \"/home/.conda-env/env_multilingual_class/lib/python3.7/site-packages/tensorflow_core/python/data/ops/iterator_ops.py\", line 23, in <module>\n",
      "    from tensorflow.python.data.ops import optional_ops\n",
      "  File \"/home/.conda-env/env_multilingual_class/lib/python3.7/site-packages/tensorflow_core/python/data/ops/optional_ops.py\", line 24, in <module>\n",
      "    from tensorflow.python.data.util import structure\n",
      "  File \"/home/.conda-env/env_multilingual_class/lib/python3.7/site-packages/tensorflow_core/python/data/util/structure.py\", line 34, in <module>\n",
      "    from tensorflow.python.ops.ragged import ragged_tensor\n",
      "  File \"/home/.conda-env/env_multilingual_class/lib/python3.7/site-packages/tensorflow_core/python/ops/ragged/__init__.py\", line 33, in <module>\n",
      "    from tensorflow.python.ops.ragged import ragged_batch_gather_with_default_op\n",
      "  File \"/home/.conda-env/env_multilingual_class/lib/python3.7/site-packages/tensorflow_core/python/ops/ragged/ragged_batch_gather_with_default_op.py\", line 28, in <module>\n",
      "    from tensorflow.python.ops.ragged import ragged_dispatch  # pylint: disable=unused-import\n",
      "  File \"/home/.conda-env/env_multilingual_class/lib/python3.7/site-packages/tensorflow_core/python/ops/ragged/ragged_dispatch.py\", line 577, in <module>\n",
      "    register_dispatchers()\n",
      "  File \"/home/.conda-env/env_multilingual_class/lib/python3.7/site-packages/tensorflow_core/python/ops/ragged/ragged_dispatch.py\", line 508, in register_dispatchers\n",
      "    tf_export.API_ATTRS[tf_export.TENSORFLOW_API_NAME].names):\n",
      "KeyboardInterrupt\n",
      "\n",
      "During handling of the above exception, another exception occurred:\n",
      "\n",
      "Traceback (most recent call last):\n",
      "  File \"/home/.conda-env/env_multilingual_class/lib/python3.7/site-packages/IPython/core/interactiveshell.py\", line 2044, in showtraceback\n",
      "    stb = value._render_traceback_()\n",
      "AttributeError: 'KeyboardInterrupt' object has no attribute '_render_traceback_'\n",
      "\n",
      "During handling of the above exception, another exception occurred:\n",
      "\n",
      "Traceback (most recent call last):\n",
      "  File \"/home/.conda-env/env_multilingual_class/lib/python3.7/site-packages/IPython/core/ultratb.py\", line 1151, in get_records\n",
      "    return _fixed_getinnerframes(etb, number_of_lines_of_context, tb_offset)\n",
      "  File \"/home/.conda-env/env_multilingual_class/lib/python3.7/site-packages/IPython/core/ultratb.py\", line 319, in wrapped\n",
      "    return f(*args, **kwargs)\n",
      "  File \"/home/.conda-env/env_multilingual_class/lib/python3.7/site-packages/IPython/core/ultratb.py\", line 353, in _fixed_getinnerframes\n",
      "    records = fix_frame_records_filenames(inspect.getinnerframes(etb, context))\n",
      "  File \"/home/.conda-env/env_multilingual_class/lib/python3.7/inspect.py\", line 1502, in getinnerframes\n",
      "    frameinfo = (tb.tb_frame,) + getframeinfo(tb, context)\n",
      "  File \"/home/.conda-env/env_multilingual_class/lib/python3.7/inspect.py\", line 1460, in getframeinfo\n",
      "    filename = getsourcefile(frame) or getfile(frame)\n",
      "  File \"/home/.conda-env/env_multilingual_class/lib/python3.7/inspect.py\", line 696, in getsourcefile\n",
      "    if getattr(getmodule(object, filename), '__loader__', None) is not None:\n",
      "  File \"/home/.conda-env/env_multilingual_class/lib/python3.7/inspect.py\", line 733, in getmodule\n",
      "    if ismodule(module) and hasattr(module, '__file__'):\n",
      "  File \"/home/.conda-env/env_multilingual_class/lib/python3.7/site-packages/tensorflow/__init__.py\", line 50, in __getattr__\n",
      "    module = self._load()\n",
      "  File \"/home/.conda-env/env_multilingual_class/lib/python3.7/site-packages/tensorflow/__init__.py\", line 44, in _load\n",
      "    module = _importlib.import_module(self.__name__)\n",
      "  File \"/home/.conda-env/env_multilingual_class/lib/python3.7/importlib/__init__.py\", line 127, in import_module\n",
      "    return _bootstrap._gcd_import(name[level:], package, level)\n",
      "  File \"<frozen importlib._bootstrap>\", line 1006, in _gcd_import\n",
      "  File \"<frozen importlib._bootstrap>\", line 983, in _find_and_load\n",
      "  File \"<frozen importlib._bootstrap>\", line 953, in _find_and_load_unlocked\n",
      "  File \"<frozen importlib._bootstrap>\", line 219, in _call_with_frames_removed\n",
      "  File \"<frozen importlib._bootstrap>\", line 1006, in _gcd_import\n",
      "  File \"<frozen importlib._bootstrap>\", line 983, in _find_and_load\n",
      "  File \"<frozen importlib._bootstrap>\", line 967, in _find_and_load_unlocked\n",
      "  File \"<frozen importlib._bootstrap>\", line 677, in _load_unlocked\n",
      "  File \"<frozen importlib._bootstrap_external>\", line 728, in exec_module\n",
      "  File \"<frozen importlib._bootstrap>\", line 219, in _call_with_frames_removed\n",
      "  File \"/home/.conda-env/env_multilingual_class/lib/python3.7/site-packages/tensorflow_core/__init__.py\", line 46, in <module>\n",
      "    from . _api.v2 import compat\n",
      "  File \"/home/.conda-env/env_multilingual_class/lib/python3.7/site-packages/tensorflow_core/_api/v2/compat/__init__.py\", line 39, in <module>\n",
      "    from . import v1\n",
      "  File \"/home/.conda-env/env_multilingual_class/lib/python3.7/site-packages/tensorflow_core/_api/v2/compat/v1/__init__.py\", line 32, in <module>\n",
      "    from . import compat\n",
      "  File \"/home/.conda-env/env_multilingual_class/lib/python3.7/site-packages/tensorflow_core/_api/v2/compat/v1/compat/__init__.py\", line 39, in <module>\n",
      "    from . import v1\n",
      "  File \"/home/.conda-env/env_multilingual_class/lib/python3.7/site-packages/tensorflow_core/_api/v2/compat/v1/compat/v1/__init__.py\", line 29, in <module>\n",
      "    from tensorflow._api.v2.compat.v1 import app\n",
      "  File \"/home/.conda-env/env_multilingual_class/lib/python3.7/site-packages/tensorflow_core/_api/v2/compat/__init__.py\", line 39, in <module>\n",
      "    from . import v1\n",
      "  File \"/home/.conda-env/env_multilingual_class/lib/python3.7/site-packages/tensorflow_core/_api/v2/compat/v1/__init__.py\", line 32, in <module>\n",
      "    from . import compat\n",
      "  File \"/home/.conda-env/env_multilingual_class/lib/python3.7/site-packages/tensorflow_core/_api/v2/compat/v1/compat/__init__.py\", line 39, in <module>\n",
      "    from . import v1\n",
      "  File \"/home/.conda-env/env_multilingual_class/lib/python3.7/site-packages/tensorflow_core/_api/v2/compat/v1/compat/v1/__init__.py\", line 33, in <module>\n",
      "    from tensorflow._api.v2.compat.v1 import config\n",
      "  File \"/home/.conda-env/env_multilingual_class/lib/python3.7/site-packages/tensorflow_core/_api/v2/compat/v1/config/__init__.py\", line 18, in <module>\n",
      "    from tensorflow.python.eager.remote import connect_to_cluster as experimental_connect_to_cluster\n",
      "  File \"/home/.conda-env/env_multilingual_class/lib/python3.7/site-packages/tensorflow_core/python/eager/remote.py\", line 26, in <module>\n",
      "    from tensorflow.python.distribute import device_util\n",
      "  File \"/home/.conda-env/env_multilingual_class/lib/python3.7/site-packages/tensorflow_core/python/distribute/__init__.py\", line 22, in <module>\n",
      "    from tensorflow.python.distribute import cluster_resolver\n",
      "  File \"/home/.conda-env/env_multilingual_class/lib/python3.7/site-packages/tensorflow_core/python/distribute/cluster_resolver/__init__.py\", line 31, in <module>\n",
      "    from tensorflow.python.distribute.cluster_resolver.gce_cluster_resolver import GCEClusterResolver\n",
      "  File \"/home/.conda-env/env_multilingual_class/lib/python3.7/site-packages/tensorflow_core/python/distribute/cluster_resolver/gce_cluster_resolver.py\", line 28, in <module>\n",
      "    from googleapiclient import discovery  # pylint: disable=g-import-not-at-top\n",
      "  File \"/home/.conda-env/env_multilingual_class/lib/python3.7/site-packages/googleapiclient/discovery.py\", line 56, in <module>\n",
      "    from googleapiclient import _auth\n",
      "  File \"/home/.conda-env/env_multilingual_class/lib/python3.7/site-packages/googleapiclient/_auth.py\", line 32, in <module>\n",
      "    import oauth2client\n",
      "  File \"<frozen importlib._bootstrap>\", line 983, in _find_and_load\n",
      "  File \"<frozen importlib._bootstrap>\", line 967, in _find_and_load_unlocked\n",
      "  File \"<frozen importlib._bootstrap>\", line 677, in _load_unlocked\n",
      "  File \"<frozen importlib._bootstrap_external>\", line 724, in exec_module\n",
      "  File \"<frozen importlib._bootstrap_external>\", line 818, in get_code\n",
      "  File \"<frozen importlib._bootstrap_external>\", line 917, in get_data\n",
      "KeyboardInterrupt\n"
     ]
    },
    {
     "ename": "KeyboardInterrupt",
     "evalue": "",
     "output_type": "error",
     "traceback": [
      "\u001b[0;31m---------------------------------------------------------------------------\u001b[0m"
     ]
    }
   ],
   "source": [
    "# confusion matrix\n",
    "import tensorflow as tf\n",
    "rounded_predictions = tf.math.argmax(predict_on_batch,1)\n",
    "#test_labels = tf.math.argmax(train_data,1)\n",
    "print(type(train_data))\n",
    "print(type(predict_on_batch))\n",
    "#cm = confusion_matrix(test_labels, rounded_predictions)\n",
    "\n",
    "# I stopped here because debugging this issue might take too much time (for me). "
   ]
  },
  {
   "cell_type": "code",
   "execution_count": null,
   "metadata": {
    "Collapsed": "false"
   },
   "outputs": [],
   "source": []
  },
  {
   "cell_type": "markdown",
   "metadata": {
    "Collapsed": "false"
   },
   "source": [
    "## Notes\n",
    "- Increasing the number of epochs to 10 increased the model accuracy which was to be expected but did not hugely increase test accuracy. ==> setup of the network in general not ideal, look for other things to adapt\n",
    "- increasing the number of epochs to 50 or even 100 greatly improved the model (1)\n",
    "- Adding 1 or 2 dense layers after the conv layers did not improve the prediction confidence much for few epochs. Model2 with 3 dense layers in classification for 50 or 100 epochs performed worse than model 1. LEss dense layers is more in terms of accuracy for both training and test\n",
    "- increasing the number of nodes in the dense layer"
   ]
  },
  {
   "cell_type": "code",
   "execution_count": null,
   "metadata": {
    "Collapsed": "false"
   },
   "outputs": [],
   "source": []
  }
 ],
 "metadata": {
  "kernelspec": {
   "display_name": "Python [conda env:env_multilingual_class]",
   "language": "python",
   "name": "conda-env-env_multilingual_class-py"
  },
  "language_info": {
   "codemirror_mode": {
    "name": "ipython",
    "version": 3
   },
   "file_extension": ".py",
   "mimetype": "text/x-python",
   "name": "python",
   "nbconvert_exporter": "python",
   "pygments_lexer": "ipython3",
   "version": "3.7.6"
  }
 },
 "nbformat": 4,
 "nbformat_minor": 4
}
