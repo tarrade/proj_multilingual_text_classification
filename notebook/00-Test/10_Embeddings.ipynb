{
 "cells": [
  {
   "cell_type": "markdown",
   "metadata": {
    "Collapsed": "false"
   },
   "source": [
    "## Experiments with Embeddings"
   ]
  },
  {
   "cell_type": "markdown",
   "metadata": {
    "Collapsed": "false"
   },
   "source": [
    "This notebook is used to experiment with different embeddings we retrieve from language models like BERT and GPT-2. \n",
    "Ultimately, words translated in different languages are plotted against each other to show the capabilities of cross-lingual embeddings."
   ]
  },
  {
   "cell_type": "code",
   "execution_count": 1,
   "metadata": {
    "Collapsed": "false"
   },
   "outputs": [],
   "source": [
    "import matplotlib.pyplot as plt\n",
    "import numpy as np\n",
    "from sklearn.manifold import TSNE"
   ]
  },
  {
   "cell_type": "markdown",
   "metadata": {
    "Collapsed": "false"
   },
   "source": [
    "### 1. Single Sentence"
   ]
  },
  {
   "cell_type": "markdown",
   "metadata": {
    "Collapsed": "false"
   },
   "source": [
    "#### Extract Embeddings from BERT"
   ]
  },
  {
   "cell_type": "code",
   "execution_count": 94,
   "metadata": {
    "Collapsed": "false"
   },
   "outputs": [],
   "source": [
    "# from https://github.com/huggingface/transformers/issues/1950\n",
    "import tensorflow as tf\n",
    "from transformers import BertTokenizer, TFBertModel\n",
    "\n",
    "MODEL_TYPE = 'bert-base-multilingual-uncased'\n",
    "sequence = [\"Today, the sun is shining.\"]\n",
    "\n",
    "tokenizer = BertTokenizer.from_pretrained(MODEL_TYPE)\n",
    "model = TFBertModel.from_pretrained(MODEL_TYPE)"
   ]
  },
  {
   "cell_type": "code",
   "execution_count": 112,
   "metadata": {
    "Collapsed": "false"
   },
   "outputs": [],
   "source": [
    "# embeddings \n",
    "input_ids = tf.constant(tokenizer.encode(sequence[0]))[None, :] # Batch size 1\n",
    "outputs = model(input_ids)\n",
    "last_hidden_states = outputs[0]  # The last hidden-state is the first element of the output tuple"
   ]
  },
  {
   "cell_type": "code",
   "execution_count": 113,
   "metadata": {
    "Collapsed": "false"
   },
   "outputs": [
    {
     "data": {
      "text/plain": [
       "(<tf.Tensor: shape=(1, 9, 768), dtype=float32, numpy=\n",
       " array([[[-0.00212251, -0.04230585, -0.03695792, ...,  0.01820279,\n",
       "          -0.18701136,  0.03091383],\n",
       "         [ 0.10887868,  0.06550939, -0.37081745, ...,  0.21875407,\n",
       "          -0.364311  , -0.08754867],\n",
       "         [ 0.20696834, -0.19406171, -0.28209603, ..., -0.09924197,\n",
       "          -0.6044723 ,  0.06912363],\n",
       "         ...,\n",
       "         [ 0.1775671 ,  0.31336847,  0.01536524, ...,  0.12102044,\n",
       "          -0.39190322,  0.3377126 ],\n",
       "         [-0.12370267,  0.5159708 , -0.29101226, ..., -0.21107596,\n",
       "          -0.3886819 , -0.14851308],\n",
       "         [-0.01811131,  0.09140932, -0.5503062 , ...,  0.5049992 ,\n",
       "          -0.3916879 , -0.33403724]]], dtype=float32)>,\n",
       " <tf.Tensor: shape=(1, 768), dtype=float32, numpy=\n",
       " array([[ 1.34351134e-01,  3.60895582e-02,  1.68589160e-01,\n",
       "          2.30180204e-01,  1.95597216e-01,  4.40726101e-01,\n",
       "          2.09896743e-01, -1.91823095e-01, -2.30206624e-01,\n",
       "          3.20624530e-01, -2.84017384e-01, -3.16331118e-01,\n",
       "          2.85156667e-01, -1.84444398e-01, -2.78676450e-01,\n",
       "          9.48330685e-02,  1.98736861e-01,  4.02577780e-02,\n",
       "          2.06247762e-01,  1.75913721e-01, -8.12429562e-02,\n",
       "         -1.02032408e-01,  1.35505676e-01, -5.40773235e-02,\n",
       "          2.28308648e-01, -1.54883221e-01,  2.84184605e-01,\n",
       "          1.34899884e-01,  4.42928791e-01,  2.61474490e-01,\n",
       "          1.96529657e-01,  2.37493560e-01,  2.69557446e-01,\n",
       "         -1.57453403e-01,  2.19252646e-01,  9.91784036e-03,\n",
       "         -3.59253176e-02,  2.11651430e-01,  3.15042138e-01,\n",
       "          5.68560511e-02,  1.61868483e-01,  4.57032442e-01,\n",
       "          1.65881634e-01, -1.24165185e-01, -3.92958283e-01,\n",
       "          2.71688014e-01, -2.43141681e-01, -1.46573305e-01,\n",
       "          9.99991655e-01,  1.94274396e-01,  6.25088885e-02,\n",
       "         -1.83694661e-01,  1.02171130e-01, -3.19100946e-01,\n",
       "          3.04997385e-01,  9.99993861e-01, -4.03734416e-01,\n",
       "         -2.62171626e-01,  5.34648523e-02, -1.83646843e-01,\n",
       "         -2.53632158e-01,  2.36820698e-01,  4.07558411e-01,\n",
       "          2.16321230e-01, -1.99593663e-01,  4.75126095e-02,\n",
       "         -1.35155544e-01,  3.67367089e-01, -2.18643211e-02,\n",
       "          2.25724280e-01,  2.18608350e-01, -1.57783002e-01,\n",
       "          3.18996042e-01,  3.50234568e-01, -2.01544881e-01,\n",
       "          6.84004799e-02, -2.94495970e-01, -2.03992561e-01,\n",
       "         -2.37801015e-01,  2.37672254e-01,  2.16711089e-01,\n",
       "          2.06808954e-01, -3.09690714e-01,  2.38791078e-01,\n",
       "         -1.49334043e-01, -3.06115597e-01, -1.96570486e-01,\n",
       "         -9.17862752e-04,  8.51984769e-02, -2.34687179e-01,\n",
       "          1.79661289e-01, -1.77646443e-01, -9.86839533e-02,\n",
       "         -2.06771269e-01,  1.99401245e-01, -7.40846768e-02,\n",
       "         -2.70461768e-01, -1.31095737e-01,  1.43716469e-01,\n",
       "         -3.23426902e-01, -9.07440409e-02,  1.70893371e-01,\n",
       "          1.00499906e-01, -6.84454339e-03,  2.19750583e-01,\n",
       "          2.12500513e-01, -2.98738807e-01, -1.56825960e-01,\n",
       "         -3.98429893e-02,  7.17282668e-02, -2.78755724e-01,\n",
       "          8.01852047e-02,  4.88397568e-01,  1.30967647e-01,\n",
       "          1.50801226e-01,  1.07778780e-01, -2.05418780e-01,\n",
       "         -7.77925611e-01, -7.29652941e-02,  1.67006880e-01,\n",
       "          2.64049284e-02,  9.99994040e-01, -1.78329200e-01,\n",
       "         -2.43873522e-01,  2.45624050e-01, -3.15335900e-01,\n",
       "         -7.89095908e-02,  2.72395581e-01, -2.17093155e-01,\n",
       "          3.20278794e-01, -3.43946844e-01, -1.50737152e-01,\n",
       "         -2.63738364e-01,  6.58614486e-02, -2.63976306e-01,\n",
       "          3.62359941e-01,  1.82726830e-01, -2.30397493e-01,\n",
       "          7.10904449e-02, -3.09403419e-01,  1.50576413e-01,\n",
       "          1.89700618e-01,  1.85954943e-01,  7.64473602e-02,\n",
       "          1.84390575e-01, -2.83916146e-01, -1.93096057e-01,\n",
       "         -9.23107099e-03, -6.98332563e-02,  2.32229054e-01,\n",
       "         -3.84530097e-01, -3.09314430e-01, -3.59123275e-02,\n",
       "         -1.64920300e-01, -2.52670590e-02, -3.04488957e-01,\n",
       "          2.55332500e-01, -3.97244126e-01,  2.54542351e-01,\n",
       "          4.82829660e-02, -2.80789971e-01,  2.98473418e-01,\n",
       "          3.33257824e-01,  1.14550844e-01,  1.98629454e-01,\n",
       "         -2.35916466e-01,  7.97271729e-01, -2.60738581e-01,\n",
       "          2.80672520e-01, -2.43445307e-01, -1.03222132e-01,\n",
       "          1.39305443e-01,  2.78695136e-01,  2.58731484e-01,\n",
       "         -1.24041341e-01, -3.47287446e-01,  2.21795559e-01,\n",
       "         -3.23027484e-02,  1.81681052e-01, -5.58627129e-01,\n",
       "          7.81297013e-02, -4.26839054e-01, -1.72162309e-01,\n",
       "          2.03684077e-01,  1.63685158e-02,  1.15027040e-01,\n",
       "         -1.91131428e-01, -7.44060278e-01, -3.79367508e-02,\n",
       "         -2.93117732e-01,  1.49197519e-01,  1.78154245e-01,\n",
       "          2.21079290e-01,  2.26000920e-01,  2.71810859e-01,\n",
       "         -4.00624089e-02, -2.22100481e-01, -2.10526437e-01,\n",
       "         -1.27490506e-01,  1.26209408e-01, -5.45907140e-01,\n",
       "          1.02948807e-01, -1.40560940e-01, -1.80325314e-01,\n",
       "         -3.13630372e-01,  2.94358164e-01, -2.33766720e-01,\n",
       "          9.99992788e-01,  6.87835440e-02, -2.37451553e-01,\n",
       "          2.06085145e-01, -1.54187575e-01, -6.88256323e-02,\n",
       "         -8.94064158e-02, -3.35186601e-01,  2.34434813e-01,\n",
       "          6.73831701e-02, -1.01287484e-01,  2.03572541e-01,\n",
       "         -2.18367726e-01, -3.07329088e-01,  7.59122431e-01,\n",
       "          3.44209462e-01, -2.89430499e-01, -7.98506886e-02,\n",
       "         -3.97125602e-01,  1.68656297e-02, -4.11082894e-01,\n",
       "          3.27807277e-01, -2.20254645e-01,  1.44067556e-01,\n",
       "          1.53836787e-01,  4.28132683e-01, -3.37501884e-01,\n",
       "          1.65553406e-01, -3.19813520e-01, -3.35072309e-01,\n",
       "         -2.80278891e-01, -5.05557775e-01, -2.14099750e-01,\n",
       "          1.02699742e-01,  2.26111561e-01, -2.22493783e-01,\n",
       "         -1.51010687e-02,  2.98339695e-01, -2.47188359e-01,\n",
       "          1.39511719e-01, -2.92465210e-01, -2.57970363e-01,\n",
       "         -1.85030535e-01,  8.84951949e-02, -5.47839627e-02,\n",
       "         -9.66030434e-02,  3.17645371e-01,  2.39559561e-01,\n",
       "          1.58591226e-01, -1.21919513e-01, -1.56282708e-01,\n",
       "          1.53026894e-01,  2.55287170e-01,  1.97601423e-01,\n",
       "          1.28123149e-01, -2.62940556e-01, -8.71780515e-02,\n",
       "         -1.07937366e-01, -2.44017780e-01,  6.13244958e-02,\n",
       "          1.17123842e-01, -1.41857296e-01,  2.38093138e-01,\n",
       "          3.67940754e-01,  1.97539106e-01, -7.78464824e-02,\n",
       "          3.50382924e-01, -5.36867261e-01,  2.32108057e-01,\n",
       "          2.43856654e-01, -2.55367965e-01,  2.55408704e-01,\n",
       "          1.53962597e-01, -1.07989170e-01, -2.80891865e-01,\n",
       "          1.22672692e-01, -2.66851068e-01,  9.37578455e-02,\n",
       "          2.60094643e-01,  1.54930949e-01, -1.71541810e-01,\n",
       "          1.91432834e-01,  2.82985240e-01,  1.62153438e-01,\n",
       "         -2.73423493e-01, -8.87532085e-02,  2.02539399e-01,\n",
       "          2.87054718e-01, -2.55910099e-01,  3.76996785e-01,\n",
       "          2.22746283e-01, -2.14412287e-01, -2.10667476e-01,\n",
       "          1.11195222e-01, -2.21727982e-01, -1.91798493e-01,\n",
       "         -7.01794028e-02,  2.58738875e-01,  3.02804708e-01,\n",
       "         -2.48258933e-01, -1.74782217e-01, -1.79036677e-01,\n",
       "         -5.81998043e-02,  7.37134740e-02, -1.29329428e-01,\n",
       "         -3.01694602e-01,  2.90864199e-01, -3.74245048e-01,\n",
       "          1.81503311e-01,  2.65916854e-01, -2.92840540e-01,\n",
       "         -1.37726471e-01, -9.28589031e-02,  2.31985480e-01,\n",
       "          9.99994099e-01, -3.14787596e-01, -2.23573312e-01,\n",
       "         -9.99993622e-01, -5.40778637e-01, -3.31063360e-01,\n",
       "          3.94388348e-01,  1.39085039e-01, -3.49796593e-01,\n",
       "         -1.10455438e-01,  1.56939641e-01, -2.37296090e-01,\n",
       "         -2.18209371e-01,  2.54204959e-01,  4.22384024e-01,\n",
       "         -2.07681626e-01,  1.75325677e-01,  1.83572963e-01,\n",
       "          1.54148743e-01,  2.70210057e-01, -9.99988973e-01,\n",
       "         -1.37065882e-02, -9.24192742e-02, -1.26862794e-01,\n",
       "         -1.19353682e-01, -3.12065125e-01, -2.21294492e-01,\n",
       "         -1.64884076e-01,  2.40720972e-01,  2.33979568e-01,\n",
       "          2.54482508e-01, -1.32221773e-01, -3.43045354e-01,\n",
       "         -4.00780737e-01,  2.00060025e-01, -5.64588495e-02,\n",
       "          3.93241607e-02, -2.31171101e-01, -2.48150721e-01,\n",
       "          1.03781819e-01,  2.64606178e-01,  4.25513200e-02,\n",
       "          3.23784143e-01, -2.18901739e-01,  1.39453501e-01,\n",
       "         -2.76236445e-01,  9.99993443e-01,  2.19985276e-01,\n",
       "         -1.58121794e-01,  9.99993145e-01,  3.04159999e-01,\n",
       "         -9.09718201e-02, -4.87209380e-01,  1.78500503e-01,\n",
       "          2.26181090e-01,  9.99994695e-01,  8.76046270e-02,\n",
       "         -3.05580109e-01, -1.22800030e-01,  4.58474346e-02,\n",
       "          2.78363436e-01,  4.38376665e-01,  4.62215282e-02,\n",
       "         -9.99991834e-01,  1.15554363e-01,  1.97798312e-01,\n",
       "          3.73213016e-03, -1.09910041e-01,  9.99993742e-01,\n",
       "         -6.77794367e-02, -2.39069149e-01,  1.90326288e-01,\n",
       "          3.69756043e-01,  1.62367105e-01,  3.70155483e-01,\n",
       "          2.54554778e-01, -1.08206337e-02, -2.57081509e-01,\n",
       "         -6.02910481e-02, -1.29859120e-01, -3.36099476e-01,\n",
       "         -1.74001291e-01,  1.28975973e-01, -2.22971916e-01,\n",
       "         -8.83566067e-02, -3.18825841e-01,  6.00253902e-02,\n",
       "         -3.12403254e-02,  9.99991834e-01,  2.32971180e-02,\n",
       "          1.94344625e-01,  1.24554805e-01,  2.07509369e-01,\n",
       "          9.08560976e-02, -2.28315294e-01, -5.69755808e-02,\n",
       "         -3.53300363e-01,  3.31277519e-01, -3.66219074e-01,\n",
       "          2.93543518e-01,  4.77717854e-02,  1.73931181e-01,\n",
       "         -1.90979049e-01, -1.11884743e-01, -2.88001567e-01,\n",
       "          2.35007510e-01,  9.16251913e-02,  5.21409869e-01,\n",
       "          2.91329652e-01, -1.27716437e-01, -1.81330472e-01,\n",
       "          2.76393294e-01, -6.30825460e-02,  2.81789154e-01,\n",
       "         -1.74294770e-01,  9.99993682e-01,  2.65884489e-01,\n",
       "         -2.67915487e-01, -3.61119993e-02, -1.76738322e-01,\n",
       "         -2.37572208e-01, -1.91071033e-01, -3.27134162e-01,\n",
       "          6.04268193e-01,  9.42772850e-02, -5.21358289e-02,\n",
       "          2.05210179e-01,  3.14426780e-01, -4.49139737e-02,\n",
       "         -2.04452857e-01,  1.01594351e-01,  4.58779149e-02,\n",
       "          1.58616416e-02, -4.04151320e-01, -9.99994278e-01,\n",
       "         -3.82481068e-01,  2.01589033e-01, -4.28605109e-01,\n",
       "         -2.87745565e-01,  1.56644210e-02, -3.15812260e-01,\n",
       "         -7.57647902e-02, -7.57450936e-03, -3.40240775e-03,\n",
       "          1.39407843e-01, -2.60946661e-01, -2.38371551e-01,\n",
       "          1.35865346e-01, -2.71475643e-01, -2.22049266e-01,\n",
       "          2.36498550e-01,  3.31070900e-01,  3.20254058e-01,\n",
       "         -1.36222735e-01,  3.76512945e-01,  1.91313729e-01,\n",
       "         -2.94447746e-02,  2.24245429e-01, -6.99363053e-02,\n",
       "          1.01017043e-01, -3.69458169e-01, -3.10001582e-01,\n",
       "         -1.97911754e-01, -2.60747999e-01,  1.77262872e-01,\n",
       "         -2.28035584e-01, -7.17515275e-02,  1.44178152e-01,\n",
       "         -2.37904653e-01,  2.61976570e-01,  2.29270652e-01,\n",
       "         -5.32488413e-02, -2.55167484e-01,  1.26583889e-01,\n",
       "         -4.06129807e-02,  2.01585963e-01, -3.14939737e-01,\n",
       "          2.40131676e-01, -9.85943526e-03,  2.22977474e-01,\n",
       "         -2.48678133e-01, -2.53551770e-02,  1.58940494e-01,\n",
       "         -2.94479400e-01,  2.57155716e-01,  2.36408785e-01,\n",
       "          1.50489748e-01, -8.49868134e-02, -2.72679627e-01,\n",
       "          7.82948509e-02,  3.69716808e-02,  2.55102605e-01,\n",
       "          1.99405894e-01, -2.32259318e-01, -1.81308150e-01,\n",
       "         -1.78272590e-01, -2.04471916e-01, -2.67696325e-02,\n",
       "          4.24178056e-02, -9.99993324e-01, -6.17110506e-02,\n",
       "         -1.51274055e-01, -2.12448046e-01,  2.52179414e-01,\n",
       "          1.46202445e-01,  3.55716735e-01, -3.07054427e-02,\n",
       "         -5.53855360e-01,  3.19517791e-01, -5.30785248e-02,\n",
       "         -2.49267176e-01, -6.21081144e-02,  1.62833467e-01,\n",
       "         -5.64089902e-02,  1.19329229e-01, -9.99993443e-01,\n",
       "          9.38178152e-02,  1.79703727e-01, -2.71040529e-01,\n",
       "          1.98816851e-01,  2.38427714e-01, -1.46376416e-01,\n",
       "          2.15209618e-01, -9.39406976e-02,  9.17937994e-01,\n",
       "          1.17168121e-01,  1.48134157e-01, -1.92848936e-01,\n",
       "          4.32905033e-02, -1.71193615e-01, -3.18634778e-01,\n",
       "         -2.41642997e-01,  2.49901265e-01, -5.27784228e-02,\n",
       "          2.54472196e-01, -3.58431697e-01,  3.40112478e-01,\n",
       "          4.06535156e-02,  3.97518039e-01,  2.60566384e-01,\n",
       "         -1.48842737e-01,  6.29679635e-02, -1.07842878e-01,\n",
       "          2.32139602e-01,  9.74392220e-02,  2.31681406e-01,\n",
       "         -4.59731147e-02,  1.88176539e-02,  8.18130076e-02,\n",
       "         -1.90266863e-01,  2.11759418e-01,  2.07624286e-01,\n",
       "          1.33515269e-01,  3.23799819e-01,  2.36438751e-01,\n",
       "          2.28404582e-01, -1.09371051e-01, -1.06770866e-01,\n",
       "          1.32675752e-01,  1.01764694e-01, -3.61135095e-01,\n",
       "          1.35119349e-01,  1.64509505e-01,  2.25546397e-02,\n",
       "         -1.14779538e-02,  1.41590506e-01, -2.44716167e-01,\n",
       "          9.32278782e-02, -2.89373010e-01, -2.39801615e-01,\n",
       "         -2.51717210e-01,  1.35826930e-01, -1.31931081e-01,\n",
       "         -2.87790328e-01,  3.11160833e-01, -2.10526109e-01,\n",
       "         -2.93514669e-01, -1.48470536e-01, -1.19611174e-01,\n",
       "          1.92509994e-01, -1.85133353e-01, -7.71750733e-02,\n",
       "          2.21520796e-01,  2.78163135e-01,  1.27379075e-01,\n",
       "          2.33671010e-01,  1.98452160e-01, -9.92494598e-02,\n",
       "         -1.13107085e-01,  2.01459572e-01, -2.45222434e-01,\n",
       "         -3.63941133e-01,  2.50126928e-01,  2.13528901e-01,\n",
       "          1.13756306e-01,  2.29658961e-01,  6.64435476e-02,\n",
       "         -3.02600294e-01,  2.17895791e-01,  1.23297453e-01,\n",
       "         -8.20373669e-02, -2.18220055e-01,  2.30189085e-01,\n",
       "         -2.39438891e-01, -7.76786730e-02,  1.97836563e-01,\n",
       "         -9.99991834e-01,  1.21112719e-01, -2.19268546e-01,\n",
       "         -1.74105167e-01,  3.60478520e-01,  2.97597647e-01,\n",
       "          2.34875992e-01,  1.78561553e-01, -8.48837197e-02,\n",
       "         -3.10199350e-01, -2.75632858e-01, -8.79500061e-02,\n",
       "         -3.57426628e-02, -6.43678665e-01,  1.52785286e-01,\n",
       "         -3.40048075e-02, -1.96292117e-01,  2.35456005e-01,\n",
       "         -4.45197523e-01, -2.62707442e-01, -2.45040283e-01,\n",
       "         -1.84897959e-01,  2.77604759e-01,  1.06251225e-01,\n",
       "          2.52944361e-02, -4.46812302e-01, -1.39690563e-01,\n",
       "         -9.21986550e-02, -2.94506520e-01, -2.91642159e-01,\n",
       "          3.06640327e-01,  3.46634448e-01,  2.45557860e-01,\n",
       "         -6.67688787e-01,  3.07922035e-01, -1.94159374e-01,\n",
       "         -1.68479726e-01,  7.09095076e-02,  3.42126340e-01,\n",
       "          1.23601265e-01, -1.68917179e-01,  3.64595681e-01,\n",
       "         -1.39584973e-01, -3.35077733e-01,  9.44732130e-02,\n",
       "         -3.48931223e-01,  1.88707292e-01, -8.99289072e-01,\n",
       "          1.82408422e-01,  1.38246283e-01,  3.79538238e-01,\n",
       "         -2.96114534e-01,  3.60119253e-01,  1.21916167e-01,\n",
       "          1.42405838e-01,  6.55202046e-02,  2.19141468e-01,\n",
       "          6.08318374e-02,  3.27030122e-01, -1.50489107e-01,\n",
       "          3.15342516e-01,  4.80792940e-01, -9.99994218e-01,\n",
       "         -1.31965280e-01, -1.31815404e-01, -2.20489278e-01,\n",
       "         -9.99993443e-01, -9.24512297e-02,  2.32758954e-01,\n",
       "          1.06702842e-01,  2.23737732e-01,  3.27328183e-02,\n",
       "          2.70128250e-01,  3.09871703e-01, -1.72784984e-01,\n",
       "         -2.39208028e-01,  2.15468839e-01, -2.58549541e-01,\n",
       "          7.66504332e-02,  3.31485391e-01, -2.77846217e-01,\n",
       "         -2.39840955e-01,  3.05970252e-01,  3.59944910e-01,\n",
       "          4.09172267e-01, -1.29435420e-01, -5.50541759e-01,\n",
       "          4.59971607e-01, -9.24485996e-02, -8.87794122e-02,\n",
       "         -4.63469863e-01, -2.03045398e-01,  2.92973131e-01,\n",
       "          1.03803510e-02,  1.08234838e-01,  1.78060204e-01,\n",
       "          2.33219028e-01, -1.03488848e-01, -3.41166914e-01,\n",
       "          4.78498712e-02, -2.15328261e-01,  2.51447409e-01,\n",
       "          2.82238632e-01,  2.01598376e-01, -1.53522179e-01,\n",
       "          5.57184219e-01, -2.89164692e-01, -2.14874595e-01,\n",
       "          6.82180300e-02, -1.75066382e-01,  4.27733839e-01,\n",
       "         -2.20478252e-01, -2.13531032e-01,  4.22944486e-01,\n",
       "         -2.07238629e-01, -2.12713793e-01,  2.48857155e-01,\n",
       "          2.08355099e-01, -2.89166838e-01, -1.42992377e-01,\n",
       "         -1.93204299e-01,  3.24893087e-01, -9.99992311e-01,\n",
       "         -1.12574041e-01, -1.28452942e-01,  2.45405450e-01,\n",
       "          9.38722864e-02, -1.40397474e-01,  8.62284124e-01,\n",
       "          4.38322425e-01,  1.61133960e-01,  3.07781398e-01,\n",
       "         -3.50796074e-01, -1.33646592e-01, -3.50141168e-01,\n",
       "          1.72000602e-01,  1.40829608e-01, -7.06290826e-02,\n",
       "          1.54170439e-01, -2.39613712e-01, -2.60233372e-01]], dtype=float32)>)"
      ]
     },
     "execution_count": 113,
     "metadata": {},
     "output_type": "execute_result"
    }
   ],
   "source": [
    "outputs"
   ]
  },
  {
   "cell_type": "code",
   "execution_count": 96,
   "metadata": {
    "Collapsed": "false"
   },
   "outputs": [
    {
     "data": {
      "text/plain": [
       "<tf.Tensor: shape=(1, 9), dtype=int32, numpy=\n",
       "array([[  101, 13980,   117, 10103, 13630, 10127, 76416,   119,   102]],\n",
       "      dtype=int32)>"
      ]
     },
     "execution_count": 96,
     "metadata": {},
     "output_type": "execute_result"
    }
   ],
   "source": [
    "input_ids"
   ]
  },
  {
   "cell_type": "code",
   "execution_count": 97,
   "metadata": {
    "Collapsed": "false"
   },
   "outputs": [
    {
     "data": {
      "text/plain": [
       "<tf.Tensor: shape=(1, 9, 768), dtype=float32, numpy=\n",
       "array([[[-0.00212251, -0.04230585, -0.03695792, ...,  0.01820279,\n",
       "         -0.18701136,  0.03091383],\n",
       "        [ 0.10887868,  0.06550939, -0.37081745, ...,  0.21875407,\n",
       "         -0.364311  , -0.08754867],\n",
       "        [ 0.20696834, -0.19406171, -0.28209603, ..., -0.09924197,\n",
       "         -0.6044723 ,  0.06912363],\n",
       "        ...,\n",
       "        [ 0.1775671 ,  0.31336847,  0.01536524, ...,  0.12102044,\n",
       "         -0.39190322,  0.3377126 ],\n",
       "        [-0.12370267,  0.5159708 , -0.29101226, ..., -0.21107596,\n",
       "         -0.3886819 , -0.14851308],\n",
       "        [-0.01811131,  0.09140932, -0.5503062 , ...,  0.5049992 ,\n",
       "         -0.3916879 , -0.33403724]]], dtype=float32)>"
      ]
     },
     "execution_count": 97,
     "metadata": {},
     "output_type": "execute_result"
    }
   ],
   "source": [
    "last_hidden_states"
   ]
  },
  {
   "cell_type": "code",
   "execution_count": 98,
   "metadata": {
    "Collapsed": "false"
   },
   "outputs": [
    {
     "data": {
      "text/plain": [
       "[101, 13980, 117, 10103, 13630, 10127, 76416, 119, 102]"
      ]
     },
     "execution_count": 98,
     "metadata": {},
     "output_type": "execute_result"
    }
   ],
   "source": [
    "# tokens in a list format\n",
    "token_ids = tokenizer.encode_plus(sequence[0], max_length=50, pad_to_max_length=False)['input_ids']\n",
    "token_ids"
   ]
  },
  {
   "cell_type": "code",
   "execution_count": 99,
   "metadata": {
    "Collapsed": "false"
   },
   "outputs": [
    {
     "data": {
      "text/plain": [
       "['[ C L S ]',\n",
       " 't o d a y',\n",
       " ',',\n",
       " 't h e',\n",
       " 's u n',\n",
       " 'i s',\n",
       " 's h i n i n g',\n",
       " '.',\n",
       " '[ S E P ]']"
      ]
     },
     "execution_count": 99,
     "metadata": {},
     "output_type": "execute_result"
    }
   ],
   "source": [
    "labels = [tokenizer.decode(int(token_id)) for token_id in token_ids]\n",
    "labels"
   ]
  },
  {
   "cell_type": "code",
   "execution_count": 100,
   "metadata": {
    "Collapsed": "false"
   },
   "outputs": [],
   "source": [
    "#outputs = model(input_ids)"
   ]
  },
  {
   "cell_type": "code",
   "execution_count": 101,
   "metadata": {
    "Collapsed": "false"
   },
   "outputs": [],
   "source": [
    "#last_hidden_states = outputs[0]  # The last hidden-state is the first element of the output tuple"
   ]
  },
  {
   "cell_type": "code",
   "execution_count": 102,
   "metadata": {
    "Collapsed": "false"
   },
   "outputs": [
    {
     "data": {
      "text/plain": [
       "tensorflow.python.framework.ops.EagerTensor"
      ]
     },
     "execution_count": 102,
     "metadata": {},
     "output_type": "execute_result"
    }
   ],
   "source": [
    "type(last_hidden_states[0])"
   ]
  },
  {
   "cell_type": "markdown",
   "metadata": {
    "Collapsed": "false"
   },
   "source": [
    "#### Dimensionality Reduction"
   ]
  },
  {
   "cell_type": "markdown",
   "metadata": {
    "Collapsed": "false"
   },
   "source": [
    "##### t-SNE"
   ]
  },
  {
   "cell_type": "code",
   "execution_count": 103,
   "metadata": {
    "Collapsed": "false"
   },
   "outputs": [],
   "source": [
    "# adapted from https://github.com/ioannispartalas/CrossLingual-NLP-AMLD2020/blob/master/notebooks/AMLD%20Intro.ipynb\n",
    "\n",
    "# For more information of TSNE: https://scikit-learn.org/stable/modules/generated/sklearn.manifold.TSNE.html"
   ]
  },
  {
   "cell_type": "code",
   "execution_count": 104,
   "metadata": {
    "Collapsed": "false"
   },
   "outputs": [],
   "source": [
    "# error for three dimensions\n",
    "\n",
    "def plot_embeddings(tokens,labels,sequences,dimensions):\n",
    "    tsne_model = TSNE(perplexity=1.5, n_components=dimensions, init='pca', n_iter=2500, random_state=23)\n",
    "\n",
    "    if len(sequences)>1:\n",
    "        tsne_inputs = []\n",
    "        for index,sequence in enumerate(sequences):\n",
    "            tsne_inputs.append(np.array(tokens[index][0]))\n",
    "\n",
    "        tsne_outputs = []\n",
    "        for index,sequence in enumerate(sequences):\n",
    "            tsne_outputs.append(tsne_model.fit_transform(np.array(tsne_inputs[index])))\n",
    "\n",
    "        x = [list(zip(*tsne_outputs[index]))[0] for index,sequence in enumerate(sequences)]\n",
    "        y = [list(zip(*tsne_outputs[index]))[1] for index,sequence in enumerate(sequences)]\n",
    "        if dimensions == 3:\n",
    "            z = [list(zip(*tsne_outputs[index]))[2] for index,sequence in enumerate(sequences)]\n",
    "\n",
    "\n",
    "        plt.figure(figsize=(7, 6)) \n",
    "        if dimensions == 2:\n",
    "            for index in range(len(sequences)):\n",
    "                plt.scatter(x[index],y[index])\n",
    "\n",
    "                print(len(x[index]))\n",
    "\n",
    "                for i in range(len(x[index])):\n",
    "                    if index != 0:\n",
    "                        #i+index*len(x[index-1]) for the second loop is (0-10)+1*9 (which is the length of the previous iteration)\n",
    "                        plt.annotate(labels[i+index*len(x[index-1])],\n",
    "                                     xy=(x[index][i], y[index][i]),\n",
    "                                     xytext=(5, 2),\n",
    "                                     textcoords='offset points',\n",
    "                                     ha='right',\n",
    "                                     va='bottom')\n",
    "                    else:\n",
    "                        plt.annotate(labels[i],\n",
    "                                     xy=(x[index][i], y[index][i]),\n",
    "                                     xytext=(5, 2),\n",
    "                                     textcoords='offset points',\n",
    "                                     ha='right',\n",
    "                                     va='bottom')\n",
    "        #elif dimensions == 3:\n",
    "            #for index in range(len(sequences)):\n",
    "            #    plt.scatter(x[index],y[index],z[index])\n",
    "\n",
    "            #    print(len(x[index]))\n",
    "\n",
    "            #    for i in range(len(x[index])):\n",
    "            #        if index != 0:\n",
    "            #            #i+index*len(x[index-1]) for the second loop is (0-10)+1*9 (which is the length of the previous iteration)\n",
    "            #            plt.annotate(labels[i+index*len(x[index-1])],\n",
    "            #                         xyz=(x[index][i], y[index][i], z[index][i]),\n",
    "            #                         xyztext=(5, 2, 2),\n",
    "            #                         textcoords='offset points',\n",
    "            #                         ha='right',\n",
    "            #                         va='bottom')\n",
    "            #        else:\n",
    "            #            plt.annotate(labels[i],\n",
    "            #                         xyz=(x[index][i], y[index][i], z[index][i]),\n",
    "            #                         xytext=(5, 2, 2),\n",
    "            #                         textcoords='offset points',\n",
    "            #                         ha='right',\n",
    "            #                         va='bottom')\n",
    "            #            \n",
    "    else:\n",
    "        tsne_outputs = tsne_model.fit_transform(tokens)\n",
    "\n",
    "        x = tsne_outputs[:,0]\n",
    "        y = tsne_outputs[:,1]\n",
    "        if dimensions == 3:\n",
    "            z = tsne_outputs[:,2]\n",
    "\n",
    "\n",
    "        plt.figure(figsize=(7, 6)) \n",
    "        \n",
    "        if dimensions == 2:\n",
    "            plt.scatter(x,y)\n",
    "\n",
    "            print(len(x))\n",
    "            print(len(labels))\n",
    "            for i in range(len(x)):\n",
    "                plt.annotate(labels[i],\n",
    "                             xy=(x[i], y[i]),\n",
    "                             xytext=(5, 2),\n",
    "                             textcoords='offset points',\n",
    "                             ha='right',\n",
    "                             va='bottom')\n",
    "        \n",
    "        #elif dimensions == 3:\n",
    "            #plt.scatter(x,y,z)\n",
    "\n",
    "            #print(len(x))\n",
    "            #print(len(labels))\n",
    "            #for i in range(len(x)):\n",
    "            #    plt.annotate(labels[i],\n",
    "            #                 xyz=(x[i], y[i], z[i]),\n",
    "            #                 xyztext=(5, 2, 2),\n",
    "            #                 textcoords='offset points',\n",
    "            #                 ha='right',\n",
    "            #                 va='bottom')"
   ]
  },
  {
   "cell_type": "code",
   "execution_count": 105,
   "metadata": {
    "Collapsed": "false"
   },
   "outputs": [],
   "source": [
    "def plot_embeddings_old(tokens,labels,sequences):\n",
    "    tsne_model = TSNE(perplexity=1.5, n_components=2, init='pca', n_iter=2500, random_state=23)\n",
    "    new_values = tsne_model.fit_transform(tokens)\n",
    "\n",
    "    x = new_values[:,0]\n",
    "    y = new_values[:,1]\n",
    "\n",
    "\n",
    "    plt.figure(figsize=(7, 6)) \n",
    "    if len(sequences)>1:\n",
    "        \n",
    "        flatten_tokens = [item for sublist in token_ids_multiple for item in sublist]\n",
    "        start_next_sequence = int(len(flatten_tokens) / len(sequences))\n",
    "\n",
    "        plt.scatter(x[:start_next_sequence],y[:start_next_sequence])\n",
    "\n",
    "        for index,sequence in enumerate(sequences[1:]):\n",
    "            print(start_next_sequence*index)\n",
    "            print(type(start_next_sequence*index))\n",
    "            plt.scatter(x[start_next_sequence*index:],y[start_next_sequence*index:])\n",
    "    else:\n",
    "        plt.scatter(x,y)\n",
    "\n",
    "        print(len(x))\n",
    "        print(len(labels))\n",
    "        for i in range(len(x)):\n",
    "            plt.annotate(labels[i],\n",
    "                         xy=(x[i], y[i]),\n",
    "                         xytext=(5, 2),\n",
    "                         textcoords='offset points',\n",
    "                         ha='right',\n",
    "                         va='bottom')"
   ]
  },
  {
   "cell_type": "code",
   "execution_count": 106,
   "metadata": {
    "Collapsed": "false"
   },
   "outputs": [
    {
     "data": {
      "text/plain": [
       "(9, 768)"
      ]
     },
     "execution_count": 106,
     "metadata": {},
     "output_type": "execute_result"
    }
   ],
   "source": [
    "last_hidden_states.numpy()[0].shape"
   ]
  },
  {
   "cell_type": "code",
   "execution_count": 107,
   "metadata": {
    "Collapsed": "false"
   },
   "outputs": [
    {
     "data": {
      "text/plain": [
       "9"
      ]
     },
     "execution_count": 107,
     "metadata": {},
     "output_type": "execute_result"
    }
   ],
   "source": [
    "tokens = last_hidden_states.numpy()[0].tolist()\n",
    "len(tokens)"
   ]
  },
  {
   "cell_type": "code",
   "execution_count": 108,
   "metadata": {
    "Collapsed": "false"
   },
   "outputs": [
    {
     "data": {
      "text/plain": [
       "list"
      ]
     },
     "execution_count": 108,
     "metadata": {},
     "output_type": "execute_result"
    }
   ],
   "source": [
    "type(tokens)"
   ]
  },
  {
   "cell_type": "code",
   "execution_count": 109,
   "metadata": {
    "Collapsed": "false"
   },
   "outputs": [
    {
     "data": {
      "text/plain": [
       "1"
      ]
     },
     "execution_count": 109,
     "metadata": {},
     "output_type": "execute_result"
    }
   ],
   "source": [
    "len(sequence)\n"
   ]
  },
  {
   "cell_type": "code",
   "execution_count": 110,
   "metadata": {
    "Collapsed": "false"
   },
   "outputs": [
    {
     "name": "stdout",
     "output_type": "stream",
     "text": [
      "9\n",
      "9\n"
     ]
    },
    {
     "data": {
      "image/png": "[encoded data removed]",
      "text/plain": [
       "<Figure size 504x432 with 1 Axes>"
      ]
     },
     "metadata": {
      "needs_background": "light"
     },
     "output_type": "display_data"
    }
   ],
   "source": [
    "plot_embeddings(tokens,labels,sequence,2)"
   ]
  },
  {
   "cell_type": "code",
   "execution_count": 111,
   "metadata": {
    "Collapsed": "false"
   },
   "outputs": [
    {
     "name": "stdout",
     "output_type": "stream",
     "text": [
      "9\n",
      "9\n"
     ]
    },
    {
     "data": {
      "image/png": "[encoded data removed]",
      "text/plain": [
       "<Figure size 504x432 with 1 Axes>"
      ]
     },
     "metadata": {
      "needs_background": "light"
     },
     "output_type": "display_data"
    }
   ],
   "source": [
    "plot_embeddings_old(tokens,labels,sequence)"
   ]
  },
  {
   "cell_type": "markdown",
   "metadata": {
    "Collapsed": "false"
   },
   "source": [
    "### 2. Multiple Sentences"
   ]
  },
  {
   "cell_type": "markdown",
   "metadata": {
    "Collapsed": "false"
   },
   "source": [
    "#### Extract Embeddings from BERT"
   ]
  },
  {
   "cell_type": "code",
   "execution_count": 68,
   "metadata": {
    "Collapsed": "false"
   },
   "outputs": [],
   "source": [
    "sequences = [\"The sun is shining today.\",\"Heute scheint die Sonne.\"]\n"
   ]
  },
  {
   "cell_type": "code",
   "execution_count": 69,
   "metadata": {
    "Collapsed": "false"
   },
   "outputs": [
    {
     "name": "stdout",
     "output_type": "stream",
     "text": [
      "0\n",
      "1\n"
     ]
    }
   ],
   "source": [
    "input_ids_multiple = []\n",
    "outputs_multiple = []\n",
    "last_hidden_states_multiple = []\n",
    "token_ids_multiple = []\n",
    "for index,sequence in enumerate(sequences):\n",
    "    print(index)\n",
    "    #input_ids_multiple = [tf.constant(tokenizer.encode(sequences[index]))[None, :] for index,sequence in enumerate(sequences)] # Batch size 1\n",
    "\n",
    "    input_ids_multiple.append(tf.constant(tokenizer.encode(sequences[index]))[None, :])\n",
    "\n",
    "#for index,sequence in enumerate(sequences):    \n",
    "    outputs_multiple.append(model(input_ids_multiple[index]))\n",
    "    last_hidden_states_multiple.append(outputs_multiple[index][0])\n",
    "    token_ids_multiple.append(tokenizer.encode_plus(sequences[index], max_length=50, pad_to_max_length=False)['input_ids'])\n"
   ]
  },
  {
   "cell_type": "code",
   "execution_count": 70,
   "metadata": {
    "Collapsed": "false"
   },
   "outputs": [
    {
     "data": {
      "text/plain": [
       "[<tf.Tensor: shape=(1, 8), dtype=int32, numpy=\n",
       " array([[  101, 10103, 13630, 10127, 76416, 13980,   119,   102]],\n",
       "       dtype=int32)>,\n",
       " <tf.Tensor: shape=(1, 7), dtype=int32, numpy=array([[  101, 12830, 63670, 10121, 55772,   119,   102]], dtype=int32)>]"
      ]
     },
     "execution_count": 70,
     "metadata": {},
     "output_type": "execute_result"
    }
   ],
   "source": [
    "input_ids_multiple"
   ]
  },
  {
   "cell_type": "code",
   "execution_count": 71,
   "metadata": {
    "Collapsed": "false"
   },
   "outputs": [
    {
     "data": {
      "text/plain": [
       "<tf.Tensor: shape=(1, 7, 768), dtype=float32, numpy=\n",
       "array([[[-0.03728386, -0.06621784,  0.00267007, ...,  0.0095383 ,\n",
       "         -0.02197413,  0.01682217],\n",
       "        [-0.2239869 ,  0.10805385, -0.11152601, ..., -0.19501083,\n",
       "          0.14965147, -0.18606436],\n",
       "        [ 0.14967746,  0.06670024, -0.10517658, ...,  0.10906505,\n",
       "          0.4234122 ,  0.1378217 ],\n",
       "        ...,\n",
       "        [-0.3265287 ,  0.26770118, -0.03685226, ...,  0.03913976,\n",
       "          0.1486316 ,  0.13926286],\n",
       "        [-0.04917366,  0.17850429, -0.10172349, ..., -0.07809272,\n",
       "         -0.22293195, -0.5380194 ],\n",
       "        [-0.45162228,  0.3646025 , -0.5640673 , ...,  0.4400453 ,\n",
       "          0.22719723, -0.901891  ]]], dtype=float32)>"
      ]
     },
     "execution_count": 71,
     "metadata": {},
     "output_type": "execute_result"
    }
   ],
   "source": [
    "outputs_multiple[1][0]"
   ]
  },
  {
   "cell_type": "code",
   "execution_count": 72,
   "metadata": {
    "Collapsed": "false"
   },
   "outputs": [
    {
     "data": {
      "text/plain": [
       "[<tf.Tensor: shape=(1, 8, 768), dtype=float32, numpy=\n",
       " array([[[-0.04357933, -0.04203939, -0.01226367, ...,  0.00603494,\n",
       "          -0.16497874,  0.06665322],\n",
       "         [ 0.3022419 ,  0.16545165, -0.00670882, ..., -0.39213207,\n",
       "           0.36342543, -0.09476599],\n",
       "         [ 0.15484755,  0.11077944, -0.2748264 , ...,  0.11286385,\n",
       "          -0.04750642,  0.44121438],\n",
       "         ...,\n",
       "         [ 0.24884075, -0.13286759,  0.07762373, ...,  0.6459499 ,\n",
       "          -0.5612527 , -0.09073683],\n",
       "         [-0.0381079 ,  0.53142595, -0.34584787, ..., -0.13847667,\n",
       "          -0.41139948, -0.06327479],\n",
       "         [ 0.00585468,  0.15419501, -0.5263755 , ...,  0.5416797 ,\n",
       "          -0.13099965, -0.3099177 ]]], dtype=float32)>,\n",
       " <tf.Tensor: shape=(1, 7, 768), dtype=float32, numpy=\n",
       " array([[[-0.03728386, -0.06621784,  0.00267007, ...,  0.0095383 ,\n",
       "          -0.02197413,  0.01682217],\n",
       "         [-0.2239869 ,  0.10805385, -0.11152601, ..., -0.19501083,\n",
       "           0.14965147, -0.18606436],\n",
       "         [ 0.14967746,  0.06670024, -0.10517658, ...,  0.10906505,\n",
       "           0.4234122 ,  0.1378217 ],\n",
       "         ...,\n",
       "         [-0.3265287 ,  0.26770118, -0.03685226, ...,  0.03913976,\n",
       "           0.1486316 ,  0.13926286],\n",
       "         [-0.04917366,  0.17850429, -0.10172349, ..., -0.07809272,\n",
       "          -0.22293195, -0.5380194 ],\n",
       "         [-0.45162228,  0.3646025 , -0.5640673 , ...,  0.4400453 ,\n",
       "           0.22719723, -0.901891  ]]], dtype=float32)>]"
      ]
     },
     "execution_count": 72,
     "metadata": {},
     "output_type": "execute_result"
    }
   ],
   "source": [
    "last_hidden_states_multiple"
   ]
  },
  {
   "cell_type": "code",
   "execution_count": 73,
   "metadata": {
    "Collapsed": "false"
   },
   "outputs": [
    {
     "data": {
      "text/plain": [
       "[[101, 10103, 13630, 10127, 76416, 13980, 119, 102],\n",
       " [101, 12830, 63670, 10121, 55772, 119, 102]]"
      ]
     },
     "execution_count": 73,
     "metadata": {},
     "output_type": "execute_result"
    }
   ],
   "source": [
    "# tokens\n",
    "token_ids_multiple"
   ]
  },
  {
   "cell_type": "code",
   "execution_count": 74,
   "metadata": {
    "Collapsed": "false"
   },
   "outputs": [
    {
     "data": {
      "text/plain": [
       "[101,\n",
       " 10103,\n",
       " 13630,\n",
       " 10127,\n",
       " 76416,\n",
       " 13980,\n",
       " 119,\n",
       " 102,\n",
       " 101,\n",
       " 12830,\n",
       " 63670,\n",
       " 10121,\n",
       " 55772,\n",
       " 119,\n",
       " 102]"
      ]
     },
     "execution_count": 74,
     "metadata": {},
     "output_type": "execute_result"
    }
   ],
   "source": [
    "# this is not used anymore\n",
    "flatten_tokens_multiple = [item for sublist in token_ids_multiple for item in sublist]\n",
    "flatten_tokens_multiple"
   ]
  },
  {
   "cell_type": "code",
   "execution_count": 75,
   "metadata": {
    "Collapsed": "false"
   },
   "outputs": [
    {
     "data": {
      "text/plain": [
       "['[ C L S ]',\n",
       " 't h e',\n",
       " 's u n',\n",
       " 'i s',\n",
       " 's h i n i n g',\n",
       " 't o d a y',\n",
       " '.',\n",
       " '[ S E P ]',\n",
       " '[ C L S ]',\n",
       " 'h e u t e',\n",
       " 's c h e i n t',\n",
       " 'd i e',\n",
       " 's o n n e',\n",
       " '.',\n",
       " '[ S E P ]']"
      ]
     },
     "execution_count": 75,
     "metadata": {},
     "output_type": "execute_result"
    }
   ],
   "source": [
    "labels_multiple = [tokenizer.decode(int(token_id)) for token_id in flatten_tokens_multiple] \n",
    "labels_multiple"
   ]
  },
  {
   "cell_type": "code",
   "execution_count": 76,
   "metadata": {
    "Collapsed": "false"
   },
   "outputs": [
    {
     "name": "stdout",
     "output_type": "stream",
     "text": [
      "15 15\n"
     ]
    }
   ],
   "source": [
    "print(len(labels_multiple), len(flatten_tokens_multiple))"
   ]
  },
  {
   "cell_type": "markdown",
   "metadata": {
    "Collapsed": "false"
   },
   "source": [
    "#### Dimensionality Reduction"
   ]
  },
  {
   "cell_type": "markdown",
   "metadata": {
    "Collapsed": "false"
   },
   "source": [
    "##### T-SNE"
   ]
  },
  {
   "cell_type": "code",
   "execution_count": 77,
   "metadata": {
    "Collapsed": "false"
   },
   "outputs": [],
   "source": [
    "#tsne_inputs = []\n",
    "#for index,sequence in enumerate(sequences):\n",
    "#    tsne_inputs.append(np.array(last_hidden_states_multiple[index][0]))"
   ]
  },
  {
   "cell_type": "code",
   "execution_count": 78,
   "metadata": {
    "Collapsed": "false"
   },
   "outputs": [],
   "source": [
    "#tsne_model = TSNE(perplexity=1.5, n_components=2, init='pca', n_iter=2500, random_state=23)\n",
    "#tsne_outputs = []\n",
    "#for index,sequence in enumerate(sequences):\n",
    "#    tsne_outputs.append(tsne_model.fit_transform(np.array(tsne_inputs[index])))\n",
    "    \n",
    "#tsne_outputs\n",
    "#new_values = [tsne_model.fit_transform(last_hidden_states_multiple) for sequence in sequences]\n",
    "#new_values\n",
    "#np.array(new_values)"
   ]
  },
  {
   "cell_type": "code",
   "execution_count": 79,
   "metadata": {
    "Collapsed": "false"
   },
   "outputs": [],
   "source": [
    "#print(len(list(zip(*tsne_outputs[0]))[0]), \\\n",
    "#len(list(zip(*tsne_outputs[1]))[0]))"
   ]
  },
  {
   "cell_type": "code",
   "execution_count": 80,
   "metadata": {
    "Collapsed": "false"
   },
   "outputs": [],
   "source": [
    "#x = [list(zip(*tsne_outputs[index]))[0] for index,sequence in enumerate(sequences)]\n",
    "#y = [list(zip(*tsne_outputs[index]))[1] for index,sequence in enumerate(sequences)]\n",
    "#x\n",
    "#tsne_outputs[0][:]\n",
    "#tsne_outputs[:,0]\n",
    "#tsne_outputs[index_sequence][index_array][0]"
   ]
  },
  {
   "cell_type": "code",
   "execution_count": 81,
   "metadata": {
    "Collapsed": "false"
   },
   "outputs": [],
   "source": [
    "#next(zip(*tsne_outputs))"
   ]
  },
  {
   "cell_type": "code",
   "execution_count": 82,
   "metadata": {
    "Collapsed": "false"
   },
   "outputs": [],
   "source": [
    "#all_tokens_multiple = [last_hidden_states_multiple[index][0] for index,sequence in enumerate(sequences)]\n",
    "#all_tokens_multiple\n",
    "#all_tokens_multiple[0].numpy()[0].shape\n",
    "#all_tokens_multiple[0].numpy()[0].tolist()"
   ]
  },
  {
   "cell_type": "code",
   "execution_count": 83,
   "metadata": {
    "Collapsed": "false"
   },
   "outputs": [],
   "source": [
    "#tokens_multiple = [all_tokens_multiple[index].numpy()[0].tolist() for index,sequence in enumerate(sequences)][0]"
   ]
  },
  {
   "cell_type": "code",
   "execution_count": 84,
   "metadata": {
    "Collapsed": "false"
   },
   "outputs": [],
   "source": [
    "#print(\"tokens: \",len(tokens_multiple),\"  dimensions: \",len(tokens_multiple[0]))"
   ]
  },
  {
   "cell_type": "code",
   "execution_count": 85,
   "metadata": {
    "Collapsed": "false"
   },
   "outputs": [],
   "source": [
    "#len(all_tokens_multiple[0])"
   ]
  },
  {
   "cell_type": "code",
   "execution_count": 86,
   "metadata": {
    "Collapsed": "false"
   },
   "outputs": [],
   "source": [
    "#tsne_model = TSNE(perplexity=1.5, n_components=2, init='pca', n_iter=2500, random_state=23)\n",
    "#new_values = [tsne_model.fit_transform(tokens_multiple) for sequence in sequences]\n",
    "#new_values\n",
    "#np.array(new_values)"
   ]
  },
  {
   "cell_type": "code",
   "execution_count": 87,
   "metadata": {
    "Collapsed": "false"
   },
   "outputs": [],
   "source": [
    "#sequence_1 = tsne_model.fit_transform(tokens_multiple[:len(tokens_multiple[0])])\n",
    "#sequence_1"
   ]
  },
  {
   "cell_type": "code",
   "execution_count": 88,
   "metadata": {
    "Collapsed": "false"
   },
   "outputs": [],
   "source": [
    "#sequence_2 = tsne_model.fit_transform(tokens_multiple[len(tokens_multiple[0]):])\n",
    "#sequence_2"
   ]
  },
  {
   "cell_type": "code",
   "execution_count": 89,
   "metadata": {
    "Collapsed": "false"
   },
   "outputs": [],
   "source": [
    "#len(x[0])"
   ]
  },
  {
   "cell_type": "code",
   "execution_count": 90,
   "metadata": {
    "Collapsed": "false"
   },
   "outputs": [],
   "source": [
    "#range(len(sequences))"
   ]
  },
  {
   "cell_type": "code",
   "execution_count": 91,
   "metadata": {
    "Collapsed": "false"
   },
   "outputs": [],
   "source": [
    "#tsne_model = TSNE(perplexity=1.5, n_components=2, init='pca', n_iter=2500, random_state=23)\n",
    "#new_values = [tsne_model.fit_transform(tokens_multiple) for sequence in sequences]\n",
    "\n",
    "\n",
    "#plt.figure(figsize=(7, 6)) \n",
    "#for index in range(len(sequences)):\n",
    "#    plt.scatter(x[index],y[index])\n",
    "#    for i in range(len(x[index])):\n",
    "#        plt.annotate(labels_multiple[i],\n",
    "#                     xy=(x[index][i], y[index][i]),\n",
    "#                     xytext=(5, 2),\n",
    "#                     textcoords='offset points',\n",
    "#                     ha='right',\n",
    "#                     va='bottom')"
   ]
  },
  {
   "cell_type": "code",
   "execution_count": 92,
   "metadata": {
    "Collapsed": "false"
   },
   "outputs": [],
   "source": [
    "#tsne_model = TSNE(perplexity=1.5, n_components=2, init='pca', n_iter=2500, random_state=23)\n",
    "#new_values = tsne_model.fit_transform(tokens)\n",
    "\n",
    "#x = new_values[:,0]\n",
    "#y = new_values[:,1]\n",
    "\n",
    "#start_next_sequence = int(len(tokens) / len(sequences))\n",
    "\n",
    "#plt.figure(figsize=(7, 6)) \n",
    "#plt.scatter(x[:start_next_sequence],y[:start_next_sequence])\n",
    "#plt.scatter(x[start_next_sequence:],y[start_next_sequence:])\n",
    "\n",
    "#for i in range(len(x)):\n",
    "#    plt.annotate(labels[i],\n",
    "#                 xy=(x[i], y[i]),\n",
    "#                 xytext=(5, 2),\n",
    "#                 textcoords='offset points',\n",
    "#                 ha='right',\n",
    "#                 va='bottom')"
   ]
  },
  {
   "cell_type": "code",
   "execution_count": 93,
   "metadata": {
    "Collapsed": "false"
   },
   "outputs": [
    {
     "name": "stdout",
     "output_type": "stream",
     "text": [
      "8\n",
      "7\n"
     ]
    },
    {
     "data": {
      "image/png": "[encoded data removed]",
      "text/plain": [
       "<Figure size 504x432 with 1 Axes>"
      ]
     },
     "metadata": {
      "needs_background": "light"
     },
     "output_type": "display_data"
    }
   ],
   "source": [
    "plot_embeddings(last_hidden_states_multiple,labels_multiple,sequences,2)"
   ]
  },
  {
   "cell_type": "code",
   "execution_count": 114,
   "metadata": {
    "Collapsed": "false"
   },
   "outputs": [
    {
     "data": {
      "text/plain": [
       "<Figure size 504x432 with 0 Axes>"
      ]
     },
     "metadata": {},
     "output_type": "display_data"
    }
   ],
   "source": [
    "plot_embeddings(last_hidden_states_multiple,labels_multiple,sequences,3)\n",
    "# dimension 3 requires a z axis and a new plot..."
   ]
  },
  {
   "cell_type": "markdown",
   "metadata": {
    "Collapsed": "false"
   },
   "source": [
    "### Word translations"
   ]
  },
  {
   "cell_type": "code",
   "execution_count": 115,
   "metadata": {
    "Collapsed": "false"
   },
   "outputs": [],
   "source": [
    "words_en = [\"sun\",\"dog\",\"queen\",\"king\",\"street\",\"wonderful\",\"car\"]\n",
    "words_de = [\"Sonne\",\"Hund\",\"Königin\",\"König\",\"Strasse\",\"wunderbar\",\"Auto\"]\n",
    "words_fr = [\"soleil\",\"chien\",\"reine\",\"roi\",\"rue\",\"merveilleux\",\"voiture\"]"
   ]
  },
  {
   "cell_type": "code",
   "execution_count": 117,
   "metadata": {
    "Collapsed": "false"
   },
   "outputs": [
    {
     "data": {
      "text/plain": [
       "[['sun', 'dog', 'queen', 'king', 'street', 'wonderful', 'car'],\n",
       " ['Sonne', 'Hund', 'Königin', 'König', 'Strasse', 'wunderbar', 'Auto'],\n",
       " ['soleil', 'chien', 'reine', 'roi', 'rue', 'merveilleux', 'voiture']]"
      ]
     },
     "execution_count": 117,
     "metadata": {},
     "output_type": "execute_result"
    }
   ],
   "source": [
    "words = [words_en, words_de, words_fr]\n",
    "words"
   ]
  },
  {
   "cell_type": "code",
   "execution_count": 126,
   "metadata": {
    "Collapsed": "false"
   },
   "outputs": [],
   "source": [
    "# embeddings \n",
    "input_ids_en = tf.constant(tokenizer.encode(words[0]))[None, :] # Batch size 1\n",
    "outputs_en = model(input_ids)\n",
    "last_hidden_states_en = outputs[0]  # The last hidden-state is the first element of the output tuple"
   ]
  },
  {
   "cell_type": "code",
   "execution_count": null,
   "metadata": {},
   "outputs": [],
   "source": []
  },
  {
   "cell_type": "code",
   "execution_count": 125,
   "metadata": {
    "Collapsed": "false"
   },
   "outputs": [
    {
     "ename": "InvalidArgumentError",
     "evalue": "slice index 1 of dimension 0 out of bounds. [Op:StridedSlice] name: strided_slice/",
     "output_type": "error",
     "traceback": [
      "\u001b[0;31m---------------------------------------------------------------------------\u001b[0m",
      "\u001b[0;31mInvalidArgumentError\u001b[0m                      Traceback (most recent call last)",
      "\u001b[0;32m<ipython-input-125-57054158483c>\u001b[0m in \u001b[0;36m<module>\u001b[0;34m\u001b[0m\n\u001b[0;32m----> 1\u001b[0;31m \u001b[0mplot_embeddings\u001b[0m\u001b[0;34m(\u001b[0m\u001b[0mlast_hidden_states_en\u001b[0m\u001b[0;34m,\u001b[0m\u001b[0mlabels_multiple\u001b[0m\u001b[0;34m,\u001b[0m\u001b[0msequences\u001b[0m\u001b[0;34m,\u001b[0m\u001b[0;36m2\u001b[0m\u001b[0;34m)\u001b[0m\u001b[0;34m\u001b[0m\u001b[0;34m\u001b[0m\u001b[0m\n\u001b[0m",
      "\u001b[0;32m<ipython-input-104-c42f1f17da52>\u001b[0m in \u001b[0;36mplot_embeddings\u001b[0;34m(tokens, labels, sequences, dimensions)\u001b[0m\n\u001b[1;32m      7\u001b[0m         \u001b[0mtsne_inputs\u001b[0m \u001b[0;34m=\u001b[0m \u001b[0;34m[\u001b[0m\u001b[0;34m]\u001b[0m\u001b[0;34m\u001b[0m\u001b[0;34m\u001b[0m\u001b[0m\n\u001b[1;32m      8\u001b[0m         \u001b[0;32mfor\u001b[0m \u001b[0mindex\u001b[0m\u001b[0;34m,\u001b[0m\u001b[0msequence\u001b[0m \u001b[0;32min\u001b[0m \u001b[0menumerate\u001b[0m\u001b[0;34m(\u001b[0m\u001b[0msequences\u001b[0m\u001b[0;34m)\u001b[0m\u001b[0;34m:\u001b[0m\u001b[0;34m\u001b[0m\u001b[0;34m\u001b[0m\u001b[0m\n\u001b[0;32m----> 9\u001b[0;31m             \u001b[0mtsne_inputs\u001b[0m\u001b[0;34m.\u001b[0m\u001b[0mappend\u001b[0m\u001b[0;34m(\u001b[0m\u001b[0mnp\u001b[0m\u001b[0;34m.\u001b[0m\u001b[0marray\u001b[0m\u001b[0;34m(\u001b[0m\u001b[0mtokens\u001b[0m\u001b[0;34m[\u001b[0m\u001b[0mindex\u001b[0m\u001b[0;34m]\u001b[0m\u001b[0;34m[\u001b[0m\u001b[0;36m0\u001b[0m\u001b[0;34m]\u001b[0m\u001b[0;34m)\u001b[0m\u001b[0;34m)\u001b[0m\u001b[0;34m\u001b[0m\u001b[0;34m\u001b[0m\u001b[0m\n\u001b[0m\u001b[1;32m     10\u001b[0m \u001b[0;34m\u001b[0m\u001b[0m\n\u001b[1;32m     11\u001b[0m         \u001b[0mtsne_outputs\u001b[0m \u001b[0;34m=\u001b[0m \u001b[0;34m[\u001b[0m\u001b[0;34m]\u001b[0m\u001b[0;34m\u001b[0m\u001b[0;34m\u001b[0m\u001b[0m\n",
      "\u001b[0;32m/home/.conda-env/env_multilingual_class/lib/python3.7/site-packages/tensorflow_core/python/ops/array_ops.py\u001b[0m in \u001b[0;36m_slice_helper\u001b[0;34m(tensor, slice_spec, var)\u001b[0m\n\u001b[1;32m    896\u001b[0m         \u001b[0mellipsis_mask\u001b[0m\u001b[0;34m=\u001b[0m\u001b[0mellipsis_mask\u001b[0m\u001b[0;34m,\u001b[0m\u001b[0;34m\u001b[0m\u001b[0;34m\u001b[0m\u001b[0m\n\u001b[1;32m    897\u001b[0m         \u001b[0mvar\u001b[0m\u001b[0;34m=\u001b[0m\u001b[0mvar\u001b[0m\u001b[0;34m,\u001b[0m\u001b[0;34m\u001b[0m\u001b[0;34m\u001b[0m\u001b[0m\n\u001b[0;32m--> 898\u001b[0;31m         name=name)\n\u001b[0m\u001b[1;32m    899\u001b[0m \u001b[0;34m\u001b[0m\u001b[0m\n\u001b[1;32m    900\u001b[0m \u001b[0;34m\u001b[0m\u001b[0m\n",
      "\u001b[0;32m/home/.conda-env/env_multilingual_class/lib/python3.7/site-packages/tensorflow_core/python/ops/array_ops.py\u001b[0m in \u001b[0;36mstrided_slice\u001b[0;34m(input_, begin, end, strides, begin_mask, end_mask, ellipsis_mask, new_axis_mask, shrink_axis_mask, var, name)\u001b[0m\n\u001b[1;32m   1062\u001b[0m       \u001b[0mellipsis_mask\u001b[0m\u001b[0;34m=\u001b[0m\u001b[0mellipsis_mask\u001b[0m\u001b[0;34m,\u001b[0m\u001b[0;34m\u001b[0m\u001b[0;34m\u001b[0m\u001b[0m\n\u001b[1;32m   1063\u001b[0m       \u001b[0mnew_axis_mask\u001b[0m\u001b[0;34m=\u001b[0m\u001b[0mnew_axis_mask\u001b[0m\u001b[0;34m,\u001b[0m\u001b[0;34m\u001b[0m\u001b[0;34m\u001b[0m\u001b[0m\n\u001b[0;32m-> 1064\u001b[0;31m       shrink_axis_mask=shrink_axis_mask)\n\u001b[0m\u001b[1;32m   1065\u001b[0m \u001b[0;34m\u001b[0m\u001b[0m\n\u001b[1;32m   1066\u001b[0m   \u001b[0mparent_name\u001b[0m \u001b[0;34m=\u001b[0m \u001b[0mname\u001b[0m\u001b[0;34m\u001b[0m\u001b[0;34m\u001b[0m\u001b[0m\n",
      "\u001b[0;32m/home/.conda-env/env_multilingual_class/lib/python3.7/site-packages/tensorflow_core/python/ops/gen_array_ops.py\u001b[0m in \u001b[0;36mstrided_slice\u001b[0;34m(input, begin, end, strides, begin_mask, end_mask, ellipsis_mask, new_axis_mask, shrink_axis_mask, name)\u001b[0m\n\u001b[1;32m   9511\u001b[0m         \u001b[0;32mpass\u001b[0m  \u001b[0;31m# Add nodes to the TensorFlow graph.\u001b[0m\u001b[0;34m\u001b[0m\u001b[0;34m\u001b[0m\u001b[0m\n\u001b[1;32m   9512\u001b[0m     \u001b[0;32mexcept\u001b[0m \u001b[0m_core\u001b[0m\u001b[0;34m.\u001b[0m\u001b[0m_NotOkStatusException\u001b[0m \u001b[0;32mas\u001b[0m \u001b[0me\u001b[0m\u001b[0;34m:\u001b[0m\u001b[0;34m\u001b[0m\u001b[0;34m\u001b[0m\u001b[0m\n\u001b[0;32m-> 9513\u001b[0;31m       \u001b[0m_ops\u001b[0m\u001b[0;34m.\u001b[0m\u001b[0mraise_from_not_ok_status\u001b[0m\u001b[0;34m(\u001b[0m\u001b[0me\u001b[0m\u001b[0;34m,\u001b[0m \u001b[0mname\u001b[0m\u001b[0;34m)\u001b[0m\u001b[0;34m\u001b[0m\u001b[0;34m\u001b[0m\u001b[0m\n\u001b[0m\u001b[1;32m   9514\u001b[0m   \u001b[0;31m# Add nodes to the TensorFlow graph.\u001b[0m\u001b[0;34m\u001b[0m\u001b[0;34m\u001b[0m\u001b[0;34m\u001b[0m\u001b[0m\n\u001b[1;32m   9515\u001b[0m   \u001b[0;32mif\u001b[0m \u001b[0mbegin_mask\u001b[0m \u001b[0;32mis\u001b[0m \u001b[0;32mNone\u001b[0m\u001b[0;34m:\u001b[0m\u001b[0;34m\u001b[0m\u001b[0;34m\u001b[0m\u001b[0m\n",
      "\u001b[0;32m/home/.conda-env/env_multilingual_class/lib/python3.7/site-packages/tensorflow_core/python/framework/ops.py\u001b[0m in \u001b[0;36mraise_from_not_ok_status\u001b[0;34m(e, name)\u001b[0m\n\u001b[1;32m   6604\u001b[0m   \u001b[0mmessage\u001b[0m \u001b[0;34m=\u001b[0m \u001b[0me\u001b[0m\u001b[0;34m.\u001b[0m\u001b[0mmessage\u001b[0m \u001b[0;34m+\u001b[0m \u001b[0;34m(\u001b[0m\u001b[0;34m\" name: \"\u001b[0m \u001b[0;34m+\u001b[0m \u001b[0mname\u001b[0m \u001b[0;32mif\u001b[0m \u001b[0mname\u001b[0m \u001b[0;32mis\u001b[0m \u001b[0;32mnot\u001b[0m \u001b[0;32mNone\u001b[0m \u001b[0;32melse\u001b[0m \u001b[0;34m\"\"\u001b[0m\u001b[0;34m)\u001b[0m\u001b[0;34m\u001b[0m\u001b[0;34m\u001b[0m\u001b[0m\n\u001b[1;32m   6605\u001b[0m   \u001b[0;31m# pylint: disable=protected-access\u001b[0m\u001b[0;34m\u001b[0m\u001b[0;34m\u001b[0m\u001b[0;34m\u001b[0m\u001b[0m\n\u001b[0;32m-> 6606\u001b[0;31m   \u001b[0msix\u001b[0m\u001b[0;34m.\u001b[0m\u001b[0mraise_from\u001b[0m\u001b[0;34m(\u001b[0m\u001b[0mcore\u001b[0m\u001b[0;34m.\u001b[0m\u001b[0m_status_to_exception\u001b[0m\u001b[0;34m(\u001b[0m\u001b[0me\u001b[0m\u001b[0;34m.\u001b[0m\u001b[0mcode\u001b[0m\u001b[0;34m,\u001b[0m \u001b[0mmessage\u001b[0m\u001b[0;34m)\u001b[0m\u001b[0;34m,\u001b[0m \u001b[0;32mNone\u001b[0m\u001b[0;34m)\u001b[0m\u001b[0;34m\u001b[0m\u001b[0;34m\u001b[0m\u001b[0m\n\u001b[0m\u001b[1;32m   6607\u001b[0m   \u001b[0;31m# pylint: enable=protected-access\u001b[0m\u001b[0;34m\u001b[0m\u001b[0;34m\u001b[0m\u001b[0;34m\u001b[0m\u001b[0m\n\u001b[1;32m   6608\u001b[0m \u001b[0;34m\u001b[0m\u001b[0m\n",
      "\u001b[0;32m/home/.conda-env/env_multilingual_class/lib/python3.7/site-packages/six.py\u001b[0m in \u001b[0;36mraise_from\u001b[0;34m(value, from_value)\u001b[0m\n",
      "\u001b[0;31mInvalidArgumentError\u001b[0m: slice index 1 of dimension 0 out of bounds. [Op:StridedSlice] name: strided_slice/"
     ]
    }
   ],
   "source": [
    "#plot_embeddings(last_hidden_states_en,labels_multiple,sequences,2)"
   ]
  },
  {
   "cell_type": "code",
   "execution_count": null,
   "metadata": {
    "Collapsed": "false"
   },
   "outputs": [],
   "source": []
  },
  {
   "cell_type": "code",
   "execution_count": null,
   "metadata": {
    "Collapsed": "false"
   },
   "outputs": [],
   "source": []
  },
  {
   "cell_type": "code",
   "execution_count": null,
   "metadata": {
    "Collapsed": "false"
   },
   "outputs": [],
   "source": []
  },
  {
   "cell_type": "code",
   "execution_count": null,
   "metadata": {
    "Collapsed": "false"
   },
   "outputs": [],
   "source": []
  },
  {
   "cell_type": "code",
   "execution_count": null,
   "metadata": {
    "Collapsed": "false"
   },
   "outputs": [],
   "source": []
  },
  {
   "cell_type": "markdown",
   "metadata": {
    "Collapsed": "false"
   },
   "source": [
    "#### PCA"
   ]
  },
  {
   "cell_type": "code",
   "execution_count": null,
   "metadata": {
    "Collapsed": "false"
   },
   "outputs": [],
   "source": []
  },
  {
   "cell_type": "code",
   "execution_count": null,
   "metadata": {
    "Collapsed": "false"
   },
   "outputs": [],
   "source": []
  },
  {
   "cell_type": "code",
   "execution_count": null,
   "metadata": {
    "Collapsed": "false"
   },
   "outputs": [],
   "source": []
  },
  {
   "cell_type": "code",
   "execution_count": null,
   "metadata": {
    "Collapsed": "false"
   },
   "outputs": [],
   "source": []
  },
  {
   "cell_type": "code",
   "execution_count": null,
   "metadata": {
    "Collapsed": "false"
   },
   "outputs": [],
   "source": []
  }
 ],
 "metadata": {
  "kernelspec": {
   "display_name": "Python [conda env:env_multilingual_class]",
   "language": "python",
   "name": "conda-env-env_multilingual_class-py"
  },
  "language_info": {
   "codemirror_mode": {
    "name": "ipython",
    "version": 3
   },
   "file_extension": ".py",
   "mimetype": "text/x-python",
   "name": "python",
   "nbconvert_exporter": "python",
   "pygments_lexer": "ipython3",
   "version": "3.7.6"
  }
 },
 "nbformat": 4,
 "nbformat_minor": 4
}
