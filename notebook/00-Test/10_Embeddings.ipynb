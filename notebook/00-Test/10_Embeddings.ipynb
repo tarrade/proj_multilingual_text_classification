{
 "cells": [
  {
   "cell_type": "markdown",
   "metadata": {
    "Collapsed": "false"
   },
   "source": [
    "## Experiments with Embeddings"
   ]
  },
  {
   "cell_type": "markdown",
   "metadata": {
    "Collapsed": "false"
   },
   "source": [
    "This notebook is used to experiment with different embeddings we retrieve from language models like BERT and GPT-2. \n",
    "Ultimately, words translated in different languages are plotted against each other to show the capabilities of cross-lingual embeddings."
   ]
  },
  {
   "cell_type": "code",
   "execution_count": 1,
   "metadata": {
    "Collapsed": "false"
   },
   "outputs": [],
   "source": [
    "import matplotlib.pyplot as plt\n",
    "import numpy as np\n",
    "from sklearn.manifold import TSNE"
   ]
  },
  {
   "cell_type": "markdown",
   "metadata": {
    "Collapsed": "false"
   },
   "source": [
    "### 1. Single Sentence"
   ]
  },
  {
   "cell_type": "markdown",
   "metadata": {
    "Collapsed": "false"
   },
   "source": [
    "#### Extract Embeddings from BERT"
   ]
  },
  {
   "cell_type": "code",
   "execution_count": 2,
   "metadata": {
    "Collapsed": "false"
   },
   "outputs": [],
   "source": [
    "# from https://github.com/huggingface/transformers/issues/1950\n",
    "import tensorflow as tf\n",
    "from transformers import BertTokenizer, TFBertModel\n",
    "\n",
    "MODEL_TYPE = 'bert-base-multilingual-uncased'\n",
    "sequence = [\"Today, the sun is shining.\"]\n",
    "\n",
    "tokenizer = BertTokenizer.from_pretrained(MODEL_TYPE)\n",
    "model = TFBertModel.from_pretrained(MODEL_TYPE)"
   ]
  },
  {
   "cell_type": "code",
   "execution_count": 3,
   "metadata": {
    "Collapsed": "false"
   },
   "outputs": [],
   "source": [
    "def get_embeddings(sequence):\n",
    "    input_ids = []\n",
    "    outputs = []\n",
    "    last_hidden_states_words = []\n",
    "    last_hidden_states_sentence = []\n",
    "    token_ids = []\n",
    "    for index,sequ in enumerate(sequence):\n",
    "        #print(index)\n",
    "        #input_ids_multiple = [tf.constant(tokenizer.encode(sequences[index]))[None, :] for index,sequence in enumerate(sequences)] # Batch size 1\n",
    "\n",
    "        input_ids.append(tf.constant(tokenizer.encode(sequ[index]))[None, :])\n",
    "\n",
    "    #for index,sequ in enumerate(sequence):    \n",
    "        outputs.append(model(input_ids[index]))\n",
    "        last_hidden_states_words.append(outputs[index][0])\n",
    "        last_hidden_states_sentence.append(outputs[index][1])\n",
    "        #print(index)\n",
    "        token_ids.append(tokenizer.encode_plus(sequ, max_length=50, pad_to_max_length=False)['input_ids'])\n",
    "\n",
    "    return last_hidden_states_words, last_hidden_states_sentence, token_ids, labels"
   ]
  },
  {
   "cell_type": "code",
   "execution_count": 4,
   "metadata": {
    "Collapsed": "false"
   },
   "outputs": [],
   "source": [
    "def get_embeddings_one_sentence(sequence):\n",
    "    input_ids = tf.constant(tokenizer.encode(sequence[0]))[None, :] # Batch size 1\n",
    "    outputs = model(input_ids)\n",
    "    last_hidden_states_words = outputs[0]\n",
    "    last_hidden_states_sentence = outputs[1]\n",
    "    token_ids = tokenizer.encode_plus(sequence[0], max_length=50, pad_to_max_length=False)['input_ids']\n",
    "    labels = [tokenizer.decode(int(token_id)) for token_id in token_ids]\n",
    "\n",
    "    return last_hidden_states_words, last_hidden_states_sentence, token_ids, labels"
   ]
  },
  {
   "cell_type": "code",
   "execution_count": 5,
   "metadata": {
    "Collapsed": "false"
   },
   "outputs": [
    {
     "data": {
      "text/plain": [
       "[101, 13980, 117, 10103, 13630, 10127, 76416, 119, 102]"
      ]
     },
     "execution_count": 5,
     "metadata": {},
     "output_type": "execute_result"
    }
   ],
   "source": [
    "hidden_words, hidden_sentence, tokens, labels = get_embeddings_one_sentence(sequence)\n",
    "tokens"
   ]
  },
  {
   "cell_type": "code",
   "execution_count": 6,
   "metadata": {
    "Collapsed": "false"
   },
   "outputs": [],
   "source": [
    "# embeddings \n",
    "#input_ids = tf.constant(tokenizer.encode(sequence[0]))[None, :] # Batch size 1\n",
    "#outputs = model(input_ids)\n",
    "#last_hidden_states = outputs[0]  # The last hidden-state is the first element of the output tuple"
   ]
  },
  {
   "cell_type": "code",
   "execution_count": 7,
   "metadata": {
    "Collapsed": "false"
   },
   "outputs": [],
   "source": [
    "#outputs"
   ]
  },
  {
   "cell_type": "code",
   "execution_count": 8,
   "metadata": {
    "Collapsed": "false"
   },
   "outputs": [],
   "source": [
    "#input_ids"
   ]
  },
  {
   "cell_type": "code",
   "execution_count": 9,
   "metadata": {
    "Collapsed": "false"
   },
   "outputs": [],
   "source": [
    "#last_hidden_states"
   ]
  },
  {
   "cell_type": "code",
   "execution_count": 10,
   "metadata": {
    "Collapsed": "false"
   },
   "outputs": [],
   "source": [
    "# tokens in a list format\n",
    "#token_ids = tokenizer.encode_plus(sequence[0], max_length=50, pad_to_max_length=False)['input_ids']\n",
    "#token_ids"
   ]
  },
  {
   "cell_type": "code",
   "execution_count": 11,
   "metadata": {
    "Collapsed": "false"
   },
   "outputs": [],
   "source": [
    "#labels = [tokenizer.decode(int(token_id)) for token_id in token_ids]\n",
    "#labels"
   ]
  },
  {
   "cell_type": "code",
   "execution_count": 12,
   "metadata": {
    "Collapsed": "false"
   },
   "outputs": [],
   "source": [
    "#outputs = model(input_ids)"
   ]
  },
  {
   "cell_type": "code",
   "execution_count": 13,
   "metadata": {
    "Collapsed": "false"
   },
   "outputs": [],
   "source": [
    "#last_hidden_states = outputs[0]  # The last hidden-state is the first element of the output tuple"
   ]
  },
  {
   "cell_type": "code",
   "execution_count": 14,
   "metadata": {
    "Collapsed": "false"
   },
   "outputs": [],
   "source": [
    "#type(last_hidden_states[0])"
   ]
  },
  {
   "cell_type": "markdown",
   "metadata": {
    "Collapsed": "false"
   },
   "source": [
    "#### Dimensionality Reduction"
   ]
  },
  {
   "cell_type": "markdown",
   "metadata": {
    "Collapsed": "false"
   },
   "source": [
    "##### t-SNE"
   ]
  },
  {
   "cell_type": "code",
   "execution_count": 15,
   "metadata": {
    "Collapsed": "false"
   },
   "outputs": [],
   "source": [
    "# adapted from https://github.com/ioannispartalas/CrossLingual-NLP-AMLD2020/blob/master/notebooks/AMLD%20Intro.ipynb\n",
    "\n",
    "# For more information of TSNE: https://scikit-learn.org/stable/modules/generated/sklearn.manifold.TSNE.html"
   ]
  },
  {
   "cell_type": "code",
   "execution_count": 16,
   "metadata": {
    "Collapsed": "false"
   },
   "outputs": [],
   "source": [
    "# error for three dimensions\n",
    "\n",
    "def plot_embeddings(tokens,labels,sequences,dimensions=2,force_simple=False):\n",
    "    '''\n",
    "    Plots the embeddings together with the token names in a 2-dimensional space.\n",
    "    \n",
    "    Args:\n",
    "        tokens:         list (of lists) of the tokens\n",
    "        labels:         concatenated list of all the labels of the tokens\n",
    "        sequences:      list of input strings to be tokenized\n",
    "        dimensions:     defines the dimensions of the plot, at the moment only 2 works\n",
    "        force_simple:   forces the function to handle the input sequence as if it were a single sequence\n",
    "        \n",
    "    Outputs: embedding plot\n",
    "    '''\n",
    "    tsne_model = TSNE(perplexity=1.5, n_components=dimensions, init='pca', n_iter=2500, random_state=23)\n",
    "    \n",
    "    print(len(sequences))\n",
    "    \n",
    "    if len(sequences)>1 and force_simple==False:\n",
    "        tsne_inputs = []\n",
    "        for index,sequence in enumerate(sequences):\n",
    "            tsne_inputs.append(np.array(tokens[index][0]))\n",
    "\n",
    "        tsne_outputs = []\n",
    "        for index,sequence in enumerate(sequences):\n",
    "            tsne_outputs.append(tsne_model.fit_transform(np.array(tsne_inputs[index])))\n",
    "\n",
    "        x = [list(zip(*tsne_outputs[index]))[0] for index,sequence in enumerate(sequences)]\n",
    "        y = [list(zip(*tsne_outputs[index]))[1] for index,sequence in enumerate(sequences)]\n",
    "        if dimensions == 3:\n",
    "            z = [list(zip(*tsne_outputs[index]))[2] for index,sequence in enumerate(sequences)]\n",
    "\n",
    "\n",
    "        plt.figure(figsize=(7, 6)) \n",
    "        if dimensions == 2:\n",
    "            for index in range(len(sequences)):\n",
    "                plt.scatter(x[index],y[index])\n",
    "\n",
    "                print(len(x[index]))\n",
    "\n",
    "                for i in range(len(x[index])):\n",
    "                    if index != 0:\n",
    "                        #i+index*len(x[index-1]) for the second loop is (0-10)+1*9 (which is the length of the previous iteration)\n",
    "                        \n",
    "                        #print(i+index*len(x[index-1]))\n",
    "                        #print(index)\n",
    "                        plt.annotate(labels[i+(index-1)*len(x[index-1])],\n",
    "                                     xy=(x[index][i], y[index][i]),\n",
    "                                     xytext=(5, 2),\n",
    "                                     textcoords='offset points',\n",
    "                                     ha='right',\n",
    "                                     va='bottom')\n",
    "                    else:\n",
    "                        plt.annotate(labels[i],\n",
    "                                     xy=(x[index][i], y[index][i]),\n",
    "                                     xytext=(5, 2),\n",
    "                                     textcoords='offset points',\n",
    "                                     ha='right',\n",
    "                                     va='bottom')\n",
    "        #elif dimensions == 3:\n",
    "            #for index in range(len(sequences)):\n",
    "            #    plt.scatter(x[index],y[index],z[index])\n",
    "\n",
    "            #    print(len(x[index]))\n",
    "\n",
    "            #    for i in range(len(x[index])):\n",
    "            #        if index != 0:\n",
    "            #            #i+index*len(x[index-1]) for the second loop is (0-10)+1*9 (which is the length of the previous iteration)\n",
    "            #            plt.annotate(labels[i+index*len(x[index-1])],\n",
    "            #                         xyz=(x[index][i], y[index][i], z[index][i]),\n",
    "            #                         xyztext=(5, 2, 2),\n",
    "            #                         textcoords='offset points',\n",
    "            #                         ha='right',\n",
    "            #                         va='bottom')\n",
    "            #        else:\n",
    "            #            plt.annotate(labels[i],\n",
    "            #                         xyz=(x[index][i], y[index][i], z[index][i]),\n",
    "            #                         xytext=(5, 2, 2),\n",
    "            #                         textcoords='offset points',\n",
    "            #                         ha='right',\n",
    "            #                         va='bottom')\n",
    "            #            \n",
    "    else:\n",
    "        tsne_outputs = tsne_model.fit_transform(tokens)\n",
    "        print(tsne_outputs)\n",
    "\n",
    "        x = tsne_outputs[:,0]\n",
    "        y = tsne_outputs[:,1]\n",
    "        if dimensions == 3:\n",
    "            z = tsne_outputs[:,2]\n",
    "\n",
    "\n",
    "        plt.figure(figsize=(7, 6)) \n",
    "        \n",
    "        if dimensions == 2:\n",
    "            plt.scatter(x,y)\n",
    "\n",
    "            print(len(x))\n",
    "            print(len(labels))\n",
    "            for i in range(len(x)):\n",
    "                plt.annotate(labels[i],\n",
    "                             xy=(x[i], y[i]),\n",
    "                             xytext=(5, 2),\n",
    "                             textcoords='offset points',\n",
    "                             ha='right',\n",
    "                             va='bottom')\n",
    "        \n",
    "        #elif dimensions == 3:\n",
    "            #plt.scatter(x,y,z)\n",
    "\n",
    "            #print(len(x))\n",
    "            #print(len(labels))\n",
    "            #for i in range(len(x)):\n",
    "            #    plt.annotate(labels[i],\n",
    "            #                 xyz=(x[i], y[i], z[i]),\n",
    "            #                 xyztext=(5, 2, 2),\n",
    "            #                 textcoords='offset points',\n",
    "            #                 ha='right',\n",
    "            #                 va='bottom')"
   ]
  },
  {
   "cell_type": "code",
   "execution_count": 17,
   "metadata": {
    "Collapsed": "false"
   },
   "outputs": [],
   "source": [
    "def plot_embeddings_old(tokens,labels,sequences):\n",
    "    tsne_model = TSNE(perplexity=1.5, n_components=2, init='pca', n_iter=2500, random_state=23)\n",
    "    new_values = tsne_model.fit_transform(tokens)\n",
    "\n",
    "    x = new_values[:,0]\n",
    "    y = new_values[:,1]\n",
    "\n",
    "\n",
    "    plt.figure(figsize=(7, 6)) \n",
    "    if len(sequences)>1:\n",
    "        \n",
    "        flatten_tokens = [item for sublist in token_ids_multiple for item in sublist]\n",
    "        start_next_sequence = int(len(flatten_tokens) / len(sequences))\n",
    "\n",
    "        plt.scatter(x[:start_next_sequence],y[:start_next_sequence])\n",
    "\n",
    "        for index,sequence in enumerate(sequences[1:]):\n",
    "            print(start_next_sequence*index)\n",
    "            print(type(start_next_sequence*index))\n",
    "            plt.scatter(x[start_next_sequence*index:],y[start_next_sequence*index:])\n",
    "    else:\n",
    "        plt.scatter(x,y)\n",
    "\n",
    "        print(len(x))\n",
    "        print(len(labels))\n",
    "        for i in range(len(x)):\n",
    "            plt.annotate(labels[i],\n",
    "                         xy=(x[i], y[i]),\n",
    "                         xytext=(5, 2),\n",
    "                         textcoords='offset points',\n",
    "                         ha='right',\n",
    "                         va='bottom')"
   ]
  },
  {
   "cell_type": "code",
   "execution_count": 18,
   "metadata": {
    "Collapsed": "false"
   },
   "outputs": [],
   "source": [
    "#last_hidden_states.numpy()[0].shape"
   ]
  },
  {
   "cell_type": "code",
   "execution_count": 19,
   "metadata": {
    "Collapsed": "false"
   },
   "outputs": [],
   "source": [
    "#tokens = last_hidden_states.numpy()[0].tolist()\n",
    "#len(tokens)"
   ]
  },
  {
   "cell_type": "code",
   "execution_count": 20,
   "metadata": {
    "Collapsed": "false"
   },
   "outputs": [],
   "source": [
    "#type(tokens)"
   ]
  },
  {
   "cell_type": "code",
   "execution_count": 21,
   "metadata": {
    "Collapsed": "false"
   },
   "outputs": [],
   "source": [
    "#len(sequence)\n"
   ]
  },
  {
   "cell_type": "code",
   "execution_count": 22,
   "metadata": {
    "Collapsed": "false"
   },
   "outputs": [
    {
     "data": {
      "text/plain": [
       "<tf.Tensor: shape=(1, 9, 768), dtype=float32, numpy=\n",
       "array([[[-0.00212247, -0.0423057 , -0.03695792, ...,  0.01820284,\n",
       "         -0.18701142,  0.03091387],\n",
       "        [ 0.10887855,  0.06550951, -0.37081748, ...,  0.21875395,\n",
       "         -0.36431113, -0.08754858],\n",
       "        [ 0.20696844, -0.19406173, -0.28209594, ..., -0.09924239,\n",
       "         -0.6044725 ,  0.06912345],\n",
       "        ...,\n",
       "        [ 0.17756762,  0.31336808,  0.01536575, ...,  0.12102035,\n",
       "         -0.3919026 ,  0.33771276],\n",
       "        [-0.12370283,  0.5159705 , -0.29101202, ..., -0.21107562,\n",
       "         -0.38868165, -0.14851297],\n",
       "        [-0.01811093,  0.09140886, -0.5503057 , ...,  0.50499874,\n",
       "         -0.39168778, -0.33403742]]], dtype=float32)>"
      ]
     },
     "execution_count": 22,
     "metadata": {},
     "output_type": "execute_result"
    }
   ],
   "source": [
    "hidden_words"
   ]
  },
  {
   "cell_type": "code",
   "execution_count": 23,
   "metadata": {
    "Collapsed": "false"
   },
   "outputs": [],
   "source": [
    "tokens = hidden_words.numpy()[0].tolist()"
   ]
  },
  {
   "cell_type": "code",
   "execution_count": 24,
   "metadata": {
    "Collapsed": "false"
   },
   "outputs": [
    {
     "name": "stdout",
     "output_type": "stream",
     "text": [
      "1\n",
      "[[-394.56058  -109.6698  ]\n",
      " [-215.80551  -109.076035]\n",
      " [ 140.43478   207.23369 ]\n",
      " [  78.23175   152.68297 ]\n",
      " [-215.91455   -22.702023]\n",
      " [ 114.03585   183.96027 ]\n",
      " [-234.49672   -53.994675]\n",
      " [-292.7625    -73.72323 ]\n",
      " [-350.40265   -91.527214]]\n",
      "9\n",
      "9\n"
     ]
    },
    {
     "data": {
      "image/png": "[encoded data removed]",
      "text/plain": [
       "<Figure size 504x432 with 1 Axes>"
      ]
     },
     "metadata": {
      "needs_background": "light"
     },
     "output_type": "display_data"
    }
   ],
   "source": [
    "plot_embeddings(tokens,labels,sequence,2)"
   ]
  },
  {
   "cell_type": "code",
   "execution_count": 25,
   "metadata": {
    "Collapsed": "false"
   },
   "outputs": [
    {
     "name": "stdout",
     "output_type": "stream",
     "text": [
      "9\n",
      "9\n"
     ]
    },
    {
     "data": {
      "image/png": "[encoded data removed]",
      "text/plain": [
       "<Figure size 504x432 with 1 Axes>"
      ]
     },
     "metadata": {
      "needs_background": "light"
     },
     "output_type": "display_data"
    }
   ],
   "source": [
    "plot_embeddings_old(tokens,labels,sequence)"
   ]
  },
  {
   "cell_type": "markdown",
   "metadata": {
    "Collapsed": "false"
   },
   "source": [
    "### 2. Multiple Sentences"
   ]
  },
  {
   "cell_type": "markdown",
   "metadata": {
    "Collapsed": "false"
   },
   "source": [
    "#### Extract Embeddings from BERT"
   ]
  },
  {
   "cell_type": "code",
   "execution_count": 26,
   "metadata": {
    "Collapsed": "false"
   },
   "outputs": [],
   "source": [
    "sequences = [\"The sun is shining today.\",\"Heute scheint die Sonne.\",\"Aujourd'hui, le soleil brille.\"]\n"
   ]
  },
  {
   "cell_type": "code",
   "execution_count": 27,
   "metadata": {
    "Collapsed": "false"
   },
   "outputs": [
    {
     "data": {
      "text/plain": [
       "[[101, 10103, 13630, 10127, 76416, 13980, 119, 102],\n",
       " [101, 12830, 63670, 10121, 55772, 119, 102],\n",
       " [101, 17988, 112, 16645, 117, 10130, 33175, 32949, 10111, 119, 102]]"
      ]
     },
     "execution_count": 27,
     "metadata": {},
     "output_type": "execute_result"
    }
   ],
   "source": [
    "hidden_words_mult, hidden_sentence_mult, tokens_mult, labels_mult = get_embeddings(sequences)\n",
    "tokens_mult"
   ]
  },
  {
   "cell_type": "code",
   "execution_count": 28,
   "metadata": {
    "Collapsed": "false"
   },
   "outputs": [],
   "source": [
    "#input_ids_multiple = []\n",
    "#outputs_multiple = []\n",
    "#last_hidden_states_multiple = []\n",
    "#token_ids_multiple = []\n",
    "#for index,sequence in enumerate(sequences):\n",
    "#    print(index)\n",
    "#    #input_ids_multiple = [tf.constant(tokenizer.encode(sequences[index]))[None, :] for index,sequence in enumerate(sequences)] # Batch size 1\n",
    "\n",
    "#    input_ids_multiple.append(tf.constant(tokenizer.encode(sequences[index]))[None, :])\n",
    "\n",
    "#for index,sequence in enumerate(sequences):    \n",
    "#    outputs_multiple.append(model(input_ids_multiple[index]))\n",
    "#    last_hidden_states_multiple.append(outputs_multiple[index][0])\n",
    "#    token_ids_multiple.append(tokenizer.encode_plus(sequences[index], max_length=50, pad_to_max_length=False)['input_ids'])\n"
   ]
  },
  {
   "cell_type": "code",
   "execution_count": 29,
   "metadata": {
    "Collapsed": "false"
   },
   "outputs": [],
   "source": [
    "#input_ids_multiple"
   ]
  },
  {
   "cell_type": "code",
   "execution_count": 30,
   "metadata": {
    "Collapsed": "false"
   },
   "outputs": [],
   "source": [
    "#outputs_multiple[1][0]"
   ]
  },
  {
   "cell_type": "code",
   "execution_count": 31,
   "metadata": {
    "Collapsed": "false"
   },
   "outputs": [],
   "source": [
    "#last_hidden_states_multiple"
   ]
  },
  {
   "cell_type": "code",
   "execution_count": 32,
   "metadata": {
    "Collapsed": "false"
   },
   "outputs": [],
   "source": [
    "# tokens\n",
    "#token_ids_multiple"
   ]
  },
  {
   "cell_type": "code",
   "execution_count": 33,
   "metadata": {
    "Collapsed": "false"
   },
   "outputs": [],
   "source": [
    "# this is not used anymore\n",
    "#flatten_tokens_multiple = [item for sublist in token_ids_multiple for item in sublist]\n",
    "#flatten_tokens_multiple"
   ]
  },
  {
   "cell_type": "code",
   "execution_count": 34,
   "metadata": {
    "Collapsed": "false"
   },
   "outputs": [],
   "source": [
    "#labels_multiple = [tokenizer.decode(int(token_id)) for token_id in flatten_tokens_multiple] \n",
    "#labels_multiple"
   ]
  },
  {
   "cell_type": "code",
   "execution_count": 35,
   "metadata": {
    "Collapsed": "false"
   },
   "outputs": [],
   "source": [
    "#print(len(labels_multiple), len(flatten_tokens_multiple))"
   ]
  },
  {
   "cell_type": "markdown",
   "metadata": {
    "Collapsed": "false"
   },
   "source": [
    "#### Dimensionality Reduction"
   ]
  },
  {
   "cell_type": "markdown",
   "metadata": {
    "Collapsed": "false"
   },
   "source": [
    "##### T-SNE"
   ]
  },
  {
   "cell_type": "code",
   "execution_count": 36,
   "metadata": {
    "Collapsed": "false"
   },
   "outputs": [],
   "source": [
    "#tsne_inputs = []\n",
    "#for index,sequence in enumerate(sequences):\n",
    "#    tsne_inputs.append(np.array(last_hidden_states_multiple[index][0]))"
   ]
  },
  {
   "cell_type": "code",
   "execution_count": 37,
   "metadata": {
    "Collapsed": "false"
   },
   "outputs": [],
   "source": [
    "#tsne_model = TSNE(perplexity=1.5, n_components=2, init='pca', n_iter=2500, random_state=23)\n",
    "#tsne_outputs = []\n",
    "#for index,sequence in enumerate(sequences):\n",
    "#    tsne_outputs.append(tsne_model.fit_transform(np.array(tsne_inputs[index])))\n",
    "    \n",
    "#tsne_outputs\n",
    "#new_values = [tsne_model.fit_transform(last_hidden_states_multiple) for sequence in sequences]\n",
    "#new_values\n",
    "#np.array(new_values)"
   ]
  },
  {
   "cell_type": "code",
   "execution_count": 38,
   "metadata": {
    "Collapsed": "false"
   },
   "outputs": [],
   "source": [
    "#print(len(list(zip(*tsne_outputs[0]))[0]), \\\n",
    "#len(list(zip(*tsne_outputs[1]))[0]))"
   ]
  },
  {
   "cell_type": "code",
   "execution_count": 39,
   "metadata": {
    "Collapsed": "false"
   },
   "outputs": [],
   "source": [
    "#x = [list(zip(*tsne_outputs[index]))[0] for index,sequence in enumerate(sequences)]\n",
    "#y = [list(zip(*tsne_outputs[index]))[1] for index,sequence in enumerate(sequences)]\n",
    "#x\n",
    "#tsne_outputs[0][:]\n",
    "#tsne_outputs[:,0]\n",
    "#tsne_outputs[index_sequence][index_array][0]"
   ]
  },
  {
   "cell_type": "code",
   "execution_count": 40,
   "metadata": {
    "Collapsed": "false"
   },
   "outputs": [],
   "source": [
    "#next(zip(*tsne_outputs))"
   ]
  },
  {
   "cell_type": "code",
   "execution_count": 41,
   "metadata": {
    "Collapsed": "false"
   },
   "outputs": [],
   "source": [
    "#all_tokens_multiple = [last_hidden_states_multiple[index][0] for index,sequence in enumerate(sequences)]\n",
    "#all_tokens_multiple\n",
    "#all_tokens_multiple[0].numpy()[0].shape\n",
    "#all_tokens_multiple[0].numpy()[0].tolist()"
   ]
  },
  {
   "cell_type": "code",
   "execution_count": 42,
   "metadata": {
    "Collapsed": "false"
   },
   "outputs": [],
   "source": [
    "#tokens_multiple = [all_tokens_multiple[index].numpy()[0].tolist() for index,sequence in enumerate(sequences)][0]"
   ]
  },
  {
   "cell_type": "code",
   "execution_count": 43,
   "metadata": {
    "Collapsed": "false"
   },
   "outputs": [],
   "source": [
    "#print(\"tokens: \",len(tokens_multiple),\"  dimensions: \",len(tokens_multiple[0]))"
   ]
  },
  {
   "cell_type": "code",
   "execution_count": 44,
   "metadata": {
    "Collapsed": "false"
   },
   "outputs": [],
   "source": [
    "#len(all_tokens_multiple[0])"
   ]
  },
  {
   "cell_type": "code",
   "execution_count": 45,
   "metadata": {
    "Collapsed": "false"
   },
   "outputs": [],
   "source": [
    "#tsne_model = TSNE(perplexity=1.5, n_components=2, init='pca', n_iter=2500, random_state=23)\n",
    "#new_values = [tsne_model.fit_transform(tokens_multiple) for sequence in sequences]\n",
    "#new_values\n",
    "#np.array(new_values)"
   ]
  },
  {
   "cell_type": "code",
   "execution_count": 46,
   "metadata": {
    "Collapsed": "false"
   },
   "outputs": [],
   "source": [
    "#sequence_1 = tsne_model.fit_transform(tokens_multiple[:len(tokens_multiple[0])])\n",
    "#sequence_1"
   ]
  },
  {
   "cell_type": "code",
   "execution_count": 47,
   "metadata": {
    "Collapsed": "false"
   },
   "outputs": [],
   "source": [
    "#sequence_2 = tsne_model.fit_transform(tokens_multiple[len(tokens_multiple[0]):])\n",
    "#sequence_2"
   ]
  },
  {
   "cell_type": "code",
   "execution_count": 48,
   "metadata": {
    "Collapsed": "false"
   },
   "outputs": [],
   "source": [
    "#len(x[0])"
   ]
  },
  {
   "cell_type": "code",
   "execution_count": 49,
   "metadata": {
    "Collapsed": "false"
   },
   "outputs": [],
   "source": [
    "#range(len(sequences))"
   ]
  },
  {
   "cell_type": "code",
   "execution_count": 50,
   "metadata": {
    "Collapsed": "false"
   },
   "outputs": [],
   "source": [
    "#tsne_model = TSNE(perplexity=1.5, n_components=2, init='pca', n_iter=2500, random_state=23)\n",
    "#new_values = [tsne_model.fit_transform(tokens_multiple) for sequence in sequences]\n",
    "\n",
    "\n",
    "#plt.figure(figsize=(7, 6)) \n",
    "#for index in range(len(sequences)):\n",
    "#    plt.scatter(x[index],y[index])\n",
    "#    for i in range(len(x[index])):\n",
    "#        plt.annotate(labels_multiple[i],\n",
    "#                     xy=(x[index][i], y[index][i]),\n",
    "#                     xytext=(5, 2),\n",
    "#                     textcoords='offset points',\n",
    "#                     ha='right',\n",
    "#                     va='bottom')"
   ]
  },
  {
   "cell_type": "code",
   "execution_count": 51,
   "metadata": {
    "Collapsed": "false"
   },
   "outputs": [],
   "source": [
    "#tsne_model = TSNE(perplexity=1.5, n_components=2, init='pca', n_iter=2500, random_state=23)\n",
    "#new_values = tsne_model.fit_transform(tokens)\n",
    "\n",
    "#x = new_values[:,0]\n",
    "#y = new_values[:,1]\n",
    "\n",
    "#start_next_sequence = int(len(tokens) / len(sequences))\n",
    "\n",
    "#plt.figure(figsize=(7, 6)) \n",
    "#plt.scatter(x[:start_next_sequence],y[:start_next_sequence])\n",
    "#plt.scatter(x[start_next_sequence:],y[start_next_sequence:])\n",
    "\n",
    "#for i in range(len(x)):\n",
    "#    plt.annotate(labels[i],\n",
    "#                 xy=(x[i], y[i]),\n",
    "#                 xytext=(5, 2),\n",
    "#                 textcoords='offset points',\n",
    "#                 ha='right',\n",
    "#                 va='bottom')"
   ]
  },
  {
   "cell_type": "code",
   "execution_count": 52,
   "metadata": {
    "Collapsed": "false"
   },
   "outputs": [
    {
     "name": "stdout",
     "output_type": "stream",
     "text": [
      "3\n",
      "3\n",
      "3\n",
      "3\n"
     ]
    },
    {
     "data": {
      "image/png": "[encoded data removed]",
      "text/plain": [
       "<Figure size 504x432 with 1 Axes>"
      ]
     },
     "metadata": {
      "needs_background": "light"
     },
     "output_type": "display_data"
    }
   ],
   "source": [
    "#hidden_words_mult, hidden_sentence_mult, tokens_mult, labels_mult\n",
    "plot_embeddings(hidden_words_mult,labels_mult,sequences,2)"
   ]
  },
  {
   "cell_type": "code",
   "execution_count": 53,
   "metadata": {
    "Collapsed": "false"
   },
   "outputs": [],
   "source": [
    "#plot_embeddings(last_hidden_states_multiple,labels_multiple,sequences,3)\n",
    "# dimension 3 requires a z axis and a new plot..."
   ]
  },
  {
   "cell_type": "markdown",
   "metadata": {
    "Collapsed": "false"
   },
   "source": [
    "### Word translations"
   ]
  },
  {
   "cell_type": "code",
   "execution_count": 54,
   "metadata": {
    "Collapsed": "false"
   },
   "outputs": [],
   "source": [
    "words_en = [\"sun\",\"dog\",\"queen\",\"king\",\"street\",\"wonderful\",\"car\"]\n",
    "words_de = [\"Sonne\",\"Hund\",\"Königin\",\"König\",\"Strasse\",\"wunderbar\",\"Auto\"]\n",
    "words_fr = [\"soleil\",\"chien\",\"reine\",\"roi\",\"rue\",\"magnifique\",\"voiture\"]"
   ]
  },
  {
   "cell_type": "code",
   "execution_count": 55,
   "metadata": {
    "Collapsed": "false"
   },
   "outputs": [],
   "source": [
    "words_en_tokenized = [tokenizer.tokenize(words) for words in words_en]\n",
    "words_de_tokenized = [tokenizer.tokenize(words) for words in words_de]\n",
    "words_fr_tokenized = [tokenizer.tokenize(words) for words in words_fr]"
   ]
  },
  {
   "cell_type": "code",
   "execution_count": 56,
   "metadata": {
    "Collapsed": "false"
   },
   "outputs": [
    {
     "data": {
      "text/plain": [
       "['sun',\n",
       " 'dog',\n",
       " 'queen',\n",
       " 'king',\n",
       " 'street',\n",
       " 'wonderful',\n",
       " 'car',\n",
       " 'soleil',\n",
       " 'chien',\n",
       " 'reine',\n",
       " 'roi',\n",
       " 'rue',\n",
       " 'magnifique',\n",
       " 'voiture']"
      ]
     },
     "execution_count": 56,
     "metadata": {},
     "output_type": "execute_result"
    }
   ],
   "source": [
    "#words = [words_en, words_de, words_fr]\n",
    "words = [\"sun\",\"dog\",\"queen\",\"king\",\"street\",\"wonderful\",\"car\",\"soleil\",\"chien\",\"reine\",\"roi\",\"rue\",\"magnifique\",\"voiture\"]\n",
    "#\"Sonne\",\"Hund\",\"Königin\",\"König\",\"Strasse\",\"wunderbar\",\"Auto\",\n",
    "words"
   ]
  },
  {
   "cell_type": "code",
   "execution_count": 57,
   "metadata": {
    "Collapsed": "false"
   },
   "outputs": [
    {
     "data": {
      "text/plain": [
       "14"
      ]
     },
     "execution_count": 57,
     "metadata": {},
     "output_type": "execute_result"
    }
   ],
   "source": [
    "len(words)"
   ]
  },
  {
   "cell_type": "code",
   "execution_count": 58,
   "metadata": {
    "Collapsed": "false"
   },
   "outputs": [],
   "source": [
    "#get_embeddings(words)"
   ]
  },
  {
   "cell_type": "code",
   "execution_count": 59,
   "metadata": {
    "Collapsed": "false"
   },
   "outputs": [
    {
     "ename": "NameError",
     "evalue": "name 'input_ids' is not defined",
     "output_type": "error",
     "traceback": [
      "\u001b[0;31m---------------------------------------------------------------------------\u001b[0m",
      "\u001b[0;31mNameError\u001b[0m                                 Traceback (most recent call last)",
      "\u001b[0;32m<ipython-input-59-320a417b5128>\u001b[0m in \u001b[0;36m<module>\u001b[0;34m\u001b[0m\n\u001b[1;32m      6\u001b[0m \u001b[0;31m#    token_ids_words.append(tokenizer.encode_plus(words[index], max_length=50, pad_to_max_length=False)['input_ids'])\u001b[0m\u001b[0;34m\u001b[0m\u001b[0;34m\u001b[0m\u001b[0;34m\u001b[0m\u001b[0m\n\u001b[1;32m      7\u001b[0m \u001b[0minput_ids_words\u001b[0m \u001b[0;34m=\u001b[0m \u001b[0mtf\u001b[0m\u001b[0;34m.\u001b[0m\u001b[0mconstant\u001b[0m\u001b[0;34m(\u001b[0m\u001b[0mtokenizer\u001b[0m\u001b[0;34m.\u001b[0m\u001b[0mencode\u001b[0m\u001b[0;34m(\u001b[0m\u001b[0mwords\u001b[0m\u001b[0;34m)\u001b[0m\u001b[0;34m)\u001b[0m\u001b[0;34m[\u001b[0m\u001b[0;32mNone\u001b[0m\u001b[0;34m,\u001b[0m \u001b[0;34m:\u001b[0m\u001b[0;34m]\u001b[0m\u001b[0;34m\u001b[0m\u001b[0;34m\u001b[0m\u001b[0m\n\u001b[0;32m----> 8\u001b[0;31m \u001b[0moutputs_words\u001b[0m \u001b[0;34m=\u001b[0m \u001b[0mmodel\u001b[0m\u001b[0;34m(\u001b[0m\u001b[0minput_ids\u001b[0m\u001b[0;34m)\u001b[0m\u001b[0;34m\u001b[0m\u001b[0;34m\u001b[0m\u001b[0m\n\u001b[0m\u001b[1;32m      9\u001b[0m \u001b[0mlast_hidden_states_words\u001b[0m \u001b[0;34m=\u001b[0m \u001b[0moutputs\u001b[0m\u001b[0;34m[\u001b[0m\u001b[0;36m0\u001b[0m\u001b[0;34m]\u001b[0m  \u001b[0;31m# The last hidden-state is the first element of the output tuple\u001b[0m\u001b[0;34m\u001b[0m\u001b[0;34m\u001b[0m\u001b[0m\n\u001b[1;32m     10\u001b[0m \u001b[0mtoken_ids_words\u001b[0m \u001b[0;34m=\u001b[0m \u001b[0mtokenizer\u001b[0m\u001b[0;34m.\u001b[0m\u001b[0mencode_plus\u001b[0m\u001b[0;34m(\u001b[0m\u001b[0mwords\u001b[0m\u001b[0;34m,\u001b[0m \u001b[0mmax_length\u001b[0m\u001b[0;34m=\u001b[0m\u001b[0;36m50\u001b[0m\u001b[0;34m,\u001b[0m \u001b[0mpad_to_max_length\u001b[0m\u001b[0;34m=\u001b[0m\u001b[0;32mFalse\u001b[0m\u001b[0;34m)\u001b[0m\u001b[0;34m[\u001b[0m\u001b[0;34m'input_ids'\u001b[0m\u001b[0;34m]\u001b[0m\u001b[0;34m\u001b[0m\u001b[0;34m\u001b[0m\u001b[0m\n",
      "\u001b[0;31mNameError\u001b[0m: name 'input_ids' is not defined"
     ]
    }
   ],
   "source": [
    "# embeddings \n",
    "#input_ids_words = []\n",
    "#token_ids_words = []\n",
    "#for index,languages in enumerate(words):\n",
    "#    input_ids_words.append(tf.constant(tokenizer.encode(words[index]))[None, :]) # Batch size 1\n",
    "#    token_ids_words.append(tokenizer.encode_plus(words[index], max_length=50, pad_to_max_length=False)['input_ids'])\n",
    "input_ids_words = tf.constant(tokenizer.encode(words))[None, :]\n",
    "outputs_words = model(input_ids)\n",
    "last_hidden_states_words = outputs[0]  # The last hidden-state is the first element of the output tuple\n",
    "token_ids_words = tokenizer.encode_plus(words, max_length=50, pad_to_max_length=False)['input_ids']"
   ]
  },
  {
   "cell_type": "code",
   "execution_count": null,
   "metadata": {
    "Collapsed": "false"
   },
   "outputs": [],
   "source": [
    "input_ids_words"
   ]
  },
  {
   "cell_type": "code",
   "execution_count": null,
   "metadata": {
    "Collapsed": "false"
   },
   "outputs": [],
   "source": [
    "tokenizer.encode([\"schon\"])"
   ]
  },
  {
   "cell_type": "code",
   "execution_count": null,
   "metadata": {
    "Collapsed": "false"
   },
   "outputs": [],
   "source": [
    "outputs_words[0]"
   ]
  },
  {
   "cell_type": "code",
   "execution_count": null,
   "metadata": {
    "Collapsed": "false"
   },
   "outputs": [],
   "source": [
    "# for some reason, it does not tokenize the german words correctly!\n",
    "token_ids_words"
   ]
  },
  {
   "cell_type": "code",
   "execution_count": null,
   "metadata": {
    "Collapsed": "false"
   },
   "outputs": [],
   "source": [
    "labels_words = [tokenizer.decode(int(token_id)) for token_id in token_ids_words]\n",
    "labels_words"
   ]
  },
  {
   "cell_type": "code",
   "execution_count": null,
   "metadata": {
    "Collapsed": "false"
   },
   "outputs": [],
   "source": [
    "plot_input_words = last_hidden_states_words.numpy()[0].tolist()"
   ]
  },
  {
   "cell_type": "code",
   "execution_count": null,
   "metadata": {
    "Collapsed": "false"
   },
   "outputs": [],
   "source": [
    "plot_embeddings(plot_input_words,labels_words,words,2,force_simple=True)"
   ]
  },
  {
   "cell_type": "code",
   "execution_count": null,
   "metadata": {
    "Collapsed": "false"
   },
   "outputs": [],
   "source": []
  },
  {
   "cell_type": "markdown",
   "metadata": {
    "Collapsed": "false"
   },
   "source": [
    "### Experiment with Embeddings for the Same Word"
   ]
  },
  {
   "cell_type": "code",
   "execution_count": null,
   "metadata": {
    "Collapsed": "false"
   },
   "outputs": [],
   "source": [
    "similar_sequences = [\"I am working from home today.\",\"Has Fred come home from work yet?\",\"You live at home but you need to work at the office.\"]"
   ]
  },
  {
   "cell_type": "code",
   "execution_count": null,
   "metadata": {
    "Collapsed": "false"
   },
   "outputs": [],
   "source": [
    "input_ids_similar = []\n",
    "outputs_similar = []\n",
    "last_hidden_states_similar = []\n",
    "token_ids_similar = []\n",
    "for index,sequence in enumerate(similar_sequences):\n",
    "    print(index)\n",
    "    #input_ids_multiple = [tf.constant(tokenizer.encode(sequences[index]))[None, :] for index,sequence in enumerate(sequences)] # Batch size 1\n",
    "\n",
    "    input_ids_similar.append(tf.constant(tokenizer.encode(similar_sequences[index]))[None, :])\n",
    "\n",
    "#for index,sequence in enumerate(sequences):    \n",
    "    outputs_similar.append(model(input_ids_similar[index]))\n",
    "    last_hidden_states_similar.append(outputs_similar[index][0])\n",
    "    token_ids_similar.append(tokenizer.encode_plus(similar_sequences[index], max_length=50, pad_to_max_length=False)['input_ids'])\n"
   ]
  },
  {
   "cell_type": "code",
   "execution_count": null,
   "metadata": {
    "Collapsed": "false"
   },
   "outputs": [],
   "source": [
    "flatten_tokens_similar = [item for sublist in token_ids_similar for item in sublist]\n",
    "flatten_tokens_similar"
   ]
  },
  {
   "cell_type": "code",
   "execution_count": null,
   "metadata": {
    "Collapsed": "false"
   },
   "outputs": [],
   "source": [
    "labels_similar = [tokenizer.decode(int(token_id)) for token_id in flatten_tokens_similar]\n",
    "labels_similar"
   ]
  },
  {
   "cell_type": "code",
   "execution_count": null,
   "metadata": {
    "Collapsed": "false"
   },
   "outputs": [],
   "source": [
    "plot_embeddings(last_hidden_states_similar,labels_similar,similar_sequences,2)\n",
    "\n",
    "#plot_embeddings(plot_input_words,labels_words,words,2,force_simple=True)"
   ]
  },
  {
   "cell_type": "markdown",
   "metadata": {
    "Collapsed": "false"
   },
   "source": [
    "### Represent the whole sentence"
   ]
  },
  {
   "cell_type": "code",
   "execution_count": null,
   "metadata": {
    "Collapsed": "false"
   },
   "outputs": [],
   "source": []
  },
  {
   "cell_type": "code",
   "execution_count": null,
   "metadata": {
    "Collapsed": "false"
   },
   "outputs": [],
   "source": []
  },
  {
   "cell_type": "code",
   "execution_count": null,
   "metadata": {
    "Collapsed": "false"
   },
   "outputs": [],
   "source": []
  },
  {
   "cell_type": "markdown",
   "metadata": {
    "Collapsed": "false"
   },
   "source": [
    "### Alternative Approach"
   ]
  },
  {
   "cell_type": "code",
   "execution_count": null,
   "metadata": {
    "Collapsed": "false"
   },
   "outputs": [],
   "source": [
    "# following https://colab.research.google.com/drive/1TCgnpIwsr6uK4cP0Gk1RCCQrFy6s3Xc1\n",
    "\n",
    "#pip install bert-embedding\n",
    "from bert_embedding import BertEmbedding\n"
   ]
  },
  {
   "cell_type": "code",
   "execution_count": null,
   "metadata": {
    "Collapsed": "false"
   },
   "outputs": [],
   "source": [
    "bert_embedding = BertEmbedding()\n"
   ]
  },
  {
   "cell_type": "code",
   "execution_count": null,
   "metadata": {
    "Collapsed": "false"
   },
   "outputs": [],
   "source": [
    "# from: https://towardsdatascience.com/visualisation-of-embedding-relations-word2vec-bert-64d695b7f36\n",
    "\n",
    "def get_visual_embs(sentence):\n",
    "    \"\"\"Get BERT embedding for the sentence,\n",
    "    project it to a 2D subspace where [CLS] is (1,0) and [SEP] is (0,1).\"\"\"\n",
    "    embs = bert_embedding([sentence])#, filter_spec_tokens=False)\n",
    "    tokens = embs[0][0]\n",
    "    embV = embs[0][1]\n",
    "    W = np.array(embV)\n",
    "\n",
    "    B = np.array([embV[0], embV[-1]])\n",
    "    Bi = np.linalg.pinv(B.T)\n",
    "    Wp = np.matmul(Bi,W.T)\n",
    "\n",
    "    return Wp, tokens"
   ]
  },
  {
   "cell_type": "code",
   "execution_count": null,
   "metadata": {
    "Collapsed": "false"
   },
   "outputs": [],
   "source": [
    "embs = get_visual_embs(\"The sun is shining bright.\")\n",
    "embs"
   ]
  },
  {
   "cell_type": "code",
   "execution_count": null,
   "metadata": {
    "Collapsed": "false"
   },
   "outputs": [],
   "source": [
    "#sentences = ['The sky is blue today.', 'The sea is blue today.']\n",
    "sentences = similar_sequences\n",
    "colors = ['blue', 'red', 'green']\n",
    "\n",
    "plt.figure(figsize=(12,7))\n",
    "plt.axhline(color='black')\n",
    "plt.axvline(color='black')\n",
    "for n,s in enumerate(sentences):\n",
    "    Wp, tokens = get_visual_embs(s)\n",
    "    print(Wp)\n",
    "    print(tokens)\n",
    "    plt.scatter(Wp[0,:], Wp[1,:], color=colors[n], marker='x', label=s)\n",
    "    rX = max(Wp[0,:])-min(Wp[0,:])\n",
    "    rY = max(Wp[1,:])-min(Wp[1,:])\n",
    "    rM = max(rX, rY)\n",
    "    eps = 0.005\n",
    "    eps2 = 0.005\n",
    "    for i, txt in enumerate(tokens):\n",
    "        plt.annotate(txt, (Wp[0,i]+rX*eps, Wp[1,i]+rX*eps))\n",
    "\n",
    "        if txt in ['[CLS]', '[SEP]']:\n",
    "            plt.annotate(txt, (Wp[0,i]+rX*eps, Wp[1,i]+rX*eps))\n",
    "        if txt == 'sky':\n",
    "            plt.annotate(txt, (Wp[0,i]+rX*eps*-6, Wp[1,i]+rX*eps*3))\n",
    "        if txt == 'sea':\n",
    "            plt.annotate(txt, (Wp[0,i]+rX*eps*2, Wp[1,i]+rX*eps*3))\n",
    "        if i>0:\n",
    "            plt.arrow(Wp[0,i-1],Wp[1,i-1], Wp[0,i]-Wp[0,i-1], Wp[1,i]-Wp[1,i-1], color=colors[n], head_length=rM*eps2*4, head_width=rM*eps2*2, length_includes_head=True)\n",
    "plt.legend()\n",
    "plt.show()"
   ]
  },
  {
   "cell_type": "markdown",
   "metadata": {
    "Collapsed": "false"
   },
   "source": [
    "##### Tenses"
   ]
  },
  {
   "cell_type": "code",
   "execution_count": null,
   "metadata": {
    "Collapsed": "false"
   },
   "outputs": [],
   "source": [
    "sentences = ['This is a horrible idea!', 'This was a horrible idea!', 'This will be a horrible idea!']\n",
    "colors = ['blue', 'red', 'green']\n",
    "\n",
    "plt.figure(figsize=(12,7))\n",
    "plt.axhline(color='black')\n",
    "plt.axvline(color='black')\n",
    "for n,s in enumerate(sentences):\n",
    "    Wp, tokens = get_visual_embs(s)\n",
    "    print(tokens)\n",
    "    plt.scatter(Wp[0,:], Wp[1,:], color=colors[n], marker='x', label=s)\n",
    "    rX = max(Wp[0,:])-min(Wp[0,:])\n",
    "    rY = max(Wp[1,:])-min(Wp[1,:])\n",
    "    rM = max(rX, rY)\n",
    "    eps = 0.005\n",
    "    eps2 = 0.005\n",
    "    for i, txt in enumerate(tokens):\n",
    "        if txt in ['[CLS]', '[SEP]']:\n",
    "            plt.annotate(txt, (Wp[0,i]+rX*eps, Wp[1,i]+rX*eps))\n",
    "        #plt.annotate(txt, (Wp[0,i]+rX*eps, Wp[1,i]+rX*eps))\n",
    "        if i>0:\n",
    "            plt.arrow(Wp[0,i-1],Wp[1,i-1], Wp[0,i]-Wp[0,i-1], Wp[1,i]-Wp[1,i-1], color=colors[n], head_length=rM*eps2*4, head_width=rM*eps2*2, length_includes_head=True)\n",
    "plt.legend()\n",
    "plt.show()"
   ]
  },
  {
   "cell_type": "markdown",
   "metadata": {
    "Collapsed": "false"
   },
   "source": [
    "##### Punctuation"
   ]
  },
  {
   "cell_type": "code",
   "execution_count": null,
   "metadata": {
    "Collapsed": "false"
   },
   "outputs": [],
   "source": [
    "sentences = ['This is a horrible idea.', 'This is a horrible idea!', 'This is a horrible idea?']\n",
    "colors = ['blue', 'red', 'green', 'yellow']\n",
    "\n",
    "plt.figure(figsize=(12,7))\n",
    "plt.axhline(color='black')\n",
    "plt.axvline(color='black')\n",
    "for n,s in enumerate(sentences):\n",
    "    Wp, tokens = get_visual_embs(s)\n",
    "    print(tokens)\n",
    "    plt.scatter(Wp[0,:], Wp[1,:], color=colors[n], marker='x', label=s)\n",
    "    rX = max(Wp[0,:])-min(Wp[0,:])\n",
    "    rY = max(Wp[1,:])-min(Wp[1,:])\n",
    "    rM = max(rX, rY)\n",
    "    eps = 0.005\n",
    "    eps2 = 0.005\n",
    "    for i, txt in enumerate(tokens):\n",
    "        if txt in ['[CLS]', '[SEP]']:\n",
    "            plt.annotate(txt, (Wp[0,i]+rX*eps, Wp[1,i]+rX*eps))\n",
    "        #plt.annotate(txt, (Wp[0,i]+rX*eps, Wp[1,i]+rX*eps))\n",
    "        if i>0:\n",
    "            plt.arrow(Wp[0,i-1],Wp[1,i-1], Wp[0,i]-Wp[0,i-1], Wp[1,i]-Wp[1,i-1], color=colors[n], head_length=rM*eps2*4, head_width=rM*eps2*2, length_includes_head=True)\n",
    "plt.legend()\n",
    "plt.show()"
   ]
  },
  {
   "cell_type": "markdown",
   "metadata": {
    "Collapsed": "false"
   },
   "source": [
    "##### Complex Sentences"
   ]
  },
  {
   "cell_type": "code",
   "execution_count": null,
   "metadata": {
    "Collapsed": "false"
   },
   "outputs": [],
   "source": [
    "# Some sentences from here: https://sentence.yourdictionary.com/mexico\n",
    "sentences = [\"In Mexico the national government is carrying out a consistent policy of developing its railway lines.\", \n",
    "             \"Borlaug also promoted the process (which proved wildly successful) of having two wheat-growing seasons in Mexico, one in the highlands, then another in the valley regions.\",\n",
    "             \"That's in Mexico, too.\",\n",
    "             \"In 1904 he went to Japan as war correspondent and in 1914 to Mexico in the same capacity.\"]\n",
    "colors = ['blue', 'red', 'green', 'grey', 'purple', 'orange', 'lightblue', 'yellow']\n",
    "\n",
    "plt.figure(figsize=(24,9))\n",
    "plt.axhline(color='black')\n",
    "plt.axvline(color='black')\n",
    "for n,s in enumerate(sentences):\n",
    "    Wp, tokens = get_visual_embs(s)\n",
    "    print(tokens)\n",
    "    plt.scatter(Wp[0,:], Wp[1,:], color=colors[n], marker='x', label=s)\n",
    "    rX = max(Wp[0,:])-min(Wp[0,:])\n",
    "    rY = max(Wp[1,:])-min(Wp[1,:])\n",
    "    rM = max(rX, rY)\n",
    "    eps = 0.005\n",
    "    eps2 = 0.005\n",
    "    for i, txt in enumerate(tokens):\n",
    "        if txt in ['[CLS]', '[SEP]']:\n",
    "            plt.annotate(txt, (Wp[0,i]+rX*eps, Wp[1,i]+rX*eps))\n",
    "        if txt=='mexico':\n",
    "            plt.annotate(txt, (Wp[0,i]+rX*eps, Wp[1,i]+rX*eps))\n",
    "        if i>0:\n",
    "            plt.arrow(Wp[0,i-1],Wp[1,i-1], Wp[0,i]-Wp[0,i-1], Wp[1,i]-Wp[1,i-1], color=colors[n], head_length=rM*eps2*4, head_width=rM*eps2*2, length_includes_head=True)\n",
    "plt.legend()\n",
    "plt.show()"
   ]
  },
  {
   "cell_type": "markdown",
   "metadata": {
    "Collapsed": "false"
   },
   "source": [
    "##### Non-real Sentences"
   ]
  },
  {
   "cell_type": "code",
   "execution_count": null,
   "metadata": {
    "Collapsed": "false"
   },
   "outputs": [],
   "source": [
    "# Some sentences from here: https://sentence.yourdictionary.com/mexico\n",
    "sentences = [\"The the the the the the the the the\", \n",
    "             \". . . . . . . . . . .\",\n",
    "             \"gre htrha hthateh heta ger er\",\n",
    "             \"The sky is blue today.\",\n",
    "             \"James Cook was a very good man and a loving husband.\"]\n",
    "colors = ['blue', 'red', 'green', 'grey', 'purple', 'orange', 'lightblue', 'yellow']\n",
    "\n",
    "plt.figure(figsize=(12,7))\n",
    "plt.axhline(color='black')\n",
    "plt.axvline(color='black')\n",
    "for n,s in enumerate(sentences):\n",
    "    Wp, tokens = get_visual_embs(s)\n",
    "    print(tokens)\n",
    "    plt.scatter(Wp[0,:], Wp[1,:], color=colors[n], marker='x', label=s)\n",
    "    rX = max(Wp[0,:])-min(Wp[0,:])\n",
    "    rY = max(Wp[1,:])-min(Wp[1,:])\n",
    "    rM = max(rX, rY)\n",
    "    eps = 0.005\n",
    "    eps2 = 0.005\n",
    "    for i, txt in enumerate(tokens):\n",
    "        if txt in ['[CLS]', '[SEP]']:\n",
    "            plt.annotate(txt, (Wp[0,i]+rX*eps, Wp[1,i]+rX*eps))\n",
    "        if i>0:\n",
    "            plt.arrow(Wp[0,i-1],Wp[1,i-1], Wp[0,i]-Wp[0,i-1], Wp[1,i]-Wp[1,i-1], color=colors[n], head_length=rM*eps2*4, head_width=rM*eps2*2, length_includes_head=True)\n",
    "plt.legend()\n",
    "plt.show()"
   ]
  },
  {
   "cell_type": "code",
   "execution_count": null,
   "metadata": {
    "Collapsed": "false"
   },
   "outputs": [],
   "source": []
  },
  {
   "cell_type": "code",
   "execution_count": null,
   "metadata": {
    "Collapsed": "false"
   },
   "outputs": [],
   "source": []
  }
 ],
 "metadata": {
  "kernelspec": {
   "display_name": "Python [conda env:env_multilingual_class]",
   "language": "python",
   "name": "conda-env-env_multilingual_class-py"
  },
  "language_info": {
   "codemirror_mode": {
    "name": "ipython",
    "version": 3
   },
   "file_extension": ".py",
   "mimetype": "text/x-python",
   "name": "python",
   "nbconvert_exporter": "python",
   "pygments_lexer": "ipython3",
   "version": "3.7.6"
  }
 },
 "nbformat": 4,
 "nbformat_minor": 4
}
