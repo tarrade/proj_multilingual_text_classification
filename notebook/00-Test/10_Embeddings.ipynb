{
 "cells": [
  {
   "cell_type": "markdown",
   "metadata": {
    "Collapsed": "false"
   },
   "source": [
    "## Experiments with Embeddings"
   ]
  },
  {
   "cell_type": "markdown",
   "metadata": {
    "Collapsed": "false"
   },
   "source": [
    "This notebook is used to experiment with different embeddings we retrieve from language models like BERT and GPT-2. \n",
    "Ultimately, words translated in different languages are plotted against each other to show the capabilities of cross-lingual embeddings."
   ]
  },
  {
   "cell_type": "code",
   "execution_count": 1,
   "metadata": {
    "Collapsed": "false"
   },
   "outputs": [],
   "source": [
    "import matplotlib.pyplot as plt\n",
    "import numpy as np\n",
    "from sklearn.manifold import TSNE"
   ]
  },
  {
   "cell_type": "markdown",
   "metadata": {
    "Collapsed": "false"
   },
   "source": [
    "### Extract Embeddings from BERT"
   ]
  },
  {
   "cell_type": "markdown",
   "metadata": {
    "Collapsed": "false"
   },
   "source": [
    "#### 1. Single Sentence"
   ]
  },
  {
   "cell_type": "code",
   "execution_count": 2,
   "metadata": {
    "Collapsed": "false"
   },
   "outputs": [],
   "source": [
    "# following this blog: https://towardsdatascience.com/nlp-extract-contextualized-word-embeddings-from-bert-keras-tf-67ef29f60a7b\n",
    "# Defining global parameters for the embedding extraction\n",
    "\n",
    "# check if this is current information\n",
    "#BERT_MODEL = 'uncased_L-12_H-768_A-12'\n",
    "#BERT_PRETRAINED_DIR = 'gs://cloud-tpu-checkpoints/bert/' + BERT_MODEL\n",
    "#print('***** BERT pretrained directory: {} *****'.format(BERT_PRETRAINED_DIR))\n",
    "#!gsutil ls $BERT_PRETRAINED_DIR\n",
    "\n",
    "\n",
    "#LAYERS = [-1,-2,-3,-4]\n",
    "#NUM_TPU_CORES = 8\n",
    "#MAX_SEQ_LENGTH = 128\n",
    "#BERT_CONFIG = BERT_PRETRAINED_DIR + '/bert_config.json'\n",
    "#CHKPT_DIR = BERT_PRETRAINED_DIR + '/bert_model.ckpt'\n",
    "#VOCAB_FILE = BERT_PRETRAINED_DIR + '/vocab.txt'\n",
    "#INIT_CHECKPOINT = BERT_PRETRAINED_DIR + '/bert_model.ckpt'\n",
    "#BATCH_SIZE = 128"
   ]
  },
  {
   "cell_type": "code",
   "execution_count": 60,
   "metadata": {
    "Collapsed": "false"
   },
   "outputs": [],
   "source": [
    "# alternative approach that looks more sensible (from https://github.com/huggingface/transformers/issues/1950)\n",
    "import tensorflow as tf\n",
    "from transformers import BertTokenizer, TFBertModel\n",
    "\n",
    "MODEL_TYPE = 'bert-base-multilingual-uncased'\n",
    "sequence = [\"Hello my dog is cute\"]\n",
    "\n",
    "tokenizer = BertTokenizer.from_pretrained(MODEL_TYPE)\n",
    "model = TFBertModel.from_pretrained(MODEL_TYPE)"
   ]
  },
  {
   "cell_type": "code",
   "execution_count": 4,
   "metadata": {
    "Collapsed": "false"
   },
   "outputs": [],
   "source": [
    "# embeddings \n",
    "input_ids = tf.constant(tokenizer.encode(sequence[0]))[None, :] # Batch size 1\n",
    "outputs = model(input_ids)\n",
    "last_hidden_states = outputs[0]  # The last hidden-state is the first element of the output tuple"
   ]
  },
  {
   "cell_type": "code",
   "execution_count": 5,
   "metadata": {
    "Collapsed": "false"
   },
   "outputs": [
    {
     "data": {
      "text/plain": [
       "<tf.Tensor: shape=(1, 8), dtype=int32, numpy=\n",
       "array([[  101, 29155, 11153, 14791, 10127, 18233, 10111,   102]],\n",
       "      dtype=int32)>"
      ]
     },
     "execution_count": 5,
     "metadata": {},
     "output_type": "execute_result"
    }
   ],
   "source": [
    "input_ids"
   ]
  },
  {
   "cell_type": "code",
   "execution_count": 6,
   "metadata": {
    "Collapsed": "false"
   },
   "outputs": [
    {
     "data": {
      "text/plain": [
       "<tf.Tensor: shape=(1, 8, 768), dtype=float32, numpy=\n",
       "array([[[-4.0169481e-02,  2.5016520e-02,  7.1823791e-02, ...,\n",
       "          3.4245901e-02,  1.4751017e-02, -2.0615861e-02],\n",
       "        [-1.0604652e-02,  5.8223490e-02,  1.4052227e-02, ...,\n",
       "         -2.0286964e-01,  1.9348401e-01, -8.5748935e-01],\n",
       "        [-2.2295831e-01, -1.1940919e-01,  4.9146736e-01, ...,\n",
       "         -2.5826687e-01, -3.6580643e-01, -2.5115848e-01],\n",
       "        ...,\n",
       "        [-5.0562215e-01,  4.2590994e-01,  5.5818164e-01, ...,\n",
       "         -1.9141127e-01,  6.8370527e-01, -4.2567784e-01],\n",
       "        [ 9.9793263e-04,  5.3418463e-01,  7.1731418e-01, ...,\n",
       "          1.8512493e-01, -1.1976205e-01, -5.9575319e-01],\n",
       "        [-1.7058247e-01,  6.3964289e-01, -2.7949953e-01, ...,\n",
       "          1.0101894e+00,  4.8726225e-01, -1.2460536e+00]]], dtype=float32)>"
      ]
     },
     "execution_count": 6,
     "metadata": {},
     "output_type": "execute_result"
    }
   ],
   "source": [
    "last_hidden_states"
   ]
  },
  {
   "cell_type": "code",
   "execution_count": 7,
   "metadata": {
    "Collapsed": "false"
   },
   "outputs": [
    {
     "data": {
      "text/plain": [
       "[101, 29155, 11153, 14791, 10127, 18233, 10111, 102]"
      ]
     },
     "execution_count": 7,
     "metadata": {},
     "output_type": "execute_result"
    }
   ],
   "source": [
    "# tokens\n",
    "token_ids = tokenizer.encode_plus(sequence[0], max_length=50, pad_to_max_length=False)['input_ids']\n",
    "token_ids"
   ]
  },
  {
   "cell_type": "code",
   "execution_count": 8,
   "metadata": {
    "Collapsed": "false"
   },
   "outputs": [
    {
     "data": {
      "text/plain": [
       "['[ C L S ]',\n",
       " 'h e l l o',\n",
       " 'm y',\n",
       " 'd o g',\n",
       " 'i s',\n",
       " 'c u t',\n",
       " '# # e',\n",
       " '[ S E P ]']"
      ]
     },
     "execution_count": 8,
     "metadata": {},
     "output_type": "execute_result"
    }
   ],
   "source": [
    "labels = [tokenizer.decode(int(token_id)) for token_id in token_ids]\n",
    "labels"
   ]
  },
  {
   "cell_type": "code",
   "execution_count": 9,
   "metadata": {
    "Collapsed": "false"
   },
   "outputs": [
    {
     "data": {
      "text/plain": [
       "<tf.Tensor: shape=(8,), dtype=int32, numpy=\n",
       "array([  101, 29155, 11153, 14791, 10127, 18233, 10111,   102],\n",
       "      dtype=int32)>"
      ]
     },
     "execution_count": 9,
     "metadata": {},
     "output_type": "execute_result"
    }
   ],
   "source": [
    "input_ids[0]"
   ]
  },
  {
   "cell_type": "code",
   "execution_count": 10,
   "metadata": {
    "Collapsed": "false"
   },
   "outputs": [],
   "source": [
    "outputs = model(input_ids)"
   ]
  },
  {
   "cell_type": "code",
   "execution_count": 11,
   "metadata": {
    "Collapsed": "false"
   },
   "outputs": [],
   "source": [
    "last_hidden_states = outputs[0]  # The last hidden-state is the first element of the output tuple"
   ]
  },
  {
   "cell_type": "code",
   "execution_count": 12,
   "metadata": {
    "Collapsed": "false"
   },
   "outputs": [
    {
     "data": {
      "text/plain": [
       "tensorflow.python.framework.ops.EagerTensor"
      ]
     },
     "execution_count": 12,
     "metadata": {},
     "output_type": "execute_result"
    }
   ],
   "source": [
    "type(last_hidden_states[0])"
   ]
  },
  {
   "cell_type": "code",
   "execution_count": 13,
   "metadata": {
    "Collapsed": "false"
   },
   "outputs": [],
   "source": [
    "# transform into a shape that can be used for dimensionality reduction\n",
    "#vectors = last_hidden_states"
   ]
  },
  {
   "cell_type": "markdown",
   "metadata": {
    "Collapsed": "false"
   },
   "source": [
    "#### 2. Multiple Sentences"
   ]
  },
  {
   "cell_type": "code",
   "execution_count": 62,
   "metadata": {
    "Collapsed": "false"
   },
   "outputs": [],
   "source": [
    "sequences = [\"Hello, my dog is cute\",\"Hallo, mein Hund ist süss\"]\n"
   ]
  },
  {
   "cell_type": "code",
   "execution_count": 15,
   "metadata": {
    "Collapsed": "false"
   },
   "outputs": [
    {
     "name": "stdout",
     "output_type": "stream",
     "text": [
      "0\n",
      "1\n"
     ]
    }
   ],
   "source": [
    "input_ids_multiple = []\n",
    "outputs_multiple = []\n",
    "last_hidden_states_multiple = []\n",
    "token_ids_multiple = []\n",
    "for index,sequence in enumerate(sequences):\n",
    "    print(index)\n",
    "    #input_ids_multiple = [tf.constant(tokenizer.encode(sequences[index]))[None, :] for index,sequence in enumerate(sequences)] # Batch size 1\n",
    "\n",
    "    input_ids_multiple.append(tf.constant(tokenizer.encode(sequences[index]))[None, :])\n",
    "\n",
    "#for index,sequence in enumerate(sequences):    \n",
    "    outputs_multiple.append(model(input_ids_multiple[index]))\n",
    "    last_hidden_states_multiple.append(outputs_multiple[index][0])\n",
    "    token_ids_multiple.append(tokenizer.encode_plus(sequences[index], max_length=50, pad_to_max_length=False)['input_ids'])\n"
   ]
  },
  {
   "cell_type": "code",
   "execution_count": 16,
   "metadata": {
    "Collapsed": "false"
   },
   "outputs": [
    {
     "data": {
      "text/plain": [
       "[<tf.Tensor: shape=(1, 9), dtype=int32, numpy=\n",
       " array([[  101, 29155,   117, 11153, 14791, 10127, 18233, 10111,   102]],\n",
       "       dtype=int32)>,\n",
       " <tf.Tensor: shape=(1, 10), dtype=int32, numpy=\n",
       " array([[  101, 11672, 10132,   117, 32045, 65714, 10339, 10877, 10107,\n",
       "           102]], dtype=int32)>]"
      ]
     },
     "execution_count": 16,
     "metadata": {},
     "output_type": "execute_result"
    }
   ],
   "source": [
    "\n",
    "\n",
    "#input_ids_multiple = [tf.constant(tokenizer.encode(sequences[index]))[None, :] for index,sequence in enumerate(sequences)] # Batch size 1\n",
    "input_ids_multiple\n",
    "#outputs = model(input_ids)\n",
    "#last_hidden_states = outputs[0]  # The last hidden-state is the first element of the output tuple"
   ]
  },
  {
   "cell_type": "code",
   "execution_count": 17,
   "metadata": {
    "Collapsed": "false"
   },
   "outputs": [
    {
     "data": {
      "text/plain": [
       "[<tf.Tensor: shape=(1, 9), dtype=int32, numpy=\n",
       " array([[  101, 29155,   117, 11153, 14791, 10127, 18233, 10111,   102]],\n",
       "       dtype=int32)>,\n",
       " <tf.Tensor: shape=(1, 10), dtype=int32, numpy=\n",
       " array([[  101, 11672, 10132,   117, 32045, 65714, 10339, 10877, 10107,\n",
       "           102]], dtype=int32)>]"
      ]
     },
     "execution_count": 17,
     "metadata": {},
     "output_type": "execute_result"
    }
   ],
   "source": [
    "input_ids_multiple"
   ]
  },
  {
   "cell_type": "code",
   "execution_count": 18,
   "metadata": {
    "Collapsed": "false"
   },
   "outputs": [
    {
     "data": {
      "text/plain": [
       "<tf.Tensor: shape=(1, 10, 768), dtype=float32, numpy=\n",
       "array([[[-0.05643285, -0.0562983 ,  0.04657263, ...,  0.01502229,\n",
       "          0.04320478,  0.0153157 ],\n",
       "        [-0.05100119,  0.42568424, -0.05206291, ..., -0.6043033 ,\n",
       "          0.4308951 , -0.7492055 ],\n",
       "        [-0.7355039 ,  0.17071483, -0.08421617, ...,  0.14154503,\n",
       "          0.003566  , -1.2867622 ],\n",
       "        ...,\n",
       "        [-0.409176  ,  0.17465302,  0.64892274, ...,  0.23418134,\n",
       "          0.70506454, -0.3742396 ],\n",
       "        [-0.12469118,  0.52839434, -0.26922244, ...,  0.47998846,\n",
       "         -0.6351285 , -0.4188826 ],\n",
       "        [-0.4250155 ,  0.4443742 , -0.3398863 , ...,  0.6534614 ,\n",
       "          0.07701468, -0.9209932 ]]], dtype=float32)>"
      ]
     },
     "execution_count": 18,
     "metadata": {},
     "output_type": "execute_result"
    }
   ],
   "source": [
    "#outputs_multiple = [model(input_ids_multiple[index]) for index,sequence in enumerate(input_ids_multiple)]\n",
    "outputs_multiple[1][0]"
   ]
  },
  {
   "cell_type": "code",
   "execution_count": 19,
   "metadata": {
    "Collapsed": "false"
   },
   "outputs": [],
   "source": [
    "#last_hidden_states_multiple = [outputs_multiple[index][0] for sequence in outputs_multiple]  # The last hidden-state is the first element of the output tuple"
   ]
  },
  {
   "cell_type": "code",
   "execution_count": 20,
   "metadata": {
    "Collapsed": "false"
   },
   "outputs": [
    {
     "data": {
      "text/plain": [
       "[<tf.Tensor: shape=(1, 9, 768), dtype=float32, numpy=\n",
       " array([[[-0.07863382,  0.01926805,  0.05088728, ...,  0.01775989,\n",
       "           0.01401979, -0.01851666],\n",
       "         [ 0.08923549, -0.02662132,  0.04989465, ..., -0.18154238,\n",
       "           0.31731683, -0.88024807],\n",
       "         [ 0.11105113,  0.32239962,  0.2798227 , ..., -0.01569491,\n",
       "          -0.552832  , -0.48516607],\n",
       "         ...,\n",
       "         [-0.50330734,  0.40592268,  0.7111038 , ..., -0.10453764,\n",
       "           0.762413  , -0.38292968],\n",
       "         [-0.05338829,  0.5893923 ,  0.684625  , ...,  0.28321144,\n",
       "          -0.08393511, -0.528658  ],\n",
       "         [-0.15164855,  0.55400425, -0.21994124, ...,  0.92896444,\n",
       "           0.2695102 , -1.2310598 ]]], dtype=float32)>,\n",
       " <tf.Tensor: shape=(1, 10, 768), dtype=float32, numpy=\n",
       " array([[[-0.05643285, -0.0562983 ,  0.04657263, ...,  0.01502229,\n",
       "           0.04320478,  0.0153157 ],\n",
       "         [-0.05100119,  0.42568424, -0.05206291, ..., -0.6043033 ,\n",
       "           0.4308951 , -0.7492055 ],\n",
       "         [-0.7355039 ,  0.17071483, -0.08421617, ...,  0.14154503,\n",
       "           0.003566  , -1.2867622 ],\n",
       "         ...,\n",
       "         [-0.409176  ,  0.17465302,  0.64892274, ...,  0.23418134,\n",
       "           0.70506454, -0.3742396 ],\n",
       "         [-0.12469118,  0.52839434, -0.26922244, ...,  0.47998846,\n",
       "          -0.6351285 , -0.4188826 ],\n",
       "         [-0.4250155 ,  0.4443742 , -0.3398863 , ...,  0.6534614 ,\n",
       "           0.07701468, -0.9209932 ]]], dtype=float32)>]"
      ]
     },
     "execution_count": 20,
     "metadata": {},
     "output_type": "execute_result"
    }
   ],
   "source": [
    "last_hidden_states_multiple"
   ]
  },
  {
   "cell_type": "code",
   "execution_count": 21,
   "metadata": {
    "Collapsed": "false"
   },
   "outputs": [
    {
     "data": {
      "text/plain": [
       "[[101, 29155, 117, 11153, 14791, 10127, 18233, 10111, 102],\n",
       " [101, 11672, 10132, 117, 32045, 65714, 10339, 10877, 10107, 102]]"
      ]
     },
     "execution_count": 21,
     "metadata": {},
     "output_type": "execute_result"
    }
   ],
   "source": [
    "# tokens\n",
    "#token_ids_multiple = []\n",
    "#for index,sequence in enumerate(sequences):\n",
    "#    token_ids_multiple.append(tokenizer.encode_plus(sequences[index], max_length=50, pad_to_max_length=False)['input_ids'])\n",
    "#token_ids_multiple = [tokenizer.encode_plus(sequences[index], max_length=50, pad_to_max_length=False)['input_ids'] for index,sequence in enumerate(sequences)]\n",
    "token_ids_multiple"
   ]
  },
  {
   "cell_type": "code",
   "execution_count": 22,
   "metadata": {
    "Collapsed": "false"
   },
   "outputs": [
    {
     "data": {
      "text/plain": [
       "[101,\n",
       " 29155,\n",
       " 117,\n",
       " 11153,\n",
       " 14791,\n",
       " 10127,\n",
       " 18233,\n",
       " 10111,\n",
       " 102,\n",
       " 101,\n",
       " 11672,\n",
       " 10132,\n",
       " 117,\n",
       " 32045,\n",
       " 65714,\n",
       " 10339,\n",
       " 10877,\n",
       " 10107,\n",
       " 102]"
      ]
     },
     "execution_count": 22,
     "metadata": {},
     "output_type": "execute_result"
    }
   ],
   "source": [
    "flatten_tokens_multiple = [item for sublist in token_ids_multiple for item in sublist]\n",
    "flatten_tokens_multiple"
   ]
  },
  {
   "cell_type": "code",
   "execution_count": 66,
   "metadata": {
    "Collapsed": "false"
   },
   "outputs": [
    {
     "data": {
      "text/plain": [
       "['[ C L S ]',\n",
       " 'h e l l o',\n",
       " ',',\n",
       " 'm y',\n",
       " 'd o g',\n",
       " 'i s',\n",
       " 'c u t',\n",
       " '# # e',\n",
       " '[ S E P ]',\n",
       " '[ C L S ]',\n",
       " 'h a l l',\n",
       " '# # o',\n",
       " ',',\n",
       " 'm e i n',\n",
       " 'h u n d',\n",
       " 'i s t',\n",
       " 's u s',\n",
       " '# # s',\n",
       " '[ S E P ]']"
      ]
     },
     "execution_count": 66,
     "metadata": {},
     "output_type": "execute_result"
    }
   ],
   "source": [
    "labels_multiple = [tokenizer.decode(int(token_id)) for token_id in flatten_tokens_multiple] \n",
    "labels_multiple"
   ]
  },
  {
   "cell_type": "code",
   "execution_count": 24,
   "metadata": {
    "Collapsed": "false"
   },
   "outputs": [
    {
     "name": "stdout",
     "output_type": "stream",
     "text": [
      "19 19\n"
     ]
    }
   ],
   "source": [
    "print(len(labels_multiple), len(flatten_tokens_multiple))"
   ]
  },
  {
   "cell_type": "markdown",
   "metadata": {
    "Collapsed": "false"
   },
   "source": [
    "### Dimensionality Reduction"
   ]
  },
  {
   "cell_type": "markdown",
   "metadata": {
    "Collapsed": "false"
   },
   "source": [
    "#### t-SNE"
   ]
  },
  {
   "cell_type": "code",
   "execution_count": 56,
   "metadata": {
    "Collapsed": "false"
   },
   "outputs": [],
   "source": [
    "#tsne_model = TSNE(perplexity=1.5, n_components=2, init='pca', n_iter=2500, random_state=23)\n",
    "#new_values = [tsne_model.fit_transform(tokens_multiple) for sequence in sequences]\n",
    "#sequences = [\"Hello my dog is cute\"]\n",
    "\n",
    "def plot_embeddings2(tokens,labels,sequences):\n",
    "    tsne_model = TSNE(perplexity=1.5, n_components=2, init='pca', n_iter=2500, random_state=23)\n",
    "\n",
    "    if len(sequences)>1:\n",
    "        tsne_inputs = []\n",
    "        for index,sequence in enumerate(sequences):\n",
    "            tsne_inputs.append(np.array(tokens[index][0]))\n",
    "\n",
    "        tsne_outputs = []\n",
    "        for index,sequence in enumerate(sequences):\n",
    "            tsne_outputs.append(tsne_model.fit_transform(np.array(tsne_inputs[index])))\n",
    "\n",
    "        x = [list(zip(*tsne_outputs[index]))[0] for index,sequence in enumerate(sequences)]\n",
    "        y = [list(zip(*tsne_outputs[index]))[1] for index,sequence in enumerate(sequences)]\n",
    "\n",
    "        plt.figure(figsize=(7, 6)) \n",
    "        for index in range(len(sequences)):\n",
    "            plt.scatter(x[index],y[index])\n",
    "            for i in range(len(x[index])):\n",
    "                plt.annotate(labels[i],\n",
    "                             xy=(x[index][i], y[index][i]),\n",
    "                             xytext=(5, 2),\n",
    "                             textcoords='offset points',\n",
    "                             ha='right',\n",
    "                             va='bottom')\n",
    "    else:\n",
    "        tsne_outputs = tsne_model.fit_transform(tokens)\n",
    "\n",
    "        x = tsne_outputs[:,0]\n",
    "        y = tsne_outputs[:,1]\n",
    "\n",
    "\n",
    "        plt.figure(figsize=(7, 6)) \n",
    "        \n",
    "        plt.scatter(x,y)\n",
    "\n",
    "        print(len(x))\n",
    "        print(len(labels))\n",
    "        for i in range(len(x)):\n",
    "            plt.annotate(labels[i],\n",
    "                         xy=(x[i], y[i]),\n",
    "                         xytext=(5, 2),\n",
    "                         textcoords='offset points',\n",
    "                         ha='right',\n",
    "                         va='bottom')"
   ]
  },
  {
   "cell_type": "code",
   "execution_count": 25,
   "metadata": {
    "Collapsed": "false"
   },
   "outputs": [],
   "source": [
    "def plot_embeddings(tokens,labels,sequences):\n",
    "    tsne_model = TSNE(perplexity=1.5, n_components=2, init='pca', n_iter=2500, random_state=23)\n",
    "    new_values = tsne_model.fit_transform(tokens)\n",
    "\n",
    "    x = new_values[:,0]\n",
    "    y = new_values[:,1]\n",
    "\n",
    "\n",
    "    plt.figure(figsize=(7, 6)) \n",
    "    if len(sequences)>1:\n",
    "        \n",
    "        flatten_tokens = [item for sublist in token_ids_multiple for item in sublist]\n",
    "        start_next_sequence = int(len(flatten_tokens) / len(sequences))\n",
    "\n",
    "        plt.scatter(x[:start_next_sequence],y[:start_next_sequence])\n",
    "\n",
    "        for index,sequence in enumerate(sequences[1:]):\n",
    "            print(start_next_sequence*index)\n",
    "            print(type(start_next_sequence*index))\n",
    "            plt.scatter(x[start_next_sequence*index:],y[start_next_sequence*index:])\n",
    "    else:\n",
    "        plt.scatter(x,y)\n",
    "\n",
    "    print(len(x))\n",
    "    print(len(labels))\n",
    "    for i in range(len(x)):\n",
    "        plt.annotate(labels[i],\n",
    "                     xy=(x[i], y[i]),\n",
    "                     xytext=(5, 2),\n",
    "                     textcoords='offset points',\n",
    "                     ha='right',\n",
    "                     va='bottom')"
   ]
  },
  {
   "cell_type": "code",
   "execution_count": 64,
   "metadata": {
    "Collapsed": "false"
   },
   "outputs": [
    {
     "name": "stdout",
     "output_type": "stream",
     "text": [
      "8\n",
      "8\n"
     ]
    },
    {
     "data": {
      "image/png": "[encoded data removed]",
      "text/plain": [
       "<Figure size 504x432 with 1 Axes>"
      ]
     },
     "metadata": {
      "needs_background": "light"
     },
     "output_type": "display_data"
    }
   ],
   "source": [
    "plot_embeddings2(tokens,labels,sequence)"
   ]
  },
  {
   "cell_type": "code",
   "execution_count": 67,
   "metadata": {
    "Collapsed": "false"
   },
   "outputs": [
    {
     "data": {
      "image/png": "[encoded data removed]",
      "text/plain": [
       "<Figure size 504x432 with 1 Axes>"
      ]
     },
     "metadata": {
      "needs_background": "light"
     },
     "output_type": "display_data"
    }
   ],
   "source": [
    "plot_embeddings2(last_hidden_states_multiple,labels_multiple,sequences)"
   ]
  },
  {
   "cell_type": "code",
   "execution_count": 63,
   "metadata": {
    "Collapsed": "false"
   },
   "outputs": [
    {
     "data": {
      "text/plain": [
       "2"
      ]
     },
     "execution_count": 63,
     "metadata": {},
     "output_type": "execute_result"
    }
   ],
   "source": [
    "len(sequences)"
   ]
  },
  {
   "cell_type": "markdown",
   "metadata": {
    "Collapsed": "false"
   },
   "source": [
    "##### 1. Single Sentence"
   ]
  },
  {
   "cell_type": "code",
   "execution_count": 26,
   "metadata": {
    "Collapsed": "false"
   },
   "outputs": [],
   "source": [
    "# from https://github.com/ioannispartalas/CrossLingual-NLP-AMLD2020/blob/master/notebooks/AMLD%20Intro.ipynb\n",
    "\n",
    "# For more information of TSNE: https://scikit-learn.org/stable/modules/generated/sklearn.manifold.TSNE.html\n",
    "# For more information on GloVe: https://nlp.stanford.edu/projects/glove/\n",
    "#vectors = open('../data/glove_excerpt.txt').read().strip().split('\\n')\n",
    "#vectors = {line.split()[0]:np.array(line.split()[1:]).astype(float) for line in vectors}"
   ]
  },
  {
   "cell_type": "code",
   "execution_count": 27,
   "metadata": {
    "Collapsed": "false"
   },
   "outputs": [
    {
     "data": {
      "text/plain": [
       "(8, 768)"
      ]
     },
     "execution_count": 27,
     "metadata": {},
     "output_type": "execute_result"
    }
   ],
   "source": [
    "last_hidden_states.numpy()[0].shape"
   ]
  },
  {
   "cell_type": "code",
   "execution_count": 28,
   "metadata": {
    "Collapsed": "false"
   },
   "outputs": [
    {
     "data": {
      "text/plain": [
       "8"
      ]
     },
     "execution_count": 28,
     "metadata": {},
     "output_type": "execute_result"
    }
   ],
   "source": [
    "tokens = last_hidden_states.numpy()[0].tolist()\n",
    "len(tokens)"
   ]
  },
  {
   "cell_type": "code",
   "execution_count": 29,
   "metadata": {
    "Collapsed": "false"
   },
   "outputs": [
    {
     "data": {
      "text/plain": [
       "list"
      ]
     },
     "execution_count": 29,
     "metadata": {},
     "output_type": "execute_result"
    }
   ],
   "source": [
    "type(tokens)"
   ]
  },
  {
   "cell_type": "code",
   "execution_count": 30,
   "metadata": {
    "Collapsed": "false"
   },
   "outputs": [
    {
     "data": {
      "text/plain": [
       "25"
      ]
     },
     "execution_count": 30,
     "metadata": {},
     "output_type": "execute_result"
    }
   ],
   "source": [
    "len(sequence)\n"
   ]
  },
  {
   "cell_type": "code",
   "execution_count": 31,
   "metadata": {
    "Collapsed": "false"
   },
   "outputs": [
    {
     "name": "stdout",
     "output_type": "stream",
     "text": [
      "0\n",
      "<class 'int'>\n",
      "0\n",
      "<class 'int'>\n",
      "0\n",
      "<class 'int'>\n",
      "0\n",
      "<class 'int'>\n",
      "0\n",
      "<class 'int'>\n",
      "0\n",
      "<class 'int'>\n",
      "0\n",
      "<class 'int'>\n",
      "0\n",
      "<class 'int'>\n",
      "0\n",
      "<class 'int'>\n",
      "0\n",
      "<class 'int'>\n",
      "0\n",
      "<class 'int'>\n",
      "0\n",
      "<class 'int'>\n",
      "0\n",
      "<class 'int'>\n",
      "0\n",
      "<class 'int'>\n",
      "0\n",
      "<class 'int'>\n",
      "0\n",
      "<class 'int'>\n",
      "0\n",
      "<class 'int'>\n",
      "0\n",
      "<class 'int'>\n",
      "0\n",
      "<class 'int'>\n",
      "0\n",
      "<class 'int'>\n",
      "0\n",
      "<class 'int'>\n",
      "0\n",
      "<class 'int'>\n",
      "0\n",
      "<class 'int'>\n",
      "0\n",
      "<class 'int'>\n",
      "8\n",
      "8\n"
     ]
    },
    {
     "data": {
      "image/png": "[encoded data removed]",
      "text/plain": [
       "<Figure size 504x432 with 1 Axes>"
      ]
     },
     "metadata": {
      "needs_background": "light"
     },
     "output_type": "display_data"
    }
   ],
   "source": [
    "plot_embeddings(tokens,labels,sequence)"
   ]
  },
  {
   "cell_type": "code",
   "execution_count": 32,
   "metadata": {
    "Collapsed": "false"
   },
   "outputs": [
    {
     "data": {
      "image/png": "[encoded data removed]",
      "text/plain": [
       "<Figure size 504x432 with 1 Axes>"
      ]
     },
     "metadata": {
      "needs_background": "light"
     },
     "output_type": "display_data"
    }
   ],
   "source": [
    "# Let's visualize this, using TSNE, a methods that can reduce the dimensionality of the vectors\n",
    "#labels = list(vectors.keys())\n",
    "#tokens = list(vectors.values())\n",
    "#tokens = last_hidden_states.numpy()[0][0]\n",
    "\n",
    "tsne_model = TSNE(perplexity=1.5, n_components=2, init='pca', n_iter=2500, random_state=23)\n",
    "new_values = tsne_model.fit_transform(tokens)\n",
    "\n",
    "x = new_values[:,0]\n",
    "y = new_values[:,1]\n",
    "\n",
    "plt.figure(figsize=(7, 6)) \n",
    "for i in range(len(x)):\n",
    "    plt.scatter(x[i],y[i])\n",
    "    plt.annotate(labels[i],\n",
    "                 xy=(x[i], y[i]),\n",
    "                 xytext=(5, 2),\n",
    "                 textcoords='offset points',\n",
    "                 ha='right',\n",
    "                 va='bottom')"
   ]
  },
  {
   "cell_type": "markdown",
   "metadata": {
    "Collapsed": "false"
   },
   "source": [
    "##### 2. Multiple Sentences"
   ]
  },
  {
   "cell_type": "code",
   "execution_count": 33,
   "metadata": {
    "Collapsed": "false"
   },
   "outputs": [],
   "source": [
    "tsne_inputs = []\n",
    "for index,sequence in enumerate(sequences):\n",
    "    tsne_inputs.append(np.array(last_hidden_states_multiple[index][0]))"
   ]
  },
  {
   "cell_type": "code",
   "execution_count": 34,
   "metadata": {
    "Collapsed": "false"
   },
   "outputs": [
    {
     "data": {
      "text/plain": [
       "[array([[ 322.56506 , -175.26256 ],\n",
       "        [ 176.47827 , -137.863   ],\n",
       "        [ 231.96774 ,  368.4013  ],\n",
       "        [ 135.56084 ,  330.52054 ],\n",
       "        [ -19.93609 , -240.93561 ],\n",
       "        [ -15.964896,  349.92944 ],\n",
       "        [-103.41013 , -305.78452 ],\n",
       "        [-229.82587 , -407.44937 ],\n",
       "        [-346.02762 , -509.4186  ]], dtype=float32),\n",
       " array([[ 352.9157  ,  415.75586 ],\n",
       "        [ 398.57944 ,  467.69272 ],\n",
       "        [  44.55948 , -172.81921 ],\n",
       "        [  61.336018, -248.06631 ],\n",
       "        [  75.23381 , -296.98856 ],\n",
       "        [-271.54404 , -403.3205  ],\n",
       "        [-256.76926 , -341.34357 ],\n",
       "        [-291.4128  , -456.45917 ],\n",
       "        [-269.03116 , -261.07404 ],\n",
       "        [-292.97946 , -190.9454  ]], dtype=float32)]"
      ]
     },
     "execution_count": 34,
     "metadata": {},
     "output_type": "execute_result"
    }
   ],
   "source": [
    "tsne_model = TSNE(perplexity=1.5, n_components=2, init='pca', n_iter=2500, random_state=23)\n",
    "tsne_outputs = []\n",
    "for index,sequence in enumerate(sequences):\n",
    "    tsne_outputs.append(tsne_model.fit_transform(np.array(tsne_inputs[index])))\n",
    "    \n",
    "tsne_outputs\n",
    "#new_values = [tsne_model.fit_transform(last_hidden_states_multiple) for sequence in sequences]\n",
    "#new_values\n",
    "#np.array(new_values)"
   ]
  },
  {
   "cell_type": "code",
   "execution_count": 35,
   "metadata": {
    "Collapsed": "false"
   },
   "outputs": [],
   "source": [
    "#print(len(list(zip(*tsne_outputs[0]))[0]), \\\n",
    "#len(list(zip(*tsne_outputs[1]))[0]))"
   ]
  },
  {
   "cell_type": "code",
   "execution_count": 36,
   "metadata": {
    "Collapsed": "false"
   },
   "outputs": [
    {
     "data": {
      "text/plain": [
       "[(322.56506,\n",
       "  176.47827,\n",
       "  231.96774,\n",
       "  135.56084,\n",
       "  -19.93609,\n",
       "  -15.964896,\n",
       "  -103.41013,\n",
       "  -229.82587,\n",
       "  -346.02762),\n",
       " (352.9157,\n",
       "  398.57944,\n",
       "  44.55948,\n",
       "  61.336018,\n",
       "  75.23381,\n",
       "  -271.54404,\n",
       "  -256.76926,\n",
       "  -291.4128,\n",
       "  -269.03116,\n",
       "  -292.97946)]"
      ]
     },
     "execution_count": 36,
     "metadata": {},
     "output_type": "execute_result"
    }
   ],
   "source": [
    "x = [list(zip(*tsne_outputs[index]))[0] for index,sequence in enumerate(sequences)]\n",
    "y = [list(zip(*tsne_outputs[index]))[1] for index,sequence in enumerate(sequences)]\n",
    "x\n",
    "#tsne_outputs[0][:]\n",
    "#tsne_outputs[:,0]\n",
    "#tsne_outputs[index_sequence][index_array][0]"
   ]
  },
  {
   "cell_type": "code",
   "execution_count": 37,
   "metadata": {
    "Collapsed": "false"
   },
   "outputs": [],
   "source": [
    "#next(zip(*tsne_outputs))"
   ]
  },
  {
   "cell_type": "code",
   "execution_count": 38,
   "metadata": {
    "Collapsed": "false"
   },
   "outputs": [],
   "source": [
    "#all_tokens_multiple = [last_hidden_states_multiple[index][0] for index,sequence in enumerate(sequences)]\n",
    "#all_tokens_multiple\n",
    "#all_tokens_multiple[0].numpy()[0].shape\n",
    "#all_tokens_multiple[0].numpy()[0].tolist()"
   ]
  },
  {
   "cell_type": "code",
   "execution_count": 39,
   "metadata": {
    "Collapsed": "false"
   },
   "outputs": [],
   "source": [
    "#tokens_multiple = [all_tokens_multiple[index].numpy()[0].tolist() for index,sequence in enumerate(sequences)][0]"
   ]
  },
  {
   "cell_type": "code",
   "execution_count": 40,
   "metadata": {
    "Collapsed": "false"
   },
   "outputs": [],
   "source": [
    "#print(\"tokens: \",len(tokens_multiple),\"  dimensions: \",len(tokens_multiple[0]))"
   ]
  },
  {
   "cell_type": "code",
   "execution_count": 41,
   "metadata": {
    "Collapsed": "false"
   },
   "outputs": [],
   "source": [
    "#len(all_tokens_multiple[0])"
   ]
  },
  {
   "cell_type": "code",
   "execution_count": 42,
   "metadata": {
    "Collapsed": "false"
   },
   "outputs": [],
   "source": [
    "#tsne_model = TSNE(perplexity=1.5, n_components=2, init='pca', n_iter=2500, random_state=23)\n",
    "#new_values = [tsne_model.fit_transform(tokens_multiple) for sequence in sequences]\n",
    "#new_values\n",
    "#np.array(new_values)"
   ]
  },
  {
   "cell_type": "code",
   "execution_count": 43,
   "metadata": {
    "Collapsed": "false"
   },
   "outputs": [],
   "source": [
    "#sequence_1 = tsne_model.fit_transform(tokens_multiple[:len(tokens_multiple[0])])\n",
    "#sequence_1"
   ]
  },
  {
   "cell_type": "code",
   "execution_count": 44,
   "metadata": {
    "Collapsed": "false"
   },
   "outputs": [],
   "source": [
    "#sequence_2 = tsne_model.fit_transform(tokens_multiple[len(tokens_multiple[0]):])\n",
    "#sequence_2"
   ]
  },
  {
   "cell_type": "code",
   "execution_count": 45,
   "metadata": {
    "Collapsed": "false"
   },
   "outputs": [
    {
     "data": {
      "text/plain": [
       "9"
      ]
     },
     "execution_count": 45,
     "metadata": {},
     "output_type": "execute_result"
    }
   ],
   "source": [
    "len(x[0])"
   ]
  },
  {
   "cell_type": "code",
   "execution_count": 46,
   "metadata": {
    "Collapsed": "false"
   },
   "outputs": [
    {
     "data": {
      "text/plain": [
       "range(0, 2)"
      ]
     },
     "execution_count": 46,
     "metadata": {},
     "output_type": "execute_result"
    }
   ],
   "source": [
    "range(len(sequences))"
   ]
  },
  {
   "cell_type": "code",
   "execution_count": 47,
   "metadata": {
    "Collapsed": "false"
   },
   "outputs": [
    {
     "data": {
      "image/png": "[encoded data removed]",
      "text/plain": [
       "<Figure size 504x432 with 1 Axes>"
      ]
     },
     "metadata": {
      "needs_background": "light"
     },
     "output_type": "display_data"
    }
   ],
   "source": [
    "#tsne_model = TSNE(perplexity=1.5, n_components=2, init='pca', n_iter=2500, random_state=23)\n",
    "#new_values = [tsne_model.fit_transform(tokens_multiple) for sequence in sequences]\n",
    "\n",
    "\n",
    "plt.figure(figsize=(7, 6)) \n",
    "for index in range(len(sequences)):\n",
    "    plt.scatter(x[index],y[index])\n",
    "    for i in range(len(x[index])):\n",
    "        plt.annotate(labels_multiple[i],\n",
    "                     xy=(x[index][i], y[index][i]),\n",
    "                     xytext=(5, 2),\n",
    "                     textcoords='offset points',\n",
    "                     ha='right',\n",
    "                     va='bottom')"
   ]
  },
  {
   "cell_type": "code",
   "execution_count": 48,
   "metadata": {
    "Collapsed": "false"
   },
   "outputs": [
    {
     "ename": "NameError",
     "evalue": "name 'tokens_multiple' is not defined",
     "output_type": "error",
     "traceback": [
      "\u001b[0;31m---------------------------------------------------------------------------\u001b[0m",
      "\u001b[0;31mNameError\u001b[0m                                 Traceback (most recent call last)",
      "\u001b[0;32m<ipython-input-48-1221207ceaf9>\u001b[0m in \u001b[0;36m<module>\u001b[0;34m\u001b[0m\n\u001b[0;32m----> 1\u001b[0;31m \u001b[0mplot_embeddings\u001b[0m\u001b[0;34m(\u001b[0m\u001b[0mtokens_multiple\u001b[0m\u001b[0;34m,\u001b[0m\u001b[0mlabels_multiple\u001b[0m\u001b[0;34m,\u001b[0m\u001b[0msequences\u001b[0m\u001b[0;34m)\u001b[0m\u001b[0;34m\u001b[0m\u001b[0;34m\u001b[0m\u001b[0m\n\u001b[0m",
      "\u001b[0;31mNameError\u001b[0m: name 'tokens_multiple' is not defined"
     ]
    }
   ],
   "source": [
    "plot_embeddings(tokens_multiple,labels_multiple,sequences)"
   ]
  },
  {
   "cell_type": "code",
   "execution_count": null,
   "metadata": {
    "Collapsed": "false"
   },
   "outputs": [],
   "source": []
  },
  {
   "cell_type": "code",
   "execution_count": null,
   "metadata": {
    "Collapsed": "false"
   },
   "outputs": [],
   "source": [
    "tsne_model = TSNE(perplexity=1.5, n_components=2, init='pca', n_iter=2500, random_state=23)\n",
    "new_values = tsne_model.fit_transform(tokens)\n",
    "\n",
    "x = new_values[:,0]\n",
    "y = new_values[:,1]\n",
    "\n",
    "start_next_sequence = int(len(tokens) / len(sequences))\n",
    "\n",
    "plt.figure(figsize=(7, 6)) \n",
    "plt.scatter(x[:start_next_sequence],y[:start_next_sequence])\n",
    "plt.scatter(x[start_next_sequence:],y[start_next_sequence:])\n",
    "\n",
    "for i in range(len(x)):\n",
    "    plt.annotate(labels[i],\n",
    "                 xy=(x[i], y[i]),\n",
    "                 xytext=(5, 2),\n",
    "                 textcoords='offset points',\n",
    "                 ha='right',\n",
    "                 va='bottom')"
   ]
  },
  {
   "cell_type": "markdown",
   "metadata": {
    "Collapsed": "false"
   },
   "source": [
    "#### PCA"
   ]
  },
  {
   "cell_type": "code",
   "execution_count": null,
   "metadata": {
    "Collapsed": "false"
   },
   "outputs": [],
   "source": []
  },
  {
   "cell_type": "code",
   "execution_count": null,
   "metadata": {
    "Collapsed": "false"
   },
   "outputs": [],
   "source": []
  },
  {
   "cell_type": "markdown",
   "metadata": {
    "Collapsed": "false"
   },
   "source": [
    "### Visualization"
   ]
  },
  {
   "cell_type": "code",
   "execution_count": null,
   "metadata": {
    "Collapsed": "false"
   },
   "outputs": [],
   "source": []
  },
  {
   "cell_type": "code",
   "execution_count": null,
   "metadata": {
    "Collapsed": "false"
   },
   "outputs": [],
   "source": []
  },
  {
   "cell_type": "code",
   "execution_count": null,
   "metadata": {
    "Collapsed": "false"
   },
   "outputs": [],
   "source": []
  }
 ],
 "metadata": {
  "kernelspec": {
   "display_name": "Python [conda env:env_multilingual_class]",
   "language": "python",
   "name": "conda-env-env_multilingual_class-py"
  },
  "language_info": {
   "codemirror_mode": {
    "name": "ipython",
    "version": 3
   },
   "file_extension": ".py",
   "mimetype": "text/x-python",
   "name": "python",
   "nbconvert_exporter": "python",
   "pygments_lexer": "ipython3",
   "version": "3.7.6"
  }
 },
 "nbformat": 4,
 "nbformat_minor": 4
}
