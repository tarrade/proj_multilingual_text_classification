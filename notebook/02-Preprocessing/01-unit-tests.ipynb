{
 "cells": [
  {
   "cell_type": "markdown",
   "metadata": {
    "Collapsed": "false"
   },
   "source": [
    "# Unit Tests"
   ]
  },
  {
   "cell_type": "code",
   "execution_count": 1,
   "metadata": {
    "Collapsed": "false"
   },
   "outputs": [
    {
     "name": "stdout",
     "output_type": "stream",
     "text": [
      "\u001b[1m============================= test session starts ==============================\u001b[0m\n",
      "platform linux -- Python 3.6.9, pytest-5.1.1, py-1.8.0, pluggy-0.13.1 -- /home/.conda-env/env_nlp_text_class/bin/python\n",
      "cachedir: .pytest_cache\n",
      "rootdir: /home/raphaelprinz92/proj_NLP_text_classification_with_GCP\n",
      "plugins: pylint-0.14.1, pylama-7.7.1\n",
      "collected 10 items                                                             \u001b[0m\u001b[1m\n",
      "\n",
      "../../src/preprocessing/test_dofn.py::test_decode_html[<p>As you are using this VHOST on port 8080. You need to mention in URL as below.</p><pre><code>http:/pizza.local:8080/ </code></pre>-As you are using this VHOST on port 8080. You need to mention in URL as below.-http:/pizza.local:8080/ ] \u001b[32mPASSED\u001b[0m\u001b[36m [ 10%]\u001b[0m\n",
      "../../src/preprocessing/test_dofn.py::test_decode_html[&lt;p>As you are using this VHOST on port 8080. You need to mention in URL as below.</p> <pre><code>http:/pizza.local:8080/ &lt;/code></pre>-As you are using this VHOST on port 8080. You need to mention in URL as below.-http:/pizza.local:8080/ ] \u001b[31mFAILED\u001b[0m\u001b[36m [ 20%]\u001b[0m\n",
      "../../src/preprocessing/test_dofn.py::test_decode_html[--] \u001b[32mPASSED\u001b[0m\u001b[36m        [ 30%]\u001b[0m\n",
      "../../src/preprocessing/test_dofn.py::test_remove_acctented_char[Jeder Mensch sollte eine Ausbildung geniessen d\\xfcrfen. Was meinst du, Ren\\xe9?-Jeder Mensch sollte eine Ausbildung geniessen durfen. Was meinst du, Rene?] \u001b[32mPASSED\u001b[0m\u001b[36m [ 40%]\u001b[0m\n",
      "../../src/preprocessing/test_dofn.py::test_remove_acctented_char[Jeder Mensch sollte eine Ausbildung geniessen d\\\\xc3\\\\xbcrfen. Was meinst du, Ren\\\\xc3\\\\xa9.-Jeder Mensch sollte eine Ausbildung geniessen d\\\\xc3\\\\xbcrfen. Was meinst du, Ren\\\\xc3\\\\xa9.] \u001b[32mPASSED\u001b[0m\u001b[36m [ 50%]\u001b[0m\n",
      "../../src/preprocessing/test_dofn.py::test_remove_acctented_char[-] \u001b[32mPASSED\u001b[0m\u001b[36m [ 60%]\u001b[0m\n",
      "../../src/preprocessing/test_dofn.py::test_lemmatization[Swift: Drag a UIView between two other UIViews-swift drag uiview uiview] \u001b[32mPASSED\u001b[0m\u001b[36m [ 70%]\u001b[0m\n",
      "../../src/preprocessing/test_dofn.py::test_lemmatization[-] \u001b[32mPASSED\u001b[0m\u001b[36m       [ 80%]\u001b[0m\n",
      "../../src/preprocessing/test_dofn.py::test_remove_punctuation['\\n    def calculator(x:str, y:list) ->int:\\n        multiplication=[x*element for element in y]\\n        return sum(multiplication)-def calculator str list int multiplication element for element in return sum multiplication] \u001b[32mPASSED\u001b[0m\u001b[36m [ 90%]\u001b[0m\n",
      "../../src/preprocessing/test_dofn.py::test_remove_punctuation[-] \u001b[32mPASSED\u001b[0m\u001b[36m  [100%]\u001b[0m\n",
      "\n",
      "\u001b[31m\u001b[1m========================= 1 failed, 9 passed in 1.17s ==========================\u001b[0m\n"
     ]
    }
   ],
   "source": [
    "! pytest ../../src/preprocessing/test_dofn.py -v --tb=no"
   ]
  },
  {
   "cell_type": "markdown",
   "metadata": {
    "Collapsed": "false"
   },
   "source": [
    "According to the documentation <a href='https://www.crummy.com/software/BeautifulSoup/bs4/doc/'>BeautifulSoup 4</a>, HTML entities should be converted to Unicode characters. Why does the unit test fail at this point? A list of HTML entities can be found here: https://www.freeformatter.com/html-entities.html"
   ]
  }
 ],
 "metadata": {
  "kernelspec": {
   "display_name": "Python [conda env:env_nlp_text_class]",
   "language": "python",
   "name": "conda-env-env_nlp_text_class-py"
  },
  "language_info": {
   "codemirror_mode": {
    "name": "ipython",
    "version": 3
   },
   "file_extension": ".py",
   "mimetype": "text/x-python",
   "name": "python",
   "nbconvert_exporter": "python",
   "pygments_lexer": "ipython3",
   "version": "3.6.9"
  }
 },
 "nbformat": 4,
 "nbformat_minor": 4
}
