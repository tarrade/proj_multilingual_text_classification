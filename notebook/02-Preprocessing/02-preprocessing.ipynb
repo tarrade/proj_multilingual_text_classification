{
 "cells": [
  {
   "cell_type": "markdown",
   "metadata": {
    "Collapsed": "false"
   },
   "source": [
    "# Environment"
   ]
  },
  {
   "cell_type": "code",
   "execution_count": 1,
   "metadata": {
    "Collapsed": "false"
   },
   "outputs": [],
   "source": [
    "import google.cloud.bigquery as bigquery, pandas as pd, matplotlib.pyplot as plt, seaborn as sns"
   ]
  },
  {
   "cell_type": "code",
   "execution_count": 2,
   "metadata": {
    "Collapsed": "false"
   },
   "outputs": [],
   "source": [
    "from astropy.visualization import hist as astro_hist"
   ]
  },
  {
   "cell_type": "code",
   "execution_count": 3,
   "metadata": {
    "Collapsed": "false"
   },
   "outputs": [],
   "source": [
    "sns.set()"
   ]
  },
  {
   "cell_type": "markdown",
   "metadata": {
    "Collapsed": "false"
   },
   "source": [
    "# Preprocessing"
   ]
  },
  {
   "cell_type": "code",
   "execution_count": 4,
   "metadata": {
    "Collapsed": "false"
   },
   "outputs": [],
   "source": [
    "#! python3 ../../src/preprocessing/preprocessing.py --runner DataflowRunner #DataFlow runner\n",
    "#! python3 ../../src/preprocessing/preprocessing.py #Direct runner"
   ]
  },
  {
   "cell_type": "markdown",
   "metadata": {
    "Collapsed": "false"
   },
   "source": [
    "# Data Visualization"
   ]
  },
  {
   "cell_type": "code",
   "execution_count": 5,
   "metadata": {
    "Collapsed": "false"
   },
   "outputs": [],
   "source": [
    "table = \"stackoverflow.posts_preprocessed_selection_subset\""
   ]
  },
  {
   "cell_type": "code",
   "execution_count": 6,
   "metadata": {
    "Collapsed": "false"
   },
   "outputs": [],
   "source": [
    "client = bigquery.Client()"
   ]
  },
  {
   "cell_type": "code",
   "execution_count": 7,
   "metadata": {
    "Collapsed": "false"
   },
   "outputs": [],
   "source": [
    "query = \"\"\"SELECT\n",
    " id, \n",
    " title, \n",
    " ARRAY_LENGTH(SPLIT(title, ' ')) as title_length, \n",
    " text_body, \n",
    " ARRAY_LENGTH(SPLIT(text_body, ' ')) as text_body_length,\n",
    " code_body,\n",
    " ARRAY_LENGTH(SPLIT(code_body, ' ')) as code_body_length,\n",
    " tags,\n",
    " ARRAY_LENGTH(tags) as tags_length\n",
    "FROM\n",
    "  {table}\"\"\".format(\n",
    "    table=table\n",
    ")"
   ]
  },
  {
   "cell_type": "code",
   "execution_count": 8,
   "metadata": {
    "Collapsed": "false"
   },
   "outputs": [],
   "source": [
    "df = client.query(query).to_dataframe()"
   ]
  },
  {
   "cell_type": "code",
   "execution_count": 9,
   "metadata": {
    "Collapsed": "false"
   },
   "outputs": [
    {
     "data": {
      "text/html": [
       "<div>\n",
       "<style scoped>\n",
       "    .dataframe tbody tr th:only-of-type {\n",
       "        vertical-align: middle;\n",
       "    }\n",
       "\n",
       "    .dataframe tbody tr th {\n",
       "        vertical-align: top;\n",
       "    }\n",
       "\n",
       "    .dataframe thead th {\n",
       "        text-align: right;\n",
       "    }\n",
       "</style>\n",
       "<table border=\"1\" class=\"dataframe\">\n",
       "  <thead>\n",
       "    <tr style=\"text-align: right;\">\n",
       "      <th></th>\n",
       "      <th>id</th>\n",
       "      <th>title</th>\n",
       "      <th>title_length</th>\n",
       "      <th>text_body</th>\n",
       "      <th>text_body_length</th>\n",
       "      <th>code_body</th>\n",
       "      <th>code_body_length</th>\n",
       "      <th>tags</th>\n",
       "      <th>tags_length</th>\n",
       "    </tr>\n",
       "  </thead>\n",
       "  <tbody>\n",
       "    <tr>\n",
       "      <td>0</td>\n",
       "      <td>18331585</td>\n",
       "      <td>struct</td>\n",
       "      <td>1</td>\n",
       "      <td>new elementary level question read source file...</td>\n",
       "      <td>18</td>\n",
       "      <td>struct globalargs int noindex char langcode co...</td>\n",
       "      <td>19</td>\n",
       "      <td>[c]</td>\n",
       "      <td>1</td>\n",
       "    </tr>\n",
       "    <tr>\n",
       "      <td>1</td>\n",
       "      <td>23085906</td>\n",
       "      <td>receive large negative number result read smal...</td>\n",
       "      <td>12</td>\n",
       "      <td>file name counts txt file hold single value nu...</td>\n",
       "      <td>19</td>\n",
       "      <td>include stdio include conio void main void fil...</td>\n",
       "      <td>24</td>\n",
       "      <td>[c]</td>\n",
       "      <td>1</td>\n",
       "    </tr>\n",
       "    <tr>\n",
       "      <td>2</td>\n",
       "      <td>17417688</td>\n",
       "      <td>mean</td>\n",
       "      <td>1</td>\n",
       "      <td>know hexadecimal representation ascii literal ...</td>\n",
       "      <td>7</td>\n",
       "      <td>printf x41 printf x41</td>\n",
       "      <td>4</td>\n",
       "      <td>[c]</td>\n",
       "      <td>1</td>\n",
       "    </tr>\n",
       "    <tr>\n",
       "      <td>3</td>\n",
       "      <td>4999267</td>\n",
       "      <td>asterisk</td>\n",
       "      <td>1</td>\n",
       "      <td>learn programming understand asterisk main met...</td>\n",
       "      <td>12</td>\n",
       "      <td>int main int argc char argv</td>\n",
       "      <td>6</td>\n",
       "      <td>[c]</td>\n",
       "      <td>1</td>\n",
       "    </tr>\n",
       "    <tr>\n",
       "      <td>4</td>\n",
       "      <td>8783890</td>\n",
       "      <td></td>\n",
       "      <td>1</td>\n",
       "      <td>possible duplicate unsigned temp mean try lear...</td>\n",
       "      <td>13</td>\n",
       "      <td>unsigned char iph ihl iph ver</td>\n",
       "      <td>6</td>\n",
       "      <td>[c]</td>\n",
       "      <td>1</td>\n",
       "    </tr>\n",
       "  </tbody>\n",
       "</table>\n",
       "</div>"
      ],
      "text/plain": [
       "         id                                              title  title_length  \\\n",
       "0  18331585                                             struct             1   \n",
       "1  23085906  receive large negative number result read smal...            12   \n",
       "2  17417688                                               mean             1   \n",
       "3   4999267                                           asterisk             1   \n",
       "4   8783890                                                                1   \n",
       "\n",
       "                                           text_body  text_body_length  \\\n",
       "0  new elementary level question read source file...                18   \n",
       "1  file name counts txt file hold single value nu...                19   \n",
       "2  know hexadecimal representation ascii literal ...                 7   \n",
       "3  learn programming understand asterisk main met...                12   \n",
       "4  possible duplicate unsigned temp mean try lear...                13   \n",
       "\n",
       "                                           code_body  code_body_length tags  \\\n",
       "0  struct globalargs int noindex char langcode co...                19  [c]   \n",
       "1  include stdio include conio void main void fil...                24  [c]   \n",
       "2                              printf x41 printf x41                 4  [c]   \n",
       "3                        int main int argc char argv                 6  [c]   \n",
       "4                      unsigned char iph ihl iph ver                 6  [c]   \n",
       "\n",
       "   tags_length  \n",
       "0            1  \n",
       "1            1  \n",
       "2            1  \n",
       "3            1  \n",
       "4            1  "
      ]
     },
     "execution_count": 9,
     "metadata": {},
     "output_type": "execute_result"
    }
   ],
   "source": [
    "df.head()"
   ]
  },
  {
   "cell_type": "markdown",
   "metadata": {
    "Collapsed": "false"
   },
   "source": [
    "## Title"
   ]
  },
  {
   "cell_type": "code",
   "execution_count": 10,
   "metadata": {
    "Collapsed": "false"
   },
   "outputs": [
    {
     "name": "stderr",
     "output_type": "stream",
     "text": [
      "WARNING: p0 does not seem to accurately represent the false positive rate for event data. It is highly recommended that you run random trials on signal-free noise to calibrate ncp_prior to achieve a desired false positive rate. [astropy.stats.bayesian_blocks]\n"
     ]
    },
    {
     "data": {
      "image/png": "[encoded data removed]",
      "text/plain": [
       "<Figure size 1080x360 with 1 Axes>"
      ]
     },
     "metadata": {},
     "output_type": "display_data"
    }
   ],
   "source": [
    "fig, ax = plt.subplots(1, 1, figsize=(15, 5))\n",
    "\n",
    "astro_hist(df[\"title_length\"], bins=\"blocks\", histtype=\"stepfilled\")\n",
    "\n",
    "ax.set(xlabel='Title Length (Words)', \n",
    "       ylabel='Relative Frequency', \n",
    "       title='Distibution of the Title Length', \n",
    "       xlim=[0, 20],\n",
    "       ylim=[0, 25000],\n",
    "      xticks=range(0, 21, 5));"
   ]
  },
  {
   "cell_type": "markdown",
   "metadata": {
    "Collapsed": "false"
   },
   "source": [
    "## Text"
   ]
  },
  {
   "cell_type": "code",
   "execution_count": 11,
   "metadata": {
    "Collapsed": "false"
   },
   "outputs": [
    {
     "data": {
      "image/png": "[encoded data removed]",
      "text/plain": [
       "<Figure size 1080x360 with 1 Axes>"
      ]
     },
     "metadata": {},
     "output_type": "display_data"
    }
   ],
   "source": [
    "fig, ax = plt.subplots(1, 1, figsize=(15, 5))\n",
    "\n",
    "astro_hist(df[\"text_body_length\"], bins=\"blocks\", histtype=\"stepfilled\");\n",
    "\n",
    "ax.set(xlabel='Text Length (Words)', \n",
    "       ylabel='Relative Frequency', \n",
    "       title='Distibution of the Text Length', \n",
    "       xlim=[0, 500],\n",
    "       ylim=[0, 14000]);"
   ]
  },
  {
   "cell_type": "markdown",
   "metadata": {
    "Collapsed": "false"
   },
   "source": [
    "## Code"
   ]
  },
  {
   "cell_type": "code",
   "execution_count": 12,
   "metadata": {
    "Collapsed": "false"
   },
   "outputs": [
    {
     "data": {
      "image/png": "[encoded data removed]",
      "text/plain": [
       "<Figure size 1080x360 with 1 Axes>"
      ]
     },
     "metadata": {},
     "output_type": "display_data"
    }
   ],
   "source": [
    "fig, ax = plt.subplots(1, 1, figsize=(15, 5))\n",
    "\n",
    "astro_hist(df['code_body_length'], \n",
    "           bins='blocks', \n",
    "           histtype='stepfilled');\n",
    "ax.set(xlabel='Code Length (Words)', \n",
    "       ylabel='Relative Frequency', \n",
    "       title='Distibution of the Code Length',\n",
    "       xlim=[0, 2000],\n",
    "       ylim=[0, 7000]);"
   ]
  },
  {
   "cell_type": "markdown",
   "metadata": {
    "Collapsed": "false"
   },
   "source": [
    "## Tags"
   ]
  },
  {
   "cell_type": "code",
   "execution_count": 13,
   "metadata": {
    "Collapsed": "false"
   },
   "outputs": [
    {
     "data": {
      "image/png": "[encoded data removed]",
      "text/plain": [
       "<Figure size 1080x360 with 1 Axes>"
      ]
     },
     "metadata": {},
     "output_type": "display_data"
    }
   ],
   "source": [
    "fig, ax = plt.subplots(1, 1, figsize=(15, 5))\n",
    "\n",
    "plt.hist(df['tags_length'], weights=np.zeros_like(df['tags_length']) + 1. / df['tags_length'].size);\n",
    "ax.set(xlabel='Number of Tags per Post', \n",
    "       ylabel='Relative Frequency', \n",
    "       title='Distibution of Tags',\n",
    "       xlim=[0.95,5.05],\n",
    "       xticks=range(1,6));"
   ]
  }
 ],
 "metadata": {
  "kernelspec": {
   "display_name": "Python [conda env:env_nlp_text_class]",
   "language": "python",
   "name": "conda-env-env_nlp_text_class-py"
  },
  "language_info": {
   "codemirror_mode": {
    "name": "ipython",
    "version": 3
   },
   "file_extension": ".py",
   "mimetype": "text/x-python",
   "name": "python",
   "nbconvert_exporter": "python",
   "pygments_lexer": "ipython3",
   "version": "3.6.9"
  }
 },
 "nbformat": 4,
 "nbformat_minor": 4
}
